{
 "cells": [
  {
   "cell_type": "code",
   "execution_count": null,
   "metadata": {},
   "outputs": [],
   "source": [
    "import pandas as pd\n",
    "import numpy as np\n",
    "import seaborn as sns\n",
    "import matplotlib.pyplot as plt\n",
    "import matplotlib.style as style\n",
    "style.use('seaborn-whitegrid')\n",
    "%matplotlib inline\n",
    "import pickle\n",
    "from collections import defaultdict\n",
    "pd.set_option('max_rows', 10)\n",
    "pd.set_option('max_colwidth', -1)\n",
    "pd.set_option('display.width', 150)\n",
    "import warnings\n",
    "# warnings.filterwarnings('ignore')\n",
    "%config InlineBackend.figure_format = 'svg'\n",
    "%xmode\n",
    "\n",
    "new_command(3.14)\n",
    "other_new_code_on_new_line('with a string!')\n",
    "stringy(\"if you need them, escape double quotes with a single backslash\")\n",
    "backslashy('This \\ appears as just one backslash in the output')\n",
    "backslashy2('Here \\\\ are two backslashes')"
   ]
  }
 ],
 "metadata": {
  "kernelspec": {
   "display_name": "Python 3",
   "language": "python",
   "name": "python3"
  },
  "language_info": {
   "codemirror_mode": {
    "name": "ipython",
    "version": 3
   },
   "file_extension": ".py",
   "mimetype": "text/x-python",
   "name": "python",
   "nbconvert_exporter": "python",
   "pygments_lexer": "ipython3",
   "version": "3.6.6"
  },
  "varInspector": {
   "cols": {
    "lenName": 16,
    "lenType": 16,
    "lenVar": 40
   },
   "kernels_config": {
    "python": {
     "delete_cmd_postfix": "",
     "delete_cmd_prefix": "del ",
     "library": "var_list.py",
     "varRefreshCmd": "print(var_dic_list())"
    },
    "r": {
     "delete_cmd_postfix": ") ",
     "delete_cmd_prefix": "rm(",
     "library": "var_list.r",
     "varRefreshCmd": "cat(var_dic_list()) "
    }
   },
   "types_to_exclude": [
    "module",
    "function",
    "builtin_function_or_method",
    "instance",
    "_Feature"
   ],
   "window_display": false
  }
 },
 "nbformat": 4,
 "nbformat_minor": 2
}
