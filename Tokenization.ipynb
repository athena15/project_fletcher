{
 "cells": [
  {
   "cell_type": "code",
   "execution_count": 1,
   "metadata": {},
   "outputs": [],
   "source": [
    "import pandas as pd\n",
    "import numpy as np\n",
    "import datetime as dt\n",
    "import seaborn as sns\n",
    "import matplotlib.pyplot as plt\n",
    "import matplotlib.dates as mdates\n",
    "%matplotlib inline\n",
    "\n",
    "import matplotlib.style as style\n",
    "style.use('seaborn-whitegrid')\n",
    "\n",
    "import os\n",
    "import pprint\n",
    "# import googlemaps\n",
    "# import time\n",
    "import pickle\n",
    "from random import randint\n",
    "from collections import defaultdict, Counter\n",
    "\n",
    "from sklearn.linear_model import LinearRegression\n",
    "from sklearn.model_selection import train_test_split, KFold\n",
    "from sklearn.linear_model import RidgeCV\n",
    "from sklearn.pipeline import make_pipeline\n",
    "from sklearn.preprocessing import PolynomialFeatures\n",
    "from sklearn.preprocessing import StandardScaler\n",
    "from sklearn.metrics import mean_squared_error"
   ]
  },
  {
   "cell_type": "code",
   "execution_count": 2,
   "metadata": {},
   "outputs": [],
   "source": [
    "from sklearn.feature_extraction.text import TfidfVectorizer, CountVectorizer\n",
    "from sklearn.decomposition import NMF, LatentDirichletAllocation\n",
    "from sklearn.feature_extraction.text import TfidfVectorizer \n",
    "from sklearn.naive_bayes import MultinomialNB\n",
    "from sklearn.cluster import KMeans, MiniBatchKMeans\n",
    "\n",
    "import nltk\n",
    "from nltk.tokenize import word_tokenize, sent_tokenize, TreebankWordTokenizer, wordpunct_tokenize\n",
    "from nltk.tag import pos_tag\n",
    "from nltk.chunk import ne_chunk\n",
    "from nltk.util import ngrams\n",
    "from nltk.corpus import stopwords\n",
    "\n",
    "from textblob import TextBlob\n",
    "\n",
    "import string\n",
    "\n"
   ]
  },
  {
   "cell_type": "code",
   "execution_count": 3,
   "metadata": {},
   "outputs": [],
   "source": [
    "import pyLDAvis\n",
    "import pyLDAvis.sklearn\n",
    "pyLDAvis.enable_notebook()"
   ]
  },
  {
   "cell_type": "code",
   "execution_count": 51,
   "metadata": {},
   "outputs": [],
   "source": [
    "# Set pandas options\n",
    "pd.set_option('max_rows', 10)\n",
    "# pd.set_option('max_colwidth', -1)\n",
    "# pd.set_option('display.width', 150)\n",
    "pd.set_option('display.max_rows', 10)\n",
    "pd.set_option('display.max_columns', None)"
   ]
  },
  {
   "cell_type": "markdown",
   "metadata": {},
   "source": [
    "**Add stopwords to NLTK**"
   ]
  },
  {
   "cell_type": "code",
   "execution_count": 33,
   "metadata": {},
   "outputs": [],
   "source": [
    "# Add to stopwords\n",
    "stopwords = nltk.corpus.stopwords.words('english')\n",
    "new_stop_words = ['portland', 'oregon', 'Portland', 'Oregon', 'house', 'home', 'apartment']\n",
    "stopwords.extend(new_stop_words)"
   ]
  },
  {
   "cell_type": "markdown",
   "metadata": {},
   "source": [
    "**Load the relevant data file**"
   ]
  },
  {
   "cell_type": "code",
   "execution_count": 11,
   "metadata": {},
   "outputs": [],
   "source": [
    "# df = pd.read_csv('data/portland_reviews.csv', index_col=None)\n",
    "\n",
    "df = pd.read_csv('data/cleaned_reviews.csv', index_col='Unnamed: 0')\n",
    "mini_df = pd.read_csv('data/mini_reviews_df.csv', index_col='Unnamed: 0')\n",
    "# df = pd.read_csv('data/listing_descriptions.csv', index_col=0)\n",
    "# df = pd.read_csv('data/cleaned_df.csv', index_col=None)"
   ]
  },
  {
   "cell_type": "code",
   "execution_count": 15,
   "metadata": {},
   "outputs": [
    {
     "data": {
      "text/html": [
       "<div>\n",
       "<style scoped>\n",
       "    .dataframe tbody tr th:only-of-type {\n",
       "        vertical-align: middle;\n",
       "    }\n",
       "\n",
       "    .dataframe tbody tr th {\n",
       "        vertical-align: top;\n",
       "    }\n",
       "\n",
       "    .dataframe thead th {\n",
       "        text-align: right;\n",
       "    }\n",
       "</style>\n",
       "<table border=\"1\" class=\"dataframe\">\n",
       "  <thead>\n",
       "    <tr style=\"text-align: right;\">\n",
       "      <th></th>\n",
       "      <th>listing_id</th>\n",
       "      <th>id</th>\n",
       "      <th>date</th>\n",
       "      <th>reviewer_id</th>\n",
       "      <th>reviewer_name</th>\n",
       "      <th>comments</th>\n",
       "      <th>reviews_cleaned_str</th>\n",
       "      <th>polarity</th>\n",
       "      <th>subjectivity</th>\n",
       "      <th>review_length</th>\n",
       "      <th>cleaned_comments</th>\n",
       "      <th>num_sentences</th>\n",
       "      <th>comment_words_only</th>\n",
       "      <th>individual_words</th>\n",
       "      <th>word_count</th>\n",
       "      <th>average_word_length</th>\n",
       "      <th>most_frequent_words</th>\n",
       "    </tr>\n",
       "  </thead>\n",
       "  <tbody>\n",
       "    <tr>\n",
       "      <th>0</th>\n",
       "      <td>7893</td>\n",
       "      <td>27282</td>\n",
       "      <td>2010-02-22</td>\n",
       "      <td>52074</td>\n",
       "      <td>Shaun</td>\n",
       "      <td>Couldn't possibly had a better experience with...</td>\n",
       "      <td>couldnt possibl better experi trip would give ...</td>\n",
       "      <td>0.275000</td>\n",
       "      <td>0.650000</td>\n",
       "      <td>158</td>\n",
       "      <td>couldnt possibly better experience trip would ...</td>\n",
       "      <td>3</td>\n",
       "      <td>couldnt possibly had a better experience with ...</td>\n",
       "      <td>['couldnt', 'possibly', 'had', 'a', 'better', ...</td>\n",
       "      <td>29</td>\n",
       "      <td>4.241379</td>\n",
       "      <td>[]</td>\n",
       "    </tr>\n",
       "    <tr>\n",
       "      <th>1</th>\n",
       "      <td>7893</td>\n",
       "      <td>17461247</td>\n",
       "      <td>2014-08-12</td>\n",
       "      <td>13284006</td>\n",
       "      <td>Jessica</td>\n",
       "      <td>Jesse's place was really wonderful! The apartm...</td>\n",
       "      <td>jess place realli wonder apart locat block awa...</td>\n",
       "      <td>0.275463</td>\n",
       "      <td>0.601852</td>\n",
       "      <td>670</td>\n",
       "      <td>jesses place really wonderful apartment locate...</td>\n",
       "      <td>10</td>\n",
       "      <td>jesses place was really wonderful the apartmen...</td>\n",
       "      <td>['jesses', 'place', 'was', 'really', 'wonderfu...</td>\n",
       "      <td>119</td>\n",
       "      <td>4.436975</td>\n",
       "      <td>[('place', 2), ('really', 2), ('apartment', 2)]</td>\n",
       "    </tr>\n",
       "  </tbody>\n",
       "</table>\n",
       "</div>"
      ],
      "text/plain": [
       "   listing_id        id        date  reviewer_id reviewer_name  \\\n",
       "0        7893     27282  2010-02-22        52074         Shaun   \n",
       "1        7893  17461247  2014-08-12     13284006       Jessica   \n",
       "\n",
       "                                            comments  \\\n",
       "0  Couldn't possibly had a better experience with...   \n",
       "1  Jesse's place was really wonderful! The apartm...   \n",
       "\n",
       "                                 reviews_cleaned_str  polarity  subjectivity  \\\n",
       "0  couldnt possibl better experi trip would give ...  0.275000      0.650000   \n",
       "1  jess place realli wonder apart locat block awa...  0.275463      0.601852   \n",
       "\n",
       "   review_length                                   cleaned_comments  \\\n",
       "0            158  couldnt possibly better experience trip would ...   \n",
       "1            670  jesses place really wonderful apartment locate...   \n",
       "\n",
       "   num_sentences                                 comment_words_only  \\\n",
       "0              3  couldnt possibly had a better experience with ...   \n",
       "1             10  jesses place was really wonderful the apartmen...   \n",
       "\n",
       "                                    individual_words  word_count  \\\n",
       "0  ['couldnt', 'possibly', 'had', 'a', 'better', ...          29   \n",
       "1  ['jesses', 'place', 'was', 'really', 'wonderfu...         119   \n",
       "\n",
       "   average_word_length                              most_frequent_words  \n",
       "0             4.241379                                               []  \n",
       "1             4.436975  [('place', 2), ('really', 2), ('apartment', 2)]  "
      ]
     },
     "execution_count": 15,
     "metadata": {},
     "output_type": "execute_result"
    }
   ],
   "source": [
    "df.head(2)"
   ]
  },
  {
   "cell_type": "code",
   "execution_count": 265,
   "metadata": {},
   "outputs": [
    {
     "data": {
      "text/plain": [
       "\"Located on Williams bike corridor, some of Portland's best restaurants, bars and coffee shops are within a 5min drive and downtown is only 10min away.  Also features a wrap around patio with a covered awning to stay dry during the rainy season.\""
      ]
     },
     "execution_count": 265,
     "metadata": {},
     "output_type": "execute_result"
    }
   ],
   "source": [
    "summaries[0]"
   ]
  },
  {
   "cell_type": "code",
   "execution_count": 77,
   "metadata": {},
   "outputs": [
    {
     "data": {
      "text/html": [
       "<div>\n",
       "<style scoped>\n",
       "    .dataframe tbody tr th:only-of-type {\n",
       "        vertical-align: middle;\n",
       "    }\n",
       "\n",
       "    .dataframe tbody tr th {\n",
       "        vertical-align: top;\n",
       "    }\n",
       "\n",
       "    .dataframe thead th {\n",
       "        text-align: right;\n",
       "    }\n",
       "</style>\n",
       "<table border=\"1\" class=\"dataframe\">\n",
       "  <thead>\n",
       "    <tr style=\"text-align: right;\">\n",
       "      <th></th>\n",
       "      <th>id</th>\n",
       "      <th>host_id</th>\n",
       "      <th>summary</th>\n",
       "      <th>space</th>\n",
       "      <th>description</th>\n",
       "      <th>neighborhood_overview</th>\n",
       "      <th>notes</th>\n",
       "      <th>host_about</th>\n",
       "    </tr>\n",
       "  </thead>\n",
       "  <tbody>\n",
       "    <tr>\n",
       "      <th>0</th>\n",
       "      <td>7893</td>\n",
       "      <td>21489</td>\n",
       "      <td>Located on Williams bike corridor, some of Por...</td>\n",
       "      <td>This NE Portland 2 bedroom home is located jus...</td>\n",
       "      <td>Located on Williams bike corridor, some of Por...</td>\n",
       "      <td>NaN</td>\n",
       "      <td>NaN</td>\n",
       "      <td>I love to cook, sail and play the mandolin ver...</td>\n",
       "    </tr>\n",
       "    <tr>\n",
       "      <th>1</th>\n",
       "      <td>12899</td>\n",
       "      <td>49682</td>\n",
       "      <td>Settle in to a space of your own. You'll have ...</td>\n",
       "      <td>We live in a neighborhood of beautiful gardens...</td>\n",
       "      <td>Settle in to a space of your own. You'll have ...</td>\n",
       "      <td>We're within walking distance of a grocery and...</td>\n",
       "      <td>We welcome musicians and even have a guitar fo...</td>\n",
       "      <td>We enjoy cooking, singing, hiking, bicycles, t...</td>\n",
       "    </tr>\n",
       "  </tbody>\n",
       "</table>\n",
       "</div>"
      ],
      "text/plain": [
       "      id  host_id                                            summary  \\\n",
       "0   7893    21489  Located on Williams bike corridor, some of Por...   \n",
       "1  12899    49682  Settle in to a space of your own. You'll have ...   \n",
       "\n",
       "                                               space  \\\n",
       "0  This NE Portland 2 bedroom home is located jus...   \n",
       "1  We live in a neighborhood of beautiful gardens...   \n",
       "\n",
       "                                         description  \\\n",
       "0  Located on Williams bike corridor, some of Por...   \n",
       "1  Settle in to a space of your own. You'll have ...   \n",
       "\n",
       "                               neighborhood_overview  \\\n",
       "0                                                NaN   \n",
       "1  We're within walking distance of a grocery and...   \n",
       "\n",
       "                                               notes  \\\n",
       "0                                                NaN   \n",
       "1  We welcome musicians and even have a guitar fo...   \n",
       "\n",
       "                                          host_about  \n",
       "0  I love to cook, sail and play the mandolin ver...  \n",
       "1  We enjoy cooking, singing, hiking, bicycles, t...  "
      ]
     },
     "execution_count": 77,
     "metadata": {},
     "output_type": "execute_result"
    }
   ],
   "source": [
    "df.head(2)"
   ]
  },
  {
   "cell_type": "code",
   "execution_count": 81,
   "metadata": {},
   "outputs": [
    {
     "data": {
      "text/plain": [
       "Index(['id', 'host_id', 'summary', 'space', 'description',\n",
       "       'neighborhood_overview', 'notes', 'host_about'],\n",
       "      dtype='object')"
      ]
     },
     "execution_count": 81,
     "metadata": {},
     "output_type": "execute_result"
    }
   ],
   "source": [
    "df.columns"
   ]
  },
  {
   "cell_type": "code",
   "execution_count": 92,
   "metadata": {},
   "outputs": [
    {
     "data": {
      "text/html": [
       "<div>\n",
       "<style scoped>\n",
       "    .dataframe tbody tr th:only-of-type {\n",
       "        vertical-align: middle;\n",
       "    }\n",
       "\n",
       "    .dataframe tbody tr th {\n",
       "        vertical-align: top;\n",
       "    }\n",
       "\n",
       "    .dataframe thead th {\n",
       "        text-align: right;\n",
       "    }\n",
       "</style>\n",
       "<table border=\"1\" class=\"dataframe\">\n",
       "  <thead>\n",
       "    <tr style=\"text-align: right;\">\n",
       "      <th></th>\n",
       "      <th>id</th>\n",
       "      <th>host_id</th>\n",
       "      <th>summary</th>\n",
       "      <th>space</th>\n",
       "      <th>description</th>\n",
       "      <th>neighborhood_overview</th>\n",
       "      <th>notes</th>\n",
       "      <th>host_about</th>\n",
       "    </tr>\n",
       "  </thead>\n",
       "  <tbody>\n",
       "    <tr>\n",
       "      <th>0</th>\n",
       "      <td>7893</td>\n",
       "      <td>21489</td>\n",
       "      <td>Located on Williams bike corridor, some of Por...</td>\n",
       "      <td>This NE Portland 2 bedroom home is located jus...</td>\n",
       "      <td>Located on Williams bike corridor, some of Por...</td>\n",
       "      <td></td>\n",
       "      <td></td>\n",
       "      <td>I love to cook, sail and play the mandolin ver...</td>\n",
       "    </tr>\n",
       "    <tr>\n",
       "      <th>1</th>\n",
       "      <td>12899</td>\n",
       "      <td>49682</td>\n",
       "      <td>Settle in to a space of your own. You'll have ...</td>\n",
       "      <td>We live in a neighborhood of beautiful gardens...</td>\n",
       "      <td>Settle in to a space of your own. You'll have ...</td>\n",
       "      <td>We're within walking distance of a grocery and...</td>\n",
       "      <td>We welcome musicians and even have a guitar fo...</td>\n",
       "      <td>We enjoy cooking, singing, hiking, bicycles, t...</td>\n",
       "    </tr>\n",
       "  </tbody>\n",
       "</table>\n",
       "</div>"
      ],
      "text/plain": [
       "      id  host_id                                            summary  \\\n",
       "0   7893    21489  Located on Williams bike corridor, some of Por...   \n",
       "1  12899    49682  Settle in to a space of your own. You'll have ...   \n",
       "\n",
       "                                               space  \\\n",
       "0  This NE Portland 2 bedroom home is located jus...   \n",
       "1  We live in a neighborhood of beautiful gardens...   \n",
       "\n",
       "                                         description  \\\n",
       "0  Located on Williams bike corridor, some of Por...   \n",
       "1  Settle in to a space of your own. You'll have ...   \n",
       "\n",
       "                               neighborhood_overview  \\\n",
       "0                                                      \n",
       "1  We're within walking distance of a grocery and...   \n",
       "\n",
       "                                               notes  \\\n",
       "0                                                      \n",
       "1  We welcome musicians and even have a guitar fo...   \n",
       "\n",
       "                                          host_about  \n",
       "0  I love to cook, sail and play the mandolin ver...  \n",
       "1  We enjoy cooking, singing, hiking, bicycles, t...  "
      ]
     },
     "execution_count": 92,
     "metadata": {},
     "output_type": "execute_result"
    }
   ],
   "source": [
    "# Fill NaNs with empty strings\n",
    "for col in ['summary', 'space', 'description', 'neighborhood_overview', 'notes', 'host_about']:\n",
    "    df[col].fillna('', inplace=True)\n",
    "\n",
    "\n",
    "# Make sure there are not any null values remaining\n",
    "df.head(2)"
   ]
  },
  {
   "cell_type": "code",
   "execution_count": 244,
   "metadata": {},
   "outputs": [
    {
     "data": {
      "text/plain": [
       "pandas.core.series.Series"
      ]
     },
     "execution_count": 244,
     "metadata": {},
     "output_type": "execute_result"
    }
   ],
   "source": [
    "descriptions = df['description']\n",
    "about_host_text = df['host_about']\n",
    "summaries = df['summary']\n",
    "type(summaries)"
   ]
  },
  {
   "cell_type": "markdown",
   "metadata": {},
   "source": [
    "#### Remove punctuation, make lowercase, etc."
   ]
  },
  {
   "cell_type": "code",
   "execution_count": 163,
   "metadata": {},
   "outputs": [],
   "source": [
    "# Make lower case\n",
    "summaries = summaries.apply(lambda x: x.lower())\n",
    "\n"
   ]
  },
  {
   "cell_type": "code",
   "execution_count": 164,
   "metadata": {},
   "outputs": [],
   "source": [
    "summaries = pd.DataFrame(summaries)"
   ]
  },
  {
   "cell_type": "code",
   "execution_count": 165,
   "metadata": {},
   "outputs": [],
   "source": [
    "# Remove punctuation\n",
    "summaries['nopunc'] = summaries['summary'].str.replace('[^\\w\\s]','')"
   ]
  },
  {
   "cell_type": "code",
   "execution_count": 166,
   "metadata": {},
   "outputs": [
    {
     "data": {
      "text/html": [
       "<div>\n",
       "<style scoped>\n",
       "    .dataframe tbody tr th:only-of-type {\n",
       "        vertical-align: middle;\n",
       "    }\n",
       "\n",
       "    .dataframe tbody tr th {\n",
       "        vertical-align: top;\n",
       "    }\n",
       "\n",
       "    .dataframe thead th {\n",
       "        text-align: right;\n",
       "    }\n",
       "</style>\n",
       "<table border=\"1\" class=\"dataframe\">\n",
       "  <thead>\n",
       "    <tr style=\"text-align: right;\">\n",
       "      <th></th>\n",
       "      <th>summary</th>\n",
       "      <th>nopunc</th>\n",
       "    </tr>\n",
       "  </thead>\n",
       "  <tbody>\n",
       "    <tr>\n",
       "      <th>0</th>\n",
       "      <td>located on williams bike corridor, some of por...</td>\n",
       "      <td>located on williams bike corridor some of port...</td>\n",
       "    </tr>\n",
       "    <tr>\n",
       "      <th>1</th>\n",
       "      <td>settle in to a space of your own. you'll have ...</td>\n",
       "      <td>settle in to a space of your own youll have 2 ...</td>\n",
       "    </tr>\n",
       "    <tr>\n",
       "      <th>2</th>\n",
       "      <td>newly remodeled 2 bedroom (3 queen beds), 2 fu...</td>\n",
       "      <td>newly remodeled 2 bedroom 3 queen beds 2 full ...</td>\n",
       "    </tr>\n",
       "    <tr>\n",
       "      <th>3</th>\n",
       "      <td>if you are an urban farming pioneer, enthusias...</td>\n",
       "      <td>if you are an urban farming pioneer enthusiast...</td>\n",
       "    </tr>\n",
       "    <tr>\n",
       "      <th>4</th>\n",
       "      <td>if you are an urban farming pioneer, enthusias...</td>\n",
       "      <td>if you are an urban farming pioneer enthusiast...</td>\n",
       "    </tr>\n",
       "    <tr>\n",
       "      <th>...</th>\n",
       "      <td>...</td>\n",
       "      <td>...</td>\n",
       "    </tr>\n",
       "    <tr>\n",
       "      <th>5400</th>\n",
       "      <td>moderate sized room with north garden and east...</td>\n",
       "      <td>moderate sized room with north garden and east...</td>\n",
       "    </tr>\n",
       "    <tr>\n",
       "      <th>5401</th>\n",
       "      <td>modern portland home with mid-century charm! t...</td>\n",
       "      <td>modern portland home with midcentury charm thi...</td>\n",
       "    </tr>\n",
       "    <tr>\n",
       "      <th>5402</th>\n",
       "      <td>1 bed 1 bath apartment living in ultra posh do...</td>\n",
       "      <td>1 bed 1 bath apartment living in ultra posh do...</td>\n",
       "    </tr>\n",
       "    <tr>\n",
       "      <th>5403</th>\n",
       "      <td>this is a cozy basement studio nestled on the ...</td>\n",
       "      <td>this is a cozy basement studio nestled on the ...</td>\n",
       "    </tr>\n",
       "    <tr>\n",
       "      <th>5404</th>\n",
       "      <td>cozy camper space with access to a hip house a...</td>\n",
       "      <td>cozy camper space with access to a hip house a...</td>\n",
       "    </tr>\n",
       "  </tbody>\n",
       "</table>\n",
       "<p>5405 rows × 2 columns</p>\n",
       "</div>"
      ],
      "text/plain": [
       "                                                summary  \\\n",
       "0     located on williams bike corridor, some of por...   \n",
       "1     settle in to a space of your own. you'll have ...   \n",
       "2     newly remodeled 2 bedroom (3 queen beds), 2 fu...   \n",
       "3     if you are an urban farming pioneer, enthusias...   \n",
       "4     if you are an urban farming pioneer, enthusias...   \n",
       "...                                                 ...   \n",
       "5400  moderate sized room with north garden and east...   \n",
       "5401  modern portland home with mid-century charm! t...   \n",
       "5402  1 bed 1 bath apartment living in ultra posh do...   \n",
       "5403  this is a cozy basement studio nestled on the ...   \n",
       "5404  cozy camper space with access to a hip house a...   \n",
       "\n",
       "                                                 nopunc  \n",
       "0     located on williams bike corridor some of port...  \n",
       "1     settle in to a space of your own youll have 2 ...  \n",
       "2     newly remodeled 2 bedroom 3 queen beds 2 full ...  \n",
       "3     if you are an urban farming pioneer enthusiast...  \n",
       "4     if you are an urban farming pioneer enthusiast...  \n",
       "...                                                 ...  \n",
       "5400  moderate sized room with north garden and east...  \n",
       "5401  modern portland home with midcentury charm thi...  \n",
       "5402  1 bed 1 bath apartment living in ultra posh do...  \n",
       "5403  this is a cozy basement studio nestled on the ...  \n",
       "5404  cozy camper space with access to a hip house a...  \n",
       "\n",
       "[5405 rows x 2 columns]"
      ]
     },
     "execution_count": 166,
     "metadata": {},
     "output_type": "execute_result"
    }
   ],
   "source": [
    "summaries"
   ]
  },
  {
   "cell_type": "code",
   "execution_count": null,
   "metadata": {},
   "outputs": [],
   "source": [
    "# Tokenize by sentence\n",
    "summaries['sent_tokenize'] = summaries['nopunc'].apply(lambda x: sent_tokenize(x))"
   ]
  },
  {
   "cell_type": "code",
   "execution_count": 153,
   "metadata": {},
   "outputs": [],
   "source": [
    "# Tokenize by word\n",
    "tokenizer = TreebankWordTokenizer()\n",
    "summaries['word_tok'] = summaries['sent_tok'].apply(lambda x: [tokenizer.tokenize(y) for y in x])"
   ]
  },
  {
   "cell_type": "code",
   "execution_count": null,
   "metadata": {},
   "outputs": [],
   "source": []
  },
  {
   "cell_type": "code",
   "execution_count": null,
   "metadata": {},
   "outputs": [],
   "source": [
    "def get_count(item):\n",
    "    return item[1]\n",
    "\n",
    "for word, count in sorted(gatsby.word_counts.items(), key=get_count, reverse=True):\n",
    "    print(\"%15s %i\" % (word, count))"
   ]
  },
  {
   "cell_type": "markdown",
   "metadata": {},
   "source": [
    "#### Feature Engineering - Polarity, subjectivity, length, sentence length, most frequent words"
   ]
  },
  {
   "cell_type": "code",
   "execution_count": 407,
   "metadata": {},
   "outputs": [],
   "source": [
    "def get_sentiment(text):\n",
    "    return TextBlob(text).sentiment[0]\n",
    "\n",
    "def get_subjectivity(text):\n",
    "    return TextBlob(text).sentiment[1]"
   ]
  },
  {
   "cell_type": "code",
   "execution_count": 810,
   "metadata": {},
   "outputs": [],
   "source": [
    "df['polarity'] = df['comments'].apply(get_sentiment)\n",
    "df['subjectivity'] = df['comments'].apply(get_subjectivity)\n",
    "\n",
    "# Create column with character length of review\n",
    "df['review_length'] = df['comments'].apply(len)\n",
    "\n",
    "# Create column with the number of sentences per review\n",
    "df['num_sentences'] = df['comments'].apply(lambda x: len(sent_tokenize(x)))\n",
    "\n",
    "df['comment_words_only'] = df['comments'].apply(lambda x: re.sub('[^A-Za-z ]+', '', x.lower()))\n",
    "\n",
    "# Create column with all individual words\n",
    "df['individual_words'] = df['comment_words_only'].apply(lambda x: x.split(' '))\n",
    "\n",
    "# Create column for word count\n",
    "df['word_count'] = df['individual_words'].apply(len)\n",
    "\n",
    "# Create column for the average length of words in each review\n",
    "def get_avg_word_len(text):\n",
    "    lengths = []\n",
    "    for word in text:\n",
    "        lengths.append(len(word))\n",
    "    return sum(lengths) / len(lengths)\n",
    "\n",
    "df['average_word_length'] = df['individual_words'].apply(get_avg_word_len)"
   ]
  },
  {
   "cell_type": "code",
   "execution_count": 824,
   "metadata": {},
   "outputs": [],
   "source": [
    "# Get most frequent words\n",
    "def get_most_frequent_words(text):\n",
    "    words = Counter(text.split()).most_common(3)\n",
    "    return [word for word in words if word[1] > 1]\n",
    "\n",
    "df['most_frequent_words'] = df['cleaned_comments'].apply(get_most_frequent_words)"
   ]
  },
  {
   "cell_type": "code",
   "execution_count": 822,
   "metadata": {},
   "outputs": [
    {
     "data": {
      "text/plain": [
       "[('couldnt', 2)]"
      ]
     },
     "execution_count": 822,
     "metadata": {},
     "output_type": "execute_result"
    }
   ],
   "source": [
    "get_most_frequent_words(df['cleaned_comments'][16])"
   ]
  },
  {
   "cell_type": "code",
   "execution_count": 621,
   "metadata": {},
   "outputs": [
    {
     "data": {
      "text/html": [
       "<div>\n",
       "<style scoped>\n",
       "    .dataframe tbody tr th:only-of-type {\n",
       "        vertical-align: middle;\n",
       "    }\n",
       "\n",
       "    .dataframe tbody tr th {\n",
       "        vertical-align: top;\n",
       "    }\n",
       "\n",
       "    .dataframe thead th {\n",
       "        text-align: right;\n",
       "    }\n",
       "</style>\n",
       "<table border=\"1\" class=\"dataframe\">\n",
       "  <thead>\n",
       "    <tr style=\"text-align: right;\">\n",
       "      <th></th>\n",
       "      <th>reviews_cleaned_str</th>\n",
       "    </tr>\n",
       "    <tr>\n",
       "      <th>listing_id</th>\n",
       "      <th></th>\n",
       "    </tr>\n",
       "  </thead>\n",
       "  <tbody>\n",
       "    <tr>\n",
       "      <th>12899</th>\n",
       "      <td>realli enjoy stay dave beauti home great neigh...</td>\n",
       "    </tr>\n",
       "    <tr>\n",
       "      <th>26203</th>\n",
       "      <td>excel first experi airbnb exactli expect descr...</td>\n",
       "    </tr>\n",
       "    <tr>\n",
       "      <th>37676</th>\n",
       "      <td>awesom place paul extrem friendli help great t...</td>\n",
       "    </tr>\n",
       "    <tr>\n",
       "      <th>39938</th>\n",
       "      <td>sarah host simpli incred home gorgeou street b...</td>\n",
       "    </tr>\n",
       "    <tr>\n",
       "      <th>41601</th>\n",
       "      <td>marbl room like time capsul mani littl thing d...</td>\n",
       "    </tr>\n",
       "    <tr>\n",
       "      <th>...</th>\n",
       "      <td>...</td>\n",
       "    </tr>\n",
       "    <tr>\n",
       "      <th>27631229</th>\n",
       "      <td>realli great easili access area check super ea...</td>\n",
       "    </tr>\n",
       "    <tr>\n",
       "      <th>28167575</th>\n",
       "      <td>realli nice time patricia place</td>\n",
       "    </tr>\n",
       "    <tr>\n",
       "      <th>28197448</th>\n",
       "      <td>great place stay nice part portland would defi...</td>\n",
       "    </tr>\n",
       "    <tr>\n",
       "      <th>28226590</th>\n",
       "      <td>super cozi quaint littl studio within walk dis...</td>\n",
       "    </tr>\n",
       "    <tr>\n",
       "      <th>28480171</th>\n",
       "      <td>evan place amaz place locat close enough cool ...</td>\n",
       "    </tr>\n",
       "  </tbody>\n",
       "</table>\n",
       "<p>2261 rows × 1 columns</p>\n",
       "</div>"
      ],
      "text/plain": [
       "                                          reviews_cleaned_str\n",
       "listing_id                                                   \n",
       "12899       realli enjoy stay dave beauti home great neigh...\n",
       "26203       excel first experi airbnb exactli expect descr...\n",
       "37676       awesom place paul extrem friendli help great t...\n",
       "39938       sarah host simpli incred home gorgeou street b...\n",
       "41601       marbl room like time capsul mani littl thing d...\n",
       "...                                                       ...\n",
       "27631229    realli great easili access area check super ea...\n",
       "28167575                      realli nice time patricia place\n",
       "28197448    great place stay nice part portland would defi...\n",
       "28226590    super cozi quaint littl studio within walk dis...\n",
       "28480171    evan place amaz place locat close enough cool ...\n",
       "\n",
       "[2261 rows x 1 columns]"
      ]
     },
     "execution_count": 621,
     "metadata": {},
     "output_type": "execute_result"
    }
   ],
   "source": [
    "# Groupby listing ID, concat all reviews into one long string for getting most frequent words\n",
    "pd.DataFrame(mini_df.groupby('listing_id')['reviews_cleaned_str'].agg(lambda x: ' '.join(x)))"
   ]
  },
  {
   "cell_type": "code",
   "execution_count": 623,
   "metadata": {},
   "outputs": [
    {
     "data": {
      "text/plain": [
       "[('great', 7),\n",
       " ('stay', 6),\n",
       " ('host', 6),\n",
       " ('like', 4),\n",
       " ('portland', 4),\n",
       " ('david', 4),\n",
       " ('time', 4),\n",
       " ('space', 4),\n",
       " ('definit', 4),\n",
       " ('home', 3)]"
      ]
     },
     "execution_count": 623,
     "metadata": {},
     "output_type": "execute_result"
    }
   ],
   "source": [
    "Counter(comm['reviews_cleaned_str'][12899].split()).most_common(10)"
   ]
  },
  {
   "cell_type": "code",
   "execution_count": 428,
   "metadata": {},
   "outputs": [],
   "source": [
    "def process_text_no_stems(text):\n",
    "    text = re.sub('[^A-Za-z ]+', '', text)\n",
    "    text = text.lower().split()\n",
    "    text = [word for word in text if ((len(word) > 3) and (word not in stop))]\n",
    "    text = ' '.join(text)\n",
    "    return text"
   ]
  },
  {
   "cell_type": "code",
   "execution_count": 429,
   "metadata": {},
   "outputs": [
    {
     "data": {
      "text/plain": [
       "'couldnt possibly better experience trip would give stars could thanks everything jesse condo fantastic'"
      ]
     },
     "execution_count": 429,
     "metadata": {},
     "output_type": "execute_result"
    }
   ],
   "source": [
    "process_text_no_stems(df['comments'][0])"
   ]
  },
  {
   "cell_type": "code",
   "execution_count": 430,
   "metadata": {},
   "outputs": [],
   "source": [
    "df['cleaned_comments'] = df['comments'].apply(process_text_no_stems)"
   ]
  },
  {
   "cell_type": "markdown",
   "metadata": {},
   "source": [
    "**Save DF to CSV**"
   ]
  },
  {
   "cell_type": "code",
   "execution_count": 829,
   "metadata": {},
   "outputs": [],
   "source": [
    "# df.to_csv('data/cleaned_reviews.csv')"
   ]
  },
  {
   "cell_type": "code",
   "execution_count": 509,
   "metadata": {},
   "outputs": [],
   "source": [
    "tokenizer = TreebankWordTokenizer()\n",
    "\n",
    "def get_text_chunks(text):\n",
    "    tags = pos_tag(word_tokenize(text))\n",
    "    return [x for x in tags if x[1]=='NNP']"
   ]
  },
  {
   "cell_type": "code",
   "execution_count": 38,
   "metadata": {},
   "outputs": [
    {
     "ename": "NameError",
     "evalue": "name 'get_text_chunks' is not defined",
     "output_type": "error",
     "traceback": [
      "\u001b[0;31m---------------------------------------------------------------------------\u001b[0m",
      "\u001b[0;31mNameError\u001b[0m                                 Traceback (most recent call last)",
      "\u001b[0;32m<ipython-input-38-65870879c703>\u001b[0m in \u001b[0;36m<module>\u001b[0;34m()\u001b[0m\n\u001b[0;32m----> 1\u001b[0;31m \u001b[0mget_text_chunks\u001b[0m\u001b[0;34m(\u001b[0m\u001b[0mmini_df\u001b[0m\u001b[0;34m[\u001b[0m\u001b[0;34m'comments'\u001b[0m\u001b[0;34m]\u001b[0m\u001b[0;34m[\u001b[0m\u001b[0;36m0\u001b[0m\u001b[0;34m]\u001b[0m\u001b[0;34m)\u001b[0m\u001b[0;34m\u001b[0m\u001b[0m\n\u001b[0m",
      "\u001b[0;31mNameError\u001b[0m: name 'get_text_chunks' is not defined"
     ]
    }
   ],
   "source": [
    "get_text_chunks(mini_df['comments'][0])"
   ]
  },
  {
   "cell_type": "code",
   "execution_count": null,
   "metadata": {},
   "outputs": [],
   "source": [
    "pos_tag(df['comments'][1].split())"
   ]
  },
  {
   "cell_type": "markdown",
   "metadata": {},
   "source": [
    "##### Create a mini dataframe of reviews to speed up processing time for testing (commented out and loaded from result)"
   ]
  },
  {
   "cell_type": "code",
   "execution_count": 15,
   "metadata": {},
   "outputs": [],
   "source": [
    "mini_df = df.sample(n=25000, replace=False, random_state=22)\n",
    "# mini_df.reset_index(inplace=True)\n",
    "# mini_df.to_csv('data/mini_reviews_df.csv')\n",
    "# mini_df = pd.read_csv('data/mini_reviews_df.csv', index_col='Unnamed: 0')"
   ]
  },
  {
   "cell_type": "code",
   "execution_count": 16,
   "metadata": {},
   "outputs": [
    {
     "data": {
      "text/html": [
       "<div>\n",
       "<style scoped>\n",
       "    .dataframe tbody tr th:only-of-type {\n",
       "        vertical-align: middle;\n",
       "    }\n",
       "\n",
       "    .dataframe tbody tr th {\n",
       "        vertical-align: top;\n",
       "    }\n",
       "\n",
       "    .dataframe thead th {\n",
       "        text-align: right;\n",
       "    }\n",
       "</style>\n",
       "<table border=\"1\" class=\"dataframe\">\n",
       "  <thead>\n",
       "    <tr style=\"text-align: right;\">\n",
       "      <th></th>\n",
       "      <th>listing_id</th>\n",
       "      <th>id</th>\n",
       "      <th>date</th>\n",
       "      <th>reviewer_id</th>\n",
       "      <th>reviewer_name</th>\n",
       "      <th>comments</th>\n",
       "      <th>reviews_cleaned_str</th>\n",
       "      <th>polarity</th>\n",
       "      <th>subjectivity</th>\n",
       "      <th>review_length</th>\n",
       "      <th>cleaned_comments</th>\n",
       "      <th>num_sentences</th>\n",
       "      <th>comment_words_only</th>\n",
       "      <th>individual_words</th>\n",
       "      <th>word_count</th>\n",
       "      <th>average_word_length</th>\n",
       "      <th>most_frequent_words</th>\n",
       "    </tr>\n",
       "  </thead>\n",
       "  <tbody>\n",
       "    <tr>\n",
       "      <th>48257</th>\n",
       "      <td>1677299</td>\n",
       "      <td>98722579</td>\n",
       "      <td>2016-09-01</td>\n",
       "      <td>12555755</td>\n",
       "      <td>Shaun</td>\n",
       "      <td>Ivy was a wonderful host! She welcomed us with...</td>\n",
       "      <td>wonder host welcom surpris basket fuel rest we...</td>\n",
       "      <td>0.308333</td>\n",
       "      <td>0.725</td>\n",
       "      <td>296</td>\n",
       "      <td>wonderful host welcomed surprise basket fueled...</td>\n",
       "      <td>5</td>\n",
       "      <td>ivy was a wonderful host she welcomed us with ...</td>\n",
       "      <td>['ivy', 'was', 'a', 'wonderful', 'host', 'she'...</td>\n",
       "      <td>60</td>\n",
       "      <td>3.683333</td>\n",
       "      <td>[('home', 2)]</td>\n",
       "    </tr>\n",
       "    <tr>\n",
       "      <th>242359</th>\n",
       "      <td>15910855</td>\n",
       "      <td>307161783</td>\n",
       "      <td>2018-08-13</td>\n",
       "      <td>153332906</td>\n",
       "      <td>Matthew</td>\n",
       "      <td>Great place to stay, would go back.</td>\n",
       "      <td>great place stay would back</td>\n",
       "      <td>0.400000</td>\n",
       "      <td>0.375</td>\n",
       "      <td>35</td>\n",
       "      <td>great place stay would back</td>\n",
       "      <td>1</td>\n",
       "      <td>great place to stay would go back</td>\n",
       "      <td>['great', 'place', 'to', 'stay', 'would', 'go'...</td>\n",
       "      <td>7</td>\n",
       "      <td>3.857143</td>\n",
       "      <td>[]</td>\n",
       "    </tr>\n",
       "  </tbody>\n",
       "</table>\n",
       "</div>"
      ],
      "text/plain": [
       "        listing_id         id        date  reviewer_id reviewer_name  \\\n",
       "48257      1677299   98722579  2016-09-01     12555755         Shaun   \n",
       "242359    15910855  307161783  2018-08-13    153332906       Matthew   \n",
       "\n",
       "                                                 comments  \\\n",
       "48257   Ivy was a wonderful host! She welcomed us with...   \n",
       "242359                Great place to stay, would go back.   \n",
       "\n",
       "                                      reviews_cleaned_str  polarity  \\\n",
       "48257   wonder host welcom surpris basket fuel rest we...  0.308333   \n",
       "242359                        great place stay would back  0.400000   \n",
       "\n",
       "        subjectivity  review_length  \\\n",
       "48257          0.725            296   \n",
       "242359         0.375             35   \n",
       "\n",
       "                                         cleaned_comments  num_sentences  \\\n",
       "48257   wonderful host welcomed surprise basket fueled...              5   \n",
       "242359                        great place stay would back              1   \n",
       "\n",
       "                                       comment_words_only  \\\n",
       "48257   ivy was a wonderful host she welcomed us with ...   \n",
       "242359                  great place to stay would go back   \n",
       "\n",
       "                                         individual_words  word_count  \\\n",
       "48257   ['ivy', 'was', 'a', 'wonderful', 'host', 'she'...          60   \n",
       "242359  ['great', 'place', 'to', 'stay', 'would', 'go'...           7   \n",
       "\n",
       "        average_word_length most_frequent_words  \n",
       "48257              3.683333       [('home', 2)]  \n",
       "242359             3.857143                  []  "
      ]
     },
     "execution_count": 16,
     "metadata": {},
     "output_type": "execute_result"
    }
   ],
   "source": [
    "mini_df.head(2)"
   ]
  },
  {
   "cell_type": "code",
   "execution_count": 493,
   "metadata": {},
   "outputs": [
    {
     "data": {
      "text/plain": [
       "listing_id\n",
       "12899       0.435046\n",
       "26203       0.257143\n",
       "37676       0.438628\n",
       "39938       0.467092\n",
       "41601       0.439063\n",
       "              ...   \n",
       "27631229    0.628333\n",
       "28167575    0.750000\n",
       "28197448    0.466667\n",
       "28226590    0.089167\n",
       "28480171    0.347917\n",
       "Name: polarity, Length: 2261, dtype: float64"
      ]
     },
     "execution_count": 493,
     "metadata": {},
     "output_type": "execute_result"
    }
   ],
   "source": [
    "mini_df.groupby('listing_id')['polarity'].mean()"
   ]
  },
  {
   "cell_type": "code",
   "execution_count": null,
   "metadata": {},
   "outputs": [],
   "source": []
  },
  {
   "cell_type": "markdown",
   "metadata": {},
   "source": [
    "#### Train-Test-Split"
   ]
  },
  {
   "cell_type": "code",
   "execution_count": 13,
   "metadata": {},
   "outputs": [
    {
     "data": {
      "text/plain": [
       "Index(['listing_id', 'id', 'date', 'reviewer_id', 'reviewer_name', 'comments',\n",
       "       'reviews_cleaned_str', 'polarity', 'subjectivity', 'review_length',\n",
       "       'cleaned_comments', 'num_sentences', 'comment_words_only',\n",
       "       'individual_words', 'word_count', 'average_word_length',\n",
       "       'most_frequent_words'],\n",
       "      dtype='object')"
      ]
     },
     "execution_count": 13,
     "metadata": {},
     "output_type": "execute_result"
    }
   ],
   "source": [
    "df.columns"
   ]
  },
  {
   "cell_type": "code",
   "execution_count": 137,
   "metadata": {},
   "outputs": [
    {
     "data": {
      "text/html": [
       "<div>\n",
       "<style scoped>\n",
       "    .dataframe tbody tr th:only-of-type {\n",
       "        vertical-align: middle;\n",
       "    }\n",
       "\n",
       "    .dataframe tbody tr th {\n",
       "        vertical-align: top;\n",
       "    }\n",
       "\n",
       "    .dataframe thead th {\n",
       "        text-align: right;\n",
       "    }\n",
       "</style>\n",
       "<table border=\"1\" class=\"dataframe\">\n",
       "  <thead>\n",
       "    <tr style=\"text-align: right;\">\n",
       "      <th></th>\n",
       "      <th>listing_id</th>\n",
       "      <th>id</th>\n",
       "      <th>date</th>\n",
       "      <th>reviewer_id</th>\n",
       "      <th>reviewer_name</th>\n",
       "      <th>comments</th>\n",
       "      <th>reviews_cleaned_str</th>\n",
       "      <th>polarity</th>\n",
       "      <th>subjectivity</th>\n",
       "      <th>review_length</th>\n",
       "      <th>cleaned_comments</th>\n",
       "      <th>num_sentences</th>\n",
       "      <th>comment_words_only</th>\n",
       "      <th>individual_words</th>\n",
       "      <th>word_count</th>\n",
       "      <th>average_word_length</th>\n",
       "      <th>most_frequent_words</th>\n",
       "    </tr>\n",
       "  </thead>\n",
       "  <tbody>\n",
       "    <tr>\n",
       "      <th>0</th>\n",
       "      <td>7893</td>\n",
       "      <td>27282</td>\n",
       "      <td>2010-02-22</td>\n",
       "      <td>52074</td>\n",
       "      <td>Shaun</td>\n",
       "      <td>Couldn't possibly had a better experience with...</td>\n",
       "      <td>couldnt possibl better experi trip would give ...</td>\n",
       "      <td>0.275</td>\n",
       "      <td>0.65</td>\n",
       "      <td>158</td>\n",
       "      <td>couldnt possibly better experience trip would ...</td>\n",
       "      <td>3</td>\n",
       "      <td>couldnt possibly had a better experience with ...</td>\n",
       "      <td>['couldnt', 'possibly', 'had', 'a', 'better', ...</td>\n",
       "      <td>29</td>\n",
       "      <td>4.241379</td>\n",
       "      <td>[]</td>\n",
       "    </tr>\n",
       "  </tbody>\n",
       "</table>\n",
       "</div>"
      ],
      "text/plain": [
       "   listing_id     id        date  reviewer_id reviewer_name  \\\n",
       "0        7893  27282  2010-02-22        52074         Shaun   \n",
       "\n",
       "                                            comments  \\\n",
       "0  Couldn't possibly had a better experience with...   \n",
       "\n",
       "                                 reviews_cleaned_str  polarity  subjectivity  \\\n",
       "0  couldnt possibl better experi trip would give ...     0.275          0.65   \n",
       "\n",
       "   review_length                                   cleaned_comments  \\\n",
       "0            158  couldnt possibly better experience trip would ...   \n",
       "\n",
       "   num_sentences                                 comment_words_only  \\\n",
       "0              3  couldnt possibly had a better experience with ...   \n",
       "\n",
       "                                    individual_words  word_count  \\\n",
       "0  ['couldnt', 'possibly', 'had', 'a', 'better', ...          29   \n",
       "\n",
       "   average_word_length most_frequent_words  \n",
       "0             4.241379                  []  "
      ]
     },
     "execution_count": 137,
     "metadata": {},
     "output_type": "execute_result"
    }
   ],
   "source": [
    "X = df[['listing_id', 'id', 'date', 'reviewer_id', 'reviewer_name', 'comments',\n",
    "       'reviews_cleaned_str', 'polarity', 'subjectivity', 'review_length',\n",
    "       'cleaned_comments', 'num_sentences', 'comment_words_only',\n",
    "       'individual_words', 'word_count', 'average_word_length',\n",
    "       'most_frequent_words']]"
   ]
  },
  {
   "cell_type": "code",
   "execution_count": null,
   "metadata": {},
   "outputs": [],
   "source": []
  },
  {
   "cell_type": "code",
   "execution_count": null,
   "metadata": {},
   "outputs": [],
   "source": [
    "X_train, X_test, y_train, y_test = train_test_split(X, y, test_size=0.3, random_state=99)"
   ]
  },
  {
   "cell_type": "code",
   "execution_count": 138,
   "metadata": {},
   "outputs": [],
   "source": [
    "test_df = df.sample(n=100000, replace=False, random_state=22)"
   ]
  },
  {
   "cell_type": "code",
   "execution_count": null,
   "metadata": {},
   "outputs": [],
   "source": []
  },
  {
   "cell_type": "markdown",
   "metadata": {},
   "source": [
    "#### Count Vectorizer, LDA"
   ]
  },
  {
   "cell_type": "code",
   "execution_count": 221,
   "metadata": {},
   "outputs": [],
   "source": [
    "tf_vectorizer = CountVectorizer(max_df=0.5,\n",
    "                                min_df=2,\n",
    "                                lowercase=True,\n",
    "                                strip_accents='unicode',\n",
    "                                token_pattern = r'\\b[a-zA-Z]{3,}\\b',\n",
    "                                stop_words='english', ngram_range=(1,2)\n",
    "                               )\n",
    "dtm_tf = tf_vectorizer.fit_transform(summaries)"
   ]
  },
  {
   "cell_type": "code",
   "execution_count": 207,
   "metadata": {},
   "outputs": [
    {
     "data": {
      "text/plain": [
       "(5405, 4706)"
      ]
     },
     "execution_count": 207,
     "metadata": {},
     "output_type": "execute_result"
    }
   ],
   "source": [
    "dtm_tf.shape"
   ]
  },
  {
   "cell_type": "code",
   "execution_count": 208,
   "metadata": {},
   "outputs": [
    {
     "name": "stderr",
     "output_type": "stream",
     "text": [
      "/Users/brenner/anaconda3/lib/python3.6/site-packages/sklearn/decomposition/online_lda.py:314: DeprecationWarning: n_topics has been renamed to n_components in version 0.19 and will be removed in 0.21\n",
      "  DeprecationWarning)\n"
     ]
    },
    {
     "data": {
      "text/plain": [
       "LatentDirichletAllocation(batch_size=128, doc_topic_prior=None,\n",
       "             evaluate_every=-1, learning_decay=0.7,\n",
       "             learning_method='batch', learning_offset=10.0,\n",
       "             max_doc_update_iter=100, max_iter=10, mean_change_tol=0.001,\n",
       "             n_components=10, n_jobs=None, n_topics=10, perp_tol=0.1,\n",
       "             random_state=0, topic_word_prior=None,\n",
       "             total_samples=1000000.0, verbose=0)"
      ]
     },
     "execution_count": 208,
     "metadata": {},
     "output_type": "execute_result"
    }
   ],
   "source": [
    "# for TF DTM\n",
    "lda_tf = LatentDirichletAllocation(n_topics=10, random_state=0)\n",
    "lda_tf.fit(dtm_tf)\n",
    "\n",
    "# # for TFIDF DTM\n",
    "# lda_tfidf = LatentDirichletAllocation(n_topics=20, random_state=0)\n",
    "# lda_tfidf.fit(dtm_tfidf)"
   ]
  },
  {
   "cell_type": "code",
   "execution_count": 62,
   "metadata": {},
   "outputs": [
    {
     "data": {
      "text/plain": [
       "(5405, 5058)"
      ]
     },
     "execution_count": 62,
     "metadata": {},
     "output_type": "execute_result"
    }
   ],
   "source": [
    "tf.shape"
   ]
  },
  {
   "cell_type": "code",
   "execution_count": 66,
   "metadata": {},
   "outputs": [],
   "source": [
    "vectorizer = TfidfVectorizer(stop_words=\"english\", ngram_range=(1,2))\n",
    "doc_vectors = vectorizer.fit_transform(summaries)"
   ]
  },
  {
   "cell_type": "code",
   "execution_count": 70,
   "metadata": {},
   "outputs": [
    {
     "data": {
      "text/plain": [
       "<5405x89207 sparse matrix of type '<class 'numpy.float64'>'\n",
       "\twith 359635 stored elements in Compressed Sparse Row format>"
      ]
     },
     "execution_count": 70,
     "metadata": {},
     "output_type": "execute_result"
    }
   ],
   "source": [
    "doc_vectors"
   ]
  },
  {
   "cell_type": "code",
   "execution_count": null,
   "metadata": {},
   "outputs": [],
   "source": []
  },
  {
   "cell_type": "code",
   "execution_count": 201,
   "metadata": {},
   "outputs": [],
   "source": [
    "lda_tf = LatentDirichletAllocation(n_components=10, max_iter=5,\n",
    "                                learning_method='online',\n",
    "                                learning_offset=10.0, batch_size=128,\n",
    "                                random_state=49, evaluate_every=-1)\n",
    "lda_tf.fit(tf)"
   ]
  },
  {
   "cell_type": "code",
   "execution_count": 464,
   "metadata": {},
   "outputs": [
    {
     "ename": "NotFittedError",
     "evalue": "CountVectorizer - Vocabulary wasn't fitted.",
     "output_type": "error",
     "traceback": [
      "\u001b[0;31m-------------------------------------------------\u001b[0m",
      "\u001b[0;31mNotFittedError\u001b[0m  Traceback (most recent call last)",
      "\u001b[0;32m<ipython-input-464-c9458dfdae71>\u001b[0m in \u001b[0;36m<module>\u001b[0;34m()\u001b[0m\n\u001b[0;32m----> 1\u001b[0;31m \u001b[0mvocab\u001b[0m \u001b[0;34m=\u001b[0m \u001b[0mtf_vectorizer\u001b[0m\u001b[0;34m.\u001b[0m\u001b[0mget_feature_names\u001b[0m\u001b[0;34m(\u001b[0m\u001b[0;34m)\u001b[0m\u001b[0;34m\u001b[0m\u001b[0m\n\u001b[0m\u001b[1;32m      2\u001b[0m \u001b[0;34m\u001b[0m\u001b[0m\n\u001b[1;32m      3\u001b[0m \u001b[0;32mfor\u001b[0m \u001b[0mtopic\u001b[0m \u001b[0;32min\u001b[0m \u001b[0mrange\u001b[0m\u001b[0;34m(\u001b[0m\u001b[0;36m10\u001b[0m\u001b[0;34m)\u001b[0m\u001b[0;34m:\u001b[0m\u001b[0;34m\u001b[0m\u001b[0m\n\u001b[1;32m      4\u001b[0m     \u001b[0mprint\u001b[0m\u001b[0;34m(\u001b[0m\u001b[0;34mf\"TOPIC {topic}\"\u001b[0m\u001b[0;34m)\u001b[0m\u001b[0;34m\u001b[0m\u001b[0m\n\u001b[1;32m      5\u001b[0m     \u001b[0;32mfor\u001b[0m \u001b[0mj\u001b[0m \u001b[0;32min\u001b[0m \u001b[0mnp\u001b[0m\u001b[0;34m.\u001b[0m\u001b[0margsort\u001b[0m\u001b[0;34m(\u001b[0m\u001b[0;34m-\u001b[0m\u001b[0mlda\u001b[0m\u001b[0;34m.\u001b[0m\u001b[0mcomponents_\u001b[0m\u001b[0;34m,\u001b[0m\u001b[0;36m1\u001b[0m\u001b[0;34m)\u001b[0m\u001b[0;34m[\u001b[0m\u001b[0mtopic\u001b[0m\u001b[0;34m,\u001b[0m\u001b[0;34m:\u001b[0m\u001b[0;36m10\u001b[0m\u001b[0;34m]\u001b[0m\u001b[0;34m:\u001b[0m\u001b[0;34m\u001b[0m\u001b[0m\n",
      "\u001b[0;32m~/anaconda3/lib/python3.6/site-packages/sklearn/feature_extraction/text.py\u001b[0m in \u001b[0;36mget_feature_names\u001b[0;34m(self)\u001b[0m\n\u001b[1;32m   1104\u001b[0m             \u001b[0mself\u001b[0m\u001b[0;34m.\u001b[0m\u001b[0m_validate_vocabulary\u001b[0m\u001b[0;34m(\u001b[0m\u001b[0;34m)\u001b[0m\u001b[0;34m\u001b[0m\u001b[0m\n\u001b[1;32m   1105\u001b[0m \u001b[0;34m\u001b[0m\u001b[0m\n\u001b[0;32m-> 1106\u001b[0;31m         \u001b[0mself\u001b[0m\u001b[0;34m.\u001b[0m\u001b[0m_check_vocabulary\u001b[0m\u001b[0;34m(\u001b[0m\u001b[0;34m)\u001b[0m\u001b[0;34m\u001b[0m\u001b[0m\n\u001b[0m\u001b[1;32m   1107\u001b[0m \u001b[0;34m\u001b[0m\u001b[0m\n\u001b[1;32m   1108\u001b[0m         return [t for t, i in sorted(six.iteritems(self.vocabulary_),\n",
      "\u001b[0;32m~/anaconda3/lib/python3.6/site-packages/sklearn/feature_extraction/text.py\u001b[0m in \u001b[0;36m_check_vocabulary\u001b[0;34m(self)\u001b[0m\n\u001b[1;32m    343\u001b[0m         \u001b[0;34m\"\"\"Check if vocabulary is empty or missing (not fit-ed)\"\"\"\u001b[0m\u001b[0;34m\u001b[0m\u001b[0m\n\u001b[1;32m    344\u001b[0m         \u001b[0mmsg\u001b[0m \u001b[0;34m=\u001b[0m \u001b[0;34m\"%(name)s - Vocabulary wasn't fitted.\"\u001b[0m\u001b[0;34m\u001b[0m\u001b[0m\n\u001b[0;32m--> 345\u001b[0;31m         \u001b[0mcheck_is_fitted\u001b[0m\u001b[0;34m(\u001b[0m\u001b[0mself\u001b[0m\u001b[0;34m,\u001b[0m \u001b[0;34m'vocabulary_'\u001b[0m\u001b[0;34m,\u001b[0m \u001b[0mmsg\u001b[0m\u001b[0;34m=\u001b[0m\u001b[0mmsg\u001b[0m\u001b[0;34m)\u001b[0m\u001b[0;34m,\u001b[0m\u001b[0;34m\u001b[0m\u001b[0m\n\u001b[0m\u001b[1;32m    346\u001b[0m \u001b[0;34m\u001b[0m\u001b[0m\n\u001b[1;32m    347\u001b[0m         \u001b[0;32mif\u001b[0m \u001b[0mlen\u001b[0m\u001b[0;34m(\u001b[0m\u001b[0mself\u001b[0m\u001b[0;34m.\u001b[0m\u001b[0mvocabulary_\u001b[0m\u001b[0;34m)\u001b[0m \u001b[0;34m==\u001b[0m \u001b[0;36m0\u001b[0m\u001b[0;34m:\u001b[0m\u001b[0;34m\u001b[0m\u001b[0m\n",
      "\u001b[0;32m~/anaconda3/lib/python3.6/site-packages/sklearn/utils/validation.py\u001b[0m in \u001b[0;36mcheck_is_fitted\u001b[0;34m(estimator, attributes, msg, all_or_any)\u001b[0m\n\u001b[1;32m    940\u001b[0m \u001b[0;34m\u001b[0m\u001b[0m\n\u001b[1;32m    941\u001b[0m     \u001b[0;32mif\u001b[0m \u001b[0;32mnot\u001b[0m \u001b[0mall_or_any\u001b[0m\u001b[0;34m(\u001b[0m\u001b[0;34m[\u001b[0m\u001b[0mhasattr\u001b[0m\u001b[0;34m(\u001b[0m\u001b[0mestimator\u001b[0m\u001b[0;34m,\u001b[0m \u001b[0mattr\u001b[0m\u001b[0;34m)\u001b[0m \u001b[0;32mfor\u001b[0m \u001b[0mattr\u001b[0m \u001b[0;32min\u001b[0m \u001b[0mattributes\u001b[0m\u001b[0;34m]\u001b[0m\u001b[0;34m)\u001b[0m\u001b[0;34m:\u001b[0m\u001b[0;34m\u001b[0m\u001b[0m\n\u001b[0;32m--> 942\u001b[0;31m         \u001b[0;32mraise\u001b[0m \u001b[0mNotFittedError\u001b[0m\u001b[0;34m(\u001b[0m\u001b[0mmsg\u001b[0m \u001b[0;34m%\u001b[0m \u001b[0;34m{\u001b[0m\u001b[0;34m'name'\u001b[0m\u001b[0;34m:\u001b[0m \u001b[0mtype\u001b[0m\u001b[0;34m(\u001b[0m\u001b[0mestimator\u001b[0m\u001b[0;34m)\u001b[0m\u001b[0;34m.\u001b[0m\u001b[0m__name__\u001b[0m\u001b[0;34m}\u001b[0m\u001b[0;34m)\u001b[0m\u001b[0;34m\u001b[0m\u001b[0m\n\u001b[0m\u001b[1;32m    943\u001b[0m \u001b[0;34m\u001b[0m\u001b[0m\n\u001b[1;32m    944\u001b[0m \u001b[0;34m\u001b[0m\u001b[0m\n",
      "\u001b[0;31mNotFittedError\u001b[0m: CountVectorizer - Vocabulary wasn't fitted."
     ]
    }
   ],
   "source": [
    "vocab = tf_vectorizer.get_feature_names()\n",
    "\n",
    "for topic in range(10):\n",
    "    print(f\"TOPIC {topic}\")\n",
    "    for j in np.argsort(-lda.components_,1)[topic,:10]:\n",
    "        print(vocab[j])\n",
    "    print()"
   ]
  },
  {
   "cell_type": "code",
   "execution_count": 260,
   "metadata": {},
   "outputs": [],
   "source": [
    "def run_lda_with_defaults(corpus, num_topics):\n",
    "    tf_vectorizer = CountVectorizer(lowercase=True,\n",
    "                                    strip_accents='unicode',\n",
    "                                    token_pattern = r'\\b[a-zA-Z]{3,}\\b',\n",
    "                                    stop_words='english')\n",
    "    \n",
    "    dtm_tf = tf_vectorizer.fit_transform(corpus)\n",
    "    \n",
    "    lda_tf = LatentDirichletAllocation(n_components=num_topics, random_state=0, n_jobs=-1)\n",
    "    lda_tf.fit(dtm_tf)\n",
    "    \n",
    "    return pyLDAvis.sklearn.prepare(lda_tf, dtm_tf, tf_vectorizer)"
   ]
  },
  {
   "cell_type": "code",
   "execution_count": 379,
   "metadata": {},
   "outputs": [],
   "source": [
    "def run_lda(corpus, num_topics):\n",
    "    tf_vectorizer = CountVectorizer(max_df=0.5,\n",
    "                                    min_df=2,\n",
    "                                    lowercase=True,\n",
    "                                    strip_accents='unicode',\n",
    "                                    token_pattern = r'\\b[a-zA-Z]{3,}\\b',\n",
    "                                    stop_words='english')\n",
    "    \n",
    "    dtm_tf = tf_vectorizer.fit_transform(corpus)\n",
    "    \n",
    "    lda_tf = LatentDirichletAllocation(n_components=num_topics,\n",
    "                                       random_state=0,\n",
    "                                       learning_method='online',\n",
    "                                       learning_decay=0.6,\n",
    "                                       learning_offset=1024,\n",
    "                                       batch_size=256,\n",
    "                                       topic_word_prior=.005,\n",
    "                                       n_jobs=-1)\n",
    "    lda_tf.fit(dtm_tf)\n",
    "    \n",
    "    return pyLDAvis.sklearn.prepare(lda_tf, dtm_tf, tf_vectorizer)"
   ]
  },
  {
   "cell_type": "code",
   "execution_count": 255,
   "metadata": {},
   "outputs": [],
   "source": [
    "def run_lda(corpus, num_topics):\n",
    "    tf_vectorizer = CountVectorizer(max_df=0.5,\n",
    "                                    min_df=2,\n",
    "                                    lowercase=True,\n",
    "                                    strip_accents='unicode',\n",
    "                                    token_pattern = r'\\b[a-zA-Z]{3,}\\b',\n",
    "                                    stop_words='english',\n",
    "                                    ngram_range=(1,3))\n",
    "    \n",
    "    dtm_tf = tf_vectorizer.fit_transform(corpus)\n",
    "    \n",
    "    lda_tf = LatentDirichletAllocation(n_components=num_topics, random_state=0, learning_method='online', n_jobs=-1)\n",
    "    lda_tf.fit(dtm_tf)\n",
    "    \n",
    "    return pyLDAvis.sklearn.prepare(lda_tf, dtm_tf, tf_vectorizer)"
   ]
  },
  {
   "cell_type": "code",
   "execution_count": 222,
   "metadata": {},
   "outputs": [
    {
     "name": "stdout",
     "output_type": "stream",
     "text": [
      "(5405, 3766)\n"
     ]
    }
   ],
   "source": [
    "tf_vectorizer = CountVectorizer(strip_accents = 'unicode',\n",
    "                                stop_words = 'english',\n",
    "                                lowercase = True,\n",
    "                                token_pattern = r'\\b[a-zA-Z]{3,}\\b',\n",
    "                                max_df = 0.5, \n",
    "                                min_df = 10, ngram_range=(1,2))\n",
    "dtm_tf = tf_vectorizer.fit_transform(summaries)\n",
    "print(dtm_tf.shape)"
   ]
  },
  {
   "cell_type": "code",
   "execution_count": 223,
   "metadata": {},
   "outputs": [
    {
     "name": "stderr",
     "output_type": "stream",
     "text": [
      "/Users/brenner/anaconda3/lib/python3.6/site-packages/sklearn/decomposition/online_lda.py:314: DeprecationWarning: n_topics has been renamed to n_components in version 0.19 and will be removed in 0.21\n",
      "  DeprecationWarning)\n"
     ]
    },
    {
     "data": {
      "text/plain": [
       "LatentDirichletAllocation(batch_size=1028, doc_topic_prior=None,\n",
       "             evaluate_every=-1, learning_decay=0.7,\n",
       "             learning_method='online', learning_offset=10.0,\n",
       "             max_doc_update_iter=100, max_iter=10, mean_change_tol=0.001,\n",
       "             n_components=10, n_jobs=None, n_topics=10, perp_tol=0.1,\n",
       "             random_state=0, topic_word_prior=None,\n",
       "             total_samples=1000000.0, verbose=0)"
      ]
     },
     "execution_count": 223,
     "metadata": {},
     "output_type": "execute_result"
    }
   ],
   "source": [
    "lda_tf = LatentDirichletAllocation(n_topics=10, random_state=0, learning_method='online', batch_size=1028)\n",
    "lda_tf.fit(dtm_tf)"
   ]
  },
  {
   "cell_type": "code",
   "execution_count": null,
   "metadata": {},
   "outputs": [],
   "source": [
    "pyLDAvis.sklearn.prepare(lda_tf, dtm_tf, tf_vectorizer)"
   ]
  },
  {
   "cell_type": "code",
   "execution_count": 259,
   "metadata": {},
   "outputs": [
    {
     "name": "stderr",
     "output_type": "stream",
     "text": [
      "/Users/brenner/anaconda3/lib/python3.6/site-packages/pyLDAvis/_prepare.py:257: FutureWarning: Sorting because non-concatenation axis is not aligned. A future version\n",
      "of pandas will change to not sort by default.\n",
      "\n",
      "To accept the future behavior, pass 'sort=False'.\n",
      "\n",
      "To retain the current behavior and silence the warning, pass 'sort=True'.\n",
      "\n",
      "  return pd.concat([default_term_info] + list(topic_dfs))\n"
     ]
    },
    {
     "data": {
      "text/html": [
       "\n",
       "<link rel=\"stylesheet\" type=\"text/css\" href=\"https://cdn.rawgit.com/bmabey/pyLDAvis/files/ldavis.v1.0.0.css\">\n",
       "\n",
       "\n",
       "<div id=\"ldavis_el49841122573209043636537468\"></div>\n",
       "<script type=\"text/javascript\">\n",
       "\n",
       "var ldavis_el49841122573209043636537468_data = {\"mdsDat\": {\"x\": [0.06993530299463074, 0.03943383897646247, -0.08418450700350191, -0.0678255262742683, 0.036567031382709836, 0.06062573186308514, 0.09345807201528972, -0.000709895969652056, -0.2525965035301611, 0.10529645554540548], \"y\": [0.017551847384185124, 0.06930950551102573, 0.15430782644414406, 0.07017928046861747, 0.04723956402232723, -0.06359767426367, -0.0414668649568541, 0.001389501063147664, -0.13030633473859857, -0.12460665093432448], \"topics\": [1, 2, 3, 4, 5, 6, 7, 8, 9, 10], \"cluster\": [1, 1, 1, 1, 1, 1, 1, 1, 1, 1], \"Freq\": [24.35630872206655, 17.605827133594133, 17.480405248393645, 11.803181343990154, 9.663326815489768, 6.518399652896743, 4.518140945948315, 3.071818179624955, 2.701772987018099, 2.2808189709776285]}, \"tinfo\": {\"Category\": [\"Default\", \"Default\", \"Default\", \"Default\", \"Default\", \"Default\", \"Default\", \"Default\", \"Default\", \"Default\", \"Default\", \"Default\", \"Default\", \"Default\", \"Default\", \"Default\", \"Default\", \"Default\", \"Default\", \"Default\", \"Default\", \"Default\", \"Default\", \"Default\", \"Default\", \"Default\", \"Default\", \"Default\", \"Default\", \"Default\", \"Topic1\", \"Topic1\", \"Topic1\", \"Topic1\", \"Topic1\", \"Topic1\", \"Topic1\", \"Topic1\", \"Topic1\", \"Topic1\", \"Topic1\", \"Topic1\", \"Topic1\", \"Topic1\", \"Topic1\", \"Topic1\", \"Topic1\", \"Topic1\", \"Topic1\", \"Topic1\", \"Topic1\", \"Topic1\", \"Topic1\", \"Topic1\", \"Topic1\", \"Topic1\", \"Topic1\", \"Topic1\", \"Topic1\", \"Topic1\", \"Topic1\", \"Topic1\", \"Topic1\", \"Topic1\", \"Topic1\", \"Topic1\", \"Topic1\", \"Topic1\", \"Topic1\", \"Topic1\", \"Topic1\", \"Topic1\", \"Topic1\", \"Topic1\", \"Topic1\", \"Topic1\", \"Topic1\", \"Topic1\", \"Topic1\", \"Topic1\", \"Topic1\", \"Topic1\", \"Topic1\", \"Topic1\", \"Topic1\", \"Topic1\", \"Topic1\", \"Topic1\", \"Topic1\", \"Topic1\", \"Topic1\", \"Topic1\", \"Topic1\", \"Topic1\", \"Topic1\", \"Topic1\", \"Topic1\", \"Topic1\", \"Topic1\", \"Topic1\", \"Topic1\", \"Topic1\", \"Topic1\", \"Topic1\", \"Topic1\", \"Topic1\", \"Topic1\", \"Topic1\", \"Topic1\", \"Topic1\", \"Topic1\", \"Topic1\", \"Topic1\", \"Topic1\", \"Topic1\", \"Topic1\", \"Topic1\", \"Topic1\", \"Topic1\", \"Topic1\", \"Topic2\", \"Topic2\", \"Topic2\", \"Topic2\", \"Topic2\", \"Topic2\", \"Topic2\", \"Topic2\", \"Topic2\", \"Topic2\", \"Topic2\", \"Topic2\", \"Topic2\", \"Topic2\", \"Topic2\", \"Topic2\", \"Topic2\", \"Topic2\", \"Topic2\", \"Topic2\", \"Topic2\", \"Topic2\", \"Topic2\", \"Topic2\", \"Topic2\", \"Topic2\", \"Topic2\", \"Topic2\", \"Topic2\", \"Topic2\", \"Topic2\", \"Topic2\", \"Topic2\", \"Topic2\", \"Topic2\", \"Topic2\", \"Topic2\", \"Topic2\", \"Topic2\", \"Topic2\", \"Topic2\", \"Topic2\", \"Topic2\", \"Topic2\", \"Topic2\", \"Topic2\", \"Topic2\", \"Topic2\", \"Topic2\", \"Topic2\", \"Topic2\", \"Topic2\", \"Topic2\", \"Topic2\", \"Topic2\", \"Topic2\", \"Topic2\", \"Topic2\", \"Topic2\", \"Topic2\", \"Topic2\", \"Topic2\", \"Topic2\", \"Topic2\", \"Topic2\", \"Topic2\", \"Topic2\", \"Topic2\", \"Topic2\", \"Topic2\", \"Topic2\", \"Topic2\", \"Topic2\", \"Topic2\", \"Topic2\", \"Topic2\", \"Topic2\", \"Topic2\", \"Topic2\", \"Topic2\", \"Topic2\", \"Topic2\", \"Topic2\", \"Topic2\", \"Topic2\", \"Topic2\", \"Topic2\", \"Topic2\", \"Topic2\", \"Topic3\", \"Topic3\", \"Topic3\", \"Topic3\", \"Topic3\", \"Topic3\", \"Topic3\", \"Topic3\", \"Topic3\", \"Topic3\", \"Topic3\", \"Topic3\", \"Topic3\", \"Topic3\", \"Topic3\", \"Topic3\", \"Topic3\", \"Topic3\", \"Topic3\", \"Topic3\", \"Topic3\", \"Topic3\", \"Topic3\", \"Topic3\", \"Topic3\", \"Topic3\", \"Topic3\", \"Topic3\", \"Topic3\", \"Topic3\", \"Topic3\", \"Topic3\", \"Topic3\", \"Topic3\", \"Topic3\", \"Topic3\", \"Topic3\", \"Topic3\", \"Topic3\", \"Topic3\", \"Topic3\", \"Topic3\", \"Topic3\", \"Topic3\", \"Topic3\", \"Topic3\", \"Topic3\", \"Topic3\", \"Topic3\", \"Topic3\", \"Topic3\", \"Topic3\", \"Topic3\", \"Topic3\", \"Topic3\", \"Topic3\", \"Topic3\", \"Topic3\", \"Topic3\", \"Topic3\", \"Topic3\", \"Topic3\", \"Topic3\", \"Topic3\", \"Topic3\", \"Topic3\", \"Topic3\", \"Topic3\", \"Topic3\", \"Topic3\", \"Topic3\", \"Topic3\", \"Topic3\", \"Topic3\", \"Topic3\", \"Topic3\", \"Topic3\", \"Topic3\", \"Topic3\", \"Topic3\", \"Topic3\", \"Topic3\", \"Topic3\", \"Topic3\", \"Topic4\", \"Topic4\", \"Topic4\", \"Topic4\", \"Topic4\", \"Topic4\", \"Topic4\", \"Topic4\", \"Topic4\", \"Topic4\", \"Topic4\", \"Topic4\", \"Topic4\", \"Topic4\", \"Topic4\", \"Topic4\", \"Topic4\", \"Topic4\", \"Topic4\", \"Topic4\", \"Topic4\", \"Topic4\", \"Topic4\", \"Topic4\", \"Topic4\", \"Topic4\", \"Topic4\", \"Topic4\", \"Topic4\", \"Topic4\", \"Topic4\", \"Topic4\", \"Topic4\", \"Topic4\", \"Topic4\", \"Topic4\", \"Topic4\", \"Topic4\", \"Topic4\", \"Topic4\", \"Topic4\", \"Topic4\", \"Topic4\", \"Topic4\", \"Topic4\", \"Topic4\", \"Topic4\", \"Topic4\", \"Topic4\", \"Topic4\", \"Topic4\", \"Topic4\", \"Topic4\", \"Topic4\", \"Topic4\", \"Topic4\", \"Topic4\", \"Topic4\", \"Topic4\", \"Topic4\", \"Topic4\", \"Topic4\", \"Topic4\", \"Topic4\", \"Topic4\", \"Topic4\", \"Topic4\", \"Topic4\", \"Topic4\", \"Topic4\", \"Topic4\", \"Topic4\", \"Topic4\", \"Topic4\", \"Topic4\", \"Topic4\", \"Topic4\", \"Topic4\", \"Topic4\", \"Topic4\", \"Topic4\", \"Topic5\", \"Topic5\", \"Topic5\", \"Topic5\", \"Topic5\", \"Topic5\", \"Topic5\", \"Topic5\", \"Topic5\", \"Topic5\", \"Topic5\", \"Topic5\", \"Topic5\", \"Topic5\", \"Topic5\", \"Topic5\", \"Topic5\", \"Topic5\", \"Topic5\", \"Topic5\", \"Topic5\", \"Topic5\", \"Topic5\", \"Topic5\", \"Topic5\", \"Topic5\", \"Topic5\", \"Topic5\", \"Topic5\", \"Topic5\", \"Topic5\", \"Topic5\", \"Topic5\", \"Topic5\", \"Topic5\", \"Topic5\", \"Topic5\", \"Topic5\", \"Topic5\", \"Topic5\", \"Topic5\", \"Topic5\", \"Topic5\", \"Topic5\", \"Topic5\", \"Topic5\", \"Topic5\", \"Topic5\", \"Topic5\", \"Topic5\", \"Topic5\", \"Topic5\", \"Topic5\", \"Topic5\", \"Topic5\", \"Topic5\", \"Topic5\", \"Topic5\", \"Topic5\", \"Topic5\", \"Topic5\", \"Topic5\", \"Topic5\", \"Topic5\", \"Topic5\", \"Topic5\", \"Topic5\", \"Topic5\", \"Topic5\", \"Topic5\", \"Topic5\", \"Topic5\", \"Topic5\", \"Topic5\", \"Topic5\", \"Topic5\", \"Topic5\", \"Topic5\", \"Topic5\", \"Topic5\", \"Topic5\", \"Topic5\", \"Topic6\", \"Topic6\", \"Topic6\", \"Topic6\", \"Topic6\", \"Topic6\", \"Topic6\", \"Topic6\", \"Topic6\", \"Topic6\", \"Topic6\", \"Topic6\", \"Topic6\", \"Topic6\", \"Topic6\", \"Topic6\", \"Topic6\", \"Topic6\", \"Topic6\", \"Topic6\", \"Topic6\", \"Topic6\", \"Topic6\", \"Topic6\", \"Topic6\", \"Topic6\", \"Topic6\", \"Topic6\", \"Topic6\", \"Topic6\", \"Topic6\", \"Topic6\", \"Topic6\", \"Topic6\", \"Topic6\", \"Topic6\", \"Topic6\", \"Topic6\", \"Topic6\", \"Topic6\", \"Topic6\", \"Topic6\", \"Topic6\", \"Topic6\", \"Topic6\", \"Topic6\", \"Topic6\", \"Topic6\", \"Topic6\", \"Topic6\", \"Topic6\", \"Topic6\", \"Topic6\", \"Topic6\", \"Topic6\", \"Topic6\", \"Topic6\", \"Topic6\", \"Topic6\", \"Topic6\", \"Topic6\", \"Topic6\", \"Topic6\", \"Topic6\", \"Topic6\", \"Topic6\", \"Topic6\", \"Topic6\", \"Topic6\", \"Topic6\", \"Topic6\", \"Topic6\", \"Topic6\", \"Topic6\", \"Topic6\", \"Topic6\", \"Topic6\", \"Topic6\", \"Topic6\", \"Topic6\", \"Topic6\", \"Topic6\", \"Topic6\", \"Topic6\", \"Topic7\", \"Topic7\", \"Topic7\", \"Topic7\", \"Topic7\", \"Topic7\", \"Topic7\", \"Topic7\", \"Topic7\", \"Topic7\", \"Topic7\", \"Topic7\", \"Topic7\", \"Topic7\", \"Topic7\", \"Topic7\", \"Topic7\", \"Topic7\", \"Topic7\", \"Topic7\", \"Topic7\", \"Topic7\", \"Topic7\", \"Topic7\", \"Topic7\", \"Topic7\", \"Topic7\", \"Topic7\", \"Topic7\", \"Topic7\", \"Topic7\", \"Topic7\", \"Topic7\", \"Topic7\", \"Topic7\", \"Topic7\", \"Topic7\", \"Topic7\", \"Topic7\", \"Topic7\", \"Topic7\", \"Topic7\", \"Topic7\", \"Topic7\", \"Topic7\", \"Topic7\", \"Topic7\", \"Topic7\", \"Topic7\", \"Topic7\", \"Topic7\", \"Topic7\", \"Topic7\", \"Topic7\", \"Topic7\", \"Topic7\", \"Topic7\", \"Topic7\", \"Topic7\", \"Topic7\", \"Topic7\", \"Topic7\", \"Topic7\", \"Topic7\", \"Topic7\", \"Topic7\", \"Topic7\", \"Topic7\", \"Topic7\", \"Topic7\", \"Topic7\", \"Topic7\", \"Topic7\", \"Topic7\", \"Topic7\", \"Topic7\", \"Topic7\", \"Topic7\", \"Topic7\", \"Topic7\", \"Topic8\", \"Topic8\", \"Topic8\", \"Topic8\", \"Topic8\", \"Topic8\", \"Topic8\", \"Topic8\", \"Topic8\", \"Topic8\", \"Topic8\", \"Topic8\", \"Topic8\", \"Topic8\", \"Topic8\", \"Topic8\", \"Topic8\", \"Topic8\", \"Topic8\", \"Topic8\", \"Topic8\", \"Topic8\", \"Topic8\", \"Topic8\", \"Topic8\", \"Topic8\", \"Topic8\", \"Topic8\", \"Topic8\", \"Topic8\", \"Topic8\", \"Topic8\", \"Topic8\", \"Topic8\", \"Topic8\", \"Topic8\", \"Topic8\", \"Topic8\", \"Topic8\", \"Topic8\", \"Topic8\", \"Topic8\", \"Topic8\", \"Topic8\", \"Topic8\", \"Topic8\", \"Topic8\", \"Topic8\", \"Topic8\", \"Topic8\", \"Topic8\", \"Topic8\", \"Topic8\", \"Topic8\", \"Topic8\", \"Topic8\", \"Topic8\", \"Topic8\", \"Topic8\", \"Topic8\", \"Topic8\", \"Topic8\", \"Topic8\", \"Topic8\", \"Topic8\", \"Topic8\", \"Topic8\", \"Topic8\", \"Topic8\", \"Topic8\", \"Topic8\", \"Topic8\", \"Topic8\", \"Topic8\", \"Topic8\", \"Topic8\", \"Topic8\", \"Topic8\", \"Topic8\", \"Topic8\", \"Topic9\", \"Topic9\", \"Topic9\", \"Topic9\", \"Topic9\", \"Topic9\", \"Topic9\", \"Topic9\", \"Topic9\", \"Topic9\", \"Topic9\", \"Topic9\", \"Topic9\", \"Topic9\", \"Topic9\", \"Topic9\", \"Topic9\", \"Topic9\", \"Topic9\", \"Topic9\", \"Topic9\", \"Topic9\", \"Topic9\", \"Topic9\", \"Topic9\", \"Topic9\", \"Topic9\", \"Topic9\", \"Topic9\", \"Topic9\", \"Topic9\", \"Topic9\", \"Topic9\", \"Topic9\", \"Topic9\", \"Topic9\", \"Topic9\", \"Topic9\", \"Topic9\", \"Topic9\", \"Topic9\", \"Topic9\", \"Topic9\", \"Topic9\", \"Topic9\", \"Topic9\", \"Topic9\", \"Topic9\", \"Topic9\", \"Topic9\", \"Topic9\", \"Topic9\", \"Topic9\", \"Topic9\", \"Topic9\", \"Topic9\", \"Topic9\", \"Topic9\", \"Topic9\", \"Topic9\", \"Topic9\", \"Topic9\", \"Topic9\", \"Topic9\", \"Topic9\", \"Topic9\", \"Topic9\", \"Topic9\", \"Topic9\", \"Topic9\", \"Topic9\", \"Topic10\", \"Topic10\", \"Topic10\", \"Topic10\", \"Topic10\", \"Topic10\", \"Topic10\", \"Topic10\", \"Topic10\", \"Topic10\", \"Topic10\", \"Topic10\", \"Topic10\", \"Topic10\", \"Topic10\", \"Topic10\", \"Topic10\", \"Topic10\", \"Topic10\", \"Topic10\", \"Topic10\", \"Topic10\", \"Topic10\", \"Topic10\", \"Topic10\", \"Topic10\", \"Topic10\", \"Topic10\", \"Topic10\", \"Topic10\", \"Topic10\", \"Topic10\", \"Topic10\", \"Topic10\", \"Topic10\", \"Topic10\", \"Topic10\", \"Topic10\", \"Topic10\", \"Topic10\", \"Topic10\", \"Topic10\", \"Topic10\", \"Topic10\", \"Topic10\", \"Topic10\", \"Topic10\", \"Topic10\", \"Topic10\", \"Topic10\", \"Topic10\", \"Topic10\", \"Topic10\", \"Topic10\", \"Topic10\", \"Topic10\", \"Topic10\", \"Topic10\", \"Topic10\", \"Topic10\", \"Topic10\", \"Topic10\", \"Topic10\", \"Topic10\", \"Topic10\", \"Topic10\", \"Topic10\", \"Topic10\", \"Topic10\", \"Topic10\", \"Topic10\", \"Topic10\", \"Topic10\", \"Topic10\", \"Topic10\", \"Topic10\", \"Topic10\", \"Topic10\", \"Topic10\", \"Topic10\", \"Topic10\", \"Topic10\", \"Topic10\"], \"Freq\": [5656.0, 2556.0, 1774.0, 6697.0, 3488.0, 1332.0, 863.0, 4544.0, 2313.0, 4300.0, 1393.0, 1135.0, 779.0, 2819.0, 1057.0, 3665.0, 2863.0, 1049.0, 2378.0, 1141.0, 2307.0, 2673.0, 724.0, 2430.0, 504.0, 392.0, 413.0, 816.0, 715.0, 1043.0, 37.41361405184882, 14.958674727711657, 11.986884913204205, 11.981032979795117, 10.99614219686315, 10.005538594263847, 10.005406664417588, 9.014890168179855, 18.8559273101213, 9.831054538038394, 19.673604891935266, 8.023801329799188, 20.345900715354617, 26.626832379883748, 7.033574341003349, 7.033572886391984, 7.03356187121699, 7.033554235934317, 7.0319484258077685, 20.94837544567209, 6.042958466877535, 6.0429405459436785, 6.042935934922626, 6.042927238019086, 6.042921707573827, 6.042912962742837, 6.042911494427976, 6.04288104671803, 6.042598038061727, 6.041382582694528, 49.57444338535802, 12.839319845524392, 29.270141780833743, 13.713183823797532, 19.33628478475693, 182.01205450473893, 254.90588390874643, 34.75685787354466, 13.345814797952832, 23.851238879432035, 40.06850272884263, 188.8403068595217, 41.21563954638858, 235.5945469727644, 3275.689800669712, 82.55697082557903, 208.30002610013142, 339.9934796272419, 1956.3698004325902, 1297.78374508794, 245.7923469241839, 261.1810705103485, 175.03322723817826, 223.892610189249, 362.714295086844, 623.8733558361014, 122.87230599091792, 109.51353953048243, 679.2996323825665, 1283.8575135004487, 1349.6132446257077, 1659.0131546697464, 361.3604617207658, 959.4628065647345, 376.8499857911564, 1804.086825001496, 553.4159117611391, 218.4422562852675, 830.755708149171, 427.00831973407213, 951.2286231715547, 1408.1312468061778, 554.1829571321915, 697.9613782744846, 1195.7992987588445, 524.4443842829916, 750.1895178385615, 492.0813511319513, 925.9410016913815, 1271.0803142722548, 1290.9224415524545, 552.9715975910977, 721.7337298024792, 544.3158924294237, 623.9803151223314, 457.2559511343231, 511.00935265036725, 901.5631511443682, 485.15357057826577, 494.4692005039449, 18.93554959468853, 16.942956417053438, 28.206601514400454, 16.82953263525975, 12.987163133147744, 11.995771510766687, 10.013058470926087, 10.012411251811951, 9.021639936532107, 9.021615232965544, 9.021028036644097, 19.7180823419895, 8.03025653601481, 8.030162581101814, 24.883924705719338, 24.85024797107407, 8.835568817662768, 7.038863360025033, 7.038859033737568, 7.030619181230526, 7.007651841480704, 6.924480362131054, 25.21664350784536, 6.047493127804104, 6.047419301395268, 6.0474187892543325, 6.047417140411876, 6.047409733656763, 6.047399606625349, 6.04739368059366, 35.4456379395283, 39.55574687479741, 34.97019355101421, 89.3616552258373, 270.5123432563273, 18.234598037250645, 28.485101049110973, 232.2395105856486, 57.2755490042161, 50.98058959112213, 10.930150009213312, 337.8808643944384, 203.8044076206224, 200.74401320028, 240.1873159553242, 164.15367338516177, 388.2298951582504, 214.92800238292466, 34.12117464684702, 337.186142236768, 54.0913515614578, 231.66077365511666, 196.1389066914143, 501.0113228308041, 84.07744122290823, 120.44175940954793, 1418.0073750838476, 372.3974641605228, 307.8603252439998, 242.81278927760516, 108.56656633235858, 1177.6602161173923, 237.32978953080328, 409.2409389753614, 966.0613686473619, 209.3283554703721, 173.6023221204469, 1270.7422887328405, 765.3561861613374, 406.37741087243677, 605.623197185052, 480.2947561289115, 456.77063376429925, 648.4729717869272, 389.867961562032, 529.3674281052494, 483.35710885930376, 400.955440076533, 554.8226716836638, 530.8269908619375, 607.8392900455885, 715.5576732473119, 425.3443621280715, 568.6097241867568, 387.15148815084166, 385.5103708184356, 363.6190207274856, 333.8824423124402, 359.3853458829526, 43.51714402537301, 35.49862575278494, 24.37369366776337, 22.350972928804932, 58.96064724071134, 14.260093878635555, 14.254905403152279, 13.248773629070165, 13.248748362549359, 12.237406082026492, 49.32663707522767, 259.3663056309349, 10.185497069042931, 9.2033230138048, 9.203260613350192, 9.203122087101884, 8.191968494985906, 8.191904646257308, 8.191893367679402, 17.241748948783176, 51.75538627252192, 7.180620784327108, 7.180617675405651, 7.177050051377165, 25.91367746182187, 7.9821758988461005, 7.079737332253832, 52.424369121559124, 6.1692789504671985, 6.169260737714551, 86.046098754762, 30.412519965803675, 152.28042178327226, 175.05179826763703, 92.8617562805686, 43.694082565062494, 82.56425067567332, 79.78347468896145, 211.0920636725782, 1003.2742116125277, 368.21710742159644, 85.78122579848088, 570.574215127348, 65.7617268695935, 368.8253578582841, 495.23429723815633, 418.6273995252507, 286.4067710764507, 109.83597578252365, 220.7677682373798, 401.0721583070634, 273.1296478883831, 216.2714557139805, 794.6181358287913, 1246.9944657530104, 885.7472128226589, 682.6233649251204, 792.4605260242628, 799.3221066629633, 241.15291801507016, 195.37535362212995, 1163.8734144888817, 585.1576941822578, 743.1975752343164, 911.9676676023095, 904.3929603114235, 442.29297564233127, 525.5904137307281, 1383.2092131049585, 432.7772106627724, 781.2529264438807, 882.5154026403868, 539.3413075017328, 1325.305032107352, 676.3608449308996, 585.5196010186294, 710.9137403477374, 919.2059019759876, 591.3997816480916, 519.5529058179305, 544.8472259846354, 478.399029346332, 484.8528572352659, 444.6199030641091, 71.44866821856941, 63.58785405504534, 48.53616620047964, 21.02548213235204, 19.12258678225951, 17.21998822278514, 17.21994972043274, 15.317233661826059, 15.317209838997808, 15.317208449941914, 15.317204023397627, 17.091404016261126, 16.18510440627367, 14.365820132900964, 14.365806487248426, 17.048039109538053, 32.92925322607548, 41.50133320695108, 10.560179552831107, 31.49070495936471, 9.608948624900627, 9.608855947179498, 9.592101749819413, 8.65756200456407, 8.657558599732669, 8.657542041839193, 8.657539291659393, 8.657467786467299, 18.150336923075578, 18.090383305891443, 127.42794522860791, 121.83361774104296, 66.26662861487132, 62.079201982648875, 408.3564127772212, 230.14865234497452, 32.88927651289701, 32.08689697024685, 272.4673975610095, 276.67004031386637, 91.36524248636117, 252.1150117917501, 34.7386973769885, 84.33353647233929, 55.70559492948076, 125.505489782349, 107.38849904842132, 199.20073824530655, 116.18229174189567, 127.54394797046878, 1684.2891115518712, 596.044831784872, 499.6165179486007, 802.2396261768073, 448.0167952044766, 106.87963227243576, 617.4785395628085, 226.33980842827586, 338.6225422156476, 127.30861397092703, 436.0706686081492, 499.5502388398274, 332.08493441969614, 259.3141450620381, 672.2589575531597, 413.2788364449144, 210.73874849108194, 362.01000191876574, 299.0478891908536, 217.30786005208438, 306.249060797505, 383.77146817629756, 349.36684706714357, 352.9392265986218, 260.9166341018023, 279.2467477585771, 335.2131824970863, 284.9451254212986, 304.2458506114474, 295.1274941818458, 279.66892473812493, 15.067036062224936, 10.959093304215807, 10.037579266673827, 10.022863360261496, 10.755236029702246, 7.084569042847068, 7.084569042847068, 7.084569042847068, 7.084569042847068, 7.084569042847068, 7.084497029578213, 6.086735031382952, 6.086719107585816, 6.086714101666695, 6.0867017871518225, 6.086689496222285, 6.086689496195705, 6.086689496177161, 6.086689496157321, 6.086669789133763, 5.088905835705858, 5.088901268356052, 5.088878258797449, 5.088852796472312, 5.088814213480672, 5.08879878853944, 11.533107135135781, 4.091089165543931, 4.091057603404561, 4.091049966556468, 155.7111340231774, 16.051742033762935, 8.079812798767486, 262.29764744966405, 218.79673244064875, 53.245041812488616, 15.002858612171856, 221.75089194088315, 449.5808547839702, 345.51673122757404, 624.1645715929122, 136.41899558432235, 337.999490610768, 19.544893959181625, 76.87521817333472, 177.48002665163133, 45.469183447432364, 29.329671676195144, 49.79508381636233, 298.84217762071626, 498.4605225875802, 76.8469621945058, 242.86925741331373, 25.11326022124021, 735.5792432520933, 63.00842899305979, 54.89026576129542, 148.96546778821204, 994.4753646857273, 42.28363234099463, 146.30830262081042, 563.4780469354022, 70.72177139098653, 51.634060073458436, 468.06340358532486, 239.23596538929922, 396.84383141563416, 285.0565406932631, 500.1710877602726, 410.3998265555144, 449.96859043544896, 304.7763602853653, 202.74272805757226, 353.23844832486145, 546.2638349193456, 364.00403640292285, 257.3133431746867, 285.5167959138286, 251.80222891449932, 296.5010082130083, 258.9488801856882, 237.30790523919646, 66.71823959547943, 62.15475905696856, 61.242066479801935, 23.820425058885636, 18.34522337396782, 13.781743210688312, 11.043646963991717, 11.043624995149138, 11.0436249149727, 9.218221844290142, 9.218214352716801, 9.218174404101749, 8.305555418045742, 7.392854653930429, 7.392799634583536, 6.480140810411561, 5.567460589000606, 5.567460589000606, 5.567460589000606, 5.567460589000606, 5.567460589000606, 5.56722225550185, 64.7384837995444, 10.130967902555474, 4.654734480233589, 4.654725020166686, 4.654720238637225, 4.654714502760033, 4.6546616067001265, 4.654606840401084, 71.26823337990959, 14.495833955600581, 9.927984226244268, 9.835190181603853, 67.00773032169101, 10.950088080885184, 72.51508933938999, 75.60402459365496, 101.23795396467867, 12.862776607393139, 98.71923811432445, 84.08210618826432, 141.2956535492071, 31.533522483589284, 26.945145113979212, 230.73182661812015, 30.131051059932943, 28.81067927975019, 39.81953011513325, 84.69556618383487, 31.118036047995272, 31.66880465075799, 131.5946605479196, 70.983566676161, 224.03892388479596, 96.35211337923953, 132.25322476741928, 132.20470503960996, 101.88370640473738, 161.57759506683496, 149.2682243722733, 242.87464755300184, 196.90463940280978, 86.95770447505471, 369.89491378431984, 171.44039521641665, 203.83268692864468, 245.51476772595078, 153.3069865558724, 142.4292688526565, 187.43192453556827, 163.96092155220293, 157.02305819914852, 176.38081697973794, 181.0820890192629, 131.2430346411988, 147.19873494994835, 121.33892693747057, 166.36200167387386, 107.16403903758817, 124.03822277299194, 138.779685389841, 133.84204286865616, 106.07109630839753, 92.6871379966607, 89.0203624794282, 64.26700797964722, 26.678572787477105, 13.843490482456394, 12.926746015561207, 12.926730543454067, 12.009958228081302, 12.009857524847725, 11.093156955609595, 10.17635604966789, 9.259572582648364, 8.342793237255522, 8.342793237255522, 8.342793237255522, 8.338571006498755, 15.677134064517594, 7.422779831814848, 14.649067315831712, 6.5092142115684295, 6.509213077833544, 15.157738717635015, 5.5924234775358475, 5.5924234775358475, 5.5924234775358475, 5.5924227101392745, 5.5924227101392745, 5.592420720729747, 5.59241322148729, 5.592389121362644, 80.49983843029644, 15.616281761691198, 21.914961431493424, 12.009955613708701, 9.824908713096686, 11.926182742724315, 11.038272664937688, 9.046410938593992, 404.75558354067164, 236.11419455821724, 17.756427680325807, 22.543635212614717, 19.46338780401622, 21.890626101329698, 16.6773788946109, 217.20963782383936, 141.08441090854785, 15.732260528587844, 35.488918654917654, 82.82565756603736, 392.7710555898814, 329.68818996491126, 107.40812036964321, 258.77349463567185, 51.62095499298468, 35.225068296796515, 96.25603715632708, 224.38332378715182, 164.16677464397324, 35.65898607514144, 142.59860911509563, 103.13465198560168, 94.32286758637406, 72.81091675984189, 90.98306084346153, 202.3553487991565, 86.5858600894129, 67.77450814719903, 94.68222563529478, 143.01893511659614, 59.948312184522855, 82.84440868381363, 114.52614648757861, 71.49883085295407, 67.89766125272521, 84.71235437890766, 77.08428879890438, 78.62827790732594, 78.62696215282895, 74.76213962956254, 15.160798096592115, 13.387622099805716, 12.501036732326876, 12.495375453681103, 11.61444403219251, 10.727845251105578, 8.954647688931223, 8.95459581854123, 8.06803722018604, 8.068034438709912, 7.181441867194974, 7.181430733055134, 14.207392733727616, 6.294851345668166, 6.294843419765014, 6.294843256049155, 5.408252564581319, 5.408252564581319, 5.408252564581319, 5.408252564581319, 5.408252564581319, 5.408252564581319, 5.408252564581319, 5.408250607674598, 4.521652461135262, 4.5216523117944565, 4.521577128930269, 4.5215397012044845, 5.2141941601921, 12.50106674420488, 18.01483774455529, 12.501074363079503, 17.682638074699984, 85.72958418094636, 15.268458505733355, 24.47604855644577, 17.774430140194916, 8.954638605397149, 26.699305894835664, 7.159966381691119, 33.988265578667125, 71.01644883779342, 66.5677681077519, 14.38379422237083, 94.54238060361651, 47.943042786728476, 21.575296785930306, 31.198928904777677, 155.16676323708282, 19.526953989055098, 16.940309223656662, 15.5580655163211, 93.4713668860966, 288.72068725841353, 173.39230327156918, 98.223630865826, 68.6649132246788, 51.26310377525183, 71.4872351548736, 87.42498012746117, 122.5440446077132, 63.0436803437581, 26.647846062615614, 61.46923123818227, 80.0403576774463, 45.163433088223144, 68.63028454433324, 69.19053805455349, 50.167746490003736, 103.80765207023855, 65.17632109420764, 80.95186143543542, 49.90371524358301, 94.76024034194954, 75.95405374936006, 73.73121790192742, 68.16971526924198, 56.272435174357604, 56.274203466269675, 51.22868244191778, 59.8144773511421, 55.486375257977436, 54.62074095891543, 53.755135829901036, 52.88951631721624, 48.5614093145211, 60.19111623970344, 9.608365451289716, 20.689885058761767, 57.039757677269634, 7.011521439780337, 61.43654547346062, 188.95638988983313, 4.414666902791188, 4.414658456194022, 4.414647112997718, 4.279632398938289, 3.5490412851512194, 3.549030768265496, 3.548937730590539, 3.5489319862884616, 3.5489013802306166, 3.548897037417322, 3.5314942389681905, 16.21351517029711, 6.24463247831324, 9.644780201896799, 2.6834265558926695, 2.68342324263035, 2.6834167989404945, 60.768271556221535, 50.69626814701602, 63.451254771993234, 192.12911425692081, 26.727169409130774, 65.33533890469937, 8.636250712430142, 61.22328480342482, 188.0351119207202, 58.85971855652166, 27.208225922544614, 71.20617077978072, 63.709749206691725, 168.74110228481385, 154.6266905750827, 131.90217445100103, 143.07455640214488, 275.1860666623839, 69.4941002252761, 71.79641015694455, 192.8817156824555, 202.40859298722089, 90.02321055904423, 132.92549661307416, 236.7552836902785, 117.93879087096425, 98.23374912153423, 80.01578318003894, 93.36171432715356, 118.08315744700181, 116.70232426867577, 92.99775747685977, 78.66701026562491, 106.64397930791708, 89.04341216632103, 109.87840064600105, 76.08021298608658, 84.39804294252261, 75.71838856272241, 81.30672887142659, 73.99848975487335, 8.150082610823079, 4.567622245906872, 3.6720254287176846, 3.6719700010326, 3.6704873070221877, 3.6704479029014836, 6.287937274857169, 13.20825855996917, 2.776409209106312, 2.7763955051481912, 2.7763953407148083, 2.7763955859526717, 2.776379680911995, 2.7763610984493514, 2.7763515427082504, 2.776303253958236, 2.7089735735902174, 10.113599328643163, 5.8064555157899616, 4.518041274078238, 12.830208698009674, 4.424105775174701, 1.8807934212589377, 1.8807910968031951, 1.8807910968031951, 1.8807910968031951, 1.8807910968031951, 1.8807906217207597, 1.8807894194323715, 1.8807894194323715, 3.6719882147007556, 3.6614727607075483, 5.238846692872655, 7.25441872519886, 5.170296693127384, 15.442117264138629, 155.3905428167363, 2.776361252296445, 4.079012678527565, 15.001635289401882, 39.612528412748546, 11.492123729207217, 35.42301258955781, 19.3289042309529, 209.65182558268083, 9.575591863573154, 13.53288631779645, 61.30229336344376, 20.72155766990142, 121.56490825845593, 25.922924639064544, 41.37673403279166, 63.4155084475195, 54.32729416783351, 23.566059005431512, 62.03278654941774, 45.58912880780713, 41.58436337301024, 51.68126627056565, 49.64548081445809, 69.49671753594261, 90.18168680518433, 41.625839484188326, 82.29833016027872, 113.78974770621805, 52.95412911847669, 87.41769073858352, 58.32135410697419, 92.6204811514699, 89.30842770354022, 57.96932315156105, 45.95593183893014, 65.3429290975013, 84.44989872688787, 32.98101425632839, 44.892976084764335, 57.02670580364548, 65.85774477762446, 53.70921377102338, 51.6099106014189, 45.1346260886889, 42.105588117878234, 42.15948512279244], \"Term\": [\"room\", \"apartment\", \"park\", \"portland\", \"bed\", \"place\", \"airbnb\", \"house\", \"queen\", \"private\", \"basement\", \"free\", \"unit\", \"downtown\", \"shared\", \"bedroom\", \"bathroom\", \"studio\", \"coffee\", \"location\", \"guests\", \"living\", \"rooms\", \"walk\", \"travelers\", \"couples\", \"condo\", \"minute\", \"microwave\", \"shower\", \"advance\", \"occupancy\", \"upholstered\", \"unpack\", \"locking\", \"plums\", \"commons\", \"ports\", \"capacity\", \"bathrobes\", \"marijuana\", \"sent\", \"casper\", \"carpeted\", \"holistic\", \"outer\", \"carpeting\", \"adjust\", \"acces\", \"dvds\", \"darker\", \"lily\", \"houseTM\", \"rollaway\", \"folded\", \"starter\", \"numbers\", \"accesses\", \"countryside\", \"freddie\", \"topper\", \"genders\", \"latex\", \"gazebo\", \"avail\", \"chair\", \"twin\", \"creek\", \"futons\", \"medium\", \"pong\", \"futon\", \"ping\", \"additional\", \"room\", \"fee\", \"foam\", \"couch\", \"bed\", \"queen\", \"double\", \"desk\", \"memory\", \"extra\", \"mattress\", \"size\", \"dresser\", \"multnomah\", \"use\", \"living\", \"bathroom\", \"bedroom\", \"closet\", \"large\", \"table\", \"private\", \"bedrooms\", \"sleep\", \"floor\", \"upstairs\", \"guests\", \"kitchen\", \"guest\", \"comfortable\", \"space\", \"main\", \"area\", \"shared\", \"access\", \"house\", \"home\", \"dining\", \"available\", \"bath\", \"quiet\", \"small\", \"basement\", \"portland\", \"cozy\", \"neighborhood\", \"molding\", \"grilling\", \"woodwork\", \"sculpture\", \"pottery\", \"retains\", \"todji\", \"corridors\", \"scholls\", \"renovating\", \"triplex\", \"elements\", \"viking\", \"outing\", \"magic\", \"crown\", \"wainscoting\", \"apizza\", \"cares\", \"retaining\", \"net\", \"deeply\", \"beams\", \"prohibition\", \"filmed\", \"patter\", \"bosch\", \"entirety\", \"rosebud\", \"pip\", \"carriage\", \"ladd\", \"barn\", \"character\", \"original\", \"handcrafted\", \"records\", \"cottage\", \"concordia\", \"quirky\", \"scandinavian\", \"division\", \"craftsman\", \"charm\", \"wood\", \"belmont\", \"hawthorne\", \"filled\", \"exposed\", \"floors\", \"reclaimed\", \"bungalow\", \"vintage\", \"modern\", \"lined\", \"years\", \"home\", \"open\", \"built\", \"porch\", \"beautifully\", \"house\", \"old\", \"alberta\", \"kitchen\", \"tabor\", \"ceilings\", \"portland\", \"space\", \"dining\", \"located\", \"floor\", \"enjoy\", \"neighborhood\", \"beautiful\", \"street\", \"just\", \"light\", \"restaurants\", \"living\", \"bedroom\", \"room\", \"large\", \"private\", \"blocks\", \"shops\", \"new\", \"main\", \"walk\", \"meyer\", \"ava\", \"gene\", \"rhododendron\", \"fred\", \"emergencies\", \"cheese\", \"gladstone\", \"meyers\", \"grocer\", \"courts\", \"seasons\", \"laughing\", \"crema\", \"whiskey\", \"livable\", \"genes\", \"cemetery\", \"ramen\", \"walgreens\", \"tennis\", \"sausage\", \"latin\", \"podnah\", \"mexican\", \"feed\", \"vines\", \"peninsula\", \"answers\", \"navarre\", \"yellow\", \"wilshire\", \"pok\", \"woodstock\", \"corridor\", \"sushi\", \"brewery\", \"pizza\", \"stop\", \"bus\", \"line\", \"straw\", \"max\", \"bakery\", \"grocery\", \"minute\", \"mississippi\", \"lines\", \"reed\", \"williams\", \"drive\", \"questions\", \"store\", \"blocks\", \"restaurants\", \"close\", \"distance\", \"walking\", \"shops\", \"stores\", \"market\", \"neighborhood\", \"bars\", \"away\", \"street\", \"walk\", \"food\", \"alberta\", \"house\", \"bike\", \"great\", \"downtown\", \"easy\", \"portland\", \"available\", \"park\", \"access\", \"home\", \"coffee\", \"quiet\", \"located\", \"new\", \"just\", \"kitchen\", \"alphabet\", \"nob\", \"classy\", \"timbers\", \"avenues\", \"eyes\", \"marquam\", \"delicatessen\", \"guided\", \"hollow\", \"council\", \"univ\", \"unbeatable\", \"elephants\", \"skyline\", \"museums\", \"heights\", \"museum\", \"arboretum\", \"director\", \"arriv\", \"mobility\", \"amtrak\", \"newspapers\", \"dating\", \"robert\", \"hoa\", \"sciences\", \"crest\", \"feast\", \"streetcar\", \"hill\", \"washington\", \"psu\", \"pearl\", \"forest\", \"elevator\", \"jump\", \"condo\", \"building\", \"bridge\", \"views\", \"smack\", \"hills\", \"nike\", \"ohsu\", \"willamette\", \"river\", \"waterfront\", \"trails\", \"portland\", \"park\", \"city\", \"downtown\", \"district\", \"hiking\", \"apartment\", \"car\", \"location\", \"rose\", \"away\", \"located\", \"minutes\", \"heart\", \"home\", \"great\", \"center\", \"just\", \"parking\", \"right\", \"walking\", \"restaurants\", \"walk\", \"access\", \"stay\", \"close\", \"bedroom\", \"street\", \"neighborhood\", \"kitchen\", \"space\", \"eliot\", \"hotplate\", \"warehouse\", \"villa\", \"bottled\", \"huh\", \"batteries\", \"yeah\", \"convene\", \"embracing\", \"syrup\", \"allergen\", \"fashionable\", \"flashlight\", \"cap\", \"jammer\", \"farming\", \"dreamer\", \"creator\", \"creaks\", \"beings\", \"rainhead\", \"rooted\", \"pan\", \"asap\", \"vent\", \"wonders\", \"stearns\", \"thurman\", \"doilies\", \"kettle\", \"cups\", \"festival\", \"maker\", \"toaster\", \"keurig\", \"flatware\", \"mini\", \"microwave\", \"kitchenette\", \"studio\", \"electric\", \"fridge\", \"cooktop\", \"press\", \"oven\", \"freezer\", \"plate\", \"soap\", \"suite\", \"entrance\", \"shampoo\", \"tea\", \"induction\", \"coffee\", \"iron\", \"pot\", \"refrigerator\", \"private\", \"snacks\", \"provided\", \"apartment\", \"dishes\", \"hair\", \"bathroom\", \"shower\", \"queen\", \"basement\", \"bed\", \"restaurants\", \"space\", \"shops\", \"dryer\", \"walk\", \"portland\", \"bedroom\", \"area\", \"downtown\", \"access\", \"room\", \"kitchen\", \"neighborhood\", \"midnight\", \"sms\", \"loyal\", \"blazing\", \"pour\", \"cuddling\", \"katy\", \"salad\", \"curfew\", \"fixing\", \"joke\", \"bubble\", \"modem\", \"surveillance\", \"lite\", \"nudes\", \"stressful\", \"combos\", \"fascinating\", \"overton\", \"wink\", \"cabs\", \"messaging\", \"envision\", \"awaiting\", \"mimosas\", \"overlooked\", \"dressed\", \"ordinary\", \"packs\", \"upgrades\", \"jumping\", \"passionate\", \"turret\", \"regular\", \"unparalleled\", \"absolutely\", \"assist\", \"complimentary\", \"artifacts\", \"speed\", \"week\", \"days\", \"led\", \"charging\", \"high\", \"ultra\", \"countertops\", \"lights\", \"email\", \"craft\", \"cabin\", \"travelers\", \"hotel\", \"need\", \"text\", \"equipped\", \"offer\", \"business\", \"perfect\", \"fully\", \"apartment\", \"new\", \"netflix\", \"portland\", \"light\", \"coffee\", \"kitchen\", \"comfortable\", \"cozy\", \"space\", \"guests\", \"available\", \"bed\", \"home\", \"place\", \"queen\", \"modern\", \"room\", \"phone\", \"stay\", \"private\", \"bedroom\", \"wifi\", \"com\", \"www\", \"https\", \"lady\", \"alexa\", \"hafner\", \"opal\", \"blended\", \"colony\", \"echo\", \"bluebird\", \"dwan\", \"circles\", \"advisor\", \"yelp\", \"mural\", \"controls\", \"responsibly\", \"sourced\", \"multiplex\", \"evermore\", \"heavenly\", \"comestibles\", \"beit\", \"shlomo\", \"indonesia\", \"failing\", \"boil\", \"rescue\", \"wei\", \"website\", \"haus\", \"stars\", \"panel\", \"westin\", \"hippie\", \"carved\", \"click\", \"airbnb\", \"hidden\", \"inn\", \"zen\", \"separately\", \"bohemian\", \"granola\", \"rooms\", \"number\", \"lotion\", \"painted\", \"victorian\", \"room\", \"house\", \"phone\", \"bed\", \"tiny\", \"locally\", \"built\", \"private\", \"bathroom\", \"claw\", \"queen\", \"guest\", \"shared\", \"mattress\", \"like\", \"portland\", \"shower\", \"old\", \"bath\", \"home\", \"king\", \"modern\", \"space\", \"local\", \"friendly\", \"bedroom\", \"just\", \"living\", \"kitchen\", \"walk\", \"nod\", \"creation\", \"authentically\", \"yurt\", \"sailors\", \"excess\", \"sos\", \"stucco\", \"therapists\", \"popping\", \"craftspeople\", \"baked\", \"reception\", \"promises\", \"bon\", \"boxes\", \"shou\", \"rusted\", \"sector\", \"masterpieces\", \"sugi\", \"burned\", \"signature\", \"stateroom\", \"shirt\", \"bellaterra\", \"gaming\", \"chris\", \"titled\", \"interiors\", \"wit\", \"triple\", \"soothing\", \"bunk\", \"staff\", \"society\", \"unlike\", \"distilleries\", \"laid\", \"poet\", \"affordable\", \"hotel\", \"community\", \"thursday\", \"experience\", \"service\", \"hospitality\", \"farm\", \"shared\", \"hostel\", \"ways\", \"lobby\", \"rooms\", \"room\", \"guests\", \"welcome\", \"hot\", \"common\", \"arts\", \"alberta\", \"access\", \"tub\", \"create\", \"offer\", \"enjoy\", \"unique\", \"use\", \"district\", \"come\", \"home\", \"cozy\", \"bathroom\", \"beds\", \"portland\", \"kitchen\", \"house\", \"space\", \"city\", \"available\", \"yard\", \"condos\", \"tom\", \"wired\", \"mccall\", \"grills\", \"christian\", \"kitchens\", \"dame\", \"amusement\", \"church\", \"rogue\", \"tvs\", \"adventurers\", \"filbert\", \"jungalow\", \"nonna\", \"circular\", \"biwa\", \"mimi\", \"uofp\", \"intentionally\", \"gigabit\", \"mts\", \"loc\", \"coziness\", \"autentica\", \"yakuza\", \"composer\", \"assessed\", \"izakaya\", \"barbecue\", \"courthouse\", \"fitness\", \"solo\", \"furry\", \"pioneer\", \"expatriate\", \"providence\", \"couples\", \"conveniences\", \"ambiance\", \"state\", \"facilities\", \"travelers\", \"business\", \"condo\", \"good\", \"place\", \"waterfront\", \"university\", \"free\", \"park\", \"square\", \"location\", \"portland\", \"like\", \"center\", \"screen\", \"wifi\", \"walk\", \"located\", \"minute\", \"property\", \"available\", \"laundry\", \"downtown\", \"internet\", \"love\", \"flat\", \"living\", \"offer\", \"frere\", \"sixth\", \"insurance\", \"sand\", \"recommending\", \"peoples\", \"log\", \"paper\", \"chaneels\", \"galvanized\", \"piping\", \"dani\", \"cinemax\", \"episode\", \"trunk\", \"global\", \"attributes\", \"consisting\", \"selected\", \"crossing\", \"california\", \"heats\", \"eurovan\", \"deserves\", \"redid\", \"sane\", \"understandable\", \"complaints\", \"methods\", \"microfiber\", \"surprises\", \"equal\", \"received\", \"tent\", \"practical\", \"updates\", \"unit\", \"backup\", \"adjusted\", \"landing\", \"duplex\", \"standing\", \"quality\", \"added\", \"apartment\", \"thought\", \"thanks\", \"king\", \"tastefully\", \"basement\", \"hbo\", \"linens\", \"high\", \"sofa\", \"roku\", \"make\", \"cable\", \"screen\", \"features\", \"newly\", \"shower\", \"area\", \"brand\", \"new\", \"bedroom\", \"built\", \"living\", \"size\", \"bed\", \"kitchen\", \"bath\", \"separate\", \"queen\", \"home\", \"internet\", \"modern\", \"space\", \"portland\", \"bathroom\", \"great\", \"comfortable\", \"spacious\", \"need\"], \"Total\": [5656.0, 2556.0, 1774.0, 6697.0, 3488.0, 1332.0, 863.0, 4544.0, 2313.0, 4300.0, 1393.0, 1135.0, 779.0, 2819.0, 1057.0, 3665.0, 2863.0, 1049.0, 2378.0, 1141.0, 2307.0, 2673.0, 724.0, 2430.0, 504.0, 392.0, 413.0, 816.0, 715.0, 1043.0, 38.58706818963955, 15.801780820351052, 12.829835890908344, 12.829412002997193, 11.83918021030701, 10.84852845367556, 10.848518319539195, 9.857871912889179, 20.671954204071206, 10.834799275402473, 21.732506801096036, 8.867178516581777, 22.595209813433655, 29.68866941576495, 7.876565959951593, 7.876567352356637, 7.876565403884903, 7.876563260319674, 7.876569042838693, 23.6966275628404, 6.8859138571810465, 6.885915196075725, 6.8859115248404, 6.885914401058654, 6.885911333426806, 6.885912614315706, 6.88591207975537, 6.885914065937627, 6.885899307212332, 6.885793074147734, 56.97870226006782, 14.768898719609606, 34.24708395456224, 15.79975588211507, 22.78981367433928, 235.4212201651137, 336.5292576895113, 42.36357240663783, 15.649988464513644, 28.705388764205168, 49.29227794965206, 257.6523398857628, 51.27695397206399, 332.67050455800523, 5656.634751670281, 109.71063116204412, 297.1813960557926, 509.3817072085735, 3488.470472260665, 2313.2131294190585, 371.8877712058437, 398.2178149278938, 259.70796082113327, 341.8794570354859, 592.2176954560201, 1095.1706434835519, 179.5943024583776, 157.83177891579658, 1259.9527826748836, 2673.163304513885, 2863.712165601665, 3665.2333062504918, 635.8678283077384, 1997.7885258016531, 678.5355967052427, 4300.407617188509, 1097.709205734249, 363.6130098262065, 1829.2951505009582, 838.8334968909629, 2307.4486428570417, 3875.8294365591128, 1197.25358248893, 1644.301980307488, 3406.9950718399778, 1136.8515492137506, 1951.03066670237, 1057.1961181875104, 2765.873014515797, 4544.8316342129865, 4957.736064869056, 1347.3032161279866, 2116.9580107787688, 1358.7568357270222, 1813.9229831240382, 1030.8682983672918, 1393.996826237403, 6697.786949849107, 1414.7152834732174, 3067.586069554291, 19.778445942510157, 17.794421866635478, 29.64133997743558, 17.79556832357819, 13.830091034546577, 12.838699117038106, 10.855916909346647, 10.855890883322937, 9.86452323658406, 9.864523733103963, 9.864521873004104, 21.663256607428178, 8.87313108836294, 8.873131529126747, 27.518033084753867, 27.496441932755012, 9.864384818512578, 7.881739707691679, 7.881738623542205, 7.8811212277055915, 7.881759964866039, 7.867229654156147, 28.71502332212983, 6.890347836194274, 6.890343410950877, 6.890344287200607, 6.890343751760406, 6.890342661986643, 6.890343801926686, 6.890344690085486, 40.42837688019129, 45.42511817649658, 40.2180159039741, 109.04441968424024, 341.87624480166136, 21.594126638349746, 34.750350677915684, 334.6415654786121, 76.03314347554614, 69.20817352094296, 12.845614083646424, 589.4316038379674, 336.5190264467782, 335.69286539805006, 417.68386883752606, 272.02335298389846, 727.4195455969701, 374.3961773975084, 45.81183805983836, 666.5287683246431, 78.35800673105153, 442.8627765549083, 368.3954420116758, 1144.9937024646379, 135.44244633585714, 215.45337656632248, 4957.736064869056, 915.5200621317464, 732.7615846387462, 550.4734815182024, 193.85149944560482, 4544.8316342129865, 564.7553505474413, 1206.9099731630672, 3875.8294365591128, 494.4293226146391, 384.79321071651515, 6697.786949849107, 3406.9950718399778, 1347.3032161279866, 2442.5932715347353, 1829.2951505009582, 1750.5038315535999, 3067.586069554291, 1378.4295304450725, 2327.7765306529254, 1996.703881829177, 1483.1925978856093, 2908.3255394575935, 2673.163304513885, 3665.2333062504918, 5656.634751670281, 1997.7885258016531, 4300.407617188509, 1633.667385346628, 1785.131935282392, 1758.7766389370147, 1136.8515492137506, 2430.387424008124, 44.423397540247315, 36.33957382835092, 25.214620550377873, 23.1918999290891, 61.48418585515539, 15.101023492484352, 15.100537998118956, 14.089665699231269, 14.089663758587548, 13.078305821332577, 53.04777568377134, 280.51500191299215, 11.052855418404505, 10.044226795127893, 10.044224283632227, 10.044212223429591, 9.03286789915005, 9.032865182310681, 9.03286159503392, 19.077548949603358, 57.744422509160756, 8.021508867962819, 8.02151001818514, 8.021067192227806, 29.210555872540166, 9.012402491234441, 8.015529266481245, 59.46806876022486, 7.010150266608632, 7.010149642969221, 99.03608637862783, 34.872516433767935, 178.43151570585363, 208.80489087013993, 115.25600280762258, 53.16616147728493, 106.20935215279181, 102.52934147900082, 293.20672176896045, 1567.8336881366195, 533.700509928395, 112.3648413940104, 913.5534757466319, 85.3158272417939, 574.9416941265112, 816.8303856604111, 677.3491354491093, 446.4397295506269, 152.51117981744272, 343.58270098060035, 684.1142235838101, 443.6940766260682, 342.13183320021955, 1633.667385346628, 2908.3255394575935, 1946.71096654796, 1421.3476330248452, 1709.7929939808596, 1785.131935282392, 407.67189474157146, 312.4399874964697, 3067.586069554291, 1280.2012985325746, 1775.868291437932, 2327.7765306529254, 2430.387424008124, 934.1343270696689, 1206.9099731630672, 4544.8316342129865, 942.5247446399425, 2288.94535842619, 2819.3371669169173, 1362.952637702295, 6697.786949849107, 2116.9580107787688, 1774.9632724471023, 2765.873014515797, 4957.736064869056, 2378.957595201441, 1813.9229831240382, 2442.5932715347353, 1758.7766389370147, 1996.703881829177, 3875.8294365591128, 72.2955722581401, 64.669883915371, 50.45715583107278, 21.87237712249066, 19.96961273634258, 18.066852841915047, 18.06685218650342, 16.164090824703752, 16.164090267377965, 16.164090952446635, 16.164091142133035, 18.072160600089624, 17.12023927648557, 15.212708229264413, 15.212710311459732, 18.075237932844935, 35.25014518936139, 44.67314702707314, 11.407186249374512, 34.110766912065934, 10.455804459578689, 10.45580451616053, 10.455122994335673, 9.504423650776554, 9.50442297061249, 9.504424618571605, 9.504422785473068, 9.504422113173066, 20.030918168438376, 20.01303205258933, 144.50024584323805, 139.17184600611125, 76.47209447243202, 71.69155113007376, 500.8224058489992, 282.118817598493, 37.87062591658595, 38.259680421829444, 413.6589732262666, 438.28953514926906, 125.43551559185826, 435.35684150979813, 42.50931644886963, 122.26382733843731, 77.20157720077478, 209.11100583299242, 175.00010524409163, 377.1561123877668, 203.38753314276863, 231.3986842178798, 6697.786949849107, 1774.9632724471023, 1464.013209673545, 2819.3371669169173, 1305.7096875726793, 202.49819365162253, 2556.4728327246253, 610.6908084125881, 1141.7440311911616, 267.98857691266824, 1775.868291437932, 2442.5932715347353, 1326.8925334094488, 916.6810294048652, 4957.736064869056, 2288.94535842619, 673.6244276635247, 1996.703881829177, 1424.4123980081104, 808.2573295384772, 1709.7929939808596, 2908.3255394575935, 2430.387424008124, 2765.873014515797, 1555.571531633709, 1946.71096654796, 3665.2333062504918, 2327.7765306529254, 3067.586069554291, 3875.8294365591128, 3406.9950718399778, 15.90938791250312, 11.917245591395577, 10.918393017770825, 10.919903617972563, 11.88671147252734, 7.926780320107298, 7.926780320107298, 7.926780320107298, 7.926780320107298, 7.926780320107298, 7.926774662411523, 6.928953288480438, 6.928952978211907, 6.928950749056961, 6.928953790355429, 6.928948973563979, 6.928948973563737, 6.928948973563569, 6.928948973563391, 6.928951564954433, 5.931126477642941, 5.931126513423706, 5.931124898614615, 5.931121749336469, 5.9311199071882, 5.931118304698759, 13.902622710193725, 4.93330044278284, 4.933299767902693, 4.933296403167716, 193.76439429894617, 19.63634131871125, 9.811092273932843, 353.66412680670436, 301.11471449364126, 70.95357081799816, 18.614426028935668, 334.0172770788926, 715.4263185292164, 546.2068838743332, 1049.672777244136, 206.19778619766393, 584.2342335047603, 25.526333996221496, 122.95787781301108, 321.9900142563918, 70.52074078525752, 42.56229663925536, 79.23828374558035, 640.5708609236643, 1300.3559540356785, 141.1346153057642, 575.5511830515509, 36.86962311736448, 2378.957595201441, 117.93003888426269, 99.78984385465697, 363.99012991607293, 4300.407617188509, 72.39425591109301, 393.80959595838044, 2556.4728327246253, 151.60905240379097, 98.80441454946246, 2863.712165601665, 1043.5228374955834, 2313.2131294190585, 1393.996826237403, 3488.470472260665, 2908.3255394575935, 3406.9950718399778, 1785.131935282392, 907.5466403774551, 2430.387424008124, 6697.786949849107, 3665.2333062504918, 1951.03066670237, 2819.3371669169173, 2765.873014515797, 5656.634751670281, 3875.8294365591128, 3067.586069554291, 67.56898174930178, 63.00548937784255, 62.09279057428231, 24.6721956934729, 19.195963803635085, 14.632470990156458, 11.894375344726072, 11.894376828005536, 11.89437703660878, 10.068981125721987, 10.068978429229096, 10.068980454671653, 9.156280045113903, 8.24358154977034, 8.243585014610826, 7.330884073137946, 6.418184683091468, 6.418184683091468, 6.418184683091468, 6.418184683091468, 6.418184683091468, 6.4181992100048975, 75.78982340372404, 11.979501327554477, 5.505487919878399, 5.505488942585265, 5.505488279347069, 5.505489710437451, 5.505491334916228, 5.505499402003782, 85.46421366565717, 17.471521743285304, 11.990568059650034, 11.997587596778288, 91.0045152482778, 13.801101441849264, 108.23559039675675, 114.07573976852888, 159.76065537011067, 16.448163174765607, 172.97349694522015, 145.6344283993584, 284.1579769298242, 48.24866339373169, 40.58602136105595, 631.5777735502455, 50.29293811975353, 48.89966928945512, 76.56563282891108, 225.66923147043667, 57.6257862671767, 60.87817594887636, 504.7743001540604, 203.5020927487629, 1299.0124252543976, 392.4515573940223, 670.9207239844003, 719.1336840116263, 482.6184781155074, 1111.4840788324973, 1030.3212442579738, 2556.4728327246253, 1758.7766389370147, 388.55064665878825, 6697.786949849107, 1483.1925978856093, 2378.957595201441, 3875.8294365591128, 1644.301980307488, 1414.7152834732174, 3406.9950718399778, 2307.4486428570417, 2116.9580107787688, 3488.470472260665, 4957.736064869056, 1332.0861849930973, 2313.2131294190585, 1144.9937024646379, 5656.634751670281, 668.1078032465897, 1555.571531633709, 4300.407617188509, 3665.2333062504918, 755.2395903678059, 93.53788952959991, 89.8706961512475, 65.11734654561552, 27.5289268663515, 14.693854724544666, 13.777064426582601, 13.77706555171183, 12.86027351639569, 12.860279220603005, 11.943483133035853, 11.026693808230274, 10.109902394329547, 9.19311048958484, 9.19311048958484, 9.19311048958484, 9.192974020057367, 17.440135579643997, 8.276581519972298, 16.49358521311951, 7.359529077929393, 7.359529178140438, 17.43782170226458, 6.442738343896261, 6.442738343896261, 6.442738343896261, 6.4427383498698045, 6.4427383498698045, 6.442738573031558, 6.44273889794412, 6.442738840280657, 97.58471616595914, 18.33544689747696, 27.85624997353613, 14.878644208943186, 11.937824368947565, 14.891626492546452, 13.755724036160991, 11.117727913900938, 863.7861173821225, 474.3427085564829, 24.13857680091469, 32.566313299283266, 27.3023123799437, 31.94548885728831, 23.09773169466466, 724.5963112957904, 404.439008043912, 21.49888622713522, 66.3891667593758, 218.1623299787203, 5656.634751670281, 4544.8316342129865, 668.1078032465897, 3488.470472260665, 205.34343363318538, 101.17859868963374, 732.7615846387462, 4300.407617188509, 2863.712165601665, 112.89169014601433, 2313.2131294190585, 1197.25358248893, 1057.1961181875104, 592.2176954560201, 1008.8298285657204, 6697.786949849107, 1043.5228374955834, 564.7553505474413, 1358.7568357270222, 4957.736064869056, 445.60208306351666, 1144.9937024646379, 3406.9950718399778, 749.597007134016, 829.0767301518872, 3665.2333062504918, 1996.703881829177, 2673.163304513885, 3875.8294365591128, 2430.387424008124, 16.014175709383608, 14.240977093212814, 13.354377476884206, 13.355041966174086, 12.467778093831862, 11.581179312744885, 9.80798175057094, 9.807987063039327, 8.921383103739815, 8.921384584073719, 8.034784457775768, 8.034785913485058, 16.124234934025097, 7.14818540731005, 7.148185802751246, 7.148186309040918, 6.261586626223044, 6.261586626223044, 6.261586626223044, 6.261586626223044, 6.261586626223044, 6.261586626223044, 6.261586626223044, 6.261586714680209, 5.374987925969895, 5.37498795917108, 5.374993685623476, 5.375001080849387, 6.285931497151912, 15.241985883794223, 23.590137571924398, 16.01123586201958, 23.442614044724344, 136.32196879840208, 20.579731838456034, 38.509856703736354, 26.242828657095313, 11.620394644009371, 46.05779561459115, 9.035305303828089, 71.52654973268896, 203.5020927487629, 202.97985542769888, 24.20952865737475, 406.428370223095, 151.09241572204567, 45.36014365091034, 82.67995375726136, 1057.1961181875104, 39.81377812800604, 32.48566595346831, 28.4545766474634, 724.5963112957904, 5656.634751670281, 2307.4486428570417, 1090.1609384951319, 563.7445553845617, 315.4502830215328, 699.2981374838902, 1206.9099731630672, 2765.873014515797, 725.6079185326645, 86.13196226628939, 719.1336840116263, 1750.5038315535999, 379.7729950334246, 1259.9527826748836, 1305.7096875726793, 548.8882539952954, 4957.736064869056, 1414.7152834732174, 2863.712165601665, 618.8766703025242, 6697.786949849107, 3875.8294365591128, 4544.8316342129865, 3406.9950718399778, 1464.013209673545, 2116.9580107787688, 941.2927863391463, 60.66993278221373, 56.34182050016267, 55.47619934648121, 54.61057536401367, 53.74495292957041, 49.416841027362565, 62.53531752663197, 10.463843268582707, 22.63896375511822, 63.58461211801264, 7.866974298370191, 69.70870493329816, 219.79405608568632, 5.270106293865193, 5.270107399813442, 5.270108462656248, 5.289608469835201, 4.404484330523585, 4.404486052047119, 4.404493758458316, 4.404499372773745, 4.4044960159404445, 4.40450163124111, 4.407008981391828, 20.410250301708807, 7.978395392125773, 12.441222991094081, 3.5388611060734063, 3.5388613218430183, 3.5388619199075473, 80.48525940849017, 67.28157660954605, 85.04553761715289, 268.36724480175667, 39.19987908460931, 105.82410566505395, 11.627941058255509, 104.49560533985338, 392.6815966756162, 109.88958870620273, 46.47302878504182, 161.4118495377591, 143.25982323618697, 504.7743001540604, 482.6184781155074, 413.6589732262666, 519.4598366800152, 1332.0861849930973, 203.38753314276863, 222.08821922653513, 1135.7142805350718, 1774.9632724471023, 387.3090711292322, 1141.7440311911616, 6697.786949849107, 1008.8298285657204, 673.6244276635247, 362.05066389464133, 755.2395903678059, 2430.387424008124, 2442.5932715347353, 816.8303856604111, 363.75795642491386, 2116.9580107787688, 773.3927434601401, 2819.3371669169173, 325.6147822826098, 834.3243244387882, 376.5470317099302, 2673.163304513885, 719.1336840116263, 9.002538967695928, 5.420075187153426, 4.524457936890546, 4.524463932288772, 4.524655532425812, 4.52462543206447, 8.074571382931634, 17.127133605674533, 3.628841948931676, 3.628842423140628, 3.6288426088372816, 3.62884300380776, 3.628842787908012, 3.6288453578267, 3.628845187831706, 3.6288485896383245, 3.6330409195877476, 13.706304571055181, 8.089996901358154, 6.374538242529516, 18.147574392989426, 6.335511930872954, 2.733225948147253, 2.7332261968584355, 2.7332261968584355, 2.7332261968584355, 2.7332261968584355, 2.7332262650821115, 2.733226372791081, 2.733226372791081, 5.411061150455773, 5.516225135884955, 8.322466209344554, 12.896253496398051, 9.160572948797528, 36.747570413191596, 779.6657425950243, 4.494471210774365, 7.382127024287127, 43.01435670080305, 163.78577635105648, 30.076848142244565, 167.29488665412256, 67.82202200831156, 2556.4728327246253, 24.018292180322035, 41.894587528684475, 445.60208306351666, 83.28165989321992, 1393.996826237403, 124.41210874056448, 268.7608790154768, 631.5777735502455, 507.86215552981906, 120.55942759664646, 732.8688103269156, 426.1396454094192, 362.05066389464133, 571.2981685787015, 543.0072730554201, 1043.5228374955834, 1951.03066670237, 416.4363116744424, 1758.7766389370147, 3665.2333062504918, 732.7615846387462, 2673.163304513885, 1095.1706434835519, 3488.470472260665, 3875.8294365591128, 1358.7568357270222, 730.2625602631726, 2313.2131294190585, 4957.736064869056, 325.6147822826098, 1144.9937024646379, 3406.9950718399778, 6697.786949849107, 2863.712165601665, 2288.94535842619, 1644.301980307488, 1079.9559900977133, 1299.0124252543976], \"loglift\": [30.0, 29.0, 28.0, 27.0, 26.0, 25.0, 24.0, 23.0, 22.0, 21.0, 20.0, 19.0, 18.0, 17.0, 16.0, 15.0, 14.0, 13.0, 12.0, 11.0, 10.0, 9.0, 8.0, 7.0, 6.0, 5.0, 4.0, 3.0, 2.0, 1.0, 1.3815, 1.3575, 1.3444, 1.344, 1.3385, 1.3315, 1.3315, 1.323, 1.3204, 1.3152, 1.3128, 1.3124, 1.3075, 1.3035, 1.2992, 1.2992, 1.2992, 1.2992, 1.299, 1.2891, 1.2818, 1.2818, 1.2818, 1.2818, 1.2818, 1.2818, 1.2818, 1.2818, 1.2817, 1.2816, 1.2732, 1.2724, 1.2553, 1.2707, 1.248, 1.1551, 1.1346, 1.2145, 1.2531, 1.2271, 1.2052, 1.1017, 1.194, 1.0673, 0.8661, 1.128, 1.057, 1.0081, 0.834, 0.8344, 0.9983, 0.9906, 1.0178, 0.9891, 0.9221, 0.8497, 1.0328, 1.0469, 0.7946, 0.679, 0.6601, 0.6197, 0.8473, 0.679, 0.8243, 0.5437, 0.7275, 0.9028, 0.623, 0.7372, 0.5262, 0.3999, 0.6421, 0.5555, 0.3654, 0.6387, 0.4566, 0.6476, 0.3181, 0.1383, 0.0668, 0.5218, 0.3363, 0.4976, 0.3453, 0.5995, 0.4088, -0.593, 0.3422, -0.4128, 1.6934, 1.6879, 1.6873, 1.6811, 1.6741, 1.669, 1.6561, 1.6561, 1.6476, 1.6476, 1.6476, 1.6429, 1.6371, 1.6371, 1.6363, 1.6358, 1.6268, 1.6238, 1.6238, 1.6227, 1.6194, 1.6093, 1.607, 1.6065, 1.6065, 1.6065, 1.6065, 1.6064, 1.6064, 1.6064, 1.6054, 1.5986, 1.5971, 1.5379, 1.5028, 1.5678, 1.5381, 1.3716, 1.4536, 1.4313, 1.5755, 1.1805, 1.2354, 1.2228, 1.1836, 1.2319, 1.109, 1.1819, 1.4423, 1.0555, 1.3663, 1.089, 1.1066, 0.9104, 1.2601, 1.1554, 0.4852, 0.8374, 0.8698, 0.9185, 1.1572, 0.3865, 0.87, 0.6554, 0.3477, 0.8774, 0.941, 0.0748, 0.2437, 0.5384, 0.3424, 0.3997, 0.3935, 0.1829, 0.474, 0.256, 0.3184, 0.4288, 0.0803, 0.1204, -0.0598, -0.3306, 0.19, -0.2863, 0.2972, 0.2043, 0.1607, 0.5117, -0.1745, 1.7235, 1.7207, 1.7102, 1.7072, 1.7022, 1.6868, 1.6865, 1.6826, 1.6826, 1.6776, 1.6714, 1.6657, 1.6624, 1.6567, 1.6566, 1.6566, 1.6464, 1.6464, 1.6464, 1.6429, 1.6346, 1.6333, 1.6333, 1.6329, 1.6243, 1.6227, 1.6199, 1.618, 1.6163, 1.6163, 1.6035, 1.6072, 1.5856, 1.5678, 1.528, 1.5479, 1.4923, 1.4933, 1.4155, 1.2977, 1.3729, 1.4741, 1.2734, 1.4838, 1.3001, 1.2437, 1.2629, 1.3002, 1.4158, 1.3018, 1.2101, 1.2589, 1.2854, 1.0234, 0.8972, 0.9566, 1.0107, 0.9751, 0.9406, 1.2191, 1.2746, 0.775, 0.9612, 0.873, 0.807, 0.7555, 0.9964, 0.9128, 0.5545, 0.9658, 0.6691, 0.5826, 0.817, 0.124, 0.6031, 0.6351, 0.3855, 0.0589, 0.3522, 0.4938, 0.2438, 0.4422, 0.3287, -0.4212, 2.125, 2.1199, 2.098, 2.0973, 2.0935, 2.0888, 2.0888, 2.083, 2.083, 2.083, 2.083, 2.081, 2.0806, 2.0795, 2.0795, 2.0783, 2.0687, 2.0632, 2.0596, 2.0569, 2.0523, 2.0523, 2.0506, 2.0435, 2.0435, 2.0435, 2.0435, 2.0435, 2.0382, 2.0358, 2.0111, 2.0037, 1.9936, 1.9928, 1.9327, 1.9332, 1.9958, 1.9609, 1.7193, 1.6767, 1.8199, 1.5905, 1.9349, 1.7654, 1.8105, 1.6263, 1.6485, 1.4985, 1.5768, 1.5411, 0.7564, 1.0456, 1.0617, 0.88, 1.0671, 1.4978, 0.7161, 1.1442, 0.9214, 1.3925, 0.7326, 0.5497, 0.7516, 0.8741, 0.1387, 0.4251, 0.9747, 0.4292, 0.5759, 0.8232, 0.4171, 0.1115, 0.1971, 0.078, 0.3514, 0.195, -0.2551, 0.0364, -0.174, -0.4383, -0.3632, 2.2824, 2.253, 2.2527, 2.2511, 2.2368, 2.2245, 2.2245, 2.2245, 2.2245, 2.2245, 2.2245, 2.2072, 2.2072, 2.2072, 2.2072, 2.2072, 2.2072, 2.2072, 2.2072, 2.2072, 2.1837, 2.1837, 2.1837, 2.1837, 2.1837, 2.1837, 2.15, 2.1496, 2.1496, 2.1496, 2.1182, 2.1353, 2.1427, 2.038, 2.0175, 2.0497, 2.1211, 1.9272, 1.8723, 1.8789, 1.817, 1.9237, 1.7896, 2.0698, 1.8672, 1.7412, 1.898, 1.9645, 1.8723, 1.5744, 1.378, 1.7289, 1.474, 1.9528, 1.1631, 1.71, 1.7391, 1.4434, 0.8726, 1.7991, 1.3467, 0.8246, 1.5743, 1.6879, 0.5256, 0.8639, 0.574, 0.7496, 0.3946, 0.3786, 0.3124, 0.5692, 0.838, 0.4082, -0.1696, 0.0273, 0.311, 0.0469, -0.0596, -0.6117, -0.3691, -0.2225, 2.7179, 2.7169, 2.7167, 2.6954, 2.6852, 2.6706, 2.6563, 2.6563, 2.6563, 2.6423, 2.6423, 2.6423, 2.633, 2.6216, 2.6216, 2.6072, 2.5883, 2.5883, 2.5883, 2.5883, 2.5883, 2.5883, 2.5729, 2.5629, 2.5627, 2.5627, 2.5627, 2.5627, 2.5627, 2.5627, 2.5489, 2.5438, 2.5418, 2.5318, 2.4244, 2.4991, 2.33, 2.3192, 2.2743, 2.4847, 2.1697, 2.1812, 2.0319, 2.3052, 2.3209, 1.7236, 2.2182, 2.2015, 2.0768, 1.7505, 2.1144, 2.077, 1.3862, 1.6773, 0.973, 1.3261, 1.1066, 1.0368, 1.1751, 0.8021, 0.7987, 0.3767, 0.5409, 1.2335, -0.1658, 0.5728, 0.2734, -0.0286, 0.3579, 0.4347, -0.1696, 0.0863, 0.1292, -0.254, -0.5792, 0.4131, -0.0241, 0.486, -0.7959, 0.9005, 0.2015, -0.703, -0.5794, 0.7676, 3.0879, 3.0876, 3.0839, 3.0657, 3.0375, 3.0334, 3.0334, 3.0287, 3.0287, 3.0232, 3.0168, 3.0092, 3.0, 3.0, 3.0, 2.9995, 2.9905, 2.9882, 2.9785, 2.9743, 2.9743, 2.9569, 2.9555, 2.9555, 2.9555, 2.9555, 2.9555, 2.9555, 2.9555, 2.9555, 2.9046, 2.9365, 2.8572, 2.8829, 2.9023, 2.875, 2.877, 2.8909, 2.339, 2.3995, 2.79, 2.7292, 2.7586, 2.7191, 2.7714, 1.8923, 2.0439, 2.7848, 2.4708, 2.1286, 0.4297, 0.4735, 1.2693, 0.4958, 1.7163, 2.0419, 1.0673, 0.144, 0.2381, 1.9446, 0.3107, 0.6453, 0.6804, 1.0011, 0.6912, -0.4024, 0.6078, 0.9769, 0.4333, -0.4487, 1.0911, 0.4709, -0.2957, 0.7472, 0.5948, -0.6703, -0.1573, -0.4292, -0.8007, -0.3844, 3.4281, 3.4211, 3.4169, 3.4164, 3.412, 3.4064, 3.3919, 3.3919, 3.3824, 3.3824, 3.3706, 3.3706, 3.3563, 3.3558, 3.3558, 3.3558, 3.3364, 3.3364, 3.3364, 3.3364, 3.3364, 3.3364, 3.3364, 3.3364, 3.31, 3.31, 3.31, 3.31, 3.296, 3.2847, 3.2133, 3.2354, 3.2009, 3.0191, 3.1844, 3.0297, 3.0933, 3.2223, 2.9376, 3.2503, 2.7388, 2.4301, 2.368, 2.9623, 2.0245, 2.335, 2.7398, 2.5083, 1.564, 2.7705, 2.8318, 2.8792, 1.4349, 0.5078, 0.8946, 1.0761, 1.3775, 1.6659, 1.2023, 0.8579, 0.3663, 1.0397, 2.3097, 1.0234, 0.3978, 1.3536, 0.5728, 0.5453, 1.0904, -0.3833, 0.4053, -0.0831, 0.9651, -0.7753, -0.4495, -0.6384, -0.4287, 0.2242, -0.1446, 0.5719, 3.5971, 3.596, 3.5957, 3.5955, 3.5952, 3.5938, 3.5731, 3.526, 3.5212, 3.5026, 3.4961, 3.4849, 3.4601, 3.4341, 3.4341, 3.4341, 3.3994, 3.3953, 3.3953, 3.3953, 3.3953, 3.3953, 3.3953, 3.3898, 3.3811, 3.3662, 3.3567, 3.3346, 3.3346, 3.3345, 3.3303, 3.3282, 3.3183, 3.2771, 3.2283, 3.129, 3.3138, 3.0766, 2.8749, 2.9869, 3.0759, 2.7929, 2.8009, 2.5155, 2.473, 2.4683, 2.3218, 2.0342, 2.5374, 2.482, 1.8383, 1.44, 2.1521, 1.4607, 0.2688, 1.4649, 1.6859, 2.1017, 1.5207, 0.5868, 0.5701, 1.4384, 2.08, 0.623, 1.4496, 0.3664, 2.1573, 1.3202, 2.0072, 0.1185, 1.3373, 3.6812, 3.6095, 3.5719, 3.5719, 3.5714, 3.5714, 3.5305, 3.5208, 3.5129, 3.5129, 3.5129, 3.5129, 3.5129, 3.5129, 3.5129, 3.5128, 3.4871, 3.4767, 3.449, 3.4364, 3.4339, 3.4215, 3.4068, 3.4068, 3.4068, 3.4068, 3.4068, 3.4068, 3.4068, 3.4068, 3.3929, 3.3708, 3.3178, 3.2053, 3.2087, 2.9137, 2.1677, 3.2989, 3.1874, 2.7273, 2.3612, 2.8185, 2.2282, 2.5254, 1.2797, 2.861, 2.6506, 1.797, 2.3896, 1.3412, 2.2122, 1.9095, 1.4821, 1.5455, 2.1483, 1.3113, 1.5455, 1.6166, 1.3778, 1.3884, 1.0716, 0.7063, 1.4776, 0.7186, 0.3083, 1.1532, 0.3603, 0.8479, 0.1519, 0.0102, 0.6262, 1.0149, 0.2139, -0.2919, 1.4909, 0.5418, -0.3094, -0.8414, -0.1957, -0.0115, 0.1852, 0.5361, 0.3527], \"logprob\": [30.0, 29.0, 28.0, 27.0, 26.0, 25.0, 24.0, 23.0, 22.0, 21.0, 20.0, 19.0, 18.0, 17.0, 16.0, 15.0, 14.0, 13.0, 12.0, 11.0, 10.0, 9.0, 8.0, 7.0, 6.0, 5.0, 4.0, 3.0, 2.0, 1.0, -7.9858, -8.9025, -9.124, -9.1245, -9.2103, -9.3047, -9.3047, -9.4089, -8.671, -9.3223, -8.6285, -9.5254, -8.5949, -8.3259, -9.6571, -9.6571, -9.6571, -9.6571, -9.6573, -8.5657, -9.8089, -9.8089, -9.8089, -9.8089, -9.8089, -9.8089, -9.8089, -9.8089, -9.809, -9.8092, -7.7043, -9.0553, -8.2312, -8.9894, -8.6458, -6.4037, -6.0669, -8.0594, -9.0166, -8.436, -7.9172, -6.3669, -7.889, -6.1457, -3.5135, -7.1943, -6.2688, -5.7789, -4.029, -4.4394, -6.1033, -6.0426, -6.4428, -6.1966, -5.7142, -5.1718, -6.7967, -6.9117, -5.0867, -4.4502, -4.4002, -4.1938, -5.7179, -4.7414, -5.6759, -4.11, -5.2917, -6.2213, -4.8855, -5.551, -4.75, -4.3578, -5.2903, -5.0596, -4.5212, -5.3455, -4.9875, -5.4092, -4.777, -4.4602, -4.4447, -5.2925, -5.0261, -5.3083, -5.1717, -5.4826, -5.3714, -4.8037, -5.4233, -5.4043, -8.3422, -8.4534, -7.9437, -8.4601, -8.7193, -8.7987, -8.9793, -8.9794, -9.0836, -9.0836, -9.0837, -8.3017, -9.2, -9.2, -8.069, -8.0704, -9.1044, -9.3318, -9.3318, -9.333, -9.3362, -9.3482, -8.0557, -9.4836, -9.4836, -9.4836, -9.4836, -9.4836, -9.4836, -9.4836, -7.7152, -7.6055, -7.7287, -6.7905, -5.6829, -8.3799, -7.9339, -5.8355, -7.2354, -7.3518, -8.8917, -5.4605, -5.9661, -5.9812, -5.8018, -6.1824, -5.3216, -5.9129, -7.7533, -5.4626, -7.2926, -5.838, -6.0044, -5.0666, -6.8515, -6.4921, -4.0262, -5.3633, -5.5536, -5.7909, -6.5959, -4.212, -5.8138, -5.2689, -4.41, -5.9393, -6.1265, -4.1359, -4.6429, -5.276, -4.877, -5.1088, -5.1591, -4.8086, -5.3174, -5.0116, -5.1025, -5.2894, -4.9646, -5.0088, -4.8733, -4.7102, -5.2303, -4.94, -5.3244, -5.3287, -5.3871, -5.4724, -5.3988, -7.5029, -7.7066, -8.0826, -8.1692, -7.1992, -8.6186, -8.619, -8.6922, -8.6922, -8.7716, -7.3776, -5.7178, -8.9551, -9.0565, -9.0565, -9.0565, -9.1729, -9.1729, -9.1729, -8.4288, -7.3296, -9.3047, -9.3047, -9.3052, -8.0213, -9.1989, -9.3188, -7.3167, -9.4565, -9.4565, -6.8212, -7.8612, -6.2504, -6.111, -6.745, -7.4989, -6.8625, -6.8968, -5.9238, -4.3651, -5.3674, -6.8243, -4.9294, -7.09, -5.3658, -5.0711, -5.2391, -5.6187, -6.5771, -5.879, -5.2819, -5.6661, -5.8996, -4.5982, -4.1476, -4.4897, -4.7501, -4.6009, -4.5923, -5.7907, -6.0012, -4.2166, -4.9042, -4.6651, -4.4605, -4.4688, -5.1841, -5.0116, -4.0439, -5.2059, -4.6152, -4.4933, -4.9857, -4.0867, -4.7594, -4.9036, -4.7095, -4.4526, -4.8936, -5.0231, -4.9756, -5.1056, -5.0922, -5.1789, -6.6144, -6.731, -7.0011, -7.8376, -7.9325, -8.0373, -8.0373, -8.1544, -8.1544, -8.1544, -8.1544, -8.0448, -8.0993, -8.2185, -8.2185, -8.0473, -7.389, -7.1576, -8.5263, -7.4337, -8.6207, -8.6207, -8.6224, -8.7249, -8.7249, -8.7249, -8.7249, -8.725, -7.9847, -7.988, -6.0358, -6.0807, -6.6897, -6.755, -4.8712, -5.4446, -7.3902, -7.4149, -5.2759, -5.2605, -6.3685, -5.3535, -7.3355, -6.4486, -6.8633, -6.051, -6.2069, -5.5891, -6.1282, -6.0349, -3.4543, -4.4931, -4.6695, -4.196, -4.7785, -6.2117, -4.4577, -5.4613, -5.0585, -6.0368, -4.8056, -4.6697, -5.078, -5.3253, -4.3727, -4.8593, -5.5328, -4.9917, -5.1828, -5.5021, -5.159, -4.9333, -5.0273, -5.0171, -5.3192, -5.2513, -5.0686, -5.2311, -5.1655, -5.196, -5.2498, -7.9708, -8.2892, -8.377, -8.3785, -8.308, -8.7254, -8.7254, -8.7254, -8.7254, -8.7254, -8.7254, -8.8772, -8.8772, -8.8772, -8.8772, -8.8772, -8.8772, -8.8772, -8.8772, -8.8772, -9.0563, -9.0563, -9.0563, -9.0563, -9.0563, -9.0563, -8.2381, -9.2745, -9.2745, -9.2745, -5.6353, -7.9075, -8.594, -5.1139, -5.2952, -6.7084, -7.9751, -5.2818, -4.575, -4.8383, -4.2469, -5.7676, -4.8603, -7.7106, -6.3412, -5.5045, -6.8663, -7.3047, -6.7754, -4.9834, -4.4718, -6.3415, -5.1908, -7.4599, -4.0827, -6.5401, -6.678, -5.6796, -3.7811, -6.9389, -5.6976, -4.3492, -6.4246, -6.7392, -4.5347, -5.2059, -4.6998, -5.0307, -4.4684, -4.6662, -4.5742, -4.9638, -5.3714, -4.8162, -4.3802, -4.7862, -5.133, -5.029, -5.1547, -4.9913, -5.1267, -5.214, -6.0892, -6.16, -6.1748, -7.1191, -7.3803, -7.6663, -7.8878, -7.8878, -7.8878, -8.0685, -8.0685, -8.0685, -8.1727, -8.2891, -8.2891, -8.4209, -8.5727, -8.5727, -8.5727, -8.5727, -8.5727, -8.5727, -6.1193, -7.974, -8.7517, -8.7518, -8.7518, -8.7518, -8.7518, -8.7518, -6.0232, -7.6158, -7.9943, -8.0037, -6.0848, -7.8963, -6.0058, -5.9641, -5.6722, -7.7353, -5.6974, -5.8578, -5.3388, -6.8386, -6.9958, -4.8484, -6.8841, -6.9289, -6.6053, -5.8506, -6.8518, -6.8343, -5.4099, -6.0272, -4.8778, -5.7216, -5.4049, -5.4053, -5.6658, -5.2046, -5.2839, -4.7971, -5.0069, -5.8242, -4.3764, -5.1454, -4.9723, -4.7863, -5.2572, -5.3308, -5.0562, -5.19, -5.2332, -5.117, -5.0907, -5.4126, -5.2979, -5.491, -5.1755, -5.6153, -5.469, -5.3567, -5.393, -5.6255, -5.3939, -5.4342, -5.7601, -6.6392, -7.2953, -7.3638, -7.3638, -7.4374, -7.4374, -7.5168, -7.603, -7.6974, -7.8017, -7.8017, -7.8017, -7.8022, -7.1709, -7.9186, -7.2387, -8.0499, -8.0499, -7.2046, -8.2017, -8.2017, -8.2017, -8.2017, -8.2017, -8.2017, -8.2017, -8.2017, -5.5349, -7.1748, -6.8359, -7.4374, -7.6382, -7.4444, -7.5217, -7.7207, -3.9198, -4.4588, -7.0464, -6.8077, -6.9546, -6.837, -7.1091, -4.5422, -4.9737, -7.1674, -6.3539, -5.5064, -3.9499, -4.125, -5.2465, -4.3672, -5.9792, -6.3613, -5.3561, -4.5098, -4.8222, -6.3491, -4.9631, -5.2871, -5.3764, -5.6352, -5.4124, -4.6131, -5.462, -5.7069, -5.3726, -4.9601, -5.8296, -5.5061, -5.1823, -5.6534, -5.7051, -5.4838, -5.5782, -5.5584, -5.5584, -5.6088, -6.8186, -6.9429, -7.0115, -7.0119, -7.085, -7.1644, -7.3451, -7.3451, -7.4494, -7.4494, -7.5658, -7.5658, -6.8835, -7.6975, -7.6975, -7.6975, -7.8493, -7.8493, -7.8493, -7.8493, -7.8493, -7.8493, -7.8493, -7.8493, -8.0284, -8.0284, -8.0284, -8.0284, -7.8859, -7.0115, -6.6461, -7.0115, -6.6647, -5.0861, -6.8115, -6.3396, -6.6595, -7.3451, -6.2526, -7.5688, -6.0113, -5.2744, -5.3391, -6.8712, -4.9882, -5.6673, -6.4657, -6.0969, -4.4928, -6.5655, -6.7076, -6.7927, -4.9996, -3.8718, -4.3817, -4.95, -5.308, -5.6003, -5.2678, -5.0665, -4.7288, -5.3934, -6.2546, -5.4187, -5.1547, -5.727, -5.3085, -5.3004, -5.6219, -4.8947, -5.3602, -5.1434, -5.6272, -4.9859, -5.2071, -5.2368, -5.3153, -5.5071, -5.507, -5.601, -5.3177, -5.3928, -5.4085, -5.4245, -5.4407, -5.5261, -5.3114, -7.1463, -6.3793, -5.3652, -7.4614, -5.2909, -4.1674, -7.924, -7.924, -7.924, -7.955, -8.1422, -8.1422, -8.1423, -8.1423, -8.1423, -8.1423, -8.1472, -6.6231, -7.5772, -7.1425, -8.4218, -8.4218, -8.4218, -5.3018, -5.4831, -5.2586, -4.1507, -6.1232, -5.2294, -7.2529, -5.2944, -4.1723, -5.3338, -6.1054, -5.1433, -5.2546, -4.2805, -4.3679, -4.5269, -4.4455, -3.7915, -5.1677, -5.1351, -4.1468, -4.0986, -4.9088, -4.5191, -3.9419, -4.6387, -4.8216, -5.0267, -4.8724, -4.6375, -4.6493, -4.8763, -5.0437, -4.7394, -4.9198, -4.7095, -5.0771, -4.9734, -5.0819, -5.0107, -5.1049, -7.1415, -7.7205, -7.9388, -7.9388, -7.9392, -7.9392, -7.4009, -6.6587, -8.2184, -8.2184, -8.2184, -8.2184, -8.2184, -8.2184, -8.2184, -8.2184, -8.243, -6.9257, -7.4806, -7.7315, -6.6877, -7.7525, -8.6078, -8.6078, -8.6078, -8.6078, -8.6078, -8.6078, -8.6078, -8.6078, -7.9388, -7.9417, -7.5834, -7.2579, -7.5966, -6.5024, -4.1936, -8.2184, -7.8337, -6.5314, -5.5604, -6.7979, -5.6722, -6.2779, -3.8941, -6.9803, -6.6344, -5.1237, -6.2084, -4.4391, -5.9844, -5.5168, -5.0898, -5.2445, -6.0797, -5.1119, -5.4199, -5.5118, -5.2944, -5.3346, -4.9983, -4.7377, -5.5108, -4.8292, -4.5052, -5.2701, -4.7688, -5.1736, -4.711, -4.7474, -5.1796, -5.4119, -5.0599, -4.8034, -5.7436, -5.4353, -5.196, -5.052, -5.256, -5.2958, -5.4299, -5.4994, -5.4981]}, \"token.table\": {\"Topic\": [1, 2, 4, 6, 8, 9, 10, 1, 1, 2, 3, 4, 5, 6, 7, 8, 9, 10, 1, 1, 2, 3, 5, 7, 8, 10, 1, 2, 3, 4, 5, 7, 9, 10, 1, 1, 6, 10, 1, 3, 6, 8, 9, 7, 1, 4, 5, 6, 7, 8, 1, 2, 3, 4, 5, 6, 7, 8, 9, 1, 2, 3, 4, 5, 6, 7, 8, 9, 7, 5, 4, 1, 2, 5, 6, 9, 4, 6, 9, 3, 1, 2, 3, 4, 5, 6, 7, 8, 9, 10, 2, 4, 1, 2, 3, 4, 5, 6, 7, 8, 9, 10, 4, 5, 6, 8, 1, 2, 3, 4, 5, 6, 7, 8, 5, 9, 2, 3, 4, 6, 10, 2, 9, 8, 3, 1, 3, 1, 2, 3, 4, 5, 6, 7, 8, 9, 10, 4, 6, 1, 2, 3, 4, 5, 6, 7, 8, 9, 10, 9, 10, 8, 1, 2, 3, 5, 6, 1, 3, 9, 2, 6, 1, 2, 3, 4, 5, 6, 7, 8, 9, 10, 1, 2, 3, 4, 5, 6, 7, 8, 9, 10, 1, 2, 3, 4, 5, 6, 7, 8, 10, 1, 1, 2, 3, 4, 5, 6, 7, 8, 9, 10, 5, 2, 5, 1, 2, 3, 4, 5, 6, 7, 8, 9, 10, 1, 2, 3, 4, 5, 6, 7, 8, 10, 1, 2, 3, 4, 5, 6, 7, 8, 9, 10, 1, 2, 3, 4, 5, 6, 7, 8, 9, 10, 1, 2, 3, 4, 6, 7, 8, 10, 1, 2, 3, 4, 5, 6, 7, 8, 9, 10, 5, 7, 8, 1, 2, 3, 5, 6, 7, 8, 1, 2, 3, 4, 5, 6, 7, 8, 9, 9, 6, 7, 1, 2, 3, 4, 5, 6, 7, 8, 9, 10, 7, 1, 3, 5, 7, 7, 8, 2, 5, 8, 1, 2, 3, 4, 5, 6, 7, 9, 10, 1, 2, 3, 4, 5, 3, 4, 9, 6, 2, 4, 5, 6, 7, 8, 9, 10, 1, 2, 3, 4, 5, 6, 7, 8, 9, 10, 1, 2, 3, 4, 5, 6, 7, 8, 10, 1, 7, 8, 8, 1, 2, 3, 4, 5, 6, 7, 8, 9, 1, 2, 3, 4, 5, 6, 7, 8, 9, 1, 2, 4, 6, 7, 10, 1, 2, 3, 4, 5, 6, 7, 9, 10, 6, 1, 8, 10, 5, 1, 6, 1, 2, 3, 4, 5, 6, 7, 9, 2, 1, 3, 1, 2, 4, 6, 7, 8, 1, 7, 1, 2, 3, 4, 5, 6, 7, 8, 10, 3, 1, 2, 3, 4, 5, 6, 7, 8, 9, 10, 1, 2, 3, 5, 6, 7, 8, 10, 10, 2, 3, 4, 5, 7, 1, 4, 6, 8, 1, 2, 3, 4, 5, 6, 7, 8, 10, 3, 8, 9, 7, 9, 10, 7, 9, 1, 2, 3, 4, 5, 6, 7, 8, 9, 10, 2, 4, 1, 2, 4, 5, 6, 7, 8, 1, 7, 1, 2, 3, 4, 5, 6, 7, 8, 9, 10, 1, 2, 3, 4, 5, 6, 7, 8, 9, 10, 1, 2, 3, 4, 5, 6, 7, 8, 9, 10, 7, 7, 6, 1, 2, 3, 4, 5, 6, 7, 8, 9, 10, 7, 1, 2, 3, 4, 5, 6, 7, 8, 9, 10, 1, 2, 3, 4, 5, 6, 7, 8, 1, 1, 2, 3, 4, 5, 6, 7, 8, 9, 10, 1, 2, 5, 6, 10, 9, 2, 4, 5, 6, 7, 8, 9, 4, 7, 9, 10, 9, 2, 4, 5, 10, 6, 7, 5, 2, 3, 4, 5, 7, 9, 1, 5, 6, 8, 2, 3, 6, 7, 2, 1, 2, 3, 4, 5, 6, 7, 8, 9, 10, 1, 2, 3, 4, 5, 6, 7, 8, 10, 4, 2, 4, 6, 1, 1, 2, 3, 4, 5, 6, 8, 9, 4, 9, 3, 9, 2, 9, 1, 2, 3, 4, 5, 6, 7, 8, 9, 10, 1, 2, 3, 4, 5, 6, 8, 1, 2, 3, 4, 5, 6, 7, 8, 8, 5, 1, 2, 4, 5, 6, 7, 8, 9, 10, 8, 5, 1, 4, 5, 3, 3, 4, 4, 10, 2, 8, 6, 5, 6, 10, 6, 9, 10, 1, 4, 1, 2, 3, 4, 5, 6, 7, 9, 10, 2, 4, 10, 1, 2, 3, 4, 5, 6, 7, 8, 10, 1, 2, 3, 4, 5, 6, 7, 8, 10, 4, 8, 1, 2, 3, 4, 5, 6, 10, 1, 2, 3, 4, 5, 6, 7, 8, 9, 10, 7, 8, 10, 1, 2, 3, 4, 5, 6, 7, 8, 9, 10, 1, 2, 3, 5, 6, 7, 8, 5, 1, 2, 3, 4, 5, 6, 7, 8, 9, 10, 1, 2, 3, 4, 5, 6, 7, 8, 9, 10, 5, 6, 1, 2, 3, 5, 6, 8, 1, 2, 3, 4, 5, 6, 8, 9, 10, 1, 2, 3, 4, 5, 6, 7, 8, 9, 10, 1, 2, 3, 4, 5, 6, 10, 1, 5, 7, 1, 2, 3, 4, 5, 6, 7, 8, 9, 10, 7, 1, 2, 4, 5, 6, 7, 10, 2, 7, 4, 4, 6, 5, 1, 2, 3, 4, 6, 5, 3, 1, 2, 3, 4, 5, 6, 7, 8, 9, 10, 2, 1, 2, 3, 4, 5, 6, 7, 9, 10, 5, 6, 10, 1, 10, 1, 2, 3, 4, 5, 6, 7, 8, 10, 10, 7, 8, 2, 3, 9, 1, 2, 3, 4, 5, 6, 7, 8, 10, 1, 2, 4, 6, 10, 1, 2, 3, 4, 5, 6, 8, 10, 4, 1, 2, 3, 4, 6, 7, 8, 9, 7, 1, 2, 4, 7, 8, 5, 6, 5, 2, 4, 1, 2, 3, 4, 5, 6, 7, 8, 9, 10, 1, 4, 5, 7, 9, 10, 3, 5, 8, 9, 1, 2, 3, 4, 5, 6, 7, 8, 10, 2, 4, 9, 6, 5, 1, 2, 3, 4, 5, 6, 7, 9, 10, 5, 6, 10, 1, 2, 3, 4, 5, 6, 7, 8, 9, 10, 1, 2, 3, 4, 5, 6, 7, 8, 9, 10, 1, 2, 4, 5, 6, 7, 10, 1, 1, 2, 3, 4, 5, 6, 7, 8, 9, 10, 1, 3, 4, 5, 7, 8, 3, 4, 6, 1, 1, 2, 3, 4, 5, 6, 7, 8, 9, 10, 1, 2, 5, 6, 10, 10, 1, 2, 4, 5, 6, 7, 8, 10, 1, 2, 3, 4, 5, 6, 7, 8, 9, 10, 1, 2, 3, 4, 5, 6, 7, 8, 10, 1, 6, 9, 1, 2, 3, 4, 5, 6, 7, 10, 1, 7, 8, 10, 8, 1, 5, 1, 4, 3, 3, 9, 3, 10, 1, 2, 3, 4, 5, 6, 7, 8, 9, 1, 6, 7, 1, 2, 3, 4, 5, 6, 7, 8, 9, 10, 2, 9, 3, 1, 2, 3, 4, 5, 6, 7, 9, 10, 1, 2, 3, 4, 5, 6, 7, 8, 10, 1, 2, 3, 4, 5, 6, 7, 8, 9, 10, 4, 7, 1, 2, 5, 6, 7, 8, 9, 2, 3, 6, 7, 6, 7, 10, 1, 2, 3, 5, 6, 7, 8, 9, 1, 3, 5, 6, 10, 1, 2, 3, 4, 5, 6, 7, 8, 9, 10, 6, 10, 6, 7, 1, 4, 1, 2, 3, 4, 5, 6, 7, 9, 10, 1, 2, 3, 4, 5, 6, 7, 8, 9, 10, 1, 2, 3, 4, 5, 1, 4, 8, 9, 10, 1, 3, 4, 6, 7, 10, 3, 7, 4, 1, 4, 1, 2, 3, 4, 5, 6, 7, 8, 9, 10, 1, 5, 7, 8, 9, 1, 6, 7, 8, 1, 2, 3, 4, 5, 6, 7, 8, 9, 10, 1, 2, 3, 4, 6, 7, 8, 9, 10, 5, 1, 2, 3, 4, 5, 6, 7, 8, 9, 10, 1, 7, 5, 7, 1, 5, 6, 7, 8, 10, 1, 4, 7, 10, 9, 3, 6, 8, 1, 3, 4, 5, 6, 8, 9, 10, 1, 5, 6, 7, 8, 9, 5, 6, 2, 4, 2, 6, 10, 9, 1, 2, 3, 4, 5, 6, 7, 8, 9, 10, 6, 1, 5, 6, 8, 1, 5, 6, 10, 1, 2, 3, 4, 5, 6, 7, 10, 1, 2, 3, 4, 5, 6, 7, 8, 9, 10, 1, 2, 3, 5, 6, 7, 8, 10, 4, 9, 1, 2, 6, 7, 1, 2, 5, 7, 8, 9, 1, 2, 4, 9, 10, 1, 2, 3, 4, 5, 6, 7, 8, 9, 10, 1, 7, 10, 3, 3, 1, 2, 3, 4, 5, 6, 8, 9, 10, 1, 5, 6, 7, 10, 1, 2, 3, 4, 5, 6, 7, 8, 9, 10, 1, 2, 4, 6, 7, 10, 1, 2, 3, 4, 5, 6, 7, 8, 9, 10, 1, 1, 2, 3, 4, 5, 6, 8, 9, 10, 1, 2, 3, 4, 5, 1, 2, 3, 4, 5, 6, 7, 8, 10, 1, 2, 3, 4, 5, 6, 7, 8, 6, 3, 1, 2, 3, 4, 5, 6, 7, 8, 9, 10, 4, 5, 8, 9, 1, 2, 3, 4, 5, 6, 7, 8, 9, 10, 2, 3, 5, 6, 7, 1, 2, 3, 4, 5, 6, 7, 8, 9, 10, 1, 2, 3, 4, 5, 6, 7, 8, 9, 10, 1, 9, 10, 1, 5, 7, 1, 2, 3, 4, 5, 6, 7, 8, 9, 10, 6, 2, 10, 1, 2, 3, 4, 5, 6, 7, 8, 9, 10, 1, 2, 3, 4, 5, 6, 7, 8, 9, 10, 1, 2, 5, 6, 10, 1, 2, 1, 2, 3, 4, 5, 6, 9, 4, 8, 1, 2, 3, 4, 5, 6, 7, 8, 10, 1, 2, 3, 4, 5, 6, 7, 8, 9, 9, 1, 5, 1, 2, 4, 5, 6, 7, 10, 3, 6, 9, 10, 2, 3, 3, 3, 10, 1, 2, 5, 6, 7, 10, 6, 9, 6, 1, 2, 5, 6, 7, 8, 1, 2, 3, 4, 5, 7, 8, 9, 10, 1, 2, 3, 4, 5, 6, 7, 8, 9, 10, 2, 3, 4, 5, 7, 8, 4, 6, 1, 2, 3, 4, 5, 6, 7, 8, 10, 2, 9, 7, 1, 3, 4, 5, 8, 7, 4, 5, 9, 4, 3, 1, 2, 3, 4, 5, 6, 7, 8, 9, 10, 1, 2, 3, 4, 5, 6, 7, 8, 9, 10, 2, 1, 2, 3, 4, 5, 6, 10, 1, 2, 3, 4, 5, 6, 7, 8, 9, 10, 1, 2, 3, 4, 5, 6, 7, 9, 10, 4, 1, 3, 4, 5, 4, 8, 9, 6, 1, 2, 3, 4, 5, 6, 7, 9, 1, 1, 1, 2, 3, 4, 5, 6, 7, 8, 9, 1, 3, 4, 5, 8, 10, 1, 2, 3, 4, 5, 6, 7, 8, 9, 10, 7, 1, 2, 3, 4, 5, 6, 7, 8, 9, 10, 6, 1, 2, 3, 5, 6, 7, 10, 1, 2, 1, 2, 5, 6, 7, 10, 6, 6, 6, 1, 2, 5, 7, 8, 5, 3, 7, 6, 7, 10, 1, 2, 3, 4, 5, 6, 8, 9, 1, 2, 3, 4, 5, 6, 9, 10, 2, 6, 2, 3, 4, 5, 6, 9, 2, 3, 10, 1, 2, 3, 4, 5, 6, 7, 8, 9, 10, 1, 2, 3, 4, 5, 6, 7, 9, 1, 2, 4, 4, 5, 7, 9, 2, 10, 2, 3, 4, 5, 6, 1, 2, 3, 4, 5, 6, 7, 8, 9, 10, 1, 5, 10, 1, 3, 5, 8, 2, 3, 1, 2, 4, 8, 1, 2, 3, 4, 5, 7, 8, 1, 2, 3, 4, 5, 6, 7, 8, 9, 10, 1, 1, 3, 5, 6, 7, 2, 6, 5, 7, 9, 10, 1, 2, 5, 6, 7, 10, 1, 2, 3, 4, 5, 6, 7, 8, 9, 10, 2, 8, 1, 2, 3, 4, 5, 6, 7, 8, 9, 10, 1, 2, 3, 4, 5, 6, 7, 10, 4, 5, 9, 1, 4, 1, 2, 3, 5, 6, 7, 8, 10, 1, 2, 3, 4, 5, 6, 7, 9, 10, 1, 2, 3, 4, 5, 6, 8, 9, 10, 1, 2, 3, 4, 5, 6, 7, 8, 9, 10, 2, 4, 5, 6, 8, 9, 5, 3, 2, 10, 1, 8, 2, 5, 6, 7, 10, 10, 2, 3, 5, 10, 1, 2, 3, 5, 6, 1, 2, 5, 6, 7, 8, 10, 1, 3, 4, 5, 6, 7, 8, 2, 7, 7, 1, 2, 3, 4, 5, 6, 7, 8, 9, 10, 2, 2, 3, 1, 2, 3, 4, 5, 6, 7, 8, 9, 10, 1, 2, 3, 4, 8, 10, 4, 9, 1, 2, 3, 4, 5, 6, 10, 1, 1, 2, 3, 4, 5, 6, 7, 8, 9, 10, 1, 2, 3, 4, 5, 6, 7, 8, 9, 10, 5, 1, 2, 3, 4, 5, 6, 7, 9, 2, 8, 8, 6, 10, 10, 3, 2, 5, 2, 4, 1, 2, 3, 4, 5, 6, 7, 9, 10, 2, 2, 3, 6, 9, 8, 7, 9, 10, 1, 1, 2, 3, 4, 5, 6, 7, 9, 10, 7, 9, 10, 1, 2, 3, 4, 5, 6, 8, 10, 1, 5, 6, 7, 1, 2, 3, 4, 5, 6, 7, 8, 9, 8, 7, 1, 2, 3, 4, 5, 6, 7, 8, 9, 10, 8, 1, 2, 3, 4, 5, 6, 7, 8, 9, 10, 8, 10, 1, 2, 3, 4, 5, 6, 7, 9, 10, 4, 1, 2, 3, 4, 5, 6, 7, 8, 10, 4, 6, 1, 2, 3, 4, 5, 6, 7, 8, 9, 10, 6, 1, 5, 6, 1, 2, 5, 6, 7, 6, 8, 9, 1, 2, 4, 5, 6, 7, 8, 10, 1, 2, 4, 5, 6, 8, 9, 1, 6, 7, 8, 8, 7, 8, 1, 2, 3, 4, 5, 6, 7, 8, 9, 10, 1, 2, 3, 4, 5, 6, 7, 8, 10, 1, 4, 5, 6, 8, 9, 10, 1, 2, 4, 5, 6, 7, 9, 10, 6, 7, 8, 1, 5, 7, 10, 1, 4, 7, 1, 1, 3, 4, 6, 8, 9, 10, 8, 1, 2, 3, 4, 5, 6, 7, 8, 9, 10, 5, 1, 2, 3, 4, 5, 6, 8, 9, 1, 2, 3, 4, 5, 6, 8, 9, 10, 1, 2, 3, 4, 5, 6, 7, 9, 10, 2, 3, 5, 8, 10, 1, 2, 3, 4, 5, 6, 7, 8, 9, 10, 1, 2, 4, 5, 9, 10, 6, 8, 1, 2, 3, 4, 5, 6, 7, 9, 10, 8, 1, 2, 3, 4, 5, 6, 7, 8, 10, 8, 10, 6, 2, 3, 5, 7, 8, 5, 1, 2, 3, 4, 5, 6, 7, 8, 10, 1, 2, 3, 5, 6, 7, 9, 1, 2, 3, 4, 5, 6, 10, 1, 2, 3, 5, 6, 7, 8, 9, 3, 9, 2, 9, 10, 1, 2, 3, 4, 5, 6, 8, 9, 2, 3, 4, 6, 10, 8, 5, 6, 7, 10, 5, 3, 8, 4, 1, 2, 3, 4, 6, 7, 8, 8, 1, 2, 5, 6, 7, 10, 2, 9, 1, 5, 7, 10, 1, 2, 3, 4, 5, 9, 1, 2, 3, 4, 5, 6, 7, 8, 9, 8, 9, 10, 2, 10, 1, 2, 3, 4, 5, 6, 7, 8, 9, 10, 1, 6, 6, 9, 1, 2, 3, 4, 5, 6, 7, 8, 10, 1, 3, 5, 6, 8, 9, 4, 10, 1, 2, 3, 4, 5, 6, 7, 8, 9, 10, 1, 2, 3, 4, 5, 6, 7, 9, 10, 4, 1, 2, 3, 4, 5, 6, 9, 1, 3, 8, 9, 1, 4, 6, 9, 2, 9, 10, 2, 6, 10, 1, 1, 2, 3, 4, 5, 6, 7, 8, 9, 1, 2, 3, 4, 5, 6, 7, 8, 9, 10, 5, 1, 2, 3, 4, 5, 6, 7, 8, 1, 2, 3, 4, 5, 6, 7, 8, 10, 2, 5, 3, 1, 2, 3, 4, 5, 6, 7, 10, 2, 3, 4, 1, 2, 3, 4, 5, 6, 7, 8, 9, 10, 1, 2, 3, 4, 5, 6, 7, 8, 9, 10, 5, 1, 4, 3, 4, 8, 9, 10, 1, 2, 3, 6, 8, 9, 1, 3, 4, 5, 7, 1, 2, 3, 4, 6, 7, 7, 1, 2, 3, 4, 5, 6, 7, 8, 9, 10, 6, 7, 3, 1, 2, 3, 4, 5, 6, 7, 8, 9, 10, 1, 2, 3, 4, 8, 2, 3, 4, 5, 7, 8, 3, 10, 6, 9, 1, 8, 1, 5, 1, 2, 3, 4, 5, 6, 7, 8, 1, 2, 3, 6, 2, 6, 7, 2, 9, 1, 2, 3, 4, 5, 6, 7, 8, 9, 10, 5, 1, 2, 3, 4, 5, 6, 7, 8, 10, 3, 4, 5, 6, 7, 7, 8, 2, 5, 7, 8], \"Freq\": [0.046195525720066875, 0.02771731543204013, 0.08315194629612038, 0.6744546755129764, 0.12934747201618726, 0.009239105144013375, 0.0369564205760535, 0.8887118188044498, 0.334794835171458, 0.09508751798066249, 0.2570616930960115, 0.1276269728029424, 0.09111047350238383, 0.016631276909165302, 0.014461979921013305, 0.04447058825711592, 0.015546628415089305, 0.0036154949802533263, 0.8713440136698838, 0.206422627716471, 0.16218920749151292, 0.19167815430815163, 0.014744473408319357, 0.1032113138582355, 0.014744473408319357, 0.28014499475806776, 0.7094106533837612, 0.07514943362116114, 0.04508966017269669, 0.03607172813815735, 0.06312552424177537, 0.04809563751754313, 0.0030059773448464456, 0.02104184141392512, 0.8887124712454733, 0.2709246255747184, 0.1354623127873592, 0.5418492511494368, 0.9588704645338753, 0.004549713571918213, 0.12284226644179176, 0.009099427143836426, 0.8598958650925423, 0.8702168878600391, 0.15378904813820196, 0.04194246767405508, 0.04194246767405508, 0.20971233837027542, 0.055923290232073444, 0.47534796697262427, 0.1956502849480708, 0.057884699688778345, 0.09261551950204536, 0.09377321349582092, 0.05325392371367608, 0.0023153879875511337, 0.4688660674791046, 0.03125773783194031, 0.0034730819813267007, 0.02568542864780151, 0.33888194570809094, 0.4358237247981805, 0.00497137328667126, 0.09197040580341831, 0.00414281107222605, 0.02568542864780151, 0.07208491265673328, 0.0008285622144452101, 0.9527792578903309, 0.8659316566580343, 0.9820795075317462, 0.2582142871622436, 0.0645535717905609, 0.043035714527040594, 0.021517857263520297, 0.5809821461150481, 0.9564689009797162, 0.04417163306663804, 0.9276042943993988, 0.8559017669820476, 0.1725032999979089, 0.1275194462569576, 0.033640099319320105, 0.24134815441884305, 0.22022530135787463, 0.09505283877435797, 0.00938793469376375, 0.003520475510161406, 0.014473065986219114, 0.0821444285704328, 0.8881287963834683, 0.9643044094772417, 0.38441220468750975, 0.11224836376875284, 0.12044915746875305, 0.11583621101250294, 0.13172524880625333, 0.04202906771250106, 0.02614002991875066, 0.014863938581250376, 0.0061505952750001555, 0.046129464562501166, 0.9564065623701369, 0.06079706222359083, 0.7903618089066808, 0.12159412444718166, 0.04290015716035153, 0.33176121537338515, 0.3603613201469529, 0.02288008381885415, 0.10725039290087883, 0.008580031432070307, 0.024310089057532534, 0.1015303719461653, 0.8430111139618451, 0.8477303084704143, 0.00876610576472351, 0.1753221152944702, 0.1490237980002997, 0.6662240381189868, 0.8257545308188875, 0.1253384861054823, 0.7520309166328937, 0.9734635719637537, 0.9631373269626561, 0.8337058069673248, 0.13163775899484076, 0.3410554183521083, 0.07085638885431614, 0.31932612577011804, 0.06660500552305716, 0.03448344257576719, 0.07416302033418422, 0.014171277770863227, 0.02645305183894469, 0.050544224049412174, 0.002834255554172645, 0.9514455914020813, 0.9081847190957848, 0.07658225593401408, 0.14528104434540906, 0.4183868835218563, 0.2455137028472804, 0.07095120770357187, 0.021961088098724626, 0.006757257876530654, 0.004504838584353769, 0.007883467522619095, 0.0016893144691326634, 0.22249558470922037, 0.6674867541276611, 0.871211762873689, 0.023442309178246527, 0.058605772945616315, 0.7735962028821354, 0.10549039130210937, 0.035163463767369785, 0.14909562431918003, 0.08697244751952168, 0.7579027569558319, 0.8702567546735073, 0.0994579148198294, 0.02655832331913142, 0.2077798236143811, 0.45695938652034945, 0.09685976739918518, 0.14841415972455793, 0.03202621341424671, 0.021871560380461168, 0.0007811271564450418, 0.0015622543128900835, 0.0070301444080053755, 0.36657185323675534, 0.10473481521050153, 0.16355847854790648, 0.00573889398413707, 0.2044480981848831, 0.025825022928616815, 0.012195149716291273, 0.0007173617480171337, 0.027977108172668214, 0.08751813325809031, 0.40036597108188604, 0.17589607920693157, 0.05593348125408702, 0.11922663109423813, 0.09273182418440744, 0.03311850863728837, 0.06991685156760878, 0.009567569161883307, 0.042686077799171676, 0.9229520313036474, 0.4714160927958922, 0.11139387674214045, 0.08625168512635953, 0.023745403192681976, 0.16342424550257595, 0.03561810478902296, 0.05726832534705653, 0.02828496556775353, 0.00419036526929682, 0.018856643711835687, 0.8830823761122281, 0.8706244017128564, 0.10447492820554276, 0.20312971669258462, 0.2829306768218143, 0.1617783100801656, 0.15670006716285098, 0.08052642340313175, 0.035547700421202304, 0.025391214586573077, 0.026116677860475165, 0.015960192025845935, 0.012332875656335495, 0.108330345960995, 0.5622860814165931, 0.0876959943493769, 0.03611011532033167, 0.07737881854356786, 0.020634351611618095, 0.04126870322323619, 0.01547576370871357, 0.05674446693194976, 0.5607041869935725, 0.07195130415919565, 0.020926076508451324, 0.040992177269979994, 0.1433292911537762, 0.05045191048612922, 0.07424457281765608, 0.006593147393073705, 0.004013220152305734, 0.026659248154602373, 0.4526314865607138, 0.16588302822719347, 0.09767454622588037, 0.09139936588175956, 0.09931154979391188, 0.03655974635270383, 0.023190883880446458, 0.001909837496036767, 0.0005456678560105049, 0.031103067792598776, 0.5037764073683819, 0.30062606587986623, 0.11751746211667498, 0.011842845019509883, 0.0009109880784238371, 0.04737138007803953, 0.0009109880784238371, 0.01639778541162907, 0.4944442320800664, 0.1308822967270764, 0.072712387070598, 0.030700785652030264, 0.021005800709283866, 0.04524326306614986, 0.06463323295164267, 0.08079154118955333, 0.0016158308237910666, 0.05978574048026947, 0.8430101800808376, 0.931281029856551, 0.9302346420085915, 0.0036761549662215646, 0.6028894144603366, 0.2610070026017311, 0.08455156422309598, 0.007352309932443129, 0.014704619864886258, 0.018380774831107824, 0.025463522455496202, 0.1771836770861611, 0.45940438430124403, 0.12201271176591931, 0.15278113473297722, 0.012731761227748101, 0.005304900511561709, 0.02970744286474557, 0.015914701534685126, 0.9081653378307055, 0.9727549302127685, 0.9331061259856629, 0.0348908232552527, 0.23689032631197884, 0.4866351664548403, 0.13099361713375576, 0.0691695268042729, 0.00856967588725505, 0.010406035005952559, 0.006733316768557538, 0.014690872949580084, 0.0006121197062325035, 0.906890149841292, 0.1878199462466861, 0.09390997312334305, 0.03130332437444768, 0.688673136237849, 0.9312809967356425, 0.8393738167369231, 0.8707838412948653, 0.9254031298247026, 0.8393737572859973, 0.15368496503742285, 0.2017115166116175, 0.11046106862064767, 0.08644779283355035, 0.12486903409290606, 0.19450753387548828, 0.026414603365807053, 0.002401327578709732, 0.10085575830580874, 0.04707683361825845, 0.06590756706556183, 0.7814754380630903, 0.10356903396016859, 0.00941536672365169, 0.25511116089418817, 0.7254723637928475, 0.00797222377794338, 0.8938342904245401, 0.1072350495066991, 0.6320023130501202, 0.029660758374193366, 0.09126387192059497, 0.04335033916228261, 0.061603113546401606, 0.022815967980148743, 0.011407983990074371, 0.09279962463305745, 0.4203277115732602, 0.05731741521453548, 0.05731741521453548, 0.027294007245016898, 0.12418773296482688, 0.1310112347760811, 0.016376404347010137, 0.001364700362250845, 0.07232911919929477, 0.14225625483831775, 0.5238643035315828, 0.25515804439253814, 0.0022580357910844087, 0.027096429493012903, 0.009032143164337635, 0.0045160715821688175, 0.024838393701928495, 0.013548214746506452, 0.2567451182557324, 0.11003362210959959, 0.6308594334283709, 0.7985196561939084, 0.07781437592720551, 0.04592323825212129, 0.6397362217621896, 0.08546824896922572, 0.09120865375074089, 0.02678855564707075, 0.008291695795521898, 0.014669923330538745, 0.009567341302525269, 0.113961653964763, 0.1056735336764166, 0.0766651126672042, 0.1284658644693692, 0.0269363909371258, 0.2113470673528332, 0.0062160902162598005, 0.010360150360433, 0.321164661173423, 0.08213123869215214, 0.1806887251227347, 0.13140998190744343, 0.5256399276297737, 0.01642624773843043, 0.06570499095372172, 0.37546377513474, 0.007039945783776375, 0.039893026108066124, 0.04223967470265825, 0.2182383192970676, 0.18069194178359363, 0.007039945783776375, 0.021119837351329124, 0.10794583535123775, 0.9348416594248127, 0.11020756585368335, 0.11020756585368335, 0.7163491780489418, 0.8659315939372462, 0.9191196832401106, 0.04837472017053214, 0.08023700262882484, 0.08678696202709625, 0.3127605612674601, 0.370072706002335, 0.08351198232796055, 0.0016374898495678538, 0.00818744924783927, 0.05567465488530703, 0.8881289185474239, 0.9094378606830644, 0.06736576745800478, 0.8887122293871184, 0.8657285476417177, 0.09894040544476773, 0.14539401886388592, 0.7996671037513725, 0.07269700943194296, 0.8851433629135539, 0.04425716814567769, 0.08576034888596763, 0.45219093048964754, 0.007796395353269785, 0.09615554269032735, 0.09615554269032735, 0.1845146900273849, 0.0051975969021798565, 0.054574767472888495, 0.018191589157629497, 0.8856547550013952, 0.06234928288701994, 0.00890704041243142, 0.3028393740226683, 0.31323092117050494, 0.12024504556782417, 0.005938026941620947, 0.028205627972699498, 0.0014845067354052367, 0.1454816600697132, 0.00890704041243142, 0.7730823919456092, 0.0042477054502506, 0.0127431163507518, 0.042477054502506, 0.0722109926542602, 0.08920181445526261, 0.0042477054502506, 0.0042477054502506, 0.8267100199509086, 0.8161811512933643, 0.07336459786906646, 0.009170574733633308, 0.08253517260269977, 0.009170574733633308, 0.1478341507442575, 0.07391707537212874, 0.6652536783491587, 0.12319512562021458, 0.06553609643718032, 0.5987616083578747, 0.05362044253951117, 0.08936740423251861, 0.0029789134744172873, 0.10724088507902234, 0.0685150099115976, 0.0029789134744172873, 0.008936740423251861, 0.9271192855343269, 0.9302323710807279, 0.9915647981802043, 0.09436245343234992, 0.8964433076073242, 0.8267098288183125, 0.8702168878600391, 0.756199636099838, 0.12568192608113796, 0.13729384316472135, 0.20764839961231488, 0.34152697304657054, 0.0648901248788484, 0.039617128873402185, 0.009562755245303976, 0.038251020981215904, 0.020491618382794233, 0.015027186814049104, 0.019818794451037507, 0.9711209281008378, 0.0885804791040508, 0.4871926350722794, 0.00885804791040508, 0.00885804791040508, 0.03543219164162032, 0.3188897247745829, 0.062006335372835564, 0.08994643579554239, 0.8095179221598814, 0.1659208817078611, 0.08116253656297849, 0.455126629081006, 0.14331865633589239, 0.06626561529509004, 0.02414328619278474, 0.012842173506800393, 0.006164243283264189, 0.03544439887876909, 0.0097600518651683, 0.567728046504168, 0.040889000579247554, 0.00943592321059559, 0.012581230947460787, 0.24847931121235053, 0.036171038973949764, 0.044034308316112755, 0.020444500289623777, 0.0015726538684325984, 0.017299192552758583, 0.15973382659972257, 0.1391365700118636, 0.24842813558009486, 0.030265356618894804, 0.30937920099314686, 0.08575184375353527, 0.010088452206298268, 0.0016814087010497112, 0.0054645782784115615, 0.010088452206298268, 0.9331057121042301, 0.9942495011133462, 0.9348437753445824, 0.2641703460486929, 0.1912957678283638, 0.13299610525210054, 0.08744949386439488, 0.11842118960803473, 0.04554661138770567, 0.038259153565672756, 0.09109322277541133, 0.018218644555082267, 0.012753051188557586, 0.931281029856551, 0.4244962350951329, 0.1477830732494517, 0.11737503348619004, 0.05959975793599287, 0.09244044088031547, 0.0930486016755807, 0.0164203414721613, 0.020677467039017933, 0.0006081607952652334, 0.0273672357869355, 0.4818508911897993, 0.10144229288206301, 0.14582329601796556, 0.06023136139872491, 0.019020429915386813, 0.003170071652564469, 0.025360573220515752, 0.16167365428078792, 0.9217848654953245, 0.049265972620430726, 0.09360534797881838, 0.18228409869559367, 0.10345854250290452, 0.03941277809634458, 0.13794472333720603, 0.01970638904817229, 0.33008201655688585, 0.049265972620430726, 0.7317359801311276, 0.16900281197176023, 0.03755618043816894, 0.15022472175267576, 0.6321957040425105, 0.00625936340636149, 0.8477303601577889, 0.749673068802323, 0.03945647730538542, 0.03945647730538542, 0.09206511371256598, 0.02630431820359028, 0.02630431820359028, 0.01315215910179514, 0.6575464757323642, 0.009669801113711239, 0.3191034367524709, 0.012087251392139047, 0.9889577464241047, 0.07295912583992833, 0.07295912583992833, 0.07295912583992833, 0.7295912583992834, 0.05733900378430504, 0.9174240605488806, 0.8830823761122281, 0.21840103582665713, 0.018200086318888094, 0.09100043159444048, 0.009100043159444047, 0.12740060423221666, 0.5369025464071988, 0.07835045958013585, 0.7835045958013586, 0.11752568937020377, 0.03917522979006793, 0.13014506519922414, 0.8068994042351896, 0.05205802607968965, 0.008676337679948276, 0.9211588535181598, 0.06574198267491096, 0.6932790900263338, 0.053788894915836244, 0.014941359698843401, 0.06574198267491096, 0.011953087759074721, 0.050800622976067564, 0.011953087759074721, 0.026894447457918122, 0.0059765438795373604, 0.6674758735707449, 0.0765634090272325, 0.03730012234660045, 0.003926328668063205, 0.05300543701885327, 0.10404770970367494, 0.03926328668063205, 0.013742150338221218, 0.003926328668063205, 0.9279828892390531, 0.3272005768646434, 0.06135010816212063, 0.5930510455671661, 0.871345881243945, 0.11205006899354956, 0.1349694012876847, 0.04074547963401802, 0.025465924771261264, 0.0025465924771261262, 0.1833546583530811, 0.017826147339882886, 0.47875938569971177, 0.23780655576566687, 0.7580083965030632, 0.9236956567622936, 0.05655279531197716, 0.1469849686139729, 0.7839198326078555, 0.34282516465736745, 0.16045631417984002, 0.14985347403579774, 0.07139245696988476, 0.06644446490266503, 0.10037355336360036, 0.036049656489743793, 0.045945640624183264, 0.017671400240070488, 0.007775416105631014, 0.052060027191486356, 0.01735334239716212, 0.13882673917729696, 0.06941336958864848, 0.15618008157445906, 0.5379536143120257, 0.03470668479432424, 0.12480720761458183, 0.6062064369851118, 0.13966520852107966, 0.0029716001812995674, 0.07131840435118962, 0.01188640072519827, 0.041602402538193944, 0.0029716001812995674, 0.8712119207162624, 0.8659318720521981, 0.19737156280547802, 0.23220183859468002, 0.10449082736760601, 0.011610091929734001, 0.046440367718936004, 0.011610091929734001, 0.31347248210281803, 0.08127064350813801, 0.011610091929734001, 0.9128587115132529, 0.8659321959062349, 0.8261815048089747, 0.11802592925842496, 0.04721037170336998, 0.896037115008752, 0.0499228238861085, 0.8986108299499529, 0.15687410788882247, 0.7843705394441123, 0.9092085463690073, 0.07273668370952058, 0.9567762006443113, 0.8148157408912922, 0.10185196761141152, 0.05092598380570576, 0.9248067356654286, 0.9556718065554959, 0.8267097796328161, 0.8713440400859558, 0.9469275544478443, 0.2252268287221283, 0.17595845993916273, 0.014076676795133018, 0.05630670718053207, 0.017595845993916275, 0.4962028570284389, 0.010557507596349764, 0.0035191691987832546, 0.0035191691987832546, 0.889766831237982, 0.9279829074627161, 0.7317359983958869, 0.6554202002420707, 0.010044754026698402, 0.007533565520023801, 0.005022377013349201, 0.113003482800357, 0.0426902046134682, 0.1406265563737776, 0.020089508053396803, 0.007533565520023801, 0.41044955091049673, 0.30134270826340265, 0.05715120329133499, 0.0846134698079505, 0.04453340516207921, 0.02078225574230363, 0.028946713355351487, 0.03043116019408746, 0.02078225574230363, 0.9088039585833654, 0.05863251345699132, 0.31000787390202544, 0.019787736632044178, 0.013191824421362785, 0.013191824421362785, 0.4683097669583789, 0.13191824421362786, 0.039575473264088355, 0.04010278602898524, 0.15407912526925907, 0.48052987469819153, 0.14985777937147116, 0.11749412748843044, 0.01969961418967696, 0.005628461197050559, 0.01899605654004564, 0.00984980709483848, 0.0035177882481566, 0.08605559713202401, 0.774500374188216, 0.08605559713202401, 0.018380808711480207, 0.20065716176699225, 0.22746250780456753, 0.3431084292809638, 0.10339204900207616, 0.03140054821544535, 0.014551473563255162, 0.05284482504550559, 0.0038293351482250426, 0.005361069207515059, 0.03562754332014546, 0.5734337924861508, 0.22733765737616626, 0.10009643123278963, 0.005089649045735066, 0.03902064268396884, 0.018662046501028574, 0.8108168804598003, 0.6614898876678482, 0.13444916416013175, 0.06453559879686324, 0.00537796656640527, 0.01075593313281054, 0.034956782681634255, 0.06722458208006588, 0.008066949849607905, 0.002688983283202635, 0.01075593313281054, 0.15500097155030265, 0.061716633981127374, 0.3131941827892843, 0.2844640255911733, 0.10144228344024385, 0.010995492261005452, 0.016670585040879232, 0.00815794587106856, 0.03901626286163225, 0.009222025767294894, 0.8659321959062126, 0.9081844237254444, 0.6848769605511635, 0.011136210740669325, 0.011136210740669325, 0.22829232018372117, 0.05011294833301196, 0.011136210740669325, 0.06431674489897461, 0.026311395640489614, 0.5861594251020187, 0.1330187224046975, 0.1783327926744296, 0.004385232606748269, 0.001461744202249423, 0.002923488404498846, 0.001461744202249423, 0.3878588541230241, 0.08264038085007616, 0.08484412433941153, 0.0925572265520853, 0.2236799641675395, 0.08484412433941153, 0.0011018717446676823, 0.0022037434893353645, 0.019833691404018278, 0.019833691404018278, 0.012211072564159807, 0.3480155680785545, 0.24422145128319614, 0.042738753974559326, 0.10379411679535835, 0.006105536282079904, 0.24422145128319614, 0.8862020531955742, 0.04220009777121782, 0.8902163096102619, 0.15334355297359287, 0.10271816945599521, 0.3954649524055816, 0.17975679654799162, 0.1115225839807948, 0.022011036311998976, 0.0007337012103999658, 0.015407725418399283, 0.00880441452479959, 0.010271816945599522, 0.9210043567252032, 0.15034109032714343, 0.02909827554718905, 0.0048497125911981746, 0.6595609124029518, 0.1163931021887562, 0.024248562955990875, 0.014549137773594525, 0.9232222265761345, 0.04616111132880672, 0.9202832124965397, 0.8713877629771946, 0.10562275914875086, 0.9428395411876005, 0.044312642600150075, 0.004431264260015008, 0.46085148304156076, 0.10635034224036018, 0.37665746210127565, 0.8830823761122281, 0.9270894788666264, 0.2679228640041051, 0.26106769477585506, 0.17709187172979227, 0.12567810251791708, 0.05427008972364602, 0.03941722306243763, 0.013139074354145878, 0.04570112818833349, 0.0017137923070625059, 0.013710338456500047, 0.8707839790176797, 0.3422139904223412, 0.09612752539953404, 0.03768198995661735, 0.0446031717853838, 0.3829720611917436, 0.021532565689495624, 0.03306786873743971, 0.019994525283103082, 0.0223015858926919, 0.08347592881014708, 0.8347592881014708, 0.8267092433491537, 0.18128339133489196, 0.7251335653395679, 0.262326074763033, 0.19972553419458192, 0.07154347493537262, 0.11923912489228772, 0.084957876485755, 0.19674455607227473, 0.019376357794996753, 0.004471467183460789, 0.043224182773454294, 0.7317360649805486, 0.9511478017903203, 0.9498169144047958, 0.08599974793388107, 0.17199949586776214, 0.7739977314049296, 0.08119511928236155, 0.19437619464565342, 0.0910369519226478, 0.15992978040465156, 0.051669621361502806, 0.051669621361502806, 0.09349741008271936, 0.23374352520679842, 0.04428824688128812, 0.04365683816020755, 0.7421662487235284, 0.021828419080103776, 0.15279893356072644, 0.021828419080103776, 0.6552016957741615, 0.08190021197177019, 0.005850015140840729, 0.005850015140840729, 0.15795040880269967, 0.032175083274624004, 0.008775022711261092, 0.05265013626756656, 0.9409497131985295, 0.251291668429942, 0.10470486184580917, 0.006980324123053945, 0.0628229171074855, 0.07678356535359339, 0.006980324123053945, 0.034901620615269725, 0.4467407438754525, 0.9312810289930908, 0.15723279234246398, 0.31446558468492797, 0.03628449054056861, 0.10885347162170583, 0.3749397355858757, 0.8659321959061916, 0.9348437753445824, 0.8659316954332062, 0.04996744108400195, 0.8994139395120351, 0.2468063224336697, 0.297567906480311, 0.014003195599073459, 0.06826557854548311, 0.005251198349652547, 0.10677436644293513, 0.056012782396293835, 0.0017503994498841823, 0.11377596424247186, 0.09102077139397749, 0.7565356166569478, 0.0911488694767407, 0.08203398252906663, 0.018229773895348137, 0.027344660843022207, 0.018229773895348137, 0.8876656371906254, 0.8154036040671285, 0.10192545050839107, 0.7589979740363693, 0.10683869765457227, 0.5742579998933259, 0.09615482788911504, 0.026709674413643067, 0.0827999906822935, 0.06944515347547198, 0.029380641855007373, 0.005341934882728613, 0.010683869765457226, 0.8707838843654951, 0.2469265359287293, 0.7407796077861878, 0.8938342308546798, 0.8659319740173659, 0.1619983557511903, 0.08498274400062442, 0.021245686000156104, 0.07701561175056587, 0.09560558700070246, 0.20183401700148298, 0.07170419025052685, 0.20183401700148298, 0.08232703325060489, 0.8058266194554089, 0.05372177463036059, 0.10744354926072118, 0.4542733302345595, 0.2623961474279044, 0.02077302833804243, 0.1333847082758514, 0.0721589405426737, 0.002186634561899203, 0.03935942211418566, 0.004919927764273207, 0.002733293202374004, 0.007653220966647212, 0.15903289555893718, 0.5056045830505833, 0.03600744805108012, 0.048009930734773484, 0.09001862012770029, 0.08251706845039193, 0.03000620670923343, 0.022504655031925072, 0.0030006206709233428, 0.024004965367386742, 0.6999092229883402, 0.003364948187443943, 0.010094844562331829, 0.06729896374887887, 0.023554637312107603, 0.09421854924843041, 0.09758349743587436, 0.8713443594421179, 0.06851263051296348, 0.1595059679129931, 0.473165354480154, 0.08242925858590919, 0.14880086939534254, 0.03425631525648174, 0.011775608369415597, 0.01712815762824087, 0.004282039407060218, 0.0010705098517650544, 0.1559626556446869, 0.00354460581010652, 0.8152593363244997, 0.00354460581010652, 0.010633817430319562, 0.010633817430319562, 0.9595963446436838, 0.01626434482446922, 0.01626434482446922, 0.8713593242478652, 0.2509433973707958, 0.06339622670420104, 0.1761006297338918, 0.05987421410952321, 0.14440251638179127, 0.06779874244754834, 0.0343396227981089, 0.012327044081372427, 0.16993710769320558, 0.021132075568067017, 0.15598247944524668, 0.014180225404113334, 0.6381101431851001, 0.17016270484936002, 0.014180225404113334, 0.8886381973692791, 0.32521202816242006, 0.0239629915488099, 0.0017116422534864215, 0.5785350816784105, 0.04107941408367412, 0.018828064788350637, 0.008558211267432107, 0.003423284506972843, 0.35099284471135583, 0.10976064903344804, 0.31360185438128013, 0.027741702502959396, 0.02291705858940124, 0.01929857565423262, 0.08201894653048865, 0.03980331228685478, 0.02532938054618032, 0.00964928782711631, 0.26787761733358434, 0.2630247619471064, 0.086380825879308, 0.1475268037489305, 0.031058274473459054, 0.14461509051704372, 0.023293705855094292, 0.0009705710772955954, 0.03591112985993703, 0.15306169662027672, 0.15306169662027672, 0.6887776347912452, 0.7335466081301584, 0.054336785787419135, 0.011643596954446958, 0.023287193908893916, 0.1319607654837322, 0.01552479593926261, 0.027168392893709568, 0.0038811989848156524, 0.830671538798735, 0.06389781067682576, 0.06389781067682576, 0.8267099119183058, 0.930233650948005, 0.8860896398942246, 0.06329211713530176, 0.8802281230853776, 0.06770985562195213, 0.9518287198512028, 0.8856544886206917, 0.9081629284084897, 0.9226620615071995, 0.8267085070912259, 0.2290841208447525, 0.10010398557921958, 0.1963578178669307, 0.0077003065830168905, 0.0847033724131858, 0.0673776826013978, 0.011550459874525337, 0.025025996394804895, 0.27528596034285385, 0.08658858914972935, 0.12988288372459403, 0.7360030077726994, 0.16164649743076473, 0.12888031551912324, 0.34120517430656017, 0.18043244172677253, 0.08038636628989382, 0.04325136012336678, 0.025339180678336095, 0.00393194182939698, 0.012232707913679494, 0.022717886125404773, 0.9553555674587542, 0.9861391090890594, 0.9175500377446667, 0.029568215653288994, 0.0817474197473284, 0.6418042103566847, 0.07131157892852051, 0.10609771499121345, 0.022610988440750407, 0.013914454425077175, 0.012175147621942528, 0.019132374834481113, 0.46272569830052884, 0.14199164027272546, 0.07851302462138937, 0.04760896173850206, 0.09939414819090782, 0.05429092128074797, 0.08603022910641601, 0.02171636851229919, 0.0075172044850266425, 0.41214351744899025, 0.13044710699489595, 0.1477822707151479, 0.06197321029990074, 0.06414010576493223, 0.07107417125303302, 0.01950205918528345, 0.07497458309008971, 0.005200549116075586, 0.012567993697182667, 0.9279829394588752, 0.9435972423063312, 0.29350915272598793, 0.010121005266413376, 0.5262922738534955, 0.09108904739772039, 0.020242010532826753, 0.010121005266413376, 0.040484021065653505, 0.8335599907075282, 0.04630888837264045, 0.04630888837264045, 0.04630888837264045, 0.05453916698030439, 0.8726266716848703, 0.05453916698030439, 0.03849222937365711, 0.533392321320677, 0.21995559642089776, 0.09348112847888156, 0.008248334865783667, 0.03574278441839589, 0.061862511493377494, 0.006873612388153055, 0.4420791557732619, 0.0321512113289645, 0.048226816993446754, 0.257209690631716, 0.20898287363826926, 0.057817275911566615, 0.32508581550277077, 0.14181595978308792, 0.2825410275678444, 0.0741806558865383, 0.03709032794326915, 0.022908731964960356, 0.04581746392992071, 0.00981802798498301, 0.0032726759949943366, 0.15784044145304174, 0.631361765812167, 0.11469322454078472, 0.8601991840558854, 0.056737354959990535, 0.9361663568398438, 0.05692087073956771, 0.05692087073956771, 0.13703172585451487, 0.1791953338097502, 0.05059632954628241, 0.012649082386570603, 0.497530573871777, 0.004216360795523534, 0.002108180397761767, 0.10766686677043144, 0.1678336452597902, 0.02691671669260786, 0.09500017656214539, 0.045916752005036934, 0.36575067976425973, 0.042750079452965425, 0.04433341572900118, 0.004750008828107269, 0.09975018539025265, 0.15802610098859812, 0.07901305049429906, 0.20740925754753503, 0.528399775180625, 0.029629893935362146, 0.03592680663142488, 0.876614081806767, 0.05748289061027981, 0.007185361326284976, 0.028741445305139904, 0.188117781854922, 0.024537101981076784, 0.68703885547015, 0.008179033993692261, 0.05725323795584583, 0.032716135974769044, 0.1343036639416815, 0.8058219836500891, 0.9469275728933221, 0.8887121666461636, 0.9279829001289779, 0.2604011151678963, 0.2860176462494787, 0.1853668666454661, 0.13554573926632557, 0.02521312114328973, 0.036508599415483525, 0.02884381058792345, 0.020977316791217053, 0.004034099382926357, 0.016943217408290696, 0.06613735668669543, 0.044091571124463616, 0.3306867834334771, 0.4850072823690998, 0.06613735668669543, 0.050233866114634027, 0.17581853140121909, 0.27628626363048714, 0.5023386611463403, 0.34944905120301384, 0.040798620191214816, 0.11175274226289275, 0.04257247324300677, 0.19334998264532238, 0.07804953427884573, 0.021286236621503384, 0.12239586057364445, 0.03192935493225507, 0.008869265258959742, 0.024569771899952096, 0.1277628138797509, 0.009827908759980838, 0.04913954379990419, 0.34889076097931976, 0.06879536131986587, 0.34889076097931976, 0.004913954379990419, 0.019655817519961677, 0.9230320811666547, 0.2796583245091091, 0.25919552027673526, 0.3043017016491722, 0.017602412242902224, 0.02596355805828078, 0.015402110712539446, 0.07260995050197168, 0.016282231324684558, 0.0013201809182176668, 0.007921085509306001, 0.8713443352206107, 0.9828410307715348, 0.8830823761122281, 0.9312810289930908, 0.027122598916098768, 0.6780649729024691, 0.027122598916098768, 0.10849039566439507, 0.054245197832197535, 0.0813677967482963, 0.08285492622432543, 0.16570985244865086, 0.7456943360189289, 0.8840838075619325, 0.9081622362636391, 0.06560824866418703, 0.06560824866418703, 0.8529072326344315, 0.27025800052167914, 0.039924477349793513, 0.05835115920354436, 0.11363120476479692, 0.15048456847229863, 0.030711136422918086, 0.23340463681417745, 0.10134675019562968, 0.14415326375567392, 0.5342150362710268, 0.23742890500934527, 0.03391841500133504, 0.05087762250200256, 0.8477301652047433, 0.8659321959061616, 0.8938344702253037, 0.1306858798838058, 0.8363896312563572, 0.11447199788241941, 0.8013039851769358, 0.057235998941209704, 0.7589978147583096, 0.1853053942385506, 0.24189866328978363, 0.24290031406945148, 0.18129879111987926, 0.038062729627377966, 0.04607593586472069, 0.038563555017211884, 0.015024761695017617, 0.0030049523390035236, 0.008013206237342729, 0.9248068672120192, 0.10321813805039605, 0.8051014767930892, 0.07741360353779704, 0.005160906902519803, 0.12684351042861186, 0.7469673391907143, 0.08456234028574125, 0.02818744676191375, 0.42638938914681235, 0.1279168167440437, 0.029174010836360845, 0.051615557633561494, 0.05834802167272169, 0.033662320195800975, 0.1346492807832039, 0.13689343546292396, 0.36327707992485747, 0.24923697386890079, 0.11481413392511475, 0.0761127404672109, 0.06682440603731397, 0.06347028527096231, 0.02038273388782936, 0.019608706018671283, 0.0036121300560710257, 0.022962826785022948, 0.2746212184951348, 0.005492424369902696, 0.005492424369902696, 0.633459610662111, 0.040277778712619776, 0.010984848739805392, 0.0036616162466017975, 0.027462121849513483, 0.03198192763870206, 0.9594578291610616, 0.08805700811736447, 0.8805700811736448, 0.044028504058682236, 0.9807865061751461, 0.15198295764251457, 0.17369480873430237, 0.043423702183575594, 0.043423702183575594, 0.5862199794782704, 0.043423702183575594, 0.2557285716606948, 0.02324805196915407, 0.30222467559900296, 0.06974415590746222, 0.34872077953731107, 0.48003078785087216, 0.2127352292352666, 0.054560329380338966, 0.08008855688857096, 0.08709630561632091, 0.02602878098878556, 0.03303652971653552, 0.005506088286089253, 0.0010011069611071369, 0.01952158574158917, 0.8467874239592522, 0.08759869903026747, 0.058399132686844976, 0.8726536505135157, 0.9047435817669923, 0.4913415637957622, 0.07887325103037236, 0.09568230452864844, 0.07370123456936434, 0.06723621399310431, 0.03879012345756018, 0.02456707818978811, 0.11507736625742852, 0.011637037037268053, 0.14508173921579384, 0.06217788823534022, 0.663230807843629, 0.06217788823534022, 0.06217788823534022, 0.19956949651850198, 0.2703627300808084, 0.1651842116453817, 0.06944479101826251, 0.10922384606755851, 0.11529183751575621, 0.0377563912332301, 0.008090655264263594, 0.006742212720219661, 0.017529753072571118, 0.31345656155717994, 0.10448552051905997, 0.026121380129764993, 0.5224276025952999, 0.026121380129764993, 0.013060690064882497, 0.25772433827581087, 0.14174838605169598, 0.11795844713392882, 0.09515975567106863, 0.03469366092174377, 0.10110724040051042, 0.0902035183965338, 0.02676368128248805, 0.11696719967902185, 0.016851206733418403, 0.8713438706621587, 0.09555921167630609, 0.02435823042729371, 0.6895252920956988, 0.0918117916105686, 0.03747420065737494, 0.016863390295818723, 0.009368550164343735, 0.031853070558768695, 0.0018737100328687468, 0.05168246874869695, 0.6201896249843634, 0.1698138258885757, 0.140280986603606, 0.014766419642484842, 0.30510392844517364, 0.01860389807592522, 0.0037207796151850444, 0.07441559230370089, 0.18975976037443726, 0.1339480661466616, 0.11906494768592142, 0.0037207796151850444, 0.15255196422258682, 0.08511787254743139, 0.011199720072030446, 0.6406239881201415, 0.14783630495080188, 0.04703882430252787, 0.03135921620168525, 0.03135921620168525, 0.006719832043218268, 0.8491451216422574, 0.8960384149397188, 0.48032980171164497, 0.19864106285738586, 0.07930678969070773, 0.05686147185371498, 0.052372408286316424, 0.026186204143158212, 0.029553001818707125, 0.0138412793328122, 0.03030117907994022, 0.03254571086363949, 0.35143731442201775, 0.07028746288440356, 0.5622997030752285, 0.9076450755806525, 0.10672401202063134, 0.26280787960080465, 0.28015053155415726, 0.09738566096882609, 0.08271110931598928, 0.04935985555954199, 0.0947175606683103, 0.020010752253868374, 0.0026681003005157833, 0.004002150450773675, 0.5040591652829958, 0.0395340521790585, 0.08895161740288161, 0.01976702608952925, 0.34592295656676186, 0.13673991650281606, 0.24809697425361235, 0.22312351644920583, 0.20470047380661086, 0.08638359994638978, 0.022517052118727194, 0.020060646433047863, 0.005731613266585104, 0.04789991087074694, 0.0053222123189718825, 0.08408189346945381, 0.13312966465996853, 0.23385276621191842, 0.2969141863140088, 0.07269580372879861, 0.01576535502552259, 0.04028924062077995, 0.0008758530569734772, 0.11648845657747246, 0.007006824455787817, 0.9291183852766738, 0.12384558295116961, 0.7430734977070177, 0.09302807498351533, 0.13954211247527298, 0.7442245998681226, 0.19057337217987985, 0.2924522189427087, 0.17259475216291006, 0.1066731454340208, 0.07431162940347516, 0.02397149335595973, 0.0035957240033939594, 0.03475866536614161, 0.10068027209503086, 0.0011985746677979864, 0.9824006851008734, 0.9084951647162253, 0.07267961317729801, 0.46092209696367104, 0.2937938556982178, 0.11347127959601826, 0.023749802706143356, 0.05717545095923401, 0.002638866967349262, 0.02462942502859311, 0.014073957159196062, 0.0008796223224497539, 0.007916600902047785, 0.25925513178169696, 0.2074041054253576, 0.11052455618061818, 0.13235656727802425, 0.05048652566275152, 0.09142154647038787, 0.0259255131781697, 0.032748016646109095, 0.004093502080763637, 0.08459904300244848, 0.11875674352167236, 0.022620332099366165, 0.7408158762542418, 0.0678609962980985, 0.0480682057111531, 0.9202803976111646, 0.046014019880558234, 0.012802458584291156, 0.044808605045019045, 0.6241198559841938, 0.17923442018007618, 0.07681475150574693, 0.016003073230363946, 0.044808605045019045, 0.9409497473333845, 0.7985196561939084, 0.6129502761995018, 0.021951387301910534, 0.023639955555903654, 0.015197114285938063, 0.07091986666771095, 0.07598557142969031, 0.12326548254149762, 0.001688568253993118, 0.05572275238177289, 0.04487969351382675, 0.007662386697482616, 0.6250318291803677, 0.15324773394965233, 0.10946266710689452, 0.02517641343458574, 0.014230146723896287, 0.0032838800132068357, 0.015324773394965232, 0.9888194665603905, 0.8360799499056896, 0.13934665831761492, 0.6738337917971119, 0.0077009576205384215, 0.011551436430807633, 0.06545813977457658, 0.03465430929242289, 0.10011244906699948, 0.10396292787726868, 0.1319438356087875, 0.8576349314571187, 0.013194383560878748, 0.7317359512954157, 0.10270259878279811, 0.890089189450917, 0.9904690419082935, 0.9226621885903128, 0.7317359512954157, 0.2585870762768773, 0.02096651969812519, 0.6289955909437557, 0.05031964727550045, 0.009784375859125088, 0.030750895557250277, 0.9915792463557783, 0.9081649828680644, 0.9081845503901971, 0.25447785438932125, 0.0029938571104626025, 0.6646362785226978, 0.035926285325551234, 0.026944713994163424, 0.014969285552313014, 0.02815762048494853, 0.031830353591680946, 0.6060009626108488, 0.07590315087246995, 0.11752745941543734, 0.0012242443689108055, 0.008569710582375639, 0.11385472630870493, 0.014690932426929667, 0.2577450632880052, 0.08591502109600176, 0.2773397172221811, 0.25020865792870683, 0.08365409948821223, 0.010550967503017759, 0.0037682026796491998, 0.0037682026796491998, 0.021855575541965357, 0.0052754837515088795, 0.15206338151108278, 0.6185879306130455, 0.07234083198100055, 0.14615800747181742, 0.005905374039265351, 0.0029526870196326755, 0.9564065571945194, 0.8737172695224703, 0.11528447686294302, 0.43755699172980644, 0.06462917642316503, 0.1074241716222878, 0.05414876943562475, 0.10567743712436443, 0.07248948166382023, 0.0026201017468850687, 0.039301526203276024, 0.9606417033586532, 0.9081617705912556, 0.9511478147416266, 0.696944561834313, 0.11404547375470576, 0.08236617548950971, 0.025343438612156835, 0.08236617548950971, 0.8702298062134715, 0.9401621062099533, 0.022384812052617935, 0.022384812052617935, 0.9405132072485145, 0.8559018431250831, 0.23017485759725823, 0.10700436523752138, 0.19168407873484045, 0.15935182449040952, 0.082370266765574, 0.17243868930363157, 0.0007698155772483552, 0.010007602504228618, 0.013856680390470394, 0.03233225424443092, 0.1610386762747871, 0.21124101665194744, 0.37945145583775747, 0.09910072386140745, 0.07725944590511041, 0.020211331840155465, 0.00912769825039279, 0.013039568929132559, 0.017929407277557267, 0.011083633589762675, 0.8881265137740051, 0.5687804200055149, 0.04117867294157574, 0.023163003529636354, 0.007721001176545451, 0.07206267764775755, 0.22390903411981808, 0.06176800941236361, 0.17910176484398982, 0.20696203937527713, 0.2717798209378639, 0.044917585468810146, 0.09438378718762638, 0.11200967515639998, 0.02956600562503959, 0.0022743081250030453, 0.01250869468751675, 0.04662331656256243, 0.15285246463269545, 0.3167545050219713, 0.12154533332238433, 0.06629745453948237, 0.10128777776865361, 0.112337353525234, 0.03499032322917125, 0.0018415959594300655, 0.09207979797150329, 0.9469274866829679, 0.06476551621473636, 0.18134344540126182, 0.7253737816050473, 0.025906206485894544, 0.9896414857300868, 0.9366701272804603, 0.7589976616883354, 0.8184551740472049, 0.10879267114418077, 0.06675913911120183, 0.19038717450231635, 0.18544205308667178, 0.027198167786045193, 0.051923774864268094, 0.34863105980294296, 0.017307924954756033, 0.8713442650015881, 0.9492600973607708, 0.09872990457620134, 0.18355418878955743, 0.1126355249390466, 0.17242969249928122, 0.05284135737881199, 0.18355418878955743, 0.008343372217707156, 0.08482428421335608, 0.10290159068505493, 0.2869289436057675, 0.014346447180288375, 0.6025507815721117, 0.023910745300480624, 0.019128596240384498, 0.0573857887211535, 0.07259780710400877, 0.41965073862561175, 0.1026993368788417, 0.0690564506599108, 0.05843238132761682, 0.07082712888195979, 0.12040611909933163, 0.05843238132761682, 0.014165425776391957, 0.014165425776391957, 0.9435971652457386, 0.29819117165420933, 0.40632643170463695, 0.06007514447245976, 0.09175112973975673, 0.07318244872099644, 0.021845507080894458, 0.009830478186402506, 0.0076459274783130604, 0.001092275354044723, 0.028399159205162797, 0.9081841557518463, 0.017550210320933193, 0.7926844994954826, 0.014625175267444328, 0.005850070106977731, 0.05265063096279958, 0.07897594644419936, 0.03802545569535525, 0.8887120095412665, 0.9015982659266771, 0.18634118246978817, 0.08695921848590114, 0.5497064882858751, 0.09938196398388702, 0.006211372748992939, 0.06521941386442585, 0.908184659797874, 0.9348437753445824, 0.9081828250095169, 0.06025079384559531, 0.1656896830753871, 0.09037619076839297, 0.5271944461489589, 0.13556428615258945, 0.8430108521308576, 0.13442084990498324, 0.8065250994298994, 0.11677377231046784, 0.11677377231046784, 0.7590295200180409, 0.11887569916255168, 0.07662130372562573, 0.33014767634718145, 0.3357815957387716, 0.018028542053088407, 0.0016901758174770382, 0.005070527452431114, 0.11380517171012057, 0.24009900537109247, 0.09337183542209151, 0.2878379888951693, 0.2099111187308674, 0.12987811694050325, 0.00842452650424886, 0.01684905300849772, 0.012636789756373288, 0.0833988844419425, 0.8339888444194251, 0.8707837736273213, 0.07986863114119584, 0.8146600376401976, 0.07188176802707626, 0.021963873563828857, 0.005990147335589688, 0.10089448211597368, 0.8744188450051052, 0.8840510800415369, 0.22492449937978415, 0.269909399255741, 0.1106628536948538, 0.14575107559810013, 0.07017644380649266, 0.14575107559810013, 0.01349546996278705, 0.0062978859826339564, 0.0008996979975191366, 0.012595771965267913, 0.1152508616511104, 0.06585763522920594, 0.3233011183979201, 0.1676376169470697, 0.0014967644370274078, 0.16015379476193264, 0.16015379476193264, 0.004490293311082224, 0.7995794762367722, 0.09750969222399661, 0.09750969222399661, 0.25514035606838253, 0.056697856904085006, 0.06614749972143251, 0.6142267831275875, 0.8707837227117821, 0.82670986961356, 0.17555950072776588, 0.7802644476789594, 0.009753305595986993, 0.019506611191973985, 0.009753305595986993, 0.15539535079036396, 0.08933355915001599, 0.16065026603448254, 0.14413481812439555, 0.07882372866177882, 0.09834198528279071, 0.027025278398324165, 0.03603370453109889, 0.2064430988760874, 0.003753510888656134, 0.2584447003232119, 0.6813542099430132, 0.04698994551331125, 0.9217840044113935, 0.8727018278543793, 0.11067694630930941, 0.7747386241651659, 0.14010977769876026, 0.8518674484084623, 0.8114861325917349, 0.08114861325917348, 0.10143576657396686, 0.8967217952111877, 0.21617753442327273, 0.44143815852819557, 0.18347841156933234, 0.016349561426970208, 0.03814897666293048, 0.023616033172290298, 0.08174780713485104, 0.13467134842506762, 0.1897641727807771, 0.197826537320637, 0.25142633120600205, 0.0815194636808059, 0.055242127402743924, 0.030159215500957494, 0.014183789468272088, 0.035384822147163, 0.00985400110427324, 0.9129759525717198, 0.2605475567019503, 0.0901895388583674, 0.5511582930233564, 0.08016847898521547, 0.020042119746303867, 0.939979351367025, 0.9376971213391948, 0.21832695522200193, 0.10916347761100097, 0.10916347761100097, 0.5458173880550048, 0.056930065193913734, 0.08946153101900729, 0.6262307171330511, 0.17892306203801459, 0.008132866456273391, 0.032531465825093565, 0.41949511780918264, 0.13231303882118897, 0.06790054013319365, 0.04162396124603309, 0.23114087976847425, 0.032322517392170944, 0.052088085581628, 0.008371299468475929, 0.005813402408663839, 0.00906890775751559, 0.8707833251149717, 0.8393738631715029, 0.16494484571469456, 0.1924356533338103, 0.09346874590499359, 0.17869024952425244, 0.038487130666762064, 0.02474172685720418, 0.08522150361925886, 0.002749080761911576, 0.21717738019101449, 0.002749080761911576, 0.36819823967754267, 0.030471578456072495, 0.007617894614018124, 0.0660217533214904, 0.37073753788221536, 0.10157192818690833, 0.022853683842054374, 0.030471578456072495, 0.36365165670280347, 0.03827912175818984, 0.583756606812395, 0.12553780547544333, 0.8648159932752764, 0.2390987602789012, 0.19725647723009349, 0.01195493801394506, 0.04184228304880771, 0.23312129127192868, 0.01793240702091759, 0.03586481404183518, 0.20921141524403855, 0.5611242576363814, 0.07954303806247626, 0.012104375357333344, 0.021614955995238116, 0.17162275060219062, 0.06354797062600005, 0.061818774146381004, 0.0004322991199047623, 0.028099442793809548, 0.16678158194652876, 0.06986796000462692, 0.6152888090730048, 0.09465981678046227, 0.031553272260154086, 0.0022538051614395776, 0.00901522064575831, 0.004507610322879155, 0.004507610322879155, 0.3440057851438173, 0.18247742769648, 0.28667148761984773, 0.07166787190496193, 0.08545015496360846, 0.013230991736300666, 0.004410330578766888, 0.004410330578766888, 0.006615495868150333, 0.001102582644691722, 0.7369071802562017, 0.10114412278026297, 0.043347481191541276, 0.0577966415887217, 0.02889832079436085, 0.02889832079436085, 0.8430101749952018, 0.8856551067270017, 0.24031338183799156, 0.6007834545949788, 0.06201844640019579, 0.8682582496027411, 0.6891446356636456, 0.03828581309242476, 0.10209550157979935, 0.051047750789899676, 0.10209550157979935, 0.8840451988740616, 0.8057472645245671, 0.1438834400936727, 0.02877668801873454, 0.7317359983958869, 0.17703620175464677, 0.03934137816769928, 0.7212585997411535, 0.03278448180641606, 0.026227585445132852, 0.3214372873983624, 0.09615645349523662, 0.40935175916543587, 0.09615645349523662, 0.03846258139809464, 0.008241981728163138, 0.02747327242721046, 0.10988465762075737, 0.043953863048302955, 0.010988465762075739, 0.054942328810378686, 0.7362272060590744, 0.043953863048302955, 0.010988465762075739, 0.9123603169808652, 0.9312809497703844, 0.8457598083349065, 0.04504310065111613, 0.19083145695701872, 0.42876905734306725, 0.1320347377864778, 0.1409745898241039, 0.017192023149280967, 0.02441267287197897, 0.007220649722698006, 0.005845287870755528, 0.007220649722698006, 0.8881984933047261, 0.9346741356431449, 0.9486070596745666, 0.16826324368460394, 0.11382513543370265, 0.2660043925896312, 0.26847885205558125, 0.10887621650180254, 0.025981824392475605, 0.017321216261650403, 0.0012372297329750288, 0.01979567572760046, 0.008660608130825202, 0.21211375706871569, 0.01855995374351262, 0.20415949117863885, 0.5276329707084303, 0.03181706356030735, 0.002651421963358946, 0.9469273902613777, 0.8897957123681206, 0.5142691968265833, 0.016589328929889784, 0.02488399339483468, 0.008294664464944892, 0.14930396036900806, 0.09124130911439382, 0.19907194715867743, 0.8713439712636492, 0.5791429257532791, 0.12657702528673623, 0.060283192210582474, 0.02722466744994047, 0.052504715796313765, 0.029346070108377392, 0.06947593706380913, 0.05109044735735582, 0.00035356710973948665, 0.0040660217620040965, 0.2649751275391504, 0.07314417583111964, 0.04416252125652507, 0.04002228488872584, 0.027601575785328167, 0.031741812153127394, 0.2994770972708106, 0.12834732740177598, 0.08832504251305014, 0.0013800787892664084, 0.8430104045132979, 0.0485095303306022, 0.01865751166561623, 0.30225168898298294, 0.47390079630665227, 0.07463004666246492, 0.04104652566435571, 0.022389013998739476, 0.014926009332492985, 0.8707838349549806, 0.7985196561939084, 0.962481037895334, 0.924806751884663, 0.8840826360564081, 0.7317359983958869, 0.8726537756452988, 0.8563234056676161, 0.07784758233341965, 0.9123603629035162, 0.9469276398747126, 0.30658692572457646, 0.04695475439025045, 0.03590657688666211, 0.008286133127691256, 0.0193343106312796, 0.20715332819228138, 0.0386686212625592, 0.22096355007176682, 0.11600586378767758, 0.9552940198867319, 0.06773256285912746, 0.9233017779217901, 0.003564871729427761, 0.003564871729427761, 0.7985196561939084, 0.12360944165900971, 0.12360944165900971, 0.7416566499540582, 0.9022035572014099, 0.3998561830895025, 0.13282893753315664, 0.07805411793185493, 0.03012615078071594, 0.22594613085536955, 0.017801816370423055, 0.046558596661106455, 0.005477481960130171, 0.06299104254149697, 0.6959117504624779, 0.07325386846973451, 0.18313467117433627, 0.2515017038969447, 0.07942159070429831, 0.07280312481227347, 0.1323693178404972, 0.05294772713619888, 0.08604005659632318, 0.31768636281719326, 0.00661846589202486, 0.27633192548481167, 0.5455784169828334, 0.007085433986790043, 0.17005041568296103, 0.4653819584993369, 0.046349016192007125, 0.05391620250906952, 0.0681046768535615, 0.08134725290842068, 0.046349016192007125, 0.08891443922548306, 0.14661423489308378, 0.0028376948688983955, 0.9302346477546309, 0.931281029856551, 0.020726759332859578, 0.21623051628334586, 0.4475859650528325, 0.08122648927742267, 0.17085571882492354, 0.019606393963515815, 0.03585169181900035, 0.005041644162046924, 0.002240730738687522, 0.0005601826846718805, 0.7985196561939084, 0.4091908530001934, 0.09103777759957465, 0.002874877187354989, 0.010541216353634959, 0.22903188259261412, 0.07857997645436969, 0.08337143843329468, 0.026832187081979895, 0.0009582923957849963, 0.06612217530916474, 0.7985196561939084, 0.9224964280663336, 0.5697742207690684, 0.06391697989396601, 0.01826199425541886, 0.019175093968189803, 0.15614005088383123, 0.062090780468424124, 0.05569908247902752, 0.000913099712770943, 0.05295978334071469, 0.9202830865354612, 0.5995385041481214, 0.04675300261705533, 0.03850247274345733, 0.022001412996261335, 0.016501059747196, 0.156760067598362, 0.057753709115186, 0.019251236371728667, 0.03850247274345733, 0.8233489249844357, 0.16466978499688714, 0.44331560173477547, 0.1416281791100158, 0.10670616234316257, 0.021341232468632516, 0.1367778990035084, 0.05141296912897834, 0.04365252095856651, 0.035892072788154684, 0.005820336127808868, 0.012610728276919215, 0.9840412416795519, 0.37295776661008234, 0.5801565258379058, 0.02762650123037647, 0.29026373253929627, 0.025240324568634457, 0.6310081142158614, 0.03786048685295169, 0.012620162284317228, 0.3116085342077038, 0.6232170684154076, 0.02596737785064198, 0.5099809016677024, 0.16343017312131, 0.057102108680939644, 0.07876152921508917, 0.07088537629358024, 0.011814229382263374, 0.0019690382303772292, 0.10632806444037037, 0.08570345467081923, 0.007452474319201672, 0.02608366011720585, 0.003726237159600836, 0.15277572354363428, 0.007452474319201672, 0.7154375346433606, 0.12797207658994567, 0.042657358863315224, 0.08531471772663045, 0.767832459539674, 0.9176199781852259, 0.9094444783338274, 0.06062963188892182, 0.3510424801859457, 0.22453804125606058, 0.06486654525175084, 0.08218385823751237, 0.13208120073885915, 0.054887076751481474, 0.03375408463326401, 0.019958937000538718, 0.019958937000538718, 0.016730285426922162, 0.3009381891299055, 0.287974697905848, 0.05185396489622987, 0.14630225810007713, 0.08889251125067978, 0.04444625562533989, 0.03981643733103365, 0.0018519273177224954, 0.0388904736721724, 0.046249859899251275, 0.0693747898488769, 0.03468739492443845, 0.5723420162532346, 0.1214058822355346, 0.017343697462219226, 0.13296834721034742, 0.09294902361837012, 0.3201577480188304, 0.16782462597761272, 0.033564925195522545, 0.041310677163720055, 0.0722936850365101, 0.2323725590459253, 0.041310677163720055, 0.1457744942231993, 0.04859149807439977, 0.7288724711159965, 0.2659853174164073, 0.16624082338525456, 0.16624082338525456, 0.36572981144756, 0.14359434610904417, 0.035898586527261044, 0.789768903599743, 0.8713441973582546, 0.07434398425124815, 0.10532064435593488, 0.32835259710967934, 0.018585996062812037, 0.018585996062812037, 0.43986857348655156, 0.012390664041874692, 0.7985196449132558, 0.2609973194698455, 0.1549269802764354, 0.21471208054908472, 0.16778399108775782, 0.049499491623591386, 0.07971346703019912, 0.02314261946038039, 0.014785562433020804, 0.008999907567925706, 0.025071171082078757, 0.8108162165253467, 0.023873941080777214, 0.04433731915001483, 0.719628795434856, 0.05797957119617324, 0.10231689034618807, 0.010231689034618806, 0.01364225204615841, 0.02728450409231682, 0.17537099497224304, 0.04091989882685671, 0.631335581900075, 0.04968844857546886, 0.029228499162040508, 0.04091989882685671, 0.002922849916204051, 0.011691399664816204, 0.014614249581020254, 0.012264765034071248, 0.11283583831345548, 0.5911616746422341, 0.03679429510221374, 0.15944194544292623, 0.03679429510221374, 0.024529530068142496, 0.007358859020442749, 0.019623624054513997, 0.18689119959118639, 0.7653639602305728, 0.017799161865827275, 0.008899580932913638, 0.026698742798740915, 0.1417661857375275, 0.22725549168227893, 0.3917901860382578, 0.12243443313695557, 0.08720768395369116, 0.005155134026819182, 0.011599051560343158, 0.003866350520114386, 0.006443917533523977, 0.002147972511174659, 0.020761210352919175, 0.04844282415681141, 0.8788912382735785, 0.006920403450973059, 0.027681613803892235, 0.013840806901946117, 0.9348437753445824, 0.9176194811589662, 0.08002493902960679, 0.08383565041196901, 0.041917825205984506, 0.0685928048825201, 0.5944709756485076, 0.08574100610315012, 0.005716067073543342, 0.032391046750078936, 0.005716067073543342, 0.7985196561939084, 0.3325159057233214, 0.04058879600378571, 0.024977720617714284, 0.029661043233535713, 0.4667711540435357, 0.05776097892846428, 0.02809993569492857, 0.009366645231642858, 0.01092775277025, 0.1848066344465115, 0.739226537786046, 0.849145478544458, 0.11285373691240584, 0.8275940706909762, 0.01880895615206764, 0.03761791230413528, 0.01880895615206764, 0.8830830064078579, 0.5556082861836497, 0.18422025403967165, 0.00884257219390424, 0.00884257219390424, 0.1370598690055157, 0.03537028877561696, 0.03684405080793433, 0.026527716581712716, 0.005895048129269493, 0.16382523506424768, 0.4227095571410835, 0.35798847662187455, 0.03842814155828032, 0.00606760129867584, 0.00202253376622528, 0.00606760129867584, 0.0960595647379897, 0.3722308133597101, 0.012007445592248712, 0.024014891184497424, 0.012007445592248712, 0.22814146625272555, 0.252156357437223, 0.3110062237227082, 0.050386483172952724, 0.006949859747993479, 0.42220397969060386, 0.1546343793928549, 0.027799438991973915, 0.024324509117977174, 0.0034749298739967394, 0.9005198725773136, 0.08658844928628015, 0.310167600312541, 0.07754190007813525, 0.5427933005469467, 0.10956766303981792, 0.015288511121835059, 0.4382706521592717, 0.13759660009651553, 0.015288511121835059, 0.24461617794936094, 0.038221277804587644, 0.00254808518697251, 0.26256374985118297, 0.26256374985118297, 0.047738863609305994, 0.09547772721861199, 0.33417204526514194, 0.8967219440051202, 0.20817466797645395, 0.16653973438116315, 0.20817466797645395, 0.4163493359529079, 0.8108163274457839, 0.37175444955465514, 0.5782846993072414, 0.9601151206562901, 0.08765802578403478, 0.15096659996139325, 0.1558364902827285, 0.029219341928011594, 0.2970633096014512, 0.2532342967094338, 0.029219341928011594, 0.7954270583867238, 0.1195557648537306, 0.026567947745273466, 0.7272975695268612, 0.06974086283134286, 0.0066419869363183665, 0.05313589549054693, 0.921156645127808, 0.9761842892499578, 0.8775208633532063, 0.03510083453412825, 0.03510083453412825, 0.05265125180119238, 0.1469325554504293, 0.030250820239794265, 0.25929274491252224, 0.5531578558133808, 0.004321545748542038, 0.008643091497084076, 0.1862218420615126, 0.08122442047363848, 0.02377300111423565, 0.029716251392794567, 0.04160275194991239, 0.26150301225659217, 0.009905417130931522, 0.03169733481898087, 0.33480309902548544, 0.8119298292792899, 0.062456140713791526, 0.12491228142758305, 0.9123604890197454, 0.8267092820767449, 0.37485809216366134, 0.19018535558303407, 0.05512619002406784, 0.056504344774669535, 0.06477327327827971, 0.04410095201925427, 0.07166404703128819, 0.08682374928790686, 0.01378154750601696, 0.04134464251805088, 0.08335008950203705, 0.8335008950203705, 0.11476328541255962, 0.8750700512707671, 0.757735008690591, 0.053487177084041715, 0.017829059028013905, 0.008914529514006952, 0.02377207870401854, 0.03565811805602781, 0.04754415740803708, 0.014857549190011587, 0.03862962789403013, 0.019883507255409893, 0.21871857980950882, 0.019883507255409893, 0.5965052176622967, 0.11930104353245935, 0.019883507255409893, 0.9345663773505664, 0.7317359983958869, 0.07109510247726718, 0.3554755123863359, 0.0658287985900622, 0.15798911661614928, 0.06846195053366469, 0.07372825442086967, 0.05529619081565225, 0.11849183746211196, 0.002633151943602488, 0.03159782332322986, 0.09362986727751846, 0.16417291796605976, 0.0641300460804921, 0.23728117049782077, 0.09619506912073815, 0.09234726635590862, 0.02052161474575747, 0.03334762396185589, 0.1988031428495255, 0.9406733581105788, 0.12607602554298186, 0.02701629118778183, 0.11707059514705459, 0.37372536143098195, 0.009005430395927277, 0.02251357598981819, 0.32419549425338196, 0.07621129666063102, 0.11431694499094652, 0.6859016699456791, 0.11431694499094652, 0.9353507391606547, 0.14491596981784174, 0.7970378339981296, 0.9081633938789144, 0.517040984923983, 0.02721268341705174, 0.40819025125577607, 0.09360643077226029, 0.8307570731038101, 0.058504019232662685, 0.935319835891557, 0.5090402345431184, 0.24557912954539204, 0.14186367192185267, 0.002384263393644583, 0.026226897330090412, 0.002384263393644583, 0.05483805805382541, 0.004768526787289166, 0.013113448665045206, 0.5389090840043076, 0.11032159451634575, 0.12857624684638858, 0.016667291257865185, 0.06270076235101665, 0.021429374474398095, 0.034921943587908004, 0.05476395699012847, 0.020635693938309278, 0.011111527505243456, 0.8430113417294159, 0.022918713787516403, 0.3346132212977395, 0.08250736963505906, 0.10542608342257545, 0.009167485515006561, 0.03208619930252297, 0.3804506488727723, 0.03208619930252297, 0.10106651786477033, 0.08958168628922825, 0.039048427356843086, 0.578835511407321, 0.062018090507927254, 0.04364235998705992, 0.018375730520867335, 0.029860562096409415, 0.03675146104173467, 0.9015983107126585, 0.9157589984165669, 0.8733047771744892, 0.03257369291669921, 0.5320369843060871, 0.07329080906257322, 0.051575013784773756, 0.027144744097249342, 0.10586450197927244, 0.12486582284734699, 0.051575013784773756, 0.9123731652388115, 0.8910997971966125, 0.0524176351292125, 0.07570809418382875, 0.14771307506518763, 0.3719571583814195, 0.14359850472910998, 0.14524433286354102, 0.022218679814819307, 0.030859277520582373, 0.006171855504116475, 0.048551929965716265, 0.007406226604939769, 0.03509196739676878, 0.15031059368282626, 0.46321396963734784, 0.17896903372352077, 0.10586076831358582, 0.023394644931179185, 0.005848661232794796, 0.025149243301017626, 0.010527590219030634, 0.0005848661232794796, 0.9158856970731825, 0.11768998955879881, 0.8630599234311912, 0.004916722202919125, 0.5703397755386186, 0.004916722202919125, 0.3392538320014196, 0.07375083304378688, 0.061565614904270455, 0.27704526706921706, 0.061565614904270455, 0.030782807452135227, 0.5233077266862989, 0.030782807452135227, 0.010247506364616901, 0.020495012729233802, 0.010247506364616901, 0.1332175827400197, 0.8198005091693521, 0.16479619732627546, 0.027466032887712575, 0.1853957219920599, 0.03433254110964072, 0.5767866906419641, 0.006866508221928144, 0.9312809581054863, 0.3467377949918061, 0.1834591507893154, 0.16327864420249072, 0.10181982868807006, 0.06879718154599328, 0.025684281110504158, 0.010090253293412347, 0.08989498388676455, 0.004586478769732886, 0.005503774523679462, 0.08376735735878142, 0.8376735735878142, 0.8960373390572467, 0.3005668702953585, 0.018537163806762198, 0.08871356964664766, 0.0715004889689399, 0.1668344742608598, 0.14035281167977093, 0.026481662581088854, 0.02383349632297997, 0.12313973100206317, 0.03839841074257884, 0.05142854049971412, 0.01714284683323804, 0.27999983160955466, 0.6114282037188234, 0.039999975944222096, 0.17463044509737344, 0.6432221394419921, 0.0407471038560538, 0.12515181898645095, 0.014552537091447786, 0.002910507418289557, 0.8602763169379496, 0.11470350892505995, 0.9348437753445824, 0.9914161504917259, 0.21195298182367142, 0.7630307345652171, 0.14385774840408735, 0.8631464904245242, 0.13407269032403862, 0.5745972442458799, 0.014364931106146997, 0.004788310368715665, 0.04070063813408315, 0.12689022477096512, 0.059853879608945816, 0.04070063813408315, 0.08620487731388711, 0.02873495910462904, 0.8381029738850136, 0.043102438656943555, 0.9446266606474252, 0.03373666645169376, 0.99031167901735, 0.1607559000776434, 0.8037795003882171, 0.3675795725001304, 0.22203505968938514, 0.2783406011417172, 0.010623687066477757, 0.04249474826591103, 0.006374212239886655, 0.0053118435332388785, 0.054180804039036565, 0.0021247374132955517, 0.009561318359829981, 0.8830823761122281, 0.018565501565804842, 0.5569650469741453, 0.10675163400337784, 0.02784825234870726, 0.02320687695725605, 0.04177237852306089, 0.06497925548031694, 0.11139300939482905, 0.0464137539145121, 0.8683703399911303, 0.04038931813912234, 0.010097329534780585, 0.04038931813912234, 0.030291988604341756, 0.8702168878600391, 0.8985370491829106, 0.06141315357437211, 0.15353288393593026, 0.7062512661052792, 0.09211973036155816], \"Term\": [\"absolutely\", \"absolutely\", \"absolutely\", \"absolutely\", \"absolutely\", \"absolutely\", \"absolutely\", \"acces\", \"access\", \"access\", \"access\", \"access\", \"access\", \"access\", \"access\", \"access\", \"access\", \"access\", \"accesses\", \"added\", \"added\", \"added\", \"added\", \"added\", \"added\", \"added\", \"additional\", \"additional\", \"additional\", \"additional\", \"additional\", \"additional\", \"additional\", \"additional\", \"adjust\", \"adjusted\", \"adjusted\", \"adjusted\", \"advance\", \"adventurers\", \"adventurers\", \"adventurers\", \"adventurers\", \"advisor\", \"affordable\", \"affordable\", \"affordable\", \"affordable\", \"affordable\", \"affordable\", \"airbnb\", \"airbnb\", \"airbnb\", \"airbnb\", \"airbnb\", \"airbnb\", \"airbnb\", \"airbnb\", \"airbnb\", \"alberta\", \"alberta\", \"alberta\", \"alberta\", \"alberta\", \"alberta\", \"alberta\", \"alberta\", \"alberta\", \"alexa\", \"allergen\", \"alphabet\", \"ambiance\", \"ambiance\", \"ambiance\", \"ambiance\", \"ambiance\", \"amtrak\", \"amusement\", \"amusement\", \"answers\", \"apartment\", \"apartment\", \"apartment\", \"apartment\", \"apartment\", \"apartment\", \"apartment\", \"apartment\", \"apartment\", \"apartment\", \"apizza\", \"arboretum\", \"area\", \"area\", \"area\", \"area\", \"area\", \"area\", \"area\", \"area\", \"area\", \"area\", \"arriv\", \"artifacts\", \"artifacts\", \"artifacts\", \"arts\", \"arts\", \"arts\", \"arts\", \"arts\", \"arts\", \"arts\", \"arts\", \"asap\", \"assessed\", \"assist\", \"assist\", \"assist\", \"assist\", \"attributes\", \"autentica\", \"autentica\", \"authentically\", \"ava\", \"avail\", \"avail\", \"available\", \"available\", \"available\", \"available\", \"available\", \"available\", \"available\", \"available\", \"available\", \"available\", \"avenues\", \"awaiting\", \"away\", \"away\", \"away\", \"away\", \"away\", \"away\", \"away\", \"away\", \"away\", \"away\", \"backup\", \"backup\", \"baked\", \"bakery\", \"bakery\", \"bakery\", \"bakery\", \"bakery\", \"barbecue\", \"barbecue\", \"barbecue\", \"barn\", \"barn\", \"bars\", \"bars\", \"bars\", \"bars\", \"bars\", \"bars\", \"bars\", \"bars\", \"bars\", \"bars\", \"basement\", \"basement\", \"basement\", \"basement\", \"basement\", \"basement\", \"basement\", \"basement\", \"basement\", \"basement\", \"bath\", \"bath\", \"bath\", \"bath\", \"bath\", \"bath\", \"bath\", \"bath\", \"bath\", \"bathrobes\", \"bathroom\", \"bathroom\", \"bathroom\", \"bathroom\", \"bathroom\", \"bathroom\", \"bathroom\", \"bathroom\", \"bathroom\", \"bathroom\", \"batteries\", \"beams\", \"beams\", \"beautiful\", \"beautiful\", \"beautiful\", \"beautiful\", \"beautiful\", \"beautiful\", \"beautiful\", \"beautiful\", \"beautiful\", \"beautiful\", \"beautifully\", \"beautifully\", \"beautifully\", \"beautifully\", \"beautifully\", \"beautifully\", \"beautifully\", \"beautifully\", \"beautifully\", \"bed\", \"bed\", \"bed\", \"bed\", \"bed\", \"bed\", \"bed\", \"bed\", \"bed\", \"bed\", \"bedroom\", \"bedroom\", \"bedroom\", \"bedroom\", \"bedroom\", \"bedroom\", \"bedroom\", \"bedroom\", \"bedroom\", \"bedroom\", \"bedrooms\", \"bedrooms\", \"bedrooms\", \"bedrooms\", \"bedrooms\", \"bedrooms\", \"bedrooms\", \"bedrooms\", \"beds\", \"beds\", \"beds\", \"beds\", \"beds\", \"beds\", \"beds\", \"beds\", \"beds\", \"beds\", \"beings\", \"beit\", \"bellaterra\", \"belmont\", \"belmont\", \"belmont\", \"belmont\", \"belmont\", \"belmont\", \"belmont\", \"bike\", \"bike\", \"bike\", \"bike\", \"bike\", \"bike\", \"bike\", \"bike\", \"bike\", \"biwa\", \"blazing\", \"blended\", \"blocks\", \"blocks\", \"blocks\", \"blocks\", \"blocks\", \"blocks\", \"blocks\", \"blocks\", \"blocks\", \"blocks\", \"bluebird\", \"bohemian\", \"bohemian\", \"bohemian\", \"bohemian\", \"boil\", \"bon\", \"bosch\", \"bottled\", \"boxes\", \"brand\", \"brand\", \"brand\", \"brand\", \"brand\", \"brand\", \"brand\", \"brand\", \"brand\", \"brewery\", \"brewery\", \"brewery\", \"brewery\", \"brewery\", \"bridge\", \"bridge\", \"bridge\", \"bubble\", \"building\", \"building\", \"building\", \"building\", \"building\", \"building\", \"building\", \"building\", \"built\", \"built\", \"built\", \"built\", \"built\", \"built\", \"built\", \"built\", \"built\", \"built\", \"bungalow\", \"bungalow\", \"bungalow\", \"bungalow\", \"bungalow\", \"bungalow\", \"bungalow\", \"bungalow\", \"bungalow\", \"bunk\", \"bunk\", \"bunk\", \"burned\", \"bus\", \"bus\", \"bus\", \"bus\", \"bus\", \"bus\", \"bus\", \"bus\", \"bus\", \"business\", \"business\", \"business\", \"business\", \"business\", \"business\", \"business\", \"business\", \"business\", \"cabin\", \"cabin\", \"cabin\", \"cabin\", \"cabin\", \"cabin\", \"cable\", \"cable\", \"cable\", \"cable\", \"cable\", \"cable\", \"cable\", \"cable\", \"cable\", \"cabs\", \"california\", \"california\", \"california\", \"cap\", \"capacity\", \"capacity\", \"car\", \"car\", \"car\", \"car\", \"car\", \"car\", \"car\", \"car\", \"cares\", \"carpeted\", \"carpeted\", \"carpeting\", \"carriage\", \"carriage\", \"carved\", \"carved\", \"carved\", \"casper\", \"casper\", \"ceilings\", \"ceilings\", \"ceilings\", \"ceilings\", \"ceilings\", \"ceilings\", \"ceilings\", \"ceilings\", \"ceilings\", \"cemetery\", \"center\", \"center\", \"center\", \"center\", \"center\", \"center\", \"center\", \"center\", \"center\", \"center\", \"chair\", \"chair\", \"chair\", \"chair\", \"chair\", \"chair\", \"chair\", \"chair\", \"chaneels\", \"character\", \"character\", \"character\", \"character\", \"character\", \"charging\", \"charging\", \"charging\", \"charging\", \"charm\", \"charm\", \"charm\", \"charm\", \"charm\", \"charm\", \"charm\", \"charm\", \"charm\", \"cheese\", \"chris\", \"christian\", \"church\", \"church\", \"cinemax\", \"circles\", \"circular\", \"city\", \"city\", \"city\", \"city\", \"city\", \"city\", \"city\", \"city\", \"city\", \"city\", \"classy\", \"classy\", \"claw\", \"claw\", \"claw\", \"claw\", \"claw\", \"claw\", \"claw\", \"click\", \"click\", \"close\", \"close\", \"close\", \"close\", \"close\", \"close\", \"close\", \"close\", \"close\", \"close\", \"closet\", \"closet\", \"closet\", \"closet\", \"closet\", \"closet\", \"closet\", \"closet\", \"closet\", \"closet\", \"coffee\", \"coffee\", \"coffee\", \"coffee\", \"coffee\", \"coffee\", \"coffee\", \"coffee\", \"coffee\", \"coffee\", \"colony\", \"com\", \"combos\", \"come\", \"come\", \"come\", \"come\", \"come\", \"come\", \"come\", \"come\", \"come\", \"come\", \"comestibles\", \"comfortable\", \"comfortable\", \"comfortable\", \"comfortable\", \"comfortable\", \"comfortable\", \"comfortable\", \"comfortable\", \"comfortable\", \"comfortable\", \"common\", \"common\", \"common\", \"common\", \"common\", \"common\", \"common\", \"common\", \"commons\", \"community\", \"community\", \"community\", \"community\", \"community\", \"community\", \"community\", \"community\", \"community\", \"complaints\", \"complimentary\", \"complimentary\", \"complimentary\", \"complimentary\", \"complimentary\", \"composer\", \"concordia\", \"concordia\", \"concordia\", \"concordia\", \"concordia\", \"concordia\", \"concordia\", \"condo\", \"condo\", \"condo\", \"condo\", \"condos\", \"consisting\", \"consisting\", \"consisting\", \"consisting\", \"controls\", \"controls\", \"convene\", \"conveniences\", \"conveniences\", \"conveniences\", \"conveniences\", \"conveniences\", \"conveniences\", \"cooktop\", \"cooktop\", \"cooktop\", \"cooktop\", \"corridor\", \"corridor\", \"corridor\", \"corridor\", \"corridors\", \"cottage\", \"cottage\", \"cottage\", \"cottage\", \"cottage\", \"cottage\", \"cottage\", \"cottage\", \"cottage\", \"cottage\", \"couch\", \"couch\", \"couch\", \"couch\", \"couch\", \"couch\", \"couch\", \"couch\", \"couch\", \"council\", \"countertops\", \"countertops\", \"countertops\", \"countryside\", \"couples\", \"couples\", \"couples\", \"couples\", \"couples\", \"couples\", \"couples\", \"couples\", \"courthouse\", \"courthouse\", \"courts\", \"courts\", \"coziness\", \"coziness\", \"cozy\", \"cozy\", \"cozy\", \"cozy\", \"cozy\", \"cozy\", \"cozy\", \"cozy\", \"cozy\", \"cozy\", \"craft\", \"craft\", \"craft\", \"craft\", \"craft\", \"craft\", \"craft\", \"craftsman\", \"craftsman\", \"craftsman\", \"craftsman\", \"craftsman\", \"craftsman\", \"craftsman\", \"craftsman\", \"craftspeople\", \"creaks\", \"create\", \"create\", \"create\", \"create\", \"create\", \"create\", \"create\", \"create\", \"create\", \"creation\", \"creator\", \"creek\", \"creek\", \"creek\", \"crema\", \"crest\", \"crest\", \"crossing\", \"crossing\", \"crown\", \"crown\", \"cuddling\", \"cups\", \"cups\", \"cups\", \"curfew\", \"dame\", \"dani\", \"darker\", \"dating\", \"days\", \"days\", \"days\", \"days\", \"days\", \"days\", \"days\", \"days\", \"days\", \"deeply\", \"delicatessen\", \"deserves\", \"desk\", \"desk\", \"desk\", \"desk\", \"desk\", \"desk\", \"desk\", \"desk\", \"desk\", \"dining\", \"dining\", \"dining\", \"dining\", \"dining\", \"dining\", \"dining\", \"dining\", \"dining\", \"director\", \"director\", \"dishes\", \"dishes\", \"dishes\", \"dishes\", \"dishes\", \"dishes\", \"dishes\", \"distance\", \"distance\", \"distance\", \"distance\", \"distance\", \"distance\", \"distance\", \"distance\", \"distance\", \"distance\", \"distilleries\", \"distilleries\", \"distilleries\", \"district\", \"district\", \"district\", \"district\", \"district\", \"district\", \"district\", \"district\", \"district\", \"district\", \"division\", \"division\", \"division\", \"division\", \"division\", \"division\", \"division\", \"doilies\", \"double\", \"double\", \"double\", \"double\", \"double\", \"double\", \"double\", \"double\", \"double\", \"double\", \"downtown\", \"downtown\", \"downtown\", \"downtown\", \"downtown\", \"downtown\", \"downtown\", \"downtown\", \"downtown\", \"downtown\", \"dreamer\", \"dressed\", \"dresser\", \"dresser\", \"dresser\", \"dresser\", \"dresser\", \"dresser\", \"drive\", \"drive\", \"drive\", \"drive\", \"drive\", \"drive\", \"drive\", \"drive\", \"drive\", \"dryer\", \"dryer\", \"dryer\", \"dryer\", \"dryer\", \"dryer\", \"dryer\", \"dryer\", \"dryer\", \"dryer\", \"duplex\", \"duplex\", \"duplex\", \"duplex\", \"duplex\", \"duplex\", \"duplex\", \"dvds\", \"dvds\", \"dwan\", \"easy\", \"easy\", \"easy\", \"easy\", \"easy\", \"easy\", \"easy\", \"easy\", \"easy\", \"easy\", \"echo\", \"electric\", \"electric\", \"electric\", \"electric\", \"electric\", \"electric\", \"electric\", \"elements\", \"elements\", \"elephants\", \"elevator\", \"elevator\", \"eliot\", \"email\", \"email\", \"email\", \"email\", \"email\", \"embracing\", \"emergencies\", \"enjoy\", \"enjoy\", \"enjoy\", \"enjoy\", \"enjoy\", \"enjoy\", \"enjoy\", \"enjoy\", \"enjoy\", \"enjoy\", \"entirety\", \"entrance\", \"entrance\", \"entrance\", \"entrance\", \"entrance\", \"entrance\", \"entrance\", \"entrance\", \"entrance\", \"envision\", \"envision\", \"episode\", \"equal\", \"equal\", \"equipped\", \"equipped\", \"equipped\", \"equipped\", \"equipped\", \"equipped\", \"equipped\", \"equipped\", \"equipped\", \"eurovan\", \"evermore\", \"excess\", \"expatriate\", \"expatriate\", \"expatriate\", \"experience\", \"experience\", \"experience\", \"experience\", \"experience\", \"experience\", \"experience\", \"experience\", \"experience\", \"exposed\", \"exposed\", \"exposed\", \"exposed\", \"exposed\", \"extra\", \"extra\", \"extra\", \"extra\", \"extra\", \"extra\", \"extra\", \"extra\", \"eyes\", \"facilities\", \"facilities\", \"facilities\", \"facilities\", \"facilities\", \"facilities\", \"facilities\", \"facilities\", \"failing\", \"farm\", \"farm\", \"farm\", \"farm\", \"farm\", \"farming\", \"fascinating\", \"fashionable\", \"feast\", \"feast\", \"features\", \"features\", \"features\", \"features\", \"features\", \"features\", \"features\", \"features\", \"features\", \"features\", \"fee\", \"fee\", \"fee\", \"fee\", \"fee\", \"fee\", \"feed\", \"festival\", \"festival\", \"filbert\", \"filled\", \"filled\", \"filled\", \"filled\", \"filled\", \"filled\", \"filled\", \"filled\", \"filled\", \"filmed\", \"fitness\", \"fitness\", \"fixing\", \"flashlight\", \"flat\", \"flat\", \"flat\", \"flat\", \"flat\", \"flat\", \"flat\", \"flat\", \"flat\", \"flatware\", \"flatware\", \"flatware\", \"floor\", \"floor\", \"floor\", \"floor\", \"floor\", \"floor\", \"floor\", \"floor\", \"floor\", \"floor\", \"floors\", \"floors\", \"floors\", \"floors\", \"floors\", \"floors\", \"floors\", \"floors\", \"floors\", \"floors\", \"foam\", \"foam\", \"foam\", \"foam\", \"foam\", \"foam\", \"foam\", \"folded\", \"food\", \"food\", \"food\", \"food\", \"food\", \"food\", \"food\", \"food\", \"food\", \"food\", \"forest\", \"forest\", \"forest\", \"forest\", \"forest\", \"forest\", \"fred\", \"fred\", \"fred\", \"freddie\", \"free\", \"free\", \"free\", \"free\", \"free\", \"free\", \"free\", \"free\", \"free\", \"free\", \"freezer\", \"freezer\", \"freezer\", \"freezer\", \"freezer\", \"frere\", \"fridge\", \"fridge\", \"fridge\", \"fridge\", \"fridge\", \"fridge\", \"fridge\", \"fridge\", \"friendly\", \"friendly\", \"friendly\", \"friendly\", \"friendly\", \"friendly\", \"friendly\", \"friendly\", \"friendly\", \"friendly\", \"fully\", \"fully\", \"fully\", \"fully\", \"fully\", \"fully\", \"fully\", \"fully\", \"fully\", \"furry\", \"furry\", \"furry\", \"futon\", \"futon\", \"futon\", \"futon\", \"futon\", \"futon\", \"futon\", \"futon\", \"futons\", \"futons\", \"futons\", \"galvanized\", \"gaming\", \"gazebo\", \"gazebo\", \"genders\", \"genders\", \"gene\", \"genes\", \"gigabit\", \"gladstone\", \"global\", \"good\", \"good\", \"good\", \"good\", \"good\", \"good\", \"good\", \"good\", \"good\", \"granola\", \"granola\", \"granola\", \"great\", \"great\", \"great\", \"great\", \"great\", \"great\", \"great\", \"great\", \"great\", \"great\", \"grilling\", \"grills\", \"grocer\", \"grocery\", \"grocery\", \"grocery\", \"grocery\", \"grocery\", \"grocery\", \"grocery\", \"grocery\", \"grocery\", \"guest\", \"guest\", \"guest\", \"guest\", \"guest\", \"guest\", \"guest\", \"guest\", \"guest\", \"guests\", \"guests\", \"guests\", \"guests\", \"guests\", \"guests\", \"guests\", \"guests\", \"guests\", \"guests\", \"guided\", \"hafner\", \"hair\", \"hair\", \"hair\", \"hair\", \"hair\", \"hair\", \"hair\", \"handcrafted\", \"handcrafted\", \"handcrafted\", \"handcrafted\", \"haus\", \"haus\", \"haus\", \"hawthorne\", \"hawthorne\", \"hawthorne\", \"hawthorne\", \"hawthorne\", \"hawthorne\", \"hawthorne\", \"hawthorne\", \"hbo\", \"hbo\", \"hbo\", \"hbo\", \"hbo\", \"heart\", \"heart\", \"heart\", \"heart\", \"heart\", \"heart\", \"heart\", \"heart\", \"heart\", \"heart\", \"heats\", \"heats\", \"heavenly\", \"heavenly\", \"heights\", \"heights\", \"hidden\", \"hidden\", \"hidden\", \"hidden\", \"hidden\", \"hidden\", \"hidden\", \"hidden\", \"hidden\", \"high\", \"high\", \"high\", \"high\", \"high\", \"high\", \"high\", \"high\", \"high\", \"high\", \"hiking\", \"hiking\", \"hiking\", \"hiking\", \"hiking\", \"hill\", \"hill\", \"hill\", \"hill\", \"hill\", \"hills\", \"hills\", \"hills\", \"hills\", \"hills\", \"hills\", \"hippie\", \"hippie\", \"hoa\", \"holistic\", \"hollow\", \"home\", \"home\", \"home\", \"home\", \"home\", \"home\", \"home\", \"home\", \"home\", \"home\", \"hospitality\", \"hospitality\", \"hospitality\", \"hospitality\", \"hospitality\", \"hostel\", \"hostel\", \"hostel\", \"hostel\", \"hot\", \"hot\", \"hot\", \"hot\", \"hot\", \"hot\", \"hot\", \"hot\", \"hot\", \"hot\", \"hotel\", \"hotel\", \"hotel\", \"hotel\", \"hotel\", \"hotel\", \"hotel\", \"hotel\", \"hotel\", \"hotplate\", \"house\", \"house\", \"house\", \"house\", \"house\", \"house\", \"house\", \"house\", \"house\", \"house\", \"houseTM\", \"https\", \"huh\", \"indonesia\", \"induction\", \"induction\", \"induction\", \"induction\", \"induction\", \"induction\", \"inn\", \"inn\", \"inn\", \"insurance\", \"intentionally\", \"interiors\", \"interiors\", \"interiors\", \"internet\", \"internet\", \"internet\", \"internet\", \"internet\", \"internet\", \"internet\", \"internet\", \"iron\", \"iron\", \"iron\", \"iron\", \"iron\", \"izakaya\", \"jammer\", \"joke\", \"jump\", \"jump\", \"jumping\", \"jumping\", \"jumping\", \"jungalow\", \"just\", \"just\", \"just\", \"just\", \"just\", \"just\", \"just\", \"just\", \"just\", \"just\", \"katy\", \"kettle\", \"kettle\", \"kettle\", \"kettle\", \"keurig\", \"keurig\", \"keurig\", \"keurig\", \"king\", \"king\", \"king\", \"king\", \"king\", \"king\", \"king\", \"king\", \"kitchen\", \"kitchen\", \"kitchen\", \"kitchen\", \"kitchen\", \"kitchen\", \"kitchen\", \"kitchen\", \"kitchen\", \"kitchen\", \"kitchenette\", \"kitchenette\", \"kitchenette\", \"kitchenette\", \"kitchenette\", \"kitchenette\", \"kitchenette\", \"kitchenette\", \"kitchens\", \"kitchens\", \"ladd\", \"ladd\", \"ladd\", \"lady\", \"laid\", \"laid\", \"laid\", \"laid\", \"laid\", \"laid\", \"landing\", \"landing\", \"landing\", \"landing\", \"landing\", \"large\", \"large\", \"large\", \"large\", \"large\", \"large\", \"large\", \"large\", \"large\", \"large\", \"latex\", \"latex\", \"latex\", \"latin\", \"laughing\", \"laundry\", \"laundry\", \"laundry\", \"laundry\", \"laundry\", \"laundry\", \"laundry\", \"laundry\", \"laundry\", \"led\", \"led\", \"led\", \"led\", \"led\", \"light\", \"light\", \"light\", \"light\", \"light\", \"light\", \"light\", \"light\", \"light\", \"light\", \"lights\", \"lights\", \"lights\", \"lights\", \"lights\", \"lights\", \"like\", \"like\", \"like\", \"like\", \"like\", \"like\", \"like\", \"like\", \"like\", \"like\", \"lily\", \"line\", \"line\", \"line\", \"line\", \"line\", \"line\", \"line\", \"line\", \"line\", \"lined\", \"lined\", \"lined\", \"lined\", \"lined\", \"linens\", \"linens\", \"linens\", \"linens\", \"linens\", \"linens\", \"linens\", \"linens\", \"linens\", \"lines\", \"lines\", \"lines\", \"lines\", \"lines\", \"lines\", \"lines\", \"lines\", \"lite\", \"livable\", \"living\", \"living\", \"living\", \"living\", \"living\", \"living\", \"living\", \"living\", \"living\", \"living\", \"lobby\", \"lobby\", \"lobby\", \"loc\", \"local\", \"local\", \"local\", \"local\", \"local\", \"local\", \"local\", \"local\", \"local\", \"local\", \"locally\", \"locally\", \"locally\", \"locally\", \"locally\", \"located\", \"located\", \"located\", \"located\", \"located\", \"located\", \"located\", \"located\", \"located\", \"located\", \"location\", \"location\", \"location\", \"location\", \"location\", \"location\", \"location\", \"location\", \"location\", \"location\", \"locking\", \"log\", \"log\", \"lotion\", \"lotion\", \"lotion\", \"love\", \"love\", \"love\", \"love\", \"love\", \"love\", \"love\", \"love\", \"love\", \"love\", \"loyal\", \"magic\", \"magic\", \"main\", \"main\", \"main\", \"main\", \"main\", \"main\", \"main\", \"main\", \"main\", \"main\", \"make\", \"make\", \"make\", \"make\", \"make\", \"make\", \"make\", \"make\", \"make\", \"make\", \"maker\", \"maker\", \"maker\", \"maker\", \"maker\", \"marijuana\", \"marijuana\", \"market\", \"market\", \"market\", \"market\", \"market\", \"market\", \"market\", \"marquam\", \"masterpieces\", \"mattress\", \"mattress\", \"mattress\", \"mattress\", \"mattress\", \"mattress\", \"mattress\", \"mattress\", \"mattress\", \"max\", \"max\", \"max\", \"max\", \"max\", \"max\", \"max\", \"max\", \"max\", \"mccall\", \"medium\", \"medium\", \"memory\", \"memory\", \"memory\", \"memory\", \"memory\", \"memory\", \"memory\", \"messaging\", \"messaging\", \"messaging\", \"methods\", \"mexican\", \"mexican\", \"meyer\", \"meyers\", \"microfiber\", \"microwave\", \"microwave\", \"microwave\", \"microwave\", \"microwave\", \"microwave\", \"midnight\", \"mimi\", \"mimosas\", \"mini\", \"mini\", \"mini\", \"mini\", \"mini\", \"mini\", \"minute\", \"minute\", \"minute\", \"minute\", \"minute\", \"minute\", \"minute\", \"minute\", \"minute\", \"minutes\", \"minutes\", \"minutes\", \"minutes\", \"minutes\", \"minutes\", \"minutes\", \"minutes\", \"minutes\", \"minutes\", \"mississippi\", \"mississippi\", \"mississippi\", \"mississippi\", \"mississippi\", \"mississippi\", \"mobility\", \"modem\", \"modern\", \"modern\", \"modern\", \"modern\", \"modern\", \"modern\", \"modern\", \"modern\", \"modern\", \"molding\", \"mts\", \"multiplex\", \"multnomah\", \"multnomah\", \"multnomah\", \"multnomah\", \"multnomah\", \"mural\", \"museum\", \"museum\", \"museum\", \"museums\", \"navarre\", \"need\", \"need\", \"need\", \"need\", \"need\", \"need\", \"need\", \"need\", \"need\", \"need\", \"neighborhood\", \"neighborhood\", \"neighborhood\", \"neighborhood\", \"neighborhood\", \"neighborhood\", \"neighborhood\", \"neighborhood\", \"neighborhood\", \"neighborhood\", \"net\", \"netflix\", \"netflix\", \"netflix\", \"netflix\", \"netflix\", \"netflix\", \"netflix\", \"new\", \"new\", \"new\", \"new\", \"new\", \"new\", \"new\", \"new\", \"new\", \"new\", \"newly\", \"newly\", \"newly\", \"newly\", \"newly\", \"newly\", \"newly\", \"newly\", \"newly\", \"newspapers\", \"nike\", \"nike\", \"nike\", \"nike\", \"nob\", \"nod\", \"nonna\", \"nudes\", \"number\", \"number\", \"number\", \"number\", \"number\", \"number\", \"number\", \"number\", \"numbers\", \"occupancy\", \"offer\", \"offer\", \"offer\", \"offer\", \"offer\", \"offer\", \"offer\", \"offer\", \"offer\", \"ohsu\", \"ohsu\", \"ohsu\", \"ohsu\", \"ohsu\", \"ohsu\", \"old\", \"old\", \"old\", \"old\", \"old\", \"old\", \"old\", \"old\", \"old\", \"old\", \"opal\", \"open\", \"open\", \"open\", \"open\", \"open\", \"open\", \"open\", \"open\", \"open\", \"open\", \"ordinary\", \"original\", \"original\", \"original\", \"original\", \"original\", \"original\", \"original\", \"outer\", \"outing\", \"oven\", \"oven\", \"oven\", \"oven\", \"oven\", \"oven\", \"overlooked\", \"overton\", \"packs\", \"painted\", \"painted\", \"painted\", \"painted\", \"painted\", \"pan\", \"panel\", \"panel\", \"paper\", \"paper\", \"paper\", \"park\", \"park\", \"park\", \"park\", \"park\", \"park\", \"park\", \"park\", \"parking\", \"parking\", \"parking\", \"parking\", \"parking\", \"parking\", \"parking\", \"parking\", \"passionate\", \"passionate\", \"patter\", \"pearl\", \"pearl\", \"pearl\", \"pearl\", \"pearl\", \"peninsula\", \"peninsula\", \"peoples\", \"perfect\", \"perfect\", \"perfect\", \"perfect\", \"perfect\", \"perfect\", \"perfect\", \"perfect\", \"perfect\", \"perfect\", \"phone\", \"phone\", \"phone\", \"phone\", \"phone\", \"phone\", \"phone\", \"phone\", \"ping\", \"ping\", \"ping\", \"pioneer\", \"pioneer\", \"pioneer\", \"pioneer\", \"pip\", \"piping\", \"pizza\", \"pizza\", \"pizza\", \"pizza\", \"pizza\", \"place\", \"place\", \"place\", \"place\", \"place\", \"place\", \"place\", \"place\", \"place\", \"place\", \"plate\", \"plate\", \"plate\", \"plums\", \"podnah\", \"poet\", \"poet\", \"pok\", \"pok\", \"pong\", \"pong\", \"pong\", \"popping\", \"porch\", \"porch\", \"porch\", \"porch\", \"porch\", \"porch\", \"porch\", \"portland\", \"portland\", \"portland\", \"portland\", \"portland\", \"portland\", \"portland\", \"portland\", \"portland\", \"portland\", \"ports\", \"pot\", \"pot\", \"pot\", \"pot\", \"pot\", \"pottery\", \"pour\", \"practical\", \"practical\", \"practical\", \"practical\", \"press\", \"press\", \"press\", \"press\", \"press\", \"press\", \"private\", \"private\", \"private\", \"private\", \"private\", \"private\", \"private\", \"private\", \"private\", \"private\", \"prohibition\", \"promises\", \"property\", \"property\", \"property\", \"property\", \"property\", \"property\", \"property\", \"property\", \"property\", \"property\", \"provided\", \"provided\", \"provided\", \"provided\", \"provided\", \"provided\", \"provided\", \"provided\", \"providence\", \"providence\", \"providence\", \"psu\", \"psu\", \"quality\", \"quality\", \"quality\", \"quality\", \"quality\", \"quality\", \"quality\", \"quality\", \"queen\", \"queen\", \"queen\", \"queen\", \"queen\", \"queen\", \"queen\", \"queen\", \"queen\", \"questions\", \"questions\", \"questions\", \"questions\", \"questions\", \"questions\", \"questions\", \"questions\", \"questions\", \"quiet\", \"quiet\", \"quiet\", \"quiet\", \"quiet\", \"quiet\", \"quiet\", \"quiet\", \"quiet\", \"quiet\", \"quirky\", \"quirky\", \"quirky\", \"quirky\", \"quirky\", \"quirky\", \"rainhead\", \"ramen\", \"received\", \"received\", \"reception\", \"reception\", \"reclaimed\", \"reclaimed\", \"reclaimed\", \"reclaimed\", \"reclaimed\", \"recommending\", \"records\", \"records\", \"records\", \"redid\", \"reed\", \"reed\", \"reed\", \"reed\", \"reed\", \"refrigerator\", \"refrigerator\", \"refrigerator\", \"refrigerator\", \"refrigerator\", \"refrigerator\", \"refrigerator\", \"regular\", \"regular\", \"regular\", \"regular\", \"regular\", \"regular\", \"regular\", \"renovating\", \"rescue\", \"responsibly\", \"restaurants\", \"restaurants\", \"restaurants\", \"restaurants\", \"restaurants\", \"restaurants\", \"restaurants\", \"restaurants\", \"restaurants\", \"restaurants\", \"retaining\", \"retains\", \"rhododendron\", \"right\", \"right\", \"right\", \"right\", \"right\", \"right\", \"right\", \"right\", \"right\", \"right\", \"river\", \"river\", \"river\", \"river\", \"river\", \"river\", \"robert\", \"rogue\", \"roku\", \"roku\", \"roku\", \"roku\", \"roku\", \"roku\", \"roku\", \"rollaway\", \"room\", \"room\", \"room\", \"room\", \"room\", \"room\", \"room\", \"room\", \"room\", \"room\", \"rooms\", \"rooms\", \"rooms\", \"rooms\", \"rooms\", \"rooms\", \"rooms\", \"rooms\", \"rooms\", \"rooms\", \"rooted\", \"rose\", \"rose\", \"rose\", \"rose\", \"rose\", \"rose\", \"rose\", \"rose\", \"rosebud\", \"rusted\", \"sailors\", \"salad\", \"sand\", \"sane\", \"sausage\", \"scandinavian\", \"scandinavian\", \"scholls\", \"sciences\", \"screen\", \"screen\", \"screen\", \"screen\", \"screen\", \"screen\", \"screen\", \"screen\", \"screen\", \"sculpture\", \"seasons\", \"seasons\", \"seasons\", \"seasons\", \"sector\", \"selected\", \"selected\", \"selected\", \"sent\", \"separate\", \"separate\", \"separate\", \"separate\", \"separate\", \"separate\", \"separate\", \"separate\", \"separate\", \"separately\", \"separately\", \"separately\", \"service\", \"service\", \"service\", \"service\", \"service\", \"service\", \"service\", \"service\", \"shampoo\", \"shampoo\", \"shampoo\", \"shampoo\", \"shared\", \"shared\", \"shared\", \"shared\", \"shared\", \"shared\", \"shared\", \"shared\", \"shared\", \"shirt\", \"shlomo\", \"shops\", \"shops\", \"shops\", \"shops\", \"shops\", \"shops\", \"shops\", \"shops\", \"shops\", \"shops\", \"shou\", \"shower\", \"shower\", \"shower\", \"shower\", \"shower\", \"shower\", \"shower\", \"shower\", \"shower\", \"shower\", \"signature\", \"sixth\", \"size\", \"size\", \"size\", \"size\", \"size\", \"size\", \"size\", \"size\", \"size\", \"skyline\", \"sleep\", \"sleep\", \"sleep\", \"sleep\", \"sleep\", \"sleep\", \"sleep\", \"sleep\", \"sleep\", \"smack\", \"smack\", \"small\", \"small\", \"small\", \"small\", \"small\", \"small\", \"small\", \"small\", \"small\", \"small\", \"sms\", \"snacks\", \"snacks\", \"snacks\", \"soap\", \"soap\", \"soap\", \"soap\", \"soap\", \"society\", \"society\", \"society\", \"sofa\", \"sofa\", \"sofa\", \"sofa\", \"sofa\", \"sofa\", \"sofa\", \"sofa\", \"solo\", \"solo\", \"solo\", \"solo\", \"solo\", \"solo\", \"solo\", \"soothing\", \"soothing\", \"soothing\", \"soothing\", \"sos\", \"sourced\", \"sourced\", \"space\", \"space\", \"space\", \"space\", \"space\", \"space\", \"space\", \"space\", \"space\", \"space\", \"spacious\", \"spacious\", \"spacious\", \"spacious\", \"spacious\", \"spacious\", \"spacious\", \"spacious\", \"spacious\", \"speed\", \"speed\", \"speed\", \"speed\", \"speed\", \"speed\", \"speed\", \"square\", \"square\", \"square\", \"square\", \"square\", \"square\", \"square\", \"square\", \"staff\", \"staff\", \"staff\", \"standing\", \"standing\", \"standing\", \"standing\", \"stars\", \"stars\", \"stars\", \"starter\", \"state\", \"state\", \"state\", \"state\", \"state\", \"state\", \"state\", \"stateroom\", \"stay\", \"stay\", \"stay\", \"stay\", \"stay\", \"stay\", \"stay\", \"stay\", \"stay\", \"stay\", \"stearns\", \"stop\", \"stop\", \"stop\", \"stop\", \"stop\", \"stop\", \"stop\", \"stop\", \"store\", \"store\", \"store\", \"store\", \"store\", \"store\", \"store\", \"store\", \"store\", \"stores\", \"stores\", \"stores\", \"stores\", \"stores\", \"stores\", \"stores\", \"stores\", \"stores\", \"straw\", \"straw\", \"straw\", \"straw\", \"straw\", \"street\", \"street\", \"street\", \"street\", \"street\", \"street\", \"street\", \"street\", \"street\", \"street\", \"streetcar\", \"streetcar\", \"streetcar\", \"streetcar\", \"streetcar\", \"streetcar\", \"stressful\", \"stucco\", \"studio\", \"studio\", \"studio\", \"studio\", \"studio\", \"studio\", \"studio\", \"studio\", \"studio\", \"sugi\", \"suite\", \"suite\", \"suite\", \"suite\", \"suite\", \"suite\", \"suite\", \"suite\", \"suite\", \"surprises\", \"surprises\", \"surveillance\", \"sushi\", \"sushi\", \"sushi\", \"sushi\", \"sushi\", \"syrup\", \"table\", \"table\", \"table\", \"table\", \"table\", \"table\", \"table\", \"table\", \"table\", \"tabor\", \"tabor\", \"tabor\", \"tabor\", \"tabor\", \"tabor\", \"tabor\", \"tastefully\", \"tastefully\", \"tastefully\", \"tastefully\", \"tastefully\", \"tastefully\", \"tastefully\", \"tea\", \"tea\", \"tea\", \"tea\", \"tea\", \"tea\", \"tea\", \"tea\", \"tennis\", \"tennis\", \"tent\", \"tent\", \"tent\", \"text\", \"text\", \"text\", \"text\", \"text\", \"text\", \"text\", \"text\", \"thanks\", \"thanks\", \"thanks\", \"thanks\", \"thanks\", \"therapists\", \"thought\", \"thought\", \"thought\", \"thought\", \"thurman\", \"thursday\", \"thursday\", \"timbers\", \"tiny\", \"tiny\", \"tiny\", \"tiny\", \"tiny\", \"tiny\", \"tiny\", \"titled\", \"toaster\", \"toaster\", \"toaster\", \"toaster\", \"toaster\", \"toaster\", \"todji\", \"tom\", \"topper\", \"topper\", \"topper\", \"topper\", \"trails\", \"trails\", \"trails\", \"trails\", \"trails\", \"trails\", \"travelers\", \"travelers\", \"travelers\", \"travelers\", \"travelers\", \"travelers\", \"travelers\", \"travelers\", \"travelers\", \"triple\", \"triple\", \"triple\", \"triplex\", \"trunk\", \"tub\", \"tub\", \"tub\", \"tub\", \"tub\", \"tub\", \"tub\", \"tub\", \"tub\", \"tub\", \"turret\", \"turret\", \"tvs\", \"tvs\", \"twin\", \"twin\", \"twin\", \"twin\", \"twin\", \"twin\", \"twin\", \"twin\", \"twin\", \"ultra\", \"ultra\", \"ultra\", \"ultra\", \"ultra\", \"ultra\", \"unbeatable\", \"understandable\", \"unique\", \"unique\", \"unique\", \"unique\", \"unique\", \"unique\", \"unique\", \"unique\", \"unique\", \"unique\", \"unit\", \"unit\", \"unit\", \"unit\", \"unit\", \"unit\", \"unit\", \"unit\", \"unit\", \"univ\", \"university\", \"university\", \"university\", \"university\", \"university\", \"university\", \"university\", \"unlike\", \"unlike\", \"unlike\", \"unlike\", \"unpack\", \"unparalleled\", \"unparalleled\", \"uofp\", \"updates\", \"updates\", \"updates\", \"upgrades\", \"upgrades\", \"upgrades\", \"upholstered\", \"upstairs\", \"upstairs\", \"upstairs\", \"upstairs\", \"upstairs\", \"upstairs\", \"upstairs\", \"upstairs\", \"upstairs\", \"use\", \"use\", \"use\", \"use\", \"use\", \"use\", \"use\", \"use\", \"use\", \"use\", \"vent\", \"victorian\", \"victorian\", \"victorian\", \"victorian\", \"victorian\", \"victorian\", \"victorian\", \"victorian\", \"views\", \"views\", \"views\", \"views\", \"views\", \"views\", \"views\", \"views\", \"views\", \"viking\", \"villa\", \"vines\", \"vintage\", \"vintage\", \"vintage\", \"vintage\", \"vintage\", \"vintage\", \"vintage\", \"vintage\", \"wainscoting\", \"walgreens\", \"walgreens\", \"walk\", \"walk\", \"walk\", \"walk\", \"walk\", \"walk\", \"walk\", \"walk\", \"walk\", \"walk\", \"walking\", \"walking\", \"walking\", \"walking\", \"walking\", \"walking\", \"walking\", \"walking\", \"walking\", \"walking\", \"warehouse\", \"washington\", \"washington\", \"waterfront\", \"waterfront\", \"waterfront\", \"waterfront\", \"waterfront\", \"ways\", \"ways\", \"ways\", \"ways\", \"ways\", \"ways\", \"website\", \"website\", \"website\", \"website\", \"website\", \"week\", \"week\", \"week\", \"week\", \"week\", \"week\", \"wei\", \"welcome\", \"welcome\", \"welcome\", \"welcome\", \"welcome\", \"welcome\", \"welcome\", \"welcome\", \"welcome\", \"welcome\", \"westin\", \"westin\", \"whiskey\", \"wifi\", \"wifi\", \"wifi\", \"wifi\", \"wifi\", \"wifi\", \"wifi\", \"wifi\", \"wifi\", \"wifi\", \"willamette\", \"willamette\", \"willamette\", \"willamette\", \"willamette\", \"williams\", \"williams\", \"williams\", \"williams\", \"williams\", \"williams\", \"wilshire\", \"wilshire\", \"wink\", \"wired\", \"wit\", \"wit\", \"wonders\", \"wonders\", \"wood\", \"wood\", \"wood\", \"wood\", \"wood\", \"wood\", \"wood\", \"wood\", \"woodstock\", \"woodstock\", \"woodstock\", \"woodstock\", \"woodwork\", \"woodwork\", \"www\", \"yakuza\", \"yakuza\", \"yard\", \"yard\", \"yard\", \"yard\", \"yard\", \"yard\", \"yard\", \"yard\", \"yard\", \"yard\", \"yeah\", \"years\", \"years\", \"years\", \"years\", \"years\", \"years\", \"years\", \"years\", \"years\", \"yellow\", \"yellow\", \"yellow\", \"yellow\", \"yellow\", \"yelp\", \"yurt\", \"zen\", \"zen\", \"zen\", \"zen\"]}, \"R\": 30, \"lambda.step\": 0.01, \"plot.opts\": {\"xlab\": \"PC1\", \"ylab\": \"PC2\"}, \"topic.order\": [6, 2, 1, 7, 10, 4, 8, 5, 3, 9]};\n",
       "\n",
       "function LDAvis_load_lib(url, callback){\n",
       "  var s = document.createElement('script');\n",
       "  s.src = url;\n",
       "  s.async = true;\n",
       "  s.onreadystatechange = s.onload = callback;\n",
       "  s.onerror = function(){console.warn(\"failed to load library \" + url);};\n",
       "  document.getElementsByTagName(\"head\")[0].appendChild(s);\n",
       "}\n",
       "\n",
       "if(typeof(LDAvis) !== \"undefined\"){\n",
       "   // already loaded: just create the visualization\n",
       "   !function(LDAvis){\n",
       "       new LDAvis(\"#\" + \"ldavis_el49841122573209043636537468\", ldavis_el49841122573209043636537468_data);\n",
       "   }(LDAvis);\n",
       "}else if(typeof define === \"function\" && define.amd){\n",
       "   // require.js is available: use it to load d3/LDAvis\n",
       "   require.config({paths: {d3: \"https://cdnjs.cloudflare.com/ajax/libs/d3/3.5.5/d3.min\"}});\n",
       "   require([\"d3\"], function(d3){\n",
       "      window.d3 = d3;\n",
       "      LDAvis_load_lib(\"https://cdn.rawgit.com/bmabey/pyLDAvis/files/ldavis.v1.0.0.js\", function(){\n",
       "        new LDAvis(\"#\" + \"ldavis_el49841122573209043636537468\", ldavis_el49841122573209043636537468_data);\n",
       "      });\n",
       "    });\n",
       "}else{\n",
       "    // require.js not available: dynamically load d3 & LDAvis\n",
       "    LDAvis_load_lib(\"https://cdnjs.cloudflare.com/ajax/libs/d3/3.5.5/d3.min.js\", function(){\n",
       "         LDAvis_load_lib(\"https://cdn.rawgit.com/bmabey/pyLDAvis/files/ldavis.v1.0.0.js\", function(){\n",
       "                 new LDAvis(\"#\" + \"ldavis_el49841122573209043636537468\", ldavis_el49841122573209043636537468_data);\n",
       "            })\n",
       "         });\n",
       "}\n",
       "</script>"
      ],
      "text/plain": [
       "PreparedData(topic_coordinates=              x         y  topics  cluster       Freq\n",
       "topic                                                \n",
       "5      0.069935  0.017552       1        1  24.356309\n",
       "1      0.039434  0.069310       2        1  17.605827\n",
       "0     -0.084185  0.154308       3        1  17.480405\n",
       "6     -0.067826  0.070179       4        1  11.803181\n",
       "9      0.036567  0.047240       5        1   9.663327\n",
       "3      0.060626 -0.063598       6        1   6.518400\n",
       "7      0.093458 -0.041467       7        1   4.518141\n",
       "4     -0.000710  0.001390       8        1   3.071818\n",
       "2     -0.252597 -0.130306       9        1   2.701773\n",
       "8      0.105296 -0.124607      10        1   2.280819, topic_info=      Category         Freq         Term        Total  loglift  logprob\n",
       "term                                                                   \n",
       "9958   Default  5656.000000         room  5656.000000  30.0000  30.0000\n",
       "486    Default  2556.000000    apartment  2556.000000  29.0000  29.0000\n",
       "8338   Default  1774.000000         park  1774.000000  28.0000  28.0000\n",
       "8870   Default  6697.000000     portland  6697.000000  27.0000  27.0000\n",
       "1041   Default  3488.000000          bed  3488.000000  26.0000  26.0000\n",
       "...        ...          ...          ...          ...      ...      ...\n",
       "977    Topic10    53.709214     bathroom  2863.712166  -0.1957  -5.2560\n",
       "5075   Topic10    51.609911        great  2288.945358  -0.0115  -5.2958\n",
       "2384   Topic10    45.134626  comfortable  1644.301980   0.1852  -5.4299\n",
       "10914  Topic10    42.105588     spacious  1079.955990   0.5361  -5.4994\n",
       "7722   Topic10    42.159485         need  1299.012425   0.3527  -5.4981\n",
       "\n",
       "[854 rows x 6 columns], token_table=       Topic      Freq        Term\n",
       "term                              \n",
       "23         1  0.046196  absolutely\n",
       "23         2  0.027717  absolutely\n",
       "23         4  0.083152  absolutely\n",
       "23         6  0.674455  absolutely\n",
       "23         8  0.129347  absolutely\n",
       "...      ...       ...         ...\n",
       "13157      8  0.898537        yurt\n",
       "13164      2  0.061413         zen\n",
       "13164      5  0.153533         zen\n",
       "13164      7  0.706251         zen\n",
       "13164      8  0.092120         zen\n",
       "\n",
       "[2766 rows x 3 columns], R=30, lambda_step=0.01, plot_opts={'xlab': 'PC1', 'ylab': 'PC2'}, topic_order=[6, 2, 1, 7, 10, 4, 8, 5, 3, 9])"
      ]
     },
     "execution_count": 259,
     "metadata": {},
     "output_type": "execute_result"
    }
   ],
   "source": [
    "run_lda_with_defaults(descriptions, 10)"
   ]
  },
  {
   "cell_type": "markdown",
   "metadata": {},
   "source": [
    "#### Reviews Data"
   ]
  },
  {
   "cell_type": "code",
   "execution_count": 5,
   "metadata": {},
   "outputs": [],
   "source": [
    "df = pd.read_csv('data/portland_reviews.csv')"
   ]
  },
  {
   "cell_type": "code",
   "execution_count": 6,
   "metadata": {},
   "outputs": [],
   "source": [
    "def replace_nans(column):\n",
    "    return column.fillna('', inplace=True)"
   ]
  },
  {
   "cell_type": "code",
   "execution_count": 368,
   "metadata": {},
   "outputs": [],
   "source": [
    "porter = nltk.stem.porter.PorterStemmer()\n",
    "stop = stopwords.words('english')\n",
    "\n",
    "# Remove punctuation and numerical characters\n",
    "# Make lowercase and split on whitespace\n",
    "# Stem words\n",
    "\n",
    "def process_text(text):\n",
    "    text = re.sub('[^A-Za-z ]+', '', text)\n",
    "    text = text.lower().split()\n",
    "    text = [word for word in text if ((len(word) > 3) and (word not in stop))]\n",
    "    text = [porter.stem(word) for word in text]\n",
    "    return text"
   ]
  },
  {
   "cell_type": "code",
   "execution_count": 360,
   "metadata": {},
   "outputs": [],
   "source": [
    "reviews = df['comments']\n",
    "reviews.fillna('', inplace=True)"
   ]
  },
  {
   "cell_type": "code",
   "execution_count": 369,
   "metadata": {},
   "outputs": [],
   "source": [
    "reviews_cleaned = reviews.apply(process_text)"
   ]
  },
  {
   "cell_type": "code",
   "execution_count": 381,
   "metadata": {},
   "outputs": [],
   "source": [
    "df['reviews_cleaned'] = reviews_cleaned"
   ]
  },
  {
   "cell_type": "code",
   "execution_count": 370,
   "metadata": {},
   "outputs": [
    {
     "data": {
      "text/html": [
       "<div>\n",
       "<style scoped>\n",
       "    .dataframe tbody tr th:only-of-type {\n",
       "        vertical-align: middle;\n",
       "    }\n",
       "\n",
       "    .dataframe tbody tr th {\n",
       "        vertical-align: top;\n",
       "    }\n",
       "\n",
       "    .dataframe thead th {\n",
       "        text-align: right;\n",
       "    }\n",
       "</style>\n",
       "<table border=\"1\" class=\"dataframe\">\n",
       "  <thead>\n",
       "    <tr style=\"text-align: right;\">\n",
       "      <th></th>\n",
       "      <th>listing_id</th>\n",
       "      <th>id</th>\n",
       "      <th>date</th>\n",
       "      <th>reviewer_id</th>\n",
       "      <th>reviewer_name</th>\n",
       "      <th>comments</th>\n",
       "      <th>reviews_cleaned</th>\n",
       "    </tr>\n",
       "  </thead>\n",
       "  <tbody>\n",
       "    <tr>\n",
       "      <th>0</th>\n",
       "      <td>7893</td>\n",
       "      <td>27282</td>\n",
       "      <td>2010-02-22</td>\n",
       "      <td>52074</td>\n",
       "      <td>Shaun</td>\n",
       "      <td>Couldn't possibly had a better experience with...</td>\n",
       "      <td>[couldnt, possibl, better, experi, with, thi, ...</td>\n",
       "    </tr>\n",
       "    <tr>\n",
       "      <th>1</th>\n",
       "      <td>7893</td>\n",
       "      <td>17461247</td>\n",
       "      <td>2014-08-12</td>\n",
       "      <td>13284006</td>\n",
       "      <td>Jessica</td>\n",
       "      <td>Jesse's place was really wonderful! The apartm...</td>\n",
       "      <td>[jess, place, realli, wonder, apart, locat, bl...</td>\n",
       "    </tr>\n",
       "  </tbody>\n",
       "</table>\n",
       "</div>"
      ],
      "text/plain": [
       "   listing_id        id        date  reviewer_id reviewer_name  \\\n",
       "0        7893     27282  2010-02-22        52074         Shaun   \n",
       "1        7893  17461247  2014-08-12     13284006       Jessica   \n",
       "\n",
       "                                            comments  \\\n",
       "0  Couldn't possibly had a better experience with...   \n",
       "1  Jesse's place was really wonderful! The apartm...   \n",
       "\n",
       "                                     reviews_cleaned  \n",
       "0  [couldnt, possibl, better, experi, with, thi, ...  \n",
       "1  [jess, place, realli, wonder, apart, locat, bl...  "
      ]
     },
     "execution_count": 370,
     "metadata": {},
     "output_type": "execute_result"
    }
   ],
   "source": [
    "df.head(2)"
   ]
  },
  {
   "cell_type": "code",
   "execution_count": 383,
   "metadata": {},
   "outputs": [],
   "source": [
    "df['reviews_cleaned_str'] = df['reviews_cleaned'].str.join(' ')"
   ]
  },
  {
   "cell_type": "code",
   "execution_count": 385,
   "metadata": {},
   "outputs": [
    {
     "name": "stderr",
     "output_type": "stream",
     "text": [
      "/Users/brenner/anaconda3/lib/python3.6/site-packages/pyLDAvis/_prepare.py:257: FutureWarning: Sorting because non-concatenation axis is not aligned. A future version\n",
      "of pandas will change to not sort by default.\n",
      "\n",
      "To accept the future behavior, pass 'sort=False'.\n",
      "\n",
      "To retain the current behavior and silence the warning, pass 'sort=True'.\n",
      "\n",
      "  return pd.concat([default_term_info] + list(topic_dfs))\n"
     ]
    },
    {
     "data": {
      "text/html": [
       "\n",
       "<link rel=\"stylesheet\" type=\"text/css\" href=\"https://cdn.rawgit.com/bmabey/pyLDAvis/files/ldavis.v1.0.0.css\">\n",
       "\n",
       "\n",
       "<div id=\"ldavis_el49841136549919926454156830\"></div>\n",
       "<script type=\"text/javascript\">\n",
       "\n",
       "var ldavis_el49841136549919926454156830_data = {\"mdsDat\": {\"x\": [0.2593416455120685, 0.2562049448251073, 0.26956821784109375, 0.23016262358173048, 0.0772932911018815, -0.20484436813182766, -0.23236385106859495, -0.22558192582619294, -0.18404830488776838, -0.24573227294749742], \"y\": [-0.000381024652736707, -0.028769886841863178, -0.02217143718492508, 0.040260530767995545, 0.08485236972898771, -0.17195132722015907, 0.17488186923253743, 0.2421085674893282, -0.33553171295418066, 0.016702051635016008], \"topics\": [1, 2, 3, 4, 5, 6, 7, 8, 9, 10], \"cluster\": [1, 1, 1, 1, 1, 1, 1, 1, 1, 1], \"Freq\": [25.273313483663433, 23.43240536831511, 19.474679624529664, 18.48089257975468, 6.036598671311788, 1.8370044846081088, 1.7644353565783575, 1.4826580079788003, 1.1686959998517785, 1.0493164234082681]}, \"tinfo\": {\"Category\": [\"Default\", \"Default\", \"Default\", \"Default\", \"Default\", \"Default\", \"Default\", \"Default\", \"Default\", \"Default\", \"Default\", \"Default\", \"Default\", \"Default\", \"Default\", \"Default\", \"Default\", \"Default\", \"Default\", \"Default\", \"Default\", \"Default\", \"Default\", \"Default\", \"Default\", \"Default\", \"Default\", \"Default\", \"Default\", \"Default\", \"Topic1\", \"Topic1\", \"Topic1\", \"Topic1\", \"Topic1\", \"Topic1\", \"Topic1\", \"Topic1\", \"Topic1\", \"Topic1\", \"Topic1\", \"Topic1\", \"Topic1\", \"Topic1\", \"Topic1\", \"Topic1\", \"Topic1\", \"Topic1\", \"Topic1\", \"Topic1\", \"Topic1\", \"Topic1\", \"Topic1\", \"Topic1\", \"Topic1\", \"Topic1\", \"Topic1\", \"Topic1\", \"Topic1\", \"Topic1\", \"Topic1\", \"Topic1\", \"Topic1\", \"Topic1\", \"Topic1\", \"Topic1\", \"Topic1\", \"Topic1\", \"Topic1\", \"Topic1\", \"Topic1\", \"Topic1\", \"Topic1\", \"Topic1\", \"Topic1\", \"Topic1\", \"Topic1\", \"Topic1\", \"Topic1\", \"Topic1\", \"Topic1\", \"Topic1\", \"Topic1\", \"Topic1\", \"Topic1\", \"Topic1\", \"Topic1\", \"Topic1\", \"Topic1\", \"Topic1\", \"Topic1\", \"Topic1\", \"Topic1\", \"Topic1\", \"Topic1\", \"Topic1\", \"Topic1\", \"Topic1\", \"Topic1\", \"Topic1\", \"Topic1\", \"Topic1\", \"Topic1\", \"Topic1\", \"Topic1\", \"Topic1\", \"Topic2\", \"Topic2\", \"Topic2\", \"Topic2\", \"Topic2\", \"Topic2\", \"Topic2\", \"Topic2\", \"Topic2\", \"Topic2\", \"Topic2\", \"Topic2\", \"Topic2\", \"Topic2\", \"Topic2\", \"Topic2\", \"Topic2\", \"Topic2\", \"Topic2\", \"Topic2\", \"Topic2\", \"Topic2\", \"Topic2\", \"Topic2\", \"Topic2\", \"Topic2\", \"Topic2\", \"Topic2\", \"Topic2\", \"Topic2\", \"Topic2\", \"Topic2\", \"Topic2\", \"Topic2\", \"Topic2\", \"Topic2\", \"Topic2\", \"Topic2\", \"Topic2\", \"Topic2\", \"Topic2\", \"Topic2\", \"Topic2\", \"Topic2\", \"Topic2\", \"Topic2\", \"Topic2\", \"Topic2\", \"Topic2\", \"Topic2\", \"Topic2\", \"Topic2\", \"Topic2\", \"Topic2\", \"Topic2\", \"Topic2\", \"Topic2\", \"Topic2\", \"Topic2\", \"Topic2\", \"Topic2\", \"Topic2\", \"Topic2\", \"Topic2\", \"Topic2\", \"Topic2\", \"Topic2\", \"Topic2\", \"Topic2\", \"Topic2\", \"Topic2\", \"Topic2\", \"Topic2\", \"Topic2\", \"Topic2\", \"Topic2\", \"Topic2\", \"Topic2\", \"Topic2\", \"Topic3\", \"Topic3\", \"Topic3\", \"Topic3\", \"Topic3\", \"Topic3\", \"Topic3\", \"Topic3\", \"Topic3\", \"Topic3\", \"Topic3\", \"Topic3\", \"Topic3\", \"Topic3\", \"Topic3\", \"Topic3\", \"Topic3\", \"Topic3\", \"Topic3\", \"Topic3\", \"Topic3\", \"Topic3\", \"Topic3\", \"Topic3\", \"Topic3\", \"Topic3\", \"Topic3\", \"Topic3\", \"Topic3\", \"Topic3\", \"Topic3\", \"Topic3\", \"Topic3\", \"Topic3\", \"Topic3\", \"Topic3\", \"Topic3\", \"Topic3\", \"Topic3\", \"Topic3\", \"Topic3\", \"Topic3\", \"Topic3\", \"Topic3\", \"Topic3\", \"Topic3\", \"Topic3\", \"Topic3\", \"Topic3\", \"Topic3\", \"Topic3\", \"Topic3\", \"Topic3\", \"Topic3\", \"Topic3\", \"Topic3\", \"Topic3\", \"Topic3\", \"Topic3\", \"Topic3\", \"Topic3\", \"Topic3\", \"Topic3\", \"Topic3\", \"Topic3\", \"Topic3\", \"Topic3\", \"Topic3\", \"Topic4\", \"Topic4\", \"Topic4\", \"Topic4\", \"Topic4\", \"Topic4\", \"Topic4\", \"Topic4\", \"Topic4\", \"Topic4\", \"Topic4\", \"Topic4\", \"Topic4\", \"Topic4\", \"Topic4\", \"Topic4\", \"Topic4\", \"Topic4\", \"Topic4\", \"Topic4\", \"Topic4\", \"Topic4\", \"Topic4\", \"Topic4\", \"Topic4\", \"Topic4\", \"Topic4\", \"Topic4\", \"Topic4\", \"Topic4\", \"Topic4\", \"Topic4\", \"Topic4\", \"Topic4\", \"Topic4\", \"Topic4\", \"Topic4\", \"Topic4\", \"Topic4\", \"Topic4\", \"Topic4\", \"Topic4\", \"Topic4\", \"Topic4\", \"Topic4\", \"Topic4\", \"Topic4\", \"Topic4\", \"Topic4\", \"Topic4\", \"Topic4\", \"Topic4\", \"Topic4\", \"Topic4\", \"Topic4\", \"Topic4\", \"Topic4\", \"Topic4\", \"Topic4\", \"Topic4\", \"Topic4\", \"Topic4\", \"Topic4\", \"Topic4\", \"Topic5\", \"Topic5\", \"Topic5\", \"Topic5\", \"Topic5\", \"Topic5\", \"Topic5\", \"Topic5\", \"Topic5\", \"Topic5\", \"Topic5\", \"Topic5\", \"Topic5\", \"Topic5\", \"Topic5\", \"Topic5\", \"Topic5\", \"Topic5\", \"Topic5\", \"Topic5\", \"Topic5\", \"Topic5\", \"Topic5\", \"Topic5\", \"Topic5\", \"Topic5\", \"Topic5\", \"Topic5\", \"Topic5\", \"Topic5\", \"Topic5\", \"Topic5\", \"Topic5\", \"Topic5\", \"Topic5\", \"Topic5\", \"Topic5\", \"Topic5\", \"Topic5\", \"Topic5\", \"Topic5\", \"Topic5\", \"Topic5\", \"Topic5\", \"Topic5\", \"Topic5\", \"Topic5\", \"Topic5\", \"Topic5\", \"Topic5\", \"Topic5\", \"Topic5\", \"Topic5\", \"Topic5\", \"Topic5\", \"Topic5\", \"Topic6\", \"Topic6\", \"Topic6\", \"Topic6\", \"Topic6\", \"Topic6\", \"Topic6\", \"Topic6\", \"Topic6\", \"Topic6\", \"Topic6\", \"Topic6\", \"Topic6\", \"Topic6\", \"Topic6\", \"Topic6\", \"Topic6\", \"Topic6\", \"Topic6\", \"Topic6\", \"Topic6\", \"Topic6\", \"Topic6\", \"Topic6\", \"Topic6\", \"Topic6\", \"Topic6\", \"Topic6\", \"Topic6\", \"Topic6\", \"Topic6\", \"Topic6\", \"Topic6\", \"Topic6\", \"Topic6\", \"Topic6\", \"Topic7\", \"Topic7\", \"Topic7\", \"Topic7\", \"Topic7\", \"Topic7\", \"Topic7\", \"Topic7\", \"Topic7\", \"Topic7\", \"Topic7\", \"Topic7\", \"Topic7\", \"Topic7\", \"Topic7\", \"Topic7\", \"Topic7\", \"Topic7\", \"Topic7\", \"Topic7\", \"Topic7\", \"Topic7\", \"Topic7\", \"Topic7\", \"Topic7\", \"Topic7\", \"Topic7\", \"Topic7\", \"Topic7\", \"Topic7\", \"Topic7\", \"Topic7\", \"Topic7\", \"Topic7\", \"Topic8\", \"Topic8\", \"Topic8\", \"Topic8\", \"Topic8\", \"Topic8\", \"Topic8\", \"Topic8\", \"Topic8\", \"Topic8\", \"Topic8\", \"Topic8\", \"Topic8\", \"Topic8\", \"Topic8\", \"Topic8\", \"Topic8\", \"Topic8\", \"Topic8\", \"Topic8\", \"Topic8\", \"Topic8\", \"Topic8\", \"Topic8\", \"Topic8\", \"Topic8\", \"Topic8\", \"Topic8\", \"Topic8\", \"Topic8\", \"Topic8\", \"Topic8\", \"Topic9\", \"Topic9\", \"Topic9\", \"Topic9\", \"Topic9\", \"Topic9\", \"Topic9\", \"Topic9\", \"Topic9\", \"Topic9\", \"Topic9\", \"Topic9\", \"Topic9\", \"Topic9\", \"Topic9\", \"Topic9\", \"Topic9\", \"Topic9\", \"Topic9\", \"Topic9\", \"Topic9\", \"Topic9\", \"Topic9\", \"Topic9\", \"Topic9\", \"Topic9\", \"Topic9\", \"Topic9\", \"Topic9\", \"Topic9\", \"Topic9\", \"Topic9\", \"Topic9\", \"Topic10\", \"Topic10\", \"Topic10\", \"Topic10\", \"Topic10\", \"Topic10\", \"Topic10\", \"Topic10\", \"Topic10\", \"Topic10\", \"Topic10\", \"Topic10\", \"Topic10\", \"Topic10\", \"Topic10\", \"Topic10\", \"Topic10\", \"Topic10\", \"Topic10\", \"Topic10\", \"Topic10\", \"Topic10\", \"Topic10\", \"Topic10\", \"Topic10\", \"Topic10\", \"Topic10\", \"Topic10\", \"Topic10\", \"Topic10\"], \"Freq\": [29342.0, 205576.0, 118439.0, 59582.0, 30688.0, 104245.0, 46036.0, 115862.0, 18212.0, 74439.0, 88508.0, 76776.0, 18546.0, 12863.0, 48396.0, 11979.0, 34321.0, 28640.0, 43061.0, 24176.0, 30740.0, 25562.0, 68660.0, 20723.0, 7921.0, 7605.0, 30138.0, 56375.0, 55425.0, 10253.0, 14024.561319313776, 4750.088562173956, 4724.953080326988, 4247.897621480569, 4035.8557689131803, 3221.2368230409197, 2089.6866903612936, 2063.4278544247436, 1903.55401314645, 1676.06200801186, 1597.348670479701, 1578.8057959493901, 1568.8623656276013, 1532.3619251924958, 1455.188526409056, 1428.8358842750924, 1348.2087753106425, 1331.175215462114, 1303.9460825383544, 1281.187663130806, 1224.394696571966, 1181.0326954848615, 1165.1399995082236, 1156.7512842594833, 1098.2026654755782, 1088.7967385181807, 1054.2482514664828, 1052.9097229283407, 1024.4860512509993, 955.1933820855276, 1237.3844957291883, 1198.6992007088522, 7380.8549631177575, 4539.427491390846, 58315.21738749351, 11842.02452730257, 18716.81812013136, 8977.003047468917, 5343.896115497142, 13858.722380417947, 17087.434317417665, 4609.569186925876, 5546.391360087477, 3075.3598026672335, 6112.438959537011, 2394.7865571813104, 25477.933786286805, 6031.765241720047, 2917.713770964125, 12746.94645255523, 50063.03611312041, 18122.040538794, 22241.810517531467, 15181.510234854004, 13630.599297031751, 14124.860890679889, 31476.37927700139, 11213.301353979596, 9858.406284384453, 14315.8443547434, 26277.683123792816, 16084.81688122487, 15437.524473242918, 8999.8179777631, 23859.62322011107, 10851.252957497107, 13016.0970803354, 16813.569288456903, 9864.37986695629, 16553.045151536895, 28043.773092521627, 11724.593833465939, 14934.817684275004, 16681.078996623495, 13601.852142459325, 11086.984427020618, 30740.647785400262, 25562.74007090602, 6905.669926416685, 4036.5732096365796, 4028.6010849785575, 3345.6718955093042, 2596.8222894438654, 2589.4243093754244, 1997.6802507520408, 1967.1600207532288, 1717.1458212475293, 1504.6797706495927, 5177.055748924622, 850.6256336561537, 808.5174068393206, 773.987827094397, 766.4335235130168, 604.6823577597927, 577.8686742533474, 531.3382640357229, 391.19281406250985, 378.8480185689834, 356.66533694674513, 351.5553531251953, 347.92429824851445, 347.19821020189687, 329.010479359016, 317.02848484720556, 309.79825269594045, 303.76555839190405, 45761.16533629127, 13442.635029430572, 11011.151854837773, 33717.9223120589, 5458.739152774522, 4550.934153200483, 7836.885453786451, 6137.883209116193, 496.90061473240297, 55721.303575251164, 7201.412192445607, 42848.72263082104, 5593.684031835647, 1283.4283067538072, 7971.906504526438, 9799.79968410433, 6510.7767312483265, 8061.078053411111, 10902.55096160482, 19101.41017589572, 13986.231656640291, 7687.695539670043, 11964.544495930708, 20963.598378859788, 34428.30030320965, 8218.679355192877, 54533.66103741777, 30017.224374220437, 13502.864224406447, 12478.737909889436, 62841.346154219944, 21356.66042227648, 13898.279249452766, 38130.48699316272, 30674.747270889628, 11659.033414850262, 16088.646997761556, 10881.779846800031, 18528.576932707314, 12080.916515565972, 15113.285801858232, 18868.064543179797, 19037.804761573138, 18255.73824052102, 15278.752850735918, 15949.285485213819, 15501.801968007821, 13966.099850061977, 13762.926126612489, 2830.7324899992323, 1696.7584836008994, 1662.6033614496362, 1369.5303265287403, 1221.2397953361105, 1177.5168749339146, 1085.6622216280682, 1007.5286232627186, 983.9126315939942, 917.590154171199, 771.5826000307209, 738.9037856923062, 664.330397617639, 617.9479332755396, 562.6596559953628, 560.3199896424496, 552.6376435570419, 551.2668108495933, 501.6212045888564, 483.33897086348816, 467.1273857018098, 463.1562948575615, 456.69431311268465, 429.38052260375684, 423.9350354039064, 397.3680224322223, 390.5850493866853, 353.12417822735426, 347.59067997558753, 299.4705159320055, 8608.075186149677, 22211.56412368737, 46725.48582807827, 13268.07720156202, 26954.81760054595, 58480.50398562396, 5179.716060651442, 98998.92292182313, 15571.177436023509, 45504.67290645552, 18697.164160951852, 7571.201453997365, 29000.302300285137, 6174.891442214301, 49187.1358555071, 15843.905800670784, 27430.4477319436, 12407.975230423273, 34521.52153107208, 28553.563346737064, 14795.863970955095, 29143.16960535763, 11540.94670607264, 15818.444527974467, 14180.890725278312, 18654.944977942094, 24282.52997958921, 9243.09875561861, 19220.7346524801, 19555.577868457363, 12877.97871894254, 29119.144781252537, 15152.924606655051, 16400.53770661375, 18276.1674341357, 13324.320269553118, 13329.070827664185, 13026.990122121322, 20723.10032822145, 12020.011683868768, 10894.042095037503, 6893.120165787698, 5848.474349202385, 5775.739934292708, 5443.156898723396, 5085.583001648812, 3826.672199915942, 3698.107385649684, 3206.183498570735, 3057.9528677056396, 2717.4831704313888, 2654.7078463728208, 2572.4250619293794, 2464.168629010773, 2458.806958562338, 2396.137530714303, 2325.4245384223136, 2211.2466708205397, 2074.4452728148935, 1983.6604344700388, 1964.3364168199566, 1950.0692716956974, 1931.8975108739237, 1877.2692131356594, 1789.8634392529987, 1749.957464475474, 1711.6669163258452, 1693.7015638905746, 7825.957061592102, 6391.048089579922, 18840.373047496025, 7642.224597378101, 4683.132545862017, 6976.624151516956, 6444.364108853471, 3954.8191083675565, 2852.7435768683035, 24119.738940900217, 7641.096056733115, 5438.066435308339, 6706.970054549223, 8198.606201667544, 7357.347145838829, 8864.050502356553, 21170.161430480533, 3393.829365064629, 10420.263019701588, 12122.592029303829, 11184.523809538865, 6672.012971911049, 15361.386064952612, 9801.213818871951, 14205.667341996597, 15065.91343502736, 13152.382139659745, 15691.791216511798, 9091.142007578344, 8602.118439437874, 9143.52323228546, 9220.65893861679, 8091.508241686243, 6821.381426554471, 6893.169957678358, 5467.059790274375, 5378.2013118256045, 4171.480635834481, 3299.0281646354215, 3243.306916682149, 2972.8302994879045, 2264.3022678769375, 2120.8282105142275, 2081.8118906567506, 1915.8939437705333, 1892.6153619512424, 1644.8288087170583, 1631.8842353275686, 1622.7156709828912, 1587.6556292737857, 1541.094501726651, 1492.5161577454871, 1513.9931414661598, 1436.492573763983, 1151.853531574538, 1126.5504811335777, 1110.6827887635493, 1085.6198360178796, 1072.7681593663121, 1053.7301848437214, 1051.6417663873044, 1051.467809208798, 1007.6779487805818, 992.4213904588645, 18545.242183132876, 5151.002808607951, 8569.570783268435, 5708.275871757883, 19927.027251654687, 3094.3380816801423, 5721.376331020738, 2612.633940853853, 6225.070455437253, 11594.929254173458, 3164.4953133667555, 5741.407950554752, 4238.363103565255, 5929.1862813523785, 3495.896275272962, 2846.5214141829483, 8313.854290694848, 3374.497705485808, 3716.7051583456523, 3876.719872120757, 2825.1471196989273, 3152.351316034777, 3444.479216808812, 3297.9290479647307, 3400.9959185496696, 3114.877809302652, 11979.694403174992, 4895.6290967613095, 4286.964042973098, 3054.5982497456084, 2699.2944649376786, 2520.5118551075034, 2460.127946012824, 2375.3161514453695, 1993.3365528251202, 1851.2000516622095, 1706.9986312758963, 1542.130318344538, 1354.642200140712, 1339.857804567251, 1293.4199798384295, 1277.218510626546, 1215.7566787706053, 1165.542950573528, 1150.8376356248982, 1139.8653767392027, 1053.765214900504, 990.0586336190912, 962.7214031348715, 932.482528368906, 815.0816346668987, 799.5467660880303, 783.8464691175114, 770.5590374542024, 719.9995832111717, 713.1039589467348, 1153.1764947573658, 9649.30448898213, 6035.17019171015, 1817.8656418520627, 2484.6570038460654, 871.713980885109, 12863.40994324704, 7233.422912257935, 2504.085677149775, 2372.9027735055256, 2045.6495097510326, 1850.572404886066, 1840.7550365523568, 1787.8882130535892, 1750.4153937547903, 1611.6999887939676, 1491.8955421150222, 1463.1942632303267, 1393.3284795666368, 1389.8301474739235, 1336.264610780056, 1306.2646165486774, 1302.1632224487087, 1231.6327305310388, 1231.3878623972023, 1183.0976858797887, 1169.5692086930464, 1165.6685255527734, 1136.7252311526627, 1119.6584393390558, 1006.3234063015723, 941.3749965408606, 903.1122715609075, 892.9056175941791, 889.0207561071675, 838.978544921731, 1904.8655232688684, 2034.4352567807198, 945.8415990867143, 963.1270402366431, 7921.158909783446, 7605.217995968479, 3253.3923903722557, 3158.1079276631485, 2846.457489403414, 2288.83027179084, 2081.4584010452627, 1880.086055996046, 1813.3964148397843, 1733.3700190374616, 1666.6828878077913, 1626.7341507440551, 1620.8315480289318, 1399.4446352789666, 1054.741538063566, 1044.769722936338, 986.0214964073348, 957.3915571802237, 929.9321612681755, 926.0738112347908, 910.7134254956164, 908.7766304699202, 864.4636603280277, 852.9279056873229, 774.6681202012202, 772.6218831283368, 740.8945089928784, 739.1613497624156, 711.1696314608599, 690.8794758626748, 2303.7571177445166, 1450.2713065487217, 2620.8061281493506, 1991.0373859381098, 1929.9301599058724, 1604.3344137959632, 1506.989290233393, 1454.0758840102042, 1210.6314218964487, 1175.8509797821384, 972.6852810730064, 963.2937313911251, 948.7664554971959, 907.6880561055881, 872.5124950273864, 868.8817252397674, 845.3883132070506, 782.9326410405305, 737.5761007142684, 717.5466243248536, 675.0897143883851, 674.5112947495708, 669.6372235052515, 669.4357791121262, 639.5203580305921, 600.8813537987052, 583.8186811701004, 536.3236313697206, 503.2147823477395, 460.8901024621069, 455.8313678500481, 433.25396443102727, 1008.6212039167523, 1126.3044707633808, 729.6421639963091, 4430.161748801009, 3067.262333357477, 2710.4880103132605, 2645.5965392935827, 2299.4178417559638, 2149.794441341603, 2061.4866597268783, 2029.9976078598258, 2029.0582387658537, 1908.8989669599107, 1443.991917135648, 1327.3869233342518, 1305.4402955735372, 1275.6492712534248, 1244.5753766411299, 1039.427486416044, 969.7142599652892, 937.5451378502622, 924.1091278233426, 910.4601364549626, 908.5253861087293, 884.0913551664714, 876.6580092604331, 871.6540618761284, 852.9364983834486, 844.2795753128263, 810.5994247455292, 737.0413778225771, 686.9404295842847, 682.3931002781911], \"Term\": [\"airbnb\", \"place\", \"portland\", \"walk\", \"check\", \"clean\", \"restaur\", \"locat\", \"best\", \"recommend\", \"host\", \"home\", \"arriv\", \"studio\", \"close\", \"checkin\", \"downtown\", \"coffe\", \"super\", \"experi\", \"shop\", \"distanc\", \"nice\", \"bathroom\", \"tini\", \"attent\", \"highli\", \"easi\", \"definit\", \"public\", \"respond\", \"messag\", \"answer\", \"john\", \"center\", \"dinner\", \"retreat\", \"pick\", \"lisa\", \"tour\", \"whenev\", \"knowledg\", \"rose\", \"wed\", \"imagin\", \"promptli\", \"confer\", \"convent\", \"opportun\", \"colleg\", \"girl\", \"oasi\", \"overnight\", \"leah\", \"attend\", \"parent\", \"nicest\", \"event\", \"matthew\", \"memor\", \"idea\", \"seren\", \"garden\", \"truli\", \"home\", \"question\", \"feel\", \"everi\", \"quickli\", \"felt\", \"make\", \"care\", \"cottag\", \"spent\", \"hope\", \"vacat\", \"time\", \"went\", \"delight\", \"trip\", \"portland\", \"like\", \"beauti\", \"visit\", \"experi\", \"welcom\", \"love\", \"citi\", \"book\", \"airbnb\", \"hous\", \"wonder\", \"enjoy\", \"famili\", \"host\", \"quick\", \"thank\", \"perfect\", \"come\", \"need\", \"place\", \"amaz\", \"everyth\", \"comfort\", \"space\", \"definit\", \"shop\", \"distanc\", \"district\", \"divis\", \"mississippi\", \"breweri\", \"pearl\", \"art\", \"kate\", \"lyft\", \"rail\", \"autom\", \"uber\", \"pub\", \"william\", \"nightlif\", \"belmont\", \"tiffani\", \"uberlyft\", \"couldv\", \"biketown\", \"anybodi\", \"burnsid\", \"suzi\", \"casita\", \"iren\", \"nathan\", \"unbeat\", \"alphabet\", \"craig\", \"restaur\", \"bar\", \"alberta\", \"downtown\", \"hawthorn\", \"cafe\", \"transport\", \"groceri\", \"tram\", \"walk\", \"walkabl\", \"close\", \"ride\", \"highway\", \"store\", \"block\", \"airport\", \"near\", \"drive\", \"street\", \"food\", \"nearbi\", \"short\", \"park\", \"easi\", \"public\", \"locat\", \"neighborhood\", \"minut\", \"access\", \"place\", \"quiet\", \"away\", \"portland\", \"clean\", \"mani\", \"apart\", \"lot\", \"perfect\", \"spot\", \"area\", \"nice\", \"recommend\", \"comfort\", \"definit\", \"hous\", \"love\", \"everyth\", \"space\", \"forward\", \"jeff\", \"matt\", \"state\", \"justic\", \"chicken\", \"cabin\", \"jessica\", \"kati\", \"bustl\", \"connor\", \"stephani\", \"jake\", \"univers\", \"sean\", \"ahead\", \"hustl\", \"treehous\", \"avenu\", \"nanci\", \"christoph\", \"northwest\", \"carolyn\", \"becca\", \"pine\", \"biscuit\", \"brother\", \"puppi\", \"hilari\", \"tim\", \"exactli\", \"highli\", \"recommend\", \"awesom\", \"super\", \"clean\", \"describ\", \"place\", \"friendli\", \"host\", \"commun\", \"anyon\", \"definit\", \"stylish\", \"locat\", \"cozi\", \"everyth\", \"cute\", \"comfort\", \"nice\", \"amaz\", \"love\", \"accommod\", \"wonder\", \"thank\", \"realli\", \"space\", \"respons\", \"perfect\", \"need\", \"help\", \"portland\", \"beauti\", \"easi\", \"hous\", \"quiet\", \"room\", \"home\", \"bathroom\", \"bedroom\", \"shower\", \"towel\", \"floor\", \"nois\", \"upstair\", \"window\", \"hear\", \"wifi\", \"dryer\", \"couch\", \"separ\", \"lock\", \"fine\", \"linen\", \"downstair\", \"washer\", \"mattress\", \"heater\", \"sheet\", \"mark\", \"microwav\", \"blanket\", \"wall\", \"shampoo\", \"loud\", \"ceil\", \"soap\", \"stair\", \"unit\", \"issu\", \"kitchen\", \"sleep\", \"problem\", \"basement\", \"door\", \"wasnt\", \"howev\", \"room\", \"small\", \"larg\", \"light\", \"live\", \"bed\", \"didnt\", \"nice\", \"heat\", \"night\", \"like\", \"good\", \"work\", \"space\", \"littl\", \"hous\", \"clean\", \"comfort\", \"place\", \"apart\", \"park\", \"realli\", \"need\", \"locat\", \"privat\", \"late\", \"snack\", \"fresh\", \"wine\", \"reserv\", \"flight\", \"bottl\", \"cancel\", \"brand\", \"ryan\", \"chocol\", \"fruit\", \"bag\", \"later\", \"impecc\", \"melissa\", \"drop\", \"despit\", \"prior\", \"brought\", \"peter\", \"french\", \"karen\", \"artist\", \"earlier\", \"press\", \"holli\", \"date\", \"wave\", \"tessa\", \"arriv\", \"instruct\", \"left\", \"earli\", \"check\", \"greet\", \"breakfast\", \"beer\", \"morn\", \"coffe\", \"clear\", \"touch\", \"appreci\", \"provid\", \"day\", \"fridg\", \"host\", \"sure\", \"thought\", \"accommod\", \"extra\", \"didnt\", \"welcom\", \"night\", \"commun\", \"make\", \"checkin\", \"star\", \"process\", \"checkout\", \"river\", \"weve\", \"brian\", \"hidden\", \"amanda\", \"cream\", \"salt\", \"phone\", \"blue\", \"straw\", \"carol\", \"seamless\", \"hood\", \"donut\", \"rachel\", \"websit\", \"jack\", \"coast\", \"erik\", \"steve\", \"inquiri\", \"west\", \"melani\", \"stephen\", \"columbia\", \"gorg\", \"nest\", \"airbnb\", \"best\", \"breez\", \"experi\", \"rate\", \"studio\", \"transit\", \"linda\", \"condo\", \"record\", \"troubl\", \"sellwood\", \"jame\", \"michel\", \"season\", \"guy\", \"stuart\", \"jenni\", \"school\", \"jess\", \"maria\", \"dave\", \"joe\", \"wellequip\", \"pool\", \"lori\", \"trader\", \"beth\", \"supermarket\", \"player\", \"rebecca\", \"yoga\", \"tourist\", \"alison\", \"seattl\", \"free\", \"public\", \"movi\", \"terrif\", \"tini\", \"attent\", \"juli\", \"michael\", \"wont\", \"alex\", \"flat\", \"greg\", \"justin\", \"dana\", \"regret\", \"mike\", \"eric\", \"toni\", \"memori\", \"andrew\", \"nate\", \"bathtub\", \"chic\", \"jill\", \"arti\", \"airstream\", \"jodi\", \"brook\", \"georg\", \"erica\", \"inspir\", \"holiday\", \"satisfi\", \"doug\", \"disappoint\", \"fast\", \"mari\", \"superb\", \"susan\", \"andrea\", \"ann\", \"multnomah\", \"villag\", \"todd\", \"clair\", \"abbi\", \"sehr\", \"dan\", \"centr\", \"richard\", \"danni\", \"appart\", \"pour\", \"reccomend\", \"casa\", \"confort\", \"heidi\", \"benjamin\", \"maureen\", \"nou\", \"bien\", \"kristi\", \"hau\", \"petit\", \"cori\", \"dustin\", \"calm\", \"portland\", \"super\", \"laura\", \"chri\", \"jason\", \"seclud\", \"adam\", \"daniel\", \"emili\", \"angela\", \"robert\", \"kelli\", \"amber\", \"katherin\", \"andi\", \"rooftop\", \"readili\", \"ashley\", \"traci\", \"arthur\", \"shane\", \"lodg\", \"maggi\", \"camper\", \"societi\", \"hannah\", \"chad\", \"carriag\", \"colin\", \"jessi\", \"alan\", \"dylan\"], \"Total\": [29342.0, 205576.0, 118439.0, 59582.0, 30688.0, 104245.0, 46036.0, 115862.0, 18212.0, 74439.0, 88508.0, 76776.0, 18546.0, 12863.0, 48396.0, 11979.0, 34321.0, 28640.0, 43061.0, 24176.0, 30740.0, 25562.0, 68660.0, 20723.0, 7921.0, 7605.0, 30138.0, 56375.0, 55425.0, 10253.0, 14024.625032045418, 4750.152274905604, 4725.016793058631, 4247.961334212212, 4035.919481644824, 3221.3005357725633, 2089.750403092937, 2063.491567156387, 1903.6177258780936, 1676.1257207435035, 1597.4123832122061, 1578.8695086810337, 1568.926078359245, 1532.4256379241394, 1455.2522391406997, 1428.899597006736, 1348.272488042286, 1331.2389281937576, 1304.0098475638633, 1281.2513758624495, 1224.4584093036096, 1181.096408216505, 1165.2037122398672, 1156.814996991127, 1098.2663782072218, 1088.8604512498243, 1054.3119641981264, 1052.9734356599843, 1024.5497639826428, 955.2570948678302, 1237.844574619184, 1198.933265677251, 8238.55948936894, 4948.059274771361, 76776.8065913928, 14048.027770047, 23969.687181229576, 11137.842129738443, 6259.0688898153085, 19367.973697048084, 25380.631109280508, 5740.474737152178, 7178.137710510589, 3603.1113649376416, 8242.952526636547, 2684.4685256782905, 48671.180242201124, 8315.721905016902, 3415.9654204603003, 21228.472373703873, 118439.01599179645, 34117.29829059661, 44370.52362157341, 27754.697097265114, 24176.45424380419, 26393.462157901664, 78421.84298972362, 19870.36062564013, 17077.181037282673, 29342.593834256804, 75060.76862196627, 36746.66141478336, 35824.38554587994, 16002.206151778422, 88508.67256304115, 22226.80592643122, 31976.195695302158, 54562.935058619245, 20468.062638625008, 58885.476271017615, 205576.09699752217, 31577.539383459778, 60319.46349059193, 82630.53604816446, 67008.74263930097, 55425.621869123235, 30740.712283896322, 25562.80456940208, 6905.734424912738, 4036.6377081326336, 4028.6655834746116, 3345.7363940053583, 2596.8867879399195, 2589.4888078714785, 1997.744749248095, 1967.2245310224246, 1717.2106786231475, 1504.744269145647, 5177.358347421201, 850.6901321522076, 808.5819053353746, 774.0523255905389, 766.4980220090707, 604.7468562558466, 577.9331730699294, 531.4027625317768, 391.25731255856385, 378.9125170650374, 356.7298354428007, 351.6198516212493, 347.98879674456845, 347.26270869795087, 329.07497785507, 317.09298334325956, 309.86275119199445, 303.83005688795805, 46036.05978601707, 13534.51682106867, 11074.085086320607, 34321.76925151179, 5491.891237764648, 4585.257274797012, 8001.808589939584, 6293.267255542627, 497.45800047586476, 59582.409203438, 7594.0341612158645, 48396.27069913042, 5955.276230330096, 1307.0719164756285, 8605.037638619551, 10893.319672172518, 7400.762240021461, 9435.65881186367, 13083.763692784874, 24485.62135685208, 17571.51487589082, 9055.544373018629, 15187.068981299148, 29579.79849268985, 56375.50720364362, 10253.17127505098, 115862.08078092943, 54864.43928367402, 19528.236603743648, 18088.994666486637, 205576.09699752217, 42224.66749808014, 23418.86452726575, 118439.01599179645, 104245.04563710555, 18999.026225115642, 34930.84708377816, 17650.444007814374, 54562.935058619245, 22208.038739372878, 36687.16898460723, 68660.3182657839, 74439.2615367775, 82630.53604816446, 55425.621869123235, 75060.76862196627, 78421.84298972362, 60319.46349059193, 67008.74263930097, 2830.797287538459, 1696.8233510898158, 1662.6681589905281, 1369.5951240679672, 1221.3045928753374, 1177.5816724731415, 1085.727019167295, 1007.5934208019453, 983.9774291332209, 917.6549517104256, 771.6473975699475, 738.9685832315329, 664.3951951568657, 618.0127308147663, 562.7244535345894, 560.3847871816763, 552.7024410962686, 551.33160838882, 501.68600212808315, 483.4037684027149, 467.19218324103656, 463.2210923967882, 456.7591106519114, 429.4453201429836, 423.99983294313313, 397.432819971449, 390.649846925912, 353.188975766581, 347.65547751481427, 299.53531347123226, 9121.778186409912, 30138.838397547024, 74439.2615367775, 19182.03021326669, 43061.889011402134, 104245.04563710555, 7135.642100073546, 205576.09699752217, 25445.220161575584, 88508.67256304115, 32799.228662022135, 11541.888235487157, 55425.621869123235, 9627.522716977328, 115862.08078092943, 30050.874725125588, 60319.46349059193, 23085.856705382514, 82630.53604816446, 68660.3182657839, 31577.539383459778, 78421.84298972362, 23755.363997905024, 36746.66141478336, 31976.195695302158, 46326.40136249399, 67008.74263930097, 18640.086290242834, 54562.935058619245, 58885.476271017615, 31224.70735699643, 118439.01599179645, 44370.52362157341, 56375.50720364362, 75060.76862196627, 42224.66749808014, 47787.522515219345, 76776.8065913928, 20723.164744197125, 12020.076099844438, 10894.106511013173, 6893.184581763368, 5848.538765178056, 5775.804350268379, 5443.221314699066, 5085.647417624482, 3826.7366158916134, 3698.1718016253553, 3206.2479145464063, 3058.017283681311, 2717.54758640706, 2654.772262348492, 2572.4894779050537, 2464.2330449864444, 2458.871374538009, 2396.201946689974, 2325.488954397985, 2211.311086796211, 2074.5096888136595, 1983.7248504457098, 1964.4008327956276, 1950.1336876714904, 1931.9619268495946, 1877.3336291113303, 1789.9278552286696, 1750.0218804511449, 1711.7313323015162, 1693.7659798662455, 8450.915024432552, 7020.28303424847, 22755.83959491322, 8685.052030497882, 5218.628617713819, 8814.507784061754, 8505.283776856975, 4707.0277459833405, 3129.221162231359, 47787.522515219345, 11025.797893606536, 7168.923784621291, 9831.722220229043, 13783.565704564262, 11863.770555750478, 16044.767758322057, 68660.3182657839, 3969.29428124705, 25745.076403019448, 34117.29829059661, 31570.291962617965, 12479.585040346145, 67008.74263930097, 29700.878516133736, 75060.76862196627, 104245.04563710555, 82630.53604816446, 205576.09699752217, 34930.84708377816, 29579.79849268985, 46326.40136249399, 58885.476271017615, 115862.08078092943, 17842.79188583993, 6893.233485103937, 5467.123317699975, 5378.264839251184, 4171.544163260062, 3299.091692061001, 3243.370444107729, 2972.893826913484, 2264.365795302517, 2120.891737939807, 2081.8754180823303, 1915.9574711961127, 1892.6788893768219, 1644.8923361426378, 1631.947762753148, 1622.7791984084706, 1587.7191566993652, 1541.1580291522916, 1492.5796851710666, 1514.0587566954846, 1436.5561011895625, 1151.9170590001174, 1126.6143188794313, 1110.7463161891287, 1085.683363443459, 1072.8316867918916, 1053.793712269589, 1051.7052938128838, 1051.5313366343773, 1007.7414762061612, 992.4849178844439, 18546.790827632383, 5165.598685084615, 8979.813273793567, 6436.852641151045, 30688.191108444844, 3810.0348817524255, 9242.303833062168, 3392.002464680023, 10713.002533533732, 28640.482666317122, 4720.073642908987, 17514.022018361877, 10985.19941089349, 22099.388213260303, 8935.699979988205, 5736.797881912902, 88508.67256304115, 14160.21979512095, 19087.073921819458, 23755.363997905024, 8778.625607770055, 16044.767758322057, 26393.462157901664, 25745.076403019448, 32799.228662022135, 25380.631109280508, 11979.757260241891, 4895.691953828208, 4287.026900039997, 3054.6611068125076, 2699.357322004578, 2520.5747121744025, 2460.190803079723, 2375.3790085122687, 1993.399409892019, 1851.2629087291084, 1707.0614883427952, 1542.1931754114369, 1354.705057207611, 1339.9206616341498, 1293.4828369053284, 1277.281367693445, 1215.8195358375042, 1165.605807640427, 1150.9004926917971, 1139.9282338061016, 1053.8280719674028, 990.1214906859902, 962.7842602017705, 932.545385435805, 815.1444917337977, 799.6096231549293, 783.9093261844105, 770.6218945211015, 720.0624402780708, 713.1668160136338, 1195.839978555011, 29342.593834256804, 18212.702499455958, 3840.8932488681335, 24176.45424380419, 1109.250748174406, 12863.471854510133, 7233.4848235210275, 2504.1475884128677, 2372.964684768618, 2045.7114210141249, 1850.6343161491582, 1840.816947815449, 1787.9501243166815, 1750.4773050178826, 1611.7619000570598, 1491.9574533781145, 1463.256174493419, 1393.390390829729, 1389.8920587370158, 1336.3265220431483, 1306.3265278117697, 1302.225133711801, 1231.694641794131, 1231.4497736602946, 1183.159597142902, 1169.6311199561387, 1165.7304368158657, 1136.787142415755, 1119.720350602148, 1006.3853175646647, 941.436907803953, 903.1741828239999, 892.9675288572715, 889.0826673702599, 839.0404561848234, 3383.3234359203893, 10253.17127505098, 1512.2651625397023, 2335.6590013770433, 7921.220855901631, 7605.279942086664, 3253.454336490441, 3158.169873781334, 2846.5194355215995, 2288.8922179090255, 2081.520347163448, 1880.1480021142315, 1813.4583609579697, 1733.431965155647, 1666.7448339259768, 1626.7960968622406, 1620.8934941471173, 1399.506581397152, 1054.8034841817514, 1044.8316690545234, 986.0834425255204, 957.4535032984093, 929.9941073863611, 926.1357573529764, 910.775371613802, 908.8385765881058, 864.5256064462133, 852.9898518055085, 774.7300663194058, 772.6838292465224, 740.956455111064, 739.2232958806012, 711.2315775790455, 690.9414219808604, 2671.8646932066836, 3330.0644823170405, 2620.8659929255796, 1991.0972507143388, 1929.9900246821014, 1604.3942785721922, 1507.049155009622, 1454.1357487864332, 1210.6912866726777, 1175.9108445583674, 972.7451458492354, 963.3535961673541, 948.8263202734249, 907.7479208818171, 872.5723598036154, 868.9415900159964, 845.4481779832796, 782.9925058167595, 737.6359654904974, 717.6064891010826, 675.1495791646141, 674.5711595257998, 669.6970882814805, 669.4956438883552, 639.5802228068211, 600.9412185749342, 583.8785459463294, 536.3834961459496, 503.27464712396846, 460.94996723833583, 455.89123262627703, 433.3138292072562, 1874.8995918633132, 118439.01599179645, 43061.889011402134, 4430.22193754577, 3067.3225221022385, 2710.548199058022, 2645.656728038344, 2299.4780305007253, 2149.8546300863645, 2061.54684847164, 2030.057796604587, 2029.118427510615, 1908.959155704672, 1444.0521058804093, 1327.447112079013, 1305.5004843182985, 1275.709459998186, 1244.6355653858911, 1039.4876751608053, 969.7744487100505, 937.6053265950235, 924.1693165681039, 910.5203251997239, 908.5855748534906, 884.1515439112327, 876.7181980051944, 871.7142506208896, 852.9966871282098, 844.3397640575876, 810.6596134902904, 737.1015665673384, 687.000618329046, 682.4532890229524], \"loglift\": [30.0, 29.0, 28.0, 27.0, 26.0, 25.0, 24.0, 23.0, 22.0, 21.0, 20.0, 19.0, 18.0, 17.0, 16.0, 15.0, 14.0, 13.0, 12.0, 11.0, 10.0, 9.0, 8.0, 7.0, 6.0, 5.0, 4.0, 3.0, 2.0, 1.0, 1.3754, 1.3754, 1.3754, 1.3754, 1.3754, 1.3754, 1.3754, 1.3754, 1.3754, 1.3754, 1.3754, 1.3754, 1.3754, 1.3754, 1.3754, 1.3754, 1.3754, 1.3754, 1.3754, 1.3754, 1.3754, 1.3754, 1.3754, 1.3754, 1.3754, 1.3754, 1.3754, 1.3754, 1.3754, 1.3754, 1.375, 1.3752, 1.2655, 1.2892, 1.1004, 1.2046, 1.1281, 1.1597, 1.2173, 1.0407, 0.9798, 1.156, 1.1175, 1.217, 1.0764, 1.2612, 0.7281, 1.0543, 1.2178, 0.8654, 0.5143, 0.7427, 0.6848, 0.7721, 0.8024, 0.7502, 0.4626, 0.8033, 0.826, 0.6577, 0.3258, 0.5492, 0.5336, 0.7999, 0.0645, 0.6584, 0.4766, 0.1983, 0.6455, 0.1064, -0.6166, 0.3847, -0.0205, -0.2247, -0.2192, -0.2338, 1.451, 1.451, 1.451, 1.451, 1.451, 1.451, 1.451, 1.451, 1.451, 1.451, 1.451, 1.451, 1.451, 1.451, 1.451, 1.451, 1.451, 1.4509, 1.4509, 1.4509, 1.4509, 1.4509, 1.4509, 1.4509, 1.4509, 1.4509, 1.4509, 1.4508, 1.4508, 1.4508, 1.4451, 1.4442, 1.4454, 1.4333, 1.445, 1.4435, 1.4302, 1.426, 1.4499, 1.3841, 1.398, 1.3293, 1.3884, 1.4328, 1.3746, 1.3453, 1.3229, 1.2936, 1.2687, 1.2027, 1.2228, 1.2873, 1.2126, 1.1067, 0.9579, 1.2299, 0.6975, 0.848, 1.0821, 1.0798, 0.2658, 0.7694, 0.9293, 0.3177, 0.2277, 0.9627, 0.6758, 0.9674, 0.371, 0.8422, 0.5642, 0.1593, 0.0875, -0.0588, 0.1625, -0.0978, -0.1701, -0.012, -0.1318, 1.636, 1.636, 1.636, 1.636, 1.636, 1.636, 1.636, 1.636, 1.636, 1.636, 1.636, 1.636, 1.636, 1.636, 1.6359, 1.6359, 1.6359, 1.6359, 1.6359, 1.6359, 1.6359, 1.6359, 1.6359, 1.6359, 1.6359, 1.6359, 1.6359, 1.6359, 1.6359, 1.6358, 1.5781, 1.3309, 1.1704, 1.2674, 1.1676, 1.058, 1.3157, 0.9053, 1.1449, 0.9708, 1.074, 1.2144, 0.9883, 1.1919, 0.7793, 0.9959, 0.8481, 1.0152, 0.7633, 0.7587, 0.878, 0.6462, 0.9141, 0.7932, 0.823, 0.7265, 0.621, 0.9346, 0.5927, 0.5337, 0.7504, 0.2331, 0.5617, 0.4013, 0.2234, 0.4826, 0.3592, -0.1378, 1.6884, 1.6884, 1.6884, 1.6884, 1.6884, 1.6884, 1.6884, 1.6884, 1.6884, 1.6884, 1.6884, 1.6884, 1.6884, 1.6884, 1.6884, 1.6884, 1.6884, 1.6884, 1.6884, 1.6884, 1.6884, 1.6884, 1.6884, 1.6884, 1.6884, 1.6884, 1.6884, 1.6884, 1.6884, 1.6884, 1.6116, 1.5945, 1.4996, 1.5605, 1.5802, 1.4546, 1.411, 1.5143, 1.5959, 1.0047, 1.3217, 1.4121, 1.306, 1.1689, 1.2106, 1.0951, 0.5119, 1.5318, 0.7839, 0.6537, 0.6507, 1.0623, 0.2155, 0.5798, 0.0238, -0.2459, -0.1493, -0.8842, 0.3424, 0.4533, 0.0658, -0.1657, -0.9732, 0.7269, 2.8073, 2.8073, 2.8073, 2.8073, 2.8073, 2.8073, 2.8073, 2.8073, 2.8073, 2.8073, 2.8073, 2.8073, 2.8073, 2.8073, 2.8073, 2.8073, 2.8073, 2.8073, 2.8073, 2.8073, 2.8073, 2.8073, 2.8073, 2.8073, 2.8073, 2.8073, 2.8073, 2.8073, 2.8073, 2.8073, 2.8072, 2.8045, 2.7606, 2.6872, 2.3755, 2.5993, 2.3277, 2.5463, 2.2645, 1.9031, 2.4075, 1.692, 1.855, 1.4917, 1.8689, 2.1065, 0.4422, 1.3731, 1.1712, 0.9945, 1.6736, 1.1801, 0.771, 0.7524, 0.541, 0.7095, 3.997, 3.997, 3.997, 3.997, 3.997, 3.997, 3.997, 3.997, 3.997, 3.997, 3.997, 3.997, 3.997, 3.997, 3.997, 3.997, 3.997, 3.997, 3.997, 3.997, 3.997, 3.997, 3.997, 3.997, 3.997, 3.997, 3.997, 3.997, 3.9969, 3.9969, 3.9607, 2.8849, 2.8925, 3.249, 1.7218, 3.7561, 4.0373, 4.0373, 4.0373, 4.0373, 4.0373, 4.0373, 4.0373, 4.0373, 4.0373, 4.0373, 4.0373, 4.0373, 4.0373, 4.0373, 4.0373, 4.0373, 4.0373, 4.0373, 4.0373, 4.0373, 4.0373, 4.0373, 4.0373, 4.0373, 4.0373, 4.0373, 4.0373, 4.0373, 4.0373, 4.0373, 3.4629, 2.42, 3.5681, 3.1515, 4.2113, 4.2113, 4.2113, 4.2113, 4.2113, 4.2113, 4.2113, 4.2113, 4.2113, 4.2113, 4.2113, 4.2113, 4.2113, 4.2113, 4.2113, 4.2113, 4.2113, 4.2113, 4.2113, 4.2113, 4.2113, 4.2113, 4.2113, 4.2113, 4.2113, 4.2113, 4.2113, 4.2112, 4.2112, 4.2112, 4.0631, 3.3801, 4.4493, 4.4493, 4.4493, 4.4492, 4.4492, 4.4492, 4.4492, 4.4492, 4.4492, 4.4492, 4.4492, 4.4492, 4.4492, 4.4492, 4.4492, 4.4492, 4.4492, 4.4492, 4.4492, 4.4492, 4.4492, 4.4492, 4.4492, 4.4492, 4.4492, 4.4492, 4.4492, 4.4492, 4.4492, 4.4491, 3.8293, -0.2062, 0.3714, 4.557, 4.557, 4.557, 4.557, 4.557, 4.557, 4.557, 4.557, 4.557, 4.557, 4.557, 4.557, 4.557, 4.557, 4.557, 4.557, 4.557, 4.557, 4.557, 4.557, 4.557, 4.557, 4.557, 4.557, 4.557, 4.557, 4.557, 4.5569, 4.5569, 4.5569], \"logprob\": [30.0, 29.0, 28.0, 27.0, 26.0, 25.0, 24.0, 23.0, 22.0, 21.0, 20.0, 19.0, 18.0, 17.0, 16.0, 15.0, 14.0, 13.0, 12.0, 11.0, 10.0, 9.0, 8.0, 7.0, 6.0, 5.0, 4.0, 3.0, 2.0, 1.0, -4.8315, -5.9141, -5.9195, -6.0259, -6.0771, -6.3025, -6.7353, -6.7479, -6.8286, -6.9559, -7.004, -7.0156, -7.022, -7.0455, -7.0972, -7.1155, -7.1735, -7.1862, -7.2069, -7.2245, -7.2699, -7.3059, -7.3195, -7.3267, -7.3786, -7.3872, -7.4195, -7.4208, -7.4481, -7.5182, -7.2593, -7.2911, -5.4734, -5.9595, -3.4064, -5.0007, -4.5429, -5.2776, -5.7964, -4.8434, -4.634, -5.9442, -5.7592, -6.3489, -5.662, -6.599, -4.2345, -5.6753, -6.4015, -4.927, -3.559, -4.5752, -4.3703, -4.7522, -4.86, -4.8244, -4.0231, -5.0552, -5.184, -4.8109, -4.2036, -4.6944, -4.7355, -5.2751, -4.3001, -5.088, -4.9061, -4.6501, -5.1834, -4.6657, -4.1385, -5.0106, -4.7686, -4.658, -4.8621, -5.0665, -3.9711, -4.1555, -5.4643, -6.0013, -6.0033, -6.189, -6.4424, -6.4452, -6.7047, -6.7201, -6.856, -6.9881, -5.7524, -7.5585, -7.6092, -7.6529, -7.6627, -7.8997, -7.9451, -8.029, -8.3352, -8.3673, -8.4276, -8.4421, -8.4525, -8.4545, -8.5083, -8.5454, -8.5685, -8.5882, -3.5732, -4.7983, -4.9978, -3.8787, -5.6995, -5.8813, -5.3378, -5.5822, -8.096, -3.3763, -5.4224, -3.639, -5.675, -7.1471, -5.3208, -5.1143, -5.5232, -5.3096, -5.0077, -4.4469, -4.7586, -5.3571, -4.9147, -4.3539, -3.8578, -5.2903, -3.3979, -3.9949, -4.7938, -4.8727, -3.2561, -4.3353, -4.7649, -3.7557, -3.9732, -4.9406, -4.6186, -5.0096, -4.4774, -4.9051, -4.6811, -4.4592, -4.4503, -4.4922, -4.6702, -4.6273, -4.6557, -4.76, -4.7747, -6.1711, -6.683, -6.7033, -6.8972, -7.0118, -7.0483, -7.1295, -7.2042, -7.2279, -7.2977, -7.471, -7.5143, -7.6207, -7.693, -7.7868, -7.7909, -7.8047, -7.8072, -7.9016, -7.9387, -7.9728, -7.9814, -7.9954, -8.0571, -8.0699, -8.1346, -8.1518, -8.2526, -8.2684, -8.4174, -5.059, -4.1111, -3.3674, -4.6263, -3.9175, -3.143, -5.5669, -2.6166, -4.4663, -3.3939, -4.2833, -5.1873, -3.8444, -5.3912, -3.316, -4.4489, -3.9, -4.6933, -3.6701, -3.8599, -4.5173, -3.8395, -4.7658, -4.4505, -4.5598, -4.2856, -4.0219, -4.9878, -4.2557, -4.2384, -4.6562, -3.8403, -4.4935, -4.4144, -4.3061, -4.6221, -4.6217, -4.6447, -4.1281, -4.6727, -4.7711, -5.2288, -5.3931, -5.4056, -5.4649, -5.5329, -5.8173, -5.8515, -5.9942, -6.0416, -6.1596, -6.183, -6.2145, -6.2574, -6.2596, -6.2854, -6.3154, -6.3657, -6.4296, -6.4744, -6.4841, -6.4914, -6.5008, -6.5295, -6.5772, -6.5997, -6.6218, -6.6324, -5.1019, -5.3044, -4.2233, -5.1256, -5.6153, -5.2167, -5.2961, -5.7844, -6.111, -3.9763, -5.1258, -5.4659, -5.2562, -5.0553, -5.1636, -4.9773, -4.1067, -5.9373, -4.8155, -4.6642, -4.7448, -5.2614, -4.4274, -4.8768, -4.5057, -4.4469, -4.5827, -4.4062, -4.952, -5.0073, -4.9463, -4.9379, -5.0685, -5.2392, -4.1099, -4.3417, -4.358, -4.6121, -4.8468, -4.8638, -4.9509, -5.2231, -5.2886, -5.3072, -5.3902, -5.4024, -5.5428, -5.5507, -5.5563, -5.5781, -5.6079, -5.6399, -5.6257, -5.6782, -5.899, -5.9212, -5.9354, -5.9583, -5.9702, -5.9881, -5.9901, -5.9902, -6.0328, -6.048, -3.1202, -4.4012, -3.8922, -4.2985, -3.0483, -4.9108, -4.2962, -5.08, -4.2118, -3.5898, -4.8884, -4.2927, -4.5962, -4.2605, -4.7888, -4.9943, -3.9225, -4.8242, -4.7276, -4.6854, -5.0018, -4.8923, -4.8036, -4.8471, -4.8163, -4.9042, -2.3675, -3.2624, -3.3951, -3.7341, -3.8577, -3.9262, -3.9505, -3.9856, -4.1609, -4.2349, -4.316, -4.4175, -4.5472, -4.5581, -4.5934, -4.606, -4.6553, -4.6975, -4.7102, -4.7198, -4.7983, -4.8607, -4.8887, -4.9206, -5.0552, -5.0744, -5.0942, -5.1113, -5.1792, -5.1888, -4.7082, -2.5838, -3.0531, -4.253, -3.9406, -4.988, -2.256, -2.8317, -3.8925, -3.9463, -4.0947, -4.1949, -4.2002, -4.2294, -4.2505, -4.3331, -4.4103, -4.4298, -4.4787, -4.4812, -4.5205, -4.5432, -4.5464, -4.6021, -4.6023, -4.6423, -4.6538, -4.6571, -4.6822, -4.6974, -4.8041, -4.8708, -4.9123, -4.9237, -4.928, -4.986, -4.166, -4.1002, -4.8661, -4.848, -2.5669, -2.6076, -3.4567, -3.4864, -3.5903, -3.8084, -3.9033, -4.0051, -4.0412, -4.0863, -4.1256, -4.1498, -4.1535, -4.3003, -4.5831, -4.5926, -4.6505, -4.6799, -4.709, -4.7132, -4.7299, -4.7321, -4.782, -4.7955, -4.8917, -4.8944, -4.9363, -4.9386, -4.9772, -5.0062, -3.8019, -4.2646, -3.435, -3.7098, -3.741, -3.9257, -3.9883, -4.0241, -4.2073, -4.2365, -4.4261, -4.4358, -4.451, -4.4953, -4.5348, -4.539, -4.5664, -4.6432, -4.7028, -4.7304, -4.7914, -4.7922, -4.7995, -4.7998, -4.8455, -4.9078, -4.9366, -5.0215, -5.0852, -5.173, -5.1841, -5.2349, -4.3899, -4.2795, -4.7137, -2.8023, -3.1699, -3.2936, -3.3178, -3.458, -3.5253, -3.5673, -3.5827, -3.5831, -3.6442, -3.9233, -4.0075, -4.0242, -4.0472, -4.0719, -4.252, -4.3215, -4.3552, -4.3696, -4.3845, -4.3866, -4.4139, -4.4223, -4.4281, -4.4498, -4.46, -4.5007, -4.5958, -4.6662, -4.6729]}, \"token.table\": {\"Topic\": [9, 1, 2, 4, 1, 2, 3, 5, 10, 3, 1, 3, 4, 6, 9, 1, 2, 8, 10, 2, 9, 8, 7, 2, 6, 1, 2, 3, 10, 10, 9, 8, 10, 9, 1, 2, 1, 2, 3, 4, 1, 2, 3, 4, 5, 9, 1, 2, 3, 4, 5, 1, 2, 3, 4, 1, 5, 2, 10, 8, 5, 10, 1, 8, 2, 3, 1, 2, 4, 2, 3, 5, 2, 9, 2, 4, 4, 8, 1, 2, 3, 3, 1, 2, 3, 4, 4, 2, 5, 2, 9, 1, 2, 3, 4, 6, 7, 9, 2, 3, 4, 1, 2, 4, 7, 6, 1, 2, 3, 4, 5, 5, 5, 1, 5, 2, 4, 6, 2, 6, 8, 3, 5, 2, 3, 3, 2, 4, 9, 1, 3, 9, 10, 5, 1, 3, 4, 5, 6, 3, 10, 9, 2, 4, 1, 9, 10, 1, 2, 3, 4, 5, 6, 6, 8, 3, 5, 10, 3, 1, 2, 9, 1, 2, 3, 4, 5, 1, 2, 3, 4, 5, 1, 2, 4, 6, 2, 4, 5, 10, 1, 6, 1, 2, 3, 4, 1, 2, 3, 4, 5, 1, 2, 3, 4, 5, 7, 1, 9, 3, 1, 9, 1, 2, 5, 4, 2, 1, 2, 3, 5, 2, 6, 2, 3, 4, 9, 8, 10, 9, 5, 7, 1, 2, 4, 5, 1, 2, 3, 4, 5, 1, 3, 5, 1, 2, 3, 4, 5, 1, 3, 4, 5, 1, 4, 8, 2, 2, 2, 6, 1, 2, 4, 5, 8, 4, 1, 2, 9, 1, 2, 4, 5, 4, 9, 10, 4, 5, 5, 1, 2, 3, 4, 5, 10, 1, 2, 3, 4, 5, 8, 8, 6, 1, 1, 4, 5, 1, 2, 3, 4, 5, 3, 4, 1, 2, 3, 4, 5, 6, 1, 4, 5, 1, 2, 3, 4, 2, 4, 8, 1, 2, 3, 4, 5, 1, 2, 3, 4, 4, 8, 5, 4, 1, 2, 4, 5, 3, 4, 7, 5, 5, 4, 5, 1, 2, 3, 4, 5, 1, 2, 3, 4, 5, 8, 1, 1, 2, 3, 4, 6, 1, 5, 8, 2, 4, 7, 10, 9, 2, 9, 4, 4, 5, 4, 9, 1, 2, 3, 4, 5, 6, 2, 3, 1, 2, 3, 8, 5, 1, 2, 3, 4, 6, 1, 3, 1, 2, 3, 4, 5, 1, 2, 3, 4, 8, 1, 4, 3, 1, 1, 5, 6, 8, 4, 5, 2, 2, 4, 5, 6, 3, 7, 10, 3, 7, 7, 10, 3, 8, 8, 7, 1, 8, 3, 8, 5, 2, 10, 3, 10, 1, 2, 4, 1, 9, 1, 2, 4, 5, 5, 10, 1, 1, 4, 5, 1, 2, 4, 5, 1, 2, 3, 4, 5, 7, 4, 1, 1, 2, 3, 4, 5, 1, 2, 3, 4, 1, 2, 3, 4, 4, 10, 7, 1, 2, 3, 4, 4, 1, 2, 3, 4, 5, 2, 10, 1, 2, 3, 4, 5, 1, 2, 4, 5, 9, 7, 4, 3, 1, 4, 9, 6, 5, 1, 8, 1, 8, 7, 4, 8, 1, 2, 4, 9, 2, 1, 4, 5, 4, 7, 9, 3, 8, 2, 1, 2, 4, 1, 2, 4, 1, 2, 3, 4, 5, 1, 2, 3, 4, 6, 9, 2, 3, 4, 5, 1, 1, 2, 3, 4, 5, 2, 4, 3, 9, 1, 1, 1, 1, 1, 2, 4, 2, 1, 2, 3, 5, 9, 6, 1, 3, 1, 2, 3, 4, 7, 7, 1, 2, 3, 9, 9, 5, 5, 1, 2, 3, 4, 1, 4, 6, 1, 1, 2, 3, 4, 5, 2, 2, 7, 3, 1, 2, 1, 2, 3, 1, 4, 1, 2, 3, 4, 6, 2, 4, 6, 10, 1, 2, 3, 4, 5, 7, 9, 1, 2, 3, 5, 7, 8, 5, 1, 1, 2, 3, 4, 5, 2, 9, 1, 9, 1, 2, 6, 10, 10, 1, 2, 3, 4, 5, 1, 5, 6, 8, 7, 6, 3, 7, 7, 10, 9, 7, 4, 1, 4, 10, 4, 2, 1, 2, 4, 4, 1, 3, 4, 1, 2, 4, 5, 4, 10, 1, 2, 3, 4, 1, 4, 1, 2, 3, 4, 4, 6, 3, 3, 6, 6, 2, 4, 6, 2, 4, 9, 7, 7, 2, 3, 4, 2, 3, 4, 5, 9, 9, 7, 1, 2, 3, 4, 5, 9, 2, 1, 2, 7, 5, 1, 2, 3, 5, 8, 1, 2, 3, 4, 5, 2, 3, 1, 2, 3, 4, 5, 8, 9, 8, 1, 2, 3, 4, 5, 1, 7, 4, 10, 7, 2, 7, 2, 9, 3, 1, 2, 3, 7, 1, 3, 2, 2, 2, 4, 5, 3, 4, 1, 2, 9, 1, 2, 3, 9, 1, 2, 4, 2, 4, 4, 4, 1, 4, 5, 5, 6, 1, 1, 2, 3, 5, 7, 1, 5, 6, 6, 1, 4, 2, 4, 5, 1, 2, 3, 5, 8, 1, 2, 3, 4, 7], \"Freq\": [0.9996329528754957, 0.11266518883859197, 0.6898669732663343, 0.19746813274359692, 0.2300533050338423, 0.12094110619619926, 0.48582711681529256, 0.16320524494349617, 0.9997921134734125, 0.9993133518423805, 0.48789142776077277, 0.11614515128588387, 0.06188955244576441, 0.32883936759316124, 0.005214262953855703, 0.12025788305792393, 0.8797742433597109, 1.0001776150529396, 0.9999990999585306, 0.994303359074012, 0.005688957553506744, 1.0000470891945594, 0.999907019478285, 1.0004429341941798, 0.9997996337863666, 0.37130822188575974, 0.16014547360991788, 0.4685608913451344, 0.9999639168973217, 0.9996166341381636, 0.9997542508238417, 1.000161108196145, 0.9999715295768014, 0.9999673832738245, 0.9999964459261487, 1.0002308789787158, 0.19260280074148303, 0.13377360519336473, 0.65595852650192, 0.017674750945237308, 0.03798934497114607, 0.4605957582824183, 0.24099043403700648, 0.2602570724436239, 0.00017176795013329043, 1.0000095712068569, 0.2677238609873165, 0.022393767359020694, 0.06709027050243191, 0.25698213518095697, 0.38579181328264106, 0.26120848964990245, 0.4119423879869535, 0.15032503604499758, 0.17651948022255745, 5.391768361942843e-05, 0.9999034427223003, 0.9998112338350362, 1.0004209376736477, 1.0002466342340812, 1.0002916472400725, 0.9995308504636865, 0.999757455738874, 0.99996319108714, 1.0001699497114538, 1.0006258852560863, 0.3999339929182092, 0.5934531959830527, 0.006575895249776234, 0.3083093882267871, 0.6916890366914121, 1.0000654534372837, 0.9932382646326754, 0.0067974351220863, 0.20851986804339104, 0.7915359735248853, 0.9999920502394707, 0.999526344311398, 0.501278736074814, 0.15722149369921332, 0.3415105065975028, 0.9989630341230978, 0.00016858046862939217, 0.11901781085235087, 0.260709694735355, 0.6201232538532191, 0.9999936689382158, 0.22965785199495284, 0.7703414213900023, 0.9993502631516709, 0.9992596757083041, 0.4929526521540769, 0.08521525018301708, 0.07983439031321317, 0.010651906272877135, 0.33136213585986346, 1.0001872448907125, 1.000208012530198, 0.9993423444104311, 0.9989109606713403, 0.9999314469195956, 0.0033047777062821027, 0.8996339311545724, 0.09372716772538964, 0.003396577087012161, 1.0002177173480087, 0.5772615502803505, 0.03724268066324842, 0.15236706774492514, 0.13374572741330093, 0.09943093044999342, 1.00003571371623, 1.000051045538184, 0.3809656189190027, 0.6190015069115634, 0.38038026712420075, 0.14632013013264944, 0.47332739605188023, 1.0000787886323363, 0.9999224437879028, 1.0000118972042518, 1.000896334855481, 0.999612892814209, 1.0007573365902067, 1.000376010927562, 1.000251426765555, 0.9925288216682393, 0.0002180902706368357, 0.007415069201652414, 0.45922459193898524, 0.0026668094769975916, 0.5381621524581139, 0.9998285996192889, 0.9998384557374626, 0.8030694691789548, 0.07420989021046308, 0.12228953738907296, 0.0005226048606370639, 0.9996267156458886, 1.0005273881625367, 0.999597597943327, 0.9997784503327408, 1.000032194299174, 0.999987497041386, 1.00001995043646, 1.0004900913850638, 1.0000038838038179, 0.0006517164836899219, 0.33732845195790356, 0.008276799342862007, 0.004399086264906973, 0.6493377185244537, 1.000020262493875, 1.000110942973915, 1.0000063361838447, 1.000355242898762, 1.0000221971544394, 0.9998948522367914, 0.9995886420023055, 0.5643078256733335, 0.4356740254039105, 1.0002619947802895, 3.8371128100654964e-05, 0.29425858862189774, 0.5609954856136008, 0.14452485399111692, 0.00019185564050327482, 0.038982442631255346, 0.004025360923879628, 0.17372610303059446, 0.1129219669698864, 0.6703285243765865, 0.0863083030915242, 0.8853781372201868, 0.028307966300068984, 0.9998772971931899, 0.43934315446430455, 0.15579346381782777, 0.4048465291276811, 1.0004198883280295, 0.9998038044156008, 0.999913284911727, 0.48192152692486767, 0.09781091817757351, 0.31952218026040496, 0.10069345772426523, 0.2018745223954111, 0.22093527251667316, 0.4177874385309263, 0.15916634006021502, 0.00024204127138110557, 0.009481930297955557, 0.24838998758020556, 0.5700438931860934, 0.06838575452834185, 0.10369146284034357, 1.000014882324886, 0.9997978983887139, 1.0006357231081473, 1.0004569476047775, 0.9998205219298374, 1.000238581850097, 0.7726237951494395, 0.2249887178446348, 0.002368302293101419, 0.9999943480759893, 0.9992420767068316, 0.22045947283061368, 0.24568336421259182, 0.5272392283061499, 0.006588826508748907, 1.0005593360768275, 0.9998579841210729, 0.37850014021627004, 0.5374719317696818, 0.08399081848012677, 1.0002776972685743, 0.9997508035133018, 1.0000676184852693, 0.9994698930165671, 0.99949470204466, 0.9998271161368547, 0.3574426186144419, 0.1269066779927292, 0.12433273302462271, 0.3912396351521881, 0.20003384041733951, 0.2756667311027808, 0.523223718959398, 0.0009923208463023065, 9.021098602748242e-05, 0.8542241038279599, 0.13378355567147965, 0.012002463419104301, 0.012893023320081002, 0.17307482391630474, 0.7259332695436911, 0.0881490398731625, 1.0002816029409414, 0.2509852470697986, 6.232561387380149e-05, 0.5524542413773764, 0.1964503349302223, 0.9999067035909175, 0.1377315254532364, 0.8623191158811322, 1.0000076451156754, 1.0000384571822374, 1.0000897509000217, 1.0003381866811139, 0.0982918409230237, 0.06925106974122124, 0.757646678119575, 0.07477704644383143, 1.0000847800077923, 1.0000523107728703, 0.011246506471486683, 0.9824085627087772, 0.006351653913948438, 0.13619934155358487, 0.8333229073842513, 0.030495812166038364, 0.9998974607734558, 0.9999226776740247, 0.9992757461541665, 0.9993357948005477, 0.11325410734735096, 0.8867687856497658, 1.0001568868725454, 0.004470026302197294, 0.6106907362382875, 0.2909242118346739, 0.09225637618146082, 0.0016673907635180382, 0.9997347387608265, 0.4309355140293671, 0.22132968588799404, 0.27137939288725915, 0.0727437459230814, 0.0036008991650335765, 1.000065708113005, 1.0004091851563477, 1.0002240790664612, 1.0000252279298947, 0.8059909536723531, 0.1324313976458417, 0.06159182290511688, 0.24759835608168868, 0.23153388959068388, 0.4547454239920134, 0.058107280754356797, 0.008007365650315073, 0.9436756544710366, 0.05634866245331237, 0.5638130332322523, 0.0011167890761698198, 0.2833748874384976, 0.04798056771692559, 0.0009099762842865198, 0.10278595756600008, 0.21985218258900763, 0.45827219199770863, 0.3218043605253609, 0.5624224506693895, 0.08773790230442476, 0.19447318516479334, 0.1554160705349746, 0.2792738714035084, 0.28527976111111075, 0.43542700380116905, 0.7808612544037328, 4.171935964116754e-05, 0.11681420699526911, 0.10187867624373112, 0.0003754742367705078, 0.7155627231212257, 0.022769547651090304, 0.13186717619248217, 0.12980191109941275, 0.999809725983621, 0.999750015816969, 0.9998857842130239, 0.9999078803783839, 0.12560100910981425, 0.7959473101086825, 0.053950954524741246, 0.024471424520715965, 1.0000716096706865, 0.43684856857261395, 0.5630558343239713, 1.0003423364270323, 0.9999507574916633, 0.5037653512444029, 0.49626988062035127, 0.20711158978133512, 0.12033694267750439, 0.6119420425968063, 0.06060077256979483, 1.0001696593251928, 0.8959090493337414, 0.07161446133408852, 0.02755336054718321, 0.0008496631005739316, 0.004248315502869658, 1.0003484228795672, 0.9996256228058654, 0.017991597945073254, 0.34193538700187637, 0.28580666946900696, 0.35428877291486677, 0.9997660911726568, 0.18792478867560283, 0.812066056092619, 0.999921281668217, 0.9753280372121683, 0.02462949588919617, 1.0000285173158183, 1.000327801660816, 0.9994542798340071, 0.9940109451661253, 0.0060088589834186, 1.0000688273416292, 0.8550638374269626, 0.14486202313509236, 0.9998593202023593, 1.000452311535797, 0.3503955977844731, 0.12464488315301794, 0.4124298060751709, 0.03817489740966017, 0.074332161818642, 0.9998404429310395, 0.2630161088306964, 0.7369892531029935, 0.01836165225300937, 0.9815833266921259, 1.0009909882267598, 0.999697931759124, 1.0002802174609655, 0.7595392748014803, 0.07071145885102009, 0.16967363684881906, 6.512383390221043e-05, 1.0001484300565804, 0.7414818877397974, 0.2584025557731951, 0.2695781024509828, 0.11071231458160857, 0.5141304087188588, 0.011648576011188738, 0.09393429772747156, 0.35008967377280276, 0.2124811708274005, 0.24348271854295392, 0.18925998575296582, 0.004689533646701673, 0.08820086075449912, 0.9117284627992246, 1.000538370887491, 0.999317705440165, 0.9998266698144037, 1.0001360638537553, 0.999822740955422, 1.0000587684858342, 0.002903826045045211, 0.9971738638685255, 0.999243487160093, 0.08888530518724305, 0.9103621561725487, 0.0007122219966926528, 1.000163146187856, 0.9994051805916923, 1.0000278954556059, 0.9997977534366618, 1.0001041056572393, 0.9997198266671722, 0.9997556569911902, 0.9998622081787027, 1.0004035151378134, 0.9998534152775135, 0.9993920290592966, 1.0002479171342535, 1.0000091021986186, 0.9998603525842225, 0.9997506004013132, 0.9997472448401145, 1.0002283904138811, 1.0001277694520287, 0.9996631789884926, 1.000022938398901, 1.0000213961075102, 0.09663453597605595, 0.07540921497722237, 0.8279193532464275, 1.0000826485775098, 0.9992850336583711, 0.08132322472874468, 0.16013561233035828, 0.7585517942965927, 0.9999661283627718, 1.000032009141496, 0.9999499037409642, 1.0001599244558155, 0.0012249697922007009, 0.04443299518982542, 0.9543628290145459, 0.08360691866463763, 0.2061693724248424, 0.6821795662819033, 0.028072396047980515, 0.5311674988343017, 0.019169161474320347, 0.08828366110191573, 0.35533294274187394, 0.0060379927579663475, 0.9999410624143918, 0.9999054289987229, 1.0002008145420742, 0.23157564165194036, 0.21955579517480417, 0.1755503628341403, 0.32999023899835234, 0.043332051585642226, 0.28925751764507157, 0.0830699417365455, 0.03286522585734071, 0.5948388229676302, 0.034955353578171006, 0.4706803091436982, 0.42453061146901167, 0.06984165954433576, 1.00008578425153, 0.9994285408185591, 1.0003153815229155, 0.058865374691990976, 0.6165283998058189, 0.12866531850386093, 0.19591575138104406, 1.0000403059660308, 0.4013677669386654, 0.1976745178257463, 0.3716184023349068, 0.0254265893784375, 0.0039147256465297455, 0.9998858640592958, 1.0004561212041874, 0.6732299101007021, 0.0028368088913940746, 0.07509663537495981, 0.12608039517307, 0.1227313846762853, 0.29696258814262777, 0.6136630299813713, 0.07295110726084404, 0.016421894275168356, 1.000051130837968, 0.9997500411996405, 1.0001387034871436, 1.0001995834272026, 0.9994634091949758, 0.9997897412511635, 1.0006563323539566, 1.000115668754741, 1.000176884746556, 0.9997308631684481, 1.0001863056210902, 0.9999679431528105, 0.9999462113223407, 0.9997273286454418, 0.999795951626096, 1.0001253403165602, 0.24687328906470712, 0.691460282563937, 0.056226274920773374, 0.005479245370239299, 1.000083009254171, 0.17483427210412342, 0.24409590045503615, 0.581069590949369, 0.37427298731755354, 0.6255516713823421, 0.9999066464141697, 0.999164738818547, 0.9999153798533452, 0.9997721557088335, 0.08361896246269229, 0.8543123655408905, 0.06199885049515208, 0.08182832190716666, 0.8489826434848816, 0.0692393493060641, 0.2811049693105241, 0.21694653434072042, 0.3321022642322605, 0.15659209339771296, 0.013263032745213513, 0.18015312156741892, 0.5471121256666546, 0.2348515754144266, 0.037875170641146955, 0.9641758267633965, 0.035957988335495274, 0.2748021051542759, 0.41587339996688544, 0.3083294766862424, 0.0009903828254447086, 0.9997041063663129, 0.2303353040080516, 0.10922476810634757, 0.12759721309720903, 0.4047375830967787, 0.12810216401661959, 0.9999324004478651, 1.0000338740233838, 0.9995227065424758, 1.000097815598679, 0.999918373965212, 0.9999924482442508, 0.9998251702790445, 1.000128160362529, 0.000473295989607903, 0.7087269375814341, 0.2908065787576558, 1.0000435953005753, 0.30815790942946925, 0.3395895030224001, 0.35227210521849817, 1.0000720025797296, 1.0001085427166074, 0.9998747398091777, 0.9997617789361434, 1.0000003940021998, 0.13641663797293524, 0.30568242571877136, 0.48156863295830177, 0.07633183151730494, 0.9996171271997518, 0.9998651093704625, 0.4226901041078183, 0.3219378317246492, 0.2458564836608985, 0.009507002321582874, 1.0004935151301368, 1.0001957572226985, 0.999961192592279, 0.06579687795000783, 0.205573209813142, 0.3463583524114552, 0.38228322359199607, 0.10251735449884787, 0.8973621890058029, 0.9999937252458116, 1.000070265953937, 0.3342626469436641, 0.1020390238064116, 0.10117927149939528, 0.1942587712642683, 0.26828796991051634, 1.000364254663456, 0.8016056476106349, 0.19837764779657274, 0.9994649443228775, 0.8429653040157951, 0.1570327191909174, 0.488194301777586, 0.4366799274770297, 0.07508951153504663, 0.8538011154815217, 0.14618787811856143, 0.07026698315942696, 0.5057943914175536, 0.31555014614634475, 0.10839635386609275, 1.0000864603923925, 0.9998773134678405, 0.2136577328345753, 0.7861162153238382, 1.0002928042747965, 0.17014056279323464, 0.22924293033039228, 0.40268614550974274, 0.1973820484878632, 0.0005612350460066101, 0.9995359138776786, 1.0005483658591359, 0.11651109671090723, 0.2557521341153294, 0.6276929544352751, 4.0301313286374e-05, 1.0001410653442664, 1.000153092464323, 0.9999722068770559, 1.000026736397852, 0.07768204381961238, 0.26448375416484055, 0.4958668031938379, 0.12483847787861742, 0.03712429165964901, 0.9940251231904818, 0.005973578131539575, 1.000119438621327, 1.0000672196896485, 0.0607864330719609, 0.9393351011175395, 0.9998676270082271, 0.9999416359789506, 1.000227747783429, 0.13865544081909154, 0.07315717191420827, 0.2789221809051722, 0.5047342638932218, 0.004540934297878488, 1.0000471160762605, 1.0000598411973107, 0.9999639800070383, 0.9996743991881888, 1.000077661615739, 0.9997797136163091, 1.0004896649926618, 1.0001477264991385, 0.9999517827960199, 1.000129749244495, 1.0001830469105506, 1.0000994407318817, 0.9997984997908412, 1.0000556614155762, 0.9998222856576173, 0.999816790532786, 0.9997543087812952, 1.0000093594481814, 0.18844979261792857, 0.7878412888446944, 0.02370437642992812, 0.9999902230611509, 0.11732802479728892, 0.0026482282338936656, 0.8799026158006692, 0.16824179237637285, 0.13876546756649621, 0.6930110703762076, 0.999977443768357, 1.0001569566984105, 1.0003214282484918, 0.20298843798961777, 0.2053911095464718, 0.36238554916202675, 0.22923874400518443, 0.853429075194077, 0.14654001681381223, 0.14710889324089207, 0.5439922066860169, 0.27656652044247293, 0.03237566398536927, 1.0001381655650994, 1.0000629218861596, 1.0002956172411233, 1.0000425143492973, 1.0004906498006179, 0.9994151647262186, 0.9264340651133857, 0.07356156086512458, 1.0000592112414726, 0.7800904752067792, 0.2187406201354646, 0.0011435282606036237, 0.9998249284726185, 0.9999633182615495, 0.3431827789067351, 0.6413903328538406, 0.015476463092343684, 0.28340605301287564, 0.6259595344937777, 0.07340597620236806, 0.0002786686853617263, 0.016952345026171683, 0.999951157225342, 1.0002497493215172, 0.4914471738918767, 0.019561843248749797, 0.18135311719418587, 0.06934920602986391, 0.23827313762195604, 1.0000051685852107, 1.0010811345747344, 0.35150679080977143, 0.23633586909499857, 0.412303336845079, 0.9995114103240202, 0.407052800277685, 0.08709603939561714, 0.4434861524844692, 0.06232761454774326, 3.1273263696810465e-05, 0.4352683933655582, 0.0008906551140123363, 0.29423053648784003, 0.07491981253162594, 0.19473912110493258, 1.0004185945599133, 0.9982128535529629, 0.5234719986902823, 0.0991962795225953, 0.23798477748761832, 0.08919035820372538, 0.05017342887203349, 0.9999721184517326, 1.0000758181983311, 0.9996380285710079, 0.27897646781975427, 0.024094979414641077, 0.2511701764099671, 0.11790552723041191, 0.3277944948328304, 0.9999249932496426, 1.000036363184191, 0.999973222570616, 1.00023258118447, 1.000231239723714, 0.9990793183034012, 0.9999329751104957, 0.9794035825667222, 0.02062033828295383, 0.9993985318748746, 0.600467135628184, 0.20985966025131872, 0.18965095222711764, 1.0001975991948548, 0.9173293503460985, 0.08265867025590533, 0.9999307856638164, 1.0001156308950319, 0.9997067631636651, 0.9260535666698988, 0.07395648852142687, 0.9999794004004585, 0.999959341227139, 0.8921691489732964, 0.1080288322347624, 1.000254989302988, 0.5470065101699849, 0.17088999326414428, 0.27934010494980194, 0.0027743051826563587, 0.02306049752551325, 0.9351921270881542, 0.04174050752980455, 0.9482443517013444, 0.05175114987066079, 1.0000197069879464, 0.9999157221743129, 0.07754362618989581, 0.8402329906329806, 0.0824299368813139, 1.0002565378124675, 1.00006295676497, 0.9997222456257545, 0.5351704113501935, 0.00018944085357528974, 0.3341357775360961, 0.13048685994265957, 0.999634760856744, 0.7253729825141068, 0.27466045955938656, 1.0004882092883405, 1.00016872653032, 0.9997418429852304, 0.9999535441741025, 1.000517071507372, 1.000069328906738, 0.9998695535181301, 0.43772684049955424, 0.13100509854926043, 0.43046087429418395, 0.0008164006972326159, 0.99981751906728, 0.2552168192854959, 0.09311207033273038, 0.11699106943699342, 0.5346331611531644, 0.9998071437079221], \"Term\": [\"abbi\", \"access\", \"access\", \"access\", \"accommod\", \"accommod\", \"accommod\", \"accommod\", \"adam\", \"ahead\", \"airbnb\", \"airbnb\", \"airbnb\", \"airbnb\", \"airbnb\", \"airport\", \"airport\", \"airstream\", \"alan\", \"alberta\", \"alberta\", \"alex\", \"alison\", \"alphabet\", \"amanda\", \"amaz\", \"amaz\", \"amaz\", \"amber\", \"andi\", \"andrea\", \"andrew\", \"angela\", \"ann\", \"answer\", \"anybodi\", \"anyon\", \"anyon\", \"anyon\", \"anyon\", \"apart\", \"apart\", \"apart\", \"apart\", \"apart\", \"appart\", \"appreci\", \"appreci\", \"appreci\", \"appreci\", \"appreci\", \"area\", \"area\", \"area\", \"area\", \"arriv\", \"arriv\", \"art\", \"arthur\", \"arti\", \"artist\", \"ashley\", \"attend\", \"attent\", \"autom\", \"avenu\", \"away\", \"away\", \"away\", \"awesom\", \"awesom\", \"bag\", \"bar\", \"bar\", \"basement\", \"basement\", \"bathroom\", \"bathtub\", \"beauti\", \"beauti\", \"beauti\", \"becca\", \"bed\", \"bed\", \"bed\", \"bed\", \"bedroom\", \"beer\", \"beer\", \"belmont\", \"benjamin\", \"best\", \"best\", \"best\", \"best\", \"best\", \"beth\", \"bien\", \"biketown\", \"biscuit\", \"blanket\", \"block\", \"block\", \"block\", \"block\", \"blue\", \"book\", \"book\", \"book\", \"book\", \"book\", \"bottl\", \"brand\", \"breakfast\", \"breakfast\", \"breez\", \"breez\", \"breez\", \"breweri\", \"brian\", \"brook\", \"brother\", \"brought\", \"burnsid\", \"bustl\", \"cabin\", \"cafe\", \"cafe\", \"cafe\", \"calm\", \"calm\", \"calm\", \"camper\", \"cancel\", \"care\", \"care\", \"care\", \"care\", \"carol\", \"carolyn\", \"carriag\", \"casa\", \"casita\", \"ceil\", \"center\", \"centr\", \"chad\", \"check\", \"check\", \"check\", \"check\", \"check\", \"checkin\", \"checkout\", \"chic\", \"chicken\", \"chocol\", \"chri\", \"christoph\", \"citi\", \"citi\", \"clair\", \"clean\", \"clean\", \"clean\", \"clean\", \"clean\", \"clear\", \"clear\", \"clear\", \"clear\", \"clear\", \"close\", \"close\", \"close\", \"coast\", \"coffe\", \"coffe\", \"coffe\", \"colin\", \"colleg\", \"columbia\", \"come\", \"come\", \"come\", \"come\", \"comfort\", \"comfort\", \"comfort\", \"comfort\", \"comfort\", \"commun\", \"commun\", \"commun\", \"commun\", \"commun\", \"condo\", \"confer\", \"confort\", \"connor\", \"convent\", \"cori\", \"cottag\", \"cottag\", \"cottag\", \"couch\", \"couldv\", \"cozi\", \"cozi\", \"cozi\", \"cozi\", \"craig\", \"cream\", \"cute\", \"cute\", \"cute\", \"dan\", \"dana\", \"daniel\", \"danni\", \"date\", \"dave\", \"day\", \"day\", \"day\", \"day\", \"definit\", \"definit\", \"definit\", \"definit\", \"definit\", \"delight\", \"delight\", \"delight\", \"describ\", \"describ\", \"describ\", \"describ\", \"despit\", \"didnt\", \"didnt\", \"didnt\", \"didnt\", \"dinner\", \"disappoint\", \"disappoint\", \"distanc\", \"district\", \"divis\", \"donut\", \"door\", \"door\", \"door\", \"door\", \"doug\", \"downstair\", \"downtown\", \"downtown\", \"downtown\", \"drive\", \"drive\", \"drive\", \"drop\", \"dryer\", \"dustin\", \"dylan\", \"earli\", \"earli\", \"earlier\", \"easi\", \"easi\", \"easi\", \"easi\", \"easi\", \"emili\", \"enjoy\", \"enjoy\", \"enjoy\", \"enjoy\", \"enjoy\", \"eric\", \"erica\", \"erik\", \"event\", \"everi\", \"everi\", \"everi\", \"everyth\", \"everyth\", \"everyth\", \"everyth\", \"everyth\", \"exactli\", \"exactli\", \"experi\", \"experi\", \"experi\", \"experi\", \"experi\", \"experi\", \"extra\", \"extra\", \"extra\", \"famili\", \"famili\", \"famili\", \"famili\", \"fast\", \"fast\", \"fast\", \"feel\", \"feel\", \"feel\", \"feel\", \"feel\", \"felt\", \"felt\", \"felt\", \"felt\", \"fine\", \"flat\", \"flight\", \"floor\", \"food\", \"food\", \"food\", \"food\", \"forward\", \"free\", \"free\", \"french\", \"fresh\", \"fridg\", \"fridg\", \"friendli\", \"friendli\", \"friendli\", \"friendli\", \"fruit\", \"garden\", \"garden\", \"garden\", \"garden\", \"garden\", \"georg\", \"girl\", \"good\", \"good\", \"good\", \"good\", \"gorg\", \"greet\", \"greet\", \"greg\", \"groceri\", \"groceri\", \"guy\", \"hannah\", \"hau\", \"hawthorn\", \"hawthorn\", \"hear\", \"heat\", \"heat\", \"heater\", \"heidi\", \"help\", \"help\", \"help\", \"help\", \"help\", \"hidden\", \"highli\", \"highli\", \"highway\", \"highway\", \"hilari\", \"holiday\", \"holli\", \"home\", \"home\", \"home\", \"home\", \"hood\", \"hope\", \"hope\", \"host\", \"host\", \"host\", \"host\", \"host\", \"hous\", \"hous\", \"hous\", \"hous\", \"hous\", \"howev\", \"howev\", \"hustl\", \"idea\", \"imagin\", \"impecc\", \"inquiri\", \"inspir\", \"instruct\", \"instruct\", \"iren\", \"issu\", \"issu\", \"issu\", \"jack\", \"jake\", \"jame\", \"jason\", \"jeff\", \"jenni\", \"jess\", \"jessi\", \"jessica\", \"jill\", \"jodi\", \"joe\", \"john\", \"juli\", \"justic\", \"justin\", \"karen\", \"kate\", \"katherin\", \"kati\", \"kelli\", \"kitchen\", \"kitchen\", \"kitchen\", \"knowledg\", \"kristi\", \"larg\", \"larg\", \"larg\", \"late\", \"later\", \"laura\", \"leah\", \"left\", \"left\", \"left\", \"light\", \"light\", \"light\", \"light\", \"like\", \"like\", \"like\", \"like\", \"like\", \"linda\", \"linen\", \"lisa\", \"littl\", \"littl\", \"littl\", \"littl\", \"littl\", \"live\", \"live\", \"live\", \"live\", \"locat\", \"locat\", \"locat\", \"locat\", \"lock\", \"lodg\", \"lori\", \"lot\", \"lot\", \"lot\", \"lot\", \"loud\", \"love\", \"love\", \"love\", \"love\", \"love\", \"lyft\", \"maggi\", \"make\", \"make\", \"make\", \"make\", \"make\", \"mani\", \"mani\", \"mani\", \"mani\", \"mari\", \"maria\", \"mark\", \"matt\", \"matthew\", \"mattress\", \"maureen\", \"melani\", \"melissa\", \"memor\", \"memori\", \"messag\", \"michael\", \"michel\", \"microwav\", \"mike\", \"minut\", \"minut\", \"minut\", \"minut\", \"mississippi\", \"morn\", \"morn\", \"morn\", \"movi\", \"movi\", \"multnomah\", \"nanci\", \"nate\", \"nathan\", \"near\", \"near\", \"near\", \"nearbi\", \"nearbi\", \"nearbi\", \"need\", \"need\", \"need\", \"need\", \"need\", \"neighborhood\", \"neighborhood\", \"neighborhood\", \"neighborhood\", \"nest\", \"nest\", \"nice\", \"nice\", \"nice\", \"nice\", \"nicest\", \"night\", \"night\", \"night\", \"night\", \"night\", \"nightlif\", \"nois\", \"northwest\", \"nou\", \"oasi\", \"opportun\", \"overnight\", \"parent\", \"park\", \"park\", \"park\", \"pearl\", \"perfect\", \"perfect\", \"perfect\", \"peter\", \"petit\", \"phone\", \"pick\", \"pine\", \"place\", \"place\", \"place\", \"place\", \"player\", \"pool\", \"portland\", \"portland\", \"portland\", \"portland\", \"pour\", \"press\", \"prior\", \"privat\", \"privat\", \"privat\", \"privat\", \"problem\", \"problem\", \"process\", \"promptli\", \"provid\", \"provid\", \"provid\", \"provid\", \"provid\", \"pub\", \"public\", \"public\", \"puppi\", \"question\", \"question\", \"quick\", \"quick\", \"quick\", \"quickli\", \"quickli\", \"quiet\", \"quiet\", \"quiet\", \"quiet\", \"rachel\", \"rail\", \"rate\", \"rate\", \"readili\", \"realli\", \"realli\", \"realli\", \"realli\", \"realli\", \"rebecca\", \"reccomend\", \"recommend\", \"recommend\", \"recommend\", \"recommend\", \"record\", \"regret\", \"reserv\", \"respond\", \"respons\", \"respons\", \"respons\", \"respons\", \"respons\", \"restaur\", \"restaur\", \"retreat\", \"richard\", \"ride\", \"ride\", \"river\", \"robert\", \"rooftop\", \"room\", \"room\", \"room\", \"room\", \"room\", \"rose\", \"ryan\", \"salt\", \"satisfi\", \"school\", \"seamless\", \"sean\", \"season\", \"seattl\", \"seclud\", \"sehr\", \"sellwood\", \"separ\", \"seren\", \"shampoo\", \"shane\", \"sheet\", \"shop\", \"short\", \"short\", \"short\", \"shower\", \"sleep\", \"sleep\", \"sleep\", \"small\", \"small\", \"small\", \"snack\", \"soap\", \"societi\", \"space\", \"space\", \"space\", \"space\", \"spent\", \"spent\", \"spot\", \"spot\", \"spot\", \"spot\", \"stair\", \"star\", \"state\", \"stephani\", \"stephen\", \"steve\", \"store\", \"store\", \"straw\", \"street\", \"street\", \"street\", \"stuart\", \"studio\", \"stylish\", \"stylish\", \"stylish\", \"super\", \"super\", \"super\", \"super\", \"super\", \"superb\", \"supermarket\", \"sure\", \"sure\", \"sure\", \"sure\", \"sure\", \"susan\", \"suzi\", \"terrif\", \"terrif\", \"terrif\", \"tessa\", \"thank\", \"thank\", \"thank\", \"thank\", \"thank\", \"thought\", \"thought\", \"thought\", \"thought\", \"thought\", \"tiffani\", \"tim\", \"time\", \"time\", \"time\", \"time\", \"time\", \"tini\", \"todd\", \"toni\", \"touch\", \"touch\", \"touch\", \"touch\", \"touch\", \"tour\", \"tourist\", \"towel\", \"traci\", \"trader\", \"tram\", \"transit\", \"transport\", \"transport\", \"treehous\", \"trip\", \"trip\", \"trip\", \"troubl\", \"truli\", \"truli\", \"uber\", \"uberlyft\", \"unbeat\", \"unit\", \"unit\", \"univers\", \"upstair\", \"vacat\", \"vacat\", \"villag\", \"visit\", \"visit\", \"visit\", \"visit\", \"walk\", \"walk\", \"walk\", \"walkabl\", \"walkabl\", \"wall\", \"washer\", \"wasnt\", \"wasnt\", \"wasnt\", \"wave\", \"websit\", \"wed\", \"welcom\", \"welcom\", \"welcom\", \"welcom\", \"wellequip\", \"went\", \"went\", \"west\", \"weve\", \"whenev\", \"wifi\", \"william\", \"window\", \"wine\", \"wonder\", \"wonder\", \"wonder\", \"wonder\", \"wont\", \"work\", \"work\", \"work\", \"work\", \"yoga\"]}, \"R\": 30, \"lambda.step\": 0.01, \"plot.opts\": {\"xlab\": \"PC1\", \"ylab\": \"PC2\"}, \"topic.order\": [3, 7, 2, 9, 5, 8, 1, 4, 6, 10]};\n",
       "\n",
       "function LDAvis_load_lib(url, callback){\n",
       "  var s = document.createElement('script');\n",
       "  s.src = url;\n",
       "  s.async = true;\n",
       "  s.onreadystatechange = s.onload = callback;\n",
       "  s.onerror = function(){console.warn(\"failed to load library \" + url);};\n",
       "  document.getElementsByTagName(\"head\")[0].appendChild(s);\n",
       "}\n",
       "\n",
       "if(typeof(LDAvis) !== \"undefined\"){\n",
       "   // already loaded: just create the visualization\n",
       "   !function(LDAvis){\n",
       "       new LDAvis(\"#\" + \"ldavis_el49841136549919926454156830\", ldavis_el49841136549919926454156830_data);\n",
       "   }(LDAvis);\n",
       "}else if(typeof define === \"function\" && define.amd){\n",
       "   // require.js is available: use it to load d3/LDAvis\n",
       "   require.config({paths: {d3: \"https://cdnjs.cloudflare.com/ajax/libs/d3/3.5.5/d3.min\"}});\n",
       "   require([\"d3\"], function(d3){\n",
       "      window.d3 = d3;\n",
       "      LDAvis_load_lib(\"https://cdn.rawgit.com/bmabey/pyLDAvis/files/ldavis.v1.0.0.js\", function(){\n",
       "        new LDAvis(\"#\" + \"ldavis_el49841136549919926454156830\", ldavis_el49841136549919926454156830_data);\n",
       "      });\n",
       "    });\n",
       "}else{\n",
       "    // require.js not available: dynamically load d3 & LDAvis\n",
       "    LDAvis_load_lib(\"https://cdnjs.cloudflare.com/ajax/libs/d3/3.5.5/d3.min.js\", function(){\n",
       "         LDAvis_load_lib(\"https://cdn.rawgit.com/bmabey/pyLDAvis/files/ldavis.v1.0.0.js\", function(){\n",
       "                 new LDAvis(\"#\" + \"ldavis_el49841136549919926454156830\", ldavis_el49841136549919926454156830_data);\n",
       "            })\n",
       "         });\n",
       "}\n",
       "</script>"
      ],
      "text/plain": [
       "PreparedData(topic_coordinates=              x         y  topics  cluster       Freq\n",
       "topic                                                \n",
       "2      0.259342 -0.000381       1        1  25.273313\n",
       "6      0.256205 -0.028770       2        1  23.432405\n",
       "1      0.269568 -0.022171       3        1  19.474680\n",
       "8      0.230163  0.040261       4        1  18.480893\n",
       "4      0.077293  0.084852       5        1   6.036599\n",
       "7     -0.204844 -0.171951       6        1   1.837004\n",
       "0     -0.232364  0.174882       7        1   1.764435\n",
       "3     -0.225582  0.242109       8        1   1.482658\n",
       "5     -0.184048 -0.335532       9        1   1.168696\n",
       "9     -0.245732  0.016702      10        1   1.049316, topic_info=      Category           Freq      Term          Total  loglift  logprob\n",
       "term                                                                    \n",
       "504    Default   29342.000000    airbnb   29342.000000  30.0000  30.0000\n",
       "17998  Default  205576.000000     place  205576.000000  29.0000  29.0000\n",
       "18354  Default  118439.000000  portland  118439.000000  28.0000  28.0000\n",
       "25826  Default   59582.000000      walk   59582.000000  27.0000  27.0000\n",
       "4066   Default   30688.000000     check   30688.000000  26.0000  26.0000\n",
       "...        ...            ...       ...            ...      ...      ...\n",
       "3754   Topic10     844.279575   carriag     844.339764   4.5570  -4.4600\n",
       "4691   Topic10     810.599425     colin     810.659613   4.5570  -4.5007\n",
       "12633  Topic10     737.041378     jessi     737.101567   4.5569  -4.5958\n",
       "595    Topic10     686.940430      alan     687.000618   4.5569  -4.6662\n",
       "7262   Topic10     682.393100     dylan     682.453289   4.5569  -4.6729\n",
       "\n",
       "[538 rows x 6 columns], token_table=       Topic      Freq      Term\n",
       "term                            \n",
       "18         9  0.999633      abbi\n",
       "100        1  0.112665    access\n",
       "100        2  0.689867    access\n",
       "100        4  0.197468    access\n",
       "135        1  0.230053  accommod\n",
       "...      ...       ...       ...\n",
       "26724      1  0.255217      work\n",
       "26724      2  0.093112      work\n",
       "26724      3  0.116991      work\n",
       "26724      4  0.534633      work\n",
       "26926      7  0.999807      yoga\n",
       "\n",
       "[820 rows x 3 columns], R=30, lambda_step=0.01, plot_opts={'xlab': 'PC1', 'ylab': 'PC2'}, topic_order=[3, 7, 2, 9, 5, 8, 1, 4, 6, 10])"
      ]
     },
     "execution_count": 385,
     "metadata": {},
     "output_type": "execute_result"
    }
   ],
   "source": [
    "# This took hours to run, so don't run it again!\n",
    "# run_lda(df['reviews_cleaned_str'], 10)"
   ]
  },
  {
   "cell_type": "code",
   "execution_count": 389,
   "metadata": {},
   "outputs": [],
   "source": [
    "df.drop('reviews_cleaned', axis=1, inplace=True)"
   ]
  },
  {
   "cell_type": "code",
   "execution_count": 416,
   "metadata": {},
   "outputs": [
    {
     "data": {
      "text/plain": [
       "0         [couldnt, possibl, better, experi, trip, would...\n",
       "1         [jess, place, realli, wonder, apart, locat, bl...\n",
       "2         [recommend, good, valu, spaciou, airi, upper, ...\n",
       "3         [day, visit, portland, enorm, enhanc, alison, ...\n",
       "4         [wonder, time, stay, area, alberta, artsth, be...\n",
       "                                ...                        \n",
       "318257    [moda, center, host, doug, quick, commun, rece...\n",
       "318258               [feel, home, cozi, apart, great, view]\n",
       "318259    [great, experi, hous, amen, requir, clean, eve...\n",
       "318260    [thank, host, appreci, good, commun, highli, r...\n",
       "318261    [elli, place, terrif, everyth, comfort, live, ...\n",
       "Name: comments, Length: 318262, dtype: object"
      ]
     },
     "execution_count": 416,
     "metadata": {},
     "output_type": "execute_result"
    }
   ],
   "source": [
    "reviews_cleaned"
   ]
  },
  {
   "cell_type": "markdown",
   "metadata": {},
   "source": [
    "#### Fit-transform into matrix for further clustering"
   ]
  },
  {
   "cell_type": "code",
   "execution_count": 630,
   "metadata": {},
   "outputs": [
    {
     "data": {
      "text/plain": [
       "<5405x3766 sparse matrix of type '<class 'numpy.int64'>'\n",
       "\twith 209291 stored elements in Compressed Sparse Row format>"
      ]
     },
     "execution_count": 630,
     "metadata": {},
     "output_type": "execute_result"
    }
   ],
   "source": [
    "dtm_tf"
   ]
  },
  {
   "cell_type": "code",
   "execution_count": null,
   "metadata": {},
   "outputs": [],
   "source": [
    "vocab = tf_vectorizer.get_feature_names()\n",
    "\n",
    "for topic in range(10):\n",
    "    print(f\"TOPIC {topic}\")\n",
    "    for j in np.argsort(-lda_tf.components_,1)[topic,:10]:\n",
    "        print(vocab[j])\n",
    "    print()"
   ]
  },
  {
   "cell_type": "code",
   "execution_count": 646,
   "metadata": {},
   "outputs": [
    {
     "data": {
      "text/plain": [
       "784.8127128854413"
      ]
     },
     "execution_count": 646,
     "metadata": {},
     "output_type": "execute_result"
    }
   ],
   "source": [
    "lda.perplexity(tf)"
   ]
  },
  {
   "cell_type": "code",
   "execution_count": null,
   "metadata": {},
   "outputs": [],
   "source": []
  },
  {
   "cell_type": "code",
   "execution_count": 89,
   "metadata": {},
   "outputs": [],
   "source": [
    "X = lda_tf.components_"
   ]
  },
  {
   "cell_type": "code",
   "execution_count": 90,
   "metadata": {},
   "outputs": [
    {
     "data": {
      "text/plain": [
       "(10, 422)"
      ]
     },
     "execution_count": 90,
     "metadata": {},
     "output_type": "execute_result"
    }
   ],
   "source": [
    "X.shape"
   ]
  },
  {
   "cell_type": "code",
   "execution_count": 658,
   "metadata": {},
   "outputs": [],
   "source": [
    "X = pd.Series(X)"
   ]
  },
  {
   "cell_type": "code",
   "execution_count": 661,
   "metadata": {},
   "outputs": [
    {
     "data": {
      "text/plain": [
       "KMeans(algorithm='auto', copy_x=True, init='k-means++', max_iter=300,\n",
       "    n_clusters=5, n_init=10, n_jobs=None, precompute_distances='auto',\n",
       "    random_state=None, tol=0.0001, verbose=0)"
      ]
     },
     "execution_count": 661,
     "metadata": {},
     "output_type": "execute_result"
    }
   ],
   "source": [
    "km = KMeans(n_clusters=5)\n",
    "km.fit(X)"
   ]
  },
  {
   "cell_type": "code",
   "execution_count": 663,
   "metadata": {},
   "outputs": [
    {
     "data": {
      "text/plain": [
       "2537424.621555204"
      ]
     },
     "execution_count": 663,
     "metadata": {},
     "output_type": "execute_result"
    }
   ],
   "source": [
    "km.inertia_"
   ]
  },
  {
   "cell_type": "code",
   "execution_count": null,
   "metadata": {},
   "outputs": [],
   "source": [
    "tf_vectorizer = CountVectorizer(max_df=0.5,\n",
    "                                    min_df=2,\n",
    "                                    lowercase=True,\n",
    "                                    strip_accents='unicode',\n",
    "                                    token_pattern = r'\\b[a-zA-Z]{3,}\\b',\n",
    "                                    stop_words='english')\n",
    "    \n",
    "    dtm_tf = tf_vectorizer.fit_transform(corpus)"
   ]
  },
  {
   "cell_type": "code",
   "execution_count": 674,
   "metadata": {},
   "outputs": [
    {
     "data": {
      "text/plain": [
       "array([[0.00400066, 0.59732322, 0.00400078, ..., 0.00400052, 0.00400141,\n",
       "        0.00400078],\n",
       "       [0.003031  , 0.19566205, 0.00303108, ..., 0.23809163, 0.00303088,\n",
       "        0.00303104],\n",
       "       [0.00156277, 0.54239545, 0.30493594, ..., 0.00156283, 0.00156287,\n",
       "        0.00156284],\n",
       "       ...,\n",
       "       [0.00416731, 0.58501459, 0.00416734, ..., 0.0041683 , 0.38164438,\n",
       "        0.00416804],\n",
       "       [0.00178639, 0.00178604, 0.00178605, ..., 0.65630595, 0.00178619,\n",
       "        0.00178613],\n",
       "       [0.24495315, 0.00454613, 0.00454605, ..., 0.00454608, 0.00454696,\n",
       "        0.30123185]])"
      ]
     },
     "execution_count": 674,
     "metadata": {},
     "output_type": "execute_result"
    }
   ],
   "source": [
    "#    tf_vectorizer = CountVectorizer(lowercase=True,\n",
    "#                                     strip_accents='unicode',\n",
    "#                                     token_pattern = r'\\b[a-zA-Z]{3,}\\b',\n",
    "#                                     stop_words='english')\n",
    "    \n",
    "#     dtm_tf = tf_vectorizer.fit_transform(corpus)\n",
    "    \n",
    "lda_tf = LatentDirichletAllocation(n_components=10, random_state=0, n_jobs=-1)\n",
    "lda_tf.fit_transform(dtm_tf)"
   ]
  },
  {
   "cell_type": "code",
   "execution_count": 684,
   "metadata": {},
   "outputs": [
    {
     "name": "stdout",
     "output_type": "stream",
     "text": [
      "TOPIC 0\n",
      "place\n",
      "great\n",
      "business\n",
      "travelers\n",
      "close\n",
      "couples\n",
      "good\n",
      "solo\n",
      "adventurers\n",
      "neighborhood\n",
      "\n",
      "TOPIC 1\n",
      "tabor\n",
      "fun\n",
      "outdoor\n",
      "covered\n",
      "backyard\n",
      "scene\n",
      "patio\n",
      "fred\n",
      "providence\n",
      "serene\n",
      "\n",
      "TOPIC 2\n",
      "district\n",
      "pearl\n",
      "score\n",
      "ceilings\n",
      "loft\n",
      "high\n",
      "heart\n",
      "steps\n",
      "stay\n",
      "bar\n",
      "\n",
      "TOPIC 3\n",
      "new\n",
      "brand\n",
      "experience\n",
      "seasons\n",
      "home\n",
      "modern\n",
      "designed\n",
      "visit\n",
      "school\n",
      "guesthouse\n",
      "\n",
      "TOPIC 4\n",
      "north\n",
      "friendly\n",
      "people\n",
      "welcome\n",
      "live\n",
      "kenton\n",
      "light\n",
      "friends\n",
      "avenue\n",
      "pets\n",
      "\n",
      "TOPIC 5\n",
      "room\n",
      "private\n",
      "bed\n",
      "bedroom\n",
      "queen\n",
      "bathroom\n",
      "kitchen\n",
      "living\n",
      "bath\n",
      "space\n",
      "\n",
      "TOPIC 6\n",
      "coffee\n",
      "fridge\n",
      "tea\n",
      "microwave\n",
      "breakfast\n",
      "mini\n",
      "available\n",
      "access\n",
      "maker\n",
      "use\n",
      "\n",
      "TOPIC 7\n",
      "alberta\n",
      "apartment\n",
      "arts\n",
      "district\n",
      "basement\n",
      "located\n",
      "house\n",
      "home\n",
      "blocks\n",
      "studio\n",
      "\n",
      "TOPIC 8\n",
      "dryer\n",
      "washer\n",
      "house\n",
      "tub\n",
      "kitchen\n",
      "unit\n",
      "hot\n",
      "enjoy\n",
      "space\n",
      "cozy\n",
      "\n",
      "TOPIC 9\n",
      "cute\n",
      "square\n",
      "sleeping\n",
      "feet\n",
      "nook\n",
      "smoking\n",
      "transport\n",
      "backyard\n",
      "cottage\n",
      "inside\n",
      "\n",
      "TOPIC 10\n",
      "downtown\n",
      "ohsu\n",
      "available\n",
      "waterfront\n",
      "term\n",
      "rental\n",
      "rent\n",
      "parking\n",
      "south\n",
      "near\n",
      "\n",
      "TOPIC 11\n",
      "home\n",
      "stay\n",
      "perfect\n",
      "center\n",
      "just\n",
      "located\n",
      "historic\n",
      "neighborhood\n",
      "space\n",
      "away\n",
      "\n",
      "TOPIC 12\n",
      "views\n",
      "forest\n",
      "city\n",
      "table\n",
      "johns\n",
      "deck\n",
      "home\n",
      "river\n",
      "park\n",
      "suite\n",
      "\n",
      "TOPIC 13\n",
      "air\n",
      "community\n",
      "conditioning\n",
      "outdoors\n",
      "artist\n",
      "meet\n",
      "atmosphere\n",
      "creative\n",
      "cultural\n",
      "pioneer\n",
      "\n",
      "TOPIC 14\n",
      "airbnb\n",
      "hidden\n",
      "rooms\n",
      "tiny\n",
      "number\n",
      "house\n",
      "organic\n",
      "room\n",
      "phone\n",
      "guest\n",
      "\n",
      "TOPIC 15\n",
      "hawthorne\n",
      "division\n",
      "heart\n",
      "belmont\n",
      "hip\n",
      "laurelhurst\n",
      "popular\n",
      "best\n",
      "pok\n",
      "street\n",
      "\n",
      "TOPIC 16\n",
      "light\n",
      "modern\n",
      "floors\n",
      "home\n",
      "open\n",
      "house\n",
      "kitchen\n",
      "century\n",
      "great\n",
      "filled\n",
      "\n",
      "TOPIC 17\n",
      "columbia\n",
      "gorge\n",
      "nature\n",
      "morning\n",
      "look\n",
      "uber\n",
      "staying\n",
      "lyft\n",
      "forward\n",
      "hour\n",
      "\n",
      "TOPIC 18\n",
      "built\n",
      "downtown\n",
      "minutes\n",
      "village\n",
      "end\n",
      "multnomah\n",
      "perfect\n",
      "house\n",
      "park\n",
      "beautiful\n",
      "\n",
      "TOPIC 19\n",
      "restaurants\n",
      "downtown\n",
      "walk\n",
      "shops\n",
      "neighborhood\n",
      "bus\n",
      "located\n",
      "bars\n",
      "minutes\n",
      "street\n",
      "\n"
     ]
    }
   ],
   "source": [
    "# for topic in range(20):\n",
    "#     print(f\"TOPIC {topic}\")\n",
    "#     for j in np.argsort(-lda.components_,1)[topic,:10]:\n",
    "#         print(vocab[j])\n",
    "#     print()"
   ]
  },
  {
   "cell_type": "code",
   "execution_count": 689,
   "metadata": {},
   "outputs": [
    {
     "data": {
      "text/plain": [
       "0       wonder host welcom surpris basket fuel rest we...\n",
       "1                             great place stay would back\n",
       "2       trip portland made feel right home made trip m...\n",
       "3       daniel joel place perfect stay week everyth ne...\n",
       "4       locat quiet neighborhood spot walk distanc any...\n",
       "                              ...                        \n",
       "4995    place great locat close light rail didnt need ...\n",
       "4996    area cute realli get steak whiley place commun...\n",
       "4997    david gave wonder advic thing trip portland we...\n",
       "4998    accommod hous felt like home truli comfort sta...\n",
       "4999    cute effici feel like ikea catalog spread loca...\n",
       "Name: reviews_cleaned_str, Length: 5000, dtype: object"
      ]
     },
     "execution_count": 689,
     "metadata": {},
     "output_type": "execute_result"
    }
   ],
   "source": [
    "mini_df['reviews_cleaned_str']"
   ]
  },
  {
   "cell_type": "code",
   "execution_count": null,
   "metadata": {},
   "outputs": [],
   "source": [
    "tf_vectorizer = CountVectorizer(max_df=0.5,\n",
    "                                    min_df=2,\n",
    "                                    lowercase=True,\n",
    "                                    strip_accents='unicode',\n",
    "                                    token_pattern = r'\\b[a-zA-Z]{3,}\\b',\n",
    "                                    stop_words='english')\n",
    "    \n",
    "dtm_tf = tf_vectorizer.fit_transform(mini_df['reviews_cleaned_str'])"
   ]
  },
  {
   "cell_type": "code",
   "execution_count": null,
   "metadata": {},
   "outputs": [],
   "source": []
  },
  {
   "cell_type": "code",
   "execution_count": 705,
   "metadata": {},
   "outputs": [
    {
     "data": {
      "text/plain": [
       "['aanrad',\n",
       " 'aaron',\n",
       " 'abbi',\n",
       " 'aber',\n",
       " 'abil',\n",
       " 'abl',\n",
       " 'abod',\n",
       " 'absenc',\n",
       " 'absolut',\n",
       " 'abund']"
      ]
     },
     "execution_count": 705,
     "metadata": {},
     "output_type": "execute_result"
    }
   ],
   "source": [
    "tf_vectorizer.get_feature_names()[:10]"
   ]
  },
  {
   "cell_type": "code",
   "execution_count": 24,
   "metadata": {},
   "outputs": [
    {
     "ename": "NameError",
     "evalue": "name 'num_topics' is not defined",
     "output_type": "error",
     "traceback": [
      "\u001b[0;31m---------------------------------------------------------------------------\u001b[0m",
      "\u001b[0;31mNameError\u001b[0m                                 Traceback (most recent call last)",
      "\u001b[0;32m<ipython-input-24-bf394b09c71f>\u001b[0m in \u001b[0;36m<module>\u001b[0;34m()\u001b[0m\n\u001b[0;32m----> 1\u001b[0;31m lda_tf = LatentDirichletAllocation(n_components=num_topics,\n\u001b[0m\u001b[1;32m      2\u001b[0m                                        \u001b[0mrandom_state\u001b[0m\u001b[0;34m=\u001b[0m\u001b[0;36m0\u001b[0m\u001b[0;34m,\u001b[0m\u001b[0;34m\u001b[0m\u001b[0m\n\u001b[1;32m      3\u001b[0m                                        \u001b[0mlearning_method\u001b[0m\u001b[0;34m=\u001b[0m\u001b[0;34m'online'\u001b[0m\u001b[0;34m,\u001b[0m\u001b[0;34m\u001b[0m\u001b[0m\n\u001b[1;32m      4\u001b[0m                                        \u001b[0mlearning_decay\u001b[0m\u001b[0;34m=\u001b[0m\u001b[0;36m0.6\u001b[0m\u001b[0;34m,\u001b[0m\u001b[0;34m\u001b[0m\u001b[0m\n\u001b[1;32m      5\u001b[0m                                        \u001b[0mlearning_offset\u001b[0m\u001b[0;34m=\u001b[0m\u001b[0;36m1024\u001b[0m\u001b[0;34m,\u001b[0m\u001b[0;34m\u001b[0m\u001b[0m\n",
      "\u001b[0;31mNameError\u001b[0m: name 'num_topics' is not defined"
     ]
    }
   ],
   "source": [
    "lda_tf = LatentDirichletAllocation(n_components=num_topics,\n",
    "                                       random_state=0,\n",
    "                                       learning_method='online',\n",
    "                                       learning_decay=0.6,\n",
    "                                       learning_offset=1024,\n",
    "                                       batch_size=256,\n",
    "                                       topic_word_prior=.005,\n",
    "                                       n_jobs=-1)\n",
    "lda_tf.fit_transform(dtm_tf)"
   ]
  },
  {
   "cell_type": "code",
   "execution_count": 735,
   "metadata": {},
   "outputs": [
    {
     "data": {
      "text/html": [
       "<div>\n",
       "<style scoped>\n",
       "    .dataframe tbody tr th:only-of-type {\n",
       "        vertical-align: middle;\n",
       "    }\n",
       "\n",
       "    .dataframe tbody tr th {\n",
       "        vertical-align: top;\n",
       "    }\n",
       "\n",
       "    .dataframe thead th {\n",
       "        text-align: right;\n",
       "    }\n",
       "</style>\n",
       "<table border=\"1\" class=\"dataframe\">\n",
       "  <thead>\n",
       "    <tr style=\"text-align: right;\">\n",
       "      <th></th>\n",
       "      <th>aankomst</th>\n",
       "      <th>aanrad</th>\n",
       "      <th>aanwezig</th>\n",
       "      <th>aaron</th>\n",
       "      <th>abbi</th>\n",
       "      <th>abe</th>\n",
       "      <th>aber</th>\n",
       "      <th>abil</th>\n",
       "      <th>abl</th>\n",
       "      <th>abnb</th>\n",
       "      <th>...</th>\n",
       "      <th>zipper</th>\n",
       "      <th>zitj</th>\n",
       "      <th>zoe</th>\n",
       "      <th>zona</th>\n",
       "      <th>zone</th>\n",
       "      <th>zonsondergang</th>\n",
       "      <th>zumindest</th>\n",
       "      <th>zumstein</th>\n",
       "      <th>zupan</th>\n",
       "      <th>zyrtec</th>\n",
       "    </tr>\n",
       "  </thead>\n",
       "  <tbody>\n",
       "    <tr>\n",
       "      <th>0</th>\n",
       "      <td>0</td>\n",
       "      <td>0</td>\n",
       "      <td>0</td>\n",
       "      <td>0</td>\n",
       "      <td>0</td>\n",
       "      <td>0</td>\n",
       "      <td>0</td>\n",
       "      <td>0</td>\n",
       "      <td>0</td>\n",
       "      <td>0</td>\n",
       "      <td>...</td>\n",
       "      <td>0</td>\n",
       "      <td>0</td>\n",
       "      <td>0</td>\n",
       "      <td>0</td>\n",
       "      <td>0</td>\n",
       "      <td>0</td>\n",
       "      <td>0</td>\n",
       "      <td>0</td>\n",
       "      <td>0</td>\n",
       "      <td>0</td>\n",
       "    </tr>\n",
       "    <tr>\n",
       "      <th>1</th>\n",
       "      <td>0</td>\n",
       "      <td>0</td>\n",
       "      <td>0</td>\n",
       "      <td>0</td>\n",
       "      <td>0</td>\n",
       "      <td>0</td>\n",
       "      <td>0</td>\n",
       "      <td>0</td>\n",
       "      <td>0</td>\n",
       "      <td>0</td>\n",
       "      <td>...</td>\n",
       "      <td>0</td>\n",
       "      <td>0</td>\n",
       "      <td>0</td>\n",
       "      <td>0</td>\n",
       "      <td>0</td>\n",
       "      <td>0</td>\n",
       "      <td>0</td>\n",
       "      <td>0</td>\n",
       "      <td>0</td>\n",
       "      <td>0</td>\n",
       "    </tr>\n",
       "    <tr>\n",
       "      <th>2</th>\n",
       "      <td>0</td>\n",
       "      <td>0</td>\n",
       "      <td>0</td>\n",
       "      <td>0</td>\n",
       "      <td>0</td>\n",
       "      <td>0</td>\n",
       "      <td>0</td>\n",
       "      <td>0</td>\n",
       "      <td>1</td>\n",
       "      <td>0</td>\n",
       "      <td>...</td>\n",
       "      <td>0</td>\n",
       "      <td>0</td>\n",
       "      <td>0</td>\n",
       "      <td>0</td>\n",
       "      <td>0</td>\n",
       "      <td>0</td>\n",
       "      <td>0</td>\n",
       "      <td>0</td>\n",
       "      <td>0</td>\n",
       "      <td>0</td>\n",
       "    </tr>\n",
       "    <tr>\n",
       "      <th>3</th>\n",
       "      <td>0</td>\n",
       "      <td>0</td>\n",
       "      <td>0</td>\n",
       "      <td>0</td>\n",
       "      <td>0</td>\n",
       "      <td>0</td>\n",
       "      <td>0</td>\n",
       "      <td>0</td>\n",
       "      <td>0</td>\n",
       "      <td>0</td>\n",
       "      <td>...</td>\n",
       "      <td>0</td>\n",
       "      <td>0</td>\n",
       "      <td>0</td>\n",
       "      <td>0</td>\n",
       "      <td>0</td>\n",
       "      <td>0</td>\n",
       "      <td>0</td>\n",
       "      <td>0</td>\n",
       "      <td>0</td>\n",
       "      <td>0</td>\n",
       "    </tr>\n",
       "    <tr>\n",
       "      <th>4</th>\n",
       "      <td>0</td>\n",
       "      <td>0</td>\n",
       "      <td>0</td>\n",
       "      <td>0</td>\n",
       "      <td>0</td>\n",
       "      <td>0</td>\n",
       "      <td>0</td>\n",
       "      <td>0</td>\n",
       "      <td>0</td>\n",
       "      <td>0</td>\n",
       "      <td>...</td>\n",
       "      <td>0</td>\n",
       "      <td>0</td>\n",
       "      <td>0</td>\n",
       "      <td>0</td>\n",
       "      <td>0</td>\n",
       "      <td>0</td>\n",
       "      <td>0</td>\n",
       "      <td>0</td>\n",
       "      <td>0</td>\n",
       "      <td>0</td>\n",
       "    </tr>\n",
       "    <tr>\n",
       "      <th>...</th>\n",
       "      <td>...</td>\n",
       "      <td>...</td>\n",
       "      <td>...</td>\n",
       "      <td>...</td>\n",
       "      <td>...</td>\n",
       "      <td>...</td>\n",
       "      <td>...</td>\n",
       "      <td>...</td>\n",
       "      <td>...</td>\n",
       "      <td>...</td>\n",
       "      <td>...</td>\n",
       "      <td>...</td>\n",
       "      <td>...</td>\n",
       "      <td>...</td>\n",
       "      <td>...</td>\n",
       "      <td>...</td>\n",
       "      <td>...</td>\n",
       "      <td>...</td>\n",
       "      <td>...</td>\n",
       "      <td>...</td>\n",
       "      <td>...</td>\n",
       "    </tr>\n",
       "    <tr>\n",
       "      <th>4995</th>\n",
       "      <td>0</td>\n",
       "      <td>0</td>\n",
       "      <td>0</td>\n",
       "      <td>0</td>\n",
       "      <td>0</td>\n",
       "      <td>0</td>\n",
       "      <td>0</td>\n",
       "      <td>0</td>\n",
       "      <td>0</td>\n",
       "      <td>0</td>\n",
       "      <td>...</td>\n",
       "      <td>0</td>\n",
       "      <td>0</td>\n",
       "      <td>0</td>\n",
       "      <td>0</td>\n",
       "      <td>0</td>\n",
       "      <td>0</td>\n",
       "      <td>0</td>\n",
       "      <td>0</td>\n",
       "      <td>0</td>\n",
       "      <td>0</td>\n",
       "    </tr>\n",
       "    <tr>\n",
       "      <th>4996</th>\n",
       "      <td>0</td>\n",
       "      <td>0</td>\n",
       "      <td>0</td>\n",
       "      <td>0</td>\n",
       "      <td>0</td>\n",
       "      <td>0</td>\n",
       "      <td>0</td>\n",
       "      <td>0</td>\n",
       "      <td>0</td>\n",
       "      <td>0</td>\n",
       "      <td>...</td>\n",
       "      <td>0</td>\n",
       "      <td>0</td>\n",
       "      <td>0</td>\n",
       "      <td>0</td>\n",
       "      <td>0</td>\n",
       "      <td>0</td>\n",
       "      <td>0</td>\n",
       "      <td>0</td>\n",
       "      <td>0</td>\n",
       "      <td>0</td>\n",
       "    </tr>\n",
       "    <tr>\n",
       "      <th>4997</th>\n",
       "      <td>0</td>\n",
       "      <td>0</td>\n",
       "      <td>0</td>\n",
       "      <td>0</td>\n",
       "      <td>0</td>\n",
       "      <td>0</td>\n",
       "      <td>0</td>\n",
       "      <td>0</td>\n",
       "      <td>0</td>\n",
       "      <td>0</td>\n",
       "      <td>...</td>\n",
       "      <td>0</td>\n",
       "      <td>0</td>\n",
       "      <td>0</td>\n",
       "      <td>0</td>\n",
       "      <td>0</td>\n",
       "      <td>0</td>\n",
       "      <td>0</td>\n",
       "      <td>0</td>\n",
       "      <td>0</td>\n",
       "      <td>0</td>\n",
       "    </tr>\n",
       "    <tr>\n",
       "      <th>4998</th>\n",
       "      <td>0</td>\n",
       "      <td>0</td>\n",
       "      <td>0</td>\n",
       "      <td>0</td>\n",
       "      <td>0</td>\n",
       "      <td>0</td>\n",
       "      <td>0</td>\n",
       "      <td>0</td>\n",
       "      <td>0</td>\n",
       "      <td>0</td>\n",
       "      <td>...</td>\n",
       "      <td>0</td>\n",
       "      <td>0</td>\n",
       "      <td>0</td>\n",
       "      <td>0</td>\n",
       "      <td>0</td>\n",
       "      <td>0</td>\n",
       "      <td>0</td>\n",
       "      <td>0</td>\n",
       "      <td>0</td>\n",
       "      <td>0</td>\n",
       "    </tr>\n",
       "    <tr>\n",
       "      <th>4999</th>\n",
       "      <td>0</td>\n",
       "      <td>0</td>\n",
       "      <td>0</td>\n",
       "      <td>0</td>\n",
       "      <td>0</td>\n",
       "      <td>0</td>\n",
       "      <td>0</td>\n",
       "      <td>0</td>\n",
       "      <td>0</td>\n",
       "      <td>0</td>\n",
       "      <td>...</td>\n",
       "      <td>0</td>\n",
       "      <td>0</td>\n",
       "      <td>0</td>\n",
       "      <td>0</td>\n",
       "      <td>0</td>\n",
       "      <td>0</td>\n",
       "      <td>0</td>\n",
       "      <td>0</td>\n",
       "      <td>0</td>\n",
       "      <td>0</td>\n",
       "    </tr>\n",
       "  </tbody>\n",
       "</table>\n",
       "<p>5000 rows × 7294 columns</p>\n",
       "</div>"
      ],
      "text/plain": [
       "      aankomst  aanrad  aanwezig  aaron  abbi  abe  aber  abil  abl  abnb  \\\n",
       "0            0       0         0      0     0    0     0     0    0     0   \n",
       "1            0       0         0      0     0    0     0     0    0     0   \n",
       "2            0       0         0      0     0    0     0     0    1     0   \n",
       "3            0       0         0      0     0    0     0     0    0     0   \n",
       "4            0       0         0      0     0    0     0     0    0     0   \n",
       "...        ...     ...       ...    ...   ...  ...   ...   ...  ...   ...   \n",
       "4995         0       0         0      0     0    0     0     0    0     0   \n",
       "4996         0       0         0      0     0    0     0     0    0     0   \n",
       "4997         0       0         0      0     0    0     0     0    0     0   \n",
       "4998         0       0         0      0     0    0     0     0    0     0   \n",
       "4999         0       0         0      0     0    0     0     0    0     0   \n",
       "\n",
       "       ...    zipper  zitj  zoe  zona  zone  zonsondergang  zumindest  \\\n",
       "0      ...         0     0    0     0     0              0          0   \n",
       "1      ...         0     0    0     0     0              0          0   \n",
       "2      ...         0     0    0     0     0              0          0   \n",
       "3      ...         0     0    0     0     0              0          0   \n",
       "4      ...         0     0    0     0     0              0          0   \n",
       "...    ...       ...   ...  ...   ...   ...            ...        ...   \n",
       "4995   ...         0     0    0     0     0              0          0   \n",
       "4996   ...         0     0    0     0     0              0          0   \n",
       "4997   ...         0     0    0     0     0              0          0   \n",
       "4998   ...         0     0    0     0     0              0          0   \n",
       "4999   ...         0     0    0     0     0              0          0   \n",
       "\n",
       "      zumstein  zupan  zyrtec  \n",
       "0            0      0       0  \n",
       "1            0      0       0  \n",
       "2            0      0       0  \n",
       "3            0      0       0  \n",
       "4            0      0       0  \n",
       "...        ...    ...     ...  \n",
       "4995         0      0       0  \n",
       "4996         0      0       0  \n",
       "4997         0      0       0  \n",
       "4998         0      0       0  \n",
       "4999         0      0       0  \n",
       "\n",
       "[5000 rows x 7294 columns]"
      ]
     },
     "execution_count": 735,
     "metadata": {},
     "output_type": "execute_result"
    }
   ],
   "source": [
    "vec = CountVectorizer()\n",
    "matrix = vec.fit_transform(mini_df['reviews_cleaned_str'])\n",
    "pd.DataFrame(matrix.toarray(), columns=vec.get_feature_names())"
   ]
  },
  {
   "cell_type": "code",
   "execution_count": 92,
   "metadata": {},
   "outputs": [
    {
     "data": {
      "text/plain": [
       "(318262, 10)"
      ]
     },
     "execution_count": 92,
     "metadata": {},
     "output_type": "execute_result"
    }
   ],
   "source": [
    "new2.shape"
   ]
  },
  {
   "cell_type": "code",
   "execution_count": 722,
   "metadata": {},
   "outputs": [
    {
     "data": {
      "text/plain": [
       "MiniBatchKMeans(batch_size=100, compute_labels=True, init='k-means++',\n",
       "        init_size=None, max_iter=100, max_no_improvement=10, n_clusters=10,\n",
       "        n_init=3, random_state=None, reassignment_ratio=0.01, tol=0.0,\n",
       "        verbose=0)"
      ]
     },
     "execution_count": 722,
     "metadata": {},
     "output_type": "execute_result"
    }
   ],
   "source": [
    "km = MiniBatchKMeans(n_clusters=10)\n",
    "km.fit(matrix)"
   ]
  },
  {
   "cell_type": "code",
   "execution_count": 723,
   "metadata": {},
   "outputs": [
    {
     "data": {
      "text/plain": [
       "array([[ 4.99851404,  4.60329207,  4.61497962, ...,  7.68114575,\n",
       "         4.94085193,  8.71779789],\n",
       "       [ 2.15436628,  2.52761297,  2.41927984, ...,  7.61577311,\n",
       "         1.9648398 ,  7.41619849],\n",
       "       [10.51036595,  9.99922075, 10.22069817, ..., 11.44552314,\n",
       "        10.31318038, 11.83215957],\n",
       "       ...,\n",
       "       [ 5.50688993,  5.41164357,  5.41670747, ...,  8.83176087,\n",
       "         5.44342136,  8.88819442],\n",
       "       [ 3.7724262 ,  3.45334505,  3.57231739, ...,  7.48331477,\n",
       "         3.64997291,  8.18535277],\n",
       "       [ 9.89077418,  9.49124229,  9.71856347, ..., 11.48912529,\n",
       "         9.75255026, 11.95826074]])"
      ]
     },
     "execution_count": 723,
     "metadata": {},
     "output_type": "execute_result"
    }
   ],
   "source": [
    "km.fit_transform(matrix)"
   ]
  },
  {
   "cell_type": "code",
   "execution_count": 724,
   "metadata": {},
   "outputs": [
    {
     "data": {
      "text/plain": [
       "130296.75856808036"
      ]
     },
     "execution_count": 724,
     "metadata": {},
     "output_type": "execute_result"
    }
   ],
   "source": [
    "km.inertia_"
   ]
  },
  {
   "cell_type": "code",
   "execution_count": 27,
   "metadata": {},
   "outputs": [
    {
     "data": {
      "image/png": "[encoded data removed]",
      "text/plain": [
       "<Figure size 720x720 with 1 Axes>"
      ]
     },
     "metadata": {},
     "output_type": "display_data"
    }
   ],
   "source": [
    "fig, ax = plt.subplots(figsize=(10,10))\n",
    "\n",
    "inertia = []\n",
    "# inertia = [138372.08666666667, 138077.9732696004, 135011.2854062694, 134342.35315319823, 138116.5294270795, 132038.03966021142, 132660.12220458066, 133375.44334290357, 132207.39414966636, 132414.58396806827, 134633.49015832442, 131490.53814483777, 132185.67904331698, 132127.37076788655, 131646.04328747938, 132317.58229491062, 131574.30763594864, 129648.81514473732, 131132.92476470844, 131302.95814719322]\n",
    "list_num_clusters = list(range(1,21))\n",
    "for num_clusters in list_num_clusters:\n",
    "    km = MiniBatchKMeans(n_clusters=num_clusters)\n",
    "    km.fit(new2)\n",
    "    inertia.append(km.inertia_)\n",
    "    \n",
    "plt.plot(list_num_clusters,inertia)\n",
    "plt.scatter(list_num_clusters,inertia)\n",
    "plt.xlabel('Number of Clusters')\n",
    "plt.ylabel('Inertia');"
   ]
  },
  {
   "cell_type": "code",
   "execution_count": 50,
   "metadata": {},
   "outputs": [
    {
     "data": {
      "image/png": "[encoded data removed]",
      "text/plain": [
       "<Figure size 720x720 with 1 Axes>"
      ]
     },
     "metadata": {},
     "output_type": "display_data"
    }
   ],
   "source": [
    "fig, ax = plt.subplots(figsize=(10,10))\n",
    "plt.plot(list_num_clusters,inertia, linewidth=4)\n",
    "plt.scatter(list_num_clusters,inertia)\n",
    "# plt.xlabel('Number of Clusters')\n",
    "# plt.ylabel('Inertia');\n",
    "\n",
    "ax.set_yticklabels(['', 20,40,60,80,100])\n",
    "ax.set_xticks([5,10,15,20])\n",
    "ax.set_xlim(0,20)\n",
    "ax.set_ylim(0,100000)\n",
    "\n",
    "ax.set_ylabel('Inertia (thousands)', labelpad=25, fontsize=25)\n",
    "ax.set_xlabel('Number of clusters', labelpad=25, fontsize=25)\n",
    "ax.tick_params(axis='both', which='major', labelsize=20)\n",
    "ax.tick_params(axis='both', which='minor', labelsize=20)\n",
    "# ax.grid(False)\n",
    "\n",
    "plt.tight_layout()\n",
    "# plt.savefig('plots/inertia.jpg', dpi=300)"
   ]
  },
  {
   "cell_type": "code",
   "execution_count": 96,
   "metadata": {},
   "outputs": [
    {
     "data": {
      "text/plain": [
       "KMeans(algorithm='auto', copy_x=True, init='k-means++', max_iter=300,\n",
       "    n_clusters=8, n_init=10, n_jobs=None, precompute_distances='auto',\n",
       "    random_state=None, tol=0.0001, verbose=0)"
      ]
     },
     "execution_count": 96,
     "metadata": {},
     "output_type": "execute_result"
    }
   ],
   "source": [
    "km = KMeans(n_clusters=8)\n",
    "km.fit(new2)"
   ]
  },
  {
   "cell_type": "code",
   "execution_count": 733,
   "metadata": {},
   "outputs": [
    {
     "data": {
      "text/plain": [
       "array([[ 4.79406547,  6.38974384,  4.97391943,  4.9913325 ,  5.30636337,\n",
       "         4.53862143],\n",
       "       [ 2.08799387,  5.31483123,  2.91575267,  1.83912464,  2.47940152,\n",
       "         2.35067288],\n",
       "       [10.30100097, 10.30312612,  9.83811822, 10.36013253, 10.33953496,\n",
       "        10.25475618],\n",
       "       ...,\n",
       "       [ 5.46368891,  6.68500497,  5.40151796,  5.38647695,  5.7937859 ,\n",
       "         5.6725343 ],\n",
       "       [ 3.49917061,  5.60655666,  3.78886878,  3.76991592,  4.22297864,\n",
       "         3.10817606],\n",
       "       [ 9.7088126 ,  9.97279968,  9.53897523,  9.77485668,  9.81286406,\n",
       "         9.42790688]])"
      ]
     },
     "execution_count": 733,
     "metadata": {},
     "output_type": "execute_result"
    }
   ],
   "source": [
    "km.fit_transform(matrix)"
   ]
  },
  {
   "cell_type": "code",
   "execution_count": 766,
   "metadata": {},
   "outputs": [
    {
     "name": "stdout",
     "output_type": "stream",
     "text": [
      "0.36101083032490977\n",
      "2.046511627906977\n",
      "0.7565217391304347\n",
      "1.3455637091394264\n",
      "2.3601609657947686\n",
      "2.013215859030837\n"
     ]
    }
   ],
   "source": [
    "for i in km.cluster_centers_:\n",
    "    print(i.max())"
   ]
  },
  {
   "cell_type": "code",
   "execution_count": 97,
   "metadata": {},
   "outputs": [],
   "source": [
    "df['cluster_pred'] = km.predict(new2)"
   ]
  },
  {
   "cell_type": "code",
   "execution_count": 100,
   "metadata": {},
   "outputs": [
    {
     "data": {
      "text/html": [
       "<div>\n",
       "<style scoped>\n",
       "    .dataframe tbody tr th:only-of-type {\n",
       "        vertical-align: middle;\n",
       "    }\n",
       "\n",
       "    .dataframe tbody tr th {\n",
       "        vertical-align: top;\n",
       "    }\n",
       "\n",
       "    .dataframe thead tr th {\n",
       "        text-align: left;\n",
       "    }\n",
       "\n",
       "    .dataframe thead tr:last-of-type th {\n",
       "        text-align: right;\n",
       "    }\n",
       "</style>\n",
       "<table border=\"1\" class=\"dataframe\">\n",
       "  <thead>\n",
       "    <tr>\n",
       "      <th></th>\n",
       "      <th colspan=\"8\" halign=\"left\">average_word_length</th>\n",
       "      <th colspan=\"2\" halign=\"left\">id</th>\n",
       "      <th>...</th>\n",
       "      <th colspan=\"2\" halign=\"left\">subjectivity</th>\n",
       "      <th colspan=\"8\" halign=\"left\">word_count</th>\n",
       "    </tr>\n",
       "    <tr>\n",
       "      <th></th>\n",
       "      <th>count</th>\n",
       "      <th>mean</th>\n",
       "      <th>std</th>\n",
       "      <th>min</th>\n",
       "      <th>25%</th>\n",
       "      <th>50%</th>\n",
       "      <th>75%</th>\n",
       "      <th>max</th>\n",
       "      <th>count</th>\n",
       "      <th>mean</th>\n",
       "      <th>...</th>\n",
       "      <th>75%</th>\n",
       "      <th>max</th>\n",
       "      <th>count</th>\n",
       "      <th>mean</th>\n",
       "      <th>std</th>\n",
       "      <th>min</th>\n",
       "      <th>25%</th>\n",
       "      <th>50%</th>\n",
       "      <th>75%</th>\n",
       "      <th>max</th>\n",
       "    </tr>\n",
       "    <tr>\n",
       "      <th>cluster_pred</th>\n",
       "      <th></th>\n",
       "      <th></th>\n",
       "      <th></th>\n",
       "      <th></th>\n",
       "      <th></th>\n",
       "      <th></th>\n",
       "      <th></th>\n",
       "      <th></th>\n",
       "      <th></th>\n",
       "      <th></th>\n",
       "      <th></th>\n",
       "      <th></th>\n",
       "      <th></th>\n",
       "      <th></th>\n",
       "      <th></th>\n",
       "      <th></th>\n",
       "      <th></th>\n",
       "      <th></th>\n",
       "      <th></th>\n",
       "      <th></th>\n",
       "      <th></th>\n",
       "    </tr>\n",
       "  </thead>\n",
       "  <tbody>\n",
       "    <tr>\n",
       "      <th>0</th>\n",
       "      <td>38979.0</td>\n",
       "      <td>4.414957</td>\n",
       "      <td>0.526667</td>\n",
       "      <td>0.133333</td>\n",
       "      <td>4.111111</td>\n",
       "      <td>4.358621</td>\n",
       "      <td>4.636364</td>\n",
       "      <td>12.000000</td>\n",
       "      <td>38979.0</td>\n",
       "      <td>1.568710e+08</td>\n",
       "      <td>...</td>\n",
       "      <td>0.722222</td>\n",
       "      <td>1.0</td>\n",
       "      <td>38979.0</td>\n",
       "      <td>57.151210</td>\n",
       "      <td>46.356684</td>\n",
       "      <td>1.0</td>\n",
       "      <td>26.0</td>\n",
       "      <td>47.0</td>\n",
       "      <td>75.0</td>\n",
       "      <td>514.0</td>\n",
       "    </tr>\n",
       "    <tr>\n",
       "      <th>1</th>\n",
       "      <td>42301.0</td>\n",
       "      <td>4.692053</td>\n",
       "      <td>0.667175</td>\n",
       "      <td>0.181818</td>\n",
       "      <td>4.287500</td>\n",
       "      <td>4.595745</td>\n",
       "      <td>4.970588</td>\n",
       "      <td>12.000000</td>\n",
       "      <td>42301.0</td>\n",
       "      <td>1.714256e+08</td>\n",
       "      <td>...</td>\n",
       "      <td>0.766667</td>\n",
       "      <td>1.0</td>\n",
       "      <td>42301.0</td>\n",
       "      <td>34.958535</td>\n",
       "      <td>25.496212</td>\n",
       "      <td>1.0</td>\n",
       "      <td>17.0</td>\n",
       "      <td>29.0</td>\n",
       "      <td>47.0</td>\n",
       "      <td>410.0</td>\n",
       "    </tr>\n",
       "    <tr>\n",
       "      <th>2</th>\n",
       "      <td>49177.0</td>\n",
       "      <td>4.400512</td>\n",
       "      <td>0.411870</td>\n",
       "      <td>0.195122</td>\n",
       "      <td>4.145455</td>\n",
       "      <td>4.361702</td>\n",
       "      <td>4.605263</td>\n",
       "      <td>9.333333</td>\n",
       "      <td>49177.0</td>\n",
       "      <td>1.665759e+08</td>\n",
       "      <td>...</td>\n",
       "      <td>0.678333</td>\n",
       "      <td>1.0</td>\n",
       "      <td>49177.0</td>\n",
       "      <td>84.010777</td>\n",
       "      <td>64.455248</td>\n",
       "      <td>1.0</td>\n",
       "      <td>41.0</td>\n",
       "      <td>69.0</td>\n",
       "      <td>108.0</td>\n",
       "      <td>561.0</td>\n",
       "    </tr>\n",
       "    <tr>\n",
       "      <th>3</th>\n",
       "      <td>37810.0</td>\n",
       "      <td>4.389457</td>\n",
       "      <td>0.410175</td>\n",
       "      <td>0.231579</td>\n",
       "      <td>4.135135</td>\n",
       "      <td>4.362069</td>\n",
       "      <td>4.605263</td>\n",
       "      <td>8.666667</td>\n",
       "      <td>37810.0</td>\n",
       "      <td>1.569846e+08</td>\n",
       "      <td>...</td>\n",
       "      <td>0.720833</td>\n",
       "      <td>1.0</td>\n",
       "      <td>37810.0</td>\n",
       "      <td>65.137159</td>\n",
       "      <td>47.139941</td>\n",
       "      <td>1.0</td>\n",
       "      <td>34.0</td>\n",
       "      <td>55.0</td>\n",
       "      <td>84.0</td>\n",
       "      <td>519.0</td>\n",
       "    </tr>\n",
       "    <tr>\n",
       "      <th>4</th>\n",
       "      <td>39471.0</td>\n",
       "      <td>4.384279</td>\n",
       "      <td>1.351876</td>\n",
       "      <td>0.000000</td>\n",
       "      <td>4.133333</td>\n",
       "      <td>4.434783</td>\n",
       "      <td>4.775510</td>\n",
       "      <td>67.000000</td>\n",
       "      <td>39471.0</td>\n",
       "      <td>1.697895e+08</td>\n",
       "      <td>...</td>\n",
       "      <td>0.708821</td>\n",
       "      <td>1.0</td>\n",
       "      <td>39471.0</td>\n",
       "      <td>43.116212</td>\n",
       "      <td>36.554185</td>\n",
       "      <td>1.0</td>\n",
       "      <td>16.0</td>\n",
       "      <td>36.0</td>\n",
       "      <td>60.0</td>\n",
       "      <td>485.0</td>\n",
       "    </tr>\n",
       "    <tr>\n",
       "      <th>5</th>\n",
       "      <td>33071.0</td>\n",
       "      <td>4.534450</td>\n",
       "      <td>0.511007</td>\n",
       "      <td>0.254237</td>\n",
       "      <td>4.206897</td>\n",
       "      <td>4.470588</td>\n",
       "      <td>4.806452</td>\n",
       "      <td>11.250000</td>\n",
       "      <td>33071.0</td>\n",
       "      <td>1.742207e+08</td>\n",
       "      <td>...</td>\n",
       "      <td>0.683333</td>\n",
       "      <td>1.0</td>\n",
       "      <td>33071.0</td>\n",
       "      <td>51.497415</td>\n",
       "      <td>38.847092</td>\n",
       "      <td>1.0</td>\n",
       "      <td>24.0</td>\n",
       "      <td>43.0</td>\n",
       "      <td>67.0</td>\n",
       "      <td>511.0</td>\n",
       "    </tr>\n",
       "    <tr>\n",
       "      <th>6</th>\n",
       "      <td>40128.0</td>\n",
       "      <td>4.747692</td>\n",
       "      <td>0.752404</td>\n",
       "      <td>0.544910</td>\n",
       "      <td>4.276596</td>\n",
       "      <td>4.615385</td>\n",
       "      <td>5.067893</td>\n",
       "      <td>14.500000</td>\n",
       "      <td>40128.0</td>\n",
       "      <td>2.006058e+08</td>\n",
       "      <td>...</td>\n",
       "      <td>0.777778</td>\n",
       "      <td>1.0</td>\n",
       "      <td>40128.0</td>\n",
       "      <td>25.614509</td>\n",
       "      <td>19.794011</td>\n",
       "      <td>1.0</td>\n",
       "      <td>11.0</td>\n",
       "      <td>21.0</td>\n",
       "      <td>35.0</td>\n",
       "      <td>313.0</td>\n",
       "    </tr>\n",
       "    <tr>\n",
       "      <th>7</th>\n",
       "      <td>37325.0</td>\n",
       "      <td>4.589028</td>\n",
       "      <td>0.468864</td>\n",
       "      <td>0.220339</td>\n",
       "      <td>4.290598</td>\n",
       "      <td>4.541284</td>\n",
       "      <td>4.821429</td>\n",
       "      <td>15.000000</td>\n",
       "      <td>37325.0</td>\n",
       "      <td>1.725886e+08</td>\n",
       "      <td>...</td>\n",
       "      <td>0.718500</td>\n",
       "      <td>1.0</td>\n",
       "      <td>37325.0</td>\n",
       "      <td>54.374869</td>\n",
       "      <td>35.886763</td>\n",
       "      <td>1.0</td>\n",
       "      <td>30.0</td>\n",
       "      <td>47.0</td>\n",
       "      <td>70.0</td>\n",
       "      <td>500.0</td>\n",
       "    </tr>\n",
       "  </tbody>\n",
       "</table>\n",
       "<p>8 rows × 72 columns</p>\n",
       "</div>"
      ],
      "text/plain": [
       "             average_word_length                                          \\\n",
       "                           count      mean       std       min       25%   \n",
       "cluster_pred                                                               \n",
       "0                        38979.0  4.414957  0.526667  0.133333  4.111111   \n",
       "1                        42301.0  4.692053  0.667175  0.181818  4.287500   \n",
       "2                        49177.0  4.400512  0.411870  0.195122  4.145455   \n",
       "3                        37810.0  4.389457  0.410175  0.231579  4.135135   \n",
       "4                        39471.0  4.384279  1.351876  0.000000  4.133333   \n",
       "5                        33071.0  4.534450  0.511007  0.254237  4.206897   \n",
       "6                        40128.0  4.747692  0.752404  0.544910  4.276596   \n",
       "7                        37325.0  4.589028  0.468864  0.220339  4.290598   \n",
       "\n",
       "                                                  id                ...    \\\n",
       "                   50%       75%        max    count          mean  ...     \n",
       "cluster_pred                                                        ...     \n",
       "0             4.358621  4.636364  12.000000  38979.0  1.568710e+08  ...     \n",
       "1             4.595745  4.970588  12.000000  42301.0  1.714256e+08  ...     \n",
       "2             4.361702  4.605263   9.333333  49177.0  1.665759e+08  ...     \n",
       "3             4.362069  4.605263   8.666667  37810.0  1.569846e+08  ...     \n",
       "4             4.434783  4.775510  67.000000  39471.0  1.697895e+08  ...     \n",
       "5             4.470588  4.806452  11.250000  33071.0  1.742207e+08  ...     \n",
       "6             4.615385  5.067893  14.500000  40128.0  2.006058e+08  ...     \n",
       "7             4.541284  4.821429  15.000000  37325.0  1.725886e+08  ...     \n",
       "\n",
       "             subjectivity      word_count                                   \\\n",
       "                      75%  max      count       mean        std  min   25%   \n",
       "cluster_pred                                                                 \n",
       "0                0.722222  1.0    38979.0  57.151210  46.356684  1.0  26.0   \n",
       "1                0.766667  1.0    42301.0  34.958535  25.496212  1.0  17.0   \n",
       "2                0.678333  1.0    49177.0  84.010777  64.455248  1.0  41.0   \n",
       "3                0.720833  1.0    37810.0  65.137159  47.139941  1.0  34.0   \n",
       "4                0.708821  1.0    39471.0  43.116212  36.554185  1.0  16.0   \n",
       "5                0.683333  1.0    33071.0  51.497415  38.847092  1.0  24.0   \n",
       "6                0.777778  1.0    40128.0  25.614509  19.794011  1.0  11.0   \n",
       "7                0.718500  1.0    37325.0  54.374869  35.886763  1.0  30.0   \n",
       "\n",
       "                                  \n",
       "               50%    75%    max  \n",
       "cluster_pred                      \n",
       "0             47.0   75.0  514.0  \n",
       "1             29.0   47.0  410.0  \n",
       "2             69.0  108.0  561.0  \n",
       "3             55.0   84.0  519.0  \n",
       "4             36.0   60.0  485.0  \n",
       "5             43.0   67.0  511.0  \n",
       "6             21.0   35.0  313.0  \n",
       "7             47.0   70.0  500.0  \n",
       "\n",
       "[8 rows x 72 columns]"
      ]
     },
     "execution_count": 100,
     "metadata": {},
     "output_type": "execute_result"
    }
   ],
   "source": [
    "df.groupby('cluster_pred').describe()"
   ]
  },
  {
   "cell_type": "markdown",
   "metadata": {},
   "source": [
    "for i in range (0, 6):\n",
    "    print(f'\\nCluster #{i}:\\n')\n",
    "    print(mini_df[mini_df['cluster_pred']==i]['comments'][:11].values)"
   ]
  },
  {
   "cell_type": "code",
   "execution_count": 755,
   "metadata": {},
   "outputs": [
    {
     "data": {
      "text/plain": [
       "Index(['index', 'listing_id', 'id', 'date', 'reviewer_id', 'reviewer_name',\n",
       "       'comments', 'reviews_cleaned_str', 'polarity', 'subjectivity',\n",
       "       'review_length', 'cleaned_comments', 'cluster_pred'],\n",
       "      dtype='object')"
      ]
     },
     "execution_count": 755,
     "metadata": {},
     "output_type": "execute_result"
    }
   ],
   "source": [
    "mini_df.columns"
   ]
  },
  {
   "cell_type": "code",
   "execution_count": 781,
   "metadata": {},
   "outputs": [
    {
     "data": {
      "text/html": [
       "<div>\n",
       "<style scoped>\n",
       "    .dataframe tbody tr th:only-of-type {\n",
       "        vertical-align: middle;\n",
       "    }\n",
       "\n",
       "    .dataframe tbody tr th {\n",
       "        vertical-align: top;\n",
       "    }\n",
       "\n",
       "    .dataframe thead th {\n",
       "        text-align: right;\n",
       "    }\n",
       "</style>\n",
       "<table border=\"1\" class=\"dataframe\">\n",
       "  <thead>\n",
       "    <tr style=\"text-align: right;\">\n",
       "      <th></th>\n",
       "      <th>index</th>\n",
       "      <th>listing_id</th>\n",
       "      <th>id</th>\n",
       "      <th>reviewer_id</th>\n",
       "      <th>polarity</th>\n",
       "      <th>subjectivity</th>\n",
       "      <th>review_length</th>\n",
       "      <th>num_sentences</th>\n",
       "    </tr>\n",
       "    <tr>\n",
       "      <th>cluster_pred</th>\n",
       "      <th></th>\n",
       "      <th></th>\n",
       "      <th></th>\n",
       "      <th></th>\n",
       "      <th></th>\n",
       "      <th></th>\n",
       "      <th></th>\n",
       "      <th></th>\n",
       "    </tr>\n",
       "  </thead>\n",
       "  <tbody>\n",
       "    <tr>\n",
       "      <th>0</th>\n",
       "      <td>170988.483755</td>\n",
       "      <td>1.067775e+07</td>\n",
       "      <td>1.834945e+08</td>\n",
       "      <td>6.358497e+07</td>\n",
       "      <td>0.378962</td>\n",
       "      <td>0.626172</td>\n",
       "      <td>179.386282</td>\n",
       "      <td>3.131167</td>\n",
       "    </tr>\n",
       "    <tr>\n",
       "      <th>1</th>\n",
       "      <td>139032.558140</td>\n",
       "      <td>8.433975e+06</td>\n",
       "      <td>1.386277e+08</td>\n",
       "      <td>3.843336e+07</td>\n",
       "      <td>0.333045</td>\n",
       "      <td>0.572869</td>\n",
       "      <td>1277.627907</td>\n",
       "      <td>13.662791</td>\n",
       "    </tr>\n",
       "    <tr>\n",
       "      <th>2</th>\n",
       "      <td>144363.229565</td>\n",
       "      <td>8.659678e+06</td>\n",
       "      <td>1.487984e+08</td>\n",
       "      <td>4.520289e+07</td>\n",
       "      <td>0.358610</td>\n",
       "      <td>0.605424</td>\n",
       "      <td>540.780870</td>\n",
       "      <td>6.760000</td>\n",
       "    </tr>\n",
       "    <tr>\n",
       "      <th>3</th>\n",
       "      <td>168834.026017</td>\n",
       "      <td>1.054570e+07</td>\n",
       "      <td>1.826870e+08</td>\n",
       "      <td>5.842258e+07</td>\n",
       "      <td>0.510836</td>\n",
       "      <td>0.661042</td>\n",
       "      <td>191.773182</td>\n",
       "      <td>3.418279</td>\n",
       "    </tr>\n",
       "    <tr>\n",
       "      <th>4</th>\n",
       "      <td>165790.394366</td>\n",
       "      <td>1.037835e+07</td>\n",
       "      <td>1.760991e+08</td>\n",
       "      <td>5.553882e+07</td>\n",
       "      <td>0.389078</td>\n",
       "      <td>0.625418</td>\n",
       "      <td>405.977867</td>\n",
       "      <td>5.563380</td>\n",
       "    </tr>\n",
       "    <tr>\n",
       "      <th>5</th>\n",
       "      <td>148415.027900</td>\n",
       "      <td>8.959630e+06</td>\n",
       "      <td>1.535050e+08</td>\n",
       "      <td>4.748164e+07</td>\n",
       "      <td>0.375847</td>\n",
       "      <td>0.621449</td>\n",
       "      <td>387.023495</td>\n",
       "      <td>5.444934</td>\n",
       "    </tr>\n",
       "  </tbody>\n",
       "</table>\n",
       "</div>"
      ],
      "text/plain": [
       "                      index    listing_id            id   reviewer_id  \\\n",
       "cluster_pred                                                            \n",
       "0             170988.483755  1.067775e+07  1.834945e+08  6.358497e+07   \n",
       "1             139032.558140  8.433975e+06  1.386277e+08  3.843336e+07   \n",
       "2             144363.229565  8.659678e+06  1.487984e+08  4.520289e+07   \n",
       "3             168834.026017  1.054570e+07  1.826870e+08  5.842258e+07   \n",
       "4             165790.394366  1.037835e+07  1.760991e+08  5.553882e+07   \n",
       "5             148415.027900  8.959630e+06  1.535050e+08  4.748164e+07   \n",
       "\n",
       "              polarity  subjectivity  review_length  num_sentences  \n",
       "cluster_pred                                                        \n",
       "0             0.378962      0.626172     179.386282       3.131167  \n",
       "1             0.333045      0.572869    1277.627907      13.662791  \n",
       "2             0.358610      0.605424     540.780870       6.760000  \n",
       "3             0.510836      0.661042     191.773182       3.418279  \n",
       "4             0.389078      0.625418     405.977867       5.563380  \n",
       "5             0.375847      0.621449     387.023495       5.444934  "
      ]
     },
     "execution_count": 781,
     "metadata": {},
     "output_type": "execute_result"
    }
   ],
   "source": [
    "mini_df.groupby('cluster_pred').mean()"
   ]
  },
  {
   "cell_type": "code",
   "execution_count": 780,
   "metadata": {},
   "outputs": [
    {
     "data": {
      "text/html": [
       "<div>\n",
       "<style scoped>\n",
       "    .dataframe tbody tr th:only-of-type {\n",
       "        vertical-align: middle;\n",
       "    }\n",
       "\n",
       "    .dataframe tbody tr th {\n",
       "        vertical-align: top;\n",
       "    }\n",
       "\n",
       "    .dataframe thead th {\n",
       "        text-align: right;\n",
       "    }\n",
       "</style>\n",
       "<table border=\"1\" class=\"dataframe\">\n",
       "  <thead>\n",
       "    <tr style=\"text-align: right;\">\n",
       "      <th></th>\n",
       "      <th>index</th>\n",
       "      <th>id</th>\n",
       "      <th>reviewer_id</th>\n",
       "      <th>polarity</th>\n",
       "      <th>subjectivity</th>\n",
       "      <th>review_length</th>\n",
       "      <th>cluster_pred</th>\n",
       "      <th>num_sentences</th>\n",
       "    </tr>\n",
       "    <tr>\n",
       "      <th>listing_id</th>\n",
       "      <th></th>\n",
       "      <th></th>\n",
       "      <th></th>\n",
       "      <th></th>\n",
       "      <th></th>\n",
       "      <th></th>\n",
       "      <th></th>\n",
       "      <th></th>\n",
       "    </tr>\n",
       "  </thead>\n",
       "  <tbody>\n",
       "    <tr>\n",
       "      <th>12899</th>\n",
       "      <td>208.000000</td>\n",
       "      <td>4.172736e+07</td>\n",
       "      <td>8.117452e+06</td>\n",
       "      <td>0.435046</td>\n",
       "      <td>0.644374</td>\n",
       "      <td>351.500000</td>\n",
       "      <td>1.875000</td>\n",
       "      <td>4.250000</td>\n",
       "    </tr>\n",
       "    <tr>\n",
       "      <th>26203</th>\n",
       "      <td>575.000000</td>\n",
       "      <td>2.220860e+05</td>\n",
       "      <td>4.503810e+05</td>\n",
       "      <td>0.257143</td>\n",
       "      <td>0.469048</td>\n",
       "      <td>260.000000</td>\n",
       "      <td>0.000000</td>\n",
       "      <td>4.000000</td>\n",
       "    </tr>\n",
       "    <tr>\n",
       "      <th>37676</th>\n",
       "      <td>699.000000</td>\n",
       "      <td>6.864086e+06</td>\n",
       "      <td>1.910440e+06</td>\n",
       "      <td>0.438628</td>\n",
       "      <td>0.577965</td>\n",
       "      <td>560.000000</td>\n",
       "      <td>3.000000</td>\n",
       "      <td>8.333333</td>\n",
       "    </tr>\n",
       "    <tr>\n",
       "      <th>39938</th>\n",
       "      <td>853.333333</td>\n",
       "      <td>1.154776e+08</td>\n",
       "      <td>2.371007e+07</td>\n",
       "      <td>0.467092</td>\n",
       "      <td>0.590487</td>\n",
       "      <td>395.666667</td>\n",
       "      <td>2.333333</td>\n",
       "      <td>6.333333</td>\n",
       "    </tr>\n",
       "    <tr>\n",
       "      <th>41601</th>\n",
       "      <td>1031.500000</td>\n",
       "      <td>1.846395e+05</td>\n",
       "      <td>3.233805e+05</td>\n",
       "      <td>0.439063</td>\n",
       "      <td>0.690972</td>\n",
       "      <td>155.000000</td>\n",
       "      <td>0.000000</td>\n",
       "      <td>2.000000</td>\n",
       "    </tr>\n",
       "    <tr>\n",
       "      <th>...</th>\n",
       "      <td>...</td>\n",
       "      <td>...</td>\n",
       "      <td>...</td>\n",
       "      <td>...</td>\n",
       "      <td>...</td>\n",
       "      <td>...</td>\n",
       "      <td>...</td>\n",
       "      <td>...</td>\n",
       "    </tr>\n",
       "    <tr>\n",
       "      <th>27631229</th>\n",
       "      <td>317741.000000</td>\n",
       "      <td>3.257698e+08</td>\n",
       "      <td>1.917696e+08</td>\n",
       "      <td>0.628333</td>\n",
       "      <td>0.675000</td>\n",
       "      <td>102.000000</td>\n",
       "      <td>3.000000</td>\n",
       "      <td>4.000000</td>\n",
       "    </tr>\n",
       "    <tr>\n",
       "      <th>28167575</th>\n",
       "      <td>318115.000000</td>\n",
       "      <td>3.274645e+08</td>\n",
       "      <td>2.164211e+08</td>\n",
       "      <td>0.750000</td>\n",
       "      <td>1.000000</td>\n",
       "      <td>46.000000</td>\n",
       "      <td>0.000000</td>\n",
       "      <td>1.000000</td>\n",
       "    </tr>\n",
       "    <tr>\n",
       "      <th>28197448</th>\n",
       "      <td>318125.000000</td>\n",
       "      <td>3.216481e+08</td>\n",
       "      <td>6.662344e+07</td>\n",
       "      <td>0.466667</td>\n",
       "      <td>0.783333</td>\n",
       "      <td>143.000000</td>\n",
       "      <td>5.000000</td>\n",
       "      <td>3.000000</td>\n",
       "    </tr>\n",
       "    <tr>\n",
       "      <th>28226590</th>\n",
       "      <td>318137.000000</td>\n",
       "      <td>3.230669e+08</td>\n",
       "      <td>9.780671e+07</td>\n",
       "      <td>0.089167</td>\n",
       "      <td>0.483333</td>\n",
       "      <td>83.000000</td>\n",
       "      <td>0.000000</td>\n",
       "      <td>1.000000</td>\n",
       "    </tr>\n",
       "    <tr>\n",
       "      <th>28480171</th>\n",
       "      <td>318210.000000</td>\n",
       "      <td>3.289913e+08</td>\n",
       "      <td>4.182102e+07</td>\n",
       "      <td>0.347917</td>\n",
       "      <td>0.737500</td>\n",
       "      <td>441.000000</td>\n",
       "      <td>4.000000</td>\n",
       "      <td>6.000000</td>\n",
       "    </tr>\n",
       "  </tbody>\n",
       "</table>\n",
       "<p>2261 rows × 8 columns</p>\n",
       "</div>"
      ],
      "text/plain": [
       "                    index            id   reviewer_id  polarity  subjectivity  \\\n",
       "listing_id                                                                      \n",
       "12899          208.000000  4.172736e+07  8.117452e+06  0.435046      0.644374   \n",
       "26203          575.000000  2.220860e+05  4.503810e+05  0.257143      0.469048   \n",
       "37676          699.000000  6.864086e+06  1.910440e+06  0.438628      0.577965   \n",
       "39938          853.333333  1.154776e+08  2.371007e+07  0.467092      0.590487   \n",
       "41601         1031.500000  1.846395e+05  3.233805e+05  0.439063      0.690972   \n",
       "...                   ...           ...           ...       ...           ...   \n",
       "27631229    317741.000000  3.257698e+08  1.917696e+08  0.628333      0.675000   \n",
       "28167575    318115.000000  3.274645e+08  2.164211e+08  0.750000      1.000000   \n",
       "28197448    318125.000000  3.216481e+08  6.662344e+07  0.466667      0.783333   \n",
       "28226590    318137.000000  3.230669e+08  9.780671e+07  0.089167      0.483333   \n",
       "28480171    318210.000000  3.289913e+08  4.182102e+07  0.347917      0.737500   \n",
       "\n",
       "            review_length  cluster_pred  num_sentences  \n",
       "listing_id                                              \n",
       "12899          351.500000      1.875000       4.250000  \n",
       "26203          260.000000      0.000000       4.000000  \n",
       "37676          560.000000      3.000000       8.333333  \n",
       "39938          395.666667      2.333333       6.333333  \n",
       "41601          155.000000      0.000000       2.000000  \n",
       "...                   ...           ...            ...  \n",
       "27631229       102.000000      3.000000       4.000000  \n",
       "28167575        46.000000      0.000000       1.000000  \n",
       "28197448       143.000000      5.000000       3.000000  \n",
       "28226590        83.000000      0.000000       1.000000  \n",
       "28480171       441.000000      4.000000       6.000000  \n",
       "\n",
       "[2261 rows x 8 columns]"
      ]
     },
     "execution_count": 780,
     "metadata": {},
     "output_type": "execute_result"
    }
   ],
   "source": [
    "mini_df.groupby('listing_id').mean()"
   ]
  },
  {
   "cell_type": "code",
   "execution_count": 779,
   "metadata": {},
   "outputs": [
    {
     "data": {
      "text/html": [
       "<div>\n",
       "<style scoped>\n",
       "    .dataframe tbody tr th:only-of-type {\n",
       "        vertical-align: middle;\n",
       "    }\n",
       "\n",
       "    .dataframe tbody tr th {\n",
       "        vertical-align: top;\n",
       "    }\n",
       "\n",
       "    .dataframe thead th {\n",
       "        text-align: right;\n",
       "    }\n",
       "</style>\n",
       "<table border=\"1\" class=\"dataframe\">\n",
       "  <thead>\n",
       "    <tr style=\"text-align: right;\">\n",
       "      <th></th>\n",
       "      <th>index</th>\n",
       "      <th>listing_id</th>\n",
       "      <th>id</th>\n",
       "      <th>reviewer_id</th>\n",
       "      <th>polarity</th>\n",
       "      <th>subjectivity</th>\n",
       "      <th>review_length</th>\n",
       "      <th>cluster_pred</th>\n",
       "      <th>num_sentences</th>\n",
       "    </tr>\n",
       "  </thead>\n",
       "  <tbody>\n",
       "    <tr>\n",
       "      <th>count</th>\n",
       "      <td>5000.000000</td>\n",
       "      <td>5.000000e+03</td>\n",
       "      <td>5.000000e+03</td>\n",
       "      <td>5.000000e+03</td>\n",
       "      <td>5000.000000</td>\n",
       "      <td>5000.000000</td>\n",
       "      <td>5000.000000</td>\n",
       "      <td>5000.000000</td>\n",
       "      <td>5000.000000</td>\n",
       "    </tr>\n",
       "    <tr>\n",
       "      <th>mean</th>\n",
       "      <td>163139.836400</td>\n",
       "      <td>1.010372e+07</td>\n",
       "      <td>1.736710e+08</td>\n",
       "      <td>5.649768e+07</td>\n",
       "      <td>0.415949</td>\n",
       "      <td>0.632605</td>\n",
       "      <td>294.353400</td>\n",
       "      <td>2.225200</td>\n",
       "      <td>4.372600</td>\n",
       "    </tr>\n",
       "    <tr>\n",
       "      <th>std</th>\n",
       "      <td>92511.502449</td>\n",
       "      <td>7.267730e+06</td>\n",
       "      <td>9.551488e+07</td>\n",
       "      <td>5.392084e+07</td>\n",
       "      <td>0.187234</td>\n",
       "      <td>0.153816</td>\n",
       "      <td>249.195646</td>\n",
       "      <td>1.794416</td>\n",
       "      <td>2.764507</td>\n",
       "    </tr>\n",
       "    <tr>\n",
       "      <th>min</th>\n",
       "      <td>16.000000</td>\n",
       "      <td>1.289900e+04</td>\n",
       "      <td>7.141800e+04</td>\n",
       "      <td>1.000000e+00</td>\n",
       "      <td>-0.750000</td>\n",
       "      <td>0.000000</td>\n",
       "      <td>0.000000</td>\n",
       "      <td>0.000000</td>\n",
       "      <td>0.000000</td>\n",
       "    </tr>\n",
       "    <tr>\n",
       "      <th>25%</th>\n",
       "      <td>82410.500000</td>\n",
       "      <td>3.761821e+06</td>\n",
       "      <td>9.029888e+07</td>\n",
       "      <td>1.327119e+07</td>\n",
       "      <td>0.303901</td>\n",
       "      <td>0.556582</td>\n",
       "      <td>132.000000</td>\n",
       "      <td>0.000000</td>\n",
       "      <td>3.000000</td>\n",
       "    </tr>\n",
       "    <tr>\n",
       "      <th>50%</th>\n",
       "      <td>165305.000000</td>\n",
       "      <td>8.714815e+06</td>\n",
       "      <td>1.740933e+08</td>\n",
       "      <td>3.680000e+07</td>\n",
       "      <td>0.401220</td>\n",
       "      <td>0.635714</td>\n",
       "      <td>236.500000</td>\n",
       "      <td>3.000000</td>\n",
       "      <td>4.000000</td>\n",
       "    </tr>\n",
       "    <tr>\n",
       "      <th>75%</th>\n",
       "      <td>244618.750000</td>\n",
       "      <td>1.605875e+07</td>\n",
       "      <td>2.601940e+08</td>\n",
       "      <td>8.763617e+07</td>\n",
       "      <td>0.516938</td>\n",
       "      <td>0.725000</td>\n",
       "      <td>387.250000</td>\n",
       "      <td>3.000000</td>\n",
       "      <td>6.000000</td>\n",
       "    </tr>\n",
       "    <tr>\n",
       "      <th>max</th>\n",
       "      <td>318210.000000</td>\n",
       "      <td>2.848017e+07</td>\n",
       "      <td>3.343601e+08</td>\n",
       "      <td>2.173200e+08</td>\n",
       "      <td>1.000000</td>\n",
       "      <td>1.000000</td>\n",
       "      <td>2886.000000</td>\n",
       "      <td>5.000000</td>\n",
       "      <td>35.000000</td>\n",
       "    </tr>\n",
       "  </tbody>\n",
       "</table>\n",
       "</div>"
      ],
      "text/plain": [
       "               index    listing_id            id   reviewer_id     polarity  \\\n",
       "count    5000.000000  5.000000e+03  5.000000e+03  5.000000e+03  5000.000000   \n",
       "mean   163139.836400  1.010372e+07  1.736710e+08  5.649768e+07     0.415949   \n",
       "std     92511.502449  7.267730e+06  9.551488e+07  5.392084e+07     0.187234   \n",
       "min        16.000000  1.289900e+04  7.141800e+04  1.000000e+00    -0.750000   \n",
       "25%     82410.500000  3.761821e+06  9.029888e+07  1.327119e+07     0.303901   \n",
       "50%    165305.000000  8.714815e+06  1.740933e+08  3.680000e+07     0.401220   \n",
       "75%    244618.750000  1.605875e+07  2.601940e+08  8.763617e+07     0.516938   \n",
       "max    318210.000000  2.848017e+07  3.343601e+08  2.173200e+08     1.000000   \n",
       "\n",
       "       subjectivity  review_length  cluster_pred  num_sentences  \n",
       "count   5000.000000    5000.000000   5000.000000    5000.000000  \n",
       "mean       0.632605     294.353400      2.225200       4.372600  \n",
       "std        0.153816     249.195646      1.794416       2.764507  \n",
       "min        0.000000       0.000000      0.000000       0.000000  \n",
       "25%        0.556582     132.000000      0.000000       3.000000  \n",
       "50%        0.635714     236.500000      3.000000       4.000000  \n",
       "75%        0.725000     387.250000      3.000000       6.000000  \n",
       "max        1.000000    2886.000000      5.000000      35.000000  "
      ]
     },
     "execution_count": 779,
     "metadata": {},
     "output_type": "execute_result"
    }
   ],
   "source": [
    "mini_df.describe()"
   ]
  },
  {
   "cell_type": "code",
   "execution_count": 778,
   "metadata": {},
   "outputs": [],
   "source": [
    "mini_df['num_sentences'] = mini_df['comments'].apply(lambda x: len(sent_tokenize(x)))"
   ]
  },
  {
   "cell_type": "code",
   "execution_count": 830,
   "metadata": {},
   "outputs": [
    {
     "data": {
      "text/plain": [
       "0    1662\n",
       "3    1499\n",
       "5     681\n",
       "2     575\n",
       "4     497\n",
       "1      86\n",
       "Name: cluster_pred, dtype: int64"
      ]
     },
     "execution_count": 830,
     "metadata": {},
     "output_type": "execute_result"
    }
   ],
   "source": [
    "mini_df['cluster_pred'].value_counts()"
   ]
  },
  {
   "cell_type": "markdown",
   "metadata": {},
   "source": [
    "#### New workflow"
   ]
  },
  {
   "cell_type": "code",
   "execution_count": 10,
   "metadata": {},
   "outputs": [
    {
     "data": {
      "text/html": [
       "<div>\n",
       "<style scoped>\n",
       "    .dataframe tbody tr th:only-of-type {\n",
       "        vertical-align: middle;\n",
       "    }\n",
       "\n",
       "    .dataframe tbody tr th {\n",
       "        vertical-align: top;\n",
       "    }\n",
       "\n",
       "    .dataframe thead th {\n",
       "        text-align: right;\n",
       "    }\n",
       "</style>\n",
       "<table border=\"1\" class=\"dataframe\">\n",
       "  <thead>\n",
       "    <tr style=\"text-align: right;\">\n",
       "      <th></th>\n",
       "      <th>listing_id</th>\n",
       "      <th>id</th>\n",
       "      <th>date</th>\n",
       "      <th>reviewer_id</th>\n",
       "      <th>reviewer_name</th>\n",
       "      <th>comments</th>\n",
       "    </tr>\n",
       "  </thead>\n",
       "  <tbody>\n",
       "    <tr>\n",
       "      <th>0</th>\n",
       "      <td>7893</td>\n",
       "      <td>27282</td>\n",
       "      <td>2010-02-22</td>\n",
       "      <td>52074</td>\n",
       "      <td>Shaun</td>\n",
       "      <td>Couldn't possibly had a better experience with...</td>\n",
       "    </tr>\n",
       "    <tr>\n",
       "      <th>1</th>\n",
       "      <td>7893</td>\n",
       "      <td>17461247</td>\n",
       "      <td>2014-08-12</td>\n",
       "      <td>13284006</td>\n",
       "      <td>Jessica</td>\n",
       "      <td>Jesse's place was really wonderful! The apartm...</td>\n",
       "    </tr>\n",
       "  </tbody>\n",
       "</table>\n",
       "</div>"
      ],
      "text/plain": [
       "   listing_id        id        date  reviewer_id reviewer_name  \\\n",
       "0        7893     27282  2010-02-22        52074         Shaun   \n",
       "1        7893  17461247  2014-08-12     13284006       Jessica   \n",
       "\n",
       "                                            comments  \n",
       "0  Couldn't possibly had a better experience with...  \n",
       "1  Jesse's place was really wonderful! The apartm...  "
      ]
     },
     "execution_count": 10,
     "metadata": {},
     "output_type": "execute_result"
    }
   ],
   "source": [
    "df.head(2)"
   ]
  },
  {
   "cell_type": "code",
   "execution_count": 136,
   "metadata": {},
   "outputs": [
    {
     "data": {
      "text/html": [
       "<div>\n",
       "<style scoped>\n",
       "    .dataframe tbody tr th:only-of-type {\n",
       "        vertical-align: middle;\n",
       "    }\n",
       "\n",
       "    .dataframe tbody tr th {\n",
       "        vertical-align: top;\n",
       "    }\n",
       "\n",
       "    .dataframe thead th {\n",
       "        text-align: right;\n",
       "    }\n",
       "</style>\n",
       "<table border=\"1\" class=\"dataframe\">\n",
       "  <thead>\n",
       "    <tr style=\"text-align: right;\">\n",
       "      <th></th>\n",
       "      <th>index</th>\n",
       "      <th>listing_id</th>\n",
       "      <th>id</th>\n",
       "      <th>date</th>\n",
       "      <th>reviewer_id</th>\n",
       "      <th>reviewer_name</th>\n",
       "      <th>comments</th>\n",
       "      <th>reviews_cleaned_str</th>\n",
       "      <th>polarity</th>\n",
       "      <th>subjectivity</th>\n",
       "      <th>review_length</th>\n",
       "      <th>cleaned_comments</th>\n",
       "    </tr>\n",
       "  </thead>\n",
       "  <tbody>\n",
       "    <tr>\n",
       "      <th>0</th>\n",
       "      <td>48257</td>\n",
       "      <td>1677299</td>\n",
       "      <td>98722579</td>\n",
       "      <td>2016-09-01</td>\n",
       "      <td>12555755</td>\n",
       "      <td>Shaun</td>\n",
       "      <td>Ivy was a wonderful host! She welcomed us with...</td>\n",
       "      <td>wonder host welcom surpris basket fuel rest we...</td>\n",
       "      <td>0.308333</td>\n",
       "      <td>0.725</td>\n",
       "      <td>296</td>\n",
       "      <td>wonderful host welcomed surprise basket fueled...</td>\n",
       "    </tr>\n",
       "    <tr>\n",
       "      <th>1</th>\n",
       "      <td>242359</td>\n",
       "      <td>15910855</td>\n",
       "      <td>307161783</td>\n",
       "      <td>2018-08-13</td>\n",
       "      <td>153332906</td>\n",
       "      <td>Matthew</td>\n",
       "      <td>Great place to stay, would go back.</td>\n",
       "      <td>great place stay would back</td>\n",
       "      <td>0.400000</td>\n",
       "      <td>0.375</td>\n",
       "      <td>35</td>\n",
       "      <td>great place stay would back</td>\n",
       "    </tr>\n",
       "  </tbody>\n",
       "</table>\n",
       "</div>"
      ],
      "text/plain": [
       "    index  listing_id         id        date  reviewer_id reviewer_name  \\\n",
       "0   48257     1677299   98722579  2016-09-01     12555755         Shaun   \n",
       "1  242359    15910855  307161783  2018-08-13    153332906       Matthew   \n",
       "\n",
       "                                            comments  \\\n",
       "0  Ivy was a wonderful host! She welcomed us with...   \n",
       "1                Great place to stay, would go back.   \n",
       "\n",
       "                                 reviews_cleaned_str  polarity  subjectivity  \\\n",
       "0  wonder host welcom surpris basket fuel rest we...  0.308333         0.725   \n",
       "1                        great place stay would back  0.400000         0.375   \n",
       "\n",
       "   review_length                                   cleaned_comments  \n",
       "0            296  wonderful host welcomed surprise basket fueled...  \n",
       "1             35                        great place stay would back  "
      ]
     },
     "execution_count": 136,
     "metadata": {},
     "output_type": "execute_result"
    }
   ],
   "source": [
    "mini_df.head(2)"
   ]
  },
  {
   "cell_type": "code",
   "execution_count": null,
   "metadata": {},
   "outputs": [],
   "source": [
    "mini_df = df.sample(n=5000, replace=False, random_state=22)"
   ]
  },
  {
   "cell_type": "code",
   "execution_count": 82,
   "metadata": {},
   "outputs": [],
   "source": [
    "def run_new_lda(corpus, topics):\n",
    "    tf_vectorizer = CountVectorizer(max_df=0.95,\n",
    "                                    min_df=2,\n",
    "                                    lowercase=True,\n",
    "                                    strip_accents='unicode',\n",
    "                                    token_pattern = r'\\b[a-zA-Z]{3,}\\b',\n",
    "                                    stop_words='english')\n",
    "\n",
    "    dtm_tf = tf_vectorizer.fit_transform(corpus)\n",
    "\n",
    "    vocab = np.array(tf_vectorizer.get_feature_names())\n",
    "    counts = np.array(dtm_tf.sum(0))[0,:]\n",
    "    vocab[np.argsort(-counts)[:100]]\n",
    "\n",
    "    lda_tf = LatentDirichletAllocation(n_components=topics,\n",
    "                                       random_state=0,\n",
    "                                       learning_method='online',\n",
    "                                       learning_decay=0.6,\n",
    "                                       learning_offset=1024,\n",
    "                                       batch_size=256,\n",
    "                                       topic_word_prior=.005,\n",
    "                                       n_jobs=-1)\n",
    "    lda_tf.fit(dtm_tf) #or fit_transform\n",
    "    \n",
    "    return dtm_tf, vocab, counts, lda_tf"
   ]
  },
  {
   "cell_type": "code",
   "execution_count": 71,
   "metadata": {},
   "outputs": [
    {
     "data": {
      "text/plain": [
       "1874.0727072615089"
      ]
     },
     "execution_count": 71,
     "metadata": {},
     "output_type": "execute_result"
    }
   ],
   "source": [
    "lda_tf.perplexity(dtm_tf)"
   ]
  },
  {
   "cell_type": "code",
   "execution_count": 97,
   "metadata": {},
   "outputs": [],
   "source": [
    "def run_new_lda(corpus, topics):\n",
    "    tf_vectorizer = CountVectorizer(max_df=0.95,\n",
    "                                min_df=2,\n",
    "                                lowercase=True,\n",
    "                                strip_accents='unicode',\n",
    "                                token_pattern = r'\\b[a-zA-Z]{3,}\\b',\n",
    "                                stop_words='english')\n",
    "    \n",
    "    dtm_tf = tf_vectorizer.fit_transform(corpus)\n",
    "\n",
    "    vocab = np.array(tf_vectorizer.get_feature_names())\n",
    "    counts = np.array(dtm_tf.sum(0))[0,:]\n",
    "    vocab[np.argsort(-counts)[:100]]\n",
    "\n",
    "    lda_tf = LatentDirichletAllocation(n_components=topics,\n",
    "                                       random_state=0,\n",
    "                                       learning_method='online',\n",
    "                                       learning_decay=0.6,\n",
    "                                       learning_offset=1024,\n",
    "                                       batch_size=256,\n",
    "                                       topic_word_prior=.005,\n",
    "                                       n_jobs=-1)\n",
    "    lda_tf.fit(dtm_tf) #or fit_transform"
   ]
  },
  {
   "cell_type": "code",
   "execution_count": 98,
   "metadata": {},
   "outputs": [],
   "source": [
    "run_new_lda(mini_df['cleaned_comments'], 6)"
   ]
  },
  {
   "cell_type": "markdown",
   "metadata": {},
   "source": [
    "CURRENT"
   ]
  },
  {
   "cell_type": "code",
   "execution_count": 17,
   "metadata": {},
   "outputs": [],
   "source": [
    "# mini_df['cleaned_comments'].fillna('', inplace=True)\n",
    "df['cleaned_comments'].fillna('', inplace=True)"
   ]
  },
  {
   "cell_type": "code",
   "execution_count": 48,
   "metadata": {},
   "outputs": [
    {
     "data": {
      "text/plain": [
       "LatentDirichletAllocation(batch_size=256, doc_topic_prior=None,\n",
       "             evaluate_every=-1, learning_decay=0.6,\n",
       "             learning_method='online', learning_offset=1024,\n",
       "             max_doc_update_iter=100, max_iter=10, mean_change_tol=0.001,\n",
       "             n_components=10, n_jobs=-1, n_topics=None, perp_tol=0.1,\n",
       "             random_state=0, topic_word_prior=0.05,\n",
       "             total_samples=1000000.0, verbose=0)"
      ]
     },
     "execution_count": 48,
     "metadata": {},
     "output_type": "execute_result"
    }
   ],
   "source": [
    "tf_vectorizer = CountVectorizer(\n",
    "                            max_df=0.3,\n",
    "                            min_df=.01,\n",
    "                            lowercase=True,\n",
    "                            strip_accents='unicode',\n",
    "                            token_pattern = r'\\b[a-zA-Z]{3,}\\b',\n",
    "                            stop_words='english',\n",
    "                            ngram_range=(1,2))\n",
    "\n",
    "dtm_tf = tf_vectorizer.fit_transform(mini_df['cleaned_comments'])\n",
    "\n",
    "vocab = np.array(tf_vectorizer.get_feature_names())\n",
    "counts = np.array(dtm_tf.sum(0))[0,:]\n",
    "vocab[np.argsort(-counts)[:100]]\n",
    "\n",
    "lda_tf = LatentDirichletAllocation(n_components=10,\n",
    "                                   random_state=0,\n",
    "                                   learning_method='online',\n",
    "                                   learning_decay=0.6,\n",
    "                                   learning_offset=1024,\n",
    "                                   batch_size=256,\n",
    "                                   topic_word_prior=.05,\n",
    "                                   n_jobs=-1)\n",
    "lda_tf.fit_transform(dtm_tf) #or fit_transform"
   ]
  },
  {
   "cell_type": "code",
   "execution_count": 63,
   "metadata": {},
   "outputs": [
    {
     "data": {
      "text/plain": [
       "295.98955115390305"
      ]
     },
     "execution_count": 63,
     "metadata": {},
     "output_type": "execute_result"
    }
   ],
   "source": [
    "lda_tf.perplexity(dtm_tf)"
   ]
  },
  {
   "cell_type": "code",
   "execution_count": 51,
   "metadata": {},
   "outputs": [],
   "source": [
    "new = tf_vectorizer.transform(df['cleaned_comments'])"
   ]
  },
  {
   "cell_type": "code",
   "execution_count": 55,
   "metadata": {},
   "outputs": [],
   "source": [
    "new2 = lda_tf.transform(new)"
   ]
  },
  {
   "cell_type": "code",
   "execution_count": 56,
   "metadata": {},
   "outputs": [
    {
     "data": {
      "text/plain": [
       "(318262, 10)"
      ]
     },
     "execution_count": 56,
     "metadata": {},
     "output_type": "execute_result"
    }
   ],
   "source": [
    "new2.shape"
   ]
  },
  {
   "cell_type": "markdown",
   "metadata": {},
   "source": [
    "#### Backup with pickle"
   ]
  },
  {
   "cell_type": "code",
   "execution_count": 60,
   "metadata": {},
   "outputs": [],
   "source": [
    "# with open('backups/tf_vectorized_reviews.pickle', 'wb') as p:\n",
    "#     pickle.dump(new, p)\n",
    "    \n",
    "# with open('backups/lda_transformed_reviews.pickle', 'wb') as p:\n",
    "# pickle.dump(new2, p)"
   ]
  },
  {
   "cell_type": "markdown",
   "metadata": {},
   "source": [
    "#### Open pickled files"
   ]
  },
  {
   "cell_type": "code",
   "execution_count": 18,
   "metadata": {},
   "outputs": [],
   "source": [
    "with open('backups/tf_vectorized_reviews.pickle', 'rb') as p:\n",
    "    new = pickle.load(p)\n",
    "    \n",
    "with open('backups/lda_transformed_reviews.pickle', 'rb') as p:\n",
    "    new2 = pickle.load(p)"
   ]
  },
  {
   "cell_type": "code",
   "execution_count": 23,
   "metadata": {},
   "outputs": [
    {
     "data": {
      "text/plain": [
       "<318262x422 sparse matrix of type '<class 'numpy.int64'>'\n",
       "\twith 4591983 stored elements in Compressed Sparse Row format>"
      ]
     },
     "execution_count": 23,
     "metadata": {},
     "output_type": "execute_result"
    }
   ],
   "source": [
    "new"
   ]
  },
  {
   "cell_type": "code",
   "execution_count": 50,
   "metadata": {},
   "outputs": [
    {
     "name": "stdout",
     "output_type": "stream",
     "text": [
      "TOPIC 0\n",
      "house\n",
      "experience\n",
      "airbnb\n",
      "really\n",
      "nice\n",
      "best\n",
      "good\n",
      "time\n",
      "room\n",
      "stayed\n",
      "\n",
      "TOPIC 1\n",
      "home\n",
      "perfect\n",
      "feel\n",
      "like\n",
      "felt\n",
      "trip\n",
      "make\n",
      "wonderful\n",
      "cottage\n",
      "comfortable\n",
      "\n",
      "TOPIC 2\n",
      "downtown\n",
      "quiet\n",
      "neighborhood\n",
      "easy\n",
      "close\n",
      "walk\n",
      "short\n",
      "access\n",
      "nice\n",
      "public\n",
      "\n",
      "TOPIC 3\n",
      "walking\n",
      "distance\n",
      "walking distance\n",
      "great place\n",
      "place stay\n",
      "restaurants\n",
      "shops\n",
      "neighborhood\n",
      "bars\n",
      "food\n",
      "\n",
      "TOPIC 4\n",
      "host\n",
      "beautiful\n",
      "home\n",
      "comfortable\n",
      "wonderful\n",
      "neighborhood\n",
      "lovely\n",
      "clean\n",
      "loved\n",
      "hosts\n",
      "\n",
      "TOPIC 5\n",
      "location\n",
      "great location\n",
      "clean\n",
      "super\n",
      "perfect\n",
      "easy\n",
      "space\n",
      "quick\n",
      "host\n",
      "recommended\n",
      "\n",
      "TOPIC 6\n",
      "time\n",
      "definitely\n",
      "definitely stay\n",
      "visit\n",
      "exactly\n",
      "nice\n",
      "described\n",
      "check\n",
      "clean\n",
      "needed\n",
      "\n",
      "TOPIC 7\n",
      "recommend\n",
      "highly\n",
      "highly recommend\n",
      "staying\n",
      "definitely recommend\n",
      "definitely\n",
      "recommend staying\n",
      "recommend place\n",
      "visiting\n",
      "clean\n",
      "\n",
      "TOPIC 8\n",
      "room\n",
      "kitchen\n",
      "space\n",
      "bathroom\n",
      "nice\n",
      "comfortable\n",
      "clean\n",
      "apartment\n",
      "small\n",
      "little\n",
      "\n",
      "TOPIC 9\n",
      "restaurants\n",
      "shops\n",
      "enjoyed\n",
      "close\n",
      "comfortable\n",
      "street\n",
      "really\n",
      "location\n",
      "clean\n",
      "clean comfortable\n",
      "\n"
     ]
    }
   ],
   "source": [
    "for topic in range(10):\n",
    "    print(f\"TOPIC {topic}\")\n",
    "    for j in np.argsort(-lda_tf.components_,1)[topic,:10]:\n",
    "        print(vocab[j])\n",
    "    print()"
   ]
  },
  {
   "cell_type": "code",
   "execution_count": 32,
   "metadata": {},
   "outputs": [],
   "source": [
    "# lda_tf.fit_transform(dtm_tf)"
   ]
  },
  {
   "cell_type": "code",
   "execution_count": 39,
   "metadata": {},
   "outputs": [],
   "source": []
  },
  {
   "cell_type": "code",
   "execution_count": 43,
   "metadata": {},
   "outputs": [],
   "source": [
    "tf_vectorizer = CountVectorizer(\n",
    "                            max_df=0.3,\n",
    "                            min_df=.01,\n",
    "                            lowercase=True,\n",
    "                            strip_accents='unicode',\n",
    "                            token_pattern = r'\\b[a-zA-Z]{3,}\\b',\n",
    "                            stop_words='english',\n",
    "                            ngram_range=(1,2))\n",
    "\n",
    "dtm_tf = tf_vectorizer.fit_transform(df['cleaned_comments'])"
   ]
  },
  {
   "cell_type": "code",
   "execution_count": null,
   "metadata": {},
   "outputs": [],
   "source": []
  },
  {
   "cell_type": "code",
   "execution_count": 142,
   "metadata": {},
   "outputs": [
    {
     "data": {
      "text/plain": [
       "(318262, 17)"
      ]
     },
     "execution_count": 142,
     "metadata": {},
     "output_type": "execute_result"
    }
   ],
   "source": [
    "df.shape"
   ]
  },
  {
   "cell_type": "code",
   "execution_count": 37,
   "metadata": {},
   "outputs": [
    {
     "name": "stderr",
     "output_type": "stream",
     "text": [
      "/Users/brenner/anaconda3/lib/python3.6/site-packages/pyLDAvis/_prepare.py:257: FutureWarning: Sorting because non-concatenation axis is not aligned. A future version\n",
      "of pandas will change to not sort by default.\n",
      "\n",
      "To accept the future behavior, pass 'sort=False'.\n",
      "\n",
      "To retain the current behavior and silence the warning, pass 'sort=True'.\n",
      "\n",
      "  return pd.concat([default_term_info] + list(topic_dfs))\n"
     ]
    },
    {
     "data": {
      "text/html": [
       "\n",
       "<link rel=\"stylesheet\" type=\"text/css\" href=\"https://cdn.rawgit.com/bmabey/pyLDAvis/files/ldavis.v1.0.0.css\">\n",
       "\n",
       "\n",
       "<div id=\"ldavis_el67421127222187046733599965\"></div>\n",
       "<script type=\"text/javascript\">\n",
       "\n",
       "var ldavis_el67421127222187046733599965_data = {\"mdsDat\": {\"x\": [-0.08193713357571647, -0.10638305509274734, -0.12951217856045263, 0.15063088046976303, -0.10440906320230055, 0.06048917515051234, 0.011749240082466056, -0.1169988478679124, -0.07549793518253785, 0.39186891777892674], \"y\": [0.12944057489843908, 0.01159522635340735, 0.07481673992096138, 0.07812291559703724, -0.028675594213296508, 0.1644246723596713, -0.05655598438016664, -0.01114535631020478, -0.29537334197507564, -0.06664985225077258], \"topics\": [1, 2, 3, 4, 5, 6, 7, 8, 9, 10], \"cluster\": [1, 1, 1, 1, 1, 1, 1, 1, 1, 1], \"Freq\": [16.751799510783755, 12.019909703036618, 11.8331797600101, 10.864409876828955, 10.51423254076639, 10.131014959031694, 10.020952217958179, 8.049116285833604, 5.882706924126026, 3.932678221624696]}, \"tinfo\": {\"Category\": [\"Default\", \"Default\", \"Default\", \"Default\", \"Default\", \"Default\", \"Default\", \"Default\", \"Default\", \"Default\", \"Default\", \"Default\", \"Default\", \"Default\", \"Default\", \"Default\", \"Default\", \"Default\", \"Default\", \"Default\", \"Default\", \"Default\", \"Default\", \"Default\", \"Default\", \"Default\", \"Default\", \"Default\", \"Default\", \"Default\", \"Topic1\", \"Topic1\", \"Topic1\", \"Topic1\", \"Topic1\", \"Topic1\", \"Topic1\", \"Topic1\", \"Topic1\", \"Topic1\", \"Topic1\", \"Topic1\", \"Topic1\", \"Topic1\", \"Topic1\", \"Topic1\", \"Topic1\", \"Topic1\", \"Topic1\", \"Topic1\", \"Topic1\", \"Topic1\", \"Topic1\", \"Topic1\", \"Topic1\", \"Topic1\", \"Topic1\", \"Topic1\", \"Topic1\", \"Topic1\", \"Topic1\", \"Topic1\", \"Topic1\", \"Topic1\", \"Topic1\", \"Topic1\", \"Topic1\", \"Topic1\", \"Topic1\", \"Topic1\", \"Topic1\", \"Topic1\", \"Topic1\", \"Topic1\", \"Topic1\", \"Topic1\", \"Topic1\", \"Topic1\", \"Topic1\", \"Topic2\", \"Topic2\", \"Topic2\", \"Topic2\", \"Topic2\", \"Topic2\", \"Topic2\", \"Topic2\", \"Topic2\", \"Topic2\", \"Topic2\", \"Topic2\", \"Topic2\", \"Topic2\", \"Topic2\", \"Topic2\", \"Topic2\", \"Topic2\", \"Topic2\", \"Topic2\", \"Topic2\", \"Topic2\", \"Topic2\", \"Topic2\", \"Topic2\", \"Topic2\", \"Topic2\", \"Topic2\", \"Topic2\", \"Topic2\", \"Topic2\", \"Topic2\", \"Topic2\", \"Topic2\", \"Topic2\", \"Topic2\", \"Topic2\", \"Topic2\", \"Topic2\", \"Topic2\", \"Topic2\", \"Topic2\", \"Topic2\", \"Topic2\", \"Topic2\", \"Topic2\", \"Topic3\", \"Topic3\", \"Topic3\", \"Topic3\", \"Topic3\", \"Topic3\", \"Topic3\", \"Topic3\", \"Topic3\", \"Topic3\", \"Topic3\", \"Topic3\", \"Topic3\", \"Topic3\", \"Topic3\", \"Topic3\", \"Topic3\", \"Topic3\", \"Topic3\", \"Topic3\", \"Topic3\", \"Topic3\", \"Topic3\", \"Topic3\", \"Topic3\", \"Topic3\", \"Topic3\", \"Topic3\", \"Topic3\", \"Topic3\", \"Topic3\", \"Topic3\", \"Topic3\", \"Topic3\", \"Topic3\", \"Topic3\", \"Topic3\", \"Topic3\", \"Topic3\", \"Topic3\", \"Topic3\", \"Topic3\", \"Topic3\", \"Topic3\", \"Topic3\", \"Topic3\", \"Topic3\", \"Topic3\", \"Topic3\", \"Topic3\", \"Topic4\", \"Topic4\", \"Topic4\", \"Topic4\", \"Topic4\", \"Topic4\", \"Topic4\", \"Topic4\", \"Topic4\", \"Topic4\", \"Topic4\", \"Topic4\", \"Topic4\", \"Topic4\", \"Topic4\", \"Topic4\", \"Topic4\", \"Topic4\", \"Topic4\", \"Topic4\", \"Topic4\", \"Topic4\", \"Topic4\", \"Topic4\", \"Topic4\", \"Topic4\", \"Topic4\", \"Topic4\", \"Topic4\", \"Topic4\", \"Topic4\", \"Topic4\", \"Topic4\", \"Topic4\", \"Topic4\", \"Topic4\", \"Topic4\", \"Topic4\", \"Topic4\", \"Topic4\", \"Topic4\", \"Topic4\", \"Topic4\", \"Topic4\", \"Topic4\", \"Topic4\", \"Topic5\", \"Topic5\", \"Topic5\", \"Topic5\", \"Topic5\", \"Topic5\", \"Topic5\", \"Topic5\", \"Topic5\", \"Topic5\", \"Topic5\", \"Topic5\", \"Topic5\", \"Topic5\", \"Topic5\", \"Topic5\", \"Topic5\", \"Topic5\", \"Topic5\", \"Topic5\", \"Topic5\", \"Topic5\", \"Topic5\", \"Topic5\", \"Topic5\", \"Topic5\", \"Topic5\", \"Topic5\", \"Topic5\", \"Topic5\", \"Topic5\", \"Topic5\", \"Topic5\", \"Topic5\", \"Topic5\", \"Topic5\", \"Topic5\", \"Topic5\", \"Topic5\", \"Topic5\", \"Topic5\", \"Topic5\", \"Topic5\", \"Topic5\", \"Topic5\", \"Topic5\", \"Topic5\", \"Topic5\", \"Topic5\", \"Topic5\", \"Topic6\", \"Topic6\", \"Topic6\", \"Topic6\", \"Topic6\", \"Topic6\", \"Topic6\", \"Topic6\", \"Topic6\", \"Topic6\", \"Topic6\", \"Topic6\", \"Topic6\", \"Topic6\", \"Topic6\", \"Topic6\", \"Topic6\", \"Topic6\", \"Topic6\", \"Topic6\", \"Topic6\", \"Topic6\", \"Topic6\", \"Topic6\", \"Topic6\", \"Topic6\", \"Topic6\", \"Topic6\", \"Topic6\", \"Topic6\", \"Topic6\", \"Topic6\", \"Topic6\", \"Topic6\", \"Topic6\", \"Topic6\", \"Topic6\", \"Topic6\", \"Topic6\", \"Topic6\", \"Topic6\", \"Topic7\", \"Topic7\", \"Topic7\", \"Topic7\", \"Topic7\", \"Topic7\", \"Topic7\", \"Topic7\", \"Topic7\", \"Topic7\", \"Topic7\", \"Topic7\", \"Topic7\", \"Topic7\", \"Topic7\", \"Topic7\", \"Topic7\", \"Topic7\", \"Topic7\", \"Topic7\", \"Topic7\", \"Topic7\", \"Topic7\", \"Topic7\", \"Topic7\", \"Topic7\", \"Topic7\", \"Topic7\", \"Topic7\", \"Topic7\", \"Topic7\", \"Topic7\", \"Topic7\", \"Topic7\", \"Topic7\", \"Topic7\", \"Topic7\", \"Topic7\", \"Topic7\", \"Topic7\", \"Topic7\", \"Topic7\", \"Topic7\", \"Topic8\", \"Topic8\", \"Topic8\", \"Topic8\", \"Topic8\", \"Topic8\", \"Topic8\", \"Topic8\", \"Topic8\", \"Topic8\", \"Topic8\", \"Topic8\", \"Topic8\", \"Topic8\", \"Topic8\", \"Topic8\", \"Topic8\", \"Topic8\", \"Topic8\", \"Topic8\", \"Topic8\", \"Topic8\", \"Topic8\", \"Topic8\", \"Topic8\", \"Topic8\", \"Topic8\", \"Topic8\", \"Topic8\", \"Topic8\", \"Topic8\", \"Topic8\", \"Topic8\", \"Topic8\", \"Topic8\", \"Topic8\", \"Topic8\", \"Topic8\", \"Topic8\", \"Topic8\", \"Topic8\", \"Topic8\", \"Topic8\", \"Topic8\", \"Topic9\", \"Topic9\", \"Topic9\", \"Topic9\", \"Topic9\", \"Topic9\", \"Topic9\", \"Topic9\", \"Topic9\", \"Topic9\", \"Topic9\", \"Topic9\", \"Topic9\", \"Topic9\", \"Topic9\", \"Topic9\", \"Topic9\", \"Topic9\", \"Topic9\", \"Topic9\", \"Topic9\", \"Topic9\", \"Topic9\", \"Topic9\", \"Topic9\", \"Topic9\", \"Topic9\", \"Topic9\", \"Topic9\", \"Topic9\", \"Topic9\", \"Topic9\", \"Topic9\", \"Topic9\", \"Topic9\", \"Topic9\", \"Topic9\", \"Topic9\", \"Topic9\", \"Topic9\", \"Topic9\", \"Topic9\", \"Topic10\", \"Topic10\", \"Topic10\", \"Topic10\", \"Topic10\", \"Topic10\", \"Topic10\", \"Topic10\", \"Topic10\", \"Topic10\", \"Topic10\", \"Topic10\", \"Topic10\", \"Topic10\", \"Topic10\", \"Topic10\", \"Topic10\", \"Topic10\", \"Topic10\", \"Topic10\", \"Topic10\", \"Topic10\", \"Topic10\", \"Topic10\", \"Topic10\", \"Topic10\", \"Topic10\", \"Topic10\", \"Topic10\", \"Topic10\", \"Topic10\", \"Topic10\", \"Topic10\", \"Topic10\", \"Topic10\", \"Topic10\", \"Topic10\", \"Topic10\", \"Topic10\", \"Topic10\"], \"Freq\": [4578.0, 7326.0, 2613.0, 2223.0, 3655.0, 3710.0, 5675.0, 2011.0, 2437.0, 2654.0, 1867.0, 2228.0, 6244.0, 1648.0, 1849.0, 4275.0, 2665.0, 2054.0, 1908.0, 4607.0, 1843.0, 1603.0, 2060.0, 1486.0, 1719.0, 957.0, 3237.0, 2100.0, 4475.0, 2932.0, 676.479683697721, 455.72098001662505, 351.3986725154795, 296.56480563121016, 408.2198894512644, 287.6648838429788, 491.8408819892115, 339.7384997424633, 692.0005796341968, 416.1928150450952, 458.11904044237747, 280.6578384556553, 550.1442412886536, 502.98529049718104, 826.1932253466726, 688.9582698678131, 1494.5295779249468, 338.88312679064603, 254.79398127992735, 1595.0710992190523, 278.1176013633338, 486.31024812362404, 668.2681670742373, 261.18950169791134, 256.2947609930922, 483.39710528725544, 344.4441022672532, 361.41210720896333, 459.3036890151497, 255.3439847182828, 696.8753177750131, 2108.2805788104165, 754.96464501798, 1586.3455584773706, 1478.579062857373, 661.8664298343894, 682.0507389702759, 982.632045187796, 825.0901856676008, 789.727608295839, 1180.692563923087, 565.1382930017317, 1003.1964791755116, 654.214057928492, 544.8549582706429, 546.184825595737, 564.7607173055125, 544.6653575358685, 487.12973045733895, 664.2747958283298, 441.23522996268144, 363.2477733782956, 316.1104734480443, 310.22503393625544, 309.5918197187603, 264.1665913519239, 256.9407232255165, 253.19910169241703, 455.0656125005283, 261.94434306821324, 1512.476614767166, 235.98485015659486, 233.5334602900715, 642.7950411667885, 241.87433117169252, 958.0729740497898, 1152.7451410114618, 247.31510362402324, 1180.7395349632093, 274.95061457027225, 196.16884287528055, 655.172569823733, 3659.8811203624564, 1428.907830020615, 624.9222822631349, 239.75988378192434, 197.7932561465251, 267.6974571843026, 367.66471141219625, 1570.5904372502127, 648.648617362743, 858.1467595034848, 515.6365823695643, 462.18812169469675, 412.0231857376975, 389.0486273997381, 522.9440305587709, 510.743470952287, 655.1926859399526, 511.78377609570504, 445.86396152903603, 435.6844994188365, 415.71733607292606, 379.3023641282144, 369.2699511815788, 342.23119159933316, 263.60836050831153, 309.9603463511634, 320.5128037938167, 313.94502115904396, 1972.4949511604063, 312.77048293422456, 1678.96050184856, 248.22734181565824, 921.844859710348, 441.83796359342216, 285.94712127127974, 216.1494389196921, 258.0646163654732, 3636.3054116857634, 234.4239647069431, 132.78953930143098, 216.54921138527087, 134.32980588428666, 774.0199510323284, 129.14900705220455, 162.31438080236524, 166.59455877597844, 147.48458769012998, 386.5150870817579, 131.03614433086818, 1579.771614108142, 172.21621307772176, 342.6361845359127, 143.24720961840617, 392.35544266314713, 431.8619468409527, 401.1535057030163, 868.7469425898071, 326.96514713261473, 502.11368078505114, 652.2010558091296, 1125.2410603473431, 829.0677952043509, 802.4099652063672, 716.7014105159284, 540.506730533104, 494.4310807608574, 710.3469623361337, 479.91036969959174, 450.01868133173906, 504.31148273977556, 365.1583740654965, 338.944695390984, 332.5318455622175, 937.9929335787646, 534.5814123904433, 391.20589575543545, 707.4234033764101, 335.08591577214946, 431.6170223839555, 391.77768328835566, 231.04114457943516, 1548.6396189912032, 272.82660882022685, 918.7573568320234, 396.7238240627892, 307.64422885913035, 258.38611308877734, 2864.2086479243735, 678.7543760942912, 308.5656935245802, 1422.4887365356763, 315.423326904945, 226.77521074513933, 204.25112991537262, 1096.8153703679327, 215.50953907353957, 327.3028278032179, 219.8006857803135, 244.78321306251402, 253.2746737314159, 149.87243955415101, 318.0856716723744, 439.4517925531468, 911.7456548053005, 1210.1217489208477, 772.6402435721798, 984.2707158398166, 523.4092759575486, 1145.1251630358133, 472.6239403580394, 670.4538443374786, 980.4155618323143, 975.2089353256242, 707.0372533049878, 408.70287851676113, 447.5457314327676, 396.6634485702049, 401.2331061354076, 358.0467880513741, 356.71523635093115, 286.43707440375266, 311.61437616344494, 296.27120571092837, 248.20993280796108, 333.9844345281518, 199.4565906472893, 680.4380077551459, 363.54244236763793, 263.5978525723228, 220.34038788280563, 584.0240038699442, 1651.0974945757011, 212.43167360615325, 1250.72543981405, 755.7031393050196, 188.77428338785447, 230.18990579768496, 139.21531104848975, 1391.0871127256714, 129.19186233934215, 2012.288251943642, 372.0318410052723, 219.46846248515104, 204.59811566165476, 130.559379162447, 194.5545654140291, 910.5183880091137, 176.85004493237471, 243.44588153912056, 1132.6912814242323, 726.9058143215349, 990.2831763586878, 348.5662245796919, 1513.1584143106213, 1264.4899902818051, 483.008089199311, 1395.8864070789828, 622.811750357845, 1156.2478330664364, 880.7620131994179, 815.3895943860987, 905.1295875826705, 647.4176478131967, 431.3876486758123, 513.1915772001537, 392.83840034950487, 403.54122531219707, 375.45496162331415, 367.755272698565, 808.5562790048778, 538.6383246223525, 507.6117375458228, 487.5409122136165, 417.81583897403857, 355.1205666593736, 279.9390228915137, 249.18565640018275, 414.2313121067572, 551.1568163420663, 2622.6982927637396, 274.4810081271277, 298.50832923589337, 468.39516649940583, 699.9237547601941, 228.37253450452425, 1078.8500904365849, 878.1593628660596, 412.3423265414185, 556.8732814043161, 193.95981997958106, 193.63188663439385, 439.41923668481246, 1196.9061932970446, 1740.930473902148, 343.1119075608405, 137.66200387190182, 684.0194907960336, 541.7128304926207, 108.81312731078013, 1289.3407995472273, 1563.22749022761, 1497.8881254642065, 830.6689259548467, 668.5165630185012, 585.7872359820516, 373.03199612646233, 392.7151616850129, 339.3598745360078, 362.07296371929556, 359.2929588996838, 661.6333494225677, 413.2592732267114, 345.26890148113455, 421.03930087912516, 270.44370156874226, 283.94063501870147, 397.27106842603786, 2222.4280903185104, 348.62196319462686, 558.1589878486965, 298.6266683579127, 342.6473711962171, 5260.521419767911, 648.4650785087503, 295.05192733951105, 788.1355046509053, 241.20866475634156, 170.94655922454308, 578.3843227279327, 168.20553312991441, 1542.1370986057602, 182.49594681062916, 369.21922069270755, 145.82761950017058, 269.01695405968354, 427.15388083567956, 455.6524584327004, 555.9482057554487, 104.83471884109582, 1353.7260316080094, 450.62732956376186, 1124.2010622206226, 1688.476760070873, 567.9053162067061, 806.2620630529375, 430.83248106170515, 700.805884376133, 502.47631352227256, 454.4259951103514, 451.7484455742072, 481.55319232515666, 412.77942897175984, 358.80323812436995, 532.391333051451, 533.7667423553678, 493.26833170280753, 332.8363646556001, 288.32013336736304, 942.5964008574464, 260.73379599264666, 761.5888060546141, 236.12364466857258, 331.8919083567179, 211.54408562816408, 1093.9444320837827, 191.1423989825027, 2652.1906492655353, 1132.5018056717608, 319.0854534651259, 304.6653691059453, 243.76634098022407, 179.6652130800964, 691.6532073277176, 111.33906019241549, 1803.9396469175952, 176.5993851590538, 169.09090958045013, 110.56657152483002, 311.4511074523037, 97.62655077005613, 126.21398674059718, 107.52816853009438, 232.8018376071038, 407.184114081022, 338.73045907803214, 235.01851547900932, 385.8261626364372, 534.4355687973057, 850.5767091842637, 376.7612439328992, 318.18348335555453, 347.22626932937413, 600.0025138102444, 362.94637050114756, 394.2939092753132, 256.76679855753235, 255.67517171576444, 1867.1877259072332, 4576.657384385759, 956.8874077651285, 691.3505091727695, 687.4952668899028, 420.7333380299318, 626.5473631912521, 1982.8740756950153, 249.41062180974475, 1319.3463454564578, 108.72621788888239, 282.85786935169324, 153.23795404302942, 96.57804071520836, 888.1630046702217, 130.0172863804698, 53.140128343903626, 153.02572061134788, 61.77259685171095, 43.202237602140094, 49.77756291686054, 41.66136945557542, 90.0878257833712, 51.072981815344285, 237.81298551830128, 60.75183247484235, 48.07134515086914, 34.20992890542237, 32.43253300234181, 115.41506622166642, 233.2205140200966, 207.3612784090313, 551.0752812354119, 214.5592553948386, 122.7903869507852, 351.0132307516146, 155.0684868745397, 169.83962052195014, 199.27865915790647, 121.63909689205886, 153.94918097397934, 132.06099443263304, 2612.7556386639217, 2223.043559080469, 2011.3897340774627, 1340.9489264531323, 1288.8544346003441, 76.9139012123327, 80.13456626022426, 67.06824033937582, 100.51420555474095, 720.76920789696, 222.55276204829485, 82.9176994140689, 359.42339325745405, 88.25273595032766, 52.03353597673778, 60.16792485188818, 167.1662154758415, 83.61426602535884, 199.8858656000378, 52.8612071793857, 45.460419529672265, 51.34499424633812, 48.49067647903469, 147.7477858268302, 41.69815994069035, 36.538742698246395, 136.34275201745518, 43.709581922365444, 43.960725385574214, 117.72254782343065, 344.66414249451407, 115.22137342607084, 138.83609802977412, 108.68275823562176, 80.5441222405222, 63.519247797148175, 72.90060371463528, 65.95145870186974, 59.805478777741186, 62.05531841575633], \"Term\": [\"recommend\", \"location\", \"walking\", \"distance\", \"restaurants\", \"time\", \"home\", \"walking distance\", \"highly\", \"downtown\", \"highly recommend\", \"great location\", \"house\", \"great place\", \"place stay\", \"definitely\", \"staying\", \"experience\", \"shops\", \"neighborhood\", \"airbnb\", \"feel\", \"walk\", \"visit\", \"definitely stay\", \"definitely recommend\", \"quiet\", \"enjoyed\", \"host\", \"beautiful\", \"living\", \"upstairs\", \"living room\", \"hear\", \"noise\", \"issue\", \"towels\", \"floor\", \"bedroom\", \"fridge\", \"water\", \"entrance\", \"large\", \"stocked\", \"small\", \"basement\", \"bathroom\", \"wasnt\", \"kids\", \"kitchen\", \"shared\", \"unit\", \"shower\", \"problem\", \"wifi\", \"door\", \"sleep\", \"extra\", \"light\", \"worked\", \"plenty\", \"room\", \"private\", \"space\", \"nice\", \"didnt\", \"night\", \"apartment\", \"little\", \"coffee\", \"comfortable\", \"parking\", \"clean\", \"area\", \"need\", \"like\", \"really\", \"house\", \"easy\", \"cottage\", \"trip portland\", \"perfect place\", \"make sure\", \"like home\", \"feel like\", \"feel welcome\", \"away home\", \"right home\", \"felt like\", \"base\", \"feel\", \"love stay\", \"forward\", \"welcome\", \"wonderful stay\", \"make\", \"trip\", \"welcomed\", \"felt\", \"look\", \"getaway\", \"love\", \"home\", \"like\", \"sure\", \"making\", \"truly\", \"exploring\", \"weekend\", \"perfect\", \"away\", \"wonderful\", \"right\", \"city\", \"family\", \"thank\", \"staying\", \"loved\", \"comfortable\", \"beautiful\", \"amazing\", \"little\", \"needed\", \"visit\", \"space\", \"great experience\", \"airbnb experience\", \"really nice\", \"wish\", \"house great\", \"experience\", \"house clean\", \"airbnb\", \"longer\", \"best\", \"guests\", \"guest\", \"unique\", \"tiny\", \"house\", \"hotel\", \"care\", \"happy\", \"think\", \"stayed\", \"yard\", \"help\", \"communicative\", \"leave\", \"gave\", \"makes\", \"really\", \"information\", \"overall\", \"favorite\", \"people\", \"things\", \"cool\", \"good\", \"better\", \"awesome\", \"amazing\", \"nice\", \"time\", \"room\", \"host\", \"staying\", \"friendly\", \"clean\", \"super\", \"area\", \"comfortable\", \"hosts\", \"places\", \"helpful\", \"clean comfortable\", \"really enjoyed\", \"coffee shops\", \"enjoyed stay\", \"grocery\", \"shops restaurants\", \"restaurants bars\", \"bars restaurants\", \"shops\", \"stores\", \"bars\", \"great restaurants\", \"restaurants shops\", \"cafes\", \"restaurants\", \"alberta\", \"division\", \"enjoyed\", \"hawthorne\", \"store\", \"street parking\", \"street\", \"tons\", \"district\", \"block\", \"mississippi\", \"shopping\", \"corner\", \"blocks\", \"nearby\", \"coffee\", \"close\", \"walk\", \"really\", \"lots\", \"comfortable\", \"food\", \"apartment\", \"location\", \"clean\", \"neighborhood\", \"parking\", \"house\", \"area\", \"easy\", \"cute\", \"communicate\", \"easy communicate\", \"loved stay\", \"wonderful host\", \"beautiful home\", \"gracious\", \"comfortable clean\", \"great host\", \"charming\", \"great neighborhood\", \"gorgeous\", \"absolutely\", \"beautiful\", \"great hosts\", \"lovely\", \"welcoming\", \"peaceful\", \"return\", \"hospitable\", \"wonderful\", \"inviting\", \"host\", \"kind\", \"adorable\", \"hope\", \"accommodations\", \"relaxing\", \"friendly\", \"tips\", \"thoughtful\", \"loved\", \"helpful\", \"hosts\", \"extremely\", \"home\", \"neighborhood\", \"accommodating\", \"comfortable\", \"cozy\", \"clean\", \"space\", \"definitely\", \"house\", \"room\", \"definitely stay\", \"quiet\", \"super\", \"easy\", \"enjoyed\", \"amazing\", \"public\", \"transportation\", \"easy access\", \"downtown portland\", \"public transportation\", \"short walk\", \"close downtown\", \"clean quiet\", \"transit\", \"quiet neighborhood\", \"downtown\", \"center\", \"uber\", \"ride\", \"drive\", \"neighborhood quiet\", \"short\", \"access\", \"airport\", \"minutes\", \"room clean\", \"stop\", \"minute\", \"walk\", \"quiet\", \"park\", \"accessible\", \"away\", \"city\", \"conveniently\", \"close\", \"neighborhood\", \"easy\", \"nice\", \"clean\", \"house\", \"located\", \"area\", \"convenient\", \"room\", \"host\", \"recommended\", \"highly recommended\", \"quick respond\", \"super clean\", \"good location\", \"super easy\", \"respond\", \"great location\", \"perfect location\", \"location great\", \"location close\", \"location perfect\", \"location\", \"place great\", \"place perfect\", \"quick\", \"value\", \"great space\", \"communication\", \"central\", \"super\", \"stylish\", \"great stay\", \"communicative\", \"place clean\", \"spot\", \"excellent\", \"awesome\", \"clean cozy\", \"perfect\", \"check\", \"easy\", \"clean\", \"good\", \"space\", \"cute\", \"host\", \"apartment\", \"highly\", \"hosts\", \"comfortable\", \"nice\", \"convenient\", \"visit portland\", \"time portland\", \"great time\", \"nice place\", \"exactly described\", \"exactly\", \"stay time\", \"described\", \"flexible\", \"quickly\", \"responded\", \"visit\", \"spend\", \"time\", \"definitely stay\", \"meet\", \"late\", \"early\", \"came\", \"check\", \"advertised\", \"definitely\", \"pictures\", \"incredibly\", \"spent\", \"questions\", \"checking\", \"instructions\", \"second\", \"arrival\", \"didnt\", \"come\", \"arrived\", \"accommodating\", \"needed\", \"nice\", \"night\", \"thanks\", \"helpful\", \"clean\", \"apartment\", \"easy\", \"perfect\", \"space\", \"highly recommend\", \"recommend\", \"definitely recommend\", \"recommend staying\", \"recommend place\", \"visiting portland\", \"visiting\", \"highly\", \"loved staying\", \"staying\", \"clean cozy\", \"looking\", \"friends\", \"incredibly\", \"definitely\", \"youre\", \"group\", \"stay portland\", \"beautifully\", \"incredible\", \"communicative\", \"traveling\", \"place clean\", \"great hosts\", \"place stay\", \"modern\", \"suite\", \"hospitable\", \"comfortable clean\", \"amenities\", \"cozy\", \"amazing\", \"clean\", \"area\", \"fantastic\", \"comfortable\", \"hosts\", \"apartment\", \"space\", \"need\", \"host\", \"location\", \"walking\", \"distance\", \"walking distance\", \"great place\", \"place stay\", \"tons\", \"restaurants shops\", \"cafes\", \"great restaurants\", \"restaurants\", \"bars\", \"shopping\", \"shops\", \"restaurants bars\", \"bars restaurants\", \"stores\", \"stay portland\", \"shops restaurants\", \"food\", \"division\", \"store\", \"grocery\", \"mississippi\", \"places\", \"great neighborhood\", \"spots\", \"lots\", \"hawthorne\", \"district\", \"located\", \"neighborhood\", \"good\", \"perfect\", \"easy\", \"coffee\", \"need\", \"comfortable\", \"definitely\", \"cute\", \"quiet\"], \"Total\": [4578.0, 7326.0, 2613.0, 2223.0, 3655.0, 3710.0, 5675.0, 2011.0, 2437.0, 2654.0, 1867.0, 2228.0, 6244.0, 1648.0, 1849.0, 4275.0, 2665.0, 2054.0, 1908.0, 4607.0, 1843.0, 1603.0, 2060.0, 1486.0, 1719.0, 957.0, 3237.0, 2100.0, 4475.0, 2932.0, 676.9522308643334, 456.18531736858586, 351.8538488339746, 297.0243557786094, 408.93819609817103, 288.1733811834393, 493.0380793041974, 340.87261227120337, 703.048711956227, 433.87714598312726, 486.1533648370329, 299.32791696690896, 587.9455963697451, 539.8887845323088, 894.8330712815641, 751.5230547882092, 1675.9183052910928, 381.8816687280192, 287.34380320810976, 1800.6206708535594, 317.9650767538997, 570.2514751796552, 784.6375672107617, 310.50398467838465, 308.17723748238274, 602.9096044292139, 439.02710608871166, 474.3172307398946, 604.1783356868985, 339.55413074754, 1043.1518751576239, 4056.148702554542, 1432.2201997587647, 4664.666873278031, 5025.4333194411065, 1335.2496093064449, 1517.6329414546542, 2993.960415891803, 2276.6662309180774, 2202.656132655007, 6294.359983383765, 1317.7820656172016, 7428.316163503084, 2608.9551311759506, 1795.7094771586992, 2339.9168091668093, 3667.2350734099377, 6244.19375400902, 4476.742388322125, 664.7357145045172, 441.69078341454014, 363.70303813984776, 316.5654367062196, 310.68545364383345, 310.08133965122636, 264.6213629564582, 257.3954899772064, 253.7326074930617, 458.59026646298554, 274.15610791317823, 1603.1302861215263, 255.2619862226199, 259.3677954064845, 718.982167402158, 302.1118970053719, 1208.4127666254867, 1464.3880387210618, 338.54652109792545, 1620.220101909768, 381.01192641150453, 278.863830639471, 979.4116943572361, 5675.840518734707, 2339.9168091668093, 1084.94718343137, 422.453827300084, 351.1593894407724, 542.2285006273313, 763.6586617273416, 4168.159878082753, 1733.5294060870262, 2954.7072528583935, 1463.0511830560868, 1448.923388642886, 1223.801013863782, 1113.2841821967177, 2665.657089181524, 2782.2395028467354, 6294.359983383765, 2932.0461453258604, 2224.9375135537325, 2276.6662309180774, 2364.6061209197123, 1486.5724601836955, 4664.666873278031, 342.68764741426327, 264.0645299654004, 310.6051893370684, 322.460465899148, 317.59136300035203, 2054.7884767690502, 336.8502861809802, 1843.5860670640577, 298.1506329263177, 1221.467937048389, 641.7631372956627, 432.6084227747419, 353.36964284359743, 425.25172811495975, 6244.19375400902, 406.33624654693097, 257.94472831032465, 439.694856580338, 278.24626753013644, 1645.5988890956553, 277.6487786399503, 351.5099980092452, 362.6276662045767, 323.00813460621475, 853.9751024380503, 292.6364542181447, 3667.2350734099377, 402.53148119060074, 811.5342851266782, 350.31212440187096, 972.2004199579146, 1072.8059286172222, 1017.7487750227964, 2434.6851225029964, 835.1229034959165, 1554.030720327894, 2224.9375135537325, 5025.4333194411065, 3710.276361951245, 4056.148702554542, 4475.723606131026, 2665.657089181524, 2204.4847916628883, 7428.316163503084, 3058.067069967945, 2608.9551311759506, 6294.359983383765, 2533.5357942380315, 1308.3315620132287, 1825.6754480629083, 938.4537552600806, 535.0370749887995, 420.1915456725572, 772.5707865928078, 398.8651142812663, 515.6333684367695, 480.43299600896114, 283.47518592988126, 1908.5135532857805, 338.6850978182528, 1141.7334551449812, 497.65987309769724, 388.1795167081675, 326.79240032736607, 3655.2092157619636, 876.2516388145453, 399.1006577246012, 2100.186514680742, 468.30013854016784, 343.30595079083423, 330.05973951021866, 1796.5030754016789, 353.3087881860357, 543.0710166122667, 365.5850931866102, 409.01607833390864, 435.985570097057, 265.1352299721641, 570.2322396106094, 803.6976484041708, 2202.656132655007, 3518.137007599008, 2060.331247292774, 3667.2350734099377, 1434.160798629681, 6294.359983383765, 1378.3105906032101, 2993.960415891803, 7326.612180912037, 7428.316163503084, 4607.498714435562, 1317.7820656172016, 6244.19375400902, 2608.9551311759506, 4476.742388322125, 1641.3036728470593, 357.17159226365214, 286.8924961635108, 312.14866061524555, 310.49227988148994, 276.32786015799286, 387.1752187501292, 287.0568190106109, 1048.5718381761803, 563.9991935324645, 416.13489335709943, 377.07127491586203, 1020.3495597422198, 2932.0461453258604, 395.2698090549514, 2440.447625362166, 1517.149215922469, 383.77335193840656, 469.7552534175587, 285.68658840657196, 2954.7072528583935, 285.34181066270656, 4475.723606131026, 855.7442985739187, 509.6955862990414, 477.49212316552774, 309.4306419990865, 470.8229756929177, 2204.4847916628883, 430.49051862094757, 593.2601028333588, 2782.2395028467354, 1825.6754480629083, 2533.5357942380315, 899.2419265164071, 5675.840518734707, 4607.498714435562, 1455.1823128389456, 6294.359983383765, 2439.028927253647, 7428.316163503084, 4664.666873278031, 4275.534604324588, 6244.19375400902, 4056.148702554542, 1719.9522531535204, 3237.048370342809, 3058.067069967945, 4476.742388322125, 2100.186514680742, 2224.9375135537325, 809.0157896280342, 539.0939128467422, 508.0676369409796, 488.06841206917056, 418.2706851756117, 355.5761916241597, 280.44290802666757, 249.6949608667636, 415.1160101100948, 552.8215583419508, 2654.964429320001, 280.8019647289955, 305.5994664884672, 482.3124124592994, 762.7299524035382, 261.1611030919173, 1249.7662473655864, 1052.0732008829004, 499.12354822780327, 745.019298614837, 259.86808227711566, 300.3720826309661, 695.6067970633959, 2060.331247292774, 3237.048370342809, 803.0911829979456, 339.9352379781136, 1733.5294060870262, 1448.923388642886, 291.14019174285477, 3518.137007599008, 4607.498714435562, 4476.742388322125, 5025.4333194411065, 7428.316163503084, 6244.19375400902, 1490.7481177300936, 2608.9551311759506, 1334.0461122031604, 4056.148702554542, 4475.723606131026, 662.0921675998467, 413.71495348654713, 345.7857386910509, 421.6985381001475, 270.9197850252301, 284.46147989720055, 398.1655861458907, 2228.7357499824675, 369.31349519981114, 644.0685870079363, 349.986829135074, 434.42235010893233, 7326.612180912037, 949.3766282571396, 460.7774381046104, 1343.7765748069698, 420.1411465096335, 319.1851734001208, 1104.4724416609201, 332.06085376989364, 3058.067069967945, 446.10206775343494, 907.6656322785686, 362.6276662045767, 677.1425784569498, 1151.1322476784655, 1267.891271488911, 1554.030720327894, 315.4993550235157, 4168.159878082753, 1487.643039095353, 4476.742388322125, 7428.316163503084, 2434.6851225029964, 4664.666873278031, 1641.3036728470593, 4475.723606131026, 2993.960415891803, 2437.7059246471536, 2533.5357942380315, 6294.359983383765, 5025.4333194411065, 1334.0461122031604, 532.8498699164797, 534.2482395859403, 493.72333457574626, 333.2898428228675, 288.7747666368567, 944.221931596643, 261.187300295236, 784.9390027791893, 288.834273331553, 415.9402321463768, 269.0848341970391, 1486.5724601836955, 265.80850290308626, 3710.276361951245, 1719.9522531535204, 548.6558911032087, 542.6361379726895, 444.443652576291, 382.90868288295246, 1487.643039095353, 246.92515010483277, 4275.534604324588, 449.04783787500816, 455.17074033405686, 301.75573699643934, 859.1815822633106, 270.1361782733894, 364.1662674392493, 330.65598951676645, 720.2420397212106, 1335.2496093064449, 1140.2333672985806, 757.170241978521, 1455.1823128389456, 2364.6061209197123, 5025.4333194411065, 1517.6329414546542, 1405.8132599888843, 1825.6754480629083, 7428.316163503084, 2993.960415891803, 4476.742388322125, 4168.159878082753, 4664.666873278031, 1867.641267792693, 4578.550025507339, 957.3467195978391, 691.8035713561222, 687.9503016753804, 421.2657750952256, 702.6689422002503, 2437.7059246471536, 314.45656045239895, 2665.657089181524, 315.4993550235157, 943.2556459237234, 673.145690349306, 455.17074033405686, 4275.534604324588, 712.2676534126854, 304.69787795498183, 997.0704030897491, 402.7429705218273, 288.10670127483917, 362.6276662045767, 309.6019626491579, 677.1425784569498, 395.2698090549514, 1849.4723057379633, 491.48561188854126, 393.60046647679326, 285.68658840657196, 287.0568190106109, 1066.9123299651571, 2439.028927253647, 2224.9375135537325, 7428.316163503084, 2608.9551311759506, 1305.9190273199106, 6294.359983383765, 2533.5357942380315, 2993.960415891803, 4664.666873278031, 1795.7094771586992, 4475.723606131026, 7326.612180912037, 2613.216441997118, 2223.496002930469, 2011.840965720862, 1648.5414312084367, 1849.4723057379633, 353.3087881860357, 388.1795167081675, 326.79240032736607, 497.65987309769724, 3655.2092157619636, 1141.7334551449812, 435.985570097057, 1908.5135532857805, 480.43299600896114, 283.47518592988126, 338.6850978182528, 997.0704030897491, 515.6333684367695, 1378.3105906032101, 399.1006577246012, 343.30595079083423, 398.8651142812663, 409.01607833390864, 1308.3315620132287, 416.13489335709943, 374.2662054273859, 1434.160798629681, 468.30013854016784, 543.0710166122667, 1490.7481177300936, 4607.498714435562, 2434.6851225029964, 4168.159878082753, 4476.742388322125, 2202.656132655007, 1795.7094771586992, 6294.359983383765, 4275.534604324588, 1641.3036728470593, 3237.048370342809], \"loglift\": [30.0, 29.0, 28.0, 27.0, 26.0, 25.0, 24.0, 23.0, 22.0, 21.0, 20.0, 19.0, 18.0, 17.0, 16.0, 15.0, 14.0, 13.0, 12.0, 11.0, 10.0, 9.0, 8.0, 7.0, 6.0, 5.0, 4.0, 3.0, 2.0, 1.0, 1.786, 1.7856, 1.7854, 1.7851, 1.7849, 1.7849, 1.7842, 1.7833, 1.7708, 1.7451, 1.7273, 1.7223, 1.7202, 1.7159, 1.7069, 1.6997, 1.6721, 1.6672, 1.6664, 1.6655, 1.6528, 1.6274, 1.6261, 1.6137, 1.6023, 1.5657, 1.544, 1.5148, 1.5125, 1.5016, 1.3833, 1.1323, 1.1464, 0.7081, 0.5632, 1.0849, 0.9869, 0.6725, 0.7717, 0.7609, 0.1131, 0.94, -0.2154, 0.4034, 0.594, 0.3318, -0.0841, -0.6526, -0.4315, 2.1179, 2.1176, 2.1174, 2.1172, 2.1171, 2.117, 2.1169, 2.1168, 2.1165, 2.1109, 2.073, 2.0604, 2.0401, 2.0137, 2.0066, 1.8962, 1.8865, 1.8793, 1.8046, 1.8022, 1.7924, 1.7669, 1.7166, 1.6798, 1.6254, 1.5669, 1.5522, 1.5446, 1.4128, 1.3877, 1.1426, 1.1356, 0.8822, 1.0757, 0.976, 1.03, 1.0672, 0.4899, 0.4235, -0.1439, 0.3731, 0.5111, 0.4651, 0.3802, 0.7527, -0.4176, 2.1329, 2.1325, 2.1322, 2.1282, 2.1227, 2.0934, 2.0601, 2.0407, 1.951, 1.8528, 1.761, 1.7202, 1.6427, 1.6348, 1.5936, 1.5842, 1.4703, 1.426, 1.4061, 1.38, 1.3689, 1.3616, 1.3564, 1.3503, 1.3415, 1.3308, 1.2921, 1.2852, 1.272, 1.24, 1.2269, 1.2243, 1.2033, 1.1037, 1.1965, 1.0045, 0.9071, 0.6377, 0.6357, 0.5139, 0.3025, 0.5386, 0.6394, -0.213, 0.2823, 0.3768, -0.39, 0.1972, 0.7836, 0.4313, 2.2192, 2.2188, 2.1482, 2.1316, 2.0454, 2.0418, 2.0157, 2.0151, 2.0107, 2.0034, 2.0024, 1.993, 1.9872, 1.9848, 1.9758, 1.9643, 1.9624, 1.8301, 1.8245, 1.805, 1.7398, 1.7262, 1.7253, 1.7133, 1.7109, 1.7063, 1.6765, 1.6492, 1.636, 1.616, 1.3376, 1.1525, 1.2389, 0.9044, 1.2117, 0.5155, 1.1494, 0.7233, 0.2084, 0.1893, 0.3453, 1.049, -0.416, 0.3361, -0.1924, 0.6971, 2.2512, 2.2509, 2.2507, 2.2056, 2.1451, 2.1047, 1.8884, 1.82, 1.8133, 1.7959, 1.7152, 1.6945, 1.6782, 1.6315, 1.584, 1.5555, 1.5429, 1.5391, 1.5336, 1.4991, 1.4601, 1.453, 1.4194, 1.4098, 1.4049, 1.3895, 1.3687, 1.3682, 1.3628, 1.3617, 1.3538, 1.3315, 1.3131, 1.3047, 0.9304, 0.9594, 1.1496, 0.7463, 0.8873, 0.3923, 0.5855, 0.5954, 0.3211, 0.4174, 0.8694, 0.4107, 0.2003, -0.1539, 0.5308, 0.4524, 2.289, 2.2887, 2.2887, 2.2885, 2.2885, 2.2883, 2.2878, 2.2875, 2.2874, 2.2866, 2.2773, 2.2668, 2.2661, 2.2603, 2.2036, 2.1554, 2.1425, 2.1089, 2.0986, 1.9985, 1.997, 1.8505, 1.8302, 1.7464, 1.6693, 1.4392, 1.3856, 1.3596, 1.3057, 1.3054, 1.2858, 1.2086, 1.1947, 0.4895, -0.1184, -0.0769, 0.9042, 0.3959, 0.9207, -0.1266, -0.2327, 2.2998, 2.2994, 2.299, 2.2989, 2.2987, 2.2987, 2.2982, 2.2977, 2.2428, 2.1573, 2.1418, 2.0632, 1.9692, 1.9193, 1.8547, 1.7669, 1.7456, 1.6761, 1.6536, 1.6204, 1.6159, 1.4067, 1.401, 1.3895, 1.3774, 1.3091, 1.2771, 1.2726, 1.1987, 1.1759, 1.1062, 0.9187, 0.819, 0.8449, 0.5451, 0.963, 0.4463, 0.5157, 0.6207, 0.5762, -0.2699, -0.1989, 0.9873, 2.5187, 2.5187, 2.5187, 2.5182, 2.518, 2.5179, 2.5179, 2.4894, 2.3181, 2.2939, 2.279, 2.2129, 2.1899, 2.1839, 2.1017, 1.9776, 1.9424, 1.919, 1.7629, 1.7537, 1.7231, 1.6567, 1.5864, 1.5294, 1.5156, 1.5049, 1.5018, 1.46, 1.3963, 1.3902, 1.332, 1.3058, 1.3497, 1.1921, 1.0325, 0.7433, 1.1263, 1.0339, 0.8599, 0.0035, 0.4095, 0.0901, -0.2675, -0.3843, 2.8329, 2.8327, 2.8327, 2.8325, 2.8325, 2.8319, 2.7185, 2.6266, 2.6014, 2.1298, 1.7678, 1.6288, 1.3532, 1.2828, 1.2616, 1.1324, 1.0868, 0.9589, 0.9583, 0.9357, 0.8473, 0.8274, 0.8161, 0.7868, 0.782, 0.7425, 0.7305, 0.7108, 0.6526, 0.6092, 0.4858, 0.4601, 0.232, 0.335, 0.469, -0.0534, 0.0396, -0.0363, -0.3199, 0.1411, -0.5366, -1.1829, 3.2357, 3.2356, 3.2356, 3.0293, 2.8747, 1.7112, 1.6581, 1.6522, 1.6362, 1.6123, 1.6007, 1.5761, 1.5663, 1.5414, 1.5406, 1.5079, 1.45, 1.4167, 1.305, 1.2143, 1.2141, 1.1858, 1.1035, 1.0548, 0.9353, 0.9093, 0.8827, 0.8643, 0.7219, 0.6971, 0.643, 0.1851, -0.1661, -0.4824, -0.0728, -0.106, -1.2225, -0.9359, -0.0763, -0.7185], \"logprob\": [30.0, 29.0, 28.0, 27.0, 26.0, 25.0, 24.0, 23.0, 22.0, 21.0, 20.0, 19.0, 18.0, 17.0, 16.0, 15.0, 14.0, 13.0, 12.0, 11.0, 10.0, 9.0, 8.0, 7.0, 6.0, 5.0, 4.0, 3.0, 2.0, 1.0, -4.5562, -4.9512, -5.2112, -5.3809, -5.0613, -5.4113, -4.875, -5.2449, -4.5335, -5.042, -4.946, -5.436, -4.7629, -4.8526, -4.3563, -4.5379, -3.7636, -5.2475, -5.5327, -3.6984, -5.4451, -4.8863, -4.5684, -5.5079, -5.5268, -4.8923, -5.2312, -5.1831, -4.9434, -5.5305, -4.5265, -3.4195, -4.4464, -3.7039, -3.7743, -4.5781, -4.548, -4.1829, -4.3576, -4.4014, -3.9993, -4.736, -4.1622, -4.5897, -4.7726, -4.7702, -4.7367, -4.7729, -4.8846, -4.2425, -4.6516, -4.8461, -4.9851, -5.0039, -5.0059, -5.1646, -5.1923, -5.207, -4.6207, -5.173, -3.4197, -5.2774, -5.2879, -4.2754, -5.2528, -3.8763, -3.6913, -5.2305, -3.6673, -5.1246, -5.4622, -4.2563, -2.536, -3.4765, -4.3036, -5.2615, -5.454, -5.1513, -4.834, -3.382, -4.2663, -3.9864, -4.4958, -4.6052, -4.7201, -4.7775, -4.4817, -4.5053, -4.2562, -4.5033, -4.6412, -4.6643, -4.7112, -4.8028, -4.8297, -4.89, -5.1511, -4.9891, -4.9556, -4.9763, -3.1385, -4.9801, -3.2996, -5.2112, -3.8991, -4.6346, -5.0697, -5.3496, -5.1723, -2.5268, -5.2684, -5.8368, -5.3477, -5.8252, -4.0739, -5.8646, -5.636, -5.61, -5.7318, -4.7684, -5.85, -3.3605, -5.5768, -4.8889, -5.761, -4.7534, -4.6574, -4.7312, -3.9585, -4.9357, -4.5067, -4.2452, -3.6998, -4.0052, -4.0379, -4.1509, -4.433, -4.5221, -4.1598, -4.5519, -4.6162, -4.5023, -4.8252, -4.8997, -4.9188, -3.7964, -4.3586, -4.6709, -4.0785, -4.8257, -4.5726, -4.6694, -5.1975, -3.295, -5.0313, -3.8171, -4.6569, -4.9112, -5.0857, -2.6801, -4.1198, -4.9082, -3.3799, -4.8862, -5.2161, -5.3208, -3.6399, -5.2671, -4.8492, -5.2474, -5.1397, -5.1056, -5.6303, -4.8778, -4.5546, -3.8247, -3.5416, -3.9903, -3.7482, -4.3797, -3.5968, -4.4818, -4.1322, -3.7521, -3.7575, -4.079, -4.6271, -4.5363, -4.657, -4.6456, -4.7594, -4.7304, -4.9498, -4.8656, -4.9161, -5.0931, -4.7963, -5.3117, -4.0846, -4.7114, -5.0329, -5.2122, -4.2374, -3.1981, -5.2487, -3.4759, -3.9797, -5.3668, -5.1684, -5.6713, -3.3695, -5.746, -3.0003, -4.6884, -5.2161, -5.2863, -5.7355, -5.3366, -3.7933, -5.432, -5.1124, -3.575, -4.0185, -3.7094, -4.7535, -3.2854, -3.4649, -4.4273, -3.3661, -4.1731, -3.5544, -3.8266, -3.9037, -3.7993, -4.1344, -4.5403, -4.3667, -4.6339, -4.6071, -4.6792, -4.6999, -3.875, -4.2812, -4.3405, -4.3808, -4.5352, -4.6978, -4.9356, -5.052, -4.5438, -4.2582, -2.6983, -4.9553, -4.8714, -4.4209, -4.0192, -5.1392, -3.5866, -3.7924, -4.5484, -4.2479, -5.3026, -5.3043, -4.4848, -3.4827, -3.108, -4.7322, -5.6454, -4.0422, -4.2755, -5.8806, -3.4083, -3.2157, -3.2584, -3.848, -4.0652, -4.1973, -4.6486, -4.5971, -4.7432, -4.6784, -4.6861, -4.0646, -4.5352, -4.715, -4.5166, -4.9592, -4.9105, -4.5747, -2.8529, -4.7053, -4.2346, -4.8601, -4.7226, -1.9913, -4.0847, -4.8721, -3.8896, -5.0736, -5.4179, -4.1991, -5.4341, -3.2184, -5.3526, -4.6479, -5.5769, -4.9645, -4.5021, -4.4376, -4.2386, -5.9069, -3.3487, -4.4487, -3.5345, -3.1277, -4.2173, -3.8669, -4.4936, -4.0071, -4.3397, -4.4403, -4.4462, -4.3823, -4.5364, -4.6765, -4.0628, -4.0602, -4.1391, -4.5325, -4.6761, -3.4915, -4.7767, -3.7048, -4.8758, -4.5354, -4.9857, -3.3426, -5.0872, -2.457, -3.308, -4.5747, -4.621, -4.844, -5.1491, -3.8011, -5.6276, -2.8424, -5.1663, -5.2097, -5.6346, -4.5989, -5.759, -5.5022, -5.6624, -4.89, -4.3309, -4.515, -4.8805, -4.3848, -4.059, -3.5943, -4.4086, -4.5775, -4.4902, -3.9432, -4.4459, -4.3631, -4.792, -4.7963, -2.4944, -1.5979, -3.1629, -3.488, -3.4936, -3.9846, -3.5864, -2.4343, -4.5075, -2.8417, -5.3378, -4.3817, -4.9946, -5.4563, -3.2375, -5.159, -6.0537, -4.996, -5.9032, -6.2607, -6.1191, -6.2971, -5.5258, -6.0934, -4.5551, -5.9198, -6.1539, -6.4941, -6.5475, -5.2781, -4.5746, -4.6922, -3.7148, -4.658, -5.2162, -4.1658, -4.9828, -4.8918, -4.7319, -5.2256, -4.99, -5.1434, -1.7558, -1.9173, -2.0174, -2.4228, -2.4624, -5.2812, -5.2402, -5.4182, -5.0136, -3.0436, -4.2188, -5.2061, -3.7394, -5.1437, -5.672, -5.5268, -4.5049, -5.1977, -4.3262, -5.6563, -5.8071, -5.6854, -5.7426, -4.6284, -5.8935, -6.0256, -4.7088, -5.8464, -5.8406, -4.8556, -3.7814, -4.8771, -4.6906, -4.9355, -5.2351, -5.4726, -5.3348, -5.435, -5.5328, -5.4959]}, \"token.table\": {\"Topic\": [1, 2, 3, 4, 5, 8, 9, 1, 6, 1, 3, 4, 5, 6, 7, 8, 9, 1, 2, 3, 4, 5, 6, 7, 8, 9, 10, 1, 2, 3, 5, 6, 7, 9, 1, 2, 3, 4, 5, 6, 7, 8, 1, 2, 3, 4, 6, 7, 8, 10, 1, 2, 3, 6, 8, 9, 3, 1, 2, 3, 4, 6, 7, 8, 9, 2, 3, 4, 5, 6, 7, 8, 9, 10, 1, 2, 3, 4, 5, 6, 7, 8, 9, 10, 1, 2, 3, 4, 5, 6, 7, 9, 1, 2, 4, 5, 6, 7, 8, 9, 10, 1, 2, 3, 4, 5, 6, 7, 8, 9, 10, 1, 2, 3, 4, 5, 6, 8, 9, 1, 2, 3, 4, 6, 8, 1, 2, 3, 4, 6, 8, 9, 2, 1, 2, 3, 4, 6, 7, 8, 9, 10, 4, 10, 4, 10, 2, 4, 5, 1, 4, 5, 7, 8, 1, 3, 4, 6, 1, 2, 3, 4, 5, 6, 7, 8, 9, 10, 2, 5, 1, 2, 3, 4, 5, 6, 7, 8, 9, 1, 6, 1, 2, 3, 4, 6, 7, 8, 9, 1, 2, 3, 4, 5, 7, 8, 9, 1, 4, 6, 1, 2, 3, 4, 6, 7, 4, 6, 10, 1, 2, 6, 8, 1, 2, 3, 5, 9, 2, 6, 7, 10, 1, 2, 3, 4, 5, 6, 7, 9, 10, 1, 2, 3, 5, 6, 7, 8, 10, 1, 2, 3, 4, 6, 7, 8, 10, 1, 2, 3, 4, 5, 7, 8, 9, 10, 1, 2, 3, 4, 6, 7, 8, 9, 10, 1, 2, 3, 4, 5, 6, 7, 8, 9, 4, 3, 7, 8, 9, 6, 1, 2, 3, 4, 5, 6, 7, 8, 9, 10, 6, 1, 2, 3, 4, 6, 8, 10, 4, 10, 1, 2, 3, 4, 5, 6, 8, 1, 2, 3, 4, 5, 6, 7, 8, 9, 10, 1, 2, 4, 5, 6, 9, 5, 1, 2, 3, 4, 5, 7, 8, 9, 3, 7, 9, 1, 2, 3, 4, 5, 6, 7, 8, 9, 10, 1, 2, 4, 5, 6, 7, 9, 10, 1, 3, 4, 5, 6, 7, 8, 1, 4, 6, 2, 1, 2, 3, 4, 5, 6, 7, 8, 9, 10, 1, 3, 4, 5, 6, 7, 8, 9, 10, 1, 2, 3, 4, 5, 6, 7, 8, 9, 10, 9, 1, 2, 4, 5, 6, 7, 8, 10, 5, 6, 8, 1, 2, 3, 4, 5, 6, 7, 8, 9, 10, 1, 2, 3, 4, 5, 6, 7, 9, 10, 1, 4, 6, 10, 1, 2, 6, 1, 2, 4, 6, 7, 8, 10, 6, 1, 2, 4, 6, 7, 1, 2, 3, 8, 1, 2, 3, 4, 5, 6, 7, 8, 9, 10, 6, 5, 1, 2, 3, 4, 5, 6, 8, 4, 5, 1, 4, 6, 2, 8, 8, 1, 2, 3, 4, 5, 6, 7, 9, 2, 3, 5, 9, 1, 2, 3, 4, 6, 7, 8, 1, 3, 4, 5, 8, 1, 2, 3, 4, 5, 6, 7, 8, 9, 1, 2, 4, 5, 7, 9, 1, 2, 4, 5, 6, 7, 8, 9, 10, 1, 2, 3, 4, 5, 7, 8, 1, 2, 3, 2, 2, 1, 2, 3, 4, 5, 6, 8, 9, 1, 2, 3, 3, 8, 1, 6, 1, 2, 3, 4, 6, 7, 8, 9, 10, 2, 3, 7, 1, 4, 8, 1, 2, 3, 4, 5, 6, 7, 8, 9, 10, 1, 2, 3, 4, 8, 9, 1, 2, 3, 4, 5, 6, 8, 9, 1, 2, 7, 8, 1, 3, 4, 6, 7, 8, 10, 7, 1, 2, 3, 4, 5, 9, 2, 3, 4, 5, 9, 3, 2, 3, 4, 5, 6, 7, 9, 2, 3, 5, 7, 9, 4, 7, 2, 4, 5, 6, 10, 7, 10, 4, 10, 1, 4, 7, 8, 10, 1, 3, 4, 6, 7, 8, 9, 10, 8, 1, 4, 6, 10, 1, 4, 5, 7, 9, 10, 1, 2, 3, 5, 6, 1, 2, 3, 4, 5, 8, 1, 2, 3, 4, 5, 6, 9, 1, 2, 4, 6, 7, 10, 1, 1, 2, 3, 5, 6, 8, 1, 2, 3, 4, 5, 7, 8, 9, 7, 9, 9, 7, 1, 2, 3, 4, 5, 6, 8, 9, 1, 2, 3, 4, 5, 8, 2, 3, 5, 6, 8, 9, 1, 2, 3, 4, 5, 6, 7, 8, 9, 10, 1, 2, 3, 4, 5, 6, 7, 8, 9, 10, 1, 2, 3, 6, 8, 1, 2, 3, 4, 5, 6, 7, 8, 9, 10, 3, 4, 3, 4, 2, 3, 4, 5, 8, 9, 1, 2, 3, 8, 9, 1, 2, 3, 4, 5, 6, 8, 9, 1, 2, 3, 4, 5, 6, 7, 8, 9, 1, 2, 3, 4, 5, 9, 1, 1, 5, 1, 2, 3, 5, 7, 8, 9, 1, 3, 4, 1, 3, 4, 7, 1, 2, 6, 8, 1, 2, 3, 8, 1, 2, 3, 4, 6, 7, 8, 1, 2, 3, 4, 6, 8, 9, 2, 1, 2, 3, 4, 6, 7, 8, 9, 10, 1, 1, 1, 2, 3, 4, 5, 6, 7, 9, 10, 1, 2, 3, 4, 5, 6, 7, 8, 9, 10, 4, 7, 4, 7, 9, 2, 3, 4, 7, 1, 2, 3, 6, 1, 2, 3, 7, 1, 2, 3, 6, 7, 8, 9, 10, 1, 3, 4, 7, 10, 1, 2, 3, 4, 7, 8, 9, 2, 4, 1, 2, 3, 4, 5, 7, 8, 9, 10, 5, 2, 5, 9, 1, 2, 3, 4, 5, 6, 8, 9, 10, 1, 2, 3, 2, 1, 2, 3, 7, 10, 1, 2, 3, 4, 6, 9, 1, 2, 3, 5, 8, 1, 2, 3, 4, 6, 8, 1, 2, 3, 4, 6, 8, 1, 2, 3, 4, 6, 7, 9, 10, 1, 2, 3, 4, 5, 6, 7, 8, 9, 1, 2, 3, 4, 5, 6, 7, 8, 10, 1, 2, 3, 4, 5, 6, 7, 8, 9, 10, 1, 2, 3, 4, 5, 6, 7, 8, 9, 10, 1, 2, 3, 4, 5, 6, 7, 8, 9, 10, 5, 6, 1, 2, 3, 4, 5, 6, 7, 8, 9, 10, 8, 1, 2, 3, 4, 6, 7, 8, 9, 1, 1, 3, 4, 6, 7, 8, 1, 2, 3, 4, 5, 6, 7, 8, 10, 1, 4, 6, 7, 8, 1, 2, 3, 4, 5, 6, 10, 1, 2, 3, 5, 6, 7, 9, 10, 1, 2, 3, 4, 5, 6, 7, 8, 9, 10, 2, 7, 2, 1, 2, 3, 4, 5, 7, 8, 10, 1, 4, 7, 8, 9, 1, 3, 4, 6, 7, 8, 9, 10, 2, 7, 1, 2, 7, 8, 9, 10, 1, 2, 3, 4, 5, 6, 7, 8, 9, 10, 1, 4, 5, 6, 10, 1, 2, 3, 4, 5, 6, 7, 8, 9, 1, 4, 6, 8, 6, 6, 1, 2, 4, 5, 6, 7, 8, 9, 10, 1, 2, 3, 4, 6, 7, 9, 10, 7, 1, 8, 1, 2, 3, 4, 5, 6, 7, 8, 9, 10, 6, 10, 1, 2, 3, 4, 5, 7, 8, 9, 10, 4, 3, 1, 9, 9, 9, 7, 1, 2, 4, 5, 6, 8, 9, 10, 7, 1, 8, 2, 4, 6, 7, 10, 4, 10, 4, 10, 1, 2, 3, 4, 5, 6, 8, 2, 6, 10, 1, 2, 3, 4, 5, 6, 7, 8, 9, 10, 2, 1, 2, 3, 4, 5, 6, 8, 9, 4, 6, 1, 3, 8, 1, 2, 3, 4, 5, 6, 1, 2, 4, 6, 7, 10, 4, 10, 4, 10, 2, 3, 4, 5, 6, 10, 6, 1, 3, 1, 3, 6, 8, 1, 4, 6, 1, 2, 3, 4, 5, 6, 7, 8, 9, 10, 1, 3, 6, 8, 1, 2, 3, 5, 6, 8, 9, 1, 2, 3, 4, 6, 7, 8, 9, 10, 2, 3, 4, 5, 6, 7, 8, 9, 10, 2, 3, 4, 5, 6, 7, 8, 9, 10, 8, 1, 2, 3, 4, 5, 6, 7, 8, 9, 1, 2, 3, 4, 5, 6, 8, 9, 1, 4, 1, 2, 3, 4, 6, 8, 9, 1, 4, 6, 7, 10, 4, 6, 10, 1, 2, 4, 6, 7, 1, 4, 6, 1, 4, 5, 7, 9, 1, 2, 4, 6, 8, 9, 1, 2, 3, 4, 5, 6, 7, 8, 10, 7, 7, 1, 2, 3, 4, 5, 7, 8, 9, 1, 2, 3, 4, 5, 7, 8, 1, 2, 3, 4, 5, 6, 7, 8, 9, 10, 1, 2, 3, 4, 5, 6, 7, 8, 9, 10, 1, 2, 3, 1, 2, 3, 4, 5, 7, 9, 1, 2, 3, 4, 5, 6, 8, 9, 8, 1, 3, 4, 5, 1, 2, 3, 4, 5, 6, 7, 9, 10, 1, 2, 4, 5, 6, 7, 10, 1, 4, 6, 6, 1, 2, 3, 4, 6, 7, 8, 9, 1, 2, 4, 6, 7, 8, 9, 2, 1, 2, 3, 4, 5, 6, 7, 10, 1, 2, 3, 4, 5, 8, 9, 10, 1, 4, 7, 1, 1, 5, 6, 7, 1, 2, 3, 5, 8, 9, 8, 2, 4, 7, 8, 9, 9, 1, 2, 3, 4, 6, 7, 10, 10, 1, 3, 1, 2, 3, 6, 1, 2, 3, 4, 5, 7, 8, 9, 10, 1, 2, 1, 2, 5, 6, 1, 2, 3, 4, 5, 6, 7, 8, 9, 10, 1, 3, 4, 6, 1, 3, 1, 2, 3, 4, 5, 6, 7, 8, 9, 10, 2, 5, 9, 2, 6, 7, 1, 2, 6, 7, 8, 1, 3, 4, 5, 1, 2, 3, 4, 6, 9, 10], \"Freq\": [0.00882050657450546, 0.284216322956287, 0.003920225144224648, 0.000980056286056162, 0.5723528710567987, 0.04704270173069578, 0.08330478431477378, 0.16443722723363574, 0.8345426908157929, 0.13531989291137173, 0.029417368024211247, 0.023533894419368998, 0.1676789977380041, 0.4059596787341152, 0.047067788838737995, 0.11178599849200274, 0.07942689366537037, 0.020615973500579712, 0.04741673905133334, 0.08383829223569084, 0.026113566434067637, 0.3319171733593334, 0.03092396025086957, 0.12644463747022225, 0.2652588590407923, 0.05703752668493721, 0.010307986750289856, 0.0032317419940684224, 0.1131109697923948, 0.08725703383984741, 0.42335820122296336, 0.17451406767969482, 0.19390451964410535, 0.009695225982205269, 0.013733687691564704, 0.15695643076073948, 0.22758682460307222, 0.13341296614662854, 0.4296682292075243, 0.0058858661535277305, 0.02746737538312941, 0.003923910769018487, 0.06884677398305762, 0.012149430702892523, 0.1052950660917352, 0.07694639445165265, 0.10124525585743768, 0.12959392749752024, 0.4495289360070233, 0.0526475330458676, 0.004339368876192548, 0.011933264409529508, 0.910725042890911, 0.006509053314288822, 0.014102948847625783, 0.05207242651431058, 0.9997556280451264, 0.05209131104376071, 0.002003511963221566, 0.002003511963221566, 0.048084287117317576, 0.8254469288472851, 0.0641123828230901, 0.002003511963221566, 0.004007023926443132, 0.07075593043555153, 0.013694696213332556, 0.7748915607377338, 0.002282449368888759, 0.12096981655110424, 0.002282449368888759, 0.007988572791110657, 0.0011412246844443796, 0.003423674053333139, 0.010786819788779833, 0.2004550677414919, 0.2930419375951855, 0.064720918732679, 0.16539790342795743, 0.004943959069857423, 0.10157588634434343, 0.048990139874041744, 0.09303632067822606, 0.016629680507702242, 0.2924326500286947, 0.12934521058961496, 0.1218469375119561, 0.08997927693190605, 0.01218469375119561, 0.0037491365388294187, 0.24275659088920487, 0.10778767549134578, 0.3283276541607837, 0.0220443796282927, 0.22378385380236526, 0.03473659820215819, 0.03340057519438287, 0.16767088747580203, 0.12124408795560984, 0.056780977830450885, 0.011356195566090178, 0.25067506611553664, 0.07742563204180183, 0.17248284365747935, 0.15216819762670955, 0.05519450997039339, 0.15063501679419863, 0.035263159147751334, 0.021081236447025253, 0.08240846974746235, 0.0026830664568941232, 0.20965174437533343, 0.07080952955723183, 0.052760041630878614, 0.004165266444543048, 0.006942110740905081, 0.30545287259982357, 0.32350236052617676, 0.02499159866725829, 0.33017673719814766, 0.1875403867285479, 0.13867422962322204, 0.005282827795170363, 0.027734845924644404, 0.3103661329662588, 0.02134373946590124, 0.3743807273883758, 0.0011537156468054725, 0.20420766948456862, 0.3945707512074716, 0.0011537156468054725, 0.0028842891170136812, 0.9984634929802327, 0.005147903381415802, 0.06885320772643636, 0.32303093718384157, 0.08043599033462191, 0.0012869758453539506, 0.35777928500839823, 0.11904526569524042, 0.008365342994800679, 0.036035323669910614, 0.8049164153495898, 0.19531704093901908, 0.8148861398300266, 0.1834375726024302, 0.9556599048414127, 0.04012312577578451, 0.0036475568887076822, 0.9168048745945271, 0.07717660773074393, 0.0026612623355428944, 0.0013306311677714472, 0.0013306311677714472, 0.8920482551447108, 0.09905017414984749, 0.001193375592166837, 0.007756941349084442, 0.021486701394666602, 0.1746220811757032, 0.10675138946874042, 0.03240058146814805, 0.5630880000411835, 0.06036739915644426, 0.0017052937614814765, 0.004092705027555543, 0.03478799273422212, 0.0003410587522962953, 0.10132890684272934, 0.8974846034641742, 0.03724459791455764, 0.28057597095633424, 0.17132515040696517, 0.15146136485253442, 0.06704027624620376, 0.054625410274684545, 0.05710838346898839, 0.029795678331646116, 0.15394433804683827, 0.9842845712276692, 0.014223765480168632, 0.0008186870646940154, 0.14081417512737063, 0.7548294736478821, 0.07859395821062547, 0.018011115423268338, 0.0040934353234700765, 0.002456061194082046, 0.0008186870646940154, 0.0347254276928615, 0.2730137073783594, 0.39155913295054173, 0.011974285411331552, 0.05029199872759252, 0.03951514185739412, 0.19637828074583744, 0.0011974285411331552, 0.07658955608922383, 0.6017750835581872, 0.32003493080139955, 0.0017536714526749015, 0.1122349729711937, 0.0017536714526749015, 0.5576675219506187, 0.3261828901975317, 0.0017536714526749015, 0.7894920436997528, 0.003060046681006794, 0.20502312762745517, 0.47530914846251676, 0.023504298550344235, 0.03133906473379231, 0.4700859710068847, 0.11630398572793474, 0.2752527662227789, 0.5156143367271773, 0.06590559191249634, 0.027137596669851438, 0.0035612286436995165, 0.9757766483736675, 0.014244914574798066, 0.0035612286436995165, 0.10540236707411996, 0.07528740505294283, 0.003011496202117713, 0.00903448860635314, 0.12949433669106167, 0.12949433669106167, 0.5059313619557758, 0.012045984808470852, 0.03011496202117713, 0.054964617601382444, 0.008865260903448781, 0.09397176557655708, 0.6453909937710713, 0.0975178699379366, 0.07092208722759025, 0.017730521806897562, 0.010638313084138538, 0.14183510052808818, 0.010755268286490097, 0.031593600591564665, 0.010083064018584467, 0.026215966448319614, 0.30316412482543964, 0.46516535339069676, 0.01142747255439573, 0.21100468794784513, 0.0370183663066395, 0.02591285641464765, 0.01110550989199185, 0.03331652967597555, 0.2073028513171812, 0.3627799898050671, 0.09254591576659875, 0.01850918315331975, 0.0006901676153744996, 0.3188574383030188, 0.12492033838278443, 0.009662346615242994, 0.3740708475329788, 0.016564022768987993, 0.10145463946005144, 0.042790392153218976, 0.011042681845991994, 0.13502387054120757, 0.010096500788225889, 0.09558020746187175, 0.13125451024693657, 0.15562073214918837, 0.09006078703097493, 0.22723857774033734, 0.08077200630580711, 0.07417562579083287, 0.9995164862865781, 0.053882835984665985, 0.33280575166999576, 0.2694141799233299, 0.34548406601932896, 0.997216760545142, 0.026150203872471252, 0.07816637027097385, 0.0343932029192285, 0.34393202919228494, 0.0008527240393197147, 0.36638709556103743, 0.098631747214647, 0.01790720482571401, 0.02671868656535106, 0.006821792314557718, 0.9984206838041151, 0.3586578895761459, 0.10714336954426637, 0.057657660729329784, 0.4140455636625887, 0.021337874443137794, 0.004539973285773998, 0.03677378361476939, 0.9305280033042233, 0.06901614346757666, 0.11839681583765564, 0.2473177930831029, 0.15698540766622487, 0.02631040351947903, 0.13593708485064165, 0.01666325556233672, 0.29730755977011303, 0.18762828994809252, 0.1040614139847592, 0.08007168343254753, 0.18190888398862484, 0.22178585331713563, 0.04766171632889734, 0.07657649090176173, 0.033045456654702154, 0.05576420810480989, 0.011597684306698353, 0.0627053559014553, 0.013934523533656736, 0.1079925573858397, 0.6932425457994226, 0.01045089265024255, 0.11147618826925389, 0.9995195803155434, 0.07605441007987461, 0.019013602519968652, 0.09778424153126734, 0.060662446135138076, 0.1512034105159412, 0.5233267741210419, 0.017202783232352588, 0.05341916898467383, 0.4605274653969364, 0.40261682603564497, 0.13788247466974143, 0.1746566313327831, 0.027735173215935514, 0.024736776111510053, 0.13642706825135847, 0.07421032833453016, 0.2541141546000578, 0.26910614012218514, 0.002998397104425461, 0.03523116597699917, 0.0007495992761063653, 0.07556497049858088, 0.0446520280218887, 0.010304314158897392, 0.3915639380381009, 0.37439008110660527, 0.010304314158897392, 0.04808679940818783, 0.04808679940818783, 0.17293069205222852, 0.39400686086899794, 0.16801788830074474, 0.0167035327550448, 0.04126755151246362, 0.16015740229837072, 0.045197794513650635, 0.2451579143474226, 0.5657490331094368, 0.18481135081574934, 0.9988932225417351, 0.09060983144994782, 0.13611974679358677, 0.07461986119407468, 0.05001990695426984, 0.2554295248566402, 0.054939897802230804, 0.13611974679358677, 0.08773983678863725, 0.0955298222979088, 0.01885996491718371, 0.026198686270780584, 0.168159009551987, 0.21811929499859184, 0.13099343135390293, 0.06701989511129917, 0.26259613448154495, 0.08529804832347167, 0.0048741741899126665, 0.036556306424345, 0.03601888751975792, 0.05122166471965574, 0.00023388887999842802, 0.04935055367966831, 0.19061943719871882, 0.008653888559941836, 0.01894499927987267, 0.4219355395171641, 0.20769332543860408, 0.01543666607989625, 0.9996378327822707, 0.0046512919096050815, 0.0023256459548025407, 0.06744373268927369, 0.2505883516299738, 0.0017442344661019054, 0.008139760841808893, 0.6587392166978197, 0.005814114887006352, 0.001273984343317578, 0.028027655552986714, 0.9707760696079945, 0.4957874508151745, 0.028459098385161075, 0.16626104846067785, 0.0022467709251442953, 0.0014978472834295301, 0.0007489236417147651, 0.0007489236417147651, 0.30481192217790937, 0.0007489236417147651, 0.9997769265472862, 0.005524139400246971, 0.022096557600987884, 0.0018413798000823237, 0.6021311946269199, 0.0018413798000823237, 0.26700007101193696, 0.0018413798000823237, 0.016572418200740915, 0.08102071120362225, 0.002505633555457702, 0.77424076863643, 0.09020280799647729, 0.1327985784392582, 0.8011151198317124, 0.12107951086483437, 0.0762966780792107, 0.0011299586415808858, 0.0015066115221078478, 0.0007533057610539239, 0.9879605056222213, 0.006026446088431391, 0.00037665288052696194, 0.0022599172831617715, 0.9998598309837743, 0.053754280752708786, 0.022288360312098764, 0.005244320073435003, 0.9177560128511256, 0.0013110800183587508, 0.44325078974141485, 0.006750012026519008, 0.0022500040088396693, 0.5490009781568793, 0.10878445926894773, 0.002903897270012978, 0.009381821949272699, 0.08957406194424648, 0.09024419208348025, 0.33461831619072624, 0.25107542549958367, 0.08801042495270103, 0.001116883565389607, 0.024348061725493433, 0.9998668741402487, 0.9968890919928343, 0.08237363624168324, 0.040948744027657566, 0.007142222795521669, 0.6770827210154542, 0.17855556988804172, 0.01142755647283467, 0.0009522963727362225, 0.9151265000816454, 0.08413468529746386, 0.9387697707830736, 0.003340817689619479, 0.06013471841315062, 0.0010590730489695769, 0.998705885178311, 0.997317055621307, 0.07650498286504559, 0.08439209450061731, 0.17115032249190612, 0.15300996573009118, 0.04890009214054461, 0.035492002360072696, 0.35965229058207, 0.07019529355658823, 0.03796011165229387, 0.9597094894656861, 0.0004866680981063317, 0.0014600042943189952, 0.04979450539534965, 0.4942565720723595, 0.003688481881137011, 0.14753927524548044, 0.0055327228217055165, 0.07192539668217172, 0.2286858766304947, 0.7610940033463904, 0.06746539641851661, 0.002108293638078644, 0.10541468190393219, 0.06114051550428067, 0.12788549622625026, 0.09007587125501106, 0.006672286759630448, 0.04003372055778269, 0.3881046798518377, 0.03780962497123921, 0.03780962497123921, 0.20572884175527215, 0.06672286759630448, 0.32521626922291497, 0.3366560374870376, 0.05147895718855187, 0.22144122854123105, 0.0016342526091603768, 0.0637358517572547, 0.0558993310249987, 0.12787929152294222, 0.13706822265033927, 0.26035304860958297, 0.06432251789177933, 0.13630247838972284, 0.10414121944383319, 0.09418654405581972, 0.019143606515410513, 0.04567355476867573, 0.24549535688163207, 0.40820739574503934, 0.16842123320949176, 0.0256913745573801, 0.09134710953735146, 0.014272985865211167, 0.040545675272129836, 0.9431547847916971, 0.015594490489280707, 0.9997376828566407, 0.9976518790867219, 0.12158841861534389, 0.7289133115975692, 0.03394600519717723, 0.014195602173365024, 0.09875201511906102, 0.0006172000944941314, 0.0012344001889882628, 0.0006172000944941314, 0.006541787341319729, 0.9921710801001589, 0.0021805957804399093, 0.1800340361280781, 0.8170775485812776, 0.9974400634143376, 0.002933647245336287, 0.04570813024982155, 0.12043729557889489, 0.13277123548757688, 0.3431737398121523, 0.17630278810645456, 0.034825242095102134, 0.0007255258769812945, 0.0021765776309438834, 0.1451051753962589, 0.9021937347050825, 0.09638821951977378, 0.003855528780790951, 0.9587967558359884, 0.03687679830138417, 0.0023047998938365106, 0.0009072414595753954, 0.002721724378726186, 0.22408864051512264, 0.04763017662770826, 0.41324848483659254, 0.07439379968518242, 0.0957139739852042, 0.0966212154447796, 0.04264034860004358, 0.001360862189363093, 0.15301293832327983, 0.39515962712614017, 0.17529637594317496, 0.035653500191832194, 0.011884500063944066, 0.22729106372293026, 0.07025965959511397, 0.1311513645775461, 0.4531748043884852, 0.03512982979755699, 0.16862318302827353, 0.01990690355194896, 0.1100734666990119, 0.010538948939267096, 0.02510185700292537, 0.7028519960819104, 0.2151587743107889, 0.05378969357769722, 0.1856502903896328, 0.35692500519599757, 0.07228860864729066, 0.09611099104242052, 0.23329505517989255, 0.008214614619010302, 0.04723403405930923, 0.9966049543958392, 0.010608074032933274, 0.18033725855986565, 0.16442514751046575, 0.010608074032933274, 0.5834440718113301, 0.047736333148199736, 0.025828099309356076, 0.1007295873064887, 0.007748429792806823, 0.862658516932493, 0.002582809930935608, 0.9979933697072192, 0.0028610343047339613, 0.07247953571992702, 0.020980918234715717, 0.6485011090730313, 0.0019073562031559743, 0.23365113488660685, 0.019073562031559743, 0.017709422373381526, 0.025299174819116466, 0.5363425061652691, 0.2884105929379277, 0.12902579157749397, 0.0026921091924187062, 0.9969777709257275, 0.009612267713795067, 0.055270539354321635, 0.6344096691104744, 0.2018576219896964, 0.1009288109948482, 0.18622522563776792, 0.8134463439095987, 0.7977335956963193, 0.20294985683961778, 0.26003714118623467, 0.037595731255841154, 0.5357391703957365, 0.13158505939544404, 0.031329776046534294, 0.1465297299690878, 0.08703645614705215, 0.048476000892029046, 0.05728981923603432, 0.4065373711172436, 0.1828867306381096, 0.05398463735703234, 0.0165259093950099, 0.998534939458821, 0.005014226434928744, 0.8398829278505646, 0.022564018957179348, 0.12786277409068297, 0.528392258851856, 0.06563878991948523, 0.075484608407408, 0.08533042689533078, 0.17394279328663584, 0.06563878991948523, 0.17799006201988282, 0.06934677741034397, 0.661105944645279, 0.004623118494022931, 0.08321613289241275, 0.18854308228092392, 0.10751630311887397, 0.6887276228774246, 0.0015582072915778836, 0.0077910364578894185, 0.004674621874733651, 0.054583308494114455, 0.18194436164704816, 0.4935240809676182, 0.04548609041176204, 0.17284714356469577, 0.04548609041176204, 0.006822913561764307, 0.008541530678314983, 0.021353826695787455, 0.6726455409173049, 0.1409352561921972, 0.06192609741778362, 0.09395683746146481, 0.9999180007358469, 0.22474467425510383, 0.13939859542405172, 0.4608688256876812, 0.07112173235921007, 0.03698330082678924, 0.06543199377047326, 0.0005477424813161766, 0.020266471808698536, 0.18239824627828682, 0.07284975001505149, 0.39820878391686043, 0.13310142295983093, 0.1900666410167133, 0.0021909699252647065, 0.18624067628900495, 0.8134697380640898, 0.9996566429518604, 0.9982718693619317, 0.043341598339137234, 0.644838414313993, 0.013037716573561607, 0.014623384805481261, 0.2665684483216042, 0.007047414364087355, 0.00035237071820436774, 0.01004256546882448, 0.006282826154516518, 0.19686188617485087, 0.13822217539936338, 0.01884847846354955, 0.429326453891962, 0.2094275384838839, 0.03150305392422462, 0.23102239544431385, 0.4865471661630247, 0.028002714599310773, 0.10150984042250155, 0.11901153704707078, 0.032843851170486375, 0.03619526455522988, 0.16019755979073969, 0.02122561810337555, 0.4495362486735958, 0.08021049367486129, 0.15662271884701326, 0.028375299990828367, 0.03440784408336668, 0.00044685511796580104, 0.07341518537966425, 0.10933336747401612, 0.1440674336751476, 0.009078221848023, 0.39075824476272913, 0.0003947052977401304, 0.17840679457853895, 0.03276053971243082, 0.06117932114972022, 0.0003947052977401304, 0.1181287675118988, 0.2559456629424474, 0.5758777416205066, 0.019688127918649802, 0.0295321918779747, 0.0872810840711162, 0.003843570674691356, 0.5823009572157404, 0.07174665259423864, 0.14493464419148655, 0.09384718397371394, 0.0004804463343364195, 0.007687141349382712, 0.006085653568261314, 0.001921785337345678, 0.9291961825195952, 0.06827959168674343, 0.9886918744690546, 0.009446100711487783, 0.20825617639057636, 0.15966306856610854, 0.04859310782446782, 0.3575064361371561, 0.076360598009878, 0.14925025974657974, 0.11863679980916296, 0.2812131551032011, 0.015378844419706309, 0.3712892438471952, 0.21310684410164457, 0.08446544329759098, 0.08943399878568457, 0.4272957719760485, 0.037264166160701905, 0.054654110369029466, 0.10185538750591855, 0.16396233110708838, 0.037264166160701905, 0.2773458418052105, 0.030205982770864507, 0.0851259514451636, 0.04393597493943928, 0.002745998433714955, 0.16750590445661226, 0.030205982770864507, 0.3459958026480843, 0.013729992168574776, 0.010513706326571972, 0.36797972143001906, 0.1577055948985796, 0.003504568775523991, 0.4520893720425948, 0.003504568775523991, 0.9993983442095614, 0.8874386611195347, 0.11136485159147103, 0.08881157622277183, 0.040900067997329134, 0.3517405847770305, 0.43470929414304105, 0.002337146742704522, 0.03622577451192009, 0.04674293485409044, 0.8858056701325728, 0.046650580746793804, 0.0677544148941529, 0.9354607014593881, 0.013606701112136554, 0.04932429153149501, 0.0017008376390170693, 0.3888425138589267, 0.001842855515919084, 0.04791424341389618, 0.5620709323553206, 0.17027434948984033, 0.15789076043603376, 0.4550968977273914, 0.21671280844161497, 0.759709464719811, 0.0016551404460126602, 0.008275702230063301, 0.06455047739449375, 0.16054862326322805, 0.0033102808920253204, 0.0016551404460126602, 0.23334162901048525, 0.6107054722637059, 0.13504753620387058, 0.011538871764254765, 0.0029915593462882723, 0.0064104843134748695, 0.0004273656208983246, 0.9977937375702847, 0.36237195808333944, 0.19150808936283154, 0.13792096344020435, 0.05183017097434431, 0.10849196805646648, 0.09224013478485005, 0.047437783603637165, 0.00483162610777786, 0.0030746711594950016, 0.9985933558958546, 0.9975732855081614, 0.11403670276562392, 0.046285485240165, 0.02280734055312478, 0.21130330218336196, 0.21264491045119283, 0.25020994195045715, 0.004695628937408043, 0.05835995965064283, 0.0791548878020213, 0.026069347644414802, 0.02825316734237625, 0.02552339271992444, 0.13375895650013878, 0.0017743535045936776, 0.033303250393912104, 0.7180672144359491, 0.009827188640826523, 0.018016512508181957, 0.005459549244903624, 0.1457197693011386, 0.8543178631576558, 0.1319735222530774, 0.8663673578496139, 0.0015526296735656163, 0.18645449521574817, 0.00230190734834257, 0.02071716613508313, 0.7895542204815015, 0.08720424218058061, 0.03354009314637715, 0.8317943100301535, 0.04695613040492802, 0.11023276986515827, 0.7217621836409173, 0.16534915479773743, 0.0026245897586942447, 0.15160259110875626, 0.23429491353171422, 0.08057200646339494, 0.08905327030164703, 0.0021203159595630243, 0.13888069535137812, 0.30002470827816796, 0.0021203159595630243, 0.30610235645783784, 0.14015164840096903, 0.36467319459555625, 0.0927371603847208, 0.09482897603249646, 0.027567569547675697, 0.6687688168047252, 0.13579580554966178, 0.09393394068096904, 0.0010210210943583592, 0.0724924976994435, 0.0010210210943583592, 0.9245403261658355, 0.07443333134385964, 0.10207604331309958, 0.18366499342603482, 0.08733971311649014, 0.11825006426059775, 0.4072259051892318, 0.06361781572682615, 0.025519010828274895, 0.0010782680631665448, 0.011501526007109813, 0.9995237505906559, 0.18126510039413984, 0.02544071584479156, 0.7918422806691372, 0.12784539883485463, 0.11104520219309488, 0.08236193963399288, 0.071708156397755, 0.5126108780205229, 0.04425417651975737, 0.003278087149611657, 0.04425417651975737, 0.0028683262559101998, 0.17212661579275065, 0.792775470814688, 0.03475633588122849, 0.9982138394130995, 0.1332711609843646, 0.28704557750478527, 0.44765441253722466, 0.08884744065624306, 0.04100651107211218, 0.22724376913221284, 0.5681094228305321, 0.1538629686832691, 0.0023671225951272168, 0.018936980761017734, 0.026038348546399387, 0.13852033894538734, 0.10206761817028542, 0.1658598795267138, 0.01093581623253058, 0.5814208963628759, 0.0028751875462449295, 0.1063819392110624, 0.028751875462449297, 0.1394465959928791, 0.6311036664007621, 0.09056840770671529, 0.029529436406416698, 0.10335302742245844, 0.0040267413281477316, 0.0644278612503637, 0.7476316399260955, 0.049663143047155356, 0.007334674989355525, 0.024448916631185084, 0.007334674989355525, 0.5989984574640346, 0.19803622471259918, 0.04400804993613315, 0.0024448916631185083, 0.1173547998296884, 0.2726427727662319, 0.028485065811397363, 0.06103942673870864, 0.15056391928881463, 0.09562843522397686, 0.07528195964440731, 0.18922222288999677, 0.0020346475579569546, 0.12411350103537422, 0.12318065157534713, 0.006221245029057936, 0.02986197613947809, 0.5462253135512868, 0.0049769960232463484, 0.22147632303446252, 0.031106225145289677, 0.01741948608136222, 0.018663735087173807, 0.30350121048664186, 0.09522698530865277, 0.1436758023955112, 0.09244257053354597, 0.062370890962392456, 0.041209338671580734, 0.09188568757852461, 0.06682595460256335, 0.06793972051260608, 0.03564050912136712, 0.20468525210945002, 0.1759278199948992, 0.0439819549987248, 0.04525066523907263, 0.06470422225773936, 0.0786600349015655, 0.10868617725646416, 0.22583042278191387, 0.04017582427768131, 0.012264198990029031, 0.03581118741998677, 0.06033642486518983, 0.038198599914652555, 0.15344551215715543, 0.27433539938705015, 0.33922961174205646, 0.0021703749951507132, 0.015409662465570064, 0.006077049986421997, 0.07487793733269961, 0.12252973211227935, 0.8730243412999904, 0.29430297966116165, 0.0011939268951771263, 0.22386129284571119, 0.03820566064566804, 0.009949390793142719, 0.165358874982032, 0.08218196795135886, 0.16933863129928908, 0.00955141516141701, 0.005969634475885632, 0.9991303580678829, 0.449384025195382, 0.09158999927002653, 0.10476841643118143, 0.005930287722519704, 0.09817920785060398, 0.0013178417161154898, 0.24841316348776982, 0.0006589208580577449, 0.9977057753295664, 0.37706355185256807, 0.42265620354715966, 0.011090104466252002, 0.043128184035424455, 0.13184901976544047, 0.013554572125419113, 0.18926866988202115, 0.05105273332343992, 0.01618745202938339, 0.22662432841136743, 0.04109122438228091, 0.4270996958521925, 0.017432640647028264, 0.003735565852934628, 0.028639338205832147, 0.42875071283913274, 0.310369985046381, 0.14797590974093963, 0.11155107042009295, 0.0007588508191843057, 0.0026057046299569394, 0.2110620750265121, 0.0026057046299569394, 0.0026057046299569394, 0.4924781750618616, 0.260570462995694, 0.028662750929526335, 0.37337980168298407, 0.009257350454950018, 0.40320904203782304, 0.04834394126473899, 0.007200161464961125, 0.11108820545940022, 0.02674345686985561, 0.02057188989988893, 0.056139881109271185, 0.3769049283019873, 0.04534375012671903, 0.04510383610488454, 0.017753637615752424, 0.037186673384346294, 0.32484358556390247, 0.061657903611464504, 0.0016793981528414456, 0.03334804903499442, 0.054154533370569954, 0.9449966073164457, 0.9980669995404948, 0.1937432778024339, 0.16033926438822116, 0.1291621852016226, 0.004453868455228365, 0.020042408048527645, 0.0913043033321815, 0.3941673582877103, 0.004453868455228365, 0.042827021845361204, 0.15949373652755205, 0.3972575474621436, 0.26729968806932336, 0.13291144710629338, 0.007373259243647657, 0.0031599682472775673, 0.05055949195644108, 0.14430521662567558, 0.6825531414119546, 0.01790648673457288, 0.04739952370916351, 0.045292878210978466, 0.35809044965118286, 0.6402223190733269, 0.005406947683928617, 0.15626078806553703, 0.00324416861035717, 0.009732505831071511, 0.12868535487750107, 0.6969555564583988, 0.06114657960012671, 0.12535048818025976, 0.25910863105553694, 0.06955423429514412, 0.057324918375118786, 0.10089185634020907, 0.09707019511520115, 0.11006384328022807, 0.0068789902050142545, 0.11312117226023441, 0.6681673269241651, 0.16488490707454292, 0.0019172663613318942, 0.11695324804124556, 0.04793165903329736, 0.5271535760542744, 0.06353771578932314, 0.009775033198357406, 0.03351439953722539, 0.14592728131833554, 0.06912344904552736, 0.07610561561578266, 0.004189299942153174, 0.0698216657025529, 0.8405689230376218, 0.08373483524512708, 0.054749699967967705, 0.016102852931755205, 0.9999804829173464, 0.9993528468878998, 0.08030898406625038, 0.052375424391032856, 0.04655593279202921, 0.12919271349788106, 0.012802881517808031, 0.2653688169145665, 0.3619723774580271, 0.044228136152427745, 0.006983389918804381, 0.07441713293325176, 0.06995210495725665, 0.003720856646662588, 0.008930055951990212, 0.2522740806437235, 0.5864070075140239, 0.0029766853173300704, 0.0007441713293325176, 0.9977276717830376, 0.19954790035985465, 0.7981916014394186, 0.13036567629519527, 0.024713872283449338, 0.0015446170177155836, 0.0864985529920727, 0.1584777060176189, 0.5378356455685662, 0.023169255265733754, 0.001235693614172467, 0.01699078719487142, 0.01915325101967324, 0.9967049795463584, 0.0018089019592492893, 0.1540670256173791, 0.001363425005463532, 0.4308423017264761, 0.26832204107522306, 0.0471745051890382, 0.024541650098343575, 0.048537930194501734, 0.022360170089601922, 0.002726850010927064, 0.9999307057575397, 0.9980515800835136, 0.00021840975733123985, 0.9996614593050848, 0.9986186477815824, 0.9988384400003212, 0.999860793399534, 0.12531249120366048, 0.24425316082069415, 0.03823092951976083, 0.41416840313074227, 0.04672669163526323, 0.09770126432827766, 0.01699152423100481, 0.01699152423100481, 0.9970726095211463, 0.21182910649754935, 0.7878556241663239, 0.0002735821511085626, 0.7835392807749232, 0.018603586275382254, 0.0002735821511085626, 0.19725273094927362, 0.8159306360229436, 0.18316810196433428, 0.793447327184844, 0.20609021485320622, 0.06599181121332674, 0.2746110853715855, 0.004257536207311403, 0.036189057762146926, 0.4896166638408114, 0.01277260862193421, 0.11708224570106358, 0.006220034820798146, 0.9703254320445108, 0.022806794342926536, 0.26383219156674065, 0.35268759287160145, 0.0027340123478418717, 0.17771080260972166, 0.007518533956565147, 0.14216864208777732, 0.04169368830458855, 0.0006835030869604679, 0.006151527782644212, 0.004784521608723276, 0.9971126789721667, 0.519704812269923, 0.005177324979918588, 0.19772450637593844, 0.014052739231207595, 0.1595109172384441, 0.08924722108240613, 0.0004930785695160559, 0.013806199946449568, 0.2539750146369247, 0.7465326187812635, 0.3175505762150297, 0.3568663618416524, 0.32662344982117336, 0.8743098545226962, 0.081769986394209, 0.009434998430101038, 0.006289998953400692, 0.02201499633690242, 0.006289998953400692, 0.013761923356005358, 0.038992116175348514, 0.5802944348448926, 0.17431769584273454, 0.0022936538926675598, 0.19037327309140745, 0.8116264080667249, 0.18810450645316606, 0.8378045845048424, 0.1629064469870527, 0.0920172074117151, 0.0008001496296670878, 0.03360628444601769, 0.004000748148335439, 0.8633614504107877, 0.005601047407669615, 0.9983795551059595, 0.8513484797504837, 0.14783895756146123, 0.7835507084396058, 0.09794383855495073, 0.06605514693240863, 0.05011080112113758, 0.9230771933999012, 0.0033525806055686486, 0.0726392464539874, 0.3400028433081782, 0.07910532735228107, 0.03387165778227753, 0.05895383474763494, 0.18886664877333229, 0.02229526841365103, 0.17278833020579548, 0.054880660710525615, 0.042661138599197644, 0.006431327427014721, 0.0150484275571064, 0.22572641335659602, 0.0413831757820426, 0.7185624158518307, 0.14249936199392754, 0.22203388961844522, 0.1690108712021001, 0.019883631906129424, 0.04970907976532356, 0.36784719026339435, 0.026511509208172565, 0.17113585376250018, 0.13638745705945446, 0.021717747939403575, 0.10163906035640873, 0.1433371364000636, 0.37093913480501306, 0.001737419835152286, 0.03387968678546958, 0.018242908269099002, 0.08282874475562163, 0.1282509596216077, 0.2190953893535798, 0.04809410985810288, 0.16298559451912645, 0.21375159936934615, 0.034734634897518754, 0.013359474960584134, 0.0988601147083226, 0.2246581578450856, 0.0010029382046655609, 0.08324387098724155, 0.1384054722438474, 0.0010029382046655609, 0.11834670815053618, 0.1123290789225428, 0.15344954531383082, 0.16749068017914864, 0.9992828889650289, 0.20965011722242713, 0.11971325534150187, 0.4703454803772713, 0.021876533971035873, 0.010330585486322496, 0.04922220143483072, 0.003038407495977205, 0.09783672137046599, 0.017622763476667788, 0.04276619091880385, 0.19619927939065276, 0.20295183585151652, 0.036388776483543626, 0.0007502840512070851, 0.0037514202560354256, 0.02213337951060901, 0.49481233177107264, 0.9316733638683297, 0.06668039979972142, 0.1398265765317503, 0.0033292042031369115, 0.053267267250190584, 0.11319294290665499, 0.6458656154085609, 0.029962837828232204, 0.016646021015684558, 0.11068843960456785, 0.6612177839536028, 0.09321131756174135, 0.002912853673804417, 0.1310784153211988, 0.8060584943318022, 0.014762976086663044, 0.17715571303995653, 0.23378752074003128, 0.0005566369541429317, 0.610630738694796, 0.1530751623893062, 0.0011132739082858633, 0.3605407923322795, 0.6180699297124791, 0.01817852734448468, 0.0851822996279026, 0.15691476247245215, 0.27572165405873733, 0.4079783824283756, 0.07173246284454955, 0.39380034629389554, 0.10416654321322398, 0.0787600692587791, 0.09400395363144602, 0.20579243903100347, 0.12195107498133538, 0.04806958010948428, 0.01700420520879716, 0.15696189423505072, 0.05493666298226775, 0.12851255090494776, 0.013734165745566938, 0.5042400852301004, 0.07586491554694118, 0.0003270039463230223, 0.9983435131094013, 0.9983777068959659, 0.0875618660989034, 0.5760649085454171, 0.1585330628316988, 0.009217038536726674, 0.0009217038536726673, 0.0709711967327954, 0.0903269776599214, 0.0055302231220360045, 0.023354324453525553, 0.3494166235546708, 0.168869730663954, 0.032336756935650766, 0.29372554216549446, 0.07904540584270187, 0.05299635164453875, 0.041257257738811344, 0.17498767937495846, 0.16645169501520438, 0.02276262495934419, 0.1692970231351224, 0.0014226640599590118, 0.179967003584815, 0.22620358553348288, 0.0007113320299795059, 0.016360636689528637, 0.23583016578413274, 0.10160271964612834, 0.40268233841401324, 0.030760456406626013, 0.039149671790251285, 0.0037285401705001225, 0.015846295724625523, 0.12677036579700418, 0.007457080341000245, 0.03448899657712613, 0.4564302016602786, 0.057503017532003604, 0.48158777183053014, 0.1820449402954983, 0.23935538446259966, 0.06742405196129568, 0.0050568038970971755, 0.40960111566487123, 0.07079525455936046, 0.02528401948548588, 0.04447108083162464, 0.012937041696472622, 0.22343349096616258, 0.0010780868080393852, 0.0002695217020098463, 0.0024256953180886165, 0.7147715537301124, 0.0005390434040196926, 0.9995353478635088, 0.051734063721553335, 0.6066994745527619, 0.03527322526469545, 0.3057012856273606, 0.006968794596476441, 0.13473002886521118, 0.38792956587052185, 0.004645863064317627, 0.41115888119211, 0.0023229315321588134, 0.006968794596476441, 0.004645863064317627, 0.04181276757885864, 0.0481165500787051, 0.002830385298747359, 0.6113632245294295, 0.002830385298747359, 0.002830385298747359, 0.11604579724864171, 0.21793966800354664, 0.9978945250929453, 0.002028240904660458, 0.997311570541934, 0.9998257950154801, 0.30684560003146477, 0.18087740633433713, 0.19379722107250408, 0.03875944421450082, 0.12273824001258592, 0.016149768422708672, 0.0032299536845417347, 0.13565805475075285, 0.039606988357167194, 0.7873596133760996, 0.004780153767244317, 0.11540656952346993, 0.03619259280913554, 0.004097274657637986, 0.012974703082520288, 0.9984360474782834, 0.008543129103788322, 0.5638465208500293, 0.27907555072375184, 0.04556335522020438, 0.10251754924545986, 0.9784048494446038, 0.0065445140431077175, 0.016361285107769293, 0.031128876582272338, 0.008489693613347001, 0.6112579401609841, 0.05942785529342901, 0.1980928509780967, 0.002829897871115667, 0.07074744677789167, 0.014149489355578335, 0.8522555769748562, 0.07014449193208694, 0.07715894112529563, 0.9995937673539016, 0.16661067496371712, 0.06664426998548685, 0.19041219995853387, 0.5736167523750832, 0.003363441832752741, 0.25494889092265777, 0.0013453767331010964, 0.0020180650996516445, 0.7359210730062997, 0.0020180650996516445, 0.9984050480924149, 0.09392758956064828, 0.0014231452963734588, 0.0014231452963734588, 0.009962017074614212, 0.8923121008261586, 0.9993691035186385, 0.010677894648691793, 0.00388287078134247, 0.00388287078134247, 0.3751823892472162, 0.5809745406583671, 0.025724018926393866, 0.9999171741025199, 0.99958199194907, 0.8877095387404939, 0.10998171276430897, 0.9420895403110696, 0.04113928123629125, 0.014398748432701936, 0.0020569640618145623, 0.11130627367957308, 0.4818906907539164, 0.0013094855727008596, 0.005237942290803438, 0.002618971145401719, 0.1820184946054195, 0.14666238414249627, 0.026189711454017193, 0.04321302389912837, 0.10570498608415402, 0.8943198164751451, 0.09156791775459766, 0.7295895382382459, 0.12701356333702257, 0.047260860776566535, 0.04613916631624006, 0.10677921347472699, 0.2023532008440814, 0.011205226105372586, 0.49830299621539265, 0.05207134484261378, 0.001977392842124574, 0.027683499789744034, 0.05273047578998864, 0.000659130947374858, 0.8306908131546689, 0.06814260576659392, 0.0032448859888854252, 0.09734657966656275, 0.003101155353142601, 0.995470868358775, 0.016583707219250652, 0.29038409783912367, 0.055166209729344, 0.031136756411654285, 0.4707742192240338, 0.03993627452799137, 0.05685842475171652, 0.0013537720178980123, 0.035536515469822824, 0.0020306580268470184, 0.0418689959214506, 0.9533248302114906, 0.0032206919939577385, 0.8010277066172504, 0.05958057321946491, 0.13902133751208479, 0.7509848265977763, 0.09129619460600419, 0.1295816955698124, 0.023560308285420432, 0.002945038535677554, 0.3493622427411711, 0.4646157661197018, 0.11165185077295159, 0.07563512471716076, 0.39732254952764334, 0.13899269400436995, 0.14180062721657943, 0.0014039666061047469, 0.11652922830669399, 0.18251565879361709, 0.021059499091571204], \"Term\": [\"absolutely\", \"absolutely\", \"absolutely\", \"absolutely\", \"absolutely\", \"absolutely\", \"absolutely\", \"access\", \"access\", \"accessible\", \"accessible\", \"accessible\", \"accessible\", \"accessible\", \"accessible\", \"accessible\", \"accessible\", \"accommodating\", \"accommodating\", \"accommodating\", \"accommodating\", \"accommodating\", \"accommodating\", \"accommodating\", \"accommodating\", \"accommodating\", \"accommodating\", \"accommodations\", \"accommodations\", \"accommodations\", \"accommodations\", \"accommodations\", \"accommodations\", \"accommodations\", \"adorable\", \"adorable\", \"adorable\", \"adorable\", \"adorable\", \"adorable\", \"adorable\", \"adorable\", \"advertised\", \"advertised\", \"advertised\", \"advertised\", \"advertised\", \"advertised\", \"advertised\", \"advertised\", \"airbnb\", \"airbnb\", \"airbnb\", \"airbnb\", \"airbnb\", \"airbnb\", \"airbnb experience\", \"airport\", \"airport\", \"airport\", \"airport\", \"airport\", \"airport\", \"airport\", \"airport\", \"alberta\", \"alberta\", \"alberta\", \"alberta\", \"alberta\", \"alberta\", \"alberta\", \"alberta\", \"alberta\", \"amazing\", \"amazing\", \"amazing\", \"amazing\", \"amazing\", \"amazing\", \"amazing\", \"amazing\", \"amazing\", \"amazing\", \"amenities\", \"amenities\", \"amenities\", \"amenities\", \"amenities\", \"amenities\", \"amenities\", \"amenities\", \"apartment\", \"apartment\", \"apartment\", \"apartment\", \"apartment\", \"apartment\", \"apartment\", \"apartment\", \"apartment\", \"area\", \"area\", \"area\", \"area\", \"area\", \"area\", \"area\", \"area\", \"area\", \"area\", \"arrival\", \"arrival\", \"arrival\", \"arrival\", \"arrival\", \"arrival\", \"arrival\", \"arrival\", \"arrived\", \"arrived\", \"arrived\", \"arrived\", \"arrived\", \"arrived\", \"away\", \"away\", \"away\", \"away\", \"away\", \"away\", \"away\", \"away home\", \"awesome\", \"awesome\", \"awesome\", \"awesome\", \"awesome\", \"awesome\", \"awesome\", \"awesome\", \"awesome\", \"bars\", \"bars\", \"bars restaurants\", \"bars restaurants\", \"base\", \"base\", \"base\", \"basement\", \"basement\", \"basement\", \"basement\", \"basement\", \"bathroom\", \"bathroom\", \"bathroom\", \"bathroom\", \"beautiful\", \"beautiful\", \"beautiful\", \"beautiful\", \"beautiful\", \"beautiful\", \"beautiful\", \"beautiful\", \"beautiful\", \"beautiful\", \"beautiful home\", \"beautiful home\", \"beautifully\", \"beautifully\", \"beautifully\", \"beautifully\", \"beautifully\", \"beautifully\", \"beautifully\", \"beautifully\", \"beautifully\", \"bedroom\", \"bedroom\", \"best\", \"best\", \"best\", \"best\", \"best\", \"best\", \"best\", \"best\", \"better\", \"better\", \"better\", \"better\", \"better\", \"better\", \"better\", \"better\", \"block\", \"block\", \"block\", \"blocks\", \"blocks\", \"blocks\", \"blocks\", \"blocks\", \"blocks\", \"cafes\", \"cafes\", \"cafes\", \"came\", \"came\", \"came\", \"came\", \"care\", \"care\", \"care\", \"care\", \"care\", \"center\", \"center\", \"center\", \"center\", \"central\", \"central\", \"central\", \"central\", \"central\", \"central\", \"central\", \"central\", \"central\", \"charming\", \"charming\", \"charming\", \"charming\", \"charming\", \"charming\", \"charming\", \"charming\", \"check\", \"check\", \"check\", \"check\", \"check\", \"check\", \"check\", \"check\", \"checking\", \"checking\", \"checking\", \"checking\", \"checking\", \"checking\", \"checking\", \"checking\", \"checking\", \"city\", \"city\", \"city\", \"city\", \"city\", \"city\", \"city\", \"city\", \"city\", \"clean\", \"clean\", \"clean\", \"clean\", \"clean\", \"clean\", \"clean\", \"clean\", \"clean\", \"clean comfortable\", \"clean cozy\", \"clean cozy\", \"clean cozy\", \"clean cozy\", \"clean quiet\", \"close\", \"close\", \"close\", \"close\", \"close\", \"close\", \"close\", \"close\", \"close\", \"close\", \"close downtown\", \"coffee\", \"coffee\", \"coffee\", \"coffee\", \"coffee\", \"coffee\", \"coffee\", \"coffee shops\", \"coffee shops\", \"come\", \"come\", \"come\", \"come\", \"come\", \"come\", \"come\", \"comfortable\", \"comfortable\", \"comfortable\", \"comfortable\", \"comfortable\", \"comfortable\", \"comfortable\", \"comfortable\", \"comfortable\", \"comfortable\", \"comfortable clean\", \"comfortable clean\", \"comfortable clean\", \"comfortable clean\", \"comfortable clean\", \"comfortable clean\", \"communicate\", \"communication\", \"communication\", \"communication\", \"communication\", \"communication\", \"communication\", \"communication\", \"communication\", \"communicative\", \"communicative\", \"communicative\", \"convenient\", \"convenient\", \"convenient\", \"convenient\", \"convenient\", \"convenient\", \"convenient\", \"convenient\", \"convenient\", \"convenient\", \"conveniently\", \"conveniently\", \"conveniently\", \"conveniently\", \"conveniently\", \"conveniently\", \"conveniently\", \"conveniently\", \"cool\", \"cool\", \"cool\", \"cool\", \"cool\", \"cool\", \"cool\", \"corner\", \"corner\", \"corner\", \"cottage\", \"cozy\", \"cozy\", \"cozy\", \"cozy\", \"cozy\", \"cozy\", \"cozy\", \"cozy\", \"cozy\", \"cozy\", \"cute\", \"cute\", \"cute\", \"cute\", \"cute\", \"cute\", \"cute\", \"cute\", \"cute\", \"definitely\", \"definitely\", \"definitely\", \"definitely\", \"definitely\", \"definitely\", \"definitely\", \"definitely\", \"definitely\", \"definitely\", \"definitely recommend\", \"definitely stay\", \"definitely stay\", \"definitely stay\", \"definitely stay\", \"definitely stay\", \"definitely stay\", \"definitely stay\", \"definitely stay\", \"described\", \"described\", \"described\", \"didnt\", \"didnt\", \"didnt\", \"didnt\", \"didnt\", \"didnt\", \"didnt\", \"didnt\", \"didnt\", \"distance\", \"district\", \"district\", \"district\", \"district\", \"district\", \"district\", \"district\", \"district\", \"district\", \"division\", \"division\", \"division\", \"division\", \"door\", \"door\", \"door\", \"downtown\", \"downtown\", \"downtown\", \"downtown\", \"downtown\", \"downtown\", \"downtown\", \"downtown portland\", \"drive\", \"drive\", \"drive\", \"drive\", \"drive\", \"early\", \"early\", \"early\", \"early\", \"easy\", \"easy\", \"easy\", \"easy\", \"easy\", \"easy\", \"easy\", \"easy\", \"easy\", \"easy\", \"easy access\", \"easy communicate\", \"enjoyed\", \"enjoyed\", \"enjoyed\", \"enjoyed\", \"enjoyed\", \"enjoyed\", \"enjoyed\", \"enjoyed stay\", \"enjoyed stay\", \"entrance\", \"entrance\", \"entrance\", \"exactly\", \"exactly\", \"exactly described\", \"excellent\", \"excellent\", \"excellent\", \"excellent\", \"excellent\", \"excellent\", \"excellent\", \"excellent\", \"experience\", \"experience\", \"experience\", \"experience\", \"exploring\", \"exploring\", \"exploring\", \"exploring\", \"exploring\", \"exploring\", \"exploring\", \"extra\", \"extra\", \"extra\", \"extra\", \"extra\", \"extremely\", \"extremely\", \"extremely\", \"extremely\", \"extremely\", \"extremely\", \"extremely\", \"extremely\", \"extremely\", \"family\", \"family\", \"family\", \"family\", \"family\", \"family\", \"fantastic\", \"fantastic\", \"fantastic\", \"fantastic\", \"fantastic\", \"fantastic\", \"fantastic\", \"fantastic\", \"fantastic\", \"favorite\", \"favorite\", \"favorite\", \"favorite\", \"favorite\", \"favorite\", \"favorite\", \"feel\", \"feel\", \"feel\", \"feel like\", \"feel welcome\", \"felt\", \"felt\", \"felt\", \"felt\", \"felt\", \"felt\", \"felt\", \"felt\", \"felt like\", \"felt like\", \"felt like\", \"flexible\", \"flexible\", \"floor\", \"floor\", \"food\", \"food\", \"food\", \"food\", \"food\", \"food\", \"food\", \"food\", \"food\", \"forward\", \"forward\", \"forward\", \"fridge\", \"fridge\", \"fridge\", \"friendly\", \"friendly\", \"friendly\", \"friendly\", \"friendly\", \"friendly\", \"friendly\", \"friendly\", \"friendly\", \"friendly\", \"friends\", \"friends\", \"friends\", \"friends\", \"friends\", \"friends\", \"gave\", \"gave\", \"gave\", \"gave\", \"gave\", \"gave\", \"gave\", \"gave\", \"getaway\", \"getaway\", \"getaway\", \"getaway\", \"good\", \"good\", \"good\", \"good\", \"good\", \"good\", \"good\", \"good location\", \"gorgeous\", \"gorgeous\", \"gorgeous\", \"gorgeous\", \"gorgeous\", \"gorgeous\", \"gracious\", \"gracious\", \"gracious\", \"gracious\", \"gracious\", \"great experience\", \"great host\", \"great host\", \"great host\", \"great host\", \"great host\", \"great host\", \"great host\", \"great hosts\", \"great hosts\", \"great hosts\", \"great hosts\", \"great hosts\", \"great location\", \"great location\", \"great neighborhood\", \"great neighborhood\", \"great neighborhood\", \"great neighborhood\", \"great neighborhood\", \"great place\", \"great place\", \"great restaurants\", \"great restaurants\", \"great space\", \"great space\", \"great space\", \"great space\", \"great space\", \"great stay\", \"great stay\", \"great stay\", \"great stay\", \"great stay\", \"great stay\", \"great stay\", \"great stay\", \"great time\", \"grocery\", \"grocery\", \"grocery\", \"grocery\", \"group\", \"group\", \"group\", \"group\", \"group\", \"group\", \"guest\", \"guest\", \"guest\", \"guest\", \"guest\", \"guests\", \"guests\", \"guests\", \"guests\", \"guests\", \"guests\", \"happy\", \"happy\", \"happy\", \"happy\", \"happy\", \"happy\", \"happy\", \"hawthorne\", \"hawthorne\", \"hawthorne\", \"hawthorne\", \"hawthorne\", \"hawthorne\", \"hear\", \"help\", \"help\", \"help\", \"help\", \"help\", \"help\", \"helpful\", \"helpful\", \"helpful\", \"helpful\", \"helpful\", \"helpful\", \"helpful\", \"helpful\", \"highly\", \"highly\", \"highly recommend\", \"highly recommended\", \"home\", \"home\", \"home\", \"home\", \"home\", \"home\", \"home\", \"home\", \"hope\", \"hope\", \"hope\", \"hope\", \"hope\", \"hope\", \"hospitable\", \"hospitable\", \"hospitable\", \"hospitable\", \"hospitable\", \"hospitable\", \"host\", \"host\", \"host\", \"host\", \"host\", \"host\", \"host\", \"host\", \"host\", \"host\", \"hosts\", \"hosts\", \"hosts\", \"hosts\", \"hosts\", \"hosts\", \"hosts\", \"hosts\", \"hosts\", \"hosts\", \"hotel\", \"hotel\", \"hotel\", \"hotel\", \"hotel\", \"house\", \"house\", \"house\", \"house\", \"house\", \"house\", \"house\", \"house\", \"house\", \"house\", \"house clean\", \"house clean\", \"house great\", \"house great\", \"incredible\", \"incredible\", \"incredible\", \"incredible\", \"incredible\", \"incredible\", \"incredibly\", \"incredibly\", \"incredibly\", \"incredibly\", \"incredibly\", \"information\", \"information\", \"information\", \"information\", \"information\", \"information\", \"information\", \"information\", \"instructions\", \"instructions\", \"instructions\", \"instructions\", \"instructions\", \"instructions\", \"instructions\", \"instructions\", \"instructions\", \"inviting\", \"inviting\", \"inviting\", \"inviting\", \"inviting\", \"inviting\", \"issue\", \"kids\", \"kids\", \"kind\", \"kind\", \"kind\", \"kind\", \"kind\", \"kind\", \"kind\", \"kitchen\", \"kitchen\", \"kitchen\", \"large\", \"large\", \"large\", \"large\", \"late\", \"late\", \"late\", \"late\", \"leave\", \"leave\", \"leave\", \"leave\", \"light\", \"light\", \"light\", \"light\", \"light\", \"light\", \"light\", \"like\", \"like\", \"like\", \"like\", \"like\", \"like\", \"like\", \"like home\", \"little\", \"little\", \"little\", \"little\", \"little\", \"little\", \"little\", \"little\", \"little\", \"living\", \"living room\", \"located\", \"located\", \"located\", \"located\", \"located\", \"located\", \"located\", \"located\", \"located\", \"location\", \"location\", \"location\", \"location\", \"location\", \"location\", \"location\", \"location\", \"location\", \"location\", \"location close\", \"location close\", \"location great\", \"location great\", \"location great\", \"location perfect\", \"location perfect\", \"location perfect\", \"location perfect\", \"longer\", \"longer\", \"longer\", \"longer\", \"look\", \"look\", \"look\", \"look\", \"looking\", \"looking\", \"looking\", \"looking\", \"looking\", \"looking\", \"looking\", \"looking\", \"lots\", \"lots\", \"lots\", \"lots\", \"lots\", \"love\", \"love\", \"love\", \"love\", \"love\", \"love\", \"love\", \"love stay\", \"love stay\", \"loved\", \"loved\", \"loved\", \"loved\", \"loved\", \"loved\", \"loved\", \"loved\", \"loved\", \"loved stay\", \"loved staying\", \"loved staying\", \"loved staying\", \"lovely\", \"lovely\", \"lovely\", \"lovely\", \"lovely\", \"lovely\", \"lovely\", \"lovely\", \"lovely\", \"make\", \"make\", \"make\", \"make sure\", \"makes\", \"makes\", \"makes\", \"makes\", \"makes\", \"making\", \"making\", \"making\", \"making\", \"making\", \"making\", \"meet\", \"meet\", \"meet\", \"meet\", \"meet\", \"minute\", \"minute\", \"minute\", \"minute\", \"minute\", \"minute\", \"minutes\", \"minutes\", \"minutes\", \"minutes\", \"minutes\", \"minutes\", \"mississippi\", \"mississippi\", \"mississippi\", \"mississippi\", \"mississippi\", \"mississippi\", \"mississippi\", \"mississippi\", \"modern\", \"modern\", \"modern\", \"modern\", \"modern\", \"modern\", \"modern\", \"modern\", \"modern\", \"nearby\", \"nearby\", \"nearby\", \"nearby\", \"nearby\", \"nearby\", \"nearby\", \"nearby\", \"nearby\", \"need\", \"need\", \"need\", \"need\", \"need\", \"need\", \"need\", \"need\", \"need\", \"need\", \"needed\", \"needed\", \"needed\", \"needed\", \"needed\", \"needed\", \"needed\", \"needed\", \"needed\", \"needed\", \"neighborhood\", \"neighborhood\", \"neighborhood\", \"neighborhood\", \"neighborhood\", \"neighborhood\", \"neighborhood\", \"neighborhood\", \"neighborhood\", \"neighborhood\", \"neighborhood quiet\", \"neighborhood quiet\", \"nice\", \"nice\", \"nice\", \"nice\", \"nice\", \"nice\", \"nice\", \"nice\", \"nice\", \"nice\", \"nice place\", \"night\", \"night\", \"night\", \"night\", \"night\", \"night\", \"night\", \"night\", \"noise\", \"overall\", \"overall\", \"overall\", \"overall\", \"overall\", \"overall\", \"park\", \"park\", \"park\", \"park\", \"park\", \"park\", \"park\", \"park\", \"park\", \"parking\", \"parking\", \"parking\", \"parking\", \"parking\", \"peaceful\", \"peaceful\", \"peaceful\", \"peaceful\", \"peaceful\", \"peaceful\", \"peaceful\", \"people\", \"people\", \"people\", \"people\", \"people\", \"people\", \"people\", \"people\", \"perfect\", \"perfect\", \"perfect\", \"perfect\", \"perfect\", \"perfect\", \"perfect\", \"perfect\", \"perfect\", \"perfect\", \"perfect location\", \"perfect location\", \"perfect place\", \"pictures\", \"pictures\", \"pictures\", \"pictures\", \"pictures\", \"pictures\", \"pictures\", \"pictures\", \"place clean\", \"place clean\", \"place clean\", \"place clean\", \"place clean\", \"place great\", \"place great\", \"place great\", \"place great\", \"place great\", \"place great\", \"place great\", \"place great\", \"place perfect\", \"place perfect\", \"place stay\", \"place stay\", \"place stay\", \"place stay\", \"place stay\", \"place stay\", \"places\", \"places\", \"places\", \"places\", \"places\", \"places\", \"places\", \"places\", \"places\", \"places\", \"plenty\", \"plenty\", \"plenty\", \"plenty\", \"plenty\", \"private\", \"private\", \"private\", \"private\", \"private\", \"private\", \"private\", \"private\", \"private\", \"problem\", \"problem\", \"problem\", \"problem\", \"public\", \"public transportation\", \"questions\", \"questions\", \"questions\", \"questions\", \"questions\", \"questions\", \"questions\", \"questions\", \"questions\", \"quick\", \"quick\", \"quick\", \"quick\", \"quick\", \"quick\", \"quick\", \"quick\", \"quick respond\", \"quickly\", \"quickly\", \"quiet\", \"quiet\", \"quiet\", \"quiet\", \"quiet\", \"quiet\", \"quiet\", \"quiet\", \"quiet\", \"quiet\", \"quiet neighborhood\", \"quiet neighborhood\", \"really\", \"really\", \"really\", \"really\", \"really\", \"really\", \"really\", \"really\", \"really\", \"really enjoyed\", \"really nice\", \"recommend\", \"recommend\", \"recommend place\", \"recommend staying\", \"recommended\", \"relaxing\", \"relaxing\", \"relaxing\", \"relaxing\", \"relaxing\", \"relaxing\", \"relaxing\", \"relaxing\", \"respond\", \"responded\", \"responded\", \"restaurants\", \"restaurants\", \"restaurants\", \"restaurants\", \"restaurants\", \"restaurants bars\", \"restaurants bars\", \"restaurants shops\", \"restaurants shops\", \"return\", \"return\", \"return\", \"return\", \"return\", \"return\", \"return\", \"ride\", \"ride\", \"ride\", \"right\", \"right\", \"right\", \"right\", \"right\", \"right\", \"right\", \"right\", \"right\", \"right\", \"right home\", \"room\", \"room\", \"room\", \"room\", \"room\", \"room\", \"room\", \"room\", \"room clean\", \"room clean\", \"second\", \"second\", \"second\", \"shared\", \"shared\", \"shared\", \"shared\", \"shared\", \"shared\", \"shopping\", \"shopping\", \"shopping\", \"shopping\", \"shopping\", \"shopping\", \"shops\", \"shops\", \"shops restaurants\", \"shops restaurants\", \"short\", \"short\", \"short\", \"short\", \"short\", \"short\", \"short walk\", \"shower\", \"shower\", \"sleep\", \"sleep\", \"sleep\", \"sleep\", \"small\", \"small\", \"small\", \"space\", \"space\", \"space\", \"space\", \"space\", \"space\", \"space\", \"space\", \"space\", \"space\", \"spend\", \"spend\", \"spend\", \"spend\", \"spent\", \"spent\", \"spent\", \"spent\", \"spent\", \"spent\", \"spent\", \"spot\", \"spot\", \"spot\", \"spot\", \"spot\", \"spot\", \"spot\", \"spot\", \"spot\", \"spots\", \"spots\", \"spots\", \"spots\", \"spots\", \"spots\", \"spots\", \"spots\", \"spots\", \"stay portland\", \"stay portland\", \"stay portland\", \"stay portland\", \"stay portland\", \"stay portland\", \"stay portland\", \"stay portland\", \"stay portland\", \"stay time\", \"stayed\", \"stayed\", \"stayed\", \"stayed\", \"stayed\", \"stayed\", \"stayed\", \"stayed\", \"stayed\", \"staying\", \"staying\", \"staying\", \"staying\", \"staying\", \"staying\", \"staying\", \"staying\", \"stocked\", \"stocked\", \"stop\", \"stop\", \"stop\", \"stop\", \"stop\", \"stop\", \"stop\", \"store\", \"store\", \"store\", \"store\", \"store\", \"stores\", \"stores\", \"stores\", \"street\", \"street\", \"street\", \"street\", \"street\", \"street parking\", \"street parking\", \"street parking\", \"stylish\", \"stylish\", \"stylish\", \"stylish\", \"stylish\", \"suite\", \"suite\", \"suite\", \"suite\", \"suite\", \"suite\", \"super\", \"super\", \"super\", \"super\", \"super\", \"super\", \"super\", \"super\", \"super\", \"super clean\", \"super easy\", \"sure\", \"sure\", \"sure\", \"sure\", \"sure\", \"sure\", \"sure\", \"sure\", \"thank\", \"thank\", \"thank\", \"thank\", \"thank\", \"thank\", \"thank\", \"thanks\", \"thanks\", \"thanks\", \"thanks\", \"thanks\", \"thanks\", \"thanks\", \"thanks\", \"thanks\", \"thanks\", \"things\", \"things\", \"things\", \"things\", \"things\", \"things\", \"things\", \"things\", \"things\", \"things\", \"think\", \"think\", \"think\", \"thoughtful\", \"thoughtful\", \"thoughtful\", \"thoughtful\", \"thoughtful\", \"thoughtful\", \"thoughtful\", \"time\", \"time\", \"time\", \"time\", \"time\", \"time\", \"time\", \"time\", \"time portland\", \"tiny\", \"tiny\", \"tiny\", \"tiny\", \"tips\", \"tips\", \"tips\", \"tips\", \"tips\", \"tips\", \"tips\", \"tips\", \"tips\", \"tons\", \"tons\", \"tons\", \"tons\", \"tons\", \"tons\", \"tons\", \"towels\", \"towels\", \"transit\", \"transportation\", \"traveling\", \"traveling\", \"traveling\", \"traveling\", \"traveling\", \"traveling\", \"traveling\", \"traveling\", \"trip\", \"trip\", \"trip\", \"trip\", \"trip\", \"trip\", \"trip\", \"trip portland\", \"truly\", \"truly\", \"truly\", \"truly\", \"truly\", \"uber\", \"uber\", \"uber\", \"unique\", \"unique\", \"unique\", \"unique\", \"unique\", \"unique\", \"unique\", \"unique\", \"unit\", \"unit\", \"unit\", \"upstairs\", \"value\", \"value\", \"value\", \"value\", \"visit\", \"visit\", \"visit\", \"visit\", \"visit\", \"visit\", \"visit portland\", \"visiting\", \"visiting\", \"visiting\", \"visiting\", \"visiting\", \"visiting portland\", \"walk\", \"walk\", \"walk\", \"walk\", \"walk\", \"walk\", \"walking\", \"walking distance\", \"wasnt\", \"wasnt\", \"water\", \"water\", \"water\", \"water\", \"weekend\", \"weekend\", \"weekend\", \"weekend\", \"weekend\", \"weekend\", \"weekend\", \"weekend\", \"weekend\", \"welcome\", \"welcome\", \"welcomed\", \"welcomed\", \"welcomed\", \"welcomed\", \"welcoming\", \"welcoming\", \"welcoming\", \"welcoming\", \"welcoming\", \"welcoming\", \"welcoming\", \"welcoming\", \"welcoming\", \"welcoming\", \"wifi\", \"wifi\", \"wifi\", \"wifi\", \"wish\", \"wish\", \"wonderful\", \"wonderful\", \"wonderful\", \"wonderful\", \"wonderful\", \"wonderful\", \"wonderful\", \"wonderful\", \"wonderful\", \"wonderful\", \"wonderful host\", \"wonderful host\", \"wonderful host\", \"wonderful stay\", \"wonderful stay\", \"wonderful stay\", \"worked\", \"worked\", \"worked\", \"worked\", \"worked\", \"yard\", \"yard\", \"yard\", \"yard\", \"youre\", \"youre\", \"youre\", \"youre\", \"youre\", \"youre\", \"youre\"]}, \"R\": 30, \"lambda.step\": 0.01, \"plot.opts\": {\"xlab\": \"PC1\", \"ylab\": \"PC2\"}, \"topic.order\": [9, 2, 1, 10, 5, 3, 6, 7, 8, 4]};\n",
       "\n",
       "function LDAvis_load_lib(url, callback){\n",
       "  var s = document.createElement('script');\n",
       "  s.src = url;\n",
       "  s.async = true;\n",
       "  s.onreadystatechange = s.onload = callback;\n",
       "  s.onerror = function(){console.warn(\"failed to load library \" + url);};\n",
       "  document.getElementsByTagName(\"head\")[0].appendChild(s);\n",
       "}\n",
       "\n",
       "if(typeof(LDAvis) !== \"undefined\"){\n",
       "   // already loaded: just create the visualization\n",
       "   !function(LDAvis){\n",
       "       new LDAvis(\"#\" + \"ldavis_el67421127222187046733599965\", ldavis_el67421127222187046733599965_data);\n",
       "   }(LDAvis);\n",
       "}else if(typeof define === \"function\" && define.amd){\n",
       "   // require.js is available: use it to load d3/LDAvis\n",
       "   require.config({paths: {d3: \"https://cdnjs.cloudflare.com/ajax/libs/d3/3.5.5/d3.min\"}});\n",
       "   require([\"d3\"], function(d3){\n",
       "      window.d3 = d3;\n",
       "      LDAvis_load_lib(\"https://cdn.rawgit.com/bmabey/pyLDAvis/files/ldavis.v1.0.0.js\", function(){\n",
       "        new LDAvis(\"#\" + \"ldavis_el67421127222187046733599965\", ldavis_el67421127222187046733599965_data);\n",
       "      });\n",
       "    });\n",
       "}else{\n",
       "    // require.js not available: dynamically load d3 & LDAvis\n",
       "    LDAvis_load_lib(\"https://cdnjs.cloudflare.com/ajax/libs/d3/3.5.5/d3.min.js\", function(){\n",
       "         LDAvis_load_lib(\"https://cdn.rawgit.com/bmabey/pyLDAvis/files/ldavis.v1.0.0.js\", function(){\n",
       "                 new LDAvis(\"#\" + \"ldavis_el67421127222187046733599965\", ldavis_el67421127222187046733599965_data);\n",
       "            })\n",
       "         });\n",
       "}\n",
       "</script>"
      ],
      "text/plain": [
       "PreparedData(topic_coordinates=              x         y  topics  cluster       Freq\n",
       "topic                                                \n",
       "8     -0.081937  0.129441       1        1  16.751800\n",
       "1     -0.106383  0.011595       2        1  12.019910\n",
       "0     -0.129512  0.074817       3        1  11.833180\n",
       "9      0.150631  0.078123       4        1  10.864410\n",
       "4     -0.104409 -0.028676       5        1  10.514233\n",
       "2      0.060489  0.164425       6        1  10.131015\n",
       "5      0.011749 -0.056556       7        1  10.020952\n",
       "6     -0.116999 -0.011145       8        1   8.049116\n",
       "7     -0.075498 -0.295373       9        1   5.882707\n",
       "3      0.391869 -0.066650      10        1   3.932678, topic_info=     Category         Freq         Term        Total  loglift  logprob\n",
       "term                                                                  \n",
       "297   Default  4578.000000    recommend  4578.000000  30.0000  30.0000\n",
       "211   Default  7326.000000     location  7326.000000  29.0000  29.0000\n",
       "399   Default  2613.000000      walking  2613.000000  28.0000  28.0000\n",
       "92    Default  2223.000000     distance  2223.000000  27.0000  27.0000\n",
       "309   Default  3655.000000  restaurants  3655.000000  26.0000  26.0000\n",
       "...       ...          ...          ...          ...      ...      ...\n",
       "239   Topic10    63.519248         need  1795.709477  -0.1060  -5.4726\n",
       "66    Topic10    72.900604  comfortable  6294.359983  -1.2225  -5.3348\n",
       "84    Topic10    65.951459   definitely  4275.534604  -0.9359  -5.4350\n",
       "80    Topic10    59.805479         cute  1641.303673  -0.0763  -5.5328\n",
       "291   Topic10    62.055318        quiet  3237.048370  -0.7185  -5.4959\n",
       "\n",
       "[481 rows x 6 columns], token_table=      Topic      Freq        Term\n",
       "term                             \n",
       "1         1  0.008821  absolutely\n",
       "1         2  0.284216  absolutely\n",
       "1         3  0.003920  absolutely\n",
       "1         4  0.000980  absolutely\n",
       "1         5  0.572353  absolutely\n",
       "...     ...       ...         ...\n",
       "421       3  0.141801       youre\n",
       "421       4  0.001404       youre\n",
       "421       6  0.116529       youre\n",
       "421       9  0.182516       youre\n",
       "421      10  0.021059       youre\n",
       "\n",
       "[1599 rows x 3 columns], R=30, lambda_step=0.01, plot_opts={'xlab': 'PC1', 'ylab': 'PC2'}, topic_order=[9, 2, 1, 10, 5, 3, 6, 7, 8, 4])"
      ]
     },
     "execution_count": 37,
     "metadata": {},
     "output_type": "execute_result"
    }
   ],
   "source": [
    "# pyLDAvis.sklearn.prepare(lda_tf, dtm_tf, tf_vectorizer, mds='tsne')\n",
    "pyLDAvis.sklearn.prepare(lda_tf, dtm_tf, tf_vectorizer)"
   ]
  },
  {
   "cell_type": "code",
   "execution_count": 166,
   "metadata": {},
   "outputs": [
    {
     "data": {
      "text/html": [
       "<div>\n",
       "<style scoped>\n",
       "    .dataframe tbody tr th:only-of-type {\n",
       "        vertical-align: middle;\n",
       "    }\n",
       "\n",
       "    .dataframe tbody tr th {\n",
       "        vertical-align: top;\n",
       "    }\n",
       "\n",
       "    .dataframe thead th {\n",
       "        text-align: right;\n",
       "    }\n",
       "</style>\n",
       "<table border=\"1\" class=\"dataframe\">\n",
       "  <thead>\n",
       "    <tr style=\"text-align: right;\">\n",
       "      <th></th>\n",
       "      <th>index</th>\n",
       "      <th>listing_id</th>\n",
       "      <th>id</th>\n",
       "      <th>date</th>\n",
       "      <th>reviewer_id</th>\n",
       "      <th>reviewer_name</th>\n",
       "      <th>comments</th>\n",
       "      <th>reviews_cleaned_str</th>\n",
       "      <th>polarity</th>\n",
       "      <th>subjectivity</th>\n",
       "      <th>review_length</th>\n",
       "      <th>cleaned_comments</th>\n",
       "    </tr>\n",
       "  </thead>\n",
       "  <tbody>\n",
       "    <tr>\n",
       "      <th>0</th>\n",
       "      <td>48257</td>\n",
       "      <td>1677299</td>\n",
       "      <td>98722579</td>\n",
       "      <td>2016-09-01</td>\n",
       "      <td>12555755</td>\n",
       "      <td>Shaun</td>\n",
       "      <td>Ivy was a wonderful host! She welcomed us with...</td>\n",
       "      <td>wonder host welcom surpris basket fuel rest we...</td>\n",
       "      <td>0.308333</td>\n",
       "      <td>0.725000</td>\n",
       "      <td>296</td>\n",
       "      <td>wonderful host welcomed surprise basket fueled...</td>\n",
       "    </tr>\n",
       "    <tr>\n",
       "      <th>1</th>\n",
       "      <td>242359</td>\n",
       "      <td>15910855</td>\n",
       "      <td>307161783</td>\n",
       "      <td>2018-08-13</td>\n",
       "      <td>153332906</td>\n",
       "      <td>Matthew</td>\n",
       "      <td>Great place to stay, would go back.</td>\n",
       "      <td>great place stay would back</td>\n",
       "      <td>0.400000</td>\n",
       "      <td>0.375000</td>\n",
       "      <td>35</td>\n",
       "      <td>great place stay would back</td>\n",
       "    </tr>\n",
       "    <tr>\n",
       "      <th>2</th>\n",
       "      <td>160477</td>\n",
       "      <td>8291362</td>\n",
       "      <td>68415065</td>\n",
       "      <td>2016-04-04</td>\n",
       "      <td>23341762</td>\n",
       "      <td>Viki</td>\n",
       "      <td>During our trip to Portland, Ann and Lee made ...</td>\n",
       "      <td>trip portland made feel right home made trip m...</td>\n",
       "      <td>0.318545</td>\n",
       "      <td>0.592261</td>\n",
       "      <td>1016</td>\n",
       "      <td>trip portland made feel right home made trip m...</td>\n",
       "    </tr>\n",
       "    <tr>\n",
       "      <th>3</th>\n",
       "      <td>70373</td>\n",
       "      <td>3272984</td>\n",
       "      <td>300261268</td>\n",
       "      <td>2018-08-01</td>\n",
       "      <td>141839753</td>\n",
       "      <td>Gary</td>\n",
       "      <td>Danielle and Joel's place was perfect for us. ...</td>\n",
       "      <td>daniel joel place perfect stay week everyth ne...</td>\n",
       "      <td>0.293457</td>\n",
       "      <td>0.495110</td>\n",
       "      <td>1152</td>\n",
       "      <td>danielle joels place perfect stayed week every...</td>\n",
       "    </tr>\n",
       "    <tr>\n",
       "      <th>4</th>\n",
       "      <td>309635</td>\n",
       "      <td>24022524</td>\n",
       "      <td>261700605</td>\n",
       "      <td>2018-05-06</td>\n",
       "      <td>183949683</td>\n",
       "      <td>Colin</td>\n",
       "      <td>Located in a quiet neighborhood, this spot is ...</td>\n",
       "      <td>locat quiet neighborhood spot walk distanc any...</td>\n",
       "      <td>0.333333</td>\n",
       "      <td>0.544444</td>\n",
       "      <td>168</td>\n",
       "      <td>located quiet neighborhood spot walking distan...</td>\n",
       "    </tr>\n",
       "    <tr>\n",
       "      <th>...</th>\n",
       "      <td>...</td>\n",
       "      <td>...</td>\n",
       "      <td>...</td>\n",
       "      <td>...</td>\n",
       "      <td>...</td>\n",
       "      <td>...</td>\n",
       "      <td>...</td>\n",
       "      <td>...</td>\n",
       "      <td>...</td>\n",
       "      <td>...</td>\n",
       "      <td>...</td>\n",
       "      <td>...</td>\n",
       "    </tr>\n",
       "    <tr>\n",
       "      <th>45</th>\n",
       "      <td>117770</td>\n",
       "      <td>5407255</td>\n",
       "      <td>69321453</td>\n",
       "      <td>2016-04-10</td>\n",
       "      <td>62054090</td>\n",
       "      <td>Cynthia</td>\n",
       "      <td>Timothy was quick to respond to my needs. I wa...</td>\n",
       "      <td>timothi quick respond need also abl washer dry...</td>\n",
       "      <td>0.360000</td>\n",
       "      <td>0.631667</td>\n",
       "      <td>225</td>\n",
       "      <td>timothy quick respond needs also able washer d...</td>\n",
       "    </tr>\n",
       "    <tr>\n",
       "      <th>46</th>\n",
       "      <td>259311</td>\n",
       "      <td>17384139</td>\n",
       "      <td>158610332</td>\n",
       "      <td>2017-06-07</td>\n",
       "      <td>111463544</td>\n",
       "      <td>Kim</td>\n",
       "      <td>Although Kim was out of town during our stay, ...</td>\n",
       "      <td>although town stay left phone number friend re...</td>\n",
       "      <td>0.181111</td>\n",
       "      <td>0.508333</td>\n",
       "      <td>417</td>\n",
       "      <td>although town stay left phone numbers friends ...</td>\n",
       "    </tr>\n",
       "    <tr>\n",
       "      <th>47</th>\n",
       "      <td>4282</td>\n",
       "      <td>115681</td>\n",
       "      <td>51451678</td>\n",
       "      <td>2015-10-20</td>\n",
       "      <td>18286644</td>\n",
       "      <td>Vanessa</td>\n",
       "      <td>The Piedmont Cottage was the perfect place to ...</td>\n",
       "      <td>piedmont cottag perfect place stay explor maje...</td>\n",
       "      <td>0.550000</td>\n",
       "      <td>0.670000</td>\n",
       "      <td>455</td>\n",
       "      <td>piedmont cottage perfect place stay exploring ...</td>\n",
       "    </tr>\n",
       "    <tr>\n",
       "      <th>48</th>\n",
       "      <td>32775</td>\n",
       "      <td>1129989</td>\n",
       "      <td>27483790</td>\n",
       "      <td>2015-03-05</td>\n",
       "      <td>1304327</td>\n",
       "      <td>Julie</td>\n",
       "      <td>Adam was a great host. Super responsive and ve...</td>\n",
       "      <td>adam great host super respons help cottag grea...</td>\n",
       "      <td>0.449917</td>\n",
       "      <td>0.680000</td>\n",
       "      <td>553</td>\n",
       "      <td>adam great host super responsive helpful cotta...</td>\n",
       "    </tr>\n",
       "    <tr>\n",
       "      <th>49</th>\n",
       "      <td>254828</td>\n",
       "      <td>17015317</td>\n",
       "      <td>220992113</td>\n",
       "      <td>2017-12-24</td>\n",
       "      <td>64425505</td>\n",
       "      <td>Linda</td>\n",
       "      <td>The location was great!</td>\n",
       "      <td>locat great</td>\n",
       "      <td>1.000000</td>\n",
       "      <td>0.750000</td>\n",
       "      <td>23</td>\n",
       "      <td>location great</td>\n",
       "    </tr>\n",
       "  </tbody>\n",
       "</table>\n",
       "<p>50 rows × 12 columns</p>\n",
       "</div>"
      ],
      "text/plain": [
       "     index  listing_id         id        date  reviewer_id reviewer_name  \\\n",
       "0    48257     1677299   98722579  2016-09-01     12555755         Shaun   \n",
       "1   242359    15910855  307161783  2018-08-13    153332906       Matthew   \n",
       "2   160477     8291362   68415065  2016-04-04     23341762          Viki   \n",
       "3    70373     3272984  300261268  2018-08-01    141839753          Gary   \n",
       "4   309635    24022524  261700605  2018-05-06    183949683         Colin   \n",
       "..     ...         ...        ...         ...          ...           ...   \n",
       "45  117770     5407255   69321453  2016-04-10     62054090       Cynthia   \n",
       "46  259311    17384139  158610332  2017-06-07    111463544           Kim   \n",
       "47    4282      115681   51451678  2015-10-20     18286644       Vanessa   \n",
       "48   32775     1129989   27483790  2015-03-05      1304327         Julie   \n",
       "49  254828    17015317  220992113  2017-12-24     64425505         Linda   \n",
       "\n",
       "                                             comments  \\\n",
       "0   Ivy was a wonderful host! She welcomed us with...   \n",
       "1                 Great place to stay, would go back.   \n",
       "2   During our trip to Portland, Ann and Lee made ...   \n",
       "3   Danielle and Joel's place was perfect for us. ...   \n",
       "4   Located in a quiet neighborhood, this spot is ...   \n",
       "..                                                ...   \n",
       "45  Timothy was quick to respond to my needs. I wa...   \n",
       "46  Although Kim was out of town during our stay, ...   \n",
       "47  The Piedmont Cottage was the perfect place to ...   \n",
       "48  Adam was a great host. Super responsive and ve...   \n",
       "49                            The location was great!   \n",
       "\n",
       "                                  reviews_cleaned_str  polarity  subjectivity  \\\n",
       "0   wonder host welcom surpris basket fuel rest we...  0.308333      0.725000   \n",
       "1                         great place stay would back  0.400000      0.375000   \n",
       "2   trip portland made feel right home made trip m...  0.318545      0.592261   \n",
       "3   daniel joel place perfect stay week everyth ne...  0.293457      0.495110   \n",
       "4   locat quiet neighborhood spot walk distanc any...  0.333333      0.544444   \n",
       "..                                                ...       ...           ...   \n",
       "45  timothi quick respond need also abl washer dry...  0.360000      0.631667   \n",
       "46  although town stay left phone number friend re...  0.181111      0.508333   \n",
       "47  piedmont cottag perfect place stay explor maje...  0.550000      0.670000   \n",
       "48  adam great host super respons help cottag grea...  0.449917      0.680000   \n",
       "49                                        locat great  1.000000      0.750000   \n",
       "\n",
       "    review_length                                   cleaned_comments  \n",
       "0             296  wonderful host welcomed surprise basket fueled...  \n",
       "1              35                        great place stay would back  \n",
       "2            1016  trip portland made feel right home made trip m...  \n",
       "3            1152  danielle joels place perfect stayed week every...  \n",
       "4             168  located quiet neighborhood spot walking distan...  \n",
       "..            ...                                                ...  \n",
       "45            225  timothy quick respond needs also able washer d...  \n",
       "46            417  although town stay left phone numbers friends ...  \n",
       "47            455  piedmont cottage perfect place stay exploring ...  \n",
       "48            553  adam great host super responsive helpful cotta...  \n",
       "49             23                                     location great  \n",
       "\n",
       "[50 rows x 12 columns]"
      ]
     },
     "execution_count": 166,
     "metadata": {},
     "output_type": "execute_result"
    }
   ],
   "source": [
    "mini_df.head(50)"
   ]
  },
  {
   "cell_type": "code",
   "execution_count": 184,
   "metadata": {},
   "outputs": [],
   "source": [
    "def language_detect(x):\n",
    "    try:\n",
    "        detect(x) == 'en'\n",
    "        return x\n",
    "    except:\n",
    "        return ''"
   ]
  },
  {
   "cell_type": "code",
   "execution_count": 187,
   "metadata": {},
   "outputs": [
    {
     "data": {
      "text/html": [
       "<div>\n",
       "<style scoped>\n",
       "    .dataframe tbody tr th:only-of-type {\n",
       "        vertical-align: middle;\n",
       "    }\n",
       "\n",
       "    .dataframe tbody tr th {\n",
       "        vertical-align: top;\n",
       "    }\n",
       "\n",
       "    .dataframe thead th {\n",
       "        text-align: right;\n",
       "    }\n",
       "</style>\n",
       "<table border=\"1\" class=\"dataframe\">\n",
       "  <thead>\n",
       "    <tr style=\"text-align: right;\">\n",
       "      <th></th>\n",
       "      <th>listing_id</th>\n",
       "      <th>id</th>\n",
       "      <th>date</th>\n",
       "      <th>reviewer_id</th>\n",
       "      <th>reviewer_name</th>\n",
       "      <th>comments</th>\n",
       "      <th>reviews_cleaned_str</th>\n",
       "      <th>polarity</th>\n",
       "      <th>subjectivity</th>\n",
       "      <th>review_length</th>\n",
       "      <th>cleaned_comments</th>\n",
       "      <th>num_sentences</th>\n",
       "      <th>comment_words_only</th>\n",
       "      <th>individual_words</th>\n",
       "      <th>word_count</th>\n",
       "      <th>average_word_length</th>\n",
       "      <th>most_frequent_words</th>\n",
       "    </tr>\n",
       "  </thead>\n",
       "  <tbody>\n",
       "    <tr>\n",
       "      <th>0</th>\n",
       "      <td>7893</td>\n",
       "      <td>27282</td>\n",
       "      <td>2010-02-22</td>\n",
       "      <td>52074</td>\n",
       "      <td>Shaun</td>\n",
       "      <td>Couldn't possibly had a better experience with...</td>\n",
       "      <td>couldnt possibl better experi trip would give ...</td>\n",
       "      <td>0.275000</td>\n",
       "      <td>0.650000</td>\n",
       "      <td>158</td>\n",
       "      <td>couldnt possibly better experience trip would ...</td>\n",
       "      <td>3</td>\n",
       "      <td>couldnt possibly had a better experience with ...</td>\n",
       "      <td>['couldnt', 'possibly', 'had', 'a', 'better', ...</td>\n",
       "      <td>29</td>\n",
       "      <td>4.241379</td>\n",
       "      <td>[]</td>\n",
       "    </tr>\n",
       "    <tr>\n",
       "      <th>1</th>\n",
       "      <td>7893</td>\n",
       "      <td>17461247</td>\n",
       "      <td>2014-08-12</td>\n",
       "      <td>13284006</td>\n",
       "      <td>Jessica</td>\n",
       "      <td>Jesse's place was really wonderful! The apartm...</td>\n",
       "      <td>jess place realli wonder apart locat block awa...</td>\n",
       "      <td>0.275463</td>\n",
       "      <td>0.601852</td>\n",
       "      <td>670</td>\n",
       "      <td>jesses place really wonderful apartment locate...</td>\n",
       "      <td>10</td>\n",
       "      <td>jesses place was really wonderful the apartmen...</td>\n",
       "      <td>['jesses', 'place', 'was', 'really', 'wonderfu...</td>\n",
       "      <td>119</td>\n",
       "      <td>4.436975</td>\n",
       "      <td>[('place', 2), ('really', 2), ('apartment', 2)]</td>\n",
       "    </tr>\n",
       "    <tr>\n",
       "      <th>2</th>\n",
       "      <td>12899</td>\n",
       "      <td>24767</td>\n",
       "      <td>2010-01-24</td>\n",
       "      <td>69327</td>\n",
       "      <td>Stuart</td>\n",
       "      <td>Recommended! Very good value for a spacious, a...</td>\n",
       "      <td>recommend good valu spaciou airi upper floor a...</td>\n",
       "      <td>0.370000</td>\n",
       "      <td>0.360000</td>\n",
       "      <td>112</td>\n",
       "      <td>recommended good value spacious airy upper flo...</td>\n",
       "      <td>3</td>\n",
       "      <td>recommended very good value for a spacious air...</td>\n",
       "      <td>['recommended', 'very', 'good', 'value', 'for'...</td>\n",
       "      <td>19</td>\n",
       "      <td>4.736842</td>\n",
       "      <td>[]</td>\n",
       "    </tr>\n",
       "    <tr>\n",
       "      <th>3</th>\n",
       "      <td>12899</td>\n",
       "      <td>29230</td>\n",
       "      <td>2010-03-13</td>\n",
       "      <td>72846</td>\n",
       "      <td>John</td>\n",
       "      <td>Our ten days visiting in Portland were enormou...</td>\n",
       "      <td>day visit portland enorm enhanc alison david c...</td>\n",
       "      <td>0.266667</td>\n",
       "      <td>0.579167</td>\n",
       "      <td>281</td>\n",
       "      <td>days visiting portland enormously enhanced ali...</td>\n",
       "      <td>4</td>\n",
       "      <td>our ten days visiting in portland were enormou...</td>\n",
       "      <td>['our', 'ten', 'days', 'visiting', 'in', 'port...</td>\n",
       "      <td>44</td>\n",
       "      <td>5.250000</td>\n",
       "      <td>[('portland', 2)]</td>\n",
       "    </tr>\n",
       "    <tr>\n",
       "      <th>4</th>\n",
       "      <td>12899</td>\n",
       "      <td>29806</td>\n",
       "      <td>2010-03-16</td>\n",
       "      <td>84196</td>\n",
       "      <td>Lois</td>\n",
       "      <td>We had a wonderful time staying in the area of...</td>\n",
       "      <td>wonder time stay area alberta artsth bed comfi...</td>\n",
       "      <td>0.408929</td>\n",
       "      <td>0.821429</td>\n",
       "      <td>317</td>\n",
       "      <td>wonderful time staying area alberta artsthe be...</td>\n",
       "      <td>4</td>\n",
       "      <td>we had a wonderful time staying in the area of...</td>\n",
       "      <td>['we', 'had', 'a', 'wonderful', 'time', 'stayi...</td>\n",
       "      <td>57</td>\n",
       "      <td>4.350877</td>\n",
       "      <td>[('great', 2)]</td>\n",
       "    </tr>\n",
       "  </tbody>\n",
       "</table>\n",
       "</div>"
      ],
      "text/plain": [
       "   listing_id        id        date  reviewer_id reviewer_name  \\\n",
       "0        7893     27282  2010-02-22        52074         Shaun   \n",
       "1        7893  17461247  2014-08-12     13284006       Jessica   \n",
       "2       12899     24767  2010-01-24        69327        Stuart   \n",
       "3       12899     29230  2010-03-13        72846          John   \n",
       "4       12899     29806  2010-03-16        84196          Lois   \n",
       "\n",
       "                                            comments  \\\n",
       "0  Couldn't possibly had a better experience with...   \n",
       "1  Jesse's place was really wonderful! The apartm...   \n",
       "2  Recommended! Very good value for a spacious, a...   \n",
       "3  Our ten days visiting in Portland were enormou...   \n",
       "4  We had a wonderful time staying in the area of...   \n",
       "\n",
       "                                 reviews_cleaned_str  polarity  subjectivity  \\\n",
       "0  couldnt possibl better experi trip would give ...  0.275000      0.650000   \n",
       "1  jess place realli wonder apart locat block awa...  0.275463      0.601852   \n",
       "2  recommend good valu spaciou airi upper floor a...  0.370000      0.360000   \n",
       "3  day visit portland enorm enhanc alison david c...  0.266667      0.579167   \n",
       "4  wonder time stay area alberta artsth bed comfi...  0.408929      0.821429   \n",
       "\n",
       "   review_length                                   cleaned_comments  \\\n",
       "0            158  couldnt possibly better experience trip would ...   \n",
       "1            670  jesses place really wonderful apartment locate...   \n",
       "2            112  recommended good value spacious airy upper flo...   \n",
       "3            281  days visiting portland enormously enhanced ali...   \n",
       "4            317  wonderful time staying area alberta artsthe be...   \n",
       "\n",
       "   num_sentences                                 comment_words_only  \\\n",
       "0              3  couldnt possibly had a better experience with ...   \n",
       "1             10  jesses place was really wonderful the apartmen...   \n",
       "2              3  recommended very good value for a spacious air...   \n",
       "3              4  our ten days visiting in portland were enormou...   \n",
       "4              4  we had a wonderful time staying in the area of...   \n",
       "\n",
       "                                    individual_words  word_count  \\\n",
       "0  ['couldnt', 'possibly', 'had', 'a', 'better', ...          29   \n",
       "1  ['jesses', 'place', 'was', 'really', 'wonderfu...         119   \n",
       "2  ['recommended', 'very', 'good', 'value', 'for'...          19   \n",
       "3  ['our', 'ten', 'days', 'visiting', 'in', 'port...          44   \n",
       "4  ['we', 'had', 'a', 'wonderful', 'time', 'stayi...          57   \n",
       "\n",
       "   average_word_length                              most_frequent_words  \n",
       "0             4.241379                                               []  \n",
       "1             4.436975  [('place', 2), ('really', 2), ('apartment', 2)]  \n",
       "2             4.736842                                               []  \n",
       "3             5.250000                                [('portland', 2)]  \n",
       "4             4.350877                                   [('great', 2)]  "
      ]
     },
     "execution_count": 187,
     "metadata": {},
     "output_type": "execute_result"
    }
   ],
   "source": [
    "df.head()"
   ]
  },
  {
   "cell_type": "code",
   "execution_count": 10,
   "metadata": {},
   "outputs": [],
   "source": [
    "from langdetect import detect\n",
    "\n",
    "# df['cleaned_comments_eng'] = df['cleaned_comments'].apply(language_detect)"
   ]
  },
  {
   "cell_type": "code",
   "execution_count": null,
   "metadata": {},
   "outputs": [],
   "source": [
    "comm = df['cleaned_comments']"
   ]
  },
  {
   "cell_type": "code",
   "execution_count": 180,
   "metadata": {},
   "outputs": [
    {
     "data": {
      "text/html": [
       "<div>\n",
       "<style scoped>\n",
       "    .dataframe tbody tr th:only-of-type {\n",
       "        vertical-align: middle;\n",
       "    }\n",
       "\n",
       "    .dataframe tbody tr th {\n",
       "        vertical-align: top;\n",
       "    }\n",
       "\n",
       "    .dataframe thead th {\n",
       "        text-align: right;\n",
       "    }\n",
       "</style>\n",
       "<table border=\"1\" class=\"dataframe\">\n",
       "  <thead>\n",
       "    <tr style=\"text-align: right;\">\n",
       "      <th></th>\n",
       "      <th>index</th>\n",
       "      <th>listing_id</th>\n",
       "      <th>id</th>\n",
       "      <th>date</th>\n",
       "      <th>reviewer_id</th>\n",
       "      <th>reviewer_name</th>\n",
       "      <th>comments</th>\n",
       "      <th>reviews_cleaned_str</th>\n",
       "      <th>polarity</th>\n",
       "      <th>subjectivity</th>\n",
       "      <th>review_length</th>\n",
       "      <th>cleaned_comments</th>\n",
       "    </tr>\n",
       "  </thead>\n",
       "  <tbody>\n",
       "    <tr>\n",
       "      <th>379</th>\n",
       "      <td>238259</td>\n",
       "      <td>15559774</td>\n",
       "      <td>168067438</td>\n",
       "      <td>2017-07-08</td>\n",
       "      <td>19001883</td>\n",
       "      <td>Daniel</td>\n",
       "      <td>.</td>\n",
       "      <td>NaN</td>\n",
       "      <td>0.0</td>\n",
       "      <td>0.0</td>\n",
       "      <td>1</td>\n",
       "      <td></td>\n",
       "    </tr>\n",
       "    <tr>\n",
       "      <th>503</th>\n",
       "      <td>307518</td>\n",
       "      <td>23409707</td>\n",
       "      <td>301209469</td>\n",
       "      <td>2018-08-03</td>\n",
       "      <td>194655346</td>\n",
       "      <td>Pascal</td>\n",
       "      <td>NaN</td>\n",
       "      <td>NaN</td>\n",
       "      <td>0.0</td>\n",
       "      <td>0.0</td>\n",
       "      <td>0</td>\n",
       "      <td></td>\n",
       "    </tr>\n",
       "    <tr>\n",
       "      <th>615</th>\n",
       "      <td>248069</td>\n",
       "      <td>16334300</td>\n",
       "      <td>249186021</td>\n",
       "      <td>2018-04-01</td>\n",
       "      <td>134918228</td>\n",
       "      <td>Elizabeth</td>\n",
       "      <td>N/a</td>\n",
       "      <td>NaN</td>\n",
       "      <td>0.0</td>\n",
       "      <td>0.0</td>\n",
       "      <td>3</td>\n",
       "      <td></td>\n",
       "    </tr>\n",
       "    <tr>\n",
       "      <th>650</th>\n",
       "      <td>277710</td>\n",
       "      <td>19344009</td>\n",
       "      <td>274245401</td>\n",
       "      <td>2018-06-08</td>\n",
       "      <td>61588207</td>\n",
       "      <td>Sarah</td>\n",
       "      <td>NaN</td>\n",
       "      <td>NaN</td>\n",
       "      <td>0.0</td>\n",
       "      <td>0.0</td>\n",
       "      <td>0</td>\n",
       "      <td></td>\n",
       "    </tr>\n",
       "    <tr>\n",
       "      <th>732</th>\n",
       "      <td>290544</td>\n",
       "      <td>20634117</td>\n",
       "      <td>192968238</td>\n",
       "      <td>2017-09-11</td>\n",
       "      <td>109757493</td>\n",
       "      <td>Marisa</td>\n",
       "      <td>NaN</td>\n",
       "      <td>NaN</td>\n",
       "      <td>0.0</td>\n",
       "      <td>0.0</td>\n",
       "      <td>0</td>\n",
       "      <td></td>\n",
       "    </tr>\n",
       "    <tr>\n",
       "      <th>...</th>\n",
       "      <td>...</td>\n",
       "      <td>...</td>\n",
       "      <td>...</td>\n",
       "      <td>...</td>\n",
       "      <td>...</td>\n",
       "      <td>...</td>\n",
       "      <td>...</td>\n",
       "      <td>...</td>\n",
       "      <td>...</td>\n",
       "      <td>...</td>\n",
       "      <td>...</td>\n",
       "      <td>...</td>\n",
       "    </tr>\n",
       "    <tr>\n",
       "      <th>4451</th>\n",
       "      <td>48707</td>\n",
       "      <td>1727988</td>\n",
       "      <td>308576134</td>\n",
       "      <td>2018-08-16</td>\n",
       "      <td>170225556</td>\n",
       "      <td>Andrew</td>\n",
       "      <td>NaN</td>\n",
       "      <td>NaN</td>\n",
       "      <td>0.0</td>\n",
       "      <td>0.0</td>\n",
       "      <td>0</td>\n",
       "      <td></td>\n",
       "    </tr>\n",
       "    <tr>\n",
       "      <th>4488</th>\n",
       "      <td>127721</td>\n",
       "      <td>6122743</td>\n",
       "      <td>235420796</td>\n",
       "      <td>2018-02-16</td>\n",
       "      <td>22776996</td>\n",
       "      <td>Molly</td>\n",
       "      <td>.</td>\n",
       "      <td>NaN</td>\n",
       "      <td>0.0</td>\n",
       "      <td>0.0</td>\n",
       "      <td>1</td>\n",
       "      <td></td>\n",
       "    </tr>\n",
       "    <tr>\n",
       "      <th>4523</th>\n",
       "      <td>315823</td>\n",
       "      <td>26233020</td>\n",
       "      <td>322283907</td>\n",
       "      <td>2018-09-12</td>\n",
       "      <td>135142365</td>\n",
       "      <td>Kodaira</td>\n",
       "      <td>ﾏｰｹｯﾄも近く､場所もとても便利な場所にあり､快適に過ごせました｡ありがとうございました!</td>\n",
       "      <td>NaN</td>\n",
       "      <td>0.0</td>\n",
       "      <td>0.0</td>\n",
       "      <td>46</td>\n",
       "      <td></td>\n",
       "    </tr>\n",
       "    <tr>\n",
       "      <th>4719</th>\n",
       "      <td>220964</td>\n",
       "      <td>14105943</td>\n",
       "      <td>185813958</td>\n",
       "      <td>2017-08-22</td>\n",
       "      <td>108309179</td>\n",
       "      <td>Midori</td>\n",
       "      <td>ﾎｽﾄに会うことはありませんでしたが､無事にﾁｪｯｸｲﾝ､ﾁｪｯｸｱｳﾄできたかこまめに連絡...</td>\n",
       "      <td>NaN</td>\n",
       "      <td>0.0</td>\n",
       "      <td>0.0</td>\n",
       "      <td>63</td>\n",
       "      <td></td>\n",
       "    </tr>\n",
       "    <tr>\n",
       "      <th>4762</th>\n",
       "      <td>162260</td>\n",
       "      <td>8442996</td>\n",
       "      <td>100696988</td>\n",
       "      <td>2016-09-10</td>\n",
       "      <td>87652396</td>\n",
       "      <td>Lyle</td>\n",
       "      <td>NaN</td>\n",
       "      <td>NaN</td>\n",
       "      <td>0.0</td>\n",
       "      <td>0.0</td>\n",
       "      <td>0</td>\n",
       "      <td></td>\n",
       "    </tr>\n",
       "  </tbody>\n",
       "</table>\n",
       "<p>35 rows × 12 columns</p>\n",
       "</div>"
      ],
      "text/plain": [
       "       index  listing_id         id        date  reviewer_id reviewer_name  \\\n",
       "379   238259    15559774  168067438  2017-07-08     19001883        Daniel   \n",
       "503   307518    23409707  301209469  2018-08-03    194655346        Pascal   \n",
       "615   248069    16334300  249186021  2018-04-01    134918228     Elizabeth   \n",
       "650   277710    19344009  274245401  2018-06-08     61588207         Sarah   \n",
       "732   290544    20634117  192968238  2017-09-11    109757493        Marisa   \n",
       "...      ...         ...        ...         ...          ...           ...   \n",
       "4451   48707     1727988  308576134  2018-08-16    170225556        Andrew   \n",
       "4488  127721     6122743  235420796  2018-02-16     22776996         Molly   \n",
       "4523  315823    26233020  322283907  2018-09-12    135142365       Kodaira   \n",
       "4719  220964    14105943  185813958  2017-08-22    108309179        Midori   \n",
       "4762  162260     8442996  100696988  2016-09-10     87652396          Lyle   \n",
       "\n",
       "                                               comments reviews_cleaned_str  \\\n",
       "379                                                   .                 NaN   \n",
       "503                                                 NaN                 NaN   \n",
       "615                                                 N/a                 NaN   \n",
       "650                                                 NaN                 NaN   \n",
       "732                                                 NaN                 NaN   \n",
       "...                                                 ...                 ...   \n",
       "4451                                                NaN                 NaN   \n",
       "4488                                                  .                 NaN   \n",
       "4523     ﾏｰｹｯﾄも近く､場所もとても便利な場所にあり､快適に過ごせました｡ありがとうございました!                 NaN   \n",
       "4719  ﾎｽﾄに会うことはありませんでしたが､無事にﾁｪｯｸｲﾝ､ﾁｪｯｸｱｳﾄできたかこまめに連絡...                 NaN   \n",
       "4762                                                NaN                 NaN   \n",
       "\n",
       "      polarity  subjectivity  review_length cleaned_comments  \n",
       "379        0.0           0.0              1                   \n",
       "503        0.0           0.0              0                   \n",
       "615        0.0           0.0              3                   \n",
       "650        0.0           0.0              0                   \n",
       "732        0.0           0.0              0                   \n",
       "...        ...           ...            ...              ...  \n",
       "4451       0.0           0.0              0                   \n",
       "4488       0.0           0.0              1                   \n",
       "4523       0.0           0.0             46                   \n",
       "4719       0.0           0.0             63                   \n",
       "4762       0.0           0.0              0                   \n",
       "\n",
       "[35 rows x 12 columns]"
      ]
     },
     "execution_count": 180,
     "metadata": {},
     "output_type": "execute_result"
    }
   ],
   "source": [
    "mini_df[mini_df['cleaned_comments']=='']"
   ]
  },
  {
   "cell_type": "code",
   "execution_count": 20,
   "metadata": {},
   "outputs": [
    {
     "data": {
      "text/plain": [
       "(25000, 17)"
      ]
     },
     "execution_count": 20,
     "metadata": {},
     "output_type": "execute_result"
    }
   ],
   "source": [
    "mini_df.shape"
   ]
  },
  {
   "cell_type": "code",
   "execution_count": 82,
   "metadata": {},
   "outputs": [],
   "source": [
    "labels=[]\n",
    "for i in range(1, 11):\n",
    "    labels.append(f'lda_{i}')"
   ]
  },
  {
   "cell_type": "code",
   "execution_count": 83,
   "metadata": {},
   "outputs": [
    {
     "data": {
      "text/plain": [
       "['lda_1',\n",
       " 'lda_2',\n",
       " 'lda_3',\n",
       " 'lda_4',\n",
       " 'lda_5',\n",
       " 'lda_6',\n",
       " 'lda_7',\n",
       " 'lda_8',\n",
       " 'lda_9',\n",
       " 'lda_10']"
      ]
     },
     "execution_count": 83,
     "metadata": {},
     "output_type": "execute_result"
    }
   ],
   "source": [
    "labels"
   ]
  },
  {
   "cell_type": "markdown",
   "metadata": {},
   "source": [
    "#### Add LDA topic probabilities onto dataframe"
   ]
  },
  {
   "cell_type": "code",
   "execution_count": 101,
   "metadata": {},
   "outputs": [],
   "source": [
    "df3 = df.merge(pd.DataFrame(new2, columns=labels), left_index=True, right_index=True)"
   ]
  },
  {
   "cell_type": "code",
   "execution_count": 102,
   "metadata": {},
   "outputs": [],
   "source": [
    "df3.to_csv('data/df_with_lda.csv')"
   ]
  },
  {
   "cell_type": "code",
   "execution_count": null,
   "metadata": {},
   "outputs": [],
   "source": []
  }
 ],
 "metadata": {
  "kernelspec": {
   "display_name": "Python 3",
   "language": "python",
   "name": "python3"
  },
  "language_info": {
   "codemirror_mode": {
    "name": "ipython",
    "version": 3
   },
   "file_extension": ".py",
   "mimetype": "text/x-python",
   "name": "python",
   "nbconvert_exporter": "python",
   "pygments_lexer": "ipython3",
   "version": "3.6.6"
  },
  "toc-autonumbering": false,
  "toc-showcode": true
 },
 "nbformat": 4,
 "nbformat_minor": 2
}
