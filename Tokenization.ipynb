{
 "cells": [
  {
   "cell_type": "code",
   "execution_count": 1,
   "metadata": {},
   "outputs": [],
   "source": [
    "import pandas as pd\n",
    "import numpy as np\n",
    "import datetime as dt\n",
    "import seaborn as sns\n",
    "import matplotlib.pyplot as plt\n",
    "import matplotlib.dates as mdates\n",
    "%matplotlib inline\n",
    "\n",
    "import matplotlib.style as style\n",
    "style.use('seaborn-whitegrid')\n",
    "\n",
    "import os\n",
    "import pprint\n",
    "# import googlemaps\n",
    "# import time\n",
    "import pickle\n",
    "from random import randint\n",
    "from collections import defaultdict\n",
    "\n",
    "from sklearn.linear_model import LinearRegression\n",
    "from sklearn.model_selection import train_test_split, KFold\n",
    "from sklearn.linear_model import RidgeCV\n",
    "from sklearn.pipeline import make_pipeline\n",
    "from sklearn.preprocessing import PolynomialFeatures\n",
    "from sklearn.preprocessing import StandardScaler\n",
    "from sklearn.metrics import mean_squared_error"
   ]
  },
  {
   "cell_type": "code",
   "execution_count": 78,
   "metadata": {},
   "outputs": [],
   "source": [
    "from sklearn.feature_extraction.text import TfidfVectorizer, CountVectorizer\n",
    "from sklearn.decomposition import NMF, LatentDirichletAllocation\n",
    "from sklearn.feature_extraction.text import TfidfVectorizer \n",
    "from sklearn.naive_bayes import MultinomialNB\n",
    "\n",
    "import nltk\n",
    "from nltk.tokenize import word_tokenize, sent_tokenize, TreebankWordTokenizer, wordpunct_tokenize\n",
    "from nltk.tag import pos_tag\n",
    "from nltk.chunk import ne_chunk\n",
    "from nltk.util import ngrams\n",
    "from nltk.corpus import stopwords\n",
    "\n",
    "from textblob import TextBlob\n",
    "\n",
    "import string\n",
    "\n"
   ]
  },
  {
   "cell_type": "code",
   "execution_count": 176,
   "metadata": {},
   "outputs": [],
   "source": [
    "import pyLDAvis\n",
    "import pyLDAvis.sklearn\n",
    "pyLDAvis.enable_notebook()"
   ]
  },
  {
   "cell_type": "code",
   "execution_count": 3,
   "metadata": {},
   "outputs": [],
   "source": [
    "# Set pandas options\n",
    "pd.set_option('max_rows', 10)\n",
    "# pd.set_option('max_colwidth', -1)\n",
    "# pd.set_option('display.width', 150)\n",
    "# pd.set_option('display.max_rows', None)\n",
    "# pd.set_option('display.max_columns', None)"
   ]
  },
  {
   "cell_type": "code",
   "execution_count": 13,
   "metadata": {},
   "outputs": [],
   "source": [
    "df = pd.read_csv('data/listing_descriptions.csv', index_col=0)"
   ]
  },
  {
   "cell_type": "code",
   "execution_count": 103,
   "metadata": {},
   "outputs": [
    {
     "data": {
      "text/plain": [
       "\"Located on Williams bike corridor, some of Portland's best restaurants, bars and coffee shops are within a 5min drive and downtown is only 10min away.  Also features a wrap around patio with a covered awning to stay dry during the rainy season.\""
      ]
     },
     "execution_count": 103,
     "metadata": {},
     "output_type": "execute_result"
    }
   ],
   "source": [
    "summaries[0]"
   ]
  },
  {
   "cell_type": "code",
   "execution_count": 77,
   "metadata": {},
   "outputs": [
    {
     "data": {
      "text/html": [
       "<div>\n",
       "<style scoped>\n",
       "    .dataframe tbody tr th:only-of-type {\n",
       "        vertical-align: middle;\n",
       "    }\n",
       "\n",
       "    .dataframe tbody tr th {\n",
       "        vertical-align: top;\n",
       "    }\n",
       "\n",
       "    .dataframe thead th {\n",
       "        text-align: right;\n",
       "    }\n",
       "</style>\n",
       "<table border=\"1\" class=\"dataframe\">\n",
       "  <thead>\n",
       "    <tr style=\"text-align: right;\">\n",
       "      <th></th>\n",
       "      <th>id</th>\n",
       "      <th>host_id</th>\n",
       "      <th>summary</th>\n",
       "      <th>space</th>\n",
       "      <th>description</th>\n",
       "      <th>neighborhood_overview</th>\n",
       "      <th>notes</th>\n",
       "      <th>host_about</th>\n",
       "    </tr>\n",
       "  </thead>\n",
       "  <tbody>\n",
       "    <tr>\n",
       "      <th>0</th>\n",
       "      <td>7893</td>\n",
       "      <td>21489</td>\n",
       "      <td>Located on Williams bike corridor, some of Por...</td>\n",
       "      <td>This NE Portland 2 bedroom home is located jus...</td>\n",
       "      <td>Located on Williams bike corridor, some of Por...</td>\n",
       "      <td>NaN</td>\n",
       "      <td>NaN</td>\n",
       "      <td>I love to cook, sail and play the mandolin ver...</td>\n",
       "    </tr>\n",
       "    <tr>\n",
       "      <th>1</th>\n",
       "      <td>12899</td>\n",
       "      <td>49682</td>\n",
       "      <td>Settle in to a space of your own. You'll have ...</td>\n",
       "      <td>We live in a neighborhood of beautiful gardens...</td>\n",
       "      <td>Settle in to a space of your own. You'll have ...</td>\n",
       "      <td>We're within walking distance of a grocery and...</td>\n",
       "      <td>We welcome musicians and even have a guitar fo...</td>\n",
       "      <td>We enjoy cooking, singing, hiking, bicycles, t...</td>\n",
       "    </tr>\n",
       "  </tbody>\n",
       "</table>\n",
       "</div>"
      ],
      "text/plain": [
       "      id  host_id                                            summary  \\\n",
       "0   7893    21489  Located on Williams bike corridor, some of Por...   \n",
       "1  12899    49682  Settle in to a space of your own. You'll have ...   \n",
       "\n",
       "                                               space  \\\n",
       "0  This NE Portland 2 bedroom home is located jus...   \n",
       "1  We live in a neighborhood of beautiful gardens...   \n",
       "\n",
       "                                         description  \\\n",
       "0  Located on Williams bike corridor, some of Por...   \n",
       "1  Settle in to a space of your own. You'll have ...   \n",
       "\n",
       "                               neighborhood_overview  \\\n",
       "0                                                NaN   \n",
       "1  We're within walking distance of a grocery and...   \n",
       "\n",
       "                                               notes  \\\n",
       "0                                                NaN   \n",
       "1  We welcome musicians and even have a guitar fo...   \n",
       "\n",
       "                                          host_about  \n",
       "0  I love to cook, sail and play the mandolin ver...  \n",
       "1  We enjoy cooking, singing, hiking, bicycles, t...  "
      ]
     },
     "execution_count": 77,
     "metadata": {},
     "output_type": "execute_result"
    }
   ],
   "source": [
    "df.head(2)"
   ]
  },
  {
   "cell_type": "code",
   "execution_count": 81,
   "metadata": {},
   "outputs": [
    {
     "data": {
      "text/plain": [
       "Index(['id', 'host_id', 'summary', 'space', 'description',\n",
       "       'neighborhood_overview', 'notes', 'host_about'],\n",
       "      dtype='object')"
      ]
     },
     "execution_count": 81,
     "metadata": {},
     "output_type": "execute_result"
    }
   ],
   "source": [
    "df.columns"
   ]
  },
  {
   "cell_type": "code",
   "execution_count": 92,
   "metadata": {},
   "outputs": [
    {
     "data": {
      "text/html": [
       "<div>\n",
       "<style scoped>\n",
       "    .dataframe tbody tr th:only-of-type {\n",
       "        vertical-align: middle;\n",
       "    }\n",
       "\n",
       "    .dataframe tbody tr th {\n",
       "        vertical-align: top;\n",
       "    }\n",
       "\n",
       "    .dataframe thead th {\n",
       "        text-align: right;\n",
       "    }\n",
       "</style>\n",
       "<table border=\"1\" class=\"dataframe\">\n",
       "  <thead>\n",
       "    <tr style=\"text-align: right;\">\n",
       "      <th></th>\n",
       "      <th>id</th>\n",
       "      <th>host_id</th>\n",
       "      <th>summary</th>\n",
       "      <th>space</th>\n",
       "      <th>description</th>\n",
       "      <th>neighborhood_overview</th>\n",
       "      <th>notes</th>\n",
       "      <th>host_about</th>\n",
       "    </tr>\n",
       "  </thead>\n",
       "  <tbody>\n",
       "    <tr>\n",
       "      <th>0</th>\n",
       "      <td>7893</td>\n",
       "      <td>21489</td>\n",
       "      <td>Located on Williams bike corridor, some of Por...</td>\n",
       "      <td>This NE Portland 2 bedroom home is located jus...</td>\n",
       "      <td>Located on Williams bike corridor, some of Por...</td>\n",
       "      <td></td>\n",
       "      <td></td>\n",
       "      <td>I love to cook, sail and play the mandolin ver...</td>\n",
       "    </tr>\n",
       "    <tr>\n",
       "      <th>1</th>\n",
       "      <td>12899</td>\n",
       "      <td>49682</td>\n",
       "      <td>Settle in to a space of your own. You'll have ...</td>\n",
       "      <td>We live in a neighborhood of beautiful gardens...</td>\n",
       "      <td>Settle in to a space of your own. You'll have ...</td>\n",
       "      <td>We're within walking distance of a grocery and...</td>\n",
       "      <td>We welcome musicians and even have a guitar fo...</td>\n",
       "      <td>We enjoy cooking, singing, hiking, bicycles, t...</td>\n",
       "    </tr>\n",
       "  </tbody>\n",
       "</table>\n",
       "</div>"
      ],
      "text/plain": [
       "      id  host_id                                            summary  \\\n",
       "0   7893    21489  Located on Williams bike corridor, some of Por...   \n",
       "1  12899    49682  Settle in to a space of your own. You'll have ...   \n",
       "\n",
       "                                               space  \\\n",
       "0  This NE Portland 2 bedroom home is located jus...   \n",
       "1  We live in a neighborhood of beautiful gardens...   \n",
       "\n",
       "                                         description  \\\n",
       "0  Located on Williams bike corridor, some of Por...   \n",
       "1  Settle in to a space of your own. You'll have ...   \n",
       "\n",
       "                               neighborhood_overview  \\\n",
       "0                                                      \n",
       "1  We're within walking distance of a grocery and...   \n",
       "\n",
       "                                               notes  \\\n",
       "0                                                      \n",
       "1  We welcome musicians and even have a guitar fo...   \n",
       "\n",
       "                                          host_about  \n",
       "0  I love to cook, sail and play the mandolin ver...  \n",
       "1  We enjoy cooking, singing, hiking, bicycles, t...  "
      ]
     },
     "execution_count": 92,
     "metadata": {},
     "output_type": "execute_result"
    }
   ],
   "source": [
    "# Fill NaNs with empty strings\n",
    "for col in ['summary', 'space', 'description', 'neighborhood_overview', 'notes', 'host_about']:\n",
    "    df[col].fillna('', inplace=True)\n",
    "\n",
    "\n",
    "# Make sure there are not any null values remaining\n",
    "df.head(2)"
   ]
  },
  {
   "cell_type": "code",
   "execution_count": null,
   "metadata": {},
   "outputs": [],
   "source": []
  },
  {
   "cell_type": "code",
   "execution_count": 244,
   "metadata": {},
   "outputs": [
    {
     "data": {
      "text/plain": [
       "pandas.core.series.Series"
      ]
     },
     "execution_count": 244,
     "metadata": {},
     "output_type": "execute_result"
    }
   ],
   "source": [
    "descriptions = df['description']\n",
    "about_host_text = df['host_about']\n",
    "summaries = df['summary']\n",
    "type(summaries)"
   ]
  },
  {
   "cell_type": "markdown",
   "metadata": {},
   "source": [
    "#### Remove punctuation, make lowercase, etc."
   ]
  },
  {
   "cell_type": "code",
   "execution_count": 163,
   "metadata": {},
   "outputs": [],
   "source": [
    "# Make lower case\n",
    "summaries = summaries.apply(lambda x: x.lower())\n",
    "\n"
   ]
  },
  {
   "cell_type": "code",
   "execution_count": null,
   "metadata": {},
   "outputs": [],
   "source": [
    "# for text in texts:\n",
    "#     sentences = nltk.sent_tokenize(text)\n",
    "#     for sentence in sentences:\n",
    "#         words = nltk.word_tokenize(sentence)\n",
    "#         tagged_words = nltk.pos_tag(words)\n",
    "#         ne_tagged_words = nltk.ne_chunk(tagged_words)\n",
    "#         print ne_tagged_words"
   ]
  },
  {
   "cell_type": "code",
   "execution_count": 164,
   "metadata": {},
   "outputs": [],
   "source": [
    "summaries = pd.DataFrame(summaries)"
   ]
  },
  {
   "cell_type": "code",
   "execution_count": 165,
   "metadata": {},
   "outputs": [],
   "source": [
    "# Remove punctuation\n",
    "summaries['nopunc'] = summaries['summary'].str.replace('[^\\w\\s]','')"
   ]
  },
  {
   "cell_type": "code",
   "execution_count": 166,
   "metadata": {},
   "outputs": [
    {
     "data": {
      "text/html": [
       "<div>\n",
       "<style scoped>\n",
       "    .dataframe tbody tr th:only-of-type {\n",
       "        vertical-align: middle;\n",
       "    }\n",
       "\n",
       "    .dataframe tbody tr th {\n",
       "        vertical-align: top;\n",
       "    }\n",
       "\n",
       "    .dataframe thead th {\n",
       "        text-align: right;\n",
       "    }\n",
       "</style>\n",
       "<table border=\"1\" class=\"dataframe\">\n",
       "  <thead>\n",
       "    <tr style=\"text-align: right;\">\n",
       "      <th></th>\n",
       "      <th>summary</th>\n",
       "      <th>nopunc</th>\n",
       "    </tr>\n",
       "  </thead>\n",
       "  <tbody>\n",
       "    <tr>\n",
       "      <th>0</th>\n",
       "      <td>located on williams bike corridor, some of por...</td>\n",
       "      <td>located on williams bike corridor some of port...</td>\n",
       "    </tr>\n",
       "    <tr>\n",
       "      <th>1</th>\n",
       "      <td>settle in to a space of your own. you'll have ...</td>\n",
       "      <td>settle in to a space of your own youll have 2 ...</td>\n",
       "    </tr>\n",
       "    <tr>\n",
       "      <th>2</th>\n",
       "      <td>newly remodeled 2 bedroom (3 queen beds), 2 fu...</td>\n",
       "      <td>newly remodeled 2 bedroom 3 queen beds 2 full ...</td>\n",
       "    </tr>\n",
       "    <tr>\n",
       "      <th>3</th>\n",
       "      <td>if you are an urban farming pioneer, enthusias...</td>\n",
       "      <td>if you are an urban farming pioneer enthusiast...</td>\n",
       "    </tr>\n",
       "    <tr>\n",
       "      <th>4</th>\n",
       "      <td>if you are an urban farming pioneer, enthusias...</td>\n",
       "      <td>if you are an urban farming pioneer enthusiast...</td>\n",
       "    </tr>\n",
       "    <tr>\n",
       "      <th>...</th>\n",
       "      <td>...</td>\n",
       "      <td>...</td>\n",
       "    </tr>\n",
       "    <tr>\n",
       "      <th>5400</th>\n",
       "      <td>moderate sized room with north garden and east...</td>\n",
       "      <td>moderate sized room with north garden and east...</td>\n",
       "    </tr>\n",
       "    <tr>\n",
       "      <th>5401</th>\n",
       "      <td>modern portland home with mid-century charm! t...</td>\n",
       "      <td>modern portland home with midcentury charm thi...</td>\n",
       "    </tr>\n",
       "    <tr>\n",
       "      <th>5402</th>\n",
       "      <td>1 bed 1 bath apartment living in ultra posh do...</td>\n",
       "      <td>1 bed 1 bath apartment living in ultra posh do...</td>\n",
       "    </tr>\n",
       "    <tr>\n",
       "      <th>5403</th>\n",
       "      <td>this is a cozy basement studio nestled on the ...</td>\n",
       "      <td>this is a cozy basement studio nestled on the ...</td>\n",
       "    </tr>\n",
       "    <tr>\n",
       "      <th>5404</th>\n",
       "      <td>cozy camper space with access to a hip house a...</td>\n",
       "      <td>cozy camper space with access to a hip house a...</td>\n",
       "    </tr>\n",
       "  </tbody>\n",
       "</table>\n",
       "<p>5405 rows × 2 columns</p>\n",
       "</div>"
      ],
      "text/plain": [
       "                                                summary  \\\n",
       "0     located on williams bike corridor, some of por...   \n",
       "1     settle in to a space of your own. you'll have ...   \n",
       "2     newly remodeled 2 bedroom (3 queen beds), 2 fu...   \n",
       "3     if you are an urban farming pioneer, enthusias...   \n",
       "4     if you are an urban farming pioneer, enthusias...   \n",
       "...                                                 ...   \n",
       "5400  moderate sized room with north garden and east...   \n",
       "5401  modern portland home with mid-century charm! t...   \n",
       "5402  1 bed 1 bath apartment living in ultra posh do...   \n",
       "5403  this is a cozy basement studio nestled on the ...   \n",
       "5404  cozy camper space with access to a hip house a...   \n",
       "\n",
       "                                                 nopunc  \n",
       "0     located on williams bike corridor some of port...  \n",
       "1     settle in to a space of your own youll have 2 ...  \n",
       "2     newly remodeled 2 bedroom 3 queen beds 2 full ...  \n",
       "3     if you are an urban farming pioneer enthusiast...  \n",
       "4     if you are an urban farming pioneer enthusiast...  \n",
       "...                                                 ...  \n",
       "5400  moderate sized room with north garden and east...  \n",
       "5401  modern portland home with midcentury charm thi...  \n",
       "5402  1 bed 1 bath apartment living in ultra posh do...  \n",
       "5403  this is a cozy basement studio nestled on the ...  \n",
       "5404  cozy camper space with access to a hip house a...  \n",
       "\n",
       "[5405 rows x 2 columns]"
      ]
     },
     "execution_count": 166,
     "metadata": {},
     "output_type": "execute_result"
    }
   ],
   "source": [
    "summaries"
   ]
  },
  {
   "cell_type": "code",
   "execution_count": 167,
   "metadata": {},
   "outputs": [],
   "source": [
    "# Tokenize by sentence\n",
    "summaries['sent_tokenize'] = summaries['nopunc'].apply(lambda x: sent_tokenize(x))"
   ]
  },
  {
   "cell_type": "code",
   "execution_count": 153,
   "metadata": {},
   "outputs": [],
   "source": [
    "# Tokenize by word\n",
    "tokenizer = TreebankWordTokenizer()\n",
    "summaries['word_tok'] = summaries['sent_tok'].apply(lambda x: [tokenizer.tokenize(y) for y in x])"
   ]
  },
  {
   "cell_type": "code",
   "execution_count": 155,
   "metadata": {},
   "outputs": [
    {
     "data": {
      "text/html": [
       "<div>\n",
       "<style scoped>\n",
       "    .dataframe tbody tr th:only-of-type {\n",
       "        vertical-align: middle;\n",
       "    }\n",
       "\n",
       "    .dataframe tbody tr th {\n",
       "        vertical-align: top;\n",
       "    }\n",
       "\n",
       "    .dataframe thead th {\n",
       "        text-align: right;\n",
       "    }\n",
       "</style>\n",
       "<table border=\"1\" class=\"dataframe\">\n",
       "  <thead>\n",
       "    <tr style=\"text-align: right;\">\n",
       "      <th></th>\n",
       "      <th>summary</th>\n",
       "      <th>nopunc</th>\n",
       "      <th>no_punc</th>\n",
       "      <th>word_tok</th>\n",
       "    </tr>\n",
       "  </thead>\n",
       "  <tbody>\n",
       "    <tr>\n",
       "      <th>0</th>\n",
       "      <td>located on williams bike corridor, some of por...</td>\n",
       "      <td>located on williams bike corridor some of port...</td>\n",
       "      <td>[located on williams bike corridor some of por...</td>\n",
       "      <td>[[located, on, williams, bike, corridor, some,...</td>\n",
       "    </tr>\n",
       "    <tr>\n",
       "      <th>1</th>\n",
       "      <td>settle in to a space of your own. you'll have ...</td>\n",
       "      <td>settle in to a space of your own youll have 2 ...</td>\n",
       "      <td>[settle in to a space of your own youll have 2...</td>\n",
       "      <td>[[settle, in, to, a, space, of, your, own, you...</td>\n",
       "    </tr>\n",
       "    <tr>\n",
       "      <th>2</th>\n",
       "      <td>newly remodeled 2 bedroom (3 queen beds), 2 fu...</td>\n",
       "      <td>newly remodeled 2 bedroom 3 queen beds 2 full ...</td>\n",
       "      <td>[newly remodeled 2 bedroom 3 queen beds 2 full...</td>\n",
       "      <td>[[newly, remodeled, 2, bedroom, 3, queen, beds...</td>\n",
       "    </tr>\n",
       "    <tr>\n",
       "      <th>3</th>\n",
       "      <td>if you are an urban farming pioneer, enthusias...</td>\n",
       "      <td>if you are an urban farming pioneer enthusiast...</td>\n",
       "      <td>[if you are an urban farming pioneer enthusias...</td>\n",
       "      <td>[[if, you, are, an, urban, farming, pioneer, e...</td>\n",
       "    </tr>\n",
       "    <tr>\n",
       "      <th>4</th>\n",
       "      <td>if you are an urban farming pioneer, enthusias...</td>\n",
       "      <td>if you are an urban farming pioneer enthusiast...</td>\n",
       "      <td>[if you are an urban farming pioneer enthusias...</td>\n",
       "      <td>[[if, you, are, an, urban, farming, pioneer, e...</td>\n",
       "    </tr>\n",
       "    <tr>\n",
       "      <th>...</th>\n",
       "      <td>...</td>\n",
       "      <td>...</td>\n",
       "      <td>...</td>\n",
       "      <td>...</td>\n",
       "    </tr>\n",
       "    <tr>\n",
       "      <th>5400</th>\n",
       "      <td>moderate sized room with north garden and east...</td>\n",
       "      <td>moderate sized room with north garden and east...</td>\n",
       "      <td>[moderate sized room with north garden and eas...</td>\n",
       "      <td>[[moderate, sized, room, with, north, garden, ...</td>\n",
       "    </tr>\n",
       "    <tr>\n",
       "      <th>5401</th>\n",
       "      <td>modern portland home with mid-century charm! t...</td>\n",
       "      <td>modern portland home with midcentury charm thi...</td>\n",
       "      <td>[modern portland home with midcentury charm th...</td>\n",
       "      <td>[[modern, portland, home, with, midcentury, ch...</td>\n",
       "    </tr>\n",
       "    <tr>\n",
       "      <th>5402</th>\n",
       "      <td>1 bed 1 bath apartment living in ultra posh do...</td>\n",
       "      <td>1 bed 1 bath apartment living in ultra posh do...</td>\n",
       "      <td>[1 bed 1 bath apartment living in ultra posh d...</td>\n",
       "      <td>[[1, bed, 1, bath, apartment, living, in, ultr...</td>\n",
       "    </tr>\n",
       "    <tr>\n",
       "      <th>5403</th>\n",
       "      <td>this is a cozy basement studio nestled on the ...</td>\n",
       "      <td>this is a cozy basement studio nestled on the ...</td>\n",
       "      <td>[this is a cozy basement studio nestled on the...</td>\n",
       "      <td>[[this, is, a, cozy, basement, studio, nestled...</td>\n",
       "    </tr>\n",
       "    <tr>\n",
       "      <th>5404</th>\n",
       "      <td>cozy camper space with access to a hip house a...</td>\n",
       "      <td>cozy camper space with access to a hip house a...</td>\n",
       "      <td>[cozy camper space with access to a hip house ...</td>\n",
       "      <td>[[cozy, camper, space, with, access, to, a, hi...</td>\n",
       "    </tr>\n",
       "  </tbody>\n",
       "</table>\n",
       "<p>5405 rows × 4 columns</p>\n",
       "</div>"
      ],
      "text/plain": [
       "                                                summary  \\\n",
       "0     located on williams bike corridor, some of por...   \n",
       "1     settle in to a space of your own. you'll have ...   \n",
       "2     newly remodeled 2 bedroom (3 queen beds), 2 fu...   \n",
       "3     if you are an urban farming pioneer, enthusias...   \n",
       "4     if you are an urban farming pioneer, enthusias...   \n",
       "...                                                 ...   \n",
       "5400  moderate sized room with north garden and east...   \n",
       "5401  modern portland home with mid-century charm! t...   \n",
       "5402  1 bed 1 bath apartment living in ultra posh do...   \n",
       "5403  this is a cozy basement studio nestled on the ...   \n",
       "5404  cozy camper space with access to a hip house a...   \n",
       "\n",
       "                                                 nopunc  \\\n",
       "0     located on williams bike corridor some of port...   \n",
       "1     settle in to a space of your own youll have 2 ...   \n",
       "2     newly remodeled 2 bedroom 3 queen beds 2 full ...   \n",
       "3     if you are an urban farming pioneer enthusiast...   \n",
       "4     if you are an urban farming pioneer enthusiast...   \n",
       "...                                                 ...   \n",
       "5400  moderate sized room with north garden and east...   \n",
       "5401  modern portland home with midcentury charm thi...   \n",
       "5402  1 bed 1 bath apartment living in ultra posh do...   \n",
       "5403  this is a cozy basement studio nestled on the ...   \n",
       "5404  cozy camper space with access to a hip house a...   \n",
       "\n",
       "                                                no_punc  \\\n",
       "0     [located on williams bike corridor some of por...   \n",
       "1     [settle in to a space of your own youll have 2...   \n",
       "2     [newly remodeled 2 bedroom 3 queen beds 2 full...   \n",
       "3     [if you are an urban farming pioneer enthusias...   \n",
       "4     [if you are an urban farming pioneer enthusias...   \n",
       "...                                                 ...   \n",
       "5400  [moderate sized room with north garden and eas...   \n",
       "5401  [modern portland home with midcentury charm th...   \n",
       "5402  [1 bed 1 bath apartment living in ultra posh d...   \n",
       "5403  [this is a cozy basement studio nestled on the...   \n",
       "5404  [cozy camper space with access to a hip house ...   \n",
       "\n",
       "                                               word_tok  \n",
       "0     [[located, on, williams, bike, corridor, some,...  \n",
       "1     [[settle, in, to, a, space, of, your, own, you...  \n",
       "2     [[newly, remodeled, 2, bedroom, 3, queen, beds...  \n",
       "3     [[if, you, are, an, urban, farming, pioneer, e...  \n",
       "4     [[if, you, are, an, urban, farming, pioneer, e...  \n",
       "...                                                 ...  \n",
       "5400  [[moderate, sized, room, with, north, garden, ...  \n",
       "5401  [[modern, portland, home, with, midcentury, ch...  \n",
       "5402  [[1, bed, 1, bath, apartment, living, in, ultr...  \n",
       "5403  [[this, is, a, cozy, basement, studio, nestled...  \n",
       "5404  [[cozy, camper, space, with, access, to, a, hi...  \n",
       "\n",
       "[5405 rows x 4 columns]"
      ]
     },
     "execution_count": 155,
     "metadata": {},
     "output_type": "execute_result"
    }
   ],
   "source": [
    "summaries['no"
   ]
  },
  {
   "cell_type": "code",
   "execution_count": 221,
   "metadata": {},
   "outputs": [],
   "source": [
    "tf_vectorizer = CountVectorizer(max_df=0.5,\n",
    "                                min_df=2,\n",
    "                                lowercase=True,\n",
    "                                strip_accents='unicode',\n",
    "                                token_pattern = r'\\b[a-zA-Z]{3,}\\b',\n",
    "                                stop_words='english', ngram_range=(1,2)\n",
    "                               )\n",
    "dtm_tf = tf_vectorizer.fit_transform(summaries)"
   ]
  },
  {
   "cell_type": "code",
   "execution_count": 207,
   "metadata": {},
   "outputs": [
    {
     "data": {
      "text/plain": [
       "(5405, 4706)"
      ]
     },
     "execution_count": 207,
     "metadata": {},
     "output_type": "execute_result"
    }
   ],
   "source": [
    "dtm_tf.shape"
   ]
  },
  {
   "cell_type": "code",
   "execution_count": 208,
   "metadata": {},
   "outputs": [
    {
     "name": "stderr",
     "output_type": "stream",
     "text": [
      "/Users/brenner/anaconda3/lib/python3.6/site-packages/sklearn/decomposition/online_lda.py:314: DeprecationWarning: n_topics has been renamed to n_components in version 0.19 and will be removed in 0.21\n",
      "  DeprecationWarning)\n"
     ]
    },
    {
     "data": {
      "text/plain": [
       "LatentDirichletAllocation(batch_size=128, doc_topic_prior=None,\n",
       "             evaluate_every=-1, learning_decay=0.7,\n",
       "             learning_method='batch', learning_offset=10.0,\n",
       "             max_doc_update_iter=100, max_iter=10, mean_change_tol=0.001,\n",
       "             n_components=10, n_jobs=None, n_topics=10, perp_tol=0.1,\n",
       "             random_state=0, topic_word_prior=None,\n",
       "             total_samples=1000000.0, verbose=0)"
      ]
     },
     "execution_count": 208,
     "metadata": {},
     "output_type": "execute_result"
    }
   ],
   "source": [
    "# for TF DTM\n",
    "lda_tf = LatentDirichletAllocation(n_topics=10, random_state=0)\n",
    "lda_tf.fit(dtm_tf)\n",
    "\n",
    "# # for TFIDF DTM\n",
    "# lda_tfidf = LatentDirichletAllocation(n_topics=20, random_state=0)\n",
    "# lda_tfidf.fit(dtm_tfidf)"
   ]
  },
  {
   "cell_type": "code",
   "execution_count": 209,
   "metadata": {},
   "outputs": [
    {
     "ename": "AssertionError",
     "evalue": "Topic-term distributions and document-term matrix have different number of columns, 1741 != 4706.",
     "output_type": "error",
     "traceback": [
      "\u001b[0;31m---------------------------------------------------------------------------\u001b[0m",
      "\u001b[0;31mAssertionError\u001b[0m                            Traceback (most recent call last)",
      "\u001b[0;32m<ipython-input-209-be94ab77f248>\u001b[0m in \u001b[0;36m<module>\u001b[0;34m()\u001b[0m\n\u001b[0;32m----> 1\u001b[0;31m \u001b[0mpyLDAvis\u001b[0m\u001b[0;34m.\u001b[0m\u001b[0msklearn\u001b[0m\u001b[0;34m.\u001b[0m\u001b[0mprepare\u001b[0m\u001b[0;34m(\u001b[0m\u001b[0mlda\u001b[0m\u001b[0;34m,\u001b[0m \u001b[0mdtm_tf\u001b[0m\u001b[0;34m,\u001b[0m \u001b[0mtf_vectorizer\u001b[0m\u001b[0;34m)\u001b[0m\u001b[0;34m\u001b[0m\u001b[0m\n\u001b[0m",
      "\u001b[0;32m~/anaconda3/lib/python3.6/site-packages/pyLDAvis/sklearn.py\u001b[0m in \u001b[0;36mprepare\u001b[0;34m(lda_model, dtm, vectorizer, **kwargs)\u001b[0m\n\u001b[1;32m     92\u001b[0m     \u001b[0mSee\u001b[0m\u001b[0;31m \u001b[0m\u001b[0;31m`\u001b[0m\u001b[0mpyLDAvis\u001b[0m\u001b[0;34m.\u001b[0m\u001b[0mprepare\u001b[0m\u001b[0;31m`\u001b[0m \u001b[0;32mfor\u001b[0m \u001b[0;34m**\u001b[0m\u001b[0mkwargs\u001b[0m\u001b[0;34m.\u001b[0m\u001b[0;34m\u001b[0m\u001b[0m\n\u001b[1;32m     93\u001b[0m     \"\"\"\n\u001b[0;32m---> 94\u001b[0;31m     \u001b[0mopts\u001b[0m \u001b[0;34m=\u001b[0m \u001b[0mfp\u001b[0m\u001b[0;34m.\u001b[0m\u001b[0mmerge\u001b[0m\u001b[0;34m(\u001b[0m\u001b[0m_extract_data\u001b[0m\u001b[0;34m(\u001b[0m\u001b[0mlda_model\u001b[0m\u001b[0;34m,\u001b[0m \u001b[0mdtm\u001b[0m\u001b[0;34m,\u001b[0m \u001b[0mvectorizer\u001b[0m\u001b[0;34m)\u001b[0m\u001b[0;34m,\u001b[0m \u001b[0mkwargs\u001b[0m\u001b[0;34m)\u001b[0m\u001b[0;34m\u001b[0m\u001b[0m\n\u001b[0m\u001b[1;32m     95\u001b[0m     \u001b[0;32mreturn\u001b[0m \u001b[0mpyLDAvis\u001b[0m\u001b[0;34m.\u001b[0m\u001b[0mprepare\u001b[0m\u001b[0;34m(\u001b[0m\u001b[0;34m**\u001b[0m\u001b[0mopts\u001b[0m\u001b[0;34m)\u001b[0m\u001b[0;34m\u001b[0m\u001b[0m\n",
      "\u001b[0;32m~/anaconda3/lib/python3.6/site-packages/pyLDAvis/sklearn.py\u001b[0m in \u001b[0;36m_extract_data\u001b[0;34m(lda_model, dtm, vectorizer)\u001b[0m\n\u001b[1;32m     47\u001b[0m     \u001b[0;32massert\u001b[0m \u001b[0mtopic_term_dists\u001b[0m\u001b[0;34m.\u001b[0m\u001b[0mshape\u001b[0m\u001b[0;34m[\u001b[0m\u001b[0;36m1\u001b[0m\u001b[0;34m]\u001b[0m \u001b[0;34m==\u001b[0m \u001b[0mdtm\u001b[0m\u001b[0;34m.\u001b[0m\u001b[0mshape\u001b[0m\u001b[0;34m[\u001b[0m\u001b[0;36m1\u001b[0m\u001b[0;34m]\u001b[0m\u001b[0;34m,\u001b[0m\u001b[0;31m \u001b[0m\u001b[0;31m\\\u001b[0m\u001b[0;34m\u001b[0m\u001b[0m\n\u001b[1;32m     48\u001b[0m         ('Topic-term distributions and document-term matrix have different number of columns, {} != {}.'\n\u001b[0;32m---> 49\u001b[0;31m          .format(topic_term_dists.shape[1], len(vocab)))\n\u001b[0m\u001b[1;32m     50\u001b[0m \u001b[0;34m\u001b[0m\u001b[0m\n\u001b[1;32m     51\u001b[0m     \u001b[0;31m# column dimensions of document-term matrix and topic-term distributions\u001b[0m\u001b[0;34m\u001b[0m\u001b[0;34m\u001b[0m\u001b[0m\n",
      "\u001b[0;31mAssertionError\u001b[0m: Topic-term distributions and document-term matrix have different number of columns, 1741 != 4706."
     ]
    }
   ],
   "source": [
    "pyLDAvis.sklearn.prepare(lda, dtm_tf, tf_vectorizer)"
   ]
  },
  {
   "cell_type": "code",
   "execution_count": 62,
   "metadata": {},
   "outputs": [
    {
     "data": {
      "text/plain": [
       "(5405, 5058)"
      ]
     },
     "execution_count": 62,
     "metadata": {},
     "output_type": "execute_result"
    }
   ],
   "source": [
    "tf.shape"
   ]
  },
  {
   "cell_type": "code",
   "execution_count": 66,
   "metadata": {},
   "outputs": [],
   "source": [
    "vectorizer = TfidfVectorizer(stop_words=\"english\", ngram_range=(1,2))\n",
    "doc_vectors = vectorizer.fit_transform(summaries)"
   ]
  },
  {
   "cell_type": "code",
   "execution_count": 70,
   "metadata": {},
   "outputs": [
    {
     "data": {
      "text/plain": [
       "<5405x89207 sparse matrix of type '<class 'numpy.float64'>'\n",
       "\twith 359635 stored elements in Compressed Sparse Row format>"
      ]
     },
     "execution_count": 70,
     "metadata": {},
     "output_type": "execute_result"
    }
   ],
   "source": [
    "doc_vectors"
   ]
  },
  {
   "cell_type": "code",
   "execution_count": null,
   "metadata": {},
   "outputs": [],
   "source": []
  },
  {
   "cell_type": "code",
   "execution_count": 201,
   "metadata": {},
   "outputs": [],
   "source": [
    "lda_tf = LatentDirichletAllocation(n_components=10, max_iter=5,\n",
    "                                learning_method='online',\n",
    "                                learning_offset=10.0, batch_size=128,\n",
    "                                random_state=49, evaluate_every=-1)\n",
    "lda_tf.fit(tf)"
   ]
  },
  {
   "cell_type": "code",
   "execution_count": 220,
   "metadata": {},
   "outputs": [
    {
     "name": "stdout",
     "output_type": "stream",
     "text": [
      "TOPIC 0\n",
      "place\n",
      "great\n",
      "business\n",
      "travelers\n",
      "close\n",
      "couples\n",
      "good\n",
      "solo\n",
      "adventurers\n",
      "neighborhood\n",
      "\n",
      "TOPIC 1\n",
      "tabor\n",
      "fun\n",
      "outdoor\n",
      "covered\n",
      "backyard\n",
      "scene\n",
      "patio\n",
      "fred\n",
      "providence\n",
      "serene\n",
      "\n",
      "TOPIC 2\n",
      "district\n",
      "pearl\n",
      "score\n",
      "ceilings\n",
      "loft\n",
      "high\n",
      "heart\n",
      "steps\n",
      "stay\n",
      "bar\n",
      "\n",
      "TOPIC 3\n",
      "new\n",
      "brand\n",
      "experience\n",
      "seasons\n",
      "home\n",
      "modern\n",
      "designed\n",
      "visit\n",
      "school\n",
      "guesthouse\n",
      "\n",
      "TOPIC 4\n",
      "north\n",
      "friendly\n",
      "people\n",
      "welcome\n",
      "live\n",
      "kenton\n",
      "light\n",
      "friends\n",
      "avenue\n",
      "pets\n",
      "\n",
      "TOPIC 5\n",
      "room\n",
      "private\n",
      "bed\n",
      "bedroom\n",
      "queen\n",
      "bathroom\n",
      "kitchen\n",
      "living\n",
      "bath\n",
      "space\n",
      "\n",
      "TOPIC 6\n",
      "coffee\n",
      "fridge\n",
      "tea\n",
      "microwave\n",
      "breakfast\n",
      "mini\n",
      "available\n",
      "access\n",
      "maker\n",
      "use\n",
      "\n",
      "TOPIC 7\n",
      "alberta\n",
      "apartment\n",
      "arts\n",
      "district\n",
      "basement\n",
      "located\n",
      "house\n",
      "home\n",
      "blocks\n",
      "studio\n",
      "\n",
      "TOPIC 8\n",
      "dryer\n",
      "washer\n",
      "house\n",
      "tub\n",
      "kitchen\n",
      "unit\n",
      "hot\n",
      "enjoy\n",
      "space\n",
      "cozy\n",
      "\n",
      "TOPIC 9\n",
      "cute\n",
      "square\n",
      "sleeping\n",
      "feet\n",
      "nook\n",
      "smoking\n",
      "transport\n",
      "backyard\n",
      "cottage\n",
      "inside\n",
      "\n"
     ]
    }
   ],
   "source": [
    "vocab = tf_vectorizer.get_feature_names()\n",
    "\n",
    "for topic in range(10):\n",
    "    print(f\"TOPIC {topic}\")\n",
    "    for j in np.argsort(-lda.components_,1)[topic,:10]:\n",
    "        print(vocab[j])\n",
    "    print()"
   ]
  },
  {
   "cell_type": "code",
   "execution_count": 258,
   "metadata": {},
   "outputs": [],
   "source": [
    "def run_lda_with_defaults(corpus, num_topics):\n",
    "    tf_vectorizer = CountVectorizer(lowercase=True,\n",
    "                                    strip_accents='unicode',\n",
    "                                    token_pattern = r'\\b[a-zA-Z]{3,}\\b',\n",
    "                                    stop_words='english')\n",
    "    \n",
    "    dtm_tf = tf_vectorizer.fit_transform(corpus)\n",
    "    \n",
    "    lda_tf = LatentDirichletAllocation(n_components=num_topics, random_state=0, n_jobs=-1)\n",
    "    lda_tf.fit(dtm_tf)\n",
    "    \n",
    "    return pyLDAvis.sklearn.prepare(lda_tf, dtm_tf, tf_vectorizer)"
   ]
  },
  {
   "cell_type": "code",
   "execution_count": 256,
   "metadata": {},
   "outputs": [],
   "source": [
    "def run_lda(corpus, num_topics):\n",
    "    tf_vectorizer = CountVectorizer(max_df=0.5,\n",
    "                                    min_df=2,\n",
    "                                    lowercase=True,\n",
    "                                    strip_accents='unicode',\n",
    "                                    token_pattern = r'\\b[a-zA-Z]{3,}\\b',\n",
    "                                    stop_words='english',\n",
    "                                    ngram_range=(1,3))\n",
    "    \n",
    "    dtm_tf = tf_vectorizer.fit_transform(corpus)\n",
    "    \n",
    "    lda_tf = LatentDirichletAllocation(n_components=num_topics, random_state=0, learning_method='online', n_jobs=-1)\n",
    "    lda_tf.fit(dtm_tf)\n",
    "    \n",
    "    return pyLDAvis.sklearn.prepare(lda_tf, dtm_tf, tf_vectorizer)"
   ]
  },
  {
   "cell_type": "code",
   "execution_count": 255,
   "metadata": {},
   "outputs": [],
   "source": [
    "def run_tfidf_lda(corpus, num_topics):\n",
    "    tfidf_vectorizer = TfidfVectorizer(max_df=0.5,\n",
    "                                    min_df=2,\n",
    "                                    lowercase=True,\n",
    "                                    strip_accents='unicode',\n",
    "                                    token_pattern = r'\\b[a-zA-Z]{3,}\\b',\n",
    "                                    stop_words='english')\n",
    "    \n",
    "    dtm_tfidf = tfidf_vectorizer.fit_transform(corpus)\n",
    "    \n",
    "    lda_tfidf = LatentDirichletAllocation(n_components=num_topics, random_state=0, learning_method='online', n_jobs=-1)\n",
    "    lda_tfidf.fit(dtm_tfidf)\n",
    "    \n",
    "    return pyLDAvis.sklearn.prepare(lda_tfidf, dtm_tfidf, tfidf_vectorizer)"
   ]
  },
  {
   "cell_type": "code",
   "execution_count": 222,
   "metadata": {},
   "outputs": [
    {
     "name": "stdout",
     "output_type": "stream",
     "text": [
      "(5405, 3766)\n"
     ]
    }
   ],
   "source": [
    "tf_vectorizer = CountVectorizer(strip_accents = 'unicode',\n",
    "                                stop_words = 'english',\n",
    "                                lowercase = True,\n",
    "                                token_pattern = r'\\b[a-zA-Z]{3,}\\b',\n",
    "                                max_df = 0.5, \n",
    "                                min_df = 10, ngram_range=(1,2))\n",
    "dtm_tf = tf_vectorizer.fit_transform(summaries)\n",
    "print(dtm_tf.shape)"
   ]
  },
  {
   "cell_type": "code",
   "execution_count": 223,
   "metadata": {},
   "outputs": [
    {
     "name": "stderr",
     "output_type": "stream",
     "text": [
      "/Users/brenner/anaconda3/lib/python3.6/site-packages/sklearn/decomposition/online_lda.py:314: DeprecationWarning: n_topics has been renamed to n_components in version 0.19 and will be removed in 0.21\n",
      "  DeprecationWarning)\n"
     ]
    },
    {
     "data": {
      "text/plain": [
       "LatentDirichletAllocation(batch_size=1028, doc_topic_prior=None,\n",
       "             evaluate_every=-1, learning_decay=0.7,\n",
       "             learning_method='online', learning_offset=10.0,\n",
       "             max_doc_update_iter=100, max_iter=10, mean_change_tol=0.001,\n",
       "             n_components=10, n_jobs=None, n_topics=10, perp_tol=0.1,\n",
       "             random_state=0, topic_word_prior=None,\n",
       "             total_samples=1000000.0, verbose=0)"
      ]
     },
     "execution_count": 223,
     "metadata": {},
     "output_type": "execute_result"
    }
   ],
   "source": [
    "lda_tf = LatentDirichletAllocation(n_topics=10, random_state=0, learning_method='online', batch_size=1028)\n",
    "lda_tf.fit(dtm_tf)"
   ]
  },
  {
   "cell_type": "code",
   "execution_count": null,
   "metadata": {},
   "outputs": [],
   "source": [
    "pyLDAvis.sklearn.prepare(lda_tf, dtm_tf, tf_vectorizer)"
   ]
  },
  {
   "cell_type": "code",
   "execution_count": 259,
   "metadata": {},
   "outputs": [
    {
     "name": "stderr",
     "output_type": "stream",
     "text": [
      "/Users/brenner/anaconda3/lib/python3.6/site-packages/pyLDAvis/_prepare.py:257: FutureWarning: Sorting because non-concatenation axis is not aligned. A future version\n",
      "of pandas will change to not sort by default.\n",
      "\n",
      "To accept the future behavior, pass 'sort=False'.\n",
      "\n",
      "To retain the current behavior and silence the warning, pass 'sort=True'.\n",
      "\n",
      "  return pd.concat([default_term_info] + list(topic_dfs))\n"
     ]
    },
    {
     "data": {
      "text/html": [
       "\n",
       "<link rel=\"stylesheet\" type=\"text/css\" href=\"https://cdn.rawgit.com/bmabey/pyLDAvis/files/ldavis.v1.0.0.css\">\n",
       "\n",
       "\n",
       "<div id=\"ldavis_el49841122573209043636537468\"></div>\n",
       "<script type=\"text/javascript\">\n",
       "\n",
       "var ldavis_el49841122573209043636537468_data = {\"mdsDat\": {\"x\": [0.06993530299463074, 0.03943383897646247, -0.08418450700350191, -0.0678255262742683, 0.036567031382709836, 0.06062573186308514, 0.09345807201528972, -0.000709895969652056, -0.2525965035301611, 0.10529645554540548], \"y\": [0.017551847384185124, 0.06930950551102573, 0.15430782644414406, 0.07017928046861747, 0.04723956402232723, -0.06359767426367, -0.0414668649568541, 0.001389501063147664, -0.13030633473859857, -0.12460665093432448], \"topics\": [1, 2, 3, 4, 5, 6, 7, 8, 9, 10], \"cluster\": [1, 1, 1, 1, 1, 1, 1, 1, 1, 1], \"Freq\": [24.35630872206655, 17.605827133594133, 17.480405248393645, 11.803181343990154, 9.663326815489768, 6.518399652896743, 4.518140945948315, 3.071818179624955, 2.701772987018099, 2.2808189709776285]}, \"tinfo\": {\"Category\": [\"Default\", \"Default\", \"Default\", \"Default\", \"Default\", \"Default\", \"Default\", \"Default\", \"Default\", \"Default\", \"Default\", \"Default\", \"Default\", \"Default\", \"Default\", \"Default\", \"Default\", \"Default\", \"Default\", \"Default\", \"Default\", \"Default\", \"Default\", \"Default\", \"Default\", \"Default\", \"Default\", \"Default\", \"Default\", \"Default\", \"Topic1\", \"Topic1\", \"Topic1\", \"Topic1\", \"Topic1\", \"Topic1\", \"Topic1\", \"Topic1\", \"Topic1\", \"Topic1\", \"Topic1\", \"Topic1\", \"Topic1\", \"Topic1\", \"Topic1\", \"Topic1\", \"Topic1\", \"Topic1\", \"Topic1\", \"Topic1\", \"Topic1\", \"Topic1\", \"Topic1\", \"Topic1\", \"Topic1\", \"Topic1\", \"Topic1\", \"Topic1\", \"Topic1\", \"Topic1\", \"Topic1\", \"Topic1\", \"Topic1\", \"Topic1\", \"Topic1\", \"Topic1\", \"Topic1\", \"Topic1\", \"Topic1\", \"Topic1\", \"Topic1\", \"Topic1\", \"Topic1\", \"Topic1\", \"Topic1\", \"Topic1\", \"Topic1\", \"Topic1\", \"Topic1\", \"Topic1\", \"Topic1\", \"Topic1\", \"Topic1\", \"Topic1\", \"Topic1\", \"Topic1\", \"Topic1\", \"Topic1\", \"Topic1\", \"Topic1\", \"Topic1\", \"Topic1\", \"Topic1\", \"Topic1\", \"Topic1\", \"Topic1\", \"Topic1\", \"Topic1\", \"Topic1\", \"Topic1\", \"Topic1\", \"Topic1\", \"Topic1\", \"Topic1\", \"Topic1\", \"Topic1\", \"Topic1\", \"Topic1\", \"Topic1\", \"Topic1\", \"Topic1\", \"Topic1\", \"Topic1\", \"Topic1\", \"Topic1\", \"Topic1\", \"Topic1\", \"Topic1\", \"Topic1\", \"Topic1\", \"Topic2\", \"Topic2\", \"Topic2\", \"Topic2\", \"Topic2\", \"Topic2\", \"Topic2\", \"Topic2\", \"Topic2\", \"Topic2\", \"Topic2\", \"Topic2\", \"Topic2\", \"Topic2\", \"Topic2\", \"Topic2\", \"Topic2\", \"Topic2\", \"Topic2\", \"Topic2\", \"Topic2\", \"Topic2\", \"Topic2\", \"Topic2\", \"Topic2\", \"Topic2\", \"Topic2\", \"Topic2\", \"Topic2\", \"Topic2\", \"Topic2\", \"Topic2\", \"Topic2\", \"Topic2\", \"Topic2\", \"Topic2\", \"Topic2\", \"Topic2\", \"Topic2\", \"Topic2\", \"Topic2\", \"Topic2\", \"Topic2\", \"Topic2\", \"Topic2\", \"Topic2\", \"Topic2\", \"Topic2\", \"Topic2\", \"Topic2\", \"Topic2\", \"Topic2\", \"Topic2\", \"Topic2\", \"Topic2\", \"Topic2\", \"Topic2\", \"Topic2\", \"Topic2\", \"Topic2\", \"Topic2\", \"Topic2\", \"Topic2\", \"Topic2\", \"Topic2\", \"Topic2\", \"Topic2\", \"Topic2\", \"Topic2\", \"Topic2\", \"Topic2\", \"Topic2\", \"Topic2\", \"Topic2\", \"Topic2\", \"Topic2\", \"Topic2\", \"Topic2\", \"Topic2\", \"Topic2\", \"Topic2\", \"Topic2\", \"Topic2\", \"Topic2\", \"Topic2\", \"Topic2\", \"Topic2\", \"Topic2\", \"Topic2\", \"Topic3\", \"Topic3\", \"Topic3\", \"Topic3\", \"Topic3\", \"Topic3\", \"Topic3\", \"Topic3\", \"Topic3\", \"Topic3\", \"Topic3\", \"Topic3\", \"Topic3\", \"Topic3\", \"Topic3\", \"Topic3\", \"Topic3\", \"Topic3\", \"Topic3\", \"Topic3\", \"Topic3\", \"Topic3\", \"Topic3\", \"Topic3\", \"Topic3\", \"Topic3\", \"Topic3\", \"Topic3\", \"Topic3\", \"Topic3\", \"Topic3\", \"Topic3\", \"Topic3\", \"Topic3\", \"Topic3\", \"Topic3\", \"Topic3\", \"Topic3\", \"Topic3\", \"Topic3\", \"Topic3\", \"Topic3\", \"Topic3\", \"Topic3\", \"Topic3\", \"Topic3\", \"Topic3\", \"Topic3\", \"Topic3\", \"Topic3\", \"Topic3\", \"Topic3\", \"Topic3\", \"Topic3\", \"Topic3\", \"Topic3\", \"Topic3\", \"Topic3\", \"Topic3\", \"Topic3\", \"Topic3\", \"Topic3\", \"Topic3\", \"Topic3\", \"Topic3\", \"Topic3\", \"Topic3\", \"Topic3\", \"Topic3\", \"Topic3\", \"Topic3\", \"Topic3\", \"Topic3\", \"Topic3\", \"Topic3\", \"Topic3\", \"Topic3\", \"Topic3\", \"Topic3\", \"Topic3\", \"Topic3\", \"Topic3\", \"Topic3\", \"Topic3\", \"Topic4\", \"Topic4\", \"Topic4\", \"Topic4\", \"Topic4\", \"Topic4\", \"Topic4\", \"Topic4\", \"Topic4\", \"Topic4\", \"Topic4\", \"Topic4\", \"Topic4\", \"Topic4\", \"Topic4\", \"Topic4\", \"Topic4\", \"Topic4\", \"Topic4\", \"Topic4\", \"Topic4\", \"Topic4\", \"Topic4\", \"Topic4\", \"Topic4\", \"Topic4\", \"Topic4\", \"Topic4\", \"Topic4\", \"Topic4\", \"Topic4\", \"Topic4\", \"Topic4\", \"Topic4\", \"Topic4\", \"Topic4\", \"Topic4\", \"Topic4\", \"Topic4\", \"Topic4\", \"Topic4\", \"Topic4\", \"Topic4\", \"Topic4\", \"Topic4\", \"Topic4\", \"Topic4\", \"Topic4\", \"Topic4\", \"Topic4\", \"Topic4\", \"Topic4\", \"Topic4\", \"Topic4\", \"Topic4\", \"Topic4\", \"Topic4\", \"Topic4\", \"Topic4\", \"Topic4\", \"Topic4\", \"Topic4\", \"Topic4\", \"Topic4\", \"Topic4\", \"Topic4\", \"Topic4\", \"Topic4\", \"Topic4\", \"Topic4\", \"Topic4\", \"Topic4\", \"Topic4\", \"Topic4\", \"Topic4\", \"Topic4\", \"Topic4\", \"Topic4\", \"Topic4\", \"Topic4\", \"Topic4\", \"Topic5\", \"Topic5\", \"Topic5\", \"Topic5\", \"Topic5\", \"Topic5\", \"Topic5\", \"Topic5\", \"Topic5\", \"Topic5\", \"Topic5\", \"Topic5\", \"Topic5\", \"Topic5\", \"Topic5\", \"Topic5\", \"Topic5\", \"Topic5\", \"Topic5\", \"Topic5\", \"Topic5\", \"Topic5\", \"Topic5\", \"Topic5\", \"Topic5\", \"Topic5\", \"Topic5\", \"Topic5\", \"Topic5\", \"Topic5\", \"Topic5\", \"Topic5\", \"Topic5\", \"Topic5\", \"Topic5\", \"Topic5\", \"Topic5\", \"Topic5\", \"Topic5\", \"Topic5\", \"Topic5\", \"Topic5\", \"Topic5\", \"Topic5\", \"Topic5\", \"Topic5\", \"Topic5\", \"Topic5\", \"Topic5\", \"Topic5\", \"Topic5\", \"Topic5\", \"Topic5\", \"Topic5\", \"Topic5\", \"Topic5\", \"Topic5\", \"Topic5\", \"Topic5\", \"Topic5\", \"Topic5\", \"Topic5\", \"Topic5\", \"Topic5\", \"Topic5\", \"Topic5\", \"Topic5\", \"Topic5\", \"Topic5\", \"Topic5\", \"Topic5\", \"Topic5\", \"Topic5\", \"Topic5\", \"Topic5\", \"Topic5\", \"Topic5\", \"Topic5\", \"Topic5\", \"Topic5\", \"Topic5\", \"Topic5\", \"Topic6\", \"Topic6\", \"Topic6\", \"Topic6\", \"Topic6\", \"Topic6\", \"Topic6\", \"Topic6\", \"Topic6\", \"Topic6\", \"Topic6\", \"Topic6\", \"Topic6\", \"Topic6\", \"Topic6\", \"Topic6\", \"Topic6\", \"Topic6\", \"Topic6\", \"Topic6\", \"Topic6\", \"Topic6\", \"Topic6\", \"Topic6\", \"Topic6\", \"Topic6\", \"Topic6\", \"Topic6\", \"Topic6\", \"Topic6\", \"Topic6\", \"Topic6\", \"Topic6\", \"Topic6\", \"Topic6\", \"Topic6\", \"Topic6\", \"Topic6\", \"Topic6\", \"Topic6\", \"Topic6\", \"Topic6\", \"Topic6\", \"Topic6\", \"Topic6\", \"Topic6\", \"Topic6\", \"Topic6\", \"Topic6\", \"Topic6\", \"Topic6\", \"Topic6\", \"Topic6\", \"Topic6\", \"Topic6\", \"Topic6\", \"Topic6\", \"Topic6\", \"Topic6\", \"Topic6\", \"Topic6\", \"Topic6\", \"Topic6\", \"Topic6\", \"Topic6\", \"Topic6\", \"Topic6\", \"Topic6\", \"Topic6\", \"Topic6\", \"Topic6\", \"Topic6\", \"Topic6\", \"Topic6\", \"Topic6\", \"Topic6\", \"Topic6\", \"Topic6\", \"Topic6\", \"Topic6\", \"Topic6\", \"Topic6\", \"Topic6\", \"Topic6\", \"Topic7\", \"Topic7\", \"Topic7\", \"Topic7\", \"Topic7\", \"Topic7\", \"Topic7\", \"Topic7\", \"Topic7\", \"Topic7\", \"Topic7\", \"Topic7\", \"Topic7\", \"Topic7\", \"Topic7\", \"Topic7\", \"Topic7\", \"Topic7\", \"Topic7\", \"Topic7\", \"Topic7\", \"Topic7\", \"Topic7\", \"Topic7\", \"Topic7\", \"Topic7\", \"Topic7\", \"Topic7\", \"Topic7\", \"Topic7\", \"Topic7\", \"Topic7\", \"Topic7\", \"Topic7\", \"Topic7\", \"Topic7\", \"Topic7\", \"Topic7\", \"Topic7\", \"Topic7\", \"Topic7\", \"Topic7\", \"Topic7\", \"Topic7\", \"Topic7\", \"Topic7\", \"Topic7\", \"Topic7\", \"Topic7\", \"Topic7\", \"Topic7\", \"Topic7\", \"Topic7\", \"Topic7\", \"Topic7\", \"Topic7\", \"Topic7\", \"Topic7\", \"Topic7\", \"Topic7\", \"Topic7\", \"Topic7\", \"Topic7\", \"Topic7\", \"Topic7\", \"Topic7\", \"Topic7\", \"Topic7\", \"Topic7\", \"Topic7\", \"Topic7\", \"Topic7\", \"Topic7\", \"Topic7\", \"Topic7\", \"Topic7\", \"Topic7\", \"Topic7\", \"Topic7\", \"Topic7\", \"Topic8\", \"Topic8\", \"Topic8\", \"Topic8\", \"Topic8\", \"Topic8\", \"Topic8\", \"Topic8\", \"Topic8\", \"Topic8\", \"Topic8\", \"Topic8\", \"Topic8\", \"Topic8\", \"Topic8\", \"Topic8\", \"Topic8\", \"Topic8\", \"Topic8\", \"Topic8\", \"Topic8\", \"Topic8\", \"Topic8\", \"Topic8\", \"Topic8\", \"Topic8\", \"Topic8\", \"Topic8\", \"Topic8\", \"Topic8\", \"Topic8\", \"Topic8\", \"Topic8\", \"Topic8\", \"Topic8\", \"Topic8\", \"Topic8\", \"Topic8\", \"Topic8\", \"Topic8\", \"Topic8\", \"Topic8\", \"Topic8\", \"Topic8\", \"Topic8\", \"Topic8\", \"Topic8\", \"Topic8\", \"Topic8\", \"Topic8\", \"Topic8\", \"Topic8\", \"Topic8\", \"Topic8\", \"Topic8\", \"Topic8\", \"Topic8\", \"Topic8\", \"Topic8\", \"Topic8\", \"Topic8\", \"Topic8\", \"Topic8\", \"Topic8\", \"Topic8\", \"Topic8\", \"Topic8\", \"Topic8\", \"Topic8\", \"Topic8\", \"Topic8\", \"Topic8\", \"Topic8\", \"Topic8\", \"Topic8\", \"Topic8\", \"Topic8\", \"Topic8\", \"Topic8\", \"Topic8\", \"Topic9\", \"Topic9\", \"Topic9\", \"Topic9\", \"Topic9\", \"Topic9\", \"Topic9\", \"Topic9\", \"Topic9\", \"Topic9\", \"Topic9\", \"Topic9\", \"Topic9\", \"Topic9\", \"Topic9\", \"Topic9\", \"Topic9\", \"Topic9\", \"Topic9\", \"Topic9\", \"Topic9\", \"Topic9\", \"Topic9\", \"Topic9\", \"Topic9\", \"Topic9\", \"Topic9\", \"Topic9\", \"Topic9\", \"Topic9\", \"Topic9\", \"Topic9\", \"Topic9\", \"Topic9\", \"Topic9\", \"Topic9\", \"Topic9\", \"Topic9\", \"Topic9\", \"Topic9\", \"Topic9\", \"Topic9\", \"Topic9\", \"Topic9\", \"Topic9\", \"Topic9\", \"Topic9\", \"Topic9\", \"Topic9\", \"Topic9\", \"Topic9\", \"Topic9\", \"Topic9\", \"Topic9\", \"Topic9\", \"Topic9\", \"Topic9\", \"Topic9\", \"Topic9\", \"Topic9\", \"Topic9\", \"Topic9\", \"Topic9\", \"Topic9\", \"Topic9\", \"Topic9\", \"Topic9\", \"Topic9\", \"Topic9\", \"Topic9\", \"Topic9\", \"Topic10\", \"Topic10\", \"Topic10\", \"Topic10\", \"Topic10\", \"Topic10\", \"Topic10\", \"Topic10\", \"Topic10\", \"Topic10\", \"Topic10\", \"Topic10\", \"Topic10\", \"Topic10\", \"Topic10\", \"Topic10\", \"Topic10\", \"Topic10\", \"Topic10\", \"Topic10\", \"Topic10\", \"Topic10\", \"Topic10\", \"Topic10\", \"Topic10\", \"Topic10\", \"Topic10\", \"Topic10\", \"Topic10\", \"Topic10\", \"Topic10\", \"Topic10\", \"Topic10\", \"Topic10\", \"Topic10\", \"Topic10\", \"Topic10\", \"Topic10\", \"Topic10\", \"Topic10\", \"Topic10\", \"Topic10\", \"Topic10\", \"Topic10\", \"Topic10\", \"Topic10\", \"Topic10\", \"Topic10\", \"Topic10\", \"Topic10\", \"Topic10\", \"Topic10\", \"Topic10\", \"Topic10\", \"Topic10\", \"Topic10\", \"Topic10\", \"Topic10\", \"Topic10\", \"Topic10\", \"Topic10\", \"Topic10\", \"Topic10\", \"Topic10\", \"Topic10\", \"Topic10\", \"Topic10\", \"Topic10\", \"Topic10\", \"Topic10\", \"Topic10\", \"Topic10\", \"Topic10\", \"Topic10\", \"Topic10\", \"Topic10\", \"Topic10\", \"Topic10\", \"Topic10\", \"Topic10\", \"Topic10\", \"Topic10\", \"Topic10\"], \"Freq\": [5656.0, 2556.0, 1774.0, 6697.0, 3488.0, 1332.0, 863.0, 4544.0, 2313.0, 4300.0, 1393.0, 1135.0, 779.0, 2819.0, 1057.0, 3665.0, 2863.0, 1049.0, 2378.0, 1141.0, 2307.0, 2673.0, 724.0, 2430.0, 504.0, 392.0, 413.0, 816.0, 715.0, 1043.0, 37.41361405184882, 14.958674727711657, 11.986884913204205, 11.981032979795117, 10.99614219686315, 10.005538594263847, 10.005406664417588, 9.014890168179855, 18.8559273101213, 9.831054538038394, 19.673604891935266, 8.023801329799188, 20.345900715354617, 26.626832379883748, 7.033574341003349, 7.033572886391984, 7.03356187121699, 7.033554235934317, 7.0319484258077685, 20.94837544567209, 6.042958466877535, 6.0429405459436785, 6.042935934922626, 6.042927238019086, 6.042921707573827, 6.042912962742837, 6.042911494427976, 6.04288104671803, 6.042598038061727, 6.041382582694528, 49.57444338535802, 12.839319845524392, 29.270141780833743, 13.713183823797532, 19.33628478475693, 182.01205450473893, 254.90588390874643, 34.75685787354466, 13.345814797952832, 23.851238879432035, 40.06850272884263, 188.8403068595217, 41.21563954638858, 235.5945469727644, 3275.689800669712, 82.55697082557903, 208.30002610013142, 339.9934796272419, 1956.3698004325902, 1297.78374508794, 245.7923469241839, 261.1810705103485, 175.03322723817826, 223.892610189249, 362.714295086844, 623.8733558361014, 122.87230599091792, 109.51353953048243, 679.2996323825665, 1283.8575135004487, 1349.6132446257077, 1659.0131546697464, 361.3604617207658, 959.4628065647345, 376.8499857911564, 1804.086825001496, 553.4159117611391, 218.4422562852675, 830.755708149171, 427.00831973407213, 951.2286231715547, 1408.1312468061778, 554.1829571321915, 697.9613782744846, 1195.7992987588445, 524.4443842829916, 750.1895178385615, 492.0813511319513, 925.9410016913815, 1271.0803142722548, 1290.9224415524545, 552.9715975910977, 721.7337298024792, 544.3158924294237, 623.9803151223314, 457.2559511343231, 511.00935265036725, 901.5631511443682, 485.15357057826577, 494.4692005039449, 18.93554959468853, 16.942956417053438, 28.206601514400454, 16.82953263525975, 12.987163133147744, 11.995771510766687, 10.013058470926087, 10.012411251811951, 9.021639936532107, 9.021615232965544, 9.021028036644097, 19.7180823419895, 8.03025653601481, 8.030162581101814, 24.883924705719338, 24.85024797107407, 8.835568817662768, 7.038863360025033, 7.038859033737568, 7.030619181230526, 7.007651841480704, 6.924480362131054, 25.21664350784536, 6.047493127804104, 6.047419301395268, 6.0474187892543325, 6.047417140411876, 6.047409733656763, 6.047399606625349, 6.04739368059366, 35.4456379395283, 39.55574687479741, 34.97019355101421, 89.3616552258373, 270.5123432563273, 18.234598037250645, 28.485101049110973, 232.2395105856486, 57.2755490042161, 50.98058959112213, 10.930150009213312, 337.8808643944384, 203.8044076206224, 200.74401320028, 240.1873159553242, 164.15367338516177, 388.2298951582504, 214.92800238292466, 34.12117464684702, 337.186142236768, 54.0913515614578, 231.66077365511666, 196.1389066914143, 501.0113228308041, 84.07744122290823, 120.44175940954793, 1418.0073750838476, 372.3974641605228, 307.8603252439998, 242.81278927760516, 108.56656633235858, 1177.6602161173923, 237.32978953080328, 409.2409389753614, 966.0613686473619, 209.3283554703721, 173.6023221204469, 1270.7422887328405, 765.3561861613374, 406.37741087243677, 605.623197185052, 480.2947561289115, 456.77063376429925, 648.4729717869272, 389.867961562032, 529.3674281052494, 483.35710885930376, 400.955440076533, 554.8226716836638, 530.8269908619375, 607.8392900455885, 715.5576732473119, 425.3443621280715, 568.6097241867568, 387.15148815084166, 385.5103708184356, 363.6190207274856, 333.8824423124402, 359.3853458829526, 43.51714402537301, 35.49862575278494, 24.37369366776337, 22.350972928804932, 58.96064724071134, 14.260093878635555, 14.254905403152279, 13.248773629070165, 13.248748362549359, 12.237406082026492, 49.32663707522767, 259.3663056309349, 10.185497069042931, 9.2033230138048, 9.203260613350192, 9.203122087101884, 8.191968494985906, 8.191904646257308, 8.191893367679402, 17.241748948783176, 51.75538627252192, 7.180620784327108, 7.180617675405651, 7.177050051377165, 25.91367746182187, 7.9821758988461005, 7.079737332253832, 52.424369121559124, 6.1692789504671985, 6.169260737714551, 86.046098754762, 30.412519965803675, 152.28042178327226, 175.05179826763703, 92.8617562805686, 43.694082565062494, 82.56425067567332, 79.78347468896145, 211.0920636725782, 1003.2742116125277, 368.21710742159644, 85.78122579848088, 570.574215127348, 65.7617268695935, 368.8253578582841, 495.23429723815633, 418.6273995252507, 286.4067710764507, 109.83597578252365, 220.7677682373798, 401.0721583070634, 273.1296478883831, 216.2714557139805, 794.6181358287913, 1246.9944657530104, 885.7472128226589, 682.6233649251204, 792.4605260242628, 799.3221066629633, 241.15291801507016, 195.37535362212995, 1163.8734144888817, 585.1576941822578, 743.1975752343164, 911.9676676023095, 904.3929603114235, 442.29297564233127, 525.5904137307281, 1383.2092131049585, 432.7772106627724, 781.2529264438807, 882.5154026403868, 539.3413075017328, 1325.305032107352, 676.3608449308996, 585.5196010186294, 710.9137403477374, 919.2059019759876, 591.3997816480916, 519.5529058179305, 544.8472259846354, 478.399029346332, 484.8528572352659, 444.6199030641091, 71.44866821856941, 63.58785405504534, 48.53616620047964, 21.02548213235204, 19.12258678225951, 17.21998822278514, 17.21994972043274, 15.317233661826059, 15.317209838997808, 15.317208449941914, 15.317204023397627, 17.091404016261126, 16.18510440627367, 14.365820132900964, 14.365806487248426, 17.048039109538053, 32.92925322607548, 41.50133320695108, 10.560179552831107, 31.49070495936471, 9.608948624900627, 9.608855947179498, 9.592101749819413, 8.65756200456407, 8.657558599732669, 8.657542041839193, 8.657539291659393, 8.657467786467299, 18.150336923075578, 18.090383305891443, 127.42794522860791, 121.83361774104296, 66.26662861487132, 62.079201982648875, 408.3564127772212, 230.14865234497452, 32.88927651289701, 32.08689697024685, 272.4673975610095, 276.67004031386637, 91.36524248636117, 252.1150117917501, 34.7386973769885, 84.33353647233929, 55.70559492948076, 125.505489782349, 107.38849904842132, 199.20073824530655, 116.18229174189567, 127.54394797046878, 1684.2891115518712, 596.044831784872, 499.6165179486007, 802.2396261768073, 448.0167952044766, 106.87963227243576, 617.4785395628085, 226.33980842827586, 338.6225422156476, 127.30861397092703, 436.0706686081492, 499.5502388398274, 332.08493441969614, 259.3141450620381, 672.2589575531597, 413.2788364449144, 210.73874849108194, 362.01000191876574, 299.0478891908536, 217.30786005208438, 306.249060797505, 383.77146817629756, 349.36684706714357, 352.9392265986218, 260.9166341018023, 279.2467477585771, 335.2131824970863, 284.9451254212986, 304.2458506114474, 295.1274941818458, 279.66892473812493, 15.067036062224936, 10.959093304215807, 10.037579266673827, 10.022863360261496, 10.755236029702246, 7.084569042847068, 7.084569042847068, 7.084569042847068, 7.084569042847068, 7.084569042847068, 7.084497029578213, 6.086735031382952, 6.086719107585816, 6.086714101666695, 6.0867017871518225, 6.086689496222285, 6.086689496195705, 6.086689496177161, 6.086689496157321, 6.086669789133763, 5.088905835705858, 5.088901268356052, 5.088878258797449, 5.088852796472312, 5.088814213480672, 5.08879878853944, 11.533107135135781, 4.091089165543931, 4.091057603404561, 4.091049966556468, 155.7111340231774, 16.051742033762935, 8.079812798767486, 262.29764744966405, 218.79673244064875, 53.245041812488616, 15.002858612171856, 221.75089194088315, 449.5808547839702, 345.51673122757404, 624.1645715929122, 136.41899558432235, 337.999490610768, 19.544893959181625, 76.87521817333472, 177.48002665163133, 45.469183447432364, 29.329671676195144, 49.79508381636233, 298.84217762071626, 498.4605225875802, 76.8469621945058, 242.86925741331373, 25.11326022124021, 735.5792432520933, 63.00842899305979, 54.89026576129542, 148.96546778821204, 994.4753646857273, 42.28363234099463, 146.30830262081042, 563.4780469354022, 70.72177139098653, 51.634060073458436, 468.06340358532486, 239.23596538929922, 396.84383141563416, 285.0565406932631, 500.1710877602726, 410.3998265555144, 449.96859043544896, 304.7763602853653, 202.74272805757226, 353.23844832486145, 546.2638349193456, 364.00403640292285, 257.3133431746867, 285.5167959138286, 251.80222891449932, 296.5010082130083, 258.9488801856882, 237.30790523919646, 66.71823959547943, 62.15475905696856, 61.242066479801935, 23.820425058885636, 18.34522337396782, 13.781743210688312, 11.043646963991717, 11.043624995149138, 11.0436249149727, 9.218221844290142, 9.218214352716801, 9.218174404101749, 8.305555418045742, 7.392854653930429, 7.392799634583536, 6.480140810411561, 5.567460589000606, 5.567460589000606, 5.567460589000606, 5.567460589000606, 5.567460589000606, 5.56722225550185, 64.7384837995444, 10.130967902555474, 4.654734480233589, 4.654725020166686, 4.654720238637225, 4.654714502760033, 4.6546616067001265, 4.654606840401084, 71.26823337990959, 14.495833955600581, 9.927984226244268, 9.835190181603853, 67.00773032169101, 10.950088080885184, 72.51508933938999, 75.60402459365496, 101.23795396467867, 12.862776607393139, 98.71923811432445, 84.08210618826432, 141.2956535492071, 31.533522483589284, 26.945145113979212, 230.73182661812015, 30.131051059932943, 28.81067927975019, 39.81953011513325, 84.69556618383487, 31.118036047995272, 31.66880465075799, 131.5946605479196, 70.983566676161, 224.03892388479596, 96.35211337923953, 132.25322476741928, 132.20470503960996, 101.88370640473738, 161.57759506683496, 149.2682243722733, 242.87464755300184, 196.90463940280978, 86.95770447505471, 369.89491378431984, 171.44039521641665, 203.83268692864468, 245.51476772595078, 153.3069865558724, 142.4292688526565, 187.43192453556827, 163.96092155220293, 157.02305819914852, 176.38081697973794, 181.0820890192629, 131.2430346411988, 147.19873494994835, 121.33892693747057, 166.36200167387386, 107.16403903758817, 124.03822277299194, 138.779685389841, 133.84204286865616, 106.07109630839753, 92.6871379966607, 89.0203624794282, 64.26700797964722, 26.678572787477105, 13.843490482456394, 12.926746015561207, 12.926730543454067, 12.009958228081302, 12.009857524847725, 11.093156955609595, 10.17635604966789, 9.259572582648364, 8.342793237255522, 8.342793237255522, 8.342793237255522, 8.338571006498755, 15.677134064517594, 7.422779831814848, 14.649067315831712, 6.5092142115684295, 6.509213077833544, 15.157738717635015, 5.5924234775358475, 5.5924234775358475, 5.5924234775358475, 5.5924227101392745, 5.5924227101392745, 5.592420720729747, 5.59241322148729, 5.592389121362644, 80.49983843029644, 15.616281761691198, 21.914961431493424, 12.009955613708701, 9.824908713096686, 11.926182742724315, 11.038272664937688, 9.046410938593992, 404.75558354067164, 236.11419455821724, 17.756427680325807, 22.543635212614717, 19.46338780401622, 21.890626101329698, 16.6773788946109, 217.20963782383936, 141.08441090854785, 15.732260528587844, 35.488918654917654, 82.82565756603736, 392.7710555898814, 329.68818996491126, 107.40812036964321, 258.77349463567185, 51.62095499298468, 35.225068296796515, 96.25603715632708, 224.38332378715182, 164.16677464397324, 35.65898607514144, 142.59860911509563, 103.13465198560168, 94.32286758637406, 72.81091675984189, 90.98306084346153, 202.3553487991565, 86.5858600894129, 67.77450814719903, 94.68222563529478, 143.01893511659614, 59.948312184522855, 82.84440868381363, 114.52614648757861, 71.49883085295407, 67.89766125272521, 84.71235437890766, 77.08428879890438, 78.62827790732594, 78.62696215282895, 74.76213962956254, 15.160798096592115, 13.387622099805716, 12.501036732326876, 12.495375453681103, 11.61444403219251, 10.727845251105578, 8.954647688931223, 8.95459581854123, 8.06803722018604, 8.068034438709912, 7.181441867194974, 7.181430733055134, 14.207392733727616, 6.294851345668166, 6.294843419765014, 6.294843256049155, 5.408252564581319, 5.408252564581319, 5.408252564581319, 5.408252564581319, 5.408252564581319, 5.408252564581319, 5.408252564581319, 5.408250607674598, 4.521652461135262, 4.5216523117944565, 4.521577128930269, 4.5215397012044845, 5.2141941601921, 12.50106674420488, 18.01483774455529, 12.501074363079503, 17.682638074699984, 85.72958418094636, 15.268458505733355, 24.47604855644577, 17.774430140194916, 8.954638605397149, 26.699305894835664, 7.159966381691119, 33.988265578667125, 71.01644883779342, 66.5677681077519, 14.38379422237083, 94.54238060361651, 47.943042786728476, 21.575296785930306, 31.198928904777677, 155.16676323708282, 19.526953989055098, 16.940309223656662, 15.5580655163211, 93.4713668860966, 288.72068725841353, 173.39230327156918, 98.223630865826, 68.6649132246788, 51.26310377525183, 71.4872351548736, 87.42498012746117, 122.5440446077132, 63.0436803437581, 26.647846062615614, 61.46923123818227, 80.0403576774463, 45.163433088223144, 68.63028454433324, 69.19053805455349, 50.167746490003736, 103.80765207023855, 65.17632109420764, 80.95186143543542, 49.90371524358301, 94.76024034194954, 75.95405374936006, 73.73121790192742, 68.16971526924198, 56.272435174357604, 56.274203466269675, 51.22868244191778, 59.8144773511421, 55.486375257977436, 54.62074095891543, 53.755135829901036, 52.88951631721624, 48.5614093145211, 60.19111623970344, 9.608365451289716, 20.689885058761767, 57.039757677269634, 7.011521439780337, 61.43654547346062, 188.95638988983313, 4.414666902791188, 4.414658456194022, 4.414647112997718, 4.279632398938289, 3.5490412851512194, 3.549030768265496, 3.548937730590539, 3.5489319862884616, 3.5489013802306166, 3.548897037417322, 3.5314942389681905, 16.21351517029711, 6.24463247831324, 9.644780201896799, 2.6834265558926695, 2.68342324263035, 2.6834167989404945, 60.768271556221535, 50.69626814701602, 63.451254771993234, 192.12911425692081, 26.727169409130774, 65.33533890469937, 8.636250712430142, 61.22328480342482, 188.0351119207202, 58.85971855652166, 27.208225922544614, 71.20617077978072, 63.709749206691725, 168.74110228481385, 154.6266905750827, 131.90217445100103, 143.07455640214488, 275.1860666623839, 69.4941002252761, 71.79641015694455, 192.8817156824555, 202.40859298722089, 90.02321055904423, 132.92549661307416, 236.7552836902785, 117.93879087096425, 98.23374912153423, 80.01578318003894, 93.36171432715356, 118.08315744700181, 116.70232426867577, 92.99775747685977, 78.66701026562491, 106.64397930791708, 89.04341216632103, 109.87840064600105, 76.08021298608658, 84.39804294252261, 75.71838856272241, 81.30672887142659, 73.99848975487335, 8.150082610823079, 4.567622245906872, 3.6720254287176846, 3.6719700010326, 3.6704873070221877, 3.6704479029014836, 6.287937274857169, 13.20825855996917, 2.776409209106312, 2.7763955051481912, 2.7763953407148083, 2.7763955859526717, 2.776379680911995, 2.7763610984493514, 2.7763515427082504, 2.776303253958236, 2.7089735735902174, 10.113599328643163, 5.8064555157899616, 4.518041274078238, 12.830208698009674, 4.424105775174701, 1.8807934212589377, 1.8807910968031951, 1.8807910968031951, 1.8807910968031951, 1.8807910968031951, 1.8807906217207597, 1.8807894194323715, 1.8807894194323715, 3.6719882147007556, 3.6614727607075483, 5.238846692872655, 7.25441872519886, 5.170296693127384, 15.442117264138629, 155.3905428167363, 2.776361252296445, 4.079012678527565, 15.001635289401882, 39.612528412748546, 11.492123729207217, 35.42301258955781, 19.3289042309529, 209.65182558268083, 9.575591863573154, 13.53288631779645, 61.30229336344376, 20.72155766990142, 121.56490825845593, 25.922924639064544, 41.37673403279166, 63.4155084475195, 54.32729416783351, 23.566059005431512, 62.03278654941774, 45.58912880780713, 41.58436337301024, 51.68126627056565, 49.64548081445809, 69.49671753594261, 90.18168680518433, 41.625839484188326, 82.29833016027872, 113.78974770621805, 52.95412911847669, 87.41769073858352, 58.32135410697419, 92.6204811514699, 89.30842770354022, 57.96932315156105, 45.95593183893014, 65.3429290975013, 84.44989872688787, 32.98101425632839, 44.892976084764335, 57.02670580364548, 65.85774477762446, 53.70921377102338, 51.6099106014189, 45.1346260886889, 42.105588117878234, 42.15948512279244], \"Term\": [\"room\", \"apartment\", \"park\", \"portland\", \"bed\", \"place\", \"airbnb\", \"house\", \"queen\", \"private\", \"basement\", \"free\", \"unit\", \"downtown\", \"shared\", \"bedroom\", \"bathroom\", \"studio\", \"coffee\", \"location\", \"guests\", \"living\", \"rooms\", \"walk\", \"travelers\", \"couples\", \"condo\", \"minute\", \"microwave\", \"shower\", \"advance\", \"occupancy\", \"upholstered\", \"unpack\", \"locking\", \"plums\", \"commons\", \"ports\", \"capacity\", \"bathrobes\", \"marijuana\", \"sent\", \"casper\", \"carpeted\", \"holistic\", \"outer\", \"carpeting\", \"adjust\", \"acces\", \"dvds\", \"darker\", \"lily\", \"houseTM\", \"rollaway\", \"folded\", \"starter\", \"numbers\", \"accesses\", \"countryside\", \"freddie\", \"topper\", \"genders\", \"latex\", \"gazebo\", \"avail\", \"chair\", \"twin\", \"creek\", \"futons\", \"medium\", \"pong\", \"futon\", \"ping\", \"additional\", \"room\", \"fee\", \"foam\", \"couch\", \"bed\", \"queen\", \"double\", \"desk\", \"memory\", \"extra\", \"mattress\", \"size\", \"dresser\", \"multnomah\", \"use\", \"living\", \"bathroom\", \"bedroom\", \"closet\", \"large\", \"table\", \"private\", \"bedrooms\", \"sleep\", \"floor\", \"upstairs\", \"guests\", \"kitchen\", \"guest\", \"comfortable\", \"space\", \"main\", \"area\", \"shared\", \"access\", \"house\", \"home\", \"dining\", \"available\", \"bath\", \"quiet\", \"small\", \"basement\", \"portland\", \"cozy\", \"neighborhood\", \"molding\", \"grilling\", \"woodwork\", \"sculpture\", \"pottery\", \"retains\", \"todji\", \"corridors\", \"scholls\", \"renovating\", \"triplex\", \"elements\", \"viking\", \"outing\", \"magic\", \"crown\", \"wainscoting\", \"apizza\", \"cares\", \"retaining\", \"net\", \"deeply\", \"beams\", \"prohibition\", \"filmed\", \"patter\", \"bosch\", \"entirety\", \"rosebud\", \"pip\", \"carriage\", \"ladd\", \"barn\", \"character\", \"original\", \"handcrafted\", \"records\", \"cottage\", \"concordia\", \"quirky\", \"scandinavian\", \"division\", \"craftsman\", \"charm\", \"wood\", \"belmont\", \"hawthorne\", \"filled\", \"exposed\", \"floors\", \"reclaimed\", \"bungalow\", \"vintage\", \"modern\", \"lined\", \"years\", \"home\", \"open\", \"built\", \"porch\", \"beautifully\", \"house\", \"old\", \"alberta\", \"kitchen\", \"tabor\", \"ceilings\", \"portland\", \"space\", \"dining\", \"located\", \"floor\", \"enjoy\", \"neighborhood\", \"beautiful\", \"street\", \"just\", \"light\", \"restaurants\", \"living\", \"bedroom\", \"room\", \"large\", \"private\", \"blocks\", \"shops\", \"new\", \"main\", \"walk\", \"meyer\", \"ava\", \"gene\", \"rhododendron\", \"fred\", \"emergencies\", \"cheese\", \"gladstone\", \"meyers\", \"grocer\", \"courts\", \"seasons\", \"laughing\", \"crema\", \"whiskey\", \"livable\", \"genes\", \"cemetery\", \"ramen\", \"walgreens\", \"tennis\", \"sausage\", \"latin\", \"podnah\", \"mexican\", \"feed\", \"vines\", \"peninsula\", \"answers\", \"navarre\", \"yellow\", \"wilshire\", \"pok\", \"woodstock\", \"corridor\", \"sushi\", \"brewery\", \"pizza\", \"stop\", \"bus\", \"line\", \"straw\", \"max\", \"bakery\", \"grocery\", \"minute\", \"mississippi\", \"lines\", \"reed\", \"williams\", \"drive\", \"questions\", \"store\", \"blocks\", \"restaurants\", \"close\", \"distance\", \"walking\", \"shops\", \"stores\", \"market\", \"neighborhood\", \"bars\", \"away\", \"street\", \"walk\", \"food\", \"alberta\", \"house\", \"bike\", \"great\", \"downtown\", \"easy\", \"portland\", \"available\", \"park\", \"access\", \"home\", \"coffee\", \"quiet\", \"located\", \"new\", \"just\", \"kitchen\", \"alphabet\", \"nob\", \"classy\", \"timbers\", \"avenues\", \"eyes\", \"marquam\", \"delicatessen\", \"guided\", \"hollow\", \"council\", \"univ\", \"unbeatable\", \"elephants\", \"skyline\", \"museums\", \"heights\", \"museum\", \"arboretum\", \"director\", \"arriv\", \"mobility\", \"amtrak\", \"newspapers\", \"dating\", \"robert\", \"hoa\", \"sciences\", \"crest\", \"feast\", \"streetcar\", \"hill\", \"washington\", \"psu\", \"pearl\", \"forest\", \"elevator\", \"jump\", \"condo\", \"building\", \"bridge\", \"views\", \"smack\", \"hills\", \"nike\", \"ohsu\", \"willamette\", \"river\", \"waterfront\", \"trails\", \"portland\", \"park\", \"city\", \"downtown\", \"district\", \"hiking\", \"apartment\", \"car\", \"location\", \"rose\", \"away\", \"located\", \"minutes\", \"heart\", \"home\", \"great\", \"center\", \"just\", \"parking\", \"right\", \"walking\", \"restaurants\", \"walk\", \"access\", \"stay\", \"close\", \"bedroom\", \"street\", \"neighborhood\", \"kitchen\", \"space\", \"eliot\", \"hotplate\", \"warehouse\", \"villa\", \"bottled\", \"huh\", \"batteries\", \"yeah\", \"convene\", \"embracing\", \"syrup\", \"allergen\", \"fashionable\", \"flashlight\", \"cap\", \"jammer\", \"farming\", \"dreamer\", \"creator\", \"creaks\", \"beings\", \"rainhead\", \"rooted\", \"pan\", \"asap\", \"vent\", \"wonders\", \"stearns\", \"thurman\", \"doilies\", \"kettle\", \"cups\", \"festival\", \"maker\", \"toaster\", \"keurig\", \"flatware\", \"mini\", \"microwave\", \"kitchenette\", \"studio\", \"electric\", \"fridge\", \"cooktop\", \"press\", \"oven\", \"freezer\", \"plate\", \"soap\", \"suite\", \"entrance\", \"shampoo\", \"tea\", \"induction\", \"coffee\", \"iron\", \"pot\", \"refrigerator\", \"private\", \"snacks\", \"provided\", \"apartment\", \"dishes\", \"hair\", \"bathroom\", \"shower\", \"queen\", \"basement\", \"bed\", \"restaurants\", \"space\", \"shops\", \"dryer\", \"walk\", \"portland\", \"bedroom\", \"area\", \"downtown\", \"access\", \"room\", \"kitchen\", \"neighborhood\", \"midnight\", \"sms\", \"loyal\", \"blazing\", \"pour\", \"cuddling\", \"katy\", \"salad\", \"curfew\", \"fixing\", \"joke\", \"bubble\", \"modem\", \"surveillance\", \"lite\", \"nudes\", \"stressful\", \"combos\", \"fascinating\", \"overton\", \"wink\", \"cabs\", \"messaging\", \"envision\", \"awaiting\", \"mimosas\", \"overlooked\", \"dressed\", \"ordinary\", \"packs\", \"upgrades\", \"jumping\", \"passionate\", \"turret\", \"regular\", \"unparalleled\", \"absolutely\", \"assist\", \"complimentary\", \"artifacts\", \"speed\", \"week\", \"days\", \"led\", \"charging\", \"high\", \"ultra\", \"countertops\", \"lights\", \"email\", \"craft\", \"cabin\", \"travelers\", \"hotel\", \"need\", \"text\", \"equipped\", \"offer\", \"business\", \"perfect\", \"fully\", \"apartment\", \"new\", \"netflix\", \"portland\", \"light\", \"coffee\", \"kitchen\", \"comfortable\", \"cozy\", \"space\", \"guests\", \"available\", \"bed\", \"home\", \"place\", \"queen\", \"modern\", \"room\", \"phone\", \"stay\", \"private\", \"bedroom\", \"wifi\", \"com\", \"www\", \"https\", \"lady\", \"alexa\", \"hafner\", \"opal\", \"blended\", \"colony\", \"echo\", \"bluebird\", \"dwan\", \"circles\", \"advisor\", \"yelp\", \"mural\", \"controls\", \"responsibly\", \"sourced\", \"multiplex\", \"evermore\", \"heavenly\", \"comestibles\", \"beit\", \"shlomo\", \"indonesia\", \"failing\", \"boil\", \"rescue\", \"wei\", \"website\", \"haus\", \"stars\", \"panel\", \"westin\", \"hippie\", \"carved\", \"click\", \"airbnb\", \"hidden\", \"inn\", \"zen\", \"separately\", \"bohemian\", \"granola\", \"rooms\", \"number\", \"lotion\", \"painted\", \"victorian\", \"room\", \"house\", \"phone\", \"bed\", \"tiny\", \"locally\", \"built\", \"private\", \"bathroom\", \"claw\", \"queen\", \"guest\", \"shared\", \"mattress\", \"like\", \"portland\", \"shower\", \"old\", \"bath\", \"home\", \"king\", \"modern\", \"space\", \"local\", \"friendly\", \"bedroom\", \"just\", \"living\", \"kitchen\", \"walk\", \"nod\", \"creation\", \"authentically\", \"yurt\", \"sailors\", \"excess\", \"sos\", \"stucco\", \"therapists\", \"popping\", \"craftspeople\", \"baked\", \"reception\", \"promises\", \"bon\", \"boxes\", \"shou\", \"rusted\", \"sector\", \"masterpieces\", \"sugi\", \"burned\", \"signature\", \"stateroom\", \"shirt\", \"bellaterra\", \"gaming\", \"chris\", \"titled\", \"interiors\", \"wit\", \"triple\", \"soothing\", \"bunk\", \"staff\", \"society\", \"unlike\", \"distilleries\", \"laid\", \"poet\", \"affordable\", \"hotel\", \"community\", \"thursday\", \"experience\", \"service\", \"hospitality\", \"farm\", \"shared\", \"hostel\", \"ways\", \"lobby\", \"rooms\", \"room\", \"guests\", \"welcome\", \"hot\", \"common\", \"arts\", \"alberta\", \"access\", \"tub\", \"create\", \"offer\", \"enjoy\", \"unique\", \"use\", \"district\", \"come\", \"home\", \"cozy\", \"bathroom\", \"beds\", \"portland\", \"kitchen\", \"house\", \"space\", \"city\", \"available\", \"yard\", \"condos\", \"tom\", \"wired\", \"mccall\", \"grills\", \"christian\", \"kitchens\", \"dame\", \"amusement\", \"church\", \"rogue\", \"tvs\", \"adventurers\", \"filbert\", \"jungalow\", \"nonna\", \"circular\", \"biwa\", \"mimi\", \"uofp\", \"intentionally\", \"gigabit\", \"mts\", \"loc\", \"coziness\", \"autentica\", \"yakuza\", \"composer\", \"assessed\", \"izakaya\", \"barbecue\", \"courthouse\", \"fitness\", \"solo\", \"furry\", \"pioneer\", \"expatriate\", \"providence\", \"couples\", \"conveniences\", \"ambiance\", \"state\", \"facilities\", \"travelers\", \"business\", \"condo\", \"good\", \"place\", \"waterfront\", \"university\", \"free\", \"park\", \"square\", \"location\", \"portland\", \"like\", \"center\", \"screen\", \"wifi\", \"walk\", \"located\", \"minute\", \"property\", \"available\", \"laundry\", \"downtown\", \"internet\", \"love\", \"flat\", \"living\", \"offer\", \"frere\", \"sixth\", \"insurance\", \"sand\", \"recommending\", \"peoples\", \"log\", \"paper\", \"chaneels\", \"galvanized\", \"piping\", \"dani\", \"cinemax\", \"episode\", \"trunk\", \"global\", \"attributes\", \"consisting\", \"selected\", \"crossing\", \"california\", \"heats\", \"eurovan\", \"deserves\", \"redid\", \"sane\", \"understandable\", \"complaints\", \"methods\", \"microfiber\", \"surprises\", \"equal\", \"received\", \"tent\", \"practical\", \"updates\", \"unit\", \"backup\", \"adjusted\", \"landing\", \"duplex\", \"standing\", \"quality\", \"added\", \"apartment\", \"thought\", \"thanks\", \"king\", \"tastefully\", \"basement\", \"hbo\", \"linens\", \"high\", \"sofa\", \"roku\", \"make\", \"cable\", \"screen\", \"features\", \"newly\", \"shower\", \"area\", \"brand\", \"new\", \"bedroom\", \"built\", \"living\", \"size\", \"bed\", \"kitchen\", \"bath\", \"separate\", \"queen\", \"home\", \"internet\", \"modern\", \"space\", \"portland\", \"bathroom\", \"great\", \"comfortable\", \"spacious\", \"need\"], \"Total\": [5656.0, 2556.0, 1774.0, 6697.0, 3488.0, 1332.0, 863.0, 4544.0, 2313.0, 4300.0, 1393.0, 1135.0, 779.0, 2819.0, 1057.0, 3665.0, 2863.0, 1049.0, 2378.0, 1141.0, 2307.0, 2673.0, 724.0, 2430.0, 504.0, 392.0, 413.0, 816.0, 715.0, 1043.0, 38.58706818963955, 15.801780820351052, 12.829835890908344, 12.829412002997193, 11.83918021030701, 10.84852845367556, 10.848518319539195, 9.857871912889179, 20.671954204071206, 10.834799275402473, 21.732506801096036, 8.867178516581777, 22.595209813433655, 29.68866941576495, 7.876565959951593, 7.876567352356637, 7.876565403884903, 7.876563260319674, 7.876569042838693, 23.6966275628404, 6.8859138571810465, 6.885915196075725, 6.8859115248404, 6.885914401058654, 6.885911333426806, 6.885912614315706, 6.88591207975537, 6.885914065937627, 6.885899307212332, 6.885793074147734, 56.97870226006782, 14.768898719609606, 34.24708395456224, 15.79975588211507, 22.78981367433928, 235.4212201651137, 336.5292576895113, 42.36357240663783, 15.649988464513644, 28.705388764205168, 49.29227794965206, 257.6523398857628, 51.27695397206399, 332.67050455800523, 5656.634751670281, 109.71063116204412, 297.1813960557926, 509.3817072085735, 3488.470472260665, 2313.2131294190585, 371.8877712058437, 398.2178149278938, 259.70796082113327, 341.8794570354859, 592.2176954560201, 1095.1706434835519, 179.5943024583776, 157.83177891579658, 1259.9527826748836, 2673.163304513885, 2863.712165601665, 3665.2333062504918, 635.8678283077384, 1997.7885258016531, 678.5355967052427, 4300.407617188509, 1097.709205734249, 363.6130098262065, 1829.2951505009582, 838.8334968909629, 2307.4486428570417, 3875.8294365591128, 1197.25358248893, 1644.301980307488, 3406.9950718399778, 1136.8515492137506, 1951.03066670237, 1057.1961181875104, 2765.873014515797, 4544.8316342129865, 4957.736064869056, 1347.3032161279866, 2116.9580107787688, 1358.7568357270222, 1813.9229831240382, 1030.8682983672918, 1393.996826237403, 6697.786949849107, 1414.7152834732174, 3067.586069554291, 19.778445942510157, 17.794421866635478, 29.64133997743558, 17.79556832357819, 13.830091034546577, 12.838699117038106, 10.855916909346647, 10.855890883322937, 9.86452323658406, 9.864523733103963, 9.864521873004104, 21.663256607428178, 8.87313108836294, 8.873131529126747, 27.518033084753867, 27.496441932755012, 9.864384818512578, 7.881739707691679, 7.881738623542205, 7.8811212277055915, 7.881759964866039, 7.867229654156147, 28.71502332212983, 6.890347836194274, 6.890343410950877, 6.890344287200607, 6.890343751760406, 6.890342661986643, 6.890343801926686, 6.890344690085486, 40.42837688019129, 45.42511817649658, 40.2180159039741, 109.04441968424024, 341.87624480166136, 21.594126638349746, 34.750350677915684, 334.6415654786121, 76.03314347554614, 69.20817352094296, 12.845614083646424, 589.4316038379674, 336.5190264467782, 335.69286539805006, 417.68386883752606, 272.02335298389846, 727.4195455969701, 374.3961773975084, 45.81183805983836, 666.5287683246431, 78.35800673105153, 442.8627765549083, 368.3954420116758, 1144.9937024646379, 135.44244633585714, 215.45337656632248, 4957.736064869056, 915.5200621317464, 732.7615846387462, 550.4734815182024, 193.85149944560482, 4544.8316342129865, 564.7553505474413, 1206.9099731630672, 3875.8294365591128, 494.4293226146391, 384.79321071651515, 6697.786949849107, 3406.9950718399778, 1347.3032161279866, 2442.5932715347353, 1829.2951505009582, 1750.5038315535999, 3067.586069554291, 1378.4295304450725, 2327.7765306529254, 1996.703881829177, 1483.1925978856093, 2908.3255394575935, 2673.163304513885, 3665.2333062504918, 5656.634751670281, 1997.7885258016531, 4300.407617188509, 1633.667385346628, 1785.131935282392, 1758.7766389370147, 1136.8515492137506, 2430.387424008124, 44.423397540247315, 36.33957382835092, 25.214620550377873, 23.1918999290891, 61.48418585515539, 15.101023492484352, 15.100537998118956, 14.089665699231269, 14.089663758587548, 13.078305821332577, 53.04777568377134, 280.51500191299215, 11.052855418404505, 10.044226795127893, 10.044224283632227, 10.044212223429591, 9.03286789915005, 9.032865182310681, 9.03286159503392, 19.077548949603358, 57.744422509160756, 8.021508867962819, 8.02151001818514, 8.021067192227806, 29.210555872540166, 9.012402491234441, 8.015529266481245, 59.46806876022486, 7.010150266608632, 7.010149642969221, 99.03608637862783, 34.872516433767935, 178.43151570585363, 208.80489087013993, 115.25600280762258, 53.16616147728493, 106.20935215279181, 102.52934147900082, 293.20672176896045, 1567.8336881366195, 533.700509928395, 112.3648413940104, 913.5534757466319, 85.3158272417939, 574.9416941265112, 816.8303856604111, 677.3491354491093, 446.4397295506269, 152.51117981744272, 343.58270098060035, 684.1142235838101, 443.6940766260682, 342.13183320021955, 1633.667385346628, 2908.3255394575935, 1946.71096654796, 1421.3476330248452, 1709.7929939808596, 1785.131935282392, 407.67189474157146, 312.4399874964697, 3067.586069554291, 1280.2012985325746, 1775.868291437932, 2327.7765306529254, 2430.387424008124, 934.1343270696689, 1206.9099731630672, 4544.8316342129865, 942.5247446399425, 2288.94535842619, 2819.3371669169173, 1362.952637702295, 6697.786949849107, 2116.9580107787688, 1774.9632724471023, 2765.873014515797, 4957.736064869056, 2378.957595201441, 1813.9229831240382, 2442.5932715347353, 1758.7766389370147, 1996.703881829177, 3875.8294365591128, 72.2955722581401, 64.669883915371, 50.45715583107278, 21.87237712249066, 19.96961273634258, 18.066852841915047, 18.06685218650342, 16.164090824703752, 16.164090267377965, 16.164090952446635, 16.164091142133035, 18.072160600089624, 17.12023927648557, 15.212708229264413, 15.212710311459732, 18.075237932844935, 35.25014518936139, 44.67314702707314, 11.407186249374512, 34.110766912065934, 10.455804459578689, 10.45580451616053, 10.455122994335673, 9.504423650776554, 9.50442297061249, 9.504424618571605, 9.504422785473068, 9.504422113173066, 20.030918168438376, 20.01303205258933, 144.50024584323805, 139.17184600611125, 76.47209447243202, 71.69155113007376, 500.8224058489992, 282.118817598493, 37.87062591658595, 38.259680421829444, 413.6589732262666, 438.28953514926906, 125.43551559185826, 435.35684150979813, 42.50931644886963, 122.26382733843731, 77.20157720077478, 209.11100583299242, 175.00010524409163, 377.1561123877668, 203.38753314276863, 231.3986842178798, 6697.786949849107, 1774.9632724471023, 1464.013209673545, 2819.3371669169173, 1305.7096875726793, 202.49819365162253, 2556.4728327246253, 610.6908084125881, 1141.7440311911616, 267.98857691266824, 1775.868291437932, 2442.5932715347353, 1326.8925334094488, 916.6810294048652, 4957.736064869056, 2288.94535842619, 673.6244276635247, 1996.703881829177, 1424.4123980081104, 808.2573295384772, 1709.7929939808596, 2908.3255394575935, 2430.387424008124, 2765.873014515797, 1555.571531633709, 1946.71096654796, 3665.2333062504918, 2327.7765306529254, 3067.586069554291, 3875.8294365591128, 3406.9950718399778, 15.90938791250312, 11.917245591395577, 10.918393017770825, 10.919903617972563, 11.88671147252734, 7.926780320107298, 7.926780320107298, 7.926780320107298, 7.926780320107298, 7.926780320107298, 7.926774662411523, 6.928953288480438, 6.928952978211907, 6.928950749056961, 6.928953790355429, 6.928948973563979, 6.928948973563737, 6.928948973563569, 6.928948973563391, 6.928951564954433, 5.931126477642941, 5.931126513423706, 5.931124898614615, 5.931121749336469, 5.9311199071882, 5.931118304698759, 13.902622710193725, 4.93330044278284, 4.933299767902693, 4.933296403167716, 193.76439429894617, 19.63634131871125, 9.811092273932843, 353.66412680670436, 301.11471449364126, 70.95357081799816, 18.614426028935668, 334.0172770788926, 715.4263185292164, 546.2068838743332, 1049.672777244136, 206.19778619766393, 584.2342335047603, 25.526333996221496, 122.95787781301108, 321.9900142563918, 70.52074078525752, 42.56229663925536, 79.23828374558035, 640.5708609236643, 1300.3559540356785, 141.1346153057642, 575.5511830515509, 36.86962311736448, 2378.957595201441, 117.93003888426269, 99.78984385465697, 363.99012991607293, 4300.407617188509, 72.39425591109301, 393.80959595838044, 2556.4728327246253, 151.60905240379097, 98.80441454946246, 2863.712165601665, 1043.5228374955834, 2313.2131294190585, 1393.996826237403, 3488.470472260665, 2908.3255394575935, 3406.9950718399778, 1785.131935282392, 907.5466403774551, 2430.387424008124, 6697.786949849107, 3665.2333062504918, 1951.03066670237, 2819.3371669169173, 2765.873014515797, 5656.634751670281, 3875.8294365591128, 3067.586069554291, 67.56898174930178, 63.00548937784255, 62.09279057428231, 24.6721956934729, 19.195963803635085, 14.632470990156458, 11.894375344726072, 11.894376828005536, 11.89437703660878, 10.068981125721987, 10.068978429229096, 10.068980454671653, 9.156280045113903, 8.24358154977034, 8.243585014610826, 7.330884073137946, 6.418184683091468, 6.418184683091468, 6.418184683091468, 6.418184683091468, 6.418184683091468, 6.4181992100048975, 75.78982340372404, 11.979501327554477, 5.505487919878399, 5.505488942585265, 5.505488279347069, 5.505489710437451, 5.505491334916228, 5.505499402003782, 85.46421366565717, 17.471521743285304, 11.990568059650034, 11.997587596778288, 91.0045152482778, 13.801101441849264, 108.23559039675675, 114.07573976852888, 159.76065537011067, 16.448163174765607, 172.97349694522015, 145.6344283993584, 284.1579769298242, 48.24866339373169, 40.58602136105595, 631.5777735502455, 50.29293811975353, 48.89966928945512, 76.56563282891108, 225.66923147043667, 57.6257862671767, 60.87817594887636, 504.7743001540604, 203.5020927487629, 1299.0124252543976, 392.4515573940223, 670.9207239844003, 719.1336840116263, 482.6184781155074, 1111.4840788324973, 1030.3212442579738, 2556.4728327246253, 1758.7766389370147, 388.55064665878825, 6697.786949849107, 1483.1925978856093, 2378.957595201441, 3875.8294365591128, 1644.301980307488, 1414.7152834732174, 3406.9950718399778, 2307.4486428570417, 2116.9580107787688, 3488.470472260665, 4957.736064869056, 1332.0861849930973, 2313.2131294190585, 1144.9937024646379, 5656.634751670281, 668.1078032465897, 1555.571531633709, 4300.407617188509, 3665.2333062504918, 755.2395903678059, 93.53788952959991, 89.8706961512475, 65.11734654561552, 27.5289268663515, 14.693854724544666, 13.777064426582601, 13.77706555171183, 12.86027351639569, 12.860279220603005, 11.943483133035853, 11.026693808230274, 10.109902394329547, 9.19311048958484, 9.19311048958484, 9.19311048958484, 9.192974020057367, 17.440135579643997, 8.276581519972298, 16.49358521311951, 7.359529077929393, 7.359529178140438, 17.43782170226458, 6.442738343896261, 6.442738343896261, 6.442738343896261, 6.4427383498698045, 6.4427383498698045, 6.442738573031558, 6.44273889794412, 6.442738840280657, 97.58471616595914, 18.33544689747696, 27.85624997353613, 14.878644208943186, 11.937824368947565, 14.891626492546452, 13.755724036160991, 11.117727913900938, 863.7861173821225, 474.3427085564829, 24.13857680091469, 32.566313299283266, 27.3023123799437, 31.94548885728831, 23.09773169466466, 724.5963112957904, 404.439008043912, 21.49888622713522, 66.3891667593758, 218.1623299787203, 5656.634751670281, 4544.8316342129865, 668.1078032465897, 3488.470472260665, 205.34343363318538, 101.17859868963374, 732.7615846387462, 4300.407617188509, 2863.712165601665, 112.89169014601433, 2313.2131294190585, 1197.25358248893, 1057.1961181875104, 592.2176954560201, 1008.8298285657204, 6697.786949849107, 1043.5228374955834, 564.7553505474413, 1358.7568357270222, 4957.736064869056, 445.60208306351666, 1144.9937024646379, 3406.9950718399778, 749.597007134016, 829.0767301518872, 3665.2333062504918, 1996.703881829177, 2673.163304513885, 3875.8294365591128, 2430.387424008124, 16.014175709383608, 14.240977093212814, 13.354377476884206, 13.355041966174086, 12.467778093831862, 11.581179312744885, 9.80798175057094, 9.807987063039327, 8.921383103739815, 8.921384584073719, 8.034784457775768, 8.034785913485058, 16.124234934025097, 7.14818540731005, 7.148185802751246, 7.148186309040918, 6.261586626223044, 6.261586626223044, 6.261586626223044, 6.261586626223044, 6.261586626223044, 6.261586626223044, 6.261586626223044, 6.261586714680209, 5.374987925969895, 5.37498795917108, 5.374993685623476, 5.375001080849387, 6.285931497151912, 15.241985883794223, 23.590137571924398, 16.01123586201958, 23.442614044724344, 136.32196879840208, 20.579731838456034, 38.509856703736354, 26.242828657095313, 11.620394644009371, 46.05779561459115, 9.035305303828089, 71.52654973268896, 203.5020927487629, 202.97985542769888, 24.20952865737475, 406.428370223095, 151.09241572204567, 45.36014365091034, 82.67995375726136, 1057.1961181875104, 39.81377812800604, 32.48566595346831, 28.4545766474634, 724.5963112957904, 5656.634751670281, 2307.4486428570417, 1090.1609384951319, 563.7445553845617, 315.4502830215328, 699.2981374838902, 1206.9099731630672, 2765.873014515797, 725.6079185326645, 86.13196226628939, 719.1336840116263, 1750.5038315535999, 379.7729950334246, 1259.9527826748836, 1305.7096875726793, 548.8882539952954, 4957.736064869056, 1414.7152834732174, 2863.712165601665, 618.8766703025242, 6697.786949849107, 3875.8294365591128, 4544.8316342129865, 3406.9950718399778, 1464.013209673545, 2116.9580107787688, 941.2927863391463, 60.66993278221373, 56.34182050016267, 55.47619934648121, 54.61057536401367, 53.74495292957041, 49.416841027362565, 62.53531752663197, 10.463843268582707, 22.63896375511822, 63.58461211801264, 7.866974298370191, 69.70870493329816, 219.79405608568632, 5.270106293865193, 5.270107399813442, 5.270108462656248, 5.289608469835201, 4.404484330523585, 4.404486052047119, 4.404493758458316, 4.404499372773745, 4.4044960159404445, 4.40450163124111, 4.407008981391828, 20.410250301708807, 7.978395392125773, 12.441222991094081, 3.5388611060734063, 3.5388613218430183, 3.5388619199075473, 80.48525940849017, 67.28157660954605, 85.04553761715289, 268.36724480175667, 39.19987908460931, 105.82410566505395, 11.627941058255509, 104.49560533985338, 392.6815966756162, 109.88958870620273, 46.47302878504182, 161.4118495377591, 143.25982323618697, 504.7743001540604, 482.6184781155074, 413.6589732262666, 519.4598366800152, 1332.0861849930973, 203.38753314276863, 222.08821922653513, 1135.7142805350718, 1774.9632724471023, 387.3090711292322, 1141.7440311911616, 6697.786949849107, 1008.8298285657204, 673.6244276635247, 362.05066389464133, 755.2395903678059, 2430.387424008124, 2442.5932715347353, 816.8303856604111, 363.75795642491386, 2116.9580107787688, 773.3927434601401, 2819.3371669169173, 325.6147822826098, 834.3243244387882, 376.5470317099302, 2673.163304513885, 719.1336840116263, 9.002538967695928, 5.420075187153426, 4.524457936890546, 4.524463932288772, 4.524655532425812, 4.52462543206447, 8.074571382931634, 17.127133605674533, 3.628841948931676, 3.628842423140628, 3.6288426088372816, 3.62884300380776, 3.628842787908012, 3.6288453578267, 3.628845187831706, 3.6288485896383245, 3.6330409195877476, 13.706304571055181, 8.089996901358154, 6.374538242529516, 18.147574392989426, 6.335511930872954, 2.733225948147253, 2.7332261968584355, 2.7332261968584355, 2.7332261968584355, 2.7332261968584355, 2.7332262650821115, 2.733226372791081, 2.733226372791081, 5.411061150455773, 5.516225135884955, 8.322466209344554, 12.896253496398051, 9.160572948797528, 36.747570413191596, 779.6657425950243, 4.494471210774365, 7.382127024287127, 43.01435670080305, 163.78577635105648, 30.076848142244565, 167.29488665412256, 67.82202200831156, 2556.4728327246253, 24.018292180322035, 41.894587528684475, 445.60208306351666, 83.28165989321992, 1393.996826237403, 124.41210874056448, 268.7608790154768, 631.5777735502455, 507.86215552981906, 120.55942759664646, 732.8688103269156, 426.1396454094192, 362.05066389464133, 571.2981685787015, 543.0072730554201, 1043.5228374955834, 1951.03066670237, 416.4363116744424, 1758.7766389370147, 3665.2333062504918, 732.7615846387462, 2673.163304513885, 1095.1706434835519, 3488.470472260665, 3875.8294365591128, 1358.7568357270222, 730.2625602631726, 2313.2131294190585, 4957.736064869056, 325.6147822826098, 1144.9937024646379, 3406.9950718399778, 6697.786949849107, 2863.712165601665, 2288.94535842619, 1644.301980307488, 1079.9559900977133, 1299.0124252543976], \"loglift\": [30.0, 29.0, 28.0, 27.0, 26.0, 25.0, 24.0, 23.0, 22.0, 21.0, 20.0, 19.0, 18.0, 17.0, 16.0, 15.0, 14.0, 13.0, 12.0, 11.0, 10.0, 9.0, 8.0, 7.0, 6.0, 5.0, 4.0, 3.0, 2.0, 1.0, 1.3815, 1.3575, 1.3444, 1.344, 1.3385, 1.3315, 1.3315, 1.323, 1.3204, 1.3152, 1.3128, 1.3124, 1.3075, 1.3035, 1.2992, 1.2992, 1.2992, 1.2992, 1.299, 1.2891, 1.2818, 1.2818, 1.2818, 1.2818, 1.2818, 1.2818, 1.2818, 1.2818, 1.2817, 1.2816, 1.2732, 1.2724, 1.2553, 1.2707, 1.248, 1.1551, 1.1346, 1.2145, 1.2531, 1.2271, 1.2052, 1.1017, 1.194, 1.0673, 0.8661, 1.128, 1.057, 1.0081, 0.834, 0.8344, 0.9983, 0.9906, 1.0178, 0.9891, 0.9221, 0.8497, 1.0328, 1.0469, 0.7946, 0.679, 0.6601, 0.6197, 0.8473, 0.679, 0.8243, 0.5437, 0.7275, 0.9028, 0.623, 0.7372, 0.5262, 0.3999, 0.6421, 0.5555, 0.3654, 0.6387, 0.4566, 0.6476, 0.3181, 0.1383, 0.0668, 0.5218, 0.3363, 0.4976, 0.3453, 0.5995, 0.4088, -0.593, 0.3422, -0.4128, 1.6934, 1.6879, 1.6873, 1.6811, 1.6741, 1.669, 1.6561, 1.6561, 1.6476, 1.6476, 1.6476, 1.6429, 1.6371, 1.6371, 1.6363, 1.6358, 1.6268, 1.6238, 1.6238, 1.6227, 1.6194, 1.6093, 1.607, 1.6065, 1.6065, 1.6065, 1.6065, 1.6064, 1.6064, 1.6064, 1.6054, 1.5986, 1.5971, 1.5379, 1.5028, 1.5678, 1.5381, 1.3716, 1.4536, 1.4313, 1.5755, 1.1805, 1.2354, 1.2228, 1.1836, 1.2319, 1.109, 1.1819, 1.4423, 1.0555, 1.3663, 1.089, 1.1066, 0.9104, 1.2601, 1.1554, 0.4852, 0.8374, 0.8698, 0.9185, 1.1572, 0.3865, 0.87, 0.6554, 0.3477, 0.8774, 0.941, 0.0748, 0.2437, 0.5384, 0.3424, 0.3997, 0.3935, 0.1829, 0.474, 0.256, 0.3184, 0.4288, 0.0803, 0.1204, -0.0598, -0.3306, 0.19, -0.2863, 0.2972, 0.2043, 0.1607, 0.5117, -0.1745, 1.7235, 1.7207, 1.7102, 1.7072, 1.7022, 1.6868, 1.6865, 1.6826, 1.6826, 1.6776, 1.6714, 1.6657, 1.6624, 1.6567, 1.6566, 1.6566, 1.6464, 1.6464, 1.6464, 1.6429, 1.6346, 1.6333, 1.6333, 1.6329, 1.6243, 1.6227, 1.6199, 1.618, 1.6163, 1.6163, 1.6035, 1.6072, 1.5856, 1.5678, 1.528, 1.5479, 1.4923, 1.4933, 1.4155, 1.2977, 1.3729, 1.4741, 1.2734, 1.4838, 1.3001, 1.2437, 1.2629, 1.3002, 1.4158, 1.3018, 1.2101, 1.2589, 1.2854, 1.0234, 0.8972, 0.9566, 1.0107, 0.9751, 0.9406, 1.2191, 1.2746, 0.775, 0.9612, 0.873, 0.807, 0.7555, 0.9964, 0.9128, 0.5545, 0.9658, 0.6691, 0.5826, 0.817, 0.124, 0.6031, 0.6351, 0.3855, 0.0589, 0.3522, 0.4938, 0.2438, 0.4422, 0.3287, -0.4212, 2.125, 2.1199, 2.098, 2.0973, 2.0935, 2.0888, 2.0888, 2.083, 2.083, 2.083, 2.083, 2.081, 2.0806, 2.0795, 2.0795, 2.0783, 2.0687, 2.0632, 2.0596, 2.0569, 2.0523, 2.0523, 2.0506, 2.0435, 2.0435, 2.0435, 2.0435, 2.0435, 2.0382, 2.0358, 2.0111, 2.0037, 1.9936, 1.9928, 1.9327, 1.9332, 1.9958, 1.9609, 1.7193, 1.6767, 1.8199, 1.5905, 1.9349, 1.7654, 1.8105, 1.6263, 1.6485, 1.4985, 1.5768, 1.5411, 0.7564, 1.0456, 1.0617, 0.88, 1.0671, 1.4978, 0.7161, 1.1442, 0.9214, 1.3925, 0.7326, 0.5497, 0.7516, 0.8741, 0.1387, 0.4251, 0.9747, 0.4292, 0.5759, 0.8232, 0.4171, 0.1115, 0.1971, 0.078, 0.3514, 0.195, -0.2551, 0.0364, -0.174, -0.4383, -0.3632, 2.2824, 2.253, 2.2527, 2.2511, 2.2368, 2.2245, 2.2245, 2.2245, 2.2245, 2.2245, 2.2245, 2.2072, 2.2072, 2.2072, 2.2072, 2.2072, 2.2072, 2.2072, 2.2072, 2.2072, 2.1837, 2.1837, 2.1837, 2.1837, 2.1837, 2.1837, 2.15, 2.1496, 2.1496, 2.1496, 2.1182, 2.1353, 2.1427, 2.038, 2.0175, 2.0497, 2.1211, 1.9272, 1.8723, 1.8789, 1.817, 1.9237, 1.7896, 2.0698, 1.8672, 1.7412, 1.898, 1.9645, 1.8723, 1.5744, 1.378, 1.7289, 1.474, 1.9528, 1.1631, 1.71, 1.7391, 1.4434, 0.8726, 1.7991, 1.3467, 0.8246, 1.5743, 1.6879, 0.5256, 0.8639, 0.574, 0.7496, 0.3946, 0.3786, 0.3124, 0.5692, 0.838, 0.4082, -0.1696, 0.0273, 0.311, 0.0469, -0.0596, -0.6117, -0.3691, -0.2225, 2.7179, 2.7169, 2.7167, 2.6954, 2.6852, 2.6706, 2.6563, 2.6563, 2.6563, 2.6423, 2.6423, 2.6423, 2.633, 2.6216, 2.6216, 2.6072, 2.5883, 2.5883, 2.5883, 2.5883, 2.5883, 2.5883, 2.5729, 2.5629, 2.5627, 2.5627, 2.5627, 2.5627, 2.5627, 2.5627, 2.5489, 2.5438, 2.5418, 2.5318, 2.4244, 2.4991, 2.33, 2.3192, 2.2743, 2.4847, 2.1697, 2.1812, 2.0319, 2.3052, 2.3209, 1.7236, 2.2182, 2.2015, 2.0768, 1.7505, 2.1144, 2.077, 1.3862, 1.6773, 0.973, 1.3261, 1.1066, 1.0368, 1.1751, 0.8021, 0.7987, 0.3767, 0.5409, 1.2335, -0.1658, 0.5728, 0.2734, -0.0286, 0.3579, 0.4347, -0.1696, 0.0863, 0.1292, -0.254, -0.5792, 0.4131, -0.0241, 0.486, -0.7959, 0.9005, 0.2015, -0.703, -0.5794, 0.7676, 3.0879, 3.0876, 3.0839, 3.0657, 3.0375, 3.0334, 3.0334, 3.0287, 3.0287, 3.0232, 3.0168, 3.0092, 3.0, 3.0, 3.0, 2.9995, 2.9905, 2.9882, 2.9785, 2.9743, 2.9743, 2.9569, 2.9555, 2.9555, 2.9555, 2.9555, 2.9555, 2.9555, 2.9555, 2.9555, 2.9046, 2.9365, 2.8572, 2.8829, 2.9023, 2.875, 2.877, 2.8909, 2.339, 2.3995, 2.79, 2.7292, 2.7586, 2.7191, 2.7714, 1.8923, 2.0439, 2.7848, 2.4708, 2.1286, 0.4297, 0.4735, 1.2693, 0.4958, 1.7163, 2.0419, 1.0673, 0.144, 0.2381, 1.9446, 0.3107, 0.6453, 0.6804, 1.0011, 0.6912, -0.4024, 0.6078, 0.9769, 0.4333, -0.4487, 1.0911, 0.4709, -0.2957, 0.7472, 0.5948, -0.6703, -0.1573, -0.4292, -0.8007, -0.3844, 3.4281, 3.4211, 3.4169, 3.4164, 3.412, 3.4064, 3.3919, 3.3919, 3.3824, 3.3824, 3.3706, 3.3706, 3.3563, 3.3558, 3.3558, 3.3558, 3.3364, 3.3364, 3.3364, 3.3364, 3.3364, 3.3364, 3.3364, 3.3364, 3.31, 3.31, 3.31, 3.31, 3.296, 3.2847, 3.2133, 3.2354, 3.2009, 3.0191, 3.1844, 3.0297, 3.0933, 3.2223, 2.9376, 3.2503, 2.7388, 2.4301, 2.368, 2.9623, 2.0245, 2.335, 2.7398, 2.5083, 1.564, 2.7705, 2.8318, 2.8792, 1.4349, 0.5078, 0.8946, 1.0761, 1.3775, 1.6659, 1.2023, 0.8579, 0.3663, 1.0397, 2.3097, 1.0234, 0.3978, 1.3536, 0.5728, 0.5453, 1.0904, -0.3833, 0.4053, -0.0831, 0.9651, -0.7753, -0.4495, -0.6384, -0.4287, 0.2242, -0.1446, 0.5719, 3.5971, 3.596, 3.5957, 3.5955, 3.5952, 3.5938, 3.5731, 3.526, 3.5212, 3.5026, 3.4961, 3.4849, 3.4601, 3.4341, 3.4341, 3.4341, 3.3994, 3.3953, 3.3953, 3.3953, 3.3953, 3.3953, 3.3953, 3.3898, 3.3811, 3.3662, 3.3567, 3.3346, 3.3346, 3.3345, 3.3303, 3.3282, 3.3183, 3.2771, 3.2283, 3.129, 3.3138, 3.0766, 2.8749, 2.9869, 3.0759, 2.7929, 2.8009, 2.5155, 2.473, 2.4683, 2.3218, 2.0342, 2.5374, 2.482, 1.8383, 1.44, 2.1521, 1.4607, 0.2688, 1.4649, 1.6859, 2.1017, 1.5207, 0.5868, 0.5701, 1.4384, 2.08, 0.623, 1.4496, 0.3664, 2.1573, 1.3202, 2.0072, 0.1185, 1.3373, 3.6812, 3.6095, 3.5719, 3.5719, 3.5714, 3.5714, 3.5305, 3.5208, 3.5129, 3.5129, 3.5129, 3.5129, 3.5129, 3.5129, 3.5129, 3.5128, 3.4871, 3.4767, 3.449, 3.4364, 3.4339, 3.4215, 3.4068, 3.4068, 3.4068, 3.4068, 3.4068, 3.4068, 3.4068, 3.4068, 3.3929, 3.3708, 3.3178, 3.2053, 3.2087, 2.9137, 2.1677, 3.2989, 3.1874, 2.7273, 2.3612, 2.8185, 2.2282, 2.5254, 1.2797, 2.861, 2.6506, 1.797, 2.3896, 1.3412, 2.2122, 1.9095, 1.4821, 1.5455, 2.1483, 1.3113, 1.5455, 1.6166, 1.3778, 1.3884, 1.0716, 0.7063, 1.4776, 0.7186, 0.3083, 1.1532, 0.3603, 0.8479, 0.1519, 0.0102, 0.6262, 1.0149, 0.2139, -0.2919, 1.4909, 0.5418, -0.3094, -0.8414, -0.1957, -0.0115, 0.1852, 0.5361, 0.3527], \"logprob\": [30.0, 29.0, 28.0, 27.0, 26.0, 25.0, 24.0, 23.0, 22.0, 21.0, 20.0, 19.0, 18.0, 17.0, 16.0, 15.0, 14.0, 13.0, 12.0, 11.0, 10.0, 9.0, 8.0, 7.0, 6.0, 5.0, 4.0, 3.0, 2.0, 1.0, -7.9858, -8.9025, -9.124, -9.1245, -9.2103, -9.3047, -9.3047, -9.4089, -8.671, -9.3223, -8.6285, -9.5254, -8.5949, -8.3259, -9.6571, -9.6571, -9.6571, -9.6571, -9.6573, -8.5657, -9.8089, -9.8089, -9.8089, -9.8089, -9.8089, -9.8089, -9.8089, -9.8089, -9.809, -9.8092, -7.7043, -9.0553, -8.2312, -8.9894, -8.6458, -6.4037, -6.0669, -8.0594, -9.0166, -8.436, -7.9172, -6.3669, -7.889, -6.1457, -3.5135, -7.1943, -6.2688, -5.7789, -4.029, -4.4394, -6.1033, -6.0426, -6.4428, -6.1966, -5.7142, -5.1718, -6.7967, -6.9117, -5.0867, -4.4502, -4.4002, -4.1938, -5.7179, -4.7414, -5.6759, -4.11, -5.2917, -6.2213, -4.8855, -5.551, -4.75, -4.3578, -5.2903, -5.0596, -4.5212, -5.3455, -4.9875, -5.4092, -4.777, -4.4602, -4.4447, -5.2925, -5.0261, -5.3083, -5.1717, -5.4826, -5.3714, -4.8037, -5.4233, -5.4043, -8.3422, -8.4534, -7.9437, -8.4601, -8.7193, -8.7987, -8.9793, -8.9794, -9.0836, -9.0836, -9.0837, -8.3017, -9.2, -9.2, -8.069, -8.0704, -9.1044, -9.3318, -9.3318, -9.333, -9.3362, -9.3482, -8.0557, -9.4836, -9.4836, -9.4836, -9.4836, -9.4836, -9.4836, -9.4836, -7.7152, -7.6055, -7.7287, -6.7905, -5.6829, -8.3799, -7.9339, -5.8355, -7.2354, -7.3518, -8.8917, -5.4605, -5.9661, -5.9812, -5.8018, -6.1824, -5.3216, -5.9129, -7.7533, -5.4626, -7.2926, -5.838, -6.0044, -5.0666, -6.8515, -6.4921, -4.0262, -5.3633, -5.5536, -5.7909, -6.5959, -4.212, -5.8138, -5.2689, -4.41, -5.9393, -6.1265, -4.1359, -4.6429, -5.276, -4.877, -5.1088, -5.1591, -4.8086, -5.3174, -5.0116, -5.1025, -5.2894, -4.9646, -5.0088, -4.8733, -4.7102, -5.2303, -4.94, -5.3244, -5.3287, -5.3871, -5.4724, -5.3988, -7.5029, -7.7066, -8.0826, -8.1692, -7.1992, -8.6186, -8.619, -8.6922, -8.6922, -8.7716, -7.3776, -5.7178, -8.9551, -9.0565, -9.0565, -9.0565, -9.1729, -9.1729, -9.1729, -8.4288, -7.3296, -9.3047, -9.3047, -9.3052, -8.0213, -9.1989, -9.3188, -7.3167, -9.4565, -9.4565, -6.8212, -7.8612, -6.2504, -6.111, -6.745, -7.4989, -6.8625, -6.8968, -5.9238, -4.3651, -5.3674, -6.8243, -4.9294, -7.09, -5.3658, -5.0711, -5.2391, -5.6187, -6.5771, -5.879, -5.2819, -5.6661, -5.8996, -4.5982, -4.1476, -4.4897, -4.7501, -4.6009, -4.5923, -5.7907, -6.0012, -4.2166, -4.9042, -4.6651, -4.4605, -4.4688, -5.1841, -5.0116, -4.0439, -5.2059, -4.6152, -4.4933, -4.9857, -4.0867, -4.7594, -4.9036, -4.7095, -4.4526, -4.8936, -5.0231, -4.9756, -5.1056, -5.0922, -5.1789, -6.6144, -6.731, -7.0011, -7.8376, -7.9325, -8.0373, -8.0373, -8.1544, -8.1544, -8.1544, -8.1544, -8.0448, -8.0993, -8.2185, -8.2185, -8.0473, -7.389, -7.1576, -8.5263, -7.4337, -8.6207, -8.6207, -8.6224, -8.7249, -8.7249, -8.7249, -8.7249, -8.725, -7.9847, -7.988, -6.0358, -6.0807, -6.6897, -6.755, -4.8712, -5.4446, -7.3902, -7.4149, -5.2759, -5.2605, -6.3685, -5.3535, -7.3355, -6.4486, -6.8633, -6.051, -6.2069, -5.5891, -6.1282, -6.0349, -3.4543, -4.4931, -4.6695, -4.196, -4.7785, -6.2117, -4.4577, -5.4613, -5.0585, -6.0368, -4.8056, -4.6697, -5.078, -5.3253, -4.3727, -4.8593, -5.5328, -4.9917, -5.1828, -5.5021, -5.159, -4.9333, -5.0273, -5.0171, -5.3192, -5.2513, -5.0686, -5.2311, -5.1655, -5.196, -5.2498, -7.9708, -8.2892, -8.377, -8.3785, -8.308, -8.7254, -8.7254, -8.7254, -8.7254, -8.7254, -8.7254, -8.8772, -8.8772, -8.8772, -8.8772, -8.8772, -8.8772, -8.8772, -8.8772, -8.8772, -9.0563, -9.0563, -9.0563, -9.0563, -9.0563, -9.0563, -8.2381, -9.2745, -9.2745, -9.2745, -5.6353, -7.9075, -8.594, -5.1139, -5.2952, -6.7084, -7.9751, -5.2818, -4.575, -4.8383, -4.2469, -5.7676, -4.8603, -7.7106, -6.3412, -5.5045, -6.8663, -7.3047, -6.7754, -4.9834, -4.4718, -6.3415, -5.1908, -7.4599, -4.0827, -6.5401, -6.678, -5.6796, -3.7811, -6.9389, -5.6976, -4.3492, -6.4246, -6.7392, -4.5347, -5.2059, -4.6998, -5.0307, -4.4684, -4.6662, -4.5742, -4.9638, -5.3714, -4.8162, -4.3802, -4.7862, -5.133, -5.029, -5.1547, -4.9913, -5.1267, -5.214, -6.0892, -6.16, -6.1748, -7.1191, -7.3803, -7.6663, -7.8878, -7.8878, -7.8878, -8.0685, -8.0685, -8.0685, -8.1727, -8.2891, -8.2891, -8.4209, -8.5727, -8.5727, -8.5727, -8.5727, -8.5727, -8.5727, -6.1193, -7.974, -8.7517, -8.7518, -8.7518, -8.7518, -8.7518, -8.7518, -6.0232, -7.6158, -7.9943, -8.0037, -6.0848, -7.8963, -6.0058, -5.9641, -5.6722, -7.7353, -5.6974, -5.8578, -5.3388, -6.8386, -6.9958, -4.8484, -6.8841, -6.9289, -6.6053, -5.8506, -6.8518, -6.8343, -5.4099, -6.0272, -4.8778, -5.7216, -5.4049, -5.4053, -5.6658, -5.2046, -5.2839, -4.7971, -5.0069, -5.8242, -4.3764, -5.1454, -4.9723, -4.7863, -5.2572, -5.3308, -5.0562, -5.19, -5.2332, -5.117, -5.0907, -5.4126, -5.2979, -5.491, -5.1755, -5.6153, -5.469, -5.3567, -5.393, -5.6255, -5.3939, -5.4342, -5.7601, -6.6392, -7.2953, -7.3638, -7.3638, -7.4374, -7.4374, -7.5168, -7.603, -7.6974, -7.8017, -7.8017, -7.8017, -7.8022, -7.1709, -7.9186, -7.2387, -8.0499, -8.0499, -7.2046, -8.2017, -8.2017, -8.2017, -8.2017, -8.2017, -8.2017, -8.2017, -8.2017, -5.5349, -7.1748, -6.8359, -7.4374, -7.6382, -7.4444, -7.5217, -7.7207, -3.9198, -4.4588, -7.0464, -6.8077, -6.9546, -6.837, -7.1091, -4.5422, -4.9737, -7.1674, -6.3539, -5.5064, -3.9499, -4.125, -5.2465, -4.3672, -5.9792, -6.3613, -5.3561, -4.5098, -4.8222, -6.3491, -4.9631, -5.2871, -5.3764, -5.6352, -5.4124, -4.6131, -5.462, -5.7069, -5.3726, -4.9601, -5.8296, -5.5061, -5.1823, -5.6534, -5.7051, -5.4838, -5.5782, -5.5584, -5.5584, -5.6088, -6.8186, -6.9429, -7.0115, -7.0119, -7.085, -7.1644, -7.3451, -7.3451, -7.4494, -7.4494, -7.5658, -7.5658, -6.8835, -7.6975, -7.6975, -7.6975, -7.8493, -7.8493, -7.8493, -7.8493, -7.8493, -7.8493, -7.8493, -7.8493, -8.0284, -8.0284, -8.0284, -8.0284, -7.8859, -7.0115, -6.6461, -7.0115, -6.6647, -5.0861, -6.8115, -6.3396, -6.6595, -7.3451, -6.2526, -7.5688, -6.0113, -5.2744, -5.3391, -6.8712, -4.9882, -5.6673, -6.4657, -6.0969, -4.4928, -6.5655, -6.7076, -6.7927, -4.9996, -3.8718, -4.3817, -4.95, -5.308, -5.6003, -5.2678, -5.0665, -4.7288, -5.3934, -6.2546, -5.4187, -5.1547, -5.727, -5.3085, -5.3004, -5.6219, -4.8947, -5.3602, -5.1434, -5.6272, -4.9859, -5.2071, -5.2368, -5.3153, -5.5071, -5.507, -5.601, -5.3177, -5.3928, -5.4085, -5.4245, -5.4407, -5.5261, -5.3114, -7.1463, -6.3793, -5.3652, -7.4614, -5.2909, -4.1674, -7.924, -7.924, -7.924, -7.955, -8.1422, -8.1422, -8.1423, -8.1423, -8.1423, -8.1423, -8.1472, -6.6231, -7.5772, -7.1425, -8.4218, -8.4218, -8.4218, -5.3018, -5.4831, -5.2586, -4.1507, -6.1232, -5.2294, -7.2529, -5.2944, -4.1723, -5.3338, -6.1054, -5.1433, -5.2546, -4.2805, -4.3679, -4.5269, -4.4455, -3.7915, -5.1677, -5.1351, -4.1468, -4.0986, -4.9088, -4.5191, -3.9419, -4.6387, -4.8216, -5.0267, -4.8724, -4.6375, -4.6493, -4.8763, -5.0437, -4.7394, -4.9198, -4.7095, -5.0771, -4.9734, -5.0819, -5.0107, -5.1049, -7.1415, -7.7205, -7.9388, -7.9388, -7.9392, -7.9392, -7.4009, -6.6587, -8.2184, -8.2184, -8.2184, -8.2184, -8.2184, -8.2184, -8.2184, -8.2184, -8.243, -6.9257, -7.4806, -7.7315, -6.6877, -7.7525, -8.6078, -8.6078, -8.6078, -8.6078, -8.6078, -8.6078, -8.6078, -8.6078, -7.9388, -7.9417, -7.5834, -7.2579, -7.5966, -6.5024, -4.1936, -8.2184, -7.8337, -6.5314, -5.5604, -6.7979, -5.6722, -6.2779, -3.8941, -6.9803, -6.6344, -5.1237, -6.2084, -4.4391, -5.9844, -5.5168, -5.0898, -5.2445, -6.0797, -5.1119, -5.4199, -5.5118, -5.2944, -5.3346, -4.9983, -4.7377, -5.5108, -4.8292, -4.5052, -5.2701, -4.7688, -5.1736, -4.711, -4.7474, -5.1796, -5.4119, -5.0599, -4.8034, -5.7436, -5.4353, -5.196, -5.052, -5.256, -5.2958, -5.4299, -5.4994, -5.4981]}, \"token.table\": {\"Topic\": [1, 2, 4, 6, 8, 9, 10, 1, 1, 2, 3, 4, 5, 6, 7, 8, 9, 10, 1, 1, 2, 3, 5, 7, 8, 10, 1, 2, 3, 4, 5, 7, 9, 10, 1, 1, 6, 10, 1, 3, 6, 8, 9, 7, 1, 4, 5, 6, 7, 8, 1, 2, 3, 4, 5, 6, 7, 8, 9, 1, 2, 3, 4, 5, 6, 7, 8, 9, 7, 5, 4, 1, 2, 5, 6, 9, 4, 6, 9, 3, 1, 2, 3, 4, 5, 6, 7, 8, 9, 10, 2, 4, 1, 2, 3, 4, 5, 6, 7, 8, 9, 10, 4, 5, 6, 8, 1, 2, 3, 4, 5, 6, 7, 8, 5, 9, 2, 3, 4, 6, 10, 2, 9, 8, 3, 1, 3, 1, 2, 3, 4, 5, 6, 7, 8, 9, 10, 4, 6, 1, 2, 3, 4, 5, 6, 7, 8, 9, 10, 9, 10, 8, 1, 2, 3, 5, 6, 1, 3, 9, 2, 6, 1, 2, 3, 4, 5, 6, 7, 8, 9, 10, 1, 2, 3, 4, 5, 6, 7, 8, 9, 10, 1, 2, 3, 4, 5, 6, 7, 8, 10, 1, 1, 2, 3, 4, 5, 6, 7, 8, 9, 10, 5, 2, 5, 1, 2, 3, 4, 5, 6, 7, 8, 9, 10, 1, 2, 3, 4, 5, 6, 7, 8, 10, 1, 2, 3, 4, 5, 6, 7, 8, 9, 10, 1, 2, 3, 4, 5, 6, 7, 8, 9, 10, 1, 2, 3, 4, 6, 7, 8, 10, 1, 2, 3, 4, 5, 6, 7, 8, 9, 10, 5, 7, 8, 1, 2, 3, 5, 6, 7, 8, 1, 2, 3, 4, 5, 6, 7, 8, 9, 9, 6, 7, 1, 2, 3, 4, 5, 6, 7, 8, 9, 10, 7, 1, 3, 5, 7, 7, 8, 2, 5, 8, 1, 2, 3, 4, 5, 6, 7, 9, 10, 1, 2, 3, 4, 5, 3, 4, 9, 6, 2, 4, 5, 6, 7, 8, 9, 10, 1, 2, 3, 4, 5, 6, 7, 8, 9, 10, 1, 2, 3, 4, 5, 6, 7, 8, 10, 1, 7, 8, 8, 1, 2, 3, 4, 5, 6, 7, 8, 9, 1, 2, 3, 4, 5, 6, 7, 8, 9, 1, 2, 4, 6, 7, 10, 1, 2, 3, 4, 5, 6, 7, 9, 10, 6, 1, 8, 10, 5, 1, 6, 1, 2, 3, 4, 5, 6, 7, 9, 2, 1, 3, 1, 2, 4, 6, 7, 8, 1, 7, 1, 2, 3, 4, 5, 6, 7, 8, 10, 3, 1, 2, 3, 4, 5, 6, 7, 8, 9, 10, 1, 2, 3, 5, 6, 7, 8, 10, 10, 2, 3, 4, 5, 7, 1, 4, 6, 8, 1, 2, 3, 4, 5, 6, 7, 8, 10, 3, 8, 9, 7, 9, 10, 7, 9, 1, 2, 3, 4, 5, 6, 7, 8, 9, 10, 2, 4, 1, 2, 4, 5, 6, 7, 8, 1, 7, 1, 2, 3, 4, 5, 6, 7, 8, 9, 10, 1, 2, 3, 4, 5, 6, 7, 8, 9, 10, 1, 2, 3, 4, 5, 6, 7, 8, 9, 10, 7, 7, 6, 1, 2, 3, 4, 5, 6, 7, 8, 9, 10, 7, 1, 2, 3, 4, 5, 6, 7, 8, 9, 10, 1, 2, 3, 4, 5, 6, 7, 8, 1, 1, 2, 3, 4, 5, 6, 7, 8, 9, 10, 1, 2, 5, 6, 10, 9, 2, 4, 5, 6, 7, 8, 9, 4, 7, 9, 10, 9, 2, 4, 5, 10, 6, 7, 5, 2, 3, 4, 5, 7, 9, 1, 5, 6, 8, 2, 3, 6, 7, 2, 1, 2, 3, 4, 5, 6, 7, 8, 9, 10, 1, 2, 3, 4, 5, 6, 7, 8, 10, 4, 2, 4, 6, 1, 1, 2, 3, 4, 5, 6, 8, 9, 4, 9, 3, 9, 2, 9, 1, 2, 3, 4, 5, 6, 7, 8, 9, 10, 1, 2, 3, 4, 5, 6, 8, 1, 2, 3, 4, 5, 6, 7, 8, 8, 5, 1, 2, 4, 5, 6, 7, 8, 9, 10, 8, 5, 1, 4, 5, 3, 3, 4, 4, 10, 2, 8, 6, 5, 6, 10, 6, 9, 10, 1, 4, 1, 2, 3, 4, 5, 6, 7, 9, 10, 2, 4, 10, 1, 2, 3, 4, 5, 6, 7, 8, 10, 1, 2, 3, 4, 5, 6, 7, 8, 10, 4, 8, 1, 2, 3, 4, 5, 6, 10, 1, 2, 3, 4, 5, 6, 7, 8, 9, 10, 7, 8, 10, 1, 2, 3, 4, 5, 6, 7, 8, 9, 10, 1, 2, 3, 5, 6, 7, 8, 5, 1, 2, 3, 4, 5, 6, 7, 8, 9, 10, 1, 2, 3, 4, 5, 6, 7, 8, 9, 10, 5, 6, 1, 2, 3, 5, 6, 8, 1, 2, 3, 4, 5, 6, 8, 9, 10, 1, 2, 3, 4, 5, 6, 7, 8, 9, 10, 1, 2, 3, 4, 5, 6, 10, 1, 5, 7, 1, 2, 3, 4, 5, 6, 7, 8, 9, 10, 7, 1, 2, 4, 5, 6, 7, 10, 2, 7, 4, 4, 6, 5, 1, 2, 3, 4, 6, 5, 3, 1, 2, 3, 4, 5, 6, 7, 8, 9, 10, 2, 1, 2, 3, 4, 5, 6, 7, 9, 10, 5, 6, 10, 1, 10, 1, 2, 3, 4, 5, 6, 7, 8, 10, 10, 7, 8, 2, 3, 9, 1, 2, 3, 4, 5, 6, 7, 8, 10, 1, 2, 4, 6, 10, 1, 2, 3, 4, 5, 6, 8, 10, 4, 1, 2, 3, 4, 6, 7, 8, 9, 7, 1, 2, 4, 7, 8, 5, 6, 5, 2, 4, 1, 2, 3, 4, 5, 6, 7, 8, 9, 10, 1, 4, 5, 7, 9, 10, 3, 5, 8, 9, 1, 2, 3, 4, 5, 6, 7, 8, 10, 2, 4, 9, 6, 5, 1, 2, 3, 4, 5, 6, 7, 9, 10, 5, 6, 10, 1, 2, 3, 4, 5, 6, 7, 8, 9, 10, 1, 2, 3, 4, 5, 6, 7, 8, 9, 10, 1, 2, 4, 5, 6, 7, 10, 1, 1, 2, 3, 4, 5, 6, 7, 8, 9, 10, 1, 3, 4, 5, 7, 8, 3, 4, 6, 1, 1, 2, 3, 4, 5, 6, 7, 8, 9, 10, 1, 2, 5, 6, 10, 10, 1, 2, 4, 5, 6, 7, 8, 10, 1, 2, 3, 4, 5, 6, 7, 8, 9, 10, 1, 2, 3, 4, 5, 6, 7, 8, 10, 1, 6, 9, 1, 2, 3, 4, 5, 6, 7, 10, 1, 7, 8, 10, 8, 1, 5, 1, 4, 3, 3, 9, 3, 10, 1, 2, 3, 4, 5, 6, 7, 8, 9, 1, 6, 7, 1, 2, 3, 4, 5, 6, 7, 8, 9, 10, 2, 9, 3, 1, 2, 3, 4, 5, 6, 7, 9, 10, 1, 2, 3, 4, 5, 6, 7, 8, 10, 1, 2, 3, 4, 5, 6, 7, 8, 9, 10, 4, 7, 1, 2, 5, 6, 7, 8, 9, 2, 3, 6, 7, 6, 7, 10, 1, 2, 3, 5, 6, 7, 8, 9, 1, 3, 5, 6, 10, 1, 2, 3, 4, 5, 6, 7, 8, 9, 10, 6, 10, 6, 7, 1, 4, 1, 2, 3, 4, 5, 6, 7, 9, 10, 1, 2, 3, 4, 5, 6, 7, 8, 9, 10, 1, 2, 3, 4, 5, 1, 4, 8, 9, 10, 1, 3, 4, 6, 7, 10, 3, 7, 4, 1, 4, 1, 2, 3, 4, 5, 6, 7, 8, 9, 10, 1, 5, 7, 8, 9, 1, 6, 7, 8, 1, 2, 3, 4, 5, 6, 7, 8, 9, 10, 1, 2, 3, 4, 6, 7, 8, 9, 10, 5, 1, 2, 3, 4, 5, 6, 7, 8, 9, 10, 1, 7, 5, 7, 1, 5, 6, 7, 8, 10, 1, 4, 7, 10, 9, 3, 6, 8, 1, 3, 4, 5, 6, 8, 9, 10, 1, 5, 6, 7, 8, 9, 5, 6, 2, 4, 2, 6, 10, 9, 1, 2, 3, 4, 5, 6, 7, 8, 9, 10, 6, 1, 5, 6, 8, 1, 5, 6, 10, 1, 2, 3, 4, 5, 6, 7, 10, 1, 2, 3, 4, 5, 6, 7, 8, 9, 10, 1, 2, 3, 5, 6, 7, 8, 10, 4, 9, 1, 2, 6, 7, 1, 2, 5, 7, 8, 9, 1, 2, 4, 9, 10, 1, 2, 3, 4, 5, 6, 7, 8, 9, 10, 1, 7, 10, 3, 3, 1, 2, 3, 4, 5, 6, 8, 9, 10, 1, 5, 6, 7, 10, 1, 2, 3, 4, 5, 6, 7, 8, 9, 10, 1, 2, 4, 6, 7, 10, 1, 2, 3, 4, 5, 6, 7, 8, 9, 10, 1, 1, 2, 3, 4, 5, 6, 8, 9, 10, 1, 2, 3, 4, 5, 1, 2, 3, 4, 5, 6, 7, 8, 10, 1, 2, 3, 4, 5, 6, 7, 8, 6, 3, 1, 2, 3, 4, 5, 6, 7, 8, 9, 10, 4, 5, 8, 9, 1, 2, 3, 4, 5, 6, 7, 8, 9, 10, 2, 3, 5, 6, 7, 1, 2, 3, 4, 5, 6, 7, 8, 9, 10, 1, 2, 3, 4, 5, 6, 7, 8, 9, 10, 1, 9, 10, 1, 5, 7, 1, 2, 3, 4, 5, 6, 7, 8, 9, 10, 6, 2, 10, 1, 2, 3, 4, 5, 6, 7, 8, 9, 10, 1, 2, 3, 4, 5, 6, 7, 8, 9, 10, 1, 2, 5, 6, 10, 1, 2, 1, 2, 3, 4, 5, 6, 9, 4, 8, 1, 2, 3, 4, 5, 6, 7, 8, 10, 1, 2, 3, 4, 5, 6, 7, 8, 9, 9, 1, 5, 1, 2, 4, 5, 6, 7, 10, 3, 6, 9, 10, 2, 3, 3, 3, 10, 1, 2, 5, 6, 7, 10, 6, 9, 6, 1, 2, 5, 6, 7, 8, 1, 2, 3, 4, 5, 7, 8, 9, 10, 1, 2, 3, 4, 5, 6, 7, 8, 9, 10, 2, 3, 4, 5, 7, 8, 4, 6, 1, 2, 3, 4, 5, 6, 7, 8, 10, 2, 9, 7, 1, 3, 4, 5, 8, 7, 4, 5, 9, 4, 3, 1, 2, 3, 4, 5, 6, 7, 8, 9, 10, 1, 2, 3, 4, 5, 6, 7, 8, 9, 10, 2, 1, 2, 3, 4, 5, 6, 10, 1, 2, 3, 4, 5, 6, 7, 8, 9, 10, 1, 2, 3, 4, 5, 6, 7, 9, 10, 4, 1, 3, 4, 5, 4, 8, 9, 6, 1, 2, 3, 4, 5, 6, 7, 9, 1, 1, 1, 2, 3, 4, 5, 6, 7, 8, 9, 1, 3, 4, 5, 8, 10, 1, 2, 3, 4, 5, 6, 7, 8, 9, 10, 7, 1, 2, 3, 4, 5, 6, 7, 8, 9, 10, 6, 1, 2, 3, 5, 6, 7, 10, 1, 2, 1, 2, 5, 6, 7, 10, 6, 6, 6, 1, 2, 5, 7, 8, 5, 3, 7, 6, 7, 10, 1, 2, 3, 4, 5, 6, 8, 9, 1, 2, 3, 4, 5, 6, 9, 10, 2, 6, 2, 3, 4, 5, 6, 9, 2, 3, 10, 1, 2, 3, 4, 5, 6, 7, 8, 9, 10, 1, 2, 3, 4, 5, 6, 7, 9, 1, 2, 4, 4, 5, 7, 9, 2, 10, 2, 3, 4, 5, 6, 1, 2, 3, 4, 5, 6, 7, 8, 9, 10, 1, 5, 10, 1, 3, 5, 8, 2, 3, 1, 2, 4, 8, 1, 2, 3, 4, 5, 7, 8, 1, 2, 3, 4, 5, 6, 7, 8, 9, 10, 1, 1, 3, 5, 6, 7, 2, 6, 5, 7, 9, 10, 1, 2, 5, 6, 7, 10, 1, 2, 3, 4, 5, 6, 7, 8, 9, 10, 2, 8, 1, 2, 3, 4, 5, 6, 7, 8, 9, 10, 1, 2, 3, 4, 5, 6, 7, 10, 4, 5, 9, 1, 4, 1, 2, 3, 5, 6, 7, 8, 10, 1, 2, 3, 4, 5, 6, 7, 9, 10, 1, 2, 3, 4, 5, 6, 8, 9, 10, 1, 2, 3, 4, 5, 6, 7, 8, 9, 10, 2, 4, 5, 6, 8, 9, 5, 3, 2, 10, 1, 8, 2, 5, 6, 7, 10, 10, 2, 3, 5, 10, 1, 2, 3, 5, 6, 1, 2, 5, 6, 7, 8, 10, 1, 3, 4, 5, 6, 7, 8, 2, 7, 7, 1, 2, 3, 4, 5, 6, 7, 8, 9, 10, 2, 2, 3, 1, 2, 3, 4, 5, 6, 7, 8, 9, 10, 1, 2, 3, 4, 8, 10, 4, 9, 1, 2, 3, 4, 5, 6, 10, 1, 1, 2, 3, 4, 5, 6, 7, 8, 9, 10, 1, 2, 3, 4, 5, 6, 7, 8, 9, 10, 5, 1, 2, 3, 4, 5, 6, 7, 9, 2, 8, 8, 6, 10, 10, 3, 2, 5, 2, 4, 1, 2, 3, 4, 5, 6, 7, 9, 10, 2, 2, 3, 6, 9, 8, 7, 9, 10, 1, 1, 2, 3, 4, 5, 6, 7, 9, 10, 7, 9, 10, 1, 2, 3, 4, 5, 6, 8, 10, 1, 5, 6, 7, 1, 2, 3, 4, 5, 6, 7, 8, 9, 8, 7, 1, 2, 3, 4, 5, 6, 7, 8, 9, 10, 8, 1, 2, 3, 4, 5, 6, 7, 8, 9, 10, 8, 10, 1, 2, 3, 4, 5, 6, 7, 9, 10, 4, 1, 2, 3, 4, 5, 6, 7, 8, 10, 4, 6, 1, 2, 3, 4, 5, 6, 7, 8, 9, 10, 6, 1, 5, 6, 1, 2, 5, 6, 7, 6, 8, 9, 1, 2, 4, 5, 6, 7, 8, 10, 1, 2, 4, 5, 6, 8, 9, 1, 6, 7, 8, 8, 7, 8, 1, 2, 3, 4, 5, 6, 7, 8, 9, 10, 1, 2, 3, 4, 5, 6, 7, 8, 10, 1, 4, 5, 6, 8, 9, 10, 1, 2, 4, 5, 6, 7, 9, 10, 6, 7, 8, 1, 5, 7, 10, 1, 4, 7, 1, 1, 3, 4, 6, 8, 9, 10, 8, 1, 2, 3, 4, 5, 6, 7, 8, 9, 10, 5, 1, 2, 3, 4, 5, 6, 8, 9, 1, 2, 3, 4, 5, 6, 8, 9, 10, 1, 2, 3, 4, 5, 6, 7, 9, 10, 2, 3, 5, 8, 10, 1, 2, 3, 4, 5, 6, 7, 8, 9, 10, 1, 2, 4, 5, 9, 10, 6, 8, 1, 2, 3, 4, 5, 6, 7, 9, 10, 8, 1, 2, 3, 4, 5, 6, 7, 8, 10, 8, 10, 6, 2, 3, 5, 7, 8, 5, 1, 2, 3, 4, 5, 6, 7, 8, 10, 1, 2, 3, 5, 6, 7, 9, 1, 2, 3, 4, 5, 6, 10, 1, 2, 3, 5, 6, 7, 8, 9, 3, 9, 2, 9, 10, 1, 2, 3, 4, 5, 6, 8, 9, 2, 3, 4, 6, 10, 8, 5, 6, 7, 10, 5, 3, 8, 4, 1, 2, 3, 4, 6, 7, 8, 8, 1, 2, 5, 6, 7, 10, 2, 9, 1, 5, 7, 10, 1, 2, 3, 4, 5, 9, 1, 2, 3, 4, 5, 6, 7, 8, 9, 8, 9, 10, 2, 10, 1, 2, 3, 4, 5, 6, 7, 8, 9, 10, 1, 6, 6, 9, 1, 2, 3, 4, 5, 6, 7, 8, 10, 1, 3, 5, 6, 8, 9, 4, 10, 1, 2, 3, 4, 5, 6, 7, 8, 9, 10, 1, 2, 3, 4, 5, 6, 7, 9, 10, 4, 1, 2, 3, 4, 5, 6, 9, 1, 3, 8, 9, 1, 4, 6, 9, 2, 9, 10, 2, 6, 10, 1, 1, 2, 3, 4, 5, 6, 7, 8, 9, 1, 2, 3, 4, 5, 6, 7, 8, 9, 10, 5, 1, 2, 3, 4, 5, 6, 7, 8, 1, 2, 3, 4, 5, 6, 7, 8, 10, 2, 5, 3, 1, 2, 3, 4, 5, 6, 7, 10, 2, 3, 4, 1, 2, 3, 4, 5, 6, 7, 8, 9, 10, 1, 2, 3, 4, 5, 6, 7, 8, 9, 10, 5, 1, 4, 3, 4, 8, 9, 10, 1, 2, 3, 6, 8, 9, 1, 3, 4, 5, 7, 1, 2, 3, 4, 6, 7, 7, 1, 2, 3, 4, 5, 6, 7, 8, 9, 10, 6, 7, 3, 1, 2, 3, 4, 5, 6, 7, 8, 9, 10, 1, 2, 3, 4, 8, 2, 3, 4, 5, 7, 8, 3, 10, 6, 9, 1, 8, 1, 5, 1, 2, 3, 4, 5, 6, 7, 8, 1, 2, 3, 6, 2, 6, 7, 2, 9, 1, 2, 3, 4, 5, 6, 7, 8, 9, 10, 5, 1, 2, 3, 4, 5, 6, 7, 8, 10, 3, 4, 5, 6, 7, 7, 8, 2, 5, 7, 8], \"Freq\": [0.046195525720066875, 0.02771731543204013, 0.08315194629612038, 0.6744546755129764, 0.12934747201618726, 0.009239105144013375, 0.0369564205760535, 0.8887118188044498, 0.334794835171458, 0.09508751798066249, 0.2570616930960115, 0.1276269728029424, 0.09111047350238383, 0.016631276909165302, 0.014461979921013305, 0.04447058825711592, 0.015546628415089305, 0.0036154949802533263, 0.8713440136698838, 0.206422627716471, 0.16218920749151292, 0.19167815430815163, 0.014744473408319357, 0.1032113138582355, 0.014744473408319357, 0.28014499475806776, 0.7094106533837612, 0.07514943362116114, 0.04508966017269669, 0.03607172813815735, 0.06312552424177537, 0.04809563751754313, 0.0030059773448464456, 0.02104184141392512, 0.8887124712454733, 0.2709246255747184, 0.1354623127873592, 0.5418492511494368, 0.9588704645338753, 0.004549713571918213, 0.12284226644179176, 0.009099427143836426, 0.8598958650925423, 0.8702168878600391, 0.15378904813820196, 0.04194246767405508, 0.04194246767405508, 0.20971233837027542, 0.055923290232073444, 0.47534796697262427, 0.1956502849480708, 0.057884699688778345, 0.09261551950204536, 0.09377321349582092, 0.05325392371367608, 0.0023153879875511337, 0.4688660674791046, 0.03125773783194031, 0.0034730819813267007, 0.02568542864780151, 0.33888194570809094, 0.4358237247981805, 0.00497137328667126, 0.09197040580341831, 0.00414281107222605, 0.02568542864780151, 0.07208491265673328, 0.0008285622144452101, 0.9527792578903309, 0.8659316566580343, 0.9820795075317462, 0.2582142871622436, 0.0645535717905609, 0.043035714527040594, 0.021517857263520297, 0.5809821461150481, 0.9564689009797162, 0.04417163306663804, 0.9276042943993988, 0.8559017669820476, 0.1725032999979089, 0.1275194462569576, 0.033640099319320105, 0.24134815441884305, 0.22022530135787463, 0.09505283877435797, 0.00938793469376375, 0.003520475510161406, 0.014473065986219114, 0.0821444285704328, 0.8881287963834683, 0.9643044094772417, 0.38441220468750975, 0.11224836376875284, 0.12044915746875305, 0.11583621101250294, 0.13172524880625333, 0.04202906771250106, 0.02614002991875066, 0.014863938581250376, 0.0061505952750001555, 0.046129464562501166, 0.9564065623701369, 0.06079706222359083, 0.7903618089066808, 0.12159412444718166, 0.04290015716035153, 0.33176121537338515, 0.3603613201469529, 0.02288008381885415, 0.10725039290087883, 0.008580031432070307, 0.024310089057532534, 0.1015303719461653, 0.8430111139618451, 0.8477303084704143, 0.00876610576472351, 0.1753221152944702, 0.1490237980002997, 0.6662240381189868, 0.8257545308188875, 0.1253384861054823, 0.7520309166328937, 0.9734635719637537, 0.9631373269626561, 0.8337058069673248, 0.13163775899484076, 0.3410554183521083, 0.07085638885431614, 0.31932612577011804, 0.06660500552305716, 0.03448344257576719, 0.07416302033418422, 0.014171277770863227, 0.02645305183894469, 0.050544224049412174, 0.002834255554172645, 0.9514455914020813, 0.9081847190957848, 0.07658225593401408, 0.14528104434540906, 0.4183868835218563, 0.2455137028472804, 0.07095120770357187, 0.021961088098724626, 0.006757257876530654, 0.004504838584353769, 0.007883467522619095, 0.0016893144691326634, 0.22249558470922037, 0.6674867541276611, 0.871211762873689, 0.023442309178246527, 0.058605772945616315, 0.7735962028821354, 0.10549039130210937, 0.035163463767369785, 0.14909562431918003, 0.08697244751952168, 0.7579027569558319, 0.8702567546735073, 0.0994579148198294, 0.02655832331913142, 0.2077798236143811, 0.45695938652034945, 0.09685976739918518, 0.14841415972455793, 0.03202621341424671, 0.021871560380461168, 0.0007811271564450418, 0.0015622543128900835, 0.0070301444080053755, 0.36657185323675534, 0.10473481521050153, 0.16355847854790648, 0.00573889398413707, 0.2044480981848831, 0.025825022928616815, 0.012195149716291273, 0.0007173617480171337, 0.027977108172668214, 0.08751813325809031, 0.40036597108188604, 0.17589607920693157, 0.05593348125408702, 0.11922663109423813, 0.09273182418440744, 0.03311850863728837, 0.06991685156760878, 0.009567569161883307, 0.042686077799171676, 0.9229520313036474, 0.4714160927958922, 0.11139387674214045, 0.08625168512635953, 0.023745403192681976, 0.16342424550257595, 0.03561810478902296, 0.05726832534705653, 0.02828496556775353, 0.00419036526929682, 0.018856643711835687, 0.8830823761122281, 0.8706244017128564, 0.10447492820554276, 0.20312971669258462, 0.2829306768218143, 0.1617783100801656, 0.15670006716285098, 0.08052642340313175, 0.035547700421202304, 0.025391214586573077, 0.026116677860475165, 0.015960192025845935, 0.012332875656335495, 0.108330345960995, 0.5622860814165931, 0.0876959943493769, 0.03611011532033167, 0.07737881854356786, 0.020634351611618095, 0.04126870322323619, 0.01547576370871357, 0.05674446693194976, 0.5607041869935725, 0.07195130415919565, 0.020926076508451324, 0.040992177269979994, 0.1433292911537762, 0.05045191048612922, 0.07424457281765608, 0.006593147393073705, 0.004013220152305734, 0.026659248154602373, 0.4526314865607138, 0.16588302822719347, 0.09767454622588037, 0.09139936588175956, 0.09931154979391188, 0.03655974635270383, 0.023190883880446458, 0.001909837496036767, 0.0005456678560105049, 0.031103067792598776, 0.5037764073683819, 0.30062606587986623, 0.11751746211667498, 0.011842845019509883, 0.0009109880784238371, 0.04737138007803953, 0.0009109880784238371, 0.01639778541162907, 0.4944442320800664, 0.1308822967270764, 0.072712387070598, 0.030700785652030264, 0.021005800709283866, 0.04524326306614986, 0.06463323295164267, 0.08079154118955333, 0.0016158308237910666, 0.05978574048026947, 0.8430101800808376, 0.931281029856551, 0.9302346420085915, 0.0036761549662215646, 0.6028894144603366, 0.2610070026017311, 0.08455156422309598, 0.007352309932443129, 0.014704619864886258, 0.018380774831107824, 0.025463522455496202, 0.1771836770861611, 0.45940438430124403, 0.12201271176591931, 0.15278113473297722, 0.012731761227748101, 0.005304900511561709, 0.02970744286474557, 0.015914701534685126, 0.9081653378307055, 0.9727549302127685, 0.9331061259856629, 0.0348908232552527, 0.23689032631197884, 0.4866351664548403, 0.13099361713375576, 0.0691695268042729, 0.00856967588725505, 0.010406035005952559, 0.006733316768557538, 0.014690872949580084, 0.0006121197062325035, 0.906890149841292, 0.1878199462466861, 0.09390997312334305, 0.03130332437444768, 0.688673136237849, 0.9312809967356425, 0.8393738167369231, 0.8707838412948653, 0.9254031298247026, 0.8393737572859973, 0.15368496503742285, 0.2017115166116175, 0.11046106862064767, 0.08644779283355035, 0.12486903409290606, 0.19450753387548828, 0.026414603365807053, 0.002401327578709732, 0.10085575830580874, 0.04707683361825845, 0.06590756706556183, 0.7814754380630903, 0.10356903396016859, 0.00941536672365169, 0.25511116089418817, 0.7254723637928475, 0.00797222377794338, 0.8938342904245401, 0.1072350495066991, 0.6320023130501202, 0.029660758374193366, 0.09126387192059497, 0.04335033916228261, 0.061603113546401606, 0.022815967980148743, 0.011407983990074371, 0.09279962463305745, 0.4203277115732602, 0.05731741521453548, 0.05731741521453548, 0.027294007245016898, 0.12418773296482688, 0.1310112347760811, 0.016376404347010137, 0.001364700362250845, 0.07232911919929477, 0.14225625483831775, 0.5238643035315828, 0.25515804439253814, 0.0022580357910844087, 0.027096429493012903, 0.009032143164337635, 0.0045160715821688175, 0.024838393701928495, 0.013548214746506452, 0.2567451182557324, 0.11003362210959959, 0.6308594334283709, 0.7985196561939084, 0.07781437592720551, 0.04592323825212129, 0.6397362217621896, 0.08546824896922572, 0.09120865375074089, 0.02678855564707075, 0.008291695795521898, 0.014669923330538745, 0.009567341302525269, 0.113961653964763, 0.1056735336764166, 0.0766651126672042, 0.1284658644693692, 0.0269363909371258, 0.2113470673528332, 0.0062160902162598005, 0.010360150360433, 0.321164661173423, 0.08213123869215214, 0.1806887251227347, 0.13140998190744343, 0.5256399276297737, 0.01642624773843043, 0.06570499095372172, 0.37546377513474, 0.007039945783776375, 0.039893026108066124, 0.04223967470265825, 0.2182383192970676, 0.18069194178359363, 0.007039945783776375, 0.021119837351329124, 0.10794583535123775, 0.9348416594248127, 0.11020756585368335, 0.11020756585368335, 0.7163491780489418, 0.8659315939372462, 0.9191196832401106, 0.04837472017053214, 0.08023700262882484, 0.08678696202709625, 0.3127605612674601, 0.370072706002335, 0.08351198232796055, 0.0016374898495678538, 0.00818744924783927, 0.05567465488530703, 0.8881289185474239, 0.9094378606830644, 0.06736576745800478, 0.8887122293871184, 0.8657285476417177, 0.09894040544476773, 0.14539401886388592, 0.7996671037513725, 0.07269700943194296, 0.8851433629135539, 0.04425716814567769, 0.08576034888596763, 0.45219093048964754, 0.007796395353269785, 0.09615554269032735, 0.09615554269032735, 0.1845146900273849, 0.0051975969021798565, 0.054574767472888495, 0.018191589157629497, 0.8856547550013952, 0.06234928288701994, 0.00890704041243142, 0.3028393740226683, 0.31323092117050494, 0.12024504556782417, 0.005938026941620947, 0.028205627972699498, 0.0014845067354052367, 0.1454816600697132, 0.00890704041243142, 0.7730823919456092, 0.0042477054502506, 0.0127431163507518, 0.042477054502506, 0.0722109926542602, 0.08920181445526261, 0.0042477054502506, 0.0042477054502506, 0.8267100199509086, 0.8161811512933643, 0.07336459786906646, 0.009170574733633308, 0.08253517260269977, 0.009170574733633308, 0.1478341507442575, 0.07391707537212874, 0.6652536783491587, 0.12319512562021458, 0.06553609643718032, 0.5987616083578747, 0.05362044253951117, 0.08936740423251861, 0.0029789134744172873, 0.10724088507902234, 0.0685150099115976, 0.0029789134744172873, 0.008936740423251861, 0.9271192855343269, 0.9302323710807279, 0.9915647981802043, 0.09436245343234992, 0.8964433076073242, 0.8267098288183125, 0.8702168878600391, 0.756199636099838, 0.12568192608113796, 0.13729384316472135, 0.20764839961231488, 0.34152697304657054, 0.0648901248788484, 0.039617128873402185, 0.009562755245303976, 0.038251020981215904, 0.020491618382794233, 0.015027186814049104, 0.019818794451037507, 0.9711209281008378, 0.0885804791040508, 0.4871926350722794, 0.00885804791040508, 0.00885804791040508, 0.03543219164162032, 0.3188897247745829, 0.062006335372835564, 0.08994643579554239, 0.8095179221598814, 0.1659208817078611, 0.08116253656297849, 0.455126629081006, 0.14331865633589239, 0.06626561529509004, 0.02414328619278474, 0.012842173506800393, 0.006164243283264189, 0.03544439887876909, 0.0097600518651683, 0.567728046504168, 0.040889000579247554, 0.00943592321059559, 0.012581230947460787, 0.24847931121235053, 0.036171038973949764, 0.044034308316112755, 0.020444500289623777, 0.0015726538684325984, 0.017299192552758583, 0.15973382659972257, 0.1391365700118636, 0.24842813558009486, 0.030265356618894804, 0.30937920099314686, 0.08575184375353527, 0.010088452206298268, 0.0016814087010497112, 0.0054645782784115615, 0.010088452206298268, 0.9331057121042301, 0.9942495011133462, 0.9348437753445824, 0.2641703460486929, 0.1912957678283638, 0.13299610525210054, 0.08744949386439488, 0.11842118960803473, 0.04554661138770567, 0.038259153565672756, 0.09109322277541133, 0.018218644555082267, 0.012753051188557586, 0.931281029856551, 0.4244962350951329, 0.1477830732494517, 0.11737503348619004, 0.05959975793599287, 0.09244044088031547, 0.0930486016755807, 0.0164203414721613, 0.020677467039017933, 0.0006081607952652334, 0.0273672357869355, 0.4818508911897993, 0.10144229288206301, 0.14582329601796556, 0.06023136139872491, 0.019020429915386813, 0.003170071652564469, 0.025360573220515752, 0.16167365428078792, 0.9217848654953245, 0.049265972620430726, 0.09360534797881838, 0.18228409869559367, 0.10345854250290452, 0.03941277809634458, 0.13794472333720603, 0.01970638904817229, 0.33008201655688585, 0.049265972620430726, 0.7317359801311276, 0.16900281197176023, 0.03755618043816894, 0.15022472175267576, 0.6321957040425105, 0.00625936340636149, 0.8477303601577889, 0.749673068802323, 0.03945647730538542, 0.03945647730538542, 0.09206511371256598, 0.02630431820359028, 0.02630431820359028, 0.01315215910179514, 0.6575464757323642, 0.009669801113711239, 0.3191034367524709, 0.012087251392139047, 0.9889577464241047, 0.07295912583992833, 0.07295912583992833, 0.07295912583992833, 0.7295912583992834, 0.05733900378430504, 0.9174240605488806, 0.8830823761122281, 0.21840103582665713, 0.018200086318888094, 0.09100043159444048, 0.009100043159444047, 0.12740060423221666, 0.5369025464071988, 0.07835045958013585, 0.7835045958013586, 0.11752568937020377, 0.03917522979006793, 0.13014506519922414, 0.8068994042351896, 0.05205802607968965, 0.008676337679948276, 0.9211588535181598, 0.06574198267491096, 0.6932790900263338, 0.053788894915836244, 0.014941359698843401, 0.06574198267491096, 0.011953087759074721, 0.050800622976067564, 0.011953087759074721, 0.026894447457918122, 0.0059765438795373604, 0.6674758735707449, 0.0765634090272325, 0.03730012234660045, 0.003926328668063205, 0.05300543701885327, 0.10404770970367494, 0.03926328668063205, 0.013742150338221218, 0.003926328668063205, 0.9279828892390531, 0.3272005768646434, 0.06135010816212063, 0.5930510455671661, 0.871345881243945, 0.11205006899354956, 0.1349694012876847, 0.04074547963401802, 0.025465924771261264, 0.0025465924771261262, 0.1833546583530811, 0.017826147339882886, 0.47875938569971177, 0.23780655576566687, 0.7580083965030632, 0.9236956567622936, 0.05655279531197716, 0.1469849686139729, 0.7839198326078555, 0.34282516465736745, 0.16045631417984002, 0.14985347403579774, 0.07139245696988476, 0.06644446490266503, 0.10037355336360036, 0.036049656489743793, 0.045945640624183264, 0.017671400240070488, 0.007775416105631014, 0.052060027191486356, 0.01735334239716212, 0.13882673917729696, 0.06941336958864848, 0.15618008157445906, 0.5379536143120257, 0.03470668479432424, 0.12480720761458183, 0.6062064369851118, 0.13966520852107966, 0.0029716001812995674, 0.07131840435118962, 0.01188640072519827, 0.041602402538193944, 0.0029716001812995674, 0.8712119207162624, 0.8659318720521981, 0.19737156280547802, 0.23220183859468002, 0.10449082736760601, 0.011610091929734001, 0.046440367718936004, 0.011610091929734001, 0.31347248210281803, 0.08127064350813801, 0.011610091929734001, 0.9128587115132529, 0.8659321959062349, 0.8261815048089747, 0.11802592925842496, 0.04721037170336998, 0.896037115008752, 0.0499228238861085, 0.8986108299499529, 0.15687410788882247, 0.7843705394441123, 0.9092085463690073, 0.07273668370952058, 0.9567762006443113, 0.8148157408912922, 0.10185196761141152, 0.05092598380570576, 0.9248067356654286, 0.9556718065554959, 0.8267097796328161, 0.8713440400859558, 0.9469275544478443, 0.2252268287221283, 0.17595845993916273, 0.014076676795133018, 0.05630670718053207, 0.017595845993916275, 0.4962028570284389, 0.010557507596349764, 0.0035191691987832546, 0.0035191691987832546, 0.889766831237982, 0.9279829074627161, 0.7317359983958869, 0.6554202002420707, 0.010044754026698402, 0.007533565520023801, 0.005022377013349201, 0.113003482800357, 0.0426902046134682, 0.1406265563737776, 0.020089508053396803, 0.007533565520023801, 0.41044955091049673, 0.30134270826340265, 0.05715120329133499, 0.0846134698079505, 0.04453340516207921, 0.02078225574230363, 0.028946713355351487, 0.03043116019408746, 0.02078225574230363, 0.9088039585833654, 0.05863251345699132, 0.31000787390202544, 0.019787736632044178, 0.013191824421362785, 0.013191824421362785, 0.4683097669583789, 0.13191824421362786, 0.039575473264088355, 0.04010278602898524, 0.15407912526925907, 0.48052987469819153, 0.14985777937147116, 0.11749412748843044, 0.01969961418967696, 0.005628461197050559, 0.01899605654004564, 0.00984980709483848, 0.0035177882481566, 0.08605559713202401, 0.774500374188216, 0.08605559713202401, 0.018380808711480207, 0.20065716176699225, 0.22746250780456753, 0.3431084292809638, 0.10339204900207616, 0.03140054821544535, 0.014551473563255162, 0.05284482504550559, 0.0038293351482250426, 0.005361069207515059, 0.03562754332014546, 0.5734337924861508, 0.22733765737616626, 0.10009643123278963, 0.005089649045735066, 0.03902064268396884, 0.018662046501028574, 0.8108168804598003, 0.6614898876678482, 0.13444916416013175, 0.06453559879686324, 0.00537796656640527, 0.01075593313281054, 0.034956782681634255, 0.06722458208006588, 0.008066949849607905, 0.002688983283202635, 0.01075593313281054, 0.15500097155030265, 0.061716633981127374, 0.3131941827892843, 0.2844640255911733, 0.10144228344024385, 0.010995492261005452, 0.016670585040879232, 0.00815794587106856, 0.03901626286163225, 0.009222025767294894, 0.8659321959062126, 0.9081844237254444, 0.6848769605511635, 0.011136210740669325, 0.011136210740669325, 0.22829232018372117, 0.05011294833301196, 0.011136210740669325, 0.06431674489897461, 0.026311395640489614, 0.5861594251020187, 0.1330187224046975, 0.1783327926744296, 0.004385232606748269, 0.001461744202249423, 0.002923488404498846, 0.001461744202249423, 0.3878588541230241, 0.08264038085007616, 0.08484412433941153, 0.0925572265520853, 0.2236799641675395, 0.08484412433941153, 0.0011018717446676823, 0.0022037434893353645, 0.019833691404018278, 0.019833691404018278, 0.012211072564159807, 0.3480155680785545, 0.24422145128319614, 0.042738753974559326, 0.10379411679535835, 0.006105536282079904, 0.24422145128319614, 0.8862020531955742, 0.04220009777121782, 0.8902163096102619, 0.15334355297359287, 0.10271816945599521, 0.3954649524055816, 0.17975679654799162, 0.1115225839807948, 0.022011036311998976, 0.0007337012103999658, 0.015407725418399283, 0.00880441452479959, 0.010271816945599522, 0.9210043567252032, 0.15034109032714343, 0.02909827554718905, 0.0048497125911981746, 0.6595609124029518, 0.1163931021887562, 0.024248562955990875, 0.014549137773594525, 0.9232222265761345, 0.04616111132880672, 0.9202832124965397, 0.8713877629771946, 0.10562275914875086, 0.9428395411876005, 0.044312642600150075, 0.004431264260015008, 0.46085148304156076, 0.10635034224036018, 0.37665746210127565, 0.8830823761122281, 0.9270894788666264, 0.2679228640041051, 0.26106769477585506, 0.17709187172979227, 0.12567810251791708, 0.05427008972364602, 0.03941722306243763, 0.013139074354145878, 0.04570112818833349, 0.0017137923070625059, 0.013710338456500047, 0.8707839790176797, 0.3422139904223412, 0.09612752539953404, 0.03768198995661735, 0.0446031717853838, 0.3829720611917436, 0.021532565689495624, 0.03306786873743971, 0.019994525283103082, 0.0223015858926919, 0.08347592881014708, 0.8347592881014708, 0.8267092433491537, 0.18128339133489196, 0.7251335653395679, 0.262326074763033, 0.19972553419458192, 0.07154347493537262, 0.11923912489228772, 0.084957876485755, 0.19674455607227473, 0.019376357794996753, 0.004471467183460789, 0.043224182773454294, 0.7317360649805486, 0.9511478017903203, 0.9498169144047958, 0.08599974793388107, 0.17199949586776214, 0.7739977314049296, 0.08119511928236155, 0.19437619464565342, 0.0910369519226478, 0.15992978040465156, 0.051669621361502806, 0.051669621361502806, 0.09349741008271936, 0.23374352520679842, 0.04428824688128812, 0.04365683816020755, 0.7421662487235284, 0.021828419080103776, 0.15279893356072644, 0.021828419080103776, 0.6552016957741615, 0.08190021197177019, 0.005850015140840729, 0.005850015140840729, 0.15795040880269967, 0.032175083274624004, 0.008775022711261092, 0.05265013626756656, 0.9409497131985295, 0.251291668429942, 0.10470486184580917, 0.006980324123053945, 0.0628229171074855, 0.07678356535359339, 0.006980324123053945, 0.034901620615269725, 0.4467407438754525, 0.9312810289930908, 0.15723279234246398, 0.31446558468492797, 0.03628449054056861, 0.10885347162170583, 0.3749397355858757, 0.8659321959061916, 0.9348437753445824, 0.8659316954332062, 0.04996744108400195, 0.8994139395120351, 0.2468063224336697, 0.297567906480311, 0.014003195599073459, 0.06826557854548311, 0.005251198349652547, 0.10677436644293513, 0.056012782396293835, 0.0017503994498841823, 0.11377596424247186, 0.09102077139397749, 0.7565356166569478, 0.0911488694767407, 0.08203398252906663, 0.018229773895348137, 0.027344660843022207, 0.018229773895348137, 0.8876656371906254, 0.8154036040671285, 0.10192545050839107, 0.7589979740363693, 0.10683869765457227, 0.5742579998933259, 0.09615482788911504, 0.026709674413643067, 0.0827999906822935, 0.06944515347547198, 0.029380641855007373, 0.005341934882728613, 0.010683869765457226, 0.8707838843654951, 0.2469265359287293, 0.7407796077861878, 0.8938342308546798, 0.8659319740173659, 0.1619983557511903, 0.08498274400062442, 0.021245686000156104, 0.07701561175056587, 0.09560558700070246, 0.20183401700148298, 0.07170419025052685, 0.20183401700148298, 0.08232703325060489, 0.8058266194554089, 0.05372177463036059, 0.10744354926072118, 0.4542733302345595, 0.2623961474279044, 0.02077302833804243, 0.1333847082758514, 0.0721589405426737, 0.002186634561899203, 0.03935942211418566, 0.004919927764273207, 0.002733293202374004, 0.007653220966647212, 0.15903289555893718, 0.5056045830505833, 0.03600744805108012, 0.048009930734773484, 0.09001862012770029, 0.08251706845039193, 0.03000620670923343, 0.022504655031925072, 0.0030006206709233428, 0.024004965367386742, 0.6999092229883402, 0.003364948187443943, 0.010094844562331829, 0.06729896374887887, 0.023554637312107603, 0.09421854924843041, 0.09758349743587436, 0.8713443594421179, 0.06851263051296348, 0.1595059679129931, 0.473165354480154, 0.08242925858590919, 0.14880086939534254, 0.03425631525648174, 0.011775608369415597, 0.01712815762824087, 0.004282039407060218, 0.0010705098517650544, 0.1559626556446869, 0.00354460581010652, 0.8152593363244997, 0.00354460581010652, 0.010633817430319562, 0.010633817430319562, 0.9595963446436838, 0.01626434482446922, 0.01626434482446922, 0.8713593242478652, 0.2509433973707958, 0.06339622670420104, 0.1761006297338918, 0.05987421410952321, 0.14440251638179127, 0.06779874244754834, 0.0343396227981089, 0.012327044081372427, 0.16993710769320558, 0.021132075568067017, 0.15598247944524668, 0.014180225404113334, 0.6381101431851001, 0.17016270484936002, 0.014180225404113334, 0.8886381973692791, 0.32521202816242006, 0.0239629915488099, 0.0017116422534864215, 0.5785350816784105, 0.04107941408367412, 0.018828064788350637, 0.008558211267432107, 0.003423284506972843, 0.35099284471135583, 0.10976064903344804, 0.31360185438128013, 0.027741702502959396, 0.02291705858940124, 0.01929857565423262, 0.08201894653048865, 0.03980331228685478, 0.02532938054618032, 0.00964928782711631, 0.26787761733358434, 0.2630247619471064, 0.086380825879308, 0.1475268037489305, 0.031058274473459054, 0.14461509051704372, 0.023293705855094292, 0.0009705710772955954, 0.03591112985993703, 0.15306169662027672, 0.15306169662027672, 0.6887776347912452, 0.7335466081301584, 0.054336785787419135, 0.011643596954446958, 0.023287193908893916, 0.1319607654837322, 0.01552479593926261, 0.027168392893709568, 0.0038811989848156524, 0.830671538798735, 0.06389781067682576, 0.06389781067682576, 0.8267099119183058, 0.930233650948005, 0.8860896398942246, 0.06329211713530176, 0.8802281230853776, 0.06770985562195213, 0.9518287198512028, 0.8856544886206917, 0.9081629284084897, 0.9226620615071995, 0.8267085070912259, 0.2290841208447525, 0.10010398557921958, 0.1963578178669307, 0.0077003065830168905, 0.0847033724131858, 0.0673776826013978, 0.011550459874525337, 0.025025996394804895, 0.27528596034285385, 0.08658858914972935, 0.12988288372459403, 0.7360030077726994, 0.16164649743076473, 0.12888031551912324, 0.34120517430656017, 0.18043244172677253, 0.08038636628989382, 0.04325136012336678, 0.025339180678336095, 0.00393194182939698, 0.012232707913679494, 0.022717886125404773, 0.9553555674587542, 0.9861391090890594, 0.9175500377446667, 0.029568215653288994, 0.0817474197473284, 0.6418042103566847, 0.07131157892852051, 0.10609771499121345, 0.022610988440750407, 0.013914454425077175, 0.012175147621942528, 0.019132374834481113, 0.46272569830052884, 0.14199164027272546, 0.07851302462138937, 0.04760896173850206, 0.09939414819090782, 0.05429092128074797, 0.08603022910641601, 0.02171636851229919, 0.0075172044850266425, 0.41214351744899025, 0.13044710699489595, 0.1477822707151479, 0.06197321029990074, 0.06414010576493223, 0.07107417125303302, 0.01950205918528345, 0.07497458309008971, 0.005200549116075586, 0.012567993697182667, 0.9279829394588752, 0.9435972423063312, 0.29350915272598793, 0.010121005266413376, 0.5262922738534955, 0.09108904739772039, 0.020242010532826753, 0.010121005266413376, 0.040484021065653505, 0.8335599907075282, 0.04630888837264045, 0.04630888837264045, 0.04630888837264045, 0.05453916698030439, 0.8726266716848703, 0.05453916698030439, 0.03849222937365711, 0.533392321320677, 0.21995559642089776, 0.09348112847888156, 0.008248334865783667, 0.03574278441839589, 0.061862511493377494, 0.006873612388153055, 0.4420791557732619, 0.0321512113289645, 0.048226816993446754, 0.257209690631716, 0.20898287363826926, 0.057817275911566615, 0.32508581550277077, 0.14181595978308792, 0.2825410275678444, 0.0741806558865383, 0.03709032794326915, 0.022908731964960356, 0.04581746392992071, 0.00981802798498301, 0.0032726759949943366, 0.15784044145304174, 0.631361765812167, 0.11469322454078472, 0.8601991840558854, 0.056737354959990535, 0.9361663568398438, 0.05692087073956771, 0.05692087073956771, 0.13703172585451487, 0.1791953338097502, 0.05059632954628241, 0.012649082386570603, 0.497530573871777, 0.004216360795523534, 0.002108180397761767, 0.10766686677043144, 0.1678336452597902, 0.02691671669260786, 0.09500017656214539, 0.045916752005036934, 0.36575067976425973, 0.042750079452965425, 0.04433341572900118, 0.004750008828107269, 0.09975018539025265, 0.15802610098859812, 0.07901305049429906, 0.20740925754753503, 0.528399775180625, 0.029629893935362146, 0.03592680663142488, 0.876614081806767, 0.05748289061027981, 0.007185361326284976, 0.028741445305139904, 0.188117781854922, 0.024537101981076784, 0.68703885547015, 0.008179033993692261, 0.05725323795584583, 0.032716135974769044, 0.1343036639416815, 0.8058219836500891, 0.9469275728933221, 0.8887121666461636, 0.9279829001289779, 0.2604011151678963, 0.2860176462494787, 0.1853668666454661, 0.13554573926632557, 0.02521312114328973, 0.036508599415483525, 0.02884381058792345, 0.020977316791217053, 0.004034099382926357, 0.016943217408290696, 0.06613735668669543, 0.044091571124463616, 0.3306867834334771, 0.4850072823690998, 0.06613735668669543, 0.050233866114634027, 0.17581853140121909, 0.27628626363048714, 0.5023386611463403, 0.34944905120301384, 0.040798620191214816, 0.11175274226289275, 0.04257247324300677, 0.19334998264532238, 0.07804953427884573, 0.021286236621503384, 0.12239586057364445, 0.03192935493225507, 0.008869265258959742, 0.024569771899952096, 0.1277628138797509, 0.009827908759980838, 0.04913954379990419, 0.34889076097931976, 0.06879536131986587, 0.34889076097931976, 0.004913954379990419, 0.019655817519961677, 0.9230320811666547, 0.2796583245091091, 0.25919552027673526, 0.3043017016491722, 0.017602412242902224, 0.02596355805828078, 0.015402110712539446, 0.07260995050197168, 0.016282231324684558, 0.0013201809182176668, 0.007921085509306001, 0.8713443352206107, 0.9828410307715348, 0.8830823761122281, 0.9312810289930908, 0.027122598916098768, 0.6780649729024691, 0.027122598916098768, 0.10849039566439507, 0.054245197832197535, 0.0813677967482963, 0.08285492622432543, 0.16570985244865086, 0.7456943360189289, 0.8840838075619325, 0.9081622362636391, 0.06560824866418703, 0.06560824866418703, 0.8529072326344315, 0.27025800052167914, 0.039924477349793513, 0.05835115920354436, 0.11363120476479692, 0.15048456847229863, 0.030711136422918086, 0.23340463681417745, 0.10134675019562968, 0.14415326375567392, 0.5342150362710268, 0.23742890500934527, 0.03391841500133504, 0.05087762250200256, 0.8477301652047433, 0.8659321959061616, 0.8938344702253037, 0.1306858798838058, 0.8363896312563572, 0.11447199788241941, 0.8013039851769358, 0.057235998941209704, 0.7589978147583096, 0.1853053942385506, 0.24189866328978363, 0.24290031406945148, 0.18129879111987926, 0.038062729627377966, 0.04607593586472069, 0.038563555017211884, 0.015024761695017617, 0.0030049523390035236, 0.008013206237342729, 0.9248068672120192, 0.10321813805039605, 0.8051014767930892, 0.07741360353779704, 0.005160906902519803, 0.12684351042861186, 0.7469673391907143, 0.08456234028574125, 0.02818744676191375, 0.42638938914681235, 0.1279168167440437, 0.029174010836360845, 0.051615557633561494, 0.05834802167272169, 0.033662320195800975, 0.1346492807832039, 0.13689343546292396, 0.36327707992485747, 0.24923697386890079, 0.11481413392511475, 0.0761127404672109, 0.06682440603731397, 0.06347028527096231, 0.02038273388782936, 0.019608706018671283, 0.0036121300560710257, 0.022962826785022948, 0.2746212184951348, 0.005492424369902696, 0.005492424369902696, 0.633459610662111, 0.040277778712619776, 0.010984848739805392, 0.0036616162466017975, 0.027462121849513483, 0.03198192763870206, 0.9594578291610616, 0.08805700811736447, 0.8805700811736448, 0.044028504058682236, 0.9807865061751461, 0.15198295764251457, 0.17369480873430237, 0.043423702183575594, 0.043423702183575594, 0.5862199794782704, 0.043423702183575594, 0.2557285716606948, 0.02324805196915407, 0.30222467559900296, 0.06974415590746222, 0.34872077953731107, 0.48003078785087216, 0.2127352292352666, 0.054560329380338966, 0.08008855688857096, 0.08709630561632091, 0.02602878098878556, 0.03303652971653552, 0.005506088286089253, 0.0010011069611071369, 0.01952158574158917, 0.8467874239592522, 0.08759869903026747, 0.058399132686844976, 0.8726536505135157, 0.9047435817669923, 0.4913415637957622, 0.07887325103037236, 0.09568230452864844, 0.07370123456936434, 0.06723621399310431, 0.03879012345756018, 0.02456707818978811, 0.11507736625742852, 0.011637037037268053, 0.14508173921579384, 0.06217788823534022, 0.663230807843629, 0.06217788823534022, 0.06217788823534022, 0.19956949651850198, 0.2703627300808084, 0.1651842116453817, 0.06944479101826251, 0.10922384606755851, 0.11529183751575621, 0.0377563912332301, 0.008090655264263594, 0.006742212720219661, 0.017529753072571118, 0.31345656155717994, 0.10448552051905997, 0.026121380129764993, 0.5224276025952999, 0.026121380129764993, 0.013060690064882497, 0.25772433827581087, 0.14174838605169598, 0.11795844713392882, 0.09515975567106863, 0.03469366092174377, 0.10110724040051042, 0.0902035183965338, 0.02676368128248805, 0.11696719967902185, 0.016851206733418403, 0.8713438706621587, 0.09555921167630609, 0.02435823042729371, 0.6895252920956988, 0.0918117916105686, 0.03747420065737494, 0.016863390295818723, 0.009368550164343735, 0.031853070558768695, 0.0018737100328687468, 0.05168246874869695, 0.6201896249843634, 0.1698138258885757, 0.140280986603606, 0.014766419642484842, 0.30510392844517364, 0.01860389807592522, 0.0037207796151850444, 0.07441559230370089, 0.18975976037443726, 0.1339480661466616, 0.11906494768592142, 0.0037207796151850444, 0.15255196422258682, 0.08511787254743139, 0.011199720072030446, 0.6406239881201415, 0.14783630495080188, 0.04703882430252787, 0.03135921620168525, 0.03135921620168525, 0.006719832043218268, 0.8491451216422574, 0.8960384149397188, 0.48032980171164497, 0.19864106285738586, 0.07930678969070773, 0.05686147185371498, 0.052372408286316424, 0.026186204143158212, 0.029553001818707125, 0.0138412793328122, 0.03030117907994022, 0.03254571086363949, 0.35143731442201775, 0.07028746288440356, 0.5622997030752285, 0.9076450755806525, 0.10672401202063134, 0.26280787960080465, 0.28015053155415726, 0.09738566096882609, 0.08271110931598928, 0.04935985555954199, 0.0947175606683103, 0.020010752253868374, 0.0026681003005157833, 0.004002150450773675, 0.5040591652829958, 0.0395340521790585, 0.08895161740288161, 0.01976702608952925, 0.34592295656676186, 0.13673991650281606, 0.24809697425361235, 0.22312351644920583, 0.20470047380661086, 0.08638359994638978, 0.022517052118727194, 0.020060646433047863, 0.005731613266585104, 0.04789991087074694, 0.0053222123189718825, 0.08408189346945381, 0.13312966465996853, 0.23385276621191842, 0.2969141863140088, 0.07269580372879861, 0.01576535502552259, 0.04028924062077995, 0.0008758530569734772, 0.11648845657747246, 0.007006824455787817, 0.9291183852766738, 0.12384558295116961, 0.7430734977070177, 0.09302807498351533, 0.13954211247527298, 0.7442245998681226, 0.19057337217987985, 0.2924522189427087, 0.17259475216291006, 0.1066731454340208, 0.07431162940347516, 0.02397149335595973, 0.0035957240033939594, 0.03475866536614161, 0.10068027209503086, 0.0011985746677979864, 0.9824006851008734, 0.9084951647162253, 0.07267961317729801, 0.46092209696367104, 0.2937938556982178, 0.11347127959601826, 0.023749802706143356, 0.05717545095923401, 0.002638866967349262, 0.02462942502859311, 0.014073957159196062, 0.0008796223224497539, 0.007916600902047785, 0.25925513178169696, 0.2074041054253576, 0.11052455618061818, 0.13235656727802425, 0.05048652566275152, 0.09142154647038787, 0.0259255131781697, 0.032748016646109095, 0.004093502080763637, 0.08459904300244848, 0.11875674352167236, 0.022620332099366165, 0.7408158762542418, 0.0678609962980985, 0.0480682057111531, 0.9202803976111646, 0.046014019880558234, 0.012802458584291156, 0.044808605045019045, 0.6241198559841938, 0.17923442018007618, 0.07681475150574693, 0.016003073230363946, 0.044808605045019045, 0.9409497473333845, 0.7985196561939084, 0.6129502761995018, 0.021951387301910534, 0.023639955555903654, 0.015197114285938063, 0.07091986666771095, 0.07598557142969031, 0.12326548254149762, 0.001688568253993118, 0.05572275238177289, 0.04487969351382675, 0.007662386697482616, 0.6250318291803677, 0.15324773394965233, 0.10946266710689452, 0.02517641343458574, 0.014230146723896287, 0.0032838800132068357, 0.015324773394965232, 0.9888194665603905, 0.8360799499056896, 0.13934665831761492, 0.6738337917971119, 0.0077009576205384215, 0.011551436430807633, 0.06545813977457658, 0.03465430929242289, 0.10011244906699948, 0.10396292787726868, 0.1319438356087875, 0.8576349314571187, 0.013194383560878748, 0.7317359512954157, 0.10270259878279811, 0.890089189450917, 0.9904690419082935, 0.9226621885903128, 0.7317359512954157, 0.2585870762768773, 0.02096651969812519, 0.6289955909437557, 0.05031964727550045, 0.009784375859125088, 0.030750895557250277, 0.9915792463557783, 0.9081649828680644, 0.9081845503901971, 0.25447785438932125, 0.0029938571104626025, 0.6646362785226978, 0.035926285325551234, 0.026944713994163424, 0.014969285552313014, 0.02815762048494853, 0.031830353591680946, 0.6060009626108488, 0.07590315087246995, 0.11752745941543734, 0.0012242443689108055, 0.008569710582375639, 0.11385472630870493, 0.014690932426929667, 0.2577450632880052, 0.08591502109600176, 0.2773397172221811, 0.25020865792870683, 0.08365409948821223, 0.010550967503017759, 0.0037682026796491998, 0.0037682026796491998, 0.021855575541965357, 0.0052754837515088795, 0.15206338151108278, 0.6185879306130455, 0.07234083198100055, 0.14615800747181742, 0.005905374039265351, 0.0029526870196326755, 0.9564065571945194, 0.8737172695224703, 0.11528447686294302, 0.43755699172980644, 0.06462917642316503, 0.1074241716222878, 0.05414876943562475, 0.10567743712436443, 0.07248948166382023, 0.0026201017468850687, 0.039301526203276024, 0.9606417033586532, 0.9081617705912556, 0.9511478147416266, 0.696944561834313, 0.11404547375470576, 0.08236617548950971, 0.025343438612156835, 0.08236617548950971, 0.8702298062134715, 0.9401621062099533, 0.022384812052617935, 0.022384812052617935, 0.9405132072485145, 0.8559018431250831, 0.23017485759725823, 0.10700436523752138, 0.19168407873484045, 0.15935182449040952, 0.082370266765574, 0.17243868930363157, 0.0007698155772483552, 0.010007602504228618, 0.013856680390470394, 0.03233225424443092, 0.1610386762747871, 0.21124101665194744, 0.37945145583775747, 0.09910072386140745, 0.07725944590511041, 0.020211331840155465, 0.00912769825039279, 0.013039568929132559, 0.017929407277557267, 0.011083633589762675, 0.8881265137740051, 0.5687804200055149, 0.04117867294157574, 0.023163003529636354, 0.007721001176545451, 0.07206267764775755, 0.22390903411981808, 0.06176800941236361, 0.17910176484398982, 0.20696203937527713, 0.2717798209378639, 0.044917585468810146, 0.09438378718762638, 0.11200967515639998, 0.02956600562503959, 0.0022743081250030453, 0.01250869468751675, 0.04662331656256243, 0.15285246463269545, 0.3167545050219713, 0.12154533332238433, 0.06629745453948237, 0.10128777776865361, 0.112337353525234, 0.03499032322917125, 0.0018415959594300655, 0.09207979797150329, 0.9469274866829679, 0.06476551621473636, 0.18134344540126182, 0.7253737816050473, 0.025906206485894544, 0.9896414857300868, 0.9366701272804603, 0.7589976616883354, 0.8184551740472049, 0.10879267114418077, 0.06675913911120183, 0.19038717450231635, 0.18544205308667178, 0.027198167786045193, 0.051923774864268094, 0.34863105980294296, 0.017307924954756033, 0.8713442650015881, 0.9492600973607708, 0.09872990457620134, 0.18355418878955743, 0.1126355249390466, 0.17242969249928122, 0.05284135737881199, 0.18355418878955743, 0.008343372217707156, 0.08482428421335608, 0.10290159068505493, 0.2869289436057675, 0.014346447180288375, 0.6025507815721117, 0.023910745300480624, 0.019128596240384498, 0.0573857887211535, 0.07259780710400877, 0.41965073862561175, 0.1026993368788417, 0.0690564506599108, 0.05843238132761682, 0.07082712888195979, 0.12040611909933163, 0.05843238132761682, 0.014165425776391957, 0.014165425776391957, 0.9435971652457386, 0.29819117165420933, 0.40632643170463695, 0.06007514447245976, 0.09175112973975673, 0.07318244872099644, 0.021845507080894458, 0.009830478186402506, 0.0076459274783130604, 0.001092275354044723, 0.028399159205162797, 0.9081841557518463, 0.017550210320933193, 0.7926844994954826, 0.014625175267444328, 0.005850070106977731, 0.05265063096279958, 0.07897594644419936, 0.03802545569535525, 0.8887120095412665, 0.9015982659266771, 0.18634118246978817, 0.08695921848590114, 0.5497064882858751, 0.09938196398388702, 0.006211372748992939, 0.06521941386442585, 0.908184659797874, 0.9348437753445824, 0.9081828250095169, 0.06025079384559531, 0.1656896830753871, 0.09037619076839297, 0.5271944461489589, 0.13556428615258945, 0.8430108521308576, 0.13442084990498324, 0.8065250994298994, 0.11677377231046784, 0.11677377231046784, 0.7590295200180409, 0.11887569916255168, 0.07662130372562573, 0.33014767634718145, 0.3357815957387716, 0.018028542053088407, 0.0016901758174770382, 0.005070527452431114, 0.11380517171012057, 0.24009900537109247, 0.09337183542209151, 0.2878379888951693, 0.2099111187308674, 0.12987811694050325, 0.00842452650424886, 0.01684905300849772, 0.012636789756373288, 0.0833988844419425, 0.8339888444194251, 0.8707837736273213, 0.07986863114119584, 0.8146600376401976, 0.07188176802707626, 0.021963873563828857, 0.005990147335589688, 0.10089448211597368, 0.8744188450051052, 0.8840510800415369, 0.22492449937978415, 0.269909399255741, 0.1106628536948538, 0.14575107559810013, 0.07017644380649266, 0.14575107559810013, 0.01349546996278705, 0.0062978859826339564, 0.0008996979975191366, 0.012595771965267913, 0.1152508616511104, 0.06585763522920594, 0.3233011183979201, 0.1676376169470697, 0.0014967644370274078, 0.16015379476193264, 0.16015379476193264, 0.004490293311082224, 0.7995794762367722, 0.09750969222399661, 0.09750969222399661, 0.25514035606838253, 0.056697856904085006, 0.06614749972143251, 0.6142267831275875, 0.8707837227117821, 0.82670986961356, 0.17555950072776588, 0.7802644476789594, 0.009753305595986993, 0.019506611191973985, 0.009753305595986993, 0.15539535079036396, 0.08933355915001599, 0.16065026603448254, 0.14413481812439555, 0.07882372866177882, 0.09834198528279071, 0.027025278398324165, 0.03603370453109889, 0.2064430988760874, 0.003753510888656134, 0.2584447003232119, 0.6813542099430132, 0.04698994551331125, 0.9217840044113935, 0.8727018278543793, 0.11067694630930941, 0.7747386241651659, 0.14010977769876026, 0.8518674484084623, 0.8114861325917349, 0.08114861325917348, 0.10143576657396686, 0.8967217952111877, 0.21617753442327273, 0.44143815852819557, 0.18347841156933234, 0.016349561426970208, 0.03814897666293048, 0.023616033172290298, 0.08174780713485104, 0.13467134842506762, 0.1897641727807771, 0.197826537320637, 0.25142633120600205, 0.0815194636808059, 0.055242127402743924, 0.030159215500957494, 0.014183789468272088, 0.035384822147163, 0.00985400110427324, 0.9129759525717198, 0.2605475567019503, 0.0901895388583674, 0.5511582930233564, 0.08016847898521547, 0.020042119746303867, 0.939979351367025, 0.9376971213391948, 0.21832695522200193, 0.10916347761100097, 0.10916347761100097, 0.5458173880550048, 0.056930065193913734, 0.08946153101900729, 0.6262307171330511, 0.17892306203801459, 0.008132866456273391, 0.032531465825093565, 0.41949511780918264, 0.13231303882118897, 0.06790054013319365, 0.04162396124603309, 0.23114087976847425, 0.032322517392170944, 0.052088085581628, 0.008371299468475929, 0.005813402408663839, 0.00906890775751559, 0.8707833251149717, 0.8393738631715029, 0.16494484571469456, 0.1924356533338103, 0.09346874590499359, 0.17869024952425244, 0.038487130666762064, 0.02474172685720418, 0.08522150361925886, 0.002749080761911576, 0.21717738019101449, 0.002749080761911576, 0.36819823967754267, 0.030471578456072495, 0.007617894614018124, 0.0660217533214904, 0.37073753788221536, 0.10157192818690833, 0.022853683842054374, 0.030471578456072495, 0.36365165670280347, 0.03827912175818984, 0.583756606812395, 0.12553780547544333, 0.8648159932752764, 0.2390987602789012, 0.19725647723009349, 0.01195493801394506, 0.04184228304880771, 0.23312129127192868, 0.01793240702091759, 0.03586481404183518, 0.20921141524403855, 0.5611242576363814, 0.07954303806247626, 0.012104375357333344, 0.021614955995238116, 0.17162275060219062, 0.06354797062600005, 0.061818774146381004, 0.0004322991199047623, 0.028099442793809548, 0.16678158194652876, 0.06986796000462692, 0.6152888090730048, 0.09465981678046227, 0.031553272260154086, 0.0022538051614395776, 0.00901522064575831, 0.004507610322879155, 0.004507610322879155, 0.3440057851438173, 0.18247742769648, 0.28667148761984773, 0.07166787190496193, 0.08545015496360846, 0.013230991736300666, 0.004410330578766888, 0.004410330578766888, 0.006615495868150333, 0.001102582644691722, 0.7369071802562017, 0.10114412278026297, 0.043347481191541276, 0.0577966415887217, 0.02889832079436085, 0.02889832079436085, 0.8430101749952018, 0.8856551067270017, 0.24031338183799156, 0.6007834545949788, 0.06201844640019579, 0.8682582496027411, 0.6891446356636456, 0.03828581309242476, 0.10209550157979935, 0.051047750789899676, 0.10209550157979935, 0.8840451988740616, 0.8057472645245671, 0.1438834400936727, 0.02877668801873454, 0.7317359983958869, 0.17703620175464677, 0.03934137816769928, 0.7212585997411535, 0.03278448180641606, 0.026227585445132852, 0.3214372873983624, 0.09615645349523662, 0.40935175916543587, 0.09615645349523662, 0.03846258139809464, 0.008241981728163138, 0.02747327242721046, 0.10988465762075737, 0.043953863048302955, 0.010988465762075739, 0.054942328810378686, 0.7362272060590744, 0.043953863048302955, 0.010988465762075739, 0.9123603169808652, 0.9312809497703844, 0.8457598083349065, 0.04504310065111613, 0.19083145695701872, 0.42876905734306725, 0.1320347377864778, 0.1409745898241039, 0.017192023149280967, 0.02441267287197897, 0.007220649722698006, 0.005845287870755528, 0.007220649722698006, 0.8881984933047261, 0.9346741356431449, 0.9486070596745666, 0.16826324368460394, 0.11382513543370265, 0.2660043925896312, 0.26847885205558125, 0.10887621650180254, 0.025981824392475605, 0.017321216261650403, 0.0012372297329750288, 0.01979567572760046, 0.008660608130825202, 0.21211375706871569, 0.01855995374351262, 0.20415949117863885, 0.5276329707084303, 0.03181706356030735, 0.002651421963358946, 0.9469273902613777, 0.8897957123681206, 0.5142691968265833, 0.016589328929889784, 0.02488399339483468, 0.008294664464944892, 0.14930396036900806, 0.09124130911439382, 0.19907194715867743, 0.8713439712636492, 0.5791429257532791, 0.12657702528673623, 0.060283192210582474, 0.02722466744994047, 0.052504715796313765, 0.029346070108377392, 0.06947593706380913, 0.05109044735735582, 0.00035356710973948665, 0.0040660217620040965, 0.2649751275391504, 0.07314417583111964, 0.04416252125652507, 0.04002228488872584, 0.027601575785328167, 0.031741812153127394, 0.2994770972708106, 0.12834732740177598, 0.08832504251305014, 0.0013800787892664084, 0.8430104045132979, 0.0485095303306022, 0.01865751166561623, 0.30225168898298294, 0.47390079630665227, 0.07463004666246492, 0.04104652566435571, 0.022389013998739476, 0.014926009332492985, 0.8707838349549806, 0.7985196561939084, 0.962481037895334, 0.924806751884663, 0.8840826360564081, 0.7317359983958869, 0.8726537756452988, 0.8563234056676161, 0.07784758233341965, 0.9123603629035162, 0.9469276398747126, 0.30658692572457646, 0.04695475439025045, 0.03590657688666211, 0.008286133127691256, 0.0193343106312796, 0.20715332819228138, 0.0386686212625592, 0.22096355007176682, 0.11600586378767758, 0.9552940198867319, 0.06773256285912746, 0.9233017779217901, 0.003564871729427761, 0.003564871729427761, 0.7985196561939084, 0.12360944165900971, 0.12360944165900971, 0.7416566499540582, 0.9022035572014099, 0.3998561830895025, 0.13282893753315664, 0.07805411793185493, 0.03012615078071594, 0.22594613085536955, 0.017801816370423055, 0.046558596661106455, 0.005477481960130171, 0.06299104254149697, 0.6959117504624779, 0.07325386846973451, 0.18313467117433627, 0.2515017038969447, 0.07942159070429831, 0.07280312481227347, 0.1323693178404972, 0.05294772713619888, 0.08604005659632318, 0.31768636281719326, 0.00661846589202486, 0.27633192548481167, 0.5455784169828334, 0.007085433986790043, 0.17005041568296103, 0.4653819584993369, 0.046349016192007125, 0.05391620250906952, 0.0681046768535615, 0.08134725290842068, 0.046349016192007125, 0.08891443922548306, 0.14661423489308378, 0.0028376948688983955, 0.9302346477546309, 0.931281029856551, 0.020726759332859578, 0.21623051628334586, 0.4475859650528325, 0.08122648927742267, 0.17085571882492354, 0.019606393963515815, 0.03585169181900035, 0.005041644162046924, 0.002240730738687522, 0.0005601826846718805, 0.7985196561939084, 0.4091908530001934, 0.09103777759957465, 0.002874877187354989, 0.010541216353634959, 0.22903188259261412, 0.07857997645436969, 0.08337143843329468, 0.026832187081979895, 0.0009582923957849963, 0.06612217530916474, 0.7985196561939084, 0.9224964280663336, 0.5697742207690684, 0.06391697989396601, 0.01826199425541886, 0.019175093968189803, 0.15614005088383123, 0.062090780468424124, 0.05569908247902752, 0.000913099712770943, 0.05295978334071469, 0.9202830865354612, 0.5995385041481214, 0.04675300261705533, 0.03850247274345733, 0.022001412996261335, 0.016501059747196, 0.156760067598362, 0.057753709115186, 0.019251236371728667, 0.03850247274345733, 0.8233489249844357, 0.16466978499688714, 0.44331560173477547, 0.1416281791100158, 0.10670616234316257, 0.021341232468632516, 0.1367778990035084, 0.05141296912897834, 0.04365252095856651, 0.035892072788154684, 0.005820336127808868, 0.012610728276919215, 0.9840412416795519, 0.37295776661008234, 0.5801565258379058, 0.02762650123037647, 0.29026373253929627, 0.025240324568634457, 0.6310081142158614, 0.03786048685295169, 0.012620162284317228, 0.3116085342077038, 0.6232170684154076, 0.02596737785064198, 0.5099809016677024, 0.16343017312131, 0.057102108680939644, 0.07876152921508917, 0.07088537629358024, 0.011814229382263374, 0.0019690382303772292, 0.10632806444037037, 0.08570345467081923, 0.007452474319201672, 0.02608366011720585, 0.003726237159600836, 0.15277572354363428, 0.007452474319201672, 0.7154375346433606, 0.12797207658994567, 0.042657358863315224, 0.08531471772663045, 0.767832459539674, 0.9176199781852259, 0.9094444783338274, 0.06062963188892182, 0.3510424801859457, 0.22453804125606058, 0.06486654525175084, 0.08218385823751237, 0.13208120073885915, 0.054887076751481474, 0.03375408463326401, 0.019958937000538718, 0.019958937000538718, 0.016730285426922162, 0.3009381891299055, 0.287974697905848, 0.05185396489622987, 0.14630225810007713, 0.08889251125067978, 0.04444625562533989, 0.03981643733103365, 0.0018519273177224954, 0.0388904736721724, 0.046249859899251275, 0.0693747898488769, 0.03468739492443845, 0.5723420162532346, 0.1214058822355346, 0.017343697462219226, 0.13296834721034742, 0.09294902361837012, 0.3201577480188304, 0.16782462597761272, 0.033564925195522545, 0.041310677163720055, 0.0722936850365101, 0.2323725590459253, 0.041310677163720055, 0.1457744942231993, 0.04859149807439977, 0.7288724711159965, 0.2659853174164073, 0.16624082338525456, 0.16624082338525456, 0.36572981144756, 0.14359434610904417, 0.035898586527261044, 0.789768903599743, 0.8713441973582546, 0.07434398425124815, 0.10532064435593488, 0.32835259710967934, 0.018585996062812037, 0.018585996062812037, 0.43986857348655156, 0.012390664041874692, 0.7985196449132558, 0.2609973194698455, 0.1549269802764354, 0.21471208054908472, 0.16778399108775782, 0.049499491623591386, 0.07971346703019912, 0.02314261946038039, 0.014785562433020804, 0.008999907567925706, 0.025071171082078757, 0.8108162165253467, 0.023873941080777214, 0.04433731915001483, 0.719628795434856, 0.05797957119617324, 0.10231689034618807, 0.010231689034618806, 0.01364225204615841, 0.02728450409231682, 0.17537099497224304, 0.04091989882685671, 0.631335581900075, 0.04968844857546886, 0.029228499162040508, 0.04091989882685671, 0.002922849916204051, 0.011691399664816204, 0.014614249581020254, 0.012264765034071248, 0.11283583831345548, 0.5911616746422341, 0.03679429510221374, 0.15944194544292623, 0.03679429510221374, 0.024529530068142496, 0.007358859020442749, 0.019623624054513997, 0.18689119959118639, 0.7653639602305728, 0.017799161865827275, 0.008899580932913638, 0.026698742798740915, 0.1417661857375275, 0.22725549168227893, 0.3917901860382578, 0.12243443313695557, 0.08720768395369116, 0.005155134026819182, 0.011599051560343158, 0.003866350520114386, 0.006443917533523977, 0.002147972511174659, 0.020761210352919175, 0.04844282415681141, 0.8788912382735785, 0.006920403450973059, 0.027681613803892235, 0.013840806901946117, 0.9348437753445824, 0.9176194811589662, 0.08002493902960679, 0.08383565041196901, 0.041917825205984506, 0.0685928048825201, 0.5944709756485076, 0.08574100610315012, 0.005716067073543342, 0.032391046750078936, 0.005716067073543342, 0.7985196561939084, 0.3325159057233214, 0.04058879600378571, 0.024977720617714284, 0.029661043233535713, 0.4667711540435357, 0.05776097892846428, 0.02809993569492857, 0.009366645231642858, 0.01092775277025, 0.1848066344465115, 0.739226537786046, 0.849145478544458, 0.11285373691240584, 0.8275940706909762, 0.01880895615206764, 0.03761791230413528, 0.01880895615206764, 0.8830830064078579, 0.5556082861836497, 0.18422025403967165, 0.00884257219390424, 0.00884257219390424, 0.1370598690055157, 0.03537028877561696, 0.03684405080793433, 0.026527716581712716, 0.005895048129269493, 0.16382523506424768, 0.4227095571410835, 0.35798847662187455, 0.03842814155828032, 0.00606760129867584, 0.00202253376622528, 0.00606760129867584, 0.0960595647379897, 0.3722308133597101, 0.012007445592248712, 0.024014891184497424, 0.012007445592248712, 0.22814146625272555, 0.252156357437223, 0.3110062237227082, 0.050386483172952724, 0.006949859747993479, 0.42220397969060386, 0.1546343793928549, 0.027799438991973915, 0.024324509117977174, 0.0034749298739967394, 0.9005198725773136, 0.08658844928628015, 0.310167600312541, 0.07754190007813525, 0.5427933005469467, 0.10956766303981792, 0.015288511121835059, 0.4382706521592717, 0.13759660009651553, 0.015288511121835059, 0.24461617794936094, 0.038221277804587644, 0.00254808518697251, 0.26256374985118297, 0.26256374985118297, 0.047738863609305994, 0.09547772721861199, 0.33417204526514194, 0.8967219440051202, 0.20817466797645395, 0.16653973438116315, 0.20817466797645395, 0.4163493359529079, 0.8108163274457839, 0.37175444955465514, 0.5782846993072414, 0.9601151206562901, 0.08765802578403478, 0.15096659996139325, 0.1558364902827285, 0.029219341928011594, 0.2970633096014512, 0.2532342967094338, 0.029219341928011594, 0.7954270583867238, 0.1195557648537306, 0.026567947745273466, 0.7272975695268612, 0.06974086283134286, 0.0066419869363183665, 0.05313589549054693, 0.921156645127808, 0.9761842892499578, 0.8775208633532063, 0.03510083453412825, 0.03510083453412825, 0.05265125180119238, 0.1469325554504293, 0.030250820239794265, 0.25929274491252224, 0.5531578558133808, 0.004321545748542038, 0.008643091497084076, 0.1862218420615126, 0.08122442047363848, 0.02377300111423565, 0.029716251392794567, 0.04160275194991239, 0.26150301225659217, 0.009905417130931522, 0.03169733481898087, 0.33480309902548544, 0.8119298292792899, 0.062456140713791526, 0.12491228142758305, 0.9123604890197454, 0.8267092820767449, 0.37485809216366134, 0.19018535558303407, 0.05512619002406784, 0.056504344774669535, 0.06477327327827971, 0.04410095201925427, 0.07166404703128819, 0.08682374928790686, 0.01378154750601696, 0.04134464251805088, 0.08335008950203705, 0.8335008950203705, 0.11476328541255962, 0.8750700512707671, 0.757735008690591, 0.053487177084041715, 0.017829059028013905, 0.008914529514006952, 0.02377207870401854, 0.03565811805602781, 0.04754415740803708, 0.014857549190011587, 0.03862962789403013, 0.019883507255409893, 0.21871857980950882, 0.019883507255409893, 0.5965052176622967, 0.11930104353245935, 0.019883507255409893, 0.9345663773505664, 0.7317359983958869, 0.07109510247726718, 0.3554755123863359, 0.0658287985900622, 0.15798911661614928, 0.06846195053366469, 0.07372825442086967, 0.05529619081565225, 0.11849183746211196, 0.002633151943602488, 0.03159782332322986, 0.09362986727751846, 0.16417291796605976, 0.0641300460804921, 0.23728117049782077, 0.09619506912073815, 0.09234726635590862, 0.02052161474575747, 0.03334762396185589, 0.1988031428495255, 0.9406733581105788, 0.12607602554298186, 0.02701629118778183, 0.11707059514705459, 0.37372536143098195, 0.009005430395927277, 0.02251357598981819, 0.32419549425338196, 0.07621129666063102, 0.11431694499094652, 0.6859016699456791, 0.11431694499094652, 0.9353507391606547, 0.14491596981784174, 0.7970378339981296, 0.9081633938789144, 0.517040984923983, 0.02721268341705174, 0.40819025125577607, 0.09360643077226029, 0.8307570731038101, 0.058504019232662685, 0.935319835891557, 0.5090402345431184, 0.24557912954539204, 0.14186367192185267, 0.002384263393644583, 0.026226897330090412, 0.002384263393644583, 0.05483805805382541, 0.004768526787289166, 0.013113448665045206, 0.5389090840043076, 0.11032159451634575, 0.12857624684638858, 0.016667291257865185, 0.06270076235101665, 0.021429374474398095, 0.034921943587908004, 0.05476395699012847, 0.020635693938309278, 0.011111527505243456, 0.8430113417294159, 0.022918713787516403, 0.3346132212977395, 0.08250736963505906, 0.10542608342257545, 0.009167485515006561, 0.03208619930252297, 0.3804506488727723, 0.03208619930252297, 0.10106651786477033, 0.08958168628922825, 0.039048427356843086, 0.578835511407321, 0.062018090507927254, 0.04364235998705992, 0.018375730520867335, 0.029860562096409415, 0.03675146104173467, 0.9015983107126585, 0.9157589984165669, 0.8733047771744892, 0.03257369291669921, 0.5320369843060871, 0.07329080906257322, 0.051575013784773756, 0.027144744097249342, 0.10586450197927244, 0.12486582284734699, 0.051575013784773756, 0.9123731652388115, 0.8910997971966125, 0.0524176351292125, 0.07570809418382875, 0.14771307506518763, 0.3719571583814195, 0.14359850472910998, 0.14524433286354102, 0.022218679814819307, 0.030859277520582373, 0.006171855504116475, 0.048551929965716265, 0.007406226604939769, 0.03509196739676878, 0.15031059368282626, 0.46321396963734784, 0.17896903372352077, 0.10586076831358582, 0.023394644931179185, 0.005848661232794796, 0.025149243301017626, 0.010527590219030634, 0.0005848661232794796, 0.9158856970731825, 0.11768998955879881, 0.8630599234311912, 0.004916722202919125, 0.5703397755386186, 0.004916722202919125, 0.3392538320014196, 0.07375083304378688, 0.061565614904270455, 0.27704526706921706, 0.061565614904270455, 0.030782807452135227, 0.5233077266862989, 0.030782807452135227, 0.010247506364616901, 0.020495012729233802, 0.010247506364616901, 0.1332175827400197, 0.8198005091693521, 0.16479619732627546, 0.027466032887712575, 0.1853957219920599, 0.03433254110964072, 0.5767866906419641, 0.006866508221928144, 0.9312809581054863, 0.3467377949918061, 0.1834591507893154, 0.16327864420249072, 0.10181982868807006, 0.06879718154599328, 0.025684281110504158, 0.010090253293412347, 0.08989498388676455, 0.004586478769732886, 0.005503774523679462, 0.08376735735878142, 0.8376735735878142, 0.8960373390572467, 0.3005668702953585, 0.018537163806762198, 0.08871356964664766, 0.0715004889689399, 0.1668344742608598, 0.14035281167977093, 0.026481662581088854, 0.02383349632297997, 0.12313973100206317, 0.03839841074257884, 0.05142854049971412, 0.01714284683323804, 0.27999983160955466, 0.6114282037188234, 0.039999975944222096, 0.17463044509737344, 0.6432221394419921, 0.0407471038560538, 0.12515181898645095, 0.014552537091447786, 0.002910507418289557, 0.8602763169379496, 0.11470350892505995, 0.9348437753445824, 0.9914161504917259, 0.21195298182367142, 0.7630307345652171, 0.14385774840408735, 0.8631464904245242, 0.13407269032403862, 0.5745972442458799, 0.014364931106146997, 0.004788310368715665, 0.04070063813408315, 0.12689022477096512, 0.059853879608945816, 0.04070063813408315, 0.08620487731388711, 0.02873495910462904, 0.8381029738850136, 0.043102438656943555, 0.9446266606474252, 0.03373666645169376, 0.99031167901735, 0.1607559000776434, 0.8037795003882171, 0.3675795725001304, 0.22203505968938514, 0.2783406011417172, 0.010623687066477757, 0.04249474826591103, 0.006374212239886655, 0.0053118435332388785, 0.054180804039036565, 0.0021247374132955517, 0.009561318359829981, 0.8830823761122281, 0.018565501565804842, 0.5569650469741453, 0.10675163400337784, 0.02784825234870726, 0.02320687695725605, 0.04177237852306089, 0.06497925548031694, 0.11139300939482905, 0.0464137539145121, 0.8683703399911303, 0.04038931813912234, 0.010097329534780585, 0.04038931813912234, 0.030291988604341756, 0.8702168878600391, 0.8985370491829106, 0.06141315357437211, 0.15353288393593026, 0.7062512661052792, 0.09211973036155816], \"Term\": [\"absolutely\", \"absolutely\", \"absolutely\", \"absolutely\", \"absolutely\", \"absolutely\", \"absolutely\", \"acces\", \"access\", \"access\", \"access\", \"access\", \"access\", \"access\", \"access\", \"access\", \"access\", \"access\", \"accesses\", \"added\", \"added\", \"added\", \"added\", \"added\", \"added\", \"added\", \"additional\", \"additional\", \"additional\", \"additional\", \"additional\", \"additional\", \"additional\", \"additional\", \"adjust\", \"adjusted\", \"adjusted\", \"adjusted\", \"advance\", \"adventurers\", \"adventurers\", \"adventurers\", \"adventurers\", \"advisor\", \"affordable\", \"affordable\", \"affordable\", \"affordable\", \"affordable\", \"affordable\", \"airbnb\", \"airbnb\", \"airbnb\", \"airbnb\", \"airbnb\", \"airbnb\", \"airbnb\", \"airbnb\", \"airbnb\", \"alberta\", \"alberta\", \"alberta\", \"alberta\", \"alberta\", \"alberta\", \"alberta\", \"alberta\", \"alberta\", \"alexa\", \"allergen\", \"alphabet\", \"ambiance\", \"ambiance\", \"ambiance\", \"ambiance\", \"ambiance\", \"amtrak\", \"amusement\", \"amusement\", \"answers\", \"apartment\", \"apartment\", \"apartment\", \"apartment\", \"apartment\", \"apartment\", \"apartment\", \"apartment\", \"apartment\", \"apartment\", \"apizza\", \"arboretum\", \"area\", \"area\", \"area\", \"area\", \"area\", \"area\", \"area\", \"area\", \"area\", \"area\", \"arriv\", \"artifacts\", \"artifacts\", \"artifacts\", \"arts\", \"arts\", \"arts\", \"arts\", \"arts\", \"arts\", \"arts\", \"arts\", \"asap\", \"assessed\", \"assist\", \"assist\", \"assist\", \"assist\", \"attributes\", \"autentica\", \"autentica\", \"authentically\", \"ava\", \"avail\", \"avail\", \"available\", \"available\", \"available\", \"available\", \"available\", \"available\", \"available\", \"available\", \"available\", \"available\", \"avenues\", \"awaiting\", \"away\", \"away\", \"away\", \"away\", \"away\", \"away\", \"away\", \"away\", \"away\", \"away\", \"backup\", \"backup\", \"baked\", \"bakery\", \"bakery\", \"bakery\", \"bakery\", \"bakery\", \"barbecue\", \"barbecue\", \"barbecue\", \"barn\", \"barn\", \"bars\", \"bars\", \"bars\", \"bars\", \"bars\", \"bars\", \"bars\", \"bars\", \"bars\", \"bars\", \"basement\", \"basement\", \"basement\", \"basement\", \"basement\", \"basement\", \"basement\", \"basement\", \"basement\", \"basement\", \"bath\", \"bath\", \"bath\", \"bath\", \"bath\", \"bath\", \"bath\", \"bath\", \"bath\", \"bathrobes\", \"bathroom\", \"bathroom\", \"bathroom\", \"bathroom\", \"bathroom\", \"bathroom\", \"bathroom\", \"bathroom\", \"bathroom\", \"bathroom\", \"batteries\", \"beams\", \"beams\", \"beautiful\", \"beautiful\", \"beautiful\", \"beautiful\", \"beautiful\", \"beautiful\", \"beautiful\", \"beautiful\", \"beautiful\", \"beautiful\", \"beautifully\", \"beautifully\", \"beautifully\", \"beautifully\", \"beautifully\", \"beautifully\", \"beautifully\", \"beautifully\", \"beautifully\", \"bed\", \"bed\", \"bed\", \"bed\", \"bed\", \"bed\", \"bed\", \"bed\", \"bed\", \"bed\", \"bedroom\", \"bedroom\", \"bedroom\", \"bedroom\", \"bedroom\", \"bedroom\", \"bedroom\", \"bedroom\", \"bedroom\", \"bedroom\", \"bedrooms\", \"bedrooms\", \"bedrooms\", \"bedrooms\", \"bedrooms\", \"bedrooms\", \"bedrooms\", \"bedrooms\", \"beds\", \"beds\", \"beds\", \"beds\", \"beds\", \"beds\", \"beds\", \"beds\", \"beds\", \"beds\", \"beings\", \"beit\", \"bellaterra\", \"belmont\", \"belmont\", \"belmont\", \"belmont\", \"belmont\", \"belmont\", \"belmont\", \"bike\", \"bike\", \"bike\", \"bike\", \"bike\", \"bike\", \"bike\", \"bike\", \"bike\", \"biwa\", \"blazing\", \"blended\", \"blocks\", \"blocks\", \"blocks\", \"blocks\", \"blocks\", \"blocks\", \"blocks\", \"blocks\", \"blocks\", \"blocks\", \"bluebird\", \"bohemian\", \"bohemian\", \"bohemian\", \"bohemian\", \"boil\", \"bon\", \"bosch\", \"bottled\", \"boxes\", \"brand\", \"brand\", \"brand\", \"brand\", \"brand\", \"brand\", \"brand\", \"brand\", \"brand\", \"brewery\", \"brewery\", \"brewery\", \"brewery\", \"brewery\", \"bridge\", \"bridge\", \"bridge\", \"bubble\", \"building\", \"building\", \"building\", \"building\", \"building\", \"building\", \"building\", \"building\", \"built\", \"built\", \"built\", \"built\", \"built\", \"built\", \"built\", \"built\", \"built\", \"built\", \"bungalow\", \"bungalow\", \"bungalow\", \"bungalow\", \"bungalow\", \"bungalow\", \"bungalow\", \"bungalow\", \"bungalow\", \"bunk\", \"bunk\", \"bunk\", \"burned\", \"bus\", \"bus\", \"bus\", \"bus\", \"bus\", \"bus\", \"bus\", \"bus\", \"bus\", \"business\", \"business\", \"business\", \"business\", \"business\", \"business\", \"business\", \"business\", \"business\", \"cabin\", \"cabin\", \"cabin\", \"cabin\", \"cabin\", \"cabin\", \"cable\", \"cable\", \"cable\", \"cable\", \"cable\", \"cable\", \"cable\", \"cable\", \"cable\", \"cabs\", \"california\", \"california\", \"california\", \"cap\", \"capacity\", \"capacity\", \"car\", \"car\", \"car\", \"car\", \"car\", \"car\", \"car\", \"car\", \"cares\", \"carpeted\", \"carpeted\", \"carpeting\", \"carriage\", \"carriage\", \"carved\", \"carved\", \"carved\", \"casper\", \"casper\", \"ceilings\", \"ceilings\", \"ceilings\", \"ceilings\", \"ceilings\", \"ceilings\", \"ceilings\", \"ceilings\", \"ceilings\", \"cemetery\", \"center\", \"center\", \"center\", \"center\", \"center\", \"center\", \"center\", \"center\", \"center\", \"center\", \"chair\", \"chair\", \"chair\", \"chair\", \"chair\", \"chair\", \"chair\", \"chair\", \"chaneels\", \"character\", \"character\", \"character\", \"character\", \"character\", \"charging\", \"charging\", \"charging\", \"charging\", \"charm\", \"charm\", \"charm\", \"charm\", \"charm\", \"charm\", \"charm\", \"charm\", \"charm\", \"cheese\", \"chris\", \"christian\", \"church\", \"church\", \"cinemax\", \"circles\", \"circular\", \"city\", \"city\", \"city\", \"city\", \"city\", \"city\", \"city\", \"city\", \"city\", \"city\", \"classy\", \"classy\", \"claw\", \"claw\", \"claw\", \"claw\", \"claw\", \"claw\", \"claw\", \"click\", \"click\", \"close\", \"close\", \"close\", \"close\", \"close\", \"close\", \"close\", \"close\", \"close\", \"close\", \"closet\", \"closet\", \"closet\", \"closet\", \"closet\", \"closet\", \"closet\", \"closet\", \"closet\", \"closet\", \"coffee\", \"coffee\", \"coffee\", \"coffee\", \"coffee\", \"coffee\", \"coffee\", \"coffee\", \"coffee\", \"coffee\", \"colony\", \"com\", \"combos\", \"come\", \"come\", \"come\", \"come\", \"come\", \"come\", \"come\", \"come\", \"come\", \"come\", \"comestibles\", \"comfortable\", \"comfortable\", \"comfortable\", \"comfortable\", \"comfortable\", \"comfortable\", \"comfortable\", \"comfortable\", \"comfortable\", \"comfortable\", \"common\", \"common\", \"common\", \"common\", \"common\", \"common\", \"common\", \"common\", \"commons\", \"community\", \"community\", \"community\", \"community\", \"community\", \"community\", \"community\", \"community\", \"community\", \"complaints\", \"complimentary\", \"complimentary\", \"complimentary\", \"complimentary\", \"complimentary\", \"composer\", \"concordia\", \"concordia\", \"concordia\", \"concordia\", \"concordia\", \"concordia\", \"concordia\", \"condo\", \"condo\", \"condo\", \"condo\", \"condos\", \"consisting\", \"consisting\", \"consisting\", \"consisting\", \"controls\", \"controls\", \"convene\", \"conveniences\", \"conveniences\", \"conveniences\", \"conveniences\", \"conveniences\", \"conveniences\", \"cooktop\", \"cooktop\", \"cooktop\", \"cooktop\", \"corridor\", \"corridor\", \"corridor\", \"corridor\", \"corridors\", \"cottage\", \"cottage\", \"cottage\", \"cottage\", \"cottage\", \"cottage\", \"cottage\", \"cottage\", \"cottage\", \"cottage\", \"couch\", \"couch\", \"couch\", \"couch\", \"couch\", \"couch\", \"couch\", \"couch\", \"couch\", \"council\", \"countertops\", \"countertops\", \"countertops\", \"countryside\", \"couples\", \"couples\", \"couples\", \"couples\", \"couples\", \"couples\", \"couples\", \"couples\", \"courthouse\", \"courthouse\", \"courts\", \"courts\", \"coziness\", \"coziness\", \"cozy\", \"cozy\", \"cozy\", \"cozy\", \"cozy\", \"cozy\", \"cozy\", \"cozy\", \"cozy\", \"cozy\", \"craft\", \"craft\", \"craft\", \"craft\", \"craft\", \"craft\", \"craft\", \"craftsman\", \"craftsman\", \"craftsman\", \"craftsman\", \"craftsman\", \"craftsman\", \"craftsman\", \"craftsman\", \"craftspeople\", \"creaks\", \"create\", \"create\", \"create\", \"create\", \"create\", \"create\", \"create\", \"create\", \"create\", \"creation\", \"creator\", \"creek\", \"creek\", \"creek\", \"crema\", \"crest\", \"crest\", \"crossing\", \"crossing\", \"crown\", \"crown\", \"cuddling\", \"cups\", \"cups\", \"cups\", \"curfew\", \"dame\", \"dani\", \"darker\", \"dating\", \"days\", \"days\", \"days\", \"days\", \"days\", \"days\", \"days\", \"days\", \"days\", \"deeply\", \"delicatessen\", \"deserves\", \"desk\", \"desk\", \"desk\", \"desk\", \"desk\", \"desk\", \"desk\", \"desk\", \"desk\", \"dining\", \"dining\", \"dining\", \"dining\", \"dining\", \"dining\", \"dining\", \"dining\", \"dining\", \"director\", \"director\", \"dishes\", \"dishes\", \"dishes\", \"dishes\", \"dishes\", \"dishes\", \"dishes\", \"distance\", \"distance\", \"distance\", \"distance\", \"distance\", \"distance\", \"distance\", \"distance\", \"distance\", \"distance\", \"distilleries\", \"distilleries\", \"distilleries\", \"district\", \"district\", \"district\", \"district\", \"district\", \"district\", \"district\", \"district\", \"district\", \"district\", \"division\", \"division\", \"division\", \"division\", \"division\", \"division\", \"division\", \"doilies\", \"double\", \"double\", \"double\", \"double\", \"double\", \"double\", \"double\", \"double\", \"double\", \"double\", \"downtown\", \"downtown\", \"downtown\", \"downtown\", \"downtown\", \"downtown\", \"downtown\", \"downtown\", \"downtown\", \"downtown\", \"dreamer\", \"dressed\", \"dresser\", \"dresser\", \"dresser\", \"dresser\", \"dresser\", \"dresser\", \"drive\", \"drive\", \"drive\", \"drive\", \"drive\", \"drive\", \"drive\", \"drive\", \"drive\", \"dryer\", \"dryer\", \"dryer\", \"dryer\", \"dryer\", \"dryer\", \"dryer\", \"dryer\", \"dryer\", \"dryer\", \"duplex\", \"duplex\", \"duplex\", \"duplex\", \"duplex\", \"duplex\", \"duplex\", \"dvds\", \"dvds\", \"dwan\", \"easy\", \"easy\", \"easy\", \"easy\", \"easy\", \"easy\", \"easy\", \"easy\", \"easy\", \"easy\", \"echo\", \"electric\", \"electric\", \"electric\", \"electric\", \"electric\", \"electric\", \"electric\", \"elements\", \"elements\", \"elephants\", \"elevator\", \"elevator\", \"eliot\", \"email\", \"email\", \"email\", \"email\", \"email\", \"embracing\", \"emergencies\", \"enjoy\", \"enjoy\", \"enjoy\", \"enjoy\", \"enjoy\", \"enjoy\", \"enjoy\", \"enjoy\", \"enjoy\", \"enjoy\", \"entirety\", \"entrance\", \"entrance\", \"entrance\", \"entrance\", \"entrance\", \"entrance\", \"entrance\", \"entrance\", \"entrance\", \"envision\", \"envision\", \"episode\", \"equal\", \"equal\", \"equipped\", \"equipped\", \"equipped\", \"equipped\", \"equipped\", \"equipped\", \"equipped\", \"equipped\", \"equipped\", \"eurovan\", \"evermore\", \"excess\", \"expatriate\", \"expatriate\", \"expatriate\", \"experience\", \"experience\", \"experience\", \"experience\", \"experience\", \"experience\", \"experience\", \"experience\", \"experience\", \"exposed\", \"exposed\", \"exposed\", \"exposed\", \"exposed\", \"extra\", \"extra\", \"extra\", \"extra\", \"extra\", \"extra\", \"extra\", \"extra\", \"eyes\", \"facilities\", \"facilities\", \"facilities\", \"facilities\", \"facilities\", \"facilities\", \"facilities\", \"facilities\", \"failing\", \"farm\", \"farm\", \"farm\", \"farm\", \"farm\", \"farming\", \"fascinating\", \"fashionable\", \"feast\", \"feast\", \"features\", \"features\", \"features\", \"features\", \"features\", \"features\", \"features\", \"features\", \"features\", \"features\", \"fee\", \"fee\", \"fee\", \"fee\", \"fee\", \"fee\", \"feed\", \"festival\", \"festival\", \"filbert\", \"filled\", \"filled\", \"filled\", \"filled\", \"filled\", \"filled\", \"filled\", \"filled\", \"filled\", \"filmed\", \"fitness\", \"fitness\", \"fixing\", \"flashlight\", \"flat\", \"flat\", \"flat\", \"flat\", \"flat\", \"flat\", \"flat\", \"flat\", \"flat\", \"flatware\", \"flatware\", \"flatware\", \"floor\", \"floor\", \"floor\", \"floor\", \"floor\", \"floor\", \"floor\", \"floor\", \"floor\", \"floor\", \"floors\", \"floors\", \"floors\", \"floors\", \"floors\", \"floors\", \"floors\", \"floors\", \"floors\", \"floors\", \"foam\", \"foam\", \"foam\", \"foam\", \"foam\", \"foam\", \"foam\", \"folded\", \"food\", \"food\", \"food\", \"food\", \"food\", \"food\", \"food\", \"food\", \"food\", \"food\", \"forest\", \"forest\", \"forest\", \"forest\", \"forest\", \"forest\", \"fred\", \"fred\", \"fred\", \"freddie\", \"free\", \"free\", \"free\", \"free\", \"free\", \"free\", \"free\", \"free\", \"free\", \"free\", \"freezer\", \"freezer\", \"freezer\", \"freezer\", \"freezer\", \"frere\", \"fridge\", \"fridge\", \"fridge\", \"fridge\", \"fridge\", \"fridge\", \"fridge\", \"fridge\", \"friendly\", \"friendly\", \"friendly\", \"friendly\", \"friendly\", \"friendly\", \"friendly\", \"friendly\", \"friendly\", \"friendly\", \"fully\", \"fully\", \"fully\", \"fully\", \"fully\", \"fully\", \"fully\", \"fully\", \"fully\", \"furry\", \"furry\", \"furry\", \"futon\", \"futon\", \"futon\", \"futon\", \"futon\", \"futon\", \"futon\", \"futon\", \"futons\", \"futons\", \"futons\", \"galvanized\", \"gaming\", \"gazebo\", \"gazebo\", \"genders\", \"genders\", \"gene\", \"genes\", \"gigabit\", \"gladstone\", \"global\", \"good\", \"good\", \"good\", \"good\", \"good\", \"good\", \"good\", \"good\", \"good\", \"granola\", \"granola\", \"granola\", \"great\", \"great\", \"great\", \"great\", \"great\", \"great\", \"great\", \"great\", \"great\", \"great\", \"grilling\", \"grills\", \"grocer\", \"grocery\", \"grocery\", \"grocery\", \"grocery\", \"grocery\", \"grocery\", \"grocery\", \"grocery\", \"grocery\", \"guest\", \"guest\", \"guest\", \"guest\", \"guest\", \"guest\", \"guest\", \"guest\", \"guest\", \"guests\", \"guests\", \"guests\", \"guests\", \"guests\", \"guests\", \"guests\", \"guests\", \"guests\", \"guests\", \"guided\", \"hafner\", \"hair\", \"hair\", \"hair\", \"hair\", \"hair\", \"hair\", \"hair\", \"handcrafted\", \"handcrafted\", \"handcrafted\", \"handcrafted\", \"haus\", \"haus\", \"haus\", \"hawthorne\", \"hawthorne\", \"hawthorne\", \"hawthorne\", \"hawthorne\", \"hawthorne\", \"hawthorne\", \"hawthorne\", \"hbo\", \"hbo\", \"hbo\", \"hbo\", \"hbo\", \"heart\", \"heart\", \"heart\", \"heart\", \"heart\", \"heart\", \"heart\", \"heart\", \"heart\", \"heart\", \"heats\", \"heats\", \"heavenly\", \"heavenly\", \"heights\", \"heights\", \"hidden\", \"hidden\", \"hidden\", \"hidden\", \"hidden\", \"hidden\", \"hidden\", \"hidden\", \"hidden\", \"high\", \"high\", \"high\", \"high\", \"high\", \"high\", \"high\", \"high\", \"high\", \"high\", \"hiking\", \"hiking\", \"hiking\", \"hiking\", \"hiking\", \"hill\", \"hill\", \"hill\", \"hill\", \"hill\", \"hills\", \"hills\", \"hills\", \"hills\", \"hills\", \"hills\", \"hippie\", \"hippie\", \"hoa\", \"holistic\", \"hollow\", \"home\", \"home\", \"home\", \"home\", \"home\", \"home\", \"home\", \"home\", \"home\", \"home\", \"hospitality\", \"hospitality\", \"hospitality\", \"hospitality\", \"hospitality\", \"hostel\", \"hostel\", \"hostel\", \"hostel\", \"hot\", \"hot\", \"hot\", \"hot\", \"hot\", \"hot\", \"hot\", \"hot\", \"hot\", \"hot\", \"hotel\", \"hotel\", \"hotel\", \"hotel\", \"hotel\", \"hotel\", \"hotel\", \"hotel\", \"hotel\", \"hotplate\", \"house\", \"house\", \"house\", \"house\", \"house\", \"house\", \"house\", \"house\", \"house\", \"house\", \"houseTM\", \"https\", \"huh\", \"indonesia\", \"induction\", \"induction\", \"induction\", \"induction\", \"induction\", \"induction\", \"inn\", \"inn\", \"inn\", \"insurance\", \"intentionally\", \"interiors\", \"interiors\", \"interiors\", \"internet\", \"internet\", \"internet\", \"internet\", \"internet\", \"internet\", \"internet\", \"internet\", \"iron\", \"iron\", \"iron\", \"iron\", \"iron\", \"izakaya\", \"jammer\", \"joke\", \"jump\", \"jump\", \"jumping\", \"jumping\", \"jumping\", \"jungalow\", \"just\", \"just\", \"just\", \"just\", \"just\", \"just\", \"just\", \"just\", \"just\", \"just\", \"katy\", \"kettle\", \"kettle\", \"kettle\", \"kettle\", \"keurig\", \"keurig\", \"keurig\", \"keurig\", \"king\", \"king\", \"king\", \"king\", \"king\", \"king\", \"king\", \"king\", \"kitchen\", \"kitchen\", \"kitchen\", \"kitchen\", \"kitchen\", \"kitchen\", \"kitchen\", \"kitchen\", \"kitchen\", \"kitchen\", \"kitchenette\", \"kitchenette\", \"kitchenette\", \"kitchenette\", \"kitchenette\", \"kitchenette\", \"kitchenette\", \"kitchenette\", \"kitchens\", \"kitchens\", \"ladd\", \"ladd\", \"ladd\", \"lady\", \"laid\", \"laid\", \"laid\", \"laid\", \"laid\", \"laid\", \"landing\", \"landing\", \"landing\", \"landing\", \"landing\", \"large\", \"large\", \"large\", \"large\", \"large\", \"large\", \"large\", \"large\", \"large\", \"large\", \"latex\", \"latex\", \"latex\", \"latin\", \"laughing\", \"laundry\", \"laundry\", \"laundry\", \"laundry\", \"laundry\", \"laundry\", \"laundry\", \"laundry\", \"laundry\", \"led\", \"led\", \"led\", \"led\", \"led\", \"light\", \"light\", \"light\", \"light\", \"light\", \"light\", \"light\", \"light\", \"light\", \"light\", \"lights\", \"lights\", \"lights\", \"lights\", \"lights\", \"lights\", \"like\", \"like\", \"like\", \"like\", \"like\", \"like\", \"like\", \"like\", \"like\", \"like\", \"lily\", \"line\", \"line\", \"line\", \"line\", \"line\", \"line\", \"line\", \"line\", \"line\", \"lined\", \"lined\", \"lined\", \"lined\", \"lined\", \"linens\", \"linens\", \"linens\", \"linens\", \"linens\", \"linens\", \"linens\", \"linens\", \"linens\", \"lines\", \"lines\", \"lines\", \"lines\", \"lines\", \"lines\", \"lines\", \"lines\", \"lite\", \"livable\", \"living\", \"living\", \"living\", \"living\", \"living\", \"living\", \"living\", \"living\", \"living\", \"living\", \"lobby\", \"lobby\", \"lobby\", \"loc\", \"local\", \"local\", \"local\", \"local\", \"local\", \"local\", \"local\", \"local\", \"local\", \"local\", \"locally\", \"locally\", \"locally\", \"locally\", \"locally\", \"located\", \"located\", \"located\", \"located\", \"located\", \"located\", \"located\", \"located\", \"located\", \"located\", \"location\", \"location\", \"location\", \"location\", \"location\", \"location\", \"location\", \"location\", \"location\", \"location\", \"locking\", \"log\", \"log\", \"lotion\", \"lotion\", \"lotion\", \"love\", \"love\", \"love\", \"love\", \"love\", \"love\", \"love\", \"love\", \"love\", \"love\", \"loyal\", \"magic\", \"magic\", \"main\", \"main\", \"main\", \"main\", \"main\", \"main\", \"main\", \"main\", \"main\", \"main\", \"make\", \"make\", \"make\", \"make\", \"make\", \"make\", \"make\", \"make\", \"make\", \"make\", \"maker\", \"maker\", \"maker\", \"maker\", \"maker\", \"marijuana\", \"marijuana\", \"market\", \"market\", \"market\", \"market\", \"market\", \"market\", \"market\", \"marquam\", \"masterpieces\", \"mattress\", \"mattress\", \"mattress\", \"mattress\", \"mattress\", \"mattress\", \"mattress\", \"mattress\", \"mattress\", \"max\", \"max\", \"max\", \"max\", \"max\", \"max\", \"max\", \"max\", \"max\", \"mccall\", \"medium\", \"medium\", \"memory\", \"memory\", \"memory\", \"memory\", \"memory\", \"memory\", \"memory\", \"messaging\", \"messaging\", \"messaging\", \"methods\", \"mexican\", \"mexican\", \"meyer\", \"meyers\", \"microfiber\", \"microwave\", \"microwave\", \"microwave\", \"microwave\", \"microwave\", \"microwave\", \"midnight\", \"mimi\", \"mimosas\", \"mini\", \"mini\", \"mini\", \"mini\", \"mini\", \"mini\", \"minute\", \"minute\", \"minute\", \"minute\", \"minute\", \"minute\", \"minute\", \"minute\", \"minute\", \"minutes\", \"minutes\", \"minutes\", \"minutes\", \"minutes\", \"minutes\", \"minutes\", \"minutes\", \"minutes\", \"minutes\", \"mississippi\", \"mississippi\", \"mississippi\", \"mississippi\", \"mississippi\", \"mississippi\", \"mobility\", \"modem\", \"modern\", \"modern\", \"modern\", \"modern\", \"modern\", \"modern\", \"modern\", \"modern\", \"modern\", \"molding\", \"mts\", \"multiplex\", \"multnomah\", \"multnomah\", \"multnomah\", \"multnomah\", \"multnomah\", \"mural\", \"museum\", \"museum\", \"museum\", \"museums\", \"navarre\", \"need\", \"need\", \"need\", \"need\", \"need\", \"need\", \"need\", \"need\", \"need\", \"need\", \"neighborhood\", \"neighborhood\", \"neighborhood\", \"neighborhood\", \"neighborhood\", \"neighborhood\", \"neighborhood\", \"neighborhood\", \"neighborhood\", \"neighborhood\", \"net\", \"netflix\", \"netflix\", \"netflix\", \"netflix\", \"netflix\", \"netflix\", \"netflix\", \"new\", \"new\", \"new\", \"new\", \"new\", \"new\", \"new\", \"new\", \"new\", \"new\", \"newly\", \"newly\", \"newly\", \"newly\", \"newly\", \"newly\", \"newly\", \"newly\", \"newly\", \"newspapers\", \"nike\", \"nike\", \"nike\", \"nike\", \"nob\", \"nod\", \"nonna\", \"nudes\", \"number\", \"number\", \"number\", \"number\", \"number\", \"number\", \"number\", \"number\", \"numbers\", \"occupancy\", \"offer\", \"offer\", \"offer\", \"offer\", \"offer\", \"offer\", \"offer\", \"offer\", \"offer\", \"ohsu\", \"ohsu\", \"ohsu\", \"ohsu\", \"ohsu\", \"ohsu\", \"old\", \"old\", \"old\", \"old\", \"old\", \"old\", \"old\", \"old\", \"old\", \"old\", \"opal\", \"open\", \"open\", \"open\", \"open\", \"open\", \"open\", \"open\", \"open\", \"open\", \"open\", \"ordinary\", \"original\", \"original\", \"original\", \"original\", \"original\", \"original\", \"original\", \"outer\", \"outing\", \"oven\", \"oven\", \"oven\", \"oven\", \"oven\", \"oven\", \"overlooked\", \"overton\", \"packs\", \"painted\", \"painted\", \"painted\", \"painted\", \"painted\", \"pan\", \"panel\", \"panel\", \"paper\", \"paper\", \"paper\", \"park\", \"park\", \"park\", \"park\", \"park\", \"park\", \"park\", \"park\", \"parking\", \"parking\", \"parking\", \"parking\", \"parking\", \"parking\", \"parking\", \"parking\", \"passionate\", \"passionate\", \"patter\", \"pearl\", \"pearl\", \"pearl\", \"pearl\", \"pearl\", \"peninsula\", \"peninsula\", \"peoples\", \"perfect\", \"perfect\", \"perfect\", \"perfect\", \"perfect\", \"perfect\", \"perfect\", \"perfect\", \"perfect\", \"perfect\", \"phone\", \"phone\", \"phone\", \"phone\", \"phone\", \"phone\", \"phone\", \"phone\", \"ping\", \"ping\", \"ping\", \"pioneer\", \"pioneer\", \"pioneer\", \"pioneer\", \"pip\", \"piping\", \"pizza\", \"pizza\", \"pizza\", \"pizza\", \"pizza\", \"place\", \"place\", \"place\", \"place\", \"place\", \"place\", \"place\", \"place\", \"place\", \"place\", \"plate\", \"plate\", \"plate\", \"plums\", \"podnah\", \"poet\", \"poet\", \"pok\", \"pok\", \"pong\", \"pong\", \"pong\", \"popping\", \"porch\", \"porch\", \"porch\", \"porch\", \"porch\", \"porch\", \"porch\", \"portland\", \"portland\", \"portland\", \"portland\", \"portland\", \"portland\", \"portland\", \"portland\", \"portland\", \"portland\", \"ports\", \"pot\", \"pot\", \"pot\", \"pot\", \"pot\", \"pottery\", \"pour\", \"practical\", \"practical\", \"practical\", \"practical\", \"press\", \"press\", \"press\", \"press\", \"press\", \"press\", \"private\", \"private\", \"private\", \"private\", \"private\", \"private\", \"private\", \"private\", \"private\", \"private\", \"prohibition\", \"promises\", \"property\", \"property\", \"property\", \"property\", \"property\", \"property\", \"property\", \"property\", \"property\", \"property\", \"provided\", \"provided\", \"provided\", \"provided\", \"provided\", \"provided\", \"provided\", \"provided\", \"providence\", \"providence\", \"providence\", \"psu\", \"psu\", \"quality\", \"quality\", \"quality\", \"quality\", \"quality\", \"quality\", \"quality\", \"quality\", \"queen\", \"queen\", \"queen\", \"queen\", \"queen\", \"queen\", \"queen\", \"queen\", \"queen\", \"questions\", \"questions\", \"questions\", \"questions\", \"questions\", \"questions\", \"questions\", \"questions\", \"questions\", \"quiet\", \"quiet\", \"quiet\", \"quiet\", \"quiet\", \"quiet\", \"quiet\", \"quiet\", \"quiet\", \"quiet\", \"quirky\", \"quirky\", \"quirky\", \"quirky\", \"quirky\", \"quirky\", \"rainhead\", \"ramen\", \"received\", \"received\", \"reception\", \"reception\", \"reclaimed\", \"reclaimed\", \"reclaimed\", \"reclaimed\", \"reclaimed\", \"recommending\", \"records\", \"records\", \"records\", \"redid\", \"reed\", \"reed\", \"reed\", \"reed\", \"reed\", \"refrigerator\", \"refrigerator\", \"refrigerator\", \"refrigerator\", \"refrigerator\", \"refrigerator\", \"refrigerator\", \"regular\", \"regular\", \"regular\", \"regular\", \"regular\", \"regular\", \"regular\", \"renovating\", \"rescue\", \"responsibly\", \"restaurants\", \"restaurants\", \"restaurants\", \"restaurants\", \"restaurants\", \"restaurants\", \"restaurants\", \"restaurants\", \"restaurants\", \"restaurants\", \"retaining\", \"retains\", \"rhododendron\", \"right\", \"right\", \"right\", \"right\", \"right\", \"right\", \"right\", \"right\", \"right\", \"right\", \"river\", \"river\", \"river\", \"river\", \"river\", \"river\", \"robert\", \"rogue\", \"roku\", \"roku\", \"roku\", \"roku\", \"roku\", \"roku\", \"roku\", \"rollaway\", \"room\", \"room\", \"room\", \"room\", \"room\", \"room\", \"room\", \"room\", \"room\", \"room\", \"rooms\", \"rooms\", \"rooms\", \"rooms\", \"rooms\", \"rooms\", \"rooms\", \"rooms\", \"rooms\", \"rooms\", \"rooted\", \"rose\", \"rose\", \"rose\", \"rose\", \"rose\", \"rose\", \"rose\", \"rose\", \"rosebud\", \"rusted\", \"sailors\", \"salad\", \"sand\", \"sane\", \"sausage\", \"scandinavian\", \"scandinavian\", \"scholls\", \"sciences\", \"screen\", \"screen\", \"screen\", \"screen\", \"screen\", \"screen\", \"screen\", \"screen\", \"screen\", \"sculpture\", \"seasons\", \"seasons\", \"seasons\", \"seasons\", \"sector\", \"selected\", \"selected\", \"selected\", \"sent\", \"separate\", \"separate\", \"separate\", \"separate\", \"separate\", \"separate\", \"separate\", \"separate\", \"separate\", \"separately\", \"separately\", \"separately\", \"service\", \"service\", \"service\", \"service\", \"service\", \"service\", \"service\", \"service\", \"shampoo\", \"shampoo\", \"shampoo\", \"shampoo\", \"shared\", \"shared\", \"shared\", \"shared\", \"shared\", \"shared\", \"shared\", \"shared\", \"shared\", \"shirt\", \"shlomo\", \"shops\", \"shops\", \"shops\", \"shops\", \"shops\", \"shops\", \"shops\", \"shops\", \"shops\", \"shops\", \"shou\", \"shower\", \"shower\", \"shower\", \"shower\", \"shower\", \"shower\", \"shower\", \"shower\", \"shower\", \"shower\", \"signature\", \"sixth\", \"size\", \"size\", \"size\", \"size\", \"size\", \"size\", \"size\", \"size\", \"size\", \"skyline\", \"sleep\", \"sleep\", \"sleep\", \"sleep\", \"sleep\", \"sleep\", \"sleep\", \"sleep\", \"sleep\", \"smack\", \"smack\", \"small\", \"small\", \"small\", \"small\", \"small\", \"small\", \"small\", \"small\", \"small\", \"small\", \"sms\", \"snacks\", \"snacks\", \"snacks\", \"soap\", \"soap\", \"soap\", \"soap\", \"soap\", \"society\", \"society\", \"society\", \"sofa\", \"sofa\", \"sofa\", \"sofa\", \"sofa\", \"sofa\", \"sofa\", \"sofa\", \"solo\", \"solo\", \"solo\", \"solo\", \"solo\", \"solo\", \"solo\", \"soothing\", \"soothing\", \"soothing\", \"soothing\", \"sos\", \"sourced\", \"sourced\", \"space\", \"space\", \"space\", \"space\", \"space\", \"space\", \"space\", \"space\", \"space\", \"space\", \"spacious\", \"spacious\", \"spacious\", \"spacious\", \"spacious\", \"spacious\", \"spacious\", \"spacious\", \"spacious\", \"speed\", \"speed\", \"speed\", \"speed\", \"speed\", \"speed\", \"speed\", \"square\", \"square\", \"square\", \"square\", \"square\", \"square\", \"square\", \"square\", \"staff\", \"staff\", \"staff\", \"standing\", \"standing\", \"standing\", \"standing\", \"stars\", \"stars\", \"stars\", \"starter\", \"state\", \"state\", \"state\", \"state\", \"state\", \"state\", \"state\", \"stateroom\", \"stay\", \"stay\", \"stay\", \"stay\", \"stay\", \"stay\", \"stay\", \"stay\", \"stay\", \"stay\", \"stearns\", \"stop\", \"stop\", \"stop\", \"stop\", \"stop\", \"stop\", \"stop\", \"stop\", \"store\", \"store\", \"store\", \"store\", \"store\", \"store\", \"store\", \"store\", \"store\", \"stores\", \"stores\", \"stores\", \"stores\", \"stores\", \"stores\", \"stores\", \"stores\", \"stores\", \"straw\", \"straw\", \"straw\", \"straw\", \"straw\", \"street\", \"street\", \"street\", \"street\", \"street\", \"street\", \"street\", \"street\", \"street\", \"street\", \"streetcar\", \"streetcar\", \"streetcar\", \"streetcar\", \"streetcar\", \"streetcar\", \"stressful\", \"stucco\", \"studio\", \"studio\", \"studio\", \"studio\", \"studio\", \"studio\", \"studio\", \"studio\", \"studio\", \"sugi\", \"suite\", \"suite\", \"suite\", \"suite\", \"suite\", \"suite\", \"suite\", \"suite\", \"suite\", \"surprises\", \"surprises\", \"surveillance\", \"sushi\", \"sushi\", \"sushi\", \"sushi\", \"sushi\", \"syrup\", \"table\", \"table\", \"table\", \"table\", \"table\", \"table\", \"table\", \"table\", \"table\", \"tabor\", \"tabor\", \"tabor\", \"tabor\", \"tabor\", \"tabor\", \"tabor\", \"tastefully\", \"tastefully\", \"tastefully\", \"tastefully\", \"tastefully\", \"tastefully\", \"tastefully\", \"tea\", \"tea\", \"tea\", \"tea\", \"tea\", \"tea\", \"tea\", \"tea\", \"tennis\", \"tennis\", \"tent\", \"tent\", \"tent\", \"text\", \"text\", \"text\", \"text\", \"text\", \"text\", \"text\", \"text\", \"thanks\", \"thanks\", \"thanks\", \"thanks\", \"thanks\", \"therapists\", \"thought\", \"thought\", \"thought\", \"thought\", \"thurman\", \"thursday\", \"thursday\", \"timbers\", \"tiny\", \"tiny\", \"tiny\", \"tiny\", \"tiny\", \"tiny\", \"tiny\", \"titled\", \"toaster\", \"toaster\", \"toaster\", \"toaster\", \"toaster\", \"toaster\", \"todji\", \"tom\", \"topper\", \"topper\", \"topper\", \"topper\", \"trails\", \"trails\", \"trails\", \"trails\", \"trails\", \"trails\", \"travelers\", \"travelers\", \"travelers\", \"travelers\", \"travelers\", \"travelers\", \"travelers\", \"travelers\", \"travelers\", \"triple\", \"triple\", \"triple\", \"triplex\", \"trunk\", \"tub\", \"tub\", \"tub\", \"tub\", \"tub\", \"tub\", \"tub\", \"tub\", \"tub\", \"tub\", \"turret\", \"turret\", \"tvs\", \"tvs\", \"twin\", \"twin\", \"twin\", \"twin\", \"twin\", \"twin\", \"twin\", \"twin\", \"twin\", \"ultra\", \"ultra\", \"ultra\", \"ultra\", \"ultra\", \"ultra\", \"unbeatable\", \"understandable\", \"unique\", \"unique\", \"unique\", \"unique\", \"unique\", \"unique\", \"unique\", \"unique\", \"unique\", \"unique\", \"unit\", \"unit\", \"unit\", \"unit\", \"unit\", \"unit\", \"unit\", \"unit\", \"unit\", \"univ\", \"university\", \"university\", \"university\", \"university\", \"university\", \"university\", \"university\", \"unlike\", \"unlike\", \"unlike\", \"unlike\", \"unpack\", \"unparalleled\", \"unparalleled\", \"uofp\", \"updates\", \"updates\", \"updates\", \"upgrades\", \"upgrades\", \"upgrades\", \"upholstered\", \"upstairs\", \"upstairs\", \"upstairs\", \"upstairs\", \"upstairs\", \"upstairs\", \"upstairs\", \"upstairs\", \"upstairs\", \"use\", \"use\", \"use\", \"use\", \"use\", \"use\", \"use\", \"use\", \"use\", \"use\", \"vent\", \"victorian\", \"victorian\", \"victorian\", \"victorian\", \"victorian\", \"victorian\", \"victorian\", \"victorian\", \"views\", \"views\", \"views\", \"views\", \"views\", \"views\", \"views\", \"views\", \"views\", \"viking\", \"villa\", \"vines\", \"vintage\", \"vintage\", \"vintage\", \"vintage\", \"vintage\", \"vintage\", \"vintage\", \"vintage\", \"wainscoting\", \"walgreens\", \"walgreens\", \"walk\", \"walk\", \"walk\", \"walk\", \"walk\", \"walk\", \"walk\", \"walk\", \"walk\", \"walk\", \"walking\", \"walking\", \"walking\", \"walking\", \"walking\", \"walking\", \"walking\", \"walking\", \"walking\", \"walking\", \"warehouse\", \"washington\", \"washington\", \"waterfront\", \"waterfront\", \"waterfront\", \"waterfront\", \"waterfront\", \"ways\", \"ways\", \"ways\", \"ways\", \"ways\", \"ways\", \"website\", \"website\", \"website\", \"website\", \"website\", \"week\", \"week\", \"week\", \"week\", \"week\", \"week\", \"wei\", \"welcome\", \"welcome\", \"welcome\", \"welcome\", \"welcome\", \"welcome\", \"welcome\", \"welcome\", \"welcome\", \"welcome\", \"westin\", \"westin\", \"whiskey\", \"wifi\", \"wifi\", \"wifi\", \"wifi\", \"wifi\", \"wifi\", \"wifi\", \"wifi\", \"wifi\", \"wifi\", \"willamette\", \"willamette\", \"willamette\", \"willamette\", \"willamette\", \"williams\", \"williams\", \"williams\", \"williams\", \"williams\", \"williams\", \"wilshire\", \"wilshire\", \"wink\", \"wired\", \"wit\", \"wit\", \"wonders\", \"wonders\", \"wood\", \"wood\", \"wood\", \"wood\", \"wood\", \"wood\", \"wood\", \"wood\", \"woodstock\", \"woodstock\", \"woodstock\", \"woodstock\", \"woodwork\", \"woodwork\", \"www\", \"yakuza\", \"yakuza\", \"yard\", \"yard\", \"yard\", \"yard\", \"yard\", \"yard\", \"yard\", \"yard\", \"yard\", \"yard\", \"yeah\", \"years\", \"years\", \"years\", \"years\", \"years\", \"years\", \"years\", \"years\", \"years\", \"yellow\", \"yellow\", \"yellow\", \"yellow\", \"yellow\", \"yelp\", \"yurt\", \"zen\", \"zen\", \"zen\", \"zen\"]}, \"R\": 30, \"lambda.step\": 0.01, \"plot.opts\": {\"xlab\": \"PC1\", \"ylab\": \"PC2\"}, \"topic.order\": [6, 2, 1, 7, 10, 4, 8, 5, 3, 9]};\n",
       "\n",
       "function LDAvis_load_lib(url, callback){\n",
       "  var s = document.createElement('script');\n",
       "  s.src = url;\n",
       "  s.async = true;\n",
       "  s.onreadystatechange = s.onload = callback;\n",
       "  s.onerror = function(){console.warn(\"failed to load library \" + url);};\n",
       "  document.getElementsByTagName(\"head\")[0].appendChild(s);\n",
       "}\n",
       "\n",
       "if(typeof(LDAvis) !== \"undefined\"){\n",
       "   // already loaded: just create the visualization\n",
       "   !function(LDAvis){\n",
       "       new LDAvis(\"#\" + \"ldavis_el49841122573209043636537468\", ldavis_el49841122573209043636537468_data);\n",
       "   }(LDAvis);\n",
       "}else if(typeof define === \"function\" && define.amd){\n",
       "   // require.js is available: use it to load d3/LDAvis\n",
       "   require.config({paths: {d3: \"https://cdnjs.cloudflare.com/ajax/libs/d3/3.5.5/d3.min\"}});\n",
       "   require([\"d3\"], function(d3){\n",
       "      window.d3 = d3;\n",
       "      LDAvis_load_lib(\"https://cdn.rawgit.com/bmabey/pyLDAvis/files/ldavis.v1.0.0.js\", function(){\n",
       "        new LDAvis(\"#\" + \"ldavis_el49841122573209043636537468\", ldavis_el49841122573209043636537468_data);\n",
       "      });\n",
       "    });\n",
       "}else{\n",
       "    // require.js not available: dynamically load d3 & LDAvis\n",
       "    LDAvis_load_lib(\"https://cdnjs.cloudflare.com/ajax/libs/d3/3.5.5/d3.min.js\", function(){\n",
       "         LDAvis_load_lib(\"https://cdn.rawgit.com/bmabey/pyLDAvis/files/ldavis.v1.0.0.js\", function(){\n",
       "                 new LDAvis(\"#\" + \"ldavis_el49841122573209043636537468\", ldavis_el49841122573209043636537468_data);\n",
       "            })\n",
       "         });\n",
       "}\n",
       "</script>"
      ],
      "text/plain": [
       "PreparedData(topic_coordinates=              x         y  topics  cluster       Freq\n",
       "topic                                                \n",
       "5      0.069935  0.017552       1        1  24.356309\n",
       "1      0.039434  0.069310       2        1  17.605827\n",
       "0     -0.084185  0.154308       3        1  17.480405\n",
       "6     -0.067826  0.070179       4        1  11.803181\n",
       "9      0.036567  0.047240       5        1   9.663327\n",
       "3      0.060626 -0.063598       6        1   6.518400\n",
       "7      0.093458 -0.041467       7        1   4.518141\n",
       "4     -0.000710  0.001390       8        1   3.071818\n",
       "2     -0.252597 -0.130306       9        1   2.701773\n",
       "8      0.105296 -0.124607      10        1   2.280819, topic_info=      Category         Freq         Term        Total  loglift  logprob\n",
       "term                                                                   \n",
       "9958   Default  5656.000000         room  5656.000000  30.0000  30.0000\n",
       "486    Default  2556.000000    apartment  2556.000000  29.0000  29.0000\n",
       "8338   Default  1774.000000         park  1774.000000  28.0000  28.0000\n",
       "8870   Default  6697.000000     portland  6697.000000  27.0000  27.0000\n",
       "1041   Default  3488.000000          bed  3488.000000  26.0000  26.0000\n",
       "...        ...          ...          ...          ...      ...      ...\n",
       "977    Topic10    53.709214     bathroom  2863.712166  -0.1957  -5.2560\n",
       "5075   Topic10    51.609911        great  2288.945358  -0.0115  -5.2958\n",
       "2384   Topic10    45.134626  comfortable  1644.301980   0.1852  -5.4299\n",
       "10914  Topic10    42.105588     spacious  1079.955990   0.5361  -5.4994\n",
       "7722   Topic10    42.159485         need  1299.012425   0.3527  -5.4981\n",
       "\n",
       "[854 rows x 6 columns], token_table=       Topic      Freq        Term\n",
       "term                              \n",
       "23         1  0.046196  absolutely\n",
       "23         2  0.027717  absolutely\n",
       "23         4  0.083152  absolutely\n",
       "23         6  0.674455  absolutely\n",
       "23         8  0.129347  absolutely\n",
       "...      ...       ...         ...\n",
       "13157      8  0.898537        yurt\n",
       "13164      2  0.061413         zen\n",
       "13164      5  0.153533         zen\n",
       "13164      7  0.706251         zen\n",
       "13164      8  0.092120         zen\n",
       "\n",
       "[2766 rows x 3 columns], R=30, lambda_step=0.01, plot_opts={'xlab': 'PC1', 'ylab': 'PC2'}, topic_order=[6, 2, 1, 7, 10, 4, 8, 5, 3, 9])"
      ]
     },
     "execution_count": 259,
     "metadata": {},
     "output_type": "execute_result"
    }
   ],
   "source": [
    "run_lda_with_defaults(descriptions, 10)"
   ]
  },
  {
   "cell_type": "code",
   "execution_count": 239,
   "metadata": {},
   "outputs": [],
   "source": []
  },
  {
   "cell_type": "code",
   "execution_count": null,
   "metadata": {},
   "outputs": [],
   "source": []
  }
 ],
 "metadata": {
  "kernelspec": {
   "display_name": "Python 3",
   "language": "python",
   "name": "python3"
  },
  "language_info": {
   "codemirror_mode": {
    "name": "ipython",
    "version": 3
   },
   "file_extension": ".py",
   "mimetype": "text/x-python",
   "name": "python",
   "nbconvert_exporter": "python",
   "pygments_lexer": "ipython3",
   "version": "3.6.6"
  }
 },
 "nbformat": 4,
 "nbformat_minor": 2
}
