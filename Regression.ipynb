{
 "cells": [
  {
   "cell_type": "code",
   "execution_count": null,
   "metadata": {},
   "outputs": [],
   "source": []
  },
  {
   "cell_type": "code",
   "execution_count": 2,
   "metadata": {},
   "outputs": [],
   "source": [
    "import pandas as pd\n",
    "import numpy as np\n",
    "import datetime as dt\n",
    "import seaborn as sns\n",
    "import matplotlib.pyplot as plt\n",
    "import matplotlib.dates as mdates\n",
    "%matplotlib inline\n",
    "\n",
    "import matplotlib.style as style\n",
    "style.use('seaborn-whitegrid')\n",
    "\n",
    "import os\n",
    "import pprint\n",
    "# import googlemaps\n",
    "# import time\n",
    "import pickle\n",
    "from random import randint\n",
    "from collections import defaultdict\n",
    "\n",
    "from sklearn.linear_model import LinearRegression\n",
    "from sklearn.model_selection import train_test_split, KFold\n",
    "from sklearn.linear_model import RidgeCV\n",
    "from sklearn.pipeline import make_pipeline\n",
    "from sklearn.preprocessing import PolynomialFeatures\n",
    "from sklearn.preprocessing import StandardScaler\n",
    "from sklearn.metrics import mean_squared_error"
   ]
  },
  {
   "cell_type": "code",
   "execution_count": 3,
   "metadata": {},
   "outputs": [],
   "source": [
    "from sklearn.feature_extraction.text import TfidfVectorizer, CountVectorizer\n",
    "from sklearn.decomposition import NMF, LatentDirichletAllocation\n",
    "from sklearn.feature_extraction.text import TfidfVectorizer \n",
    "from sklearn.naive_bayes import MultinomialNB\n",
    "\n",
    "import nltk\n",
    "from nltk.tokenize import word_tokenize, sent_tokenize, TreebankWordTokenizer, wordpunct_tokenize\n",
    "from nltk.tag import pos_tag\n",
    "from nltk.chunk import ne_chunk\n",
    "from nltk.util import ngrams\n",
    "from nltk.corpus import stopwords\n",
    "\n",
    "from textblob import TextBlob\n",
    "\n",
    "import string\n",
    "\n"
   ]
  },
  {
   "cell_type": "code",
   "execution_count": 4,
   "metadata": {},
   "outputs": [],
   "source": [
    "import pyLDAvis\n",
    "import pyLDAvis.sklearn\n",
    "pyLDAvis.enable_notebook()"
   ]
  },
  {
   "cell_type": "code",
   "execution_count": 117,
   "metadata": {},
   "outputs": [],
   "source": [
    "# Set pandas options\n",
    "pd.set_option('max_rows', 10)\n",
    "# pd.set_option('max_colwidth', -1)\n",
    "# pd.set_option('display.width', 150)\n",
    "pd.set_option('display.max_rows', 30)\n",
    "# pd.set_option('display.max_columns', None)"
   ]
  },
  {
   "cell_type": "markdown",
   "metadata": {},
   "source": [
    "*Load the relevant data file*"
   ]
  },
  {
   "cell_type": "code",
   "execution_count": 10,
   "metadata": {},
   "outputs": [],
   "source": [
    "# df = pd.read_csv('data/cleaned_reviews.csv')\n",
    "\n",
    "# df = pd.read_csv('data/listing_descriptions.csv', index_col=0)\n",
    "df = pd.read_csv('data/cleaned_df.csv', index_col='Unnamed: 0')"
   ]
  },
  {
   "cell_type": "markdown",
   "metadata": {},
   "source": []
  },
  {
   "cell_type": "code",
   "execution_count": 11,
   "metadata": {},
   "outputs": [
    {
     "data": {
      "text/html": [
       "<div>\n",
       "<style scoped>\n",
       "    .dataframe tbody tr th:only-of-type {\n",
       "        vertical-align: middle;\n",
       "    }\n",
       "\n",
       "    .dataframe tbody tr th {\n",
       "        vertical-align: top;\n",
       "    }\n",
       "\n",
       "    .dataframe thead th {\n",
       "        text-align: right;\n",
       "    }\n",
       "</style>\n",
       "<table border=\"1\" class=\"dataframe\">\n",
       "  <thead>\n",
       "    <tr style=\"text-align: right;\">\n",
       "      <th></th>\n",
       "      <th>id</th>\n",
       "      <th>host_id</th>\n",
       "      <th>host_listings_count</th>\n",
       "      <th>host_total_listings_count</th>\n",
       "      <th>neighbourhood</th>\n",
       "      <th>zipcode</th>\n",
       "      <th>latitude</th>\n",
       "      <th>longitude</th>\n",
       "      <th>property_type</th>\n",
       "      <th>room_type</th>\n",
       "      <th>...</th>\n",
       "      <th>number_of_reviews</th>\n",
       "      <th>review_scores_rating</th>\n",
       "      <th>review_scores_accuracy</th>\n",
       "      <th>review_scores_cleanliness</th>\n",
       "      <th>review_scores_checkin</th>\n",
       "      <th>review_scores_communication</th>\n",
       "      <th>review_scores_location</th>\n",
       "      <th>review_scores_value</th>\n",
       "      <th>instant_bookable</th>\n",
       "      <th>reviews_per_month</th>\n",
       "    </tr>\n",
       "  </thead>\n",
       "  <tbody>\n",
       "    <tr>\n",
       "      <th>0</th>\n",
       "      <td>7893</td>\n",
       "      <td>21489</td>\n",
       "      <td>1</td>\n",
       "      <td>1</td>\n",
       "      <td>Piedmont</td>\n",
       "      <td>97217</td>\n",
       "      <td>45.575479</td>\n",
       "      <td>-122.666777</td>\n",
       "      <td>House</td>\n",
       "      <td>Entire home/apt</td>\n",
       "      <td>...</td>\n",
       "      <td>2</td>\n",
       "      <td>100.0</td>\n",
       "      <td>10.0</td>\n",
       "      <td>10.0</td>\n",
       "      <td>10.0</td>\n",
       "      <td>10.0</td>\n",
       "      <td>10.0</td>\n",
       "      <td>10.0</td>\n",
       "      <td>0</td>\n",
       "      <td>0.02</td>\n",
       "    </tr>\n",
       "    <tr>\n",
       "      <th>1</th>\n",
       "      <td>12899</td>\n",
       "      <td>49682</td>\n",
       "      <td>1</td>\n",
       "      <td>1</td>\n",
       "      <td>Concordia</td>\n",
       "      <td>97211</td>\n",
       "      <td>45.564010</td>\n",
       "      <td>-122.634717</td>\n",
       "      <td>Guest suite</td>\n",
       "      <td>Private room</td>\n",
       "      <td>...</td>\n",
       "      <td>497</td>\n",
       "      <td>98.0</td>\n",
       "      <td>10.0</td>\n",
       "      <td>10.0</td>\n",
       "      <td>10.0</td>\n",
       "      <td>10.0</td>\n",
       "      <td>10.0</td>\n",
       "      <td>10.0</td>\n",
       "      <td>0</td>\n",
       "      <td>4.69</td>\n",
       "    </tr>\n",
       "  </tbody>\n",
       "</table>\n",
       "<p>2 rows × 28 columns</p>\n",
       "</div>"
      ],
      "text/plain": [
       "      id  host_id  host_listings_count  host_total_listings_count  \\\n",
       "0   7893    21489                    1                          1   \n",
       "1  12899    49682                    1                          1   \n",
       "\n",
       "  neighbourhood zipcode   latitude   longitude property_type        room_type  \\\n",
       "0      Piedmont   97217  45.575479 -122.666777         House  Entire home/apt   \n",
       "1     Concordia   97211  45.564010 -122.634717   Guest suite     Private room   \n",
       "\n",
       "         ...          number_of_reviews  review_scores_rating  \\\n",
       "0        ...                          2                 100.0   \n",
       "1        ...                        497                  98.0   \n",
       "\n",
       "   review_scores_accuracy  review_scores_cleanliness review_scores_checkin  \\\n",
       "0                    10.0                       10.0                  10.0   \n",
       "1                    10.0                       10.0                  10.0   \n",
       "\n",
       "  review_scores_communication  review_scores_location  review_scores_value  \\\n",
       "0                        10.0                    10.0                 10.0   \n",
       "1                        10.0                    10.0                 10.0   \n",
       "\n",
       "   instant_bookable  reviews_per_month  \n",
       "0                 0               0.02  \n",
       "1                 0               4.69  \n",
       "\n",
       "[2 rows x 28 columns]"
      ]
     },
     "execution_count": 11,
     "metadata": {},
     "output_type": "execute_result"
    }
   ],
   "source": [
    "df.head(2)"
   ]
  },
  {
   "cell_type": "code",
   "execution_count": 12,
   "metadata": {},
   "outputs": [
    {
     "data": {
      "text/plain": [
       "(5405, 28)"
      ]
     },
     "execution_count": 12,
     "metadata": {},
     "output_type": "execute_result"
    }
   ],
   "source": [
    "df.shape"
   ]
  },
  {
   "cell_type": "code",
   "execution_count": 13,
   "metadata": {},
   "outputs": [
    {
     "data": {
      "text/plain": [
       "Index(['id', 'host_id', 'host_listings_count', 'host_total_listings_count',\n",
       "       'neighbourhood', 'zipcode', 'latitude', 'longitude', 'property_type',\n",
       "       'room_type', 'accommodates', 'bathrooms', 'bedrooms', 'beds',\n",
       "       'bed_type', 'amenities', 'price', 'guests_included',\n",
       "       'number_of_reviews', 'review_scores_rating', 'review_scores_accuracy',\n",
       "       'review_scores_cleanliness', 'review_scores_checkin',\n",
       "       'review_scores_communication', 'review_scores_location',\n",
       "       'review_scores_value', 'instant_bookable', 'reviews_per_month'],\n",
       "      dtype='object')"
      ]
     },
     "execution_count": 13,
     "metadata": {},
     "output_type": "execute_result"
    }
   ],
   "source": [
    "df.columns"
   ]
  },
  {
   "cell_type": "code",
   "execution_count": 48,
   "metadata": {},
   "outputs": [],
   "source": [
    "df['amenities'] = df['amenities'].apply(lambda z: [x for x in re.findall('[^{},\"]*', z) if x !=''])"
   ]
  },
  {
   "cell_type": "code",
   "execution_count": 76,
   "metadata": {},
   "outputs": [
    {
     "data": {
      "text/plain": [
       "[('Wifi', 4971),\n",
       " ('Essentials', 4924),\n",
       " ('Heating', 4906),\n",
       " ('Smoke detector', 4848),\n",
       " ('Shampoo', 4395),\n",
       " ('Kitchen', 4368),\n",
       " ('Hangers', 4361),\n",
       " ('Carbon monoxide detector', 4350),\n",
       " ('Hair dryer', 4120),\n",
       " ('Laptop friendly workspace', 3961),\n",
       " ('Iron', 3885),\n",
       " ('Fire extinguisher', 3730),\n",
       " ('TV', 3615),\n",
       " ('Washer', 3518),\n",
       " ('Dryer', 3515),\n",
       " ('Hot water', 3434),\n",
       " ('First aid kit', 2948),\n",
       " ('Self check-in', 2909),\n",
       " ('Air conditioning', 2839),\n",
       " ('Free street parking', 2797),\n",
       " ('Family/kid friendly', 2645),\n",
       " ('Free parking on premises', 2556),\n",
       " ('Refrigerator', 2296),\n",
       " ('Dishes and silverware', 2213),\n",
       " ('Private entrance', 2103),\n",
       " ('Bed linens', 2082),\n",
       " ('Coffee maker', 2059),\n",
       " ('Microwave', 1956),\n",
       " ('Internet', 1906),\n",
       " ('Cooking basics', 1842),\n",
       " ('Stove', 1781),\n",
       " ('Extra pillows and blankets', 1770),\n",
       " ('Oven', 1706),\n",
       " ('Luggage dropoff allowed', 1596),\n",
       " ('Lock on bedroom door', 1490),\n",
       " ('Long term stays allowed', 1422),\n",
       " ('Dishwasher', 1364),\n",
       " ('Garden or backyard', 1342),\n",
       " ('Indoor fireplace', 1318),\n",
       " ('Keypad', 1311),\n",
       " ('Patio or balcony', 1308),\n",
       " ('Cable TV', 1260),\n",
       " ('Safety card', 1247),\n",
       " ('Step-free access', 1232),\n",
       " ('translation missing: en.hosting_amenity_50', 1202),\n",
       " ('Lockbox', 1195),\n",
       " ('Pets live on this property', 1125),\n",
       " ('24-hour check-in', 1100),\n",
       " ('translation missing: en.hosting_amenity_49', 1000),\n",
       " ('Bathtub', 803),\n",
       " ('Pets allowed', 743),\n",
       " ('Private living room', 688),\n",
       " ('Pack ’n Play/travel crib', 681),\n",
       " ('BBQ grill', 678),\n",
       " ('Dog(s)', 656),\n",
       " ('Children’s books and toys', 624),\n",
       " ('Breakfast', 618),\n",
       " ('Wide doorway', 589),\n",
       " ('Well-lit path to entrance', 514),\n",
       " ('Other', 504),\n",
       " ('Cat(s)', 463),\n",
       " ('Single level home', 430),\n",
       " ('Room-darkening shades', 409),\n",
       " ('Elevator', 403),\n",
       " ('Host greets you', 390),\n",
       " ('Smart lock', 378),\n",
       " ('High chair', 333),\n",
       " ('Children’s dinnerware', 270),\n",
       " ('Suitable for events', 245),\n",
       " ('Gym', 220)]"
      ]
     },
     "execution_count": 76,
     "metadata": {},
     "output_type": "execute_result"
    }
   ],
   "source": [
    "counts = defaultdict(int)\n",
    "\n",
    "for i in range(5044):\n",
    "    for amenity in df['amenities'][i]:\n",
    "        counts[amenity] += 1\n",
    "\n",
    "sorted(counts.items(), reverse=True, key=lambda tup: tup[1])[:70]"
   ]
  },
  {
   "cell_type": "code",
   "execution_count": 101,
   "metadata": {},
   "outputs": [
    {
     "name": "stdout",
     "output_type": "stream",
     "text": [
      "df['amenities_gym'] = df['amenities'].apply(lambda x: 1 if 'Gym' in set(x) else 0)\n",
      "df['amenities_kitchen'] = df['amenities'].apply(lambda x: 1 if 'Kitchen' in set(x) else 0)\n",
      "df['amenities_pets_allowed'] = df['amenities'].apply(lambda x: 1 if 'Pets allowed' in set(x) else 0)\n",
      "df['amenities_hot_tub'] = df['amenities'].apply(lambda x: 1 if 'Hot tub' in set(x) else 0)\n",
      "df['amenities_washer'] = df['amenities'].apply(lambda x: 1 if 'Washer' in set(x) else 0)\n",
      "df['amenities_refrigerator'] = df['amenities'].apply(lambda x: 1 if 'Refrigerator' in set(x) else 0)\n",
      "df['amenities_air_conditioning'] = df['amenities'].apply(lambda x: 1 if 'Air conditioning' in set(x) else 0)\n",
      "df['amenities_family_kid_friendly'] = df['amenities'].apply(lambda x: 1 if 'Family/kid friendly' in set(x) else 0)\n",
      "df['amenities_private_entrance'] = df['amenities'].apply(lambda x: 1 if 'Private entrance' in set(x) else 0)\n",
      "df['amenities_indoor_fireplace'] = df['amenities'].apply(lambda x: 1 if 'Indoor fireplace' in set(x) else 0)\n",
      "df['amenities_patio_or_balcony'] = df['amenities'].apply(lambda x: 1 if 'Patio or balcony' in set(x) else 0)\n",
      "df['amenities_cable_tv'] = df['amenities'].apply(lambda x: 1 if 'Cable TV' in set(x) else 0)\n",
      "df['amenities_24_hour_check_in'] = df['amenities'].apply(lambda x: 1 if '24-hour check-in' in set(x) else 0)\n",
      "df['amenities_bathtub'] = df['amenities'].apply(lambda x: 1 if 'Bathtub' in set(x) else 0)\n"
     ]
    }
   ],
   "source": [
    "# Use regex and for loop to make syntax of one-hot encoding easier :)\n",
    "for x in ['Gym', 'Kitchen', 'Pets allowed', 'Hot tub', 'Washer', 'Refrigerator', 'Air conditioning', 'Family/kid friendly', 'Private entrance', 'Indoor fireplace', 'Patio or balcony', 'Cable TV', '24-hour check-in', 'Bathtub']:\n",
    "    print(f\"df['amenities_{x.lower().replace(' ', '_').replace('/', '_').replace('-', '_')}'] = df['amenities'].apply(lambda x: 1 if '{x}' in set(x) else 0)\")"
   ]
  },
  {
   "cell_type": "code",
   "execution_count": 99,
   "metadata": {},
   "outputs": [],
   "source": [
    "# One hot encode all of the relevant amenities\n",
    "df['amenities_gym'] = df['amenities'].apply(lambda x: 1 if 'Gym' in set(x) else 0)\n",
    "df['amenities_kitchen'] = df['amenities'].apply(lambda x: 1 if 'Kitchen' in set(x) else 0)\n",
    "df['amenities_pets_allowed'] = df['amenities'].apply(lambda x: 1 if 'Pets allowed' in set(x) else 0)\n",
    "df['amenities_hot_tub'] = df['amenities'].apply(lambda x: 1 if 'Hot tub' in set(x) else 0)\n",
    "df['amenities_washer'] = df['amenities'].apply(lambda x: 1 if 'Washer' in set(x) else 0)\n",
    "df['amenities_refrigerator'] = df['amenities'].apply(lambda x: 1 if 'Refrigerator' in set(x) else 0)\n",
    "df['amenities_air_conditioning'] = df['amenities'].apply(lambda x: 1 if 'Air conditioning' in set(x) else 0)\n",
    "df['amenities_family_kid_friendly'] = df['amenities'].apply(lambda x: 1 if 'Family/kid friendly' in set(x) else 0)\n",
    "df['amenities_private_entrance'] = df['amenities'].apply(lambda x: 1 if 'Private entrance' in set(x) else 0)\n",
    "df['amenities_indoor_fireplace'] = df['amenities'].apply(lambda x: 1 if 'Indoor fireplace' in set(x) else 0)\n",
    "df['amenities_patio_or_balcony'] = df['amenities'].apply(lambda x: 1 if 'Patio or balcony' in set(x) else 0)\n",
    "df['amenities_cable_tv'] = df['amenities'].apply(lambda x: 1 if 'Cable TV' in set(x) else 0)\n",
    "df['amenities_24_hour_check_in'] = df['amenities'].apply(lambda x: 1 if '24-hour check-in' in set(x) else 0)\n",
    "df['amenities_bathtub'] = df['amenities'].apply(lambda x: 1 if 'Bathtub' in set(x) else 0)"
   ]
  },
  {
   "cell_type": "code",
   "execution_count": 119,
   "metadata": {},
   "outputs": [
    {
     "data": {
      "text/html": [
       "<div>\n",
       "<style scoped>\n",
       "    .dataframe tbody tr th:only-of-type {\n",
       "        vertical-align: middle;\n",
       "    }\n",
       "\n",
       "    .dataframe tbody tr th {\n",
       "        vertical-align: top;\n",
       "    }\n",
       "\n",
       "    .dataframe thead th {\n",
       "        text-align: right;\n",
       "    }\n",
       "</style>\n",
       "<table border=\"1\" class=\"dataframe\">\n",
       "  <thead>\n",
       "    <tr style=\"text-align: right;\">\n",
       "      <th></th>\n",
       "      <th>id</th>\n",
       "      <th>host_id</th>\n",
       "      <th>host_listings_count</th>\n",
       "      <th>host_total_listings_count</th>\n",
       "      <th>neighbourhood</th>\n",
       "      <th>zipcode</th>\n",
       "      <th>latitude</th>\n",
       "      <th>longitude</th>\n",
       "      <th>property_type</th>\n",
       "      <th>room_type</th>\n",
       "      <th>...</th>\n",
       "      <th>amenities_washer</th>\n",
       "      <th>amenities_refrigerator</th>\n",
       "      <th>amenities_air_conditioning</th>\n",
       "      <th>amenities_family_kid_friendly</th>\n",
       "      <th>amenities_private_entrance</th>\n",
       "      <th>amenities_indoor_fireplace</th>\n",
       "      <th>amenities_patio_or_balcony</th>\n",
       "      <th>amenities_cable_tv</th>\n",
       "      <th>amenities_24_hour_check_in</th>\n",
       "      <th>amenities_bathtub</th>\n",
       "    </tr>\n",
       "  </thead>\n",
       "  <tbody>\n",
       "    <tr>\n",
       "      <th>0</th>\n",
       "      <td>7893</td>\n",
       "      <td>21489</td>\n",
       "      <td>1</td>\n",
       "      <td>1</td>\n",
       "      <td>Piedmont</td>\n",
       "      <td>97217</td>\n",
       "      <td>45.575479</td>\n",
       "      <td>-122.666777</td>\n",
       "      <td>House</td>\n",
       "      <td>Entire home/apt</td>\n",
       "      <td>...</td>\n",
       "      <td>1</td>\n",
       "      <td>0</td>\n",
       "      <td>0</td>\n",
       "      <td>0</td>\n",
       "      <td>0</td>\n",
       "      <td>1</td>\n",
       "      <td>0</td>\n",
       "      <td>0</td>\n",
       "      <td>0</td>\n",
       "      <td>0</td>\n",
       "    </tr>\n",
       "    <tr>\n",
       "      <th>1</th>\n",
       "      <td>12899</td>\n",
       "      <td>49682</td>\n",
       "      <td>1</td>\n",
       "      <td>1</td>\n",
       "      <td>Concordia</td>\n",
       "      <td>97211</td>\n",
       "      <td>45.564010</td>\n",
       "      <td>-122.634717</td>\n",
       "      <td>Guest suite</td>\n",
       "      <td>Private room</td>\n",
       "      <td>...</td>\n",
       "      <td>0</td>\n",
       "      <td>0</td>\n",
       "      <td>1</td>\n",
       "      <td>0</td>\n",
       "      <td>0</td>\n",
       "      <td>0</td>\n",
       "      <td>0</td>\n",
       "      <td>0</td>\n",
       "      <td>1</td>\n",
       "      <td>0</td>\n",
       "    </tr>\n",
       "  </tbody>\n",
       "</table>\n",
       "<p>2 rows × 42 columns</p>\n",
       "</div>"
      ],
      "text/plain": [
       "      id  host_id  host_listings_count  host_total_listings_count  \\\n",
       "0   7893    21489                    1                          1   \n",
       "1  12899    49682                    1                          1   \n",
       "\n",
       "  neighbourhood zipcode   latitude   longitude property_type        room_type  \\\n",
       "0      Piedmont   97217  45.575479 -122.666777         House  Entire home/apt   \n",
       "1     Concordia   97211  45.564010 -122.634717   Guest suite     Private room   \n",
       "\n",
       "         ...          amenities_washer  amenities_refrigerator  \\\n",
       "0        ...                         1                       0   \n",
       "1        ...                         0                       0   \n",
       "\n",
       "   amenities_air_conditioning  amenities_family_kid_friendly  \\\n",
       "0                           0                              0   \n",
       "1                           1                              0   \n",
       "\n",
       "  amenities_private_entrance amenities_indoor_fireplace  \\\n",
       "0                          0                          1   \n",
       "1                          0                          0   \n",
       "\n",
       "   amenities_patio_or_balcony  amenities_cable_tv  amenities_24_hour_check_in  \\\n",
       "0                           0                   0                           0   \n",
       "1                           0                   0                           1   \n",
       "\n",
       "   amenities_bathtub  \n",
       "0                  0  \n",
       "1                  0  \n",
       "\n",
       "[2 rows x 42 columns]"
      ]
     },
     "execution_count": 119,
     "metadata": {},
     "output_type": "execute_result"
    }
   ],
   "source": [
    "df.head(2)"
   ]
  },
  {
   "cell_type": "code",
   "execution_count": 127,
   "metadata": {},
   "outputs": [
    {
     "data": {
      "image/png": "[encoded data removed]",
      "text/plain": [
       "<Figure size 576x432 with 1 Axes>"
      ]
     },
     "metadata": {},
     "output_type": "display_data"
    }
   ],
   "source": [
    "plt.figure(figsize=(8,6))\n",
    "plt.hist(df['number_of_reviews'], bins='auto', range=(0,200), align=');"
   ]
  },
  {
   "cell_type": "code",
   "execution_count": 118,
   "metadata": {},
   "outputs": [
    {
     "data": {
      "text/plain": [
       "100.0    1258\n",
       "99.0      857\n",
       "98.0      773\n",
       "97.0      530\n",
       "96.0      399\n",
       "95.0      260\n",
       "94.0      175\n",
       "93.0      163\n",
       "90.0      105\n",
       "92.0       89\n",
       "91.0       61\n",
       "80.0       41\n",
       "89.0       35\n",
       "88.0       32\n",
       "87.0       24\n",
       "         ... \n",
       "83.0        8\n",
       "84.0        7\n",
       "81.0        6\n",
       "82.0        6\n",
       "73.0        5\n",
       "77.0        3\n",
       "70.0        3\n",
       "67.0        1\n",
       "40.0        1\n",
       "20.0        1\n",
       "78.0        1\n",
       "76.0        1\n",
       "68.0        1\n",
       "55.0        1\n",
       "79.0        1\n",
       "Name: review_scores_rating, Length: 33, dtype: int64"
      ]
     },
     "execution_count": 118,
     "metadata": {},
     "output_type": "execute_result"
    }
   ],
   "source": [
    "df['review_scores_rating'].value_counts()"
   ]
  },
  {
   "cell_type": "code",
   "execution_count": 19,
   "metadata": {},
   "outputs": [],
   "source": [
    "import re"
   ]
  },
  {
   "cell_type": "code",
   "execution_count": 40,
   "metadata": {},
   "outputs": [],
   "source": [
    "r = re.findall('[^{},\"]*', df['amenities'][0])"
   ]
  },
  {
   "cell_type": "code",
   "execution_count": 41,
   "metadata": {},
   "outputs": [
    {
     "data": {
      "text/plain": [
       "'{TV,Wifi,Kitchen,\"Free parking on premises\",\"Indoor fireplace\",Washer,Dryer,\"Smoke detector\",\"Fire extinguisher\"}'"
      ]
     },
     "execution_count": 41,
     "metadata": {},
     "output_type": "execute_result"
    }
   ],
   "source": [
    "df['amenities'][0]"
   ]
  },
  {
   "cell_type": "code",
   "execution_count": 43,
   "metadata": {},
   "outputs": [
    {
     "data": {
      "text/plain": [
       "['TV',\n",
       " 'Wifi',\n",
       " 'Kitchen',\n",
       " 'Free parking on premises',\n",
       " 'Indoor fireplace',\n",
       " 'Washer',\n",
       " 'Dryer',\n",
       " 'Smoke detector',\n",
       " 'Fire extinguisher']"
      ]
     },
     "execution_count": 43,
     "metadata": {},
     "output_type": "execute_result"
    }
   ],
   "source": [
    "[x for x in re.findall('[^{},\"]*', z) if x !='']"
   ]
  },
  {
   "cell_type": "code",
   "execution_count": 38,
   "metadata": {},
   "outputs": [
    {
     "data": {
      "text/plain": [
       "['TV',\n",
       " 'Wifi',\n",
       " '',\n",
       " 'Kitchen',\n",
       " '',\n",
       " '',\n",
       " 'Free parking on premises',\n",
       " '',\n",
       " '',\n",
       " '',\n",
       " 'Indoor fireplace',\n",
       " '',\n",
       " '',\n",
       " 'Washer',\n",
       " '',\n",
       " 'Dryer',\n",
       " '',\n",
       " '',\n",
       " 'Smoke detector',\n",
       " '',\n",
       " '',\n",
       " '',\n",
       " 'Fire extinguisher',\n",
       " '',\n",
       " '}',\n",
       " '']"
      ]
     },
     "execution_count": 38,
     "metadata": {},
     "output_type": "execute_result"
    }
   ],
   "source": [
    "r"
   ]
  },
  {
   "cell_type": "code",
   "execution_count": null,
   "metadata": {},
   "outputs": [],
   "source": []
  }
 ],
 "metadata": {
  "kernelspec": {
   "display_name": "Python 3",
   "language": "python",
   "name": "python3"
  },
  "language_info": {
   "codemirror_mode": {
    "name": "ipython",
    "version": 3
   },
   "file_extension": ".py",
   "mimetype": "text/x-python",
   "name": "python",
   "nbconvert_exporter": "python",
   "pygments_lexer": "ipython3",
   "version": "3.6.6"
  }
 },
 "nbformat": 4,
 "nbformat_minor": 2
}
