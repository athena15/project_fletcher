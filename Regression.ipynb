{
 "cells": [
  {
   "cell_type": "code",
   "execution_count": null,
   "metadata": {},
   "outputs": [],
   "source": []
  },
  {
   "cell_type": "code",
   "execution_count": 1,
   "metadata": {},
   "outputs": [],
   "source": [
    "import pandas as pd\n",
    "import numpy as np\n",
    "import datetime as dt\n",
    "import seaborn as sns\n",
    "import matplotlib.pyplot as plt\n",
    "import matplotlib.dates as mdates\n",
    "%matplotlib inline\n",
    "\n",
    "import matplotlib.style as style\n",
    "style.use('seaborn-whitegrid')\n",
    "\n",
    "import os\n",
    "import re\n",
    "# import googlemaps\n",
    "# import time\n",
    "import pickle\n",
    "from collections import defaultdict\n",
    "\n",
    "from sklearn.linear_model import LinearRegression\n",
    "from sklearn.model_selection import train_test_split, KFold\n",
    "from sklearn.linear_model import RidgeCV\n",
    "from sklearn.pipeline import make_pipeline\n",
    "from sklearn.preprocessing import StandardScaler\n",
    "from sklearn.metrics import mean_squared_error"
   ]
  },
  {
   "cell_type": "code",
   "execution_count": 2,
   "metadata": {},
   "outputs": [],
   "source": [
    "from sklearn.feature_extraction.text import TfidfVectorizer, CountVectorizer\n",
    "from sklearn.decomposition import NMF, LatentDirichletAllocation\n",
    "from sklearn.feature_extraction.text import TfidfVectorizer \n",
    "from sklearn.naive_bayes import MultinomialNB\n",
    "from sklearn.metrics import mean_squared_error\n",
    "\n",
    "import nltk\n",
    "from nltk.tokenize import word_tokenize, sent_tokenize, TreebankWordTokenizer, wordpunct_tokenize\n",
    "from nltk.tag import pos_tag\n",
    "from nltk.chunk import ne_chunk\n",
    "from nltk.util import ngrams\n",
    "from nltk.corpus import stopwords\n",
    "\n",
    "from textblob import TextBlob\n",
    "\n",
    "import string\n",
    "\n"
   ]
  },
  {
   "cell_type": "code",
   "execution_count": 4,
   "metadata": {},
   "outputs": [],
   "source": [
    "import pyLDAvis\n",
    "import pyLDAvis.sklearn\n",
    "pyLDAvis.enable_notebook()"
   ]
  },
  {
   "cell_type": "code",
   "execution_count": 3,
   "metadata": {},
   "outputs": [],
   "source": [
    "# Set pandas options\n",
    "pd.set_option('max_rows', 10)\n",
    "# pd.set_option('max_colwidth', -1)\n",
    "# pd.set_option('display.width', 150)\n",
    "pd.set_option('display.max_rows', 30)\n",
    "pd.set_option('display.max_columns', None)"
   ]
  },
  {
   "cell_type": "markdown",
   "metadata": {},
   "source": [
    "*Load the relevant data file*"
   ]
  },
  {
   "cell_type": "code",
   "execution_count": 153,
   "metadata": {},
   "outputs": [],
   "source": [
    "# df = pd.read_csv('data/cleaned_reviews.csv')\n",
    "\n",
    "# df = pd.read_csv('data/listing_descriptions.csv', index_col=0)\n",
    "df = pd.read_csv('data/cleaned_df.csv', index_col='Unnamed: 0')\n",
    "\n",
    "df2 = pd.read_csv('data/df_with_lda.csv', index_col='Unnamed: 0')"
   ]
  },
  {
   "cell_type": "code",
   "execution_count": 11,
   "metadata": {},
   "outputs": [
    {
     "data": {
      "text/html": [
       "<div>\n",
       "<style scoped>\n",
       "    .dataframe tbody tr th:only-of-type {\n",
       "        vertical-align: middle;\n",
       "    }\n",
       "\n",
       "    .dataframe tbody tr th {\n",
       "        vertical-align: top;\n",
       "    }\n",
       "\n",
       "    .dataframe thead th {\n",
       "        text-align: right;\n",
       "    }\n",
       "</style>\n",
       "<table border=\"1\" class=\"dataframe\">\n",
       "  <thead>\n",
       "    <tr style=\"text-align: right;\">\n",
       "      <th></th>\n",
       "      <th>id</th>\n",
       "      <th>host_id</th>\n",
       "      <th>host_listings_count</th>\n",
       "      <th>host_total_listings_count</th>\n",
       "      <th>neighbourhood</th>\n",
       "      <th>zipcode</th>\n",
       "      <th>latitude</th>\n",
       "      <th>longitude</th>\n",
       "      <th>property_type</th>\n",
       "      <th>room_type</th>\n",
       "      <th>...</th>\n",
       "      <th>number_of_reviews</th>\n",
       "      <th>review_scores_rating</th>\n",
       "      <th>review_scores_accuracy</th>\n",
       "      <th>review_scores_cleanliness</th>\n",
       "      <th>review_scores_checkin</th>\n",
       "      <th>review_scores_communication</th>\n",
       "      <th>review_scores_location</th>\n",
       "      <th>review_scores_value</th>\n",
       "      <th>instant_bookable</th>\n",
       "      <th>reviews_per_month</th>\n",
       "    </tr>\n",
       "  </thead>\n",
       "  <tbody>\n",
       "    <tr>\n",
       "      <th>0</th>\n",
       "      <td>7893</td>\n",
       "      <td>21489</td>\n",
       "      <td>1</td>\n",
       "      <td>1</td>\n",
       "      <td>Piedmont</td>\n",
       "      <td>97217</td>\n",
       "      <td>45.575479</td>\n",
       "      <td>-122.666777</td>\n",
       "      <td>House</td>\n",
       "      <td>Entire home/apt</td>\n",
       "      <td>...</td>\n",
       "      <td>2</td>\n",
       "      <td>100.0</td>\n",
       "      <td>10.0</td>\n",
       "      <td>10.0</td>\n",
       "      <td>10.0</td>\n",
       "      <td>10.0</td>\n",
       "      <td>10.0</td>\n",
       "      <td>10.0</td>\n",
       "      <td>0</td>\n",
       "      <td>0.02</td>\n",
       "    </tr>\n",
       "    <tr>\n",
       "      <th>1</th>\n",
       "      <td>12899</td>\n",
       "      <td>49682</td>\n",
       "      <td>1</td>\n",
       "      <td>1</td>\n",
       "      <td>Concordia</td>\n",
       "      <td>97211</td>\n",
       "      <td>45.564010</td>\n",
       "      <td>-122.634717</td>\n",
       "      <td>Guest suite</td>\n",
       "      <td>Private room</td>\n",
       "      <td>...</td>\n",
       "      <td>497</td>\n",
       "      <td>98.0</td>\n",
       "      <td>10.0</td>\n",
       "      <td>10.0</td>\n",
       "      <td>10.0</td>\n",
       "      <td>10.0</td>\n",
       "      <td>10.0</td>\n",
       "      <td>10.0</td>\n",
       "      <td>0</td>\n",
       "      <td>4.69</td>\n",
       "    </tr>\n",
       "  </tbody>\n",
       "</table>\n",
       "<p>2 rows × 28 columns</p>\n",
       "</div>"
      ],
      "text/plain": [
       "      id  host_id  host_listings_count  host_total_listings_count  \\\n",
       "0   7893    21489                    1                          1   \n",
       "1  12899    49682                    1                          1   \n",
       "\n",
       "  neighbourhood zipcode   latitude   longitude property_type        room_type  \\\n",
       "0      Piedmont   97217  45.575479 -122.666777         House  Entire home/apt   \n",
       "1     Concordia   97211  45.564010 -122.634717   Guest suite     Private room   \n",
       "\n",
       "         ...          number_of_reviews  review_scores_rating  \\\n",
       "0        ...                          2                 100.0   \n",
       "1        ...                        497                  98.0   \n",
       "\n",
       "   review_scores_accuracy  review_scores_cleanliness review_scores_checkin  \\\n",
       "0                    10.0                       10.0                  10.0   \n",
       "1                    10.0                       10.0                  10.0   \n",
       "\n",
       "  review_scores_communication  review_scores_location  review_scores_value  \\\n",
       "0                        10.0                    10.0                 10.0   \n",
       "1                        10.0                    10.0                 10.0   \n",
       "\n",
       "   instant_bookable  reviews_per_month  \n",
       "0                 0               0.02  \n",
       "1                 0               4.69  \n",
       "\n",
       "[2 rows x 28 columns]"
      ]
     },
     "execution_count": 11,
     "metadata": {},
     "output_type": "execute_result"
    }
   ],
   "source": [
    "df.head(2)"
   ]
  },
  {
   "cell_type": "markdown",
   "metadata": {},
   "source": [
    "#### Using RegEx to grab individual amenities, and ultimately one-hot encode relevant ones"
   ]
  },
  {
   "cell_type": "code",
   "execution_count": 43,
   "metadata": {},
   "outputs": [
    {
     "data": {
      "text/plain": [
       "['TV',\n",
       " 'Wifi',\n",
       " 'Kitchen',\n",
       " 'Free parking on premises',\n",
       " 'Indoor fireplace',\n",
       " 'Washer',\n",
       " 'Dryer',\n",
       " 'Smoke detector',\n",
       " 'Fire extinguisher']"
      ]
     },
     "execution_count": 43,
     "metadata": {},
     "output_type": "execute_result"
    }
   ],
   "source": [
    "[x for x in re.findall('[^{},\"]*', z) if x !='']"
   ]
  },
  {
   "cell_type": "code",
   "execution_count": 48,
   "metadata": {},
   "outputs": [],
   "source": [
    "df['amenities'] = df['amenities'].apply(lambda z: [x for x in re.findall('[^{},\"]*', z) if x !=''])"
   ]
  },
  {
   "cell_type": "code",
   "execution_count": 76,
   "metadata": {},
   "outputs": [
    {
     "data": {
      "text/plain": [
       "[('Wifi', 4971),\n",
       " ('Essentials', 4924),\n",
       " ('Heating', 4906),\n",
       " ('Smoke detector', 4848),\n",
       " ('Shampoo', 4395),\n",
       " ('Kitchen', 4368),\n",
       " ('Hangers', 4361),\n",
       " ('Carbon monoxide detector', 4350),\n",
       " ('Hair dryer', 4120),\n",
       " ('Laptop friendly workspace', 3961),\n",
       " ('Iron', 3885),\n",
       " ('Fire extinguisher', 3730),\n",
       " ('TV', 3615),\n",
       " ('Washer', 3518),\n",
       " ('Dryer', 3515),\n",
       " ('Hot water', 3434),\n",
       " ('First aid kit', 2948),\n",
       " ('Self check-in', 2909),\n",
       " ('Air conditioning', 2839),\n",
       " ('Free street parking', 2797),\n",
       " ('Family/kid friendly', 2645),\n",
       " ('Free parking on premises', 2556),\n",
       " ('Refrigerator', 2296),\n",
       " ('Dishes and silverware', 2213),\n",
       " ('Private entrance', 2103),\n",
       " ('Bed linens', 2082),\n",
       " ('Coffee maker', 2059),\n",
       " ('Microwave', 1956),\n",
       " ('Internet', 1906),\n",
       " ('Cooking basics', 1842),\n",
       " ('Stove', 1781),\n",
       " ('Extra pillows and blankets', 1770),\n",
       " ('Oven', 1706),\n",
       " ('Luggage dropoff allowed', 1596),\n",
       " ('Lock on bedroom door', 1490),\n",
       " ('Long term stays allowed', 1422),\n",
       " ('Dishwasher', 1364),\n",
       " ('Garden or backyard', 1342),\n",
       " ('Indoor fireplace', 1318),\n",
       " ('Keypad', 1311),\n",
       " ('Patio or balcony', 1308),\n",
       " ('Cable TV', 1260),\n",
       " ('Safety card', 1247),\n",
       " ('Step-free access', 1232),\n",
       " ('translation missing: en.hosting_amenity_50', 1202),\n",
       " ('Lockbox', 1195),\n",
       " ('Pets live on this property', 1125),\n",
       " ('24-hour check-in', 1100),\n",
       " ('translation missing: en.hosting_amenity_49', 1000),\n",
       " ('Bathtub', 803),\n",
       " ('Pets allowed', 743),\n",
       " ('Private living room', 688),\n",
       " ('Pack ’n Play/travel crib', 681),\n",
       " ('BBQ grill', 678),\n",
       " ('Dog(s)', 656),\n",
       " ('Children’s books and toys', 624),\n",
       " ('Breakfast', 618),\n",
       " ('Wide doorway', 589),\n",
       " ('Well-lit path to entrance', 514),\n",
       " ('Other', 504),\n",
       " ('Cat(s)', 463),\n",
       " ('Single level home', 430),\n",
       " ('Room-darkening shades', 409),\n",
       " ('Elevator', 403),\n",
       " ('Host greets you', 390),\n",
       " ('Smart lock', 378),\n",
       " ('High chair', 333),\n",
       " ('Children’s dinnerware', 270),\n",
       " ('Suitable for events', 245),\n",
       " ('Gym', 220)]"
      ]
     },
     "execution_count": 76,
     "metadata": {},
     "output_type": "execute_result"
    }
   ],
   "source": [
    "# Get all of the amenities into a dictionary, and sort by frequency\n",
    "counts = defaultdict(int)\n",
    "\n",
    "for i in range(5044):\n",
    "    for amenity in df['amenities'][i]:\n",
    "        counts[amenity] += 1\n",
    "\n",
    "sorted(counts.items(), reverse=True, key=lambda tup: tup[1])"
   ]
  },
  {
   "cell_type": "code",
   "execution_count": 101,
   "metadata": {},
   "outputs": [
    {
     "name": "stdout",
     "output_type": "stream",
     "text": [
      "df['amenities_gym'] = df['amenities'].apply(lambda x: 1 if 'Gym' in set(x) else 0)\n",
      "df['amenities_kitchen'] = df['amenities'].apply(lambda x: 1 if 'Kitchen' in set(x) else 0)\n",
      "df['amenities_pets_allowed'] = df['amenities'].apply(lambda x: 1 if 'Pets allowed' in set(x) else 0)\n",
      "df['amenities_hot_tub'] = df['amenities'].apply(lambda x: 1 if 'Hot tub' in set(x) else 0)\n",
      "df['amenities_washer'] = df['amenities'].apply(lambda x: 1 if 'Washer' in set(x) else 0)\n",
      "df['amenities_refrigerator'] = df['amenities'].apply(lambda x: 1 if 'Refrigerator' in set(x) else 0)\n",
      "df['amenities_air_conditioning'] = df['amenities'].apply(lambda x: 1 if 'Air conditioning' in set(x) else 0)\n",
      "df['amenities_family_kid_friendly'] = df['amenities'].apply(lambda x: 1 if 'Family/kid friendly' in set(x) else 0)\n",
      "df['amenities_private_entrance'] = df['amenities'].apply(lambda x: 1 if 'Private entrance' in set(x) else 0)\n",
      "df['amenities_indoor_fireplace'] = df['amenities'].apply(lambda x: 1 if 'Indoor fireplace' in set(x) else 0)\n",
      "df['amenities_patio_or_balcony'] = df['amenities'].apply(lambda x: 1 if 'Patio or balcony' in set(x) else 0)\n",
      "df['amenities_cable_tv'] = df['amenities'].apply(lambda x: 1 if 'Cable TV' in set(x) else 0)\n",
      "df['amenities_24_hour_check_in'] = df['amenities'].apply(lambda x: 1 if '24-hour check-in' in set(x) else 0)\n",
      "df['amenities_bathtub'] = df['amenities'].apply(lambda x: 1 if 'Bathtub' in set(x) else 0)\n"
     ]
    }
   ],
   "source": [
    "# Use regex and for loop to make syntax of one-hot encoding easier :)\n",
    "for x in ['Gym', 'Kitchen', 'Pets allowed', 'Hot tub',\n",
    "          'Washer', 'Refrigerator', 'Air conditioning',\n",
    "          'Family/kid friendly', 'Private entrance',\n",
    "          'Indoor fireplace', 'Patio or balcony',\n",
    "          'Cable TV', '24-hour check-in', 'Bathtub']:\n",
    "    print(f\"df['amenities_{x.lower().replace(' ', '_').replace('/', '_').replace('-', '_')}'] = df['amenities'].apply(lambda x: 1 if '{x}' in set(x) else 0)\")"
   ]
  },
  {
   "cell_type": "code",
   "execution_count": 30,
   "metadata": {},
   "outputs": [],
   "source": [
    "# One hot encode all of the relevant amenities\n",
    "df['amenities_gym'] = df['amenities'].apply(lambda x: 1 if 'Gym' in set(x) else 0)\n",
    "df['amenities_kitchen'] = df['amenities'].apply(lambda x: 1 if 'Kitchen' in set(x) else 0)\n",
    "df['amenities_pets_allowed'] = df['amenities'].apply(lambda x: 1 if 'Pets allowed' in set(x) else 0)\n",
    "df['amenities_hot_tub'] = df['amenities'].apply(lambda x: 1 if 'Hot tub' in set(x) else 0)\n",
    "df['amenities_washer'] = df['amenities'].apply(lambda x: 1 if 'Washer' in set(x) else 0)\n",
    "df['amenities_refrigerator'] = df['amenities'].apply(lambda x: 1 if 'Refrigerator' in set(x) else 0)\n",
    "df['amenities_air_conditioning'] = df['amenities'].apply(lambda x: 1 if 'Air conditioning' in set(x) else 0)\n",
    "df['amenities_family_kid_friendly'] = df['amenities'].apply(lambda x: 1 if 'Family/kid friendly' in set(x) else 0)\n",
    "df['amenities_private_entrance'] = df['amenities'].apply(lambda x: 1 if 'Private entrance' in set(x) else 0)\n",
    "df['amenities_indoor_fireplace'] = df['amenities'].apply(lambda x: 1 if 'Indoor fireplace' in set(x) else 0)\n",
    "df['amenities_patio_or_balcony'] = df['amenities'].apply(lambda x: 1 if 'Patio or balcony' in set(x) else 0)\n",
    "df['amenities_cable_tv'] = df['amenities'].apply(lambda x: 1 if 'Cable TV' in set(x) else 0)\n",
    "df['amenities_24_hour_check_in'] = df['amenities'].apply(lambda x: 1 if '24-hour check-in' in set(x) else 0)\n",
    "df['amenities_bathtub'] = df['amenities'].apply(lambda x: 1 if 'Bathtub' in set(x) else 0)"
   ]
  },
  {
   "cell_type": "code",
   "execution_count": 127,
   "metadata": {},
   "outputs": [
    {
     "data": {
      "image/png": "[encoded data removed]",
      "text/plain": [
       "<Figure size 576x432 with 1 Axes>"
      ]
     },
     "metadata": {},
     "output_type": "display_data"
    }
   ],
   "source": [
    "plt.figure(figsize=(8,6))\n",
    "plt.hist(df['number_of_reviews'], bins='auto', range=(0,200), align=');"
   ]
  },
  {
   "cell_type": "code",
   "execution_count": 118,
   "metadata": {},
   "outputs": [
    {
     "data": {
      "text/plain": [
       "100.0    1258\n",
       "99.0      857\n",
       "98.0      773\n",
       "97.0      530\n",
       "96.0      399\n",
       "95.0      260\n",
       "94.0      175\n",
       "93.0      163\n",
       "90.0      105\n",
       "92.0       89\n",
       "91.0       61\n",
       "80.0       41\n",
       "89.0       35\n",
       "88.0       32\n",
       "87.0       24\n",
       "         ... \n",
       "83.0        8\n",
       "84.0        7\n",
       "81.0        6\n",
       "82.0        6\n",
       "73.0        5\n",
       "77.0        3\n",
       "70.0        3\n",
       "67.0        1\n",
       "40.0        1\n",
       "20.0        1\n",
       "78.0        1\n",
       "76.0        1\n",
       "68.0        1\n",
       "55.0        1\n",
       "79.0        1\n",
       "Name: review_scores_rating, Length: 33, dtype: int64"
      ]
     },
     "execution_count": 118,
     "metadata": {},
     "output_type": "execute_result"
    }
   ],
   "source": [
    "df['review_scores_rating'].value_counts()"
   ]
  },
  {
   "cell_type": "markdown",
   "metadata": {},
   "source": [
    "#### Merge dataframe of listings info (df) with dataframe of reviews info (df2)"
   ]
  },
  {
   "cell_type": "code",
   "execution_count": 154,
   "metadata": {},
   "outputs": [],
   "source": [
    "df3 = df.merge(df2, how='inner', left_on='id', right_on='listing_id')"
   ]
  },
  {
   "cell_type": "code",
   "execution_count": 312,
   "metadata": {},
   "outputs": [
    {
     "data": {
      "text/html": [
       "<div>\n",
       "<style scoped>\n",
       "    .dataframe tbody tr th:only-of-type {\n",
       "        vertical-align: middle;\n",
       "    }\n",
       "\n",
       "    .dataframe tbody tr th {\n",
       "        vertical-align: top;\n",
       "    }\n",
       "\n",
       "    .dataframe thead th {\n",
       "        text-align: right;\n",
       "    }\n",
       "</style>\n",
       "<table border=\"1\" class=\"dataframe\">\n",
       "  <thead>\n",
       "    <tr style=\"text-align: right;\">\n",
       "      <th></th>\n",
       "      <th>id_x</th>\n",
       "      <th>host_id</th>\n",
       "      <th>host_listings_count</th>\n",
       "      <th>host_total_listings_count</th>\n",
       "      <th>neighbourhood</th>\n",
       "      <th>zipcode</th>\n",
       "      <th>latitude</th>\n",
       "      <th>longitude</th>\n",
       "      <th>property_type</th>\n",
       "      <th>room_type</th>\n",
       "      <th>accommodates</th>\n",
       "      <th>bathrooms</th>\n",
       "      <th>bedrooms</th>\n",
       "      <th>beds</th>\n",
       "      <th>bed_type</th>\n",
       "      <th>amenities</th>\n",
       "      <th>price</th>\n",
       "      <th>guests_included</th>\n",
       "      <th>number_of_reviews</th>\n",
       "      <th>review_scores_rating</th>\n",
       "      <th>review_scores_accuracy</th>\n",
       "      <th>review_scores_cleanliness</th>\n",
       "      <th>review_scores_checkin</th>\n",
       "      <th>review_scores_communication</th>\n",
       "      <th>review_scores_location</th>\n",
       "      <th>review_scores_value</th>\n",
       "      <th>instant_bookable</th>\n",
       "      <th>reviews_per_month</th>\n",
       "      <th>listing_id</th>\n",
       "      <th>id_y</th>\n",
       "      <th>date</th>\n",
       "      <th>reviewer_id</th>\n",
       "      <th>reviewer_name</th>\n",
       "      <th>comments</th>\n",
       "      <th>reviews_cleaned_str</th>\n",
       "      <th>polarity</th>\n",
       "      <th>subjectivity</th>\n",
       "      <th>review_length</th>\n",
       "      <th>cleaned_comments</th>\n",
       "      <th>num_sentences</th>\n",
       "      <th>comment_words_only</th>\n",
       "      <th>individual_words</th>\n",
       "      <th>word_count</th>\n",
       "      <th>average_word_length</th>\n",
       "      <th>most_frequent_words</th>\n",
       "      <th>lda_1</th>\n",
       "      <th>lda_2</th>\n",
       "      <th>lda_3</th>\n",
       "      <th>lda_4</th>\n",
       "      <th>lda_5</th>\n",
       "      <th>lda_6</th>\n",
       "      <th>lda_7</th>\n",
       "      <th>lda_8</th>\n",
       "      <th>lda_9</th>\n",
       "      <th>lda_10</th>\n",
       "      <th>cluster_pred_1</th>\n",
       "      <th>cluster_pred_2</th>\n",
       "      <th>cluster_pred_3</th>\n",
       "      <th>cluster_pred_4</th>\n",
       "      <th>cluster_pred_5</th>\n",
       "      <th>cluster_pred_6</th>\n",
       "      <th>cluster_pred_7</th>\n",
       "    </tr>\n",
       "  </thead>\n",
       "  <tbody>\n",
       "    <tr>\n",
       "      <th>318257</th>\n",
       "      <td>28812036</td>\n",
       "      <td>217086646</td>\n",
       "      <td>1</td>\n",
       "      <td>1</td>\n",
       "      <td>South Portland</td>\n",
       "      <td>97239</td>\n",
       "      <td>45.498897</td>\n",
       "      <td>-122.680050</td>\n",
       "      <td>Condominium</td>\n",
       "      <td>Entire home/apt</td>\n",
       "      <td>5</td>\n",
       "      <td>1.5</td>\n",
       "      <td>2.0</td>\n",
       "      <td>3.0</td>\n",
       "      <td>Real Bed</td>\n",
       "      <td>{TV,Wifi,Kitchen,\"Free parking on premises\",\"P...</td>\n",
       "      <td>79</td>\n",
       "      <td>1</td>\n",
       "      <td>2</td>\n",
       "      <td>90.0</td>\n",
       "      <td>10.0</td>\n",
       "      <td>7.0</td>\n",
       "      <td>10.0</td>\n",
       "      <td>10.0</td>\n",
       "      <td>10.0</td>\n",
       "      <td>9.0</td>\n",
       "      <td>1</td>\n",
       "      <td>2.0</td>\n",
       "      <td>28812036</td>\n",
       "      <td>330598649</td>\n",
       "      <td>2018-09-30</td>\n",
       "      <td>105408229</td>\n",
       "      <td>Kathleen</td>\n",
       "      <td>Moda Center. As a new host to air bnb, Doug wa...</td>\n",
       "      <td>moda center host doug quick commun recept sugg...</td>\n",
       "      <td>0.183838</td>\n",
       "      <td>0.448906</td>\n",
       "      <td>206</td>\n",
       "      <td>moda center host doug quick communication rece...</td>\n",
       "      <td>3</td>\n",
       "      <td>moda center as a new host to air bnb doug was ...</td>\n",
       "      <td>['moda', 'center', 'as', 'a', 'new', 'host', '...</td>\n",
       "      <td>41</td>\n",
       "      <td>3.902439</td>\n",
       "      <td>[('quick', 2), ('place', 2)]</td>\n",
       "      <td>0.012507</td>\n",
       "      <td>0.012509</td>\n",
       "      <td>0.206340</td>\n",
       "      <td>0.012500</td>\n",
       "      <td>0.012508</td>\n",
       "      <td>0.693623</td>\n",
       "      <td>0.012509</td>\n",
       "      <td>0.012501</td>\n",
       "      <td>0.012501</td>\n",
       "      <td>0.012502</td>\n",
       "      <td>0</td>\n",
       "      <td>0</td>\n",
       "      <td>0</td>\n",
       "      <td>0</td>\n",
       "      <td>0</td>\n",
       "      <td>1</td>\n",
       "      <td>0</td>\n",
       "    </tr>\n",
       "    <tr>\n",
       "      <th>318258</th>\n",
       "      <td>28812036</td>\n",
       "      <td>217086646</td>\n",
       "      <td>1</td>\n",
       "      <td>1</td>\n",
       "      <td>South Portland</td>\n",
       "      <td>97239</td>\n",
       "      <td>45.498897</td>\n",
       "      <td>-122.680050</td>\n",
       "      <td>Condominium</td>\n",
       "      <td>Entire home/apt</td>\n",
       "      <td>5</td>\n",
       "      <td>1.5</td>\n",
       "      <td>2.0</td>\n",
       "      <td>3.0</td>\n",
       "      <td>Real Bed</td>\n",
       "      <td>{TV,Wifi,Kitchen,\"Free parking on premises\",\"P...</td>\n",
       "      <td>79</td>\n",
       "      <td>1</td>\n",
       "      <td>2</td>\n",
       "      <td>90.0</td>\n",
       "      <td>10.0</td>\n",
       "      <td>7.0</td>\n",
       "      <td>10.0</td>\n",
       "      <td>10.0</td>\n",
       "      <td>10.0</td>\n",
       "      <td>9.0</td>\n",
       "      <td>1</td>\n",
       "      <td>2.0</td>\n",
       "      <td>28812036</td>\n",
       "      <td>333799631</td>\n",
       "      <td>2018-10-07</td>\n",
       "      <td>217078455</td>\n",
       "      <td>Jorge</td>\n",
       "      <td>Feel at home in this cozy apartment with a gre...</td>\n",
       "      <td>feel home cozi apart great view</td>\n",
       "      <td>0.300000</td>\n",
       "      <td>0.750000</td>\n",
       "      <td>54</td>\n",
       "      <td>feel home cozy apartment great view</td>\n",
       "      <td>1</td>\n",
       "      <td>feel at home in this cozy apartment with a gre...</td>\n",
       "      <td>['feel', 'at', 'home', 'in', 'this', 'cozy', '...</td>\n",
       "      <td>11</td>\n",
       "      <td>3.909091</td>\n",
       "      <td>[]</td>\n",
       "      <td>0.016669</td>\n",
       "      <td>0.388173</td>\n",
       "      <td>0.016671</td>\n",
       "      <td>0.016668</td>\n",
       "      <td>0.478445</td>\n",
       "      <td>0.016675</td>\n",
       "      <td>0.016675</td>\n",
       "      <td>0.016672</td>\n",
       "      <td>0.016676</td>\n",
       "      <td>0.016676</td>\n",
       "      <td>1</td>\n",
       "      <td>0</td>\n",
       "      <td>0</td>\n",
       "      <td>0</td>\n",
       "      <td>0</td>\n",
       "      <td>0</td>\n",
       "      <td>0</td>\n",
       "    </tr>\n",
       "    <tr>\n",
       "      <th>318259</th>\n",
       "      <td>28866190</td>\n",
       "      <td>217508696</td>\n",
       "      <td>1</td>\n",
       "      <td>1</td>\n",
       "      <td>South Portland</td>\n",
       "      <td>97219</td>\n",
       "      <td>45.473536</td>\n",
       "      <td>-122.679010</td>\n",
       "      <td>Guest suite</td>\n",
       "      <td>Private room</td>\n",
       "      <td>2</td>\n",
       "      <td>1.0</td>\n",
       "      <td>1.0</td>\n",
       "      <td>1.0</td>\n",
       "      <td>Real Bed</td>\n",
       "      <td>{TV,Wifi,\"Air conditioning\",\"Free parking on p...</td>\n",
       "      <td>69</td>\n",
       "      <td>1</td>\n",
       "      <td>1</td>\n",
       "      <td>100.0</td>\n",
       "      <td>10.0</td>\n",
       "      <td>10.0</td>\n",
       "      <td>10.0</td>\n",
       "      <td>10.0</td>\n",
       "      <td>10.0</td>\n",
       "      <td>10.0</td>\n",
       "      <td>1</td>\n",
       "      <td>1.0</td>\n",
       "      <td>28866190</td>\n",
       "      <td>330516667</td>\n",
       "      <td>2018-09-30</td>\n",
       "      <td>34245803</td>\n",
       "      <td>Harshit</td>\n",
       "      <td>We had a great experience. The house has all t...</td>\n",
       "      <td>great experi hous amen requir clean everyth li...</td>\n",
       "      <td>0.478889</td>\n",
       "      <td>0.733333</td>\n",
       "      <td>176</td>\n",
       "      <td>great experience house amenities required clea...</td>\n",
       "      <td>5</td>\n",
       "      <td>we had a great experience the house has all th...</td>\n",
       "      <td>['we', 'had', 'a', 'great', 'experience', 'the...</td>\n",
       "      <td>31</td>\n",
       "      <td>4.516129</td>\n",
       "      <td>[]</td>\n",
       "      <td>0.539725</td>\n",
       "      <td>0.009092</td>\n",
       "      <td>0.009091</td>\n",
       "      <td>0.009091</td>\n",
       "      <td>0.009092</td>\n",
       "      <td>0.009092</td>\n",
       "      <td>0.009091</td>\n",
       "      <td>0.387541</td>\n",
       "      <td>0.009092</td>\n",
       "      <td>0.009092</td>\n",
       "      <td>0</td>\n",
       "      <td>0</td>\n",
       "      <td>0</td>\n",
       "      <td>0</td>\n",
       "      <td>0</td>\n",
       "      <td>0</td>\n",
       "      <td>0</td>\n",
       "    </tr>\n",
       "    <tr>\n",
       "      <th>318260</th>\n",
       "      <td>28993289</td>\n",
       "      <td>186186834</td>\n",
       "      <td>3</td>\n",
       "      <td>3</td>\n",
       "      <td>Lents</td>\n",
       "      <td>97266</td>\n",
       "      <td>45.477691</td>\n",
       "      <td>-122.568251</td>\n",
       "      <td>House</td>\n",
       "      <td>Entire home/apt</td>\n",
       "      <td>6</td>\n",
       "      <td>2.0</td>\n",
       "      <td>3.0</td>\n",
       "      <td>3.0</td>\n",
       "      <td>Real Bed</td>\n",
       "      <td>{TV,Wifi,Kitchen,\"Free parking on premises\",He...</td>\n",
       "      <td>150</td>\n",
       "      <td>4</td>\n",
       "      <td>1</td>\n",
       "      <td>100.0</td>\n",
       "      <td>10.0</td>\n",
       "      <td>10.0</td>\n",
       "      <td>10.0</td>\n",
       "      <td>10.0</td>\n",
       "      <td>10.0</td>\n",
       "      <td>10.0</td>\n",
       "      <td>1</td>\n",
       "      <td>1.0</td>\n",
       "      <td>28993289</td>\n",
       "      <td>333748311</td>\n",
       "      <td>2018-10-07</td>\n",
       "      <td>164222226</td>\n",
       "      <td>Dennis</td>\n",
       "      <td>Thank you for hosting and I appreciate the goo...</td>\n",
       "      <td>thank host appreci good commun highli recommend</td>\n",
       "      <td>0.517500</td>\n",
       "      <td>0.570000</td>\n",
       "      <td>83</td>\n",
       "      <td>thank hosting appreciate good communication hi...</td>\n",
       "      <td>2</td>\n",
       "      <td>thank you for hosting and i appreciate the goo...</td>\n",
       "      <td>['thank', 'you', 'for', 'hosting', 'and', 'i',...</td>\n",
       "      <td>13</td>\n",
       "      <td>5.230769</td>\n",
       "      <td>[]</td>\n",
       "      <td>0.014291</td>\n",
       "      <td>0.014292</td>\n",
       "      <td>0.014286</td>\n",
       "      <td>0.014287</td>\n",
       "      <td>0.014292</td>\n",
       "      <td>0.437785</td>\n",
       "      <td>0.014287</td>\n",
       "      <td>0.447906</td>\n",
       "      <td>0.014287</td>\n",
       "      <td>0.014287</td>\n",
       "      <td>0</td>\n",
       "      <td>0</td>\n",
       "      <td>0</td>\n",
       "      <td>0</td>\n",
       "      <td>0</td>\n",
       "      <td>1</td>\n",
       "      <td>0</td>\n",
       "    </tr>\n",
       "    <tr>\n",
       "      <th>318261</th>\n",
       "      <td>29051346</td>\n",
       "      <td>99130184</td>\n",
       "      <td>1</td>\n",
       "      <td>1</td>\n",
       "      <td>Mt. Tabor</td>\n",
       "      <td>97215</td>\n",
       "      <td>45.508009</td>\n",
       "      <td>-122.603037</td>\n",
       "      <td>Guest suite</td>\n",
       "      <td>Entire home/apt</td>\n",
       "      <td>4</td>\n",
       "      <td>1.0</td>\n",
       "      <td>2.0</td>\n",
       "      <td>2.0</td>\n",
       "      <td>Real Bed</td>\n",
       "      <td>{TV,Wifi,Kitchen,\"Pets allowed\",Heating,Washer...</td>\n",
       "      <td>73</td>\n",
       "      <td>1</td>\n",
       "      <td>1</td>\n",
       "      <td>100.0</td>\n",
       "      <td>10.0</td>\n",
       "      <td>10.0</td>\n",
       "      <td>10.0</td>\n",
       "      <td>10.0</td>\n",
       "      <td>10.0</td>\n",
       "      <td>10.0</td>\n",
       "      <td>1</td>\n",
       "      <td>1.0</td>\n",
       "      <td>29051346</td>\n",
       "      <td>334328607</td>\n",
       "      <td>2018-10-08</td>\n",
       "      <td>1846976</td>\n",
       "      <td>Jodi</td>\n",
       "      <td>Ellie's place was terrific. Everything is new ...</td>\n",
       "      <td>elli place terrif everyth comfort live room di...</td>\n",
       "      <td>0.306882</td>\n",
       "      <td>0.697263</td>\n",
       "      <td>801</td>\n",
       "      <td>ellies place terrific everything comfortable l...</td>\n",
       "      <td>12</td>\n",
       "      <td>ellies place was terrific everything is new an...</td>\n",
       "      <td>['ellies', 'place', 'was', 'terrific', 'everyt...</td>\n",
       "      <td>151</td>\n",
       "      <td>4.112583</td>\n",
       "      <td>[('place', 6), ('ellies', 3), ('comfortable', 3)]</td>\n",
       "      <td>0.002501</td>\n",
       "      <td>0.002501</td>\n",
       "      <td>0.002501</td>\n",
       "      <td>0.030559</td>\n",
       "      <td>0.002501</td>\n",
       "      <td>0.002500</td>\n",
       "      <td>0.002501</td>\n",
       "      <td>0.002501</td>\n",
       "      <td>0.520884</td>\n",
       "      <td>0.431051</td>\n",
       "      <td>0</td>\n",
       "      <td>1</td>\n",
       "      <td>0</td>\n",
       "      <td>0</td>\n",
       "      <td>0</td>\n",
       "      <td>0</td>\n",
       "      <td>0</td>\n",
       "    </tr>\n",
       "  </tbody>\n",
       "</table>\n",
       "</div>"
      ],
      "text/plain": [
       "            id_x    host_id  host_listings_count  host_total_listings_count  \\\n",
       "318257  28812036  217086646                    1                          1   \n",
       "318258  28812036  217086646                    1                          1   \n",
       "318259  28866190  217508696                    1                          1   \n",
       "318260  28993289  186186834                    3                          3   \n",
       "318261  29051346   99130184                    1                          1   \n",
       "\n",
       "         neighbourhood zipcode   latitude   longitude property_type  \\\n",
       "318257  South Portland   97239  45.498897 -122.680050   Condominium   \n",
       "318258  South Portland   97239  45.498897 -122.680050   Condominium   \n",
       "318259  South Portland   97219  45.473536 -122.679010   Guest suite   \n",
       "318260           Lents   97266  45.477691 -122.568251         House   \n",
       "318261       Mt. Tabor   97215  45.508009 -122.603037   Guest suite   \n",
       "\n",
       "              room_type  accommodates  bathrooms  bedrooms  beds  bed_type  \\\n",
       "318257  Entire home/apt             5        1.5       2.0   3.0  Real Bed   \n",
       "318258  Entire home/apt             5        1.5       2.0   3.0  Real Bed   \n",
       "318259     Private room             2        1.0       1.0   1.0  Real Bed   \n",
       "318260  Entire home/apt             6        2.0       3.0   3.0  Real Bed   \n",
       "318261  Entire home/apt             4        1.0       2.0   2.0  Real Bed   \n",
       "\n",
       "                                                amenities  price  \\\n",
       "318257  {TV,Wifi,Kitchen,\"Free parking on premises\",\"P...     79   \n",
       "318258  {TV,Wifi,Kitchen,\"Free parking on premises\",\"P...     79   \n",
       "318259  {TV,Wifi,\"Air conditioning\",\"Free parking on p...     69   \n",
       "318260  {TV,Wifi,Kitchen,\"Free parking on premises\",He...    150   \n",
       "318261  {TV,Wifi,Kitchen,\"Pets allowed\",Heating,Washer...     73   \n",
       "\n",
       "        guests_included  number_of_reviews  review_scores_rating  \\\n",
       "318257                1                  2                  90.0   \n",
       "318258                1                  2                  90.0   \n",
       "318259                1                  1                 100.0   \n",
       "318260                4                  1                 100.0   \n",
       "318261                1                  1                 100.0   \n",
       "\n",
       "        review_scores_accuracy  review_scores_cleanliness  \\\n",
       "318257                    10.0                        7.0   \n",
       "318258                    10.0                        7.0   \n",
       "318259                    10.0                       10.0   \n",
       "318260                    10.0                       10.0   \n",
       "318261                    10.0                       10.0   \n",
       "\n",
       "        review_scores_checkin  review_scores_communication  \\\n",
       "318257                   10.0                         10.0   \n",
       "318258                   10.0                         10.0   \n",
       "318259                   10.0                         10.0   \n",
       "318260                   10.0                         10.0   \n",
       "318261                   10.0                         10.0   \n",
       "\n",
       "        review_scores_location  review_scores_value  instant_bookable  \\\n",
       "318257                    10.0                  9.0                 1   \n",
       "318258                    10.0                  9.0                 1   \n",
       "318259                    10.0                 10.0                 1   \n",
       "318260                    10.0                 10.0                 1   \n",
       "318261                    10.0                 10.0                 1   \n",
       "\n",
       "        reviews_per_month  listing_id       id_y        date  reviewer_id  \\\n",
       "318257                2.0    28812036  330598649  2018-09-30    105408229   \n",
       "318258                2.0    28812036  333799631  2018-10-07    217078455   \n",
       "318259                1.0    28866190  330516667  2018-09-30     34245803   \n",
       "318260                1.0    28993289  333748311  2018-10-07    164222226   \n",
       "318261                1.0    29051346  334328607  2018-10-08      1846976   \n",
       "\n",
       "       reviewer_name                                           comments  \\\n",
       "318257      Kathleen  Moda Center. As a new host to air bnb, Doug wa...   \n",
       "318258         Jorge  Feel at home in this cozy apartment with a gre...   \n",
       "318259       Harshit  We had a great experience. The house has all t...   \n",
       "318260        Dennis  Thank you for hosting and I appreciate the goo...   \n",
       "318261          Jodi  Ellie's place was terrific. Everything is new ...   \n",
       "\n",
       "                                      reviews_cleaned_str  polarity  \\\n",
       "318257  moda center host doug quick commun recept sugg...  0.183838   \n",
       "318258                    feel home cozi apart great view  0.300000   \n",
       "318259  great experi hous amen requir clean everyth li...  0.478889   \n",
       "318260    thank host appreci good commun highli recommend  0.517500   \n",
       "318261  elli place terrif everyth comfort live room di...  0.306882   \n",
       "\n",
       "        subjectivity  review_length  \\\n",
       "318257      0.448906            206   \n",
       "318258      0.750000             54   \n",
       "318259      0.733333            176   \n",
       "318260      0.570000             83   \n",
       "318261      0.697263            801   \n",
       "\n",
       "                                         cleaned_comments  num_sentences  \\\n",
       "318257  moda center host doug quick communication rece...              3   \n",
       "318258                feel home cozy apartment great view              1   \n",
       "318259  great experience house amenities required clea...              5   \n",
       "318260  thank hosting appreciate good communication hi...              2   \n",
       "318261  ellies place terrific everything comfortable l...             12   \n",
       "\n",
       "                                       comment_words_only  \\\n",
       "318257  moda center as a new host to air bnb doug was ...   \n",
       "318258  feel at home in this cozy apartment with a gre...   \n",
       "318259  we had a great experience the house has all th...   \n",
       "318260  thank you for hosting and i appreciate the goo...   \n",
       "318261  ellies place was terrific everything is new an...   \n",
       "\n",
       "                                         individual_words  word_count  \\\n",
       "318257  ['moda', 'center', 'as', 'a', 'new', 'host', '...          41   \n",
       "318258  ['feel', 'at', 'home', 'in', 'this', 'cozy', '...          11   \n",
       "318259  ['we', 'had', 'a', 'great', 'experience', 'the...          31   \n",
       "318260  ['thank', 'you', 'for', 'hosting', 'and', 'i',...          13   \n",
       "318261  ['ellies', 'place', 'was', 'terrific', 'everyt...         151   \n",
       "\n",
       "        average_word_length  \\\n",
       "318257             3.902439   \n",
       "318258             3.909091   \n",
       "318259             4.516129   \n",
       "318260             5.230769   \n",
       "318261             4.112583   \n",
       "\n",
       "                                      most_frequent_words     lda_1     lda_2  \\\n",
       "318257                       [('quick', 2), ('place', 2)]  0.012507  0.012509   \n",
       "318258                                                 []  0.016669  0.388173   \n",
       "318259                                                 []  0.539725  0.009092   \n",
       "318260                                                 []  0.014291  0.014292   \n",
       "318261  [('place', 6), ('ellies', 3), ('comfortable', 3)]  0.002501  0.002501   \n",
       "\n",
       "           lda_3     lda_4     lda_5     lda_6     lda_7     lda_8     lda_9  \\\n",
       "318257  0.206340  0.012500  0.012508  0.693623  0.012509  0.012501  0.012501   \n",
       "318258  0.016671  0.016668  0.478445  0.016675  0.016675  0.016672  0.016676   \n",
       "318259  0.009091  0.009091  0.009092  0.009092  0.009091  0.387541  0.009092   \n",
       "318260  0.014286  0.014287  0.014292  0.437785  0.014287  0.447906  0.014287   \n",
       "318261  0.002501  0.030559  0.002501  0.002500  0.002501  0.002501  0.520884   \n",
       "\n",
       "          lda_10  cluster_pred_1  cluster_pred_2  cluster_pred_3  \\\n",
       "318257  0.012502               0               0               0   \n",
       "318258  0.016676               1               0               0   \n",
       "318259  0.009092               0               0               0   \n",
       "318260  0.014287               0               0               0   \n",
       "318261  0.431051               0               1               0   \n",
       "\n",
       "        cluster_pred_4  cluster_pred_5  cluster_pred_6  cluster_pred_7  \n",
       "318257               0               0               1               0  \n",
       "318258               0               0               0               0  \n",
       "318259               0               0               0               0  \n",
       "318260               0               0               1               0  \n",
       "318261               0               0               0               0  "
      ]
     },
     "execution_count": 312,
     "metadata": {},
     "output_type": "execute_result"
    }
   ],
   "source": [
    "df3.tail()"
   ]
  },
  {
   "cell_type": "code",
   "execution_count": 159,
   "metadata": {},
   "outputs": [],
   "source": []
  },
  {
   "cell_type": "code",
   "execution_count": 4,
   "metadata": {},
   "outputs": [
    {
     "name": "stderr",
     "output_type": "stream",
     "text": [
      "/Users/brenner/anaconda3/lib/python3.6/site-packages/IPython/core/interactiveshell.py:2785: DtypeWarning: Columns (6) have mixed types. Specify dtype option on import or set low_memory=False.\n",
      "  interactivity=interactivity, compiler=compiler, result=result)\n"
     ]
    }
   ],
   "source": [
    "# df3.to_csv('final_full_df.csv')\n",
    "df3 = pd.read_csv('final_full_df.csv', index_col='Unnamed: 0')"
   ]
  },
  {
   "cell_type": "code",
   "execution_count": 5,
   "metadata": {},
   "outputs": [
    {
     "data": {
      "text/plain": [
       "id_x                           int64\n",
       "host_id                        int64\n",
       "host_listings_count            int64\n",
       "host_total_listings_count      int64\n",
       "neighbourhood                 object\n",
       "zipcode                       object\n",
       "latitude                     float64\n",
       "longitude                    float64\n",
       "property_type                 object\n",
       "room_type                     object\n",
       "accommodates                   int64\n",
       "bathrooms                    float64\n",
       "bedrooms                     float64\n",
       "beds                         float64\n",
       "bed_type                      object\n",
       "                              ...   \n",
       "individual_words              object\n",
       "word_count                     int64\n",
       "average_word_length          float64\n",
       "most_frequent_words           object\n",
       "cluster_pred                   int64\n",
       "lda_1                        float64\n",
       "lda_2                        float64\n",
       "lda_3                        float64\n",
       "lda_4                        float64\n",
       "lda_5                        float64\n",
       "lda_6                        float64\n",
       "lda_7                        float64\n",
       "lda_8                        float64\n",
       "lda_9                        float64\n",
       "lda_10                       float64\n",
       "Length: 56, dtype: object"
      ]
     },
     "execution_count": 5,
     "metadata": {},
     "output_type": "execute_result"
    }
   ],
   "source": [
    "df3.dtypes"
   ]
  },
  {
   "cell_type": "code",
   "execution_count": 6,
   "metadata": {},
   "outputs": [],
   "source": [
    "df3 = pd.get_dummies(df3, columns=['cluster_pred'], drop_first=False)"
   ]
  },
  {
   "cell_type": "code",
   "execution_count": 15,
   "metadata": {},
   "outputs": [],
   "source": [
    "df3 = pd.get_dummies(df3, columns=['neighbourhood', 'property_type'], drop_first=False)"
   ]
  },
  {
   "cell_type": "code",
   "execution_count": 21,
   "metadata": {},
   "outputs": [],
   "source": [
    "df3 = pd.get_dummies(df3, columns=['room_type'], drop_first=False)"
   ]
  },
  {
   "cell_type": "code",
   "execution_count": 23,
   "metadata": {},
   "outputs": [],
   "source": [
    "df3 = pd.get_dummies(df3, columns=['bed_type'], drop_first=False)"
   ]
  },
  {
   "cell_type": "code",
   "execution_count": 16,
   "metadata": {},
   "outputs": [],
   "source": [
    "df3 = df3.dropna(axis=0)"
   ]
  },
  {
   "cell_type": "code",
   "execution_count": 31,
   "metadata": {},
   "outputs": [
    {
     "data": {
      "text/plain": [
       "array(['id_x', 'host_id', 'host_listings_count',\n",
       "       'host_total_listings_count', 'zipcode', 'latitude', 'longitude',\n",
       "       'accommodates', 'bathrooms', 'bedrooms', 'beds', 'amenities',\n",
       "       'price', 'guests_included', 'number_of_reviews',\n",
       "       'review_scores_rating', 'review_scores_accuracy',\n",
       "       'review_scores_cleanliness', 'review_scores_checkin',\n",
       "       'review_scores_communication', 'review_scores_location',\n",
       "       'review_scores_value', 'instant_bookable', 'reviews_per_month',\n",
       "       'listing_id', 'id_y', 'date', 'reviewer_id', 'reviewer_name',\n",
       "       'comments', 'reviews_cleaned_str', 'polarity', 'subjectivity',\n",
       "       'review_length', 'cleaned_comments', 'num_sentences',\n",
       "       'comment_words_only', 'individual_words', 'word_count',\n",
       "       'average_word_length', 'most_frequent_words', 'lda_1', 'lda_2',\n",
       "       'lda_3', 'lda_4', 'lda_5', 'lda_6', 'lda_7', 'lda_8', 'lda_9',\n",
       "       'lda_10', 'cluster_pred_0', 'cluster_pred_1', 'cluster_pred_2',\n",
       "       'cluster_pred_3', 'cluster_pred_4', 'cluster_pred_5',\n",
       "       'cluster_pred_6', 'cluster_pred_7', 'neighbourhood_Alameda',\n",
       "       'neighbourhood_Arbor Lodge', 'neighbourhood_Argay',\n",
       "       'neighbourhood_Arlington Heights', 'neighbourhood_Arnold Creek',\n",
       "       'neighbourhood_Ashcreek', 'neighbourhood_Beaumont-Wilshire',\n",
       "       'neighbourhood_Boise-Eliot', 'neighbourhood_Brentwood-Darlington',\n",
       "       'neighbourhood_Bridgeton', 'neighbourhood_Bridlemile',\n",
       "       'neighbourhood_Brooklyn', 'neighbourhood_Buckman',\n",
       "       'neighbourhood_Cathedral Park', 'neighbourhood_Collins View',\n",
       "       'neighbourhood_Concordia', 'neighbourhood_Creston-Kenilworth',\n",
       "       'neighbourhood_Crestwood', 'neighbourhood_Cully',\n",
       "       'neighbourhood_Downtown', 'neighbourhood_East Columbia',\n",
       "       'neighbourhood_Eastmoreland', 'neighbourhood_Eliot',\n",
       "       'neighbourhood_Far Southwest', 'neighbourhood_Forest Park',\n",
       "       'neighbourhood_Foster-Powell', 'neighbourhood_Glenfair',\n",
       "       'neighbourhood_Goose Hollow', 'neighbourhood_Grant Park',\n",
       "       'neighbourhood_Hayden Island', 'neighbourhood_Hayhurst',\n",
       "       'neighbourhood_Hazelwood', 'neighbourhood_Hillsdale',\n",
       "       'neighbourhood_Hillside', 'neighbourhood_Hollywood',\n",
       "       'neighbourhood_Homestead', 'neighbourhood_Hosford-Abernethy',\n",
       "       'neighbourhood_Humboldt', 'neighbourhood_Irvington',\n",
       "       'neighbourhood_Kenton', 'neighbourhood_Kerns',\n",
       "       'neighbourhood_King', 'neighbourhood_Laurelhurst',\n",
       "       'neighbourhood_Lents', 'neighbourhood_Lloyd District',\n",
       "       'neighbourhood_Madison South', 'neighbourhood_Maplewood',\n",
       "       'neighbourhood_Markham', 'neighbourhood_Marshall Park',\n",
       "       'neighbourhood_Mill Park', 'neighbourhood_Montavilla',\n",
       "       'neighbourhood_Mount Scott', 'neighbourhood_Mt. Tabor',\n",
       "       'neighbourhood_Multnomah', 'neighbourhood_N. Tabor',\n",
       "       'neighbourhood_Northwest District',\n",
       "       'neighbourhood_Old Town/Chinatown', 'neighbourhood_Overlook',\n",
       "       'neighbourhood_Parkrose', 'neighbourhood_Parkrose Heights',\n",
       "       'neighbourhood_Pearl', 'neighbourhood_Piedmont',\n",
       "       'neighbourhood_Pleasant Valley', 'neighbourhood_Portsmouth',\n",
       "       'neighbourhood_Powellhurst-Gilbert', 'neighbourhood_Reed',\n",
       "       'neighbourhood_Richmond', 'neighbourhood_Rose City Park',\n",
       "       'neighbourhood_Roseway', 'neighbourhood_Russell',\n",
       "       'neighbourhood_Sabin', 'neighbourhood_Sellwood-Moreland',\n",
       "       'neighbourhood_South Burlingame', 'neighbourhood_South Portland',\n",
       "       'neighbourhood_South Tabor', 'neighbourhood_Southwest Hills',\n",
       "       'neighbourhood_St. Johns', \"neighbourhood_Sullivan's Gulch\",\n",
       "       'neighbourhood_Sumner', 'neighbourhood_Sunderland',\n",
       "       'neighbourhood_Sunnyside', 'neighbourhood_Sylvan-Highlands',\n",
       "       'neighbourhood_University Park', 'neighbourhood_Vernon',\n",
       "       'neighbourhood_West Portland Park', 'neighbourhood_Wilkes',\n",
       "       'neighbourhood_Woodland Park', 'neighbourhood_Woodlawn',\n",
       "       'neighbourhood_Woodstock', 'property_type_Apartment',\n",
       "       'property_type_Bed and breakfast', 'property_type_Boat',\n",
       "       'property_type_Boutique hotel', 'property_type_Bungalow',\n",
       "       'property_type_Bus', 'property_type_Cabin',\n",
       "       'property_type_Camper/RV', 'property_type_Condominium',\n",
       "       'property_type_Cottage', 'property_type_Dome house',\n",
       "       'property_type_Earth house', 'property_type_Farm stay',\n",
       "       'property_type_Guest suite', 'property_type_Guesthouse',\n",
       "       'property_type_Hostel', 'property_type_House',\n",
       "       'property_type_Houseboat', 'property_type_Hut',\n",
       "       'property_type_In-law', 'property_type_Loft',\n",
       "       'property_type_Other', 'property_type_Serviced apartment',\n",
       "       'property_type_Tent', 'property_type_Tiny house',\n",
       "       'property_type_Townhouse', 'property_type_Treehouse',\n",
       "       'property_type_Villa', 'property_type_Yurt',\n",
       "       'room_type_Entire home/apt', 'room_type_Private room',\n",
       "       'room_type_Shared room', 'bed_type_Airbed', 'bed_type_Couch',\n",
       "       'bed_type_Futon', 'bed_type_Pull-out Sofa', 'bed_type_Real Bed',\n",
       "       'amenities_gym', 'amenities_kitchen', 'amenities_pets_allowed',\n",
       "       'amenities_hot_tub', 'amenities_washer', 'amenities_refrigerator',\n",
       "       'amenities_air_conditioning', 'amenities_family_kid_friendly',\n",
       "       'amenities_private_entrance', 'amenities_indoor_fireplace',\n",
       "       'amenities_patio_or_balcony', 'amenities_cable_tv',\n",
       "       'amenities_24_hour_check_in', 'amenities_bathtub'], dtype=object)"
      ]
     },
     "execution_count": 31,
     "metadata": {},
     "output_type": "execute_result"
    }
   ],
   "source": [
    "df3.columns.values"
   ]
  },
  {
   "cell_type": "code",
   "execution_count": null,
   "metadata": {},
   "outputs": [],
   "source": [
    "df3."
   ]
  },
  {
   "cell_type": "code",
   "execution_count": 298,
   "metadata": {},
   "outputs": [
    {
     "data": {
      "text/html": [
       "<div>\n",
       "<style scoped>\n",
       "    .dataframe tbody tr th:only-of-type {\n",
       "        vertical-align: middle;\n",
       "    }\n",
       "\n",
       "    .dataframe tbody tr th {\n",
       "        vertical-align: top;\n",
       "    }\n",
       "\n",
       "    .dataframe thead th {\n",
       "        text-align: right;\n",
       "    }\n",
       "</style>\n",
       "<table border=\"1\" class=\"dataframe\">\n",
       "  <thead>\n",
       "    <tr style=\"text-align: right;\">\n",
       "      <th></th>\n",
       "      <th>id_x</th>\n",
       "      <th>host_id</th>\n",
       "      <th>host_listings_count</th>\n",
       "      <th>host_total_listings_count</th>\n",
       "      <th>latitude</th>\n",
       "      <th>longitude</th>\n",
       "      <th>accommodates</th>\n",
       "      <th>bathrooms</th>\n",
       "      <th>bedrooms</th>\n",
       "      <th>beds</th>\n",
       "      <th>price</th>\n",
       "      <th>guests_included</th>\n",
       "      <th>number_of_reviews</th>\n",
       "      <th>review_scores_rating</th>\n",
       "      <th>review_scores_accuracy</th>\n",
       "      <th>review_scores_cleanliness</th>\n",
       "      <th>review_scores_checkin</th>\n",
       "      <th>review_scores_communication</th>\n",
       "      <th>review_scores_location</th>\n",
       "      <th>review_scores_value</th>\n",
       "      <th>instant_bookable</th>\n",
       "      <th>reviews_per_month</th>\n",
       "      <th>listing_id</th>\n",
       "      <th>id_y</th>\n",
       "      <th>reviewer_id</th>\n",
       "      <th>polarity</th>\n",
       "      <th>subjectivity</th>\n",
       "      <th>review_length</th>\n",
       "      <th>num_sentences</th>\n",
       "      <th>word_count</th>\n",
       "      <th>average_word_length</th>\n",
       "      <th>lda_1</th>\n",
       "      <th>lda_2</th>\n",
       "      <th>lda_3</th>\n",
       "      <th>lda_4</th>\n",
       "      <th>lda_5</th>\n",
       "      <th>lda_6</th>\n",
       "      <th>lda_7</th>\n",
       "      <th>lda_8</th>\n",
       "      <th>lda_9</th>\n",
       "      <th>lda_10</th>\n",
       "      <th>cluster_pred_1</th>\n",
       "      <th>cluster_pred_2</th>\n",
       "      <th>cluster_pred_3</th>\n",
       "      <th>cluster_pred_4</th>\n",
       "      <th>cluster_pred_5</th>\n",
       "      <th>cluster_pred_6</th>\n",
       "      <th>cluster_pred_7</th>\n",
       "    </tr>\n",
       "  </thead>\n",
       "  <tbody>\n",
       "    <tr>\n",
       "      <th>count</th>\n",
       "      <td>3.055740e+05</td>\n",
       "      <td>3.055740e+05</td>\n",
       "      <td>305574.000000</td>\n",
       "      <td>305574.000000</td>\n",
       "      <td>305574.000000</td>\n",
       "      <td>305574.000000</td>\n",
       "      <td>305574.000000</td>\n",
       "      <td>305574.000000</td>\n",
       "      <td>305574.000000</td>\n",
       "      <td>305574.000000</td>\n",
       "      <td>305574.000000</td>\n",
       "      <td>305574.000000</td>\n",
       "      <td>305574.000000</td>\n",
       "      <td>305574.000000</td>\n",
       "      <td>305574.000000</td>\n",
       "      <td>305574.000000</td>\n",
       "      <td>305574.000000</td>\n",
       "      <td>305574.000000</td>\n",
       "      <td>305574.000000</td>\n",
       "      <td>305574.000000</td>\n",
       "      <td>305574.000000</td>\n",
       "      <td>305574.000000</td>\n",
       "      <td>3.055740e+05</td>\n",
       "      <td>3.055740e+05</td>\n",
       "      <td>3.055740e+05</td>\n",
       "      <td>305574.000000</td>\n",
       "      <td>305574.000000</td>\n",
       "      <td>305574.000000</td>\n",
       "      <td>305574.000000</td>\n",
       "      <td>305574.000000</td>\n",
       "      <td>305574.000000</td>\n",
       "      <td>305574.000000</td>\n",
       "      <td>305574.000000</td>\n",
       "      <td>305574.000000</td>\n",
       "      <td>305574.000000</td>\n",
       "      <td>305574.000000</td>\n",
       "      <td>305574.000000</td>\n",
       "      <td>305574.000000</td>\n",
       "      <td>305574.000000</td>\n",
       "      <td>305574.000000</td>\n",
       "      <td>305574.000000</td>\n",
       "      <td>305574.000000</td>\n",
       "      <td>305574.000000</td>\n",
       "      <td>305574.000000</td>\n",
       "      <td>305574.000000</td>\n",
       "      <td>305574.000000</td>\n",
       "      <td>305574.000000</td>\n",
       "      <td>305574.000000</td>\n",
       "    </tr>\n",
       "    <tr>\n",
       "      <th>mean</th>\n",
       "      <td>9.763483e+06</td>\n",
       "      <td>2.795592e+07</td>\n",
       "      <td>4.734644</td>\n",
       "      <td>4.734644</td>\n",
       "      <td>45.529374</td>\n",
       "      <td>-122.647990</td>\n",
       "      <td>3.164477</td>\n",
       "      <td>1.148925</td>\n",
       "      <td>1.148278</td>\n",
       "      <td>1.713457</td>\n",
       "      <td>100.388511</td>\n",
       "      <td>1.855681</td>\n",
       "      <td>169.917686</td>\n",
       "      <td>97.199755</td>\n",
       "      <td>9.935881</td>\n",
       "      <td>9.865911</td>\n",
       "      <td>9.984400</td>\n",
       "      <td>9.976379</td>\n",
       "      <td>9.842123</td>\n",
       "      <td>9.823496</td>\n",
       "      <td>0.477969</td>\n",
       "      <td>4.898857</td>\n",
       "      <td>9.763483e+06</td>\n",
       "      <td>1.711244e+08</td>\n",
       "      <td>5.462425e+07</td>\n",
       "      <td>0.423587</td>\n",
       "      <td>0.640812</td>\n",
       "      <td>294.588476</td>\n",
       "      <td>4.395325</td>\n",
       "      <td>52.845501</td>\n",
       "      <td>4.539532</td>\n",
       "      <td>0.114813</td>\n",
       "      <td>0.106284</td>\n",
       "      <td>0.096228</td>\n",
       "      <td>0.044418</td>\n",
       "      <td>0.129837</td>\n",
       "      <td>0.133989</td>\n",
       "      <td>0.084443</td>\n",
       "      <td>0.059822</td>\n",
       "      <td>0.132582</td>\n",
       "      <td>0.097583</td>\n",
       "      <td>0.133470</td>\n",
       "      <td>0.155085</td>\n",
       "      <td>0.119519</td>\n",
       "      <td>0.119830</td>\n",
       "      <td>0.104309</td>\n",
       "      <td>0.126866</td>\n",
       "      <td>0.118367</td>\n",
       "    </tr>\n",
       "    <tr>\n",
       "      <th>std</th>\n",
       "      <td>7.127360e+06</td>\n",
       "      <td>3.727847e+07</td>\n",
       "      <td>54.913803</td>\n",
       "      <td>54.913803</td>\n",
       "      <td>0.030653</td>\n",
       "      <td>0.040688</td>\n",
       "      <td>1.584140</td>\n",
       "      <td>0.685585</td>\n",
       "      <td>0.736991</td>\n",
       "      <td>1.080173</td>\n",
       "      <td>196.337102</td>\n",
       "      <td>1.106612</td>\n",
       "      <td>127.167931</td>\n",
       "      <td>2.519818</td>\n",
       "      <td>0.259332</td>\n",
       "      <td>0.368355</td>\n",
       "      <td>0.134728</td>\n",
       "      <td>0.165913</td>\n",
       "      <td>0.370776</td>\n",
       "      <td>0.395109</td>\n",
       "      <td>0.499515</td>\n",
       "      <td>2.657622</td>\n",
       "      <td>7.127360e+06</td>\n",
       "      <td>9.504165e+07</td>\n",
       "      <td>5.277178e+07</td>\n",
       "      <td>0.185970</td>\n",
       "      <td>0.144858</td>\n",
       "      <td>249.448278</td>\n",
       "      <td>2.817539</td>\n",
       "      <td>45.671319</td>\n",
       "      <td>0.649886</td>\n",
       "      <td>0.184744</td>\n",
       "      <td>0.173935</td>\n",
       "      <td>0.161821</td>\n",
       "      <td>0.098070</td>\n",
       "      <td>0.198075</td>\n",
       "      <td>0.205915</td>\n",
       "      <td>0.145905</td>\n",
       "      <td>0.119651</td>\n",
       "      <td>0.201407</td>\n",
       "      <td>0.167198</td>\n",
       "      <td>0.340083</td>\n",
       "      <td>0.361986</td>\n",
       "      <td>0.324399</td>\n",
       "      <td>0.324763</td>\n",
       "      <td>0.305661</td>\n",
       "      <td>0.332824</td>\n",
       "      <td>0.323043</td>\n",
       "    </tr>\n",
       "    <tr>\n",
       "      <th>min</th>\n",
       "      <td>7.893000e+03</td>\n",
       "      <td>2.531000e+03</td>\n",
       "      <td>0.000000</td>\n",
       "      <td>0.000000</td>\n",
       "      <td>45.434557</td>\n",
       "      <td>-122.833981</td>\n",
       "      <td>1.000000</td>\n",
       "      <td>0.000000</td>\n",
       "      <td>0.000000</td>\n",
       "      <td>1.000000</td>\n",
       "      <td>0.000000</td>\n",
       "      <td>1.000000</td>\n",
       "      <td>1.000000</td>\n",
       "      <td>40.000000</td>\n",
       "      <td>2.000000</td>\n",
       "      <td>2.000000</td>\n",
       "      <td>4.000000</td>\n",
       "      <td>4.000000</td>\n",
       "      <td>4.000000</td>\n",
       "      <td>4.000000</td>\n",
       "      <td>0.000000</td>\n",
       "      <td>0.010000</td>\n",
       "      <td>7.893000e+03</td>\n",
       "      <td>2.476700e+04</td>\n",
       "      <td>1.000000e+00</td>\n",
       "      <td>-1.000000</td>\n",
       "      <td>0.000000</td>\n",
       "      <td>4.000000</td>\n",
       "      <td>1.000000</td>\n",
       "      <td>1.000000</td>\n",
       "      <td>0.044444</td>\n",
       "      <td>0.000926</td>\n",
       "      <td>0.000834</td>\n",
       "      <td>0.000827</td>\n",
       "      <td>0.000763</td>\n",
       "      <td>0.000764</td>\n",
       "      <td>0.000769</td>\n",
       "      <td>0.000788</td>\n",
       "      <td>0.000787</td>\n",
       "      <td>0.001053</td>\n",
       "      <td>0.000800</td>\n",
       "      <td>0.000000</td>\n",
       "      <td>0.000000</td>\n",
       "      <td>0.000000</td>\n",
       "      <td>0.000000</td>\n",
       "      <td>0.000000</td>\n",
       "      <td>0.000000</td>\n",
       "      <td>0.000000</td>\n",
       "    </tr>\n",
       "    <tr>\n",
       "      <th>25%</th>\n",
       "      <td>3.696524e+06</td>\n",
       "      <td>3.482338e+06</td>\n",
       "      <td>1.000000</td>\n",
       "      <td>1.000000</td>\n",
       "      <td>45.507970</td>\n",
       "      <td>-122.674915</td>\n",
       "      <td>2.000000</td>\n",
       "      <td>1.000000</td>\n",
       "      <td>1.000000</td>\n",
       "      <td>1.000000</td>\n",
       "      <td>65.000000</td>\n",
       "      <td>1.000000</td>\n",
       "      <td>76.000000</td>\n",
       "      <td>96.000000</td>\n",
       "      <td>10.000000</td>\n",
       "      <td>10.000000</td>\n",
       "      <td>10.000000</td>\n",
       "      <td>10.000000</td>\n",
       "      <td>10.000000</td>\n",
       "      <td>10.000000</td>\n",
       "      <td>0.000000</td>\n",
       "      <td>2.942500</td>\n",
       "      <td>3.696524e+06</td>\n",
       "      <td>8.880216e+07</td>\n",
       "      <td>1.233932e+07</td>\n",
       "      <td>0.308333</td>\n",
       "      <td>0.561044</td>\n",
       "      <td>129.000000</td>\n",
       "      <td>3.000000</td>\n",
       "      <td>22.000000</td>\n",
       "      <td>4.194444</td>\n",
       "      <td>0.006252</td>\n",
       "      <td>0.006667</td>\n",
       "      <td>0.006253</td>\n",
       "      <td>0.005264</td>\n",
       "      <td>0.005884</td>\n",
       "      <td>0.005884</td>\n",
       "      <td>0.005885</td>\n",
       "      <td>0.005558</td>\n",
       "      <td>0.007144</td>\n",
       "      <td>0.006252</td>\n",
       "      <td>0.000000</td>\n",
       "      <td>0.000000</td>\n",
       "      <td>0.000000</td>\n",
       "      <td>0.000000</td>\n",
       "      <td>0.000000</td>\n",
       "      <td>0.000000</td>\n",
       "      <td>0.000000</td>\n",
       "    </tr>\n",
       "    <tr>\n",
       "      <th>50%</th>\n",
       "      <td>8.256301e+06</td>\n",
       "      <td>1.299216e+07</td>\n",
       "      <td>1.000000</td>\n",
       "      <td>1.000000</td>\n",
       "      <td>45.528147</td>\n",
       "      <td>-122.648428</td>\n",
       "      <td>2.000000</td>\n",
       "      <td>1.000000</td>\n",
       "      <td>1.000000</td>\n",
       "      <td>1.000000</td>\n",
       "      <td>85.000000</td>\n",
       "      <td>2.000000</td>\n",
       "      <td>141.000000</td>\n",
       "      <td>98.000000</td>\n",
       "      <td>10.000000</td>\n",
       "      <td>10.000000</td>\n",
       "      <td>10.000000</td>\n",
       "      <td>10.000000</td>\n",
       "      <td>10.000000</td>\n",
       "      <td>10.000000</td>\n",
       "      <td>0.000000</td>\n",
       "      <td>4.620000</td>\n",
       "      <td>8.256301e+06</td>\n",
       "      <td>1.723990e+08</td>\n",
       "      <td>3.577136e+07</td>\n",
       "      <td>0.406667</td>\n",
       "      <td>0.641735</td>\n",
       "      <td>234.000000</td>\n",
       "      <td>4.000000</td>\n",
       "      <td>42.000000</td>\n",
       "      <td>4.458333</td>\n",
       "      <td>0.012503</td>\n",
       "      <td>0.012502</td>\n",
       "      <td>0.012501</td>\n",
       "      <td>0.009091</td>\n",
       "      <td>0.012505</td>\n",
       "      <td>0.014286</td>\n",
       "      <td>0.011114</td>\n",
       "      <td>0.010001</td>\n",
       "      <td>0.014289</td>\n",
       "      <td>0.012501</td>\n",
       "      <td>0.000000</td>\n",
       "      <td>0.000000</td>\n",
       "      <td>0.000000</td>\n",
       "      <td>0.000000</td>\n",
       "      <td>0.000000</td>\n",
       "      <td>0.000000</td>\n",
       "      <td>0.000000</td>\n",
       "    </tr>\n",
       "    <tr>\n",
       "      <th>75%</th>\n",
       "      <td>1.555233e+07</td>\n",
       "      <td>3.644455e+07</td>\n",
       "      <td>2.000000</td>\n",
       "      <td>2.000000</td>\n",
       "      <td>45.555548</td>\n",
       "      <td>-122.624633</td>\n",
       "      <td>4.000000</td>\n",
       "      <td>1.000000</td>\n",
       "      <td>1.000000</td>\n",
       "      <td>2.000000</td>\n",
       "      <td>110.000000</td>\n",
       "      <td>2.000000</td>\n",
       "      <td>235.000000</td>\n",
       "      <td>99.000000</td>\n",
       "      <td>10.000000</td>\n",
       "      <td>10.000000</td>\n",
       "      <td>10.000000</td>\n",
       "      <td>10.000000</td>\n",
       "      <td>10.000000</td>\n",
       "      <td>10.000000</td>\n",
       "      <td>1.000000</td>\n",
       "      <td>6.500000</td>\n",
       "      <td>1.555233e+07</td>\n",
       "      <td>2.544609e+08</td>\n",
       "      <td>8.252855e+07</td>\n",
       "      <td>0.520000</td>\n",
       "      <td>0.730556</td>\n",
       "      <td>385.000000</td>\n",
       "      <td>6.000000</td>\n",
       "      <td>69.000000</td>\n",
       "      <td>4.777778</td>\n",
       "      <td>0.175572</td>\n",
       "      <td>0.152891</td>\n",
       "      <td>0.129685</td>\n",
       "      <td>0.020001</td>\n",
       "      <td>0.214196</td>\n",
       "      <td>0.208402</td>\n",
       "      <td>0.105169</td>\n",
       "      <td>0.033334</td>\n",
       "      <td>0.215483</td>\n",
       "      <td>0.121177</td>\n",
       "      <td>0.000000</td>\n",
       "      <td>0.000000</td>\n",
       "      <td>0.000000</td>\n",
       "      <td>0.000000</td>\n",
       "      <td>0.000000</td>\n",
       "      <td>0.000000</td>\n",
       "      <td>0.000000</td>\n",
       "    </tr>\n",
       "    <tr>\n",
       "      <th>max</th>\n",
       "      <td>2.905135e+07</td>\n",
       "      <td>2.175087e+08</td>\n",
       "      <td>1304.000000</td>\n",
       "      <td>1304.000000</td>\n",
       "      <td>45.611388</td>\n",
       "      <td>-122.493942</td>\n",
       "      <td>16.000000</td>\n",
       "      <td>49.500000</td>\n",
       "      <td>8.000000</td>\n",
       "      <td>16.000000</td>\n",
       "      <td>8400.000000</td>\n",
       "      <td>15.000000</td>\n",
       "      <td>856.000000</td>\n",
       "      <td>100.000000</td>\n",
       "      <td>10.000000</td>\n",
       "      <td>10.000000</td>\n",
       "      <td>10.000000</td>\n",
       "      <td>10.000000</td>\n",
       "      <td>10.000000</td>\n",
       "      <td>10.000000</td>\n",
       "      <td>1.000000</td>\n",
       "      <td>15.330000</td>\n",
       "      <td>2.905135e+07</td>\n",
       "      <td>3.343749e+08</td>\n",
       "      <td>2.189908e+08</td>\n",
       "      <td>1.000000</td>\n",
       "      <td>1.000000</td>\n",
       "      <td>3095.000000</td>\n",
       "      <td>44.000000</td>\n",
       "      <td>561.000000</td>\n",
       "      <td>67.000000</td>\n",
       "      <td>0.960860</td>\n",
       "      <td>0.967850</td>\n",
       "      <td>0.968958</td>\n",
       "      <td>0.935706</td>\n",
       "      <td>0.954991</td>\n",
       "      <td>0.963994</td>\n",
       "      <td>0.959081</td>\n",
       "      <td>0.939988</td>\n",
       "      <td>0.986762</td>\n",
       "      <td>0.968955</td>\n",
       "      <td>1.000000</td>\n",
       "      <td>1.000000</td>\n",
       "      <td>1.000000</td>\n",
       "      <td>1.000000</td>\n",
       "      <td>1.000000</td>\n",
       "      <td>1.000000</td>\n",
       "      <td>1.000000</td>\n",
       "    </tr>\n",
       "  </tbody>\n",
       "</table>\n",
       "</div>"
      ],
      "text/plain": [
       "               id_x       host_id  host_listings_count  \\\n",
       "count  3.055740e+05  3.055740e+05        305574.000000   \n",
       "mean   9.763483e+06  2.795592e+07             4.734644   \n",
       "std    7.127360e+06  3.727847e+07            54.913803   \n",
       "min    7.893000e+03  2.531000e+03             0.000000   \n",
       "25%    3.696524e+06  3.482338e+06             1.000000   \n",
       "50%    8.256301e+06  1.299216e+07             1.000000   \n",
       "75%    1.555233e+07  3.644455e+07             2.000000   \n",
       "max    2.905135e+07  2.175087e+08          1304.000000   \n",
       "\n",
       "       host_total_listings_count       latitude      longitude   accommodates  \\\n",
       "count              305574.000000  305574.000000  305574.000000  305574.000000   \n",
       "mean                    4.734644      45.529374    -122.647990       3.164477   \n",
       "std                    54.913803       0.030653       0.040688       1.584140   \n",
       "min                     0.000000      45.434557    -122.833981       1.000000   \n",
       "25%                     1.000000      45.507970    -122.674915       2.000000   \n",
       "50%                     1.000000      45.528147    -122.648428       2.000000   \n",
       "75%                     2.000000      45.555548    -122.624633       4.000000   \n",
       "max                  1304.000000      45.611388    -122.493942      16.000000   \n",
       "\n",
       "           bathrooms       bedrooms           beds          price  \\\n",
       "count  305574.000000  305574.000000  305574.000000  305574.000000   \n",
       "mean        1.148925       1.148278       1.713457     100.388511   \n",
       "std         0.685585       0.736991       1.080173     196.337102   \n",
       "min         0.000000       0.000000       1.000000       0.000000   \n",
       "25%         1.000000       1.000000       1.000000      65.000000   \n",
       "50%         1.000000       1.000000       1.000000      85.000000   \n",
       "75%         1.000000       1.000000       2.000000     110.000000   \n",
       "max        49.500000       8.000000      16.000000    8400.000000   \n",
       "\n",
       "       guests_included  number_of_reviews  review_scores_rating  \\\n",
       "count    305574.000000      305574.000000         305574.000000   \n",
       "mean          1.855681         169.917686             97.199755   \n",
       "std           1.106612         127.167931              2.519818   \n",
       "min           1.000000           1.000000             40.000000   \n",
       "25%           1.000000          76.000000             96.000000   \n",
       "50%           2.000000         141.000000             98.000000   \n",
       "75%           2.000000         235.000000             99.000000   \n",
       "max          15.000000         856.000000            100.000000   \n",
       "\n",
       "       review_scores_accuracy  review_scores_cleanliness  \\\n",
       "count           305574.000000              305574.000000   \n",
       "mean                 9.935881                   9.865911   \n",
       "std                  0.259332                   0.368355   \n",
       "min                  2.000000                   2.000000   \n",
       "25%                 10.000000                  10.000000   \n",
       "50%                 10.000000                  10.000000   \n",
       "75%                 10.000000                  10.000000   \n",
       "max                 10.000000                  10.000000   \n",
       "\n",
       "       review_scores_checkin  review_scores_communication  \\\n",
       "count          305574.000000                305574.000000   \n",
       "mean                9.984400                     9.976379   \n",
       "std                 0.134728                     0.165913   \n",
       "min                 4.000000                     4.000000   \n",
       "25%                10.000000                    10.000000   \n",
       "50%                10.000000                    10.000000   \n",
       "75%                10.000000                    10.000000   \n",
       "max                10.000000                    10.000000   \n",
       "\n",
       "       review_scores_location  review_scores_value  instant_bookable  \\\n",
       "count           305574.000000        305574.000000     305574.000000   \n",
       "mean                 9.842123             9.823496          0.477969   \n",
       "std                  0.370776             0.395109          0.499515   \n",
       "min                  4.000000             4.000000          0.000000   \n",
       "25%                 10.000000            10.000000          0.000000   \n",
       "50%                 10.000000            10.000000          0.000000   \n",
       "75%                 10.000000            10.000000          1.000000   \n",
       "max                 10.000000            10.000000          1.000000   \n",
       "\n",
       "       reviews_per_month    listing_id          id_y   reviewer_id  \\\n",
       "count      305574.000000  3.055740e+05  3.055740e+05  3.055740e+05   \n",
       "mean            4.898857  9.763483e+06  1.711244e+08  5.462425e+07   \n",
       "std             2.657622  7.127360e+06  9.504165e+07  5.277178e+07   \n",
       "min             0.010000  7.893000e+03  2.476700e+04  1.000000e+00   \n",
       "25%             2.942500  3.696524e+06  8.880216e+07  1.233932e+07   \n",
       "50%             4.620000  8.256301e+06  1.723990e+08  3.577136e+07   \n",
       "75%             6.500000  1.555233e+07  2.544609e+08  8.252855e+07   \n",
       "max            15.330000  2.905135e+07  3.343749e+08  2.189908e+08   \n",
       "\n",
       "            polarity   subjectivity  review_length  num_sentences  \\\n",
       "count  305574.000000  305574.000000  305574.000000  305574.000000   \n",
       "mean        0.423587       0.640812     294.588476       4.395325   \n",
       "std         0.185970       0.144858     249.448278       2.817539   \n",
       "min        -1.000000       0.000000       4.000000       1.000000   \n",
       "25%         0.308333       0.561044     129.000000       3.000000   \n",
       "50%         0.406667       0.641735     234.000000       4.000000   \n",
       "75%         0.520000       0.730556     385.000000       6.000000   \n",
       "max         1.000000       1.000000    3095.000000      44.000000   \n",
       "\n",
       "          word_count  average_word_length          lda_1          lda_2  \\\n",
       "count  305574.000000        305574.000000  305574.000000  305574.000000   \n",
       "mean       52.845501             4.539532       0.114813       0.106284   \n",
       "std        45.671319             0.649886       0.184744       0.173935   \n",
       "min         1.000000             0.044444       0.000926       0.000834   \n",
       "25%        22.000000             4.194444       0.006252       0.006667   \n",
       "50%        42.000000             4.458333       0.012503       0.012502   \n",
       "75%        69.000000             4.777778       0.175572       0.152891   \n",
       "max       561.000000            67.000000       0.960860       0.967850   \n",
       "\n",
       "               lda_3          lda_4          lda_5          lda_6  \\\n",
       "count  305574.000000  305574.000000  305574.000000  305574.000000   \n",
       "mean        0.096228       0.044418       0.129837       0.133989   \n",
       "std         0.161821       0.098070       0.198075       0.205915   \n",
       "min         0.000827       0.000763       0.000764       0.000769   \n",
       "25%         0.006253       0.005264       0.005884       0.005884   \n",
       "50%         0.012501       0.009091       0.012505       0.014286   \n",
       "75%         0.129685       0.020001       0.214196       0.208402   \n",
       "max         0.968958       0.935706       0.954991       0.963994   \n",
       "\n",
       "               lda_7          lda_8          lda_9         lda_10  \\\n",
       "count  305574.000000  305574.000000  305574.000000  305574.000000   \n",
       "mean        0.084443       0.059822       0.132582       0.097583   \n",
       "std         0.145905       0.119651       0.201407       0.167198   \n",
       "min         0.000788       0.000787       0.001053       0.000800   \n",
       "25%         0.005885       0.005558       0.007144       0.006252   \n",
       "50%         0.011114       0.010001       0.014289       0.012501   \n",
       "75%         0.105169       0.033334       0.215483       0.121177   \n",
       "max         0.959081       0.939988       0.986762       0.968955   \n",
       "\n",
       "       cluster_pred_1  cluster_pred_2  cluster_pred_3  cluster_pred_4  \\\n",
       "count   305574.000000   305574.000000   305574.000000   305574.000000   \n",
       "mean         0.133470        0.155085        0.119519        0.119830   \n",
       "std          0.340083        0.361986        0.324399        0.324763   \n",
       "min          0.000000        0.000000        0.000000        0.000000   \n",
       "25%          0.000000        0.000000        0.000000        0.000000   \n",
       "50%          0.000000        0.000000        0.000000        0.000000   \n",
       "75%          0.000000        0.000000        0.000000        0.000000   \n",
       "max          1.000000        1.000000        1.000000        1.000000   \n",
       "\n",
       "       cluster_pred_5  cluster_pred_6  cluster_pred_7  \n",
       "count   305574.000000   305574.000000   305574.000000  \n",
       "mean         0.104309        0.126866        0.118367  \n",
       "std          0.305661        0.332824        0.323043  \n",
       "min          0.000000        0.000000        0.000000  \n",
       "25%          0.000000        0.000000        0.000000  \n",
       "50%          0.000000        0.000000        0.000000  \n",
       "75%          0.000000        0.000000        0.000000  \n",
       "max          1.000000        1.000000        1.000000  "
      ]
     },
     "execution_count": 298,
     "metadata": {},
     "output_type": "execute_result"
    }
   ],
   "source": [
    "df3.describe()"
   ]
  },
  {
   "cell_type": "code",
   "execution_count": 303,
   "metadata": {},
   "outputs": [
    {
     "data": {
      "text/plain": [
       "<matplotlib.axes._subplots.AxesSubplot at 0x1a289652b0>"
      ]
     },
     "execution_count": 303,
     "metadata": {},
     "output_type": "execute_result"
    },
    {
     "data": {
      "image/png": "[encoded data removed]",
      "text/plain": [
       "<Figure size 432x288 with 2 Axes>"
      ]
     },
     "metadata": {},
     "output_type": "display_data"
    }
   ],
   "source": [
    "sns.heatmap(df3.corr(), cmap='coolwarm')"
   ]
  },
  {
   "cell_type": "code",
   "execution_count": 304,
   "metadata": {},
   "outputs": [
    {
     "data": {
      "text/plain": [
       "Index(['id_x', 'host_id', 'host_listings_count', 'host_total_listings_count',\n",
       "       'neighbourhood', 'zipcode', 'latitude', 'longitude', 'property_type',\n",
       "       'room_type', 'accommodates', 'bathrooms', 'bedrooms', 'beds',\n",
       "       'bed_type', 'amenities', 'price', 'guests_included',\n",
       "       'number_of_reviews', 'review_scores_rating', 'review_scores_accuracy',\n",
       "       'review_scores_cleanliness', 'review_scores_checkin',\n",
       "       'review_scores_communication', 'review_scores_location',\n",
       "       'review_scores_value', 'instant_bookable', 'reviews_per_month',\n",
       "       'listing_id', 'id_y', 'date', 'reviewer_id', 'reviewer_name',\n",
       "       'comments', 'reviews_cleaned_str', 'polarity', 'subjectivity',\n",
       "       'review_length', 'cleaned_comments', 'num_sentences',\n",
       "       'comment_words_only', 'individual_words', 'word_count',\n",
       "       'average_word_length', 'most_frequent_words', 'lda_1', 'lda_2', 'lda_3',\n",
       "       'lda_4', 'lda_5', 'lda_6', 'lda_7', 'lda_8', 'lda_9', 'lda_10',\n",
       "       'cluster_pred_1', 'cluster_pred_2', 'cluster_pred_3', 'cluster_pred_4',\n",
       "       'cluster_pred_5', 'cluster_pred_6', 'cluster_pred_7'],\n",
       "      dtype='object')"
      ]
     },
     "execution_count": 304,
     "metadata": {},
     "output_type": "execute_result"
    }
   ],
   "source": [
    "df3.columns"
   ]
  },
  {
   "cell_type": "code",
   "execution_count": 307,
   "metadata": {},
   "outputs": [
    {
     "data": {
      "text/plain": [
       "<matplotlib.axes._subplots.AxesSubplot at 0x1a285190f0>"
      ]
     },
     "execution_count": 307,
     "metadata": {},
     "output_type": "execute_result"
    },
    {
     "data": {
      "image/png": "[encoded data removed]",
      "text/plain": [
       "<Figure size 432x288 with 2 Axes>"
      ]
     },
     "metadata": {},
     "output_type": "display_data"
    }
   ],
   "source": [
    "new = df3[['polarity', 'subjectivity',\n",
    "       'review_length', 'cleaned_comments', 'num_sentences','review_scores_rating']]\n",
    "sns.heatmap(new.corr(), cmap='coolwarm')"
   ]
  },
  {
   "cell_type": "code",
   "execution_count": 301,
   "metadata": {},
   "outputs": [
    {
     "data": {
      "text/plain": [
       "<matplotlib.axes._subplots.AxesSubplot at 0x1a4d54d550>"
      ]
     },
     "execution_count": 301,
     "metadata": {},
     "output_type": "execute_result"
    },
    {
     "data": {
      "image/png": "[encoded data removed]",
      "text/plain": [
       "<Figure size 432x288 with 2 Axes>"
      ]
     },
     "metadata": {},
     "output_type": "display_data"
    }
   ],
   "source": [
    "sns.heatmap(X.corr())"
   ]
  },
  {
   "cell_type": "code",
   "execution_count": 10,
   "metadata": {},
   "outputs": [
    {
     "data": {
      "text/plain": [
       "29"
      ]
     },
     "execution_count": 10,
     "metadata": {},
     "output_type": "execute_result"
    }
   ],
   "source": [
    "df3['property_type'].nunique()"
   ]
  },
  {
   "cell_type": "code",
   "execution_count": 13,
   "metadata": {},
   "outputs": [
    {
     "data": {
      "text/plain": [
       "Index(['id_x', 'host_id', 'host_listings_count', 'host_total_listings_count',\n",
       "       'neighbourhood', 'zipcode', 'latitude', 'longitude', 'property_type',\n",
       "       'room_type', 'accommodates', 'bathrooms', 'bedrooms', 'beds',\n",
       "       'bed_type', 'amenities', 'price', 'guests_included',\n",
       "       'number_of_reviews', 'review_scores_rating', 'review_scores_accuracy',\n",
       "       'review_scores_cleanliness', 'review_scores_checkin',\n",
       "       'review_scores_communication', 'review_scores_location',\n",
       "       'review_scores_value', 'instant_bookable', 'reviews_per_month',\n",
       "       'listing_id', 'id_y', 'date', 'reviewer_id', 'reviewer_name',\n",
       "       'comments', 'reviews_cleaned_str', 'polarity', 'subjectivity',\n",
       "       'review_length', 'cleaned_comments', 'num_sentences',\n",
       "       'comment_words_only', 'individual_words', 'word_count',\n",
       "       'average_word_length', 'most_frequent_words', 'lda_1', 'lda_2', 'lda_3',\n",
       "       'lda_4', 'lda_5', 'lda_6', 'lda_7', 'lda_8', 'lda_9', 'lda_10',\n",
       "       'cluster_pred_0', 'cluster_pred_1', 'cluster_pred_2', 'cluster_pred_3',\n",
       "       'cluster_pred_4', 'cluster_pred_5', 'cluster_pred_6', 'cluster_pred_7'],\n",
       "      dtype='object')"
      ]
     },
     "execution_count": 13,
     "metadata": {},
     "output_type": "execute_result"
    }
   ],
   "source": [
    "df3.columns"
   ]
  },
  {
   "cell_type": "code",
   "execution_count": 14,
   "metadata": {},
   "outputs": [],
   "source": [
    "X = df3[['polarity', 'subjectivity',\n",
    "       'review_length', 'num_sentences', 'word_count',\n",
    "       'average_word_length', 'lda_1',\n",
    "       'lda_2', 'lda_3', 'lda_4', 'lda_5', 'lda_6', 'lda_7', 'lda_8', 'lda_9',\n",
    "       'lda_10', 'cluster_pred_0', 'cluster_pred_1', 'cluster_pred_2', 'cluster_pred_3', 'cluster_pred_4',\n",
    "       'cluster_pred_5', 'cluster_pred_6', 'cluster_pred_7']]\n",
    "\n",
    "y = df3['review_scores_rating']"
   ]
  },
  {
   "cell_type": "code",
   "execution_count": 269,
   "metadata": {},
   "outputs": [],
   "source": [
    "X = df3[['host_listings_count', 'host_total_listings_count',\n",
    "       'accommodates', 'bathrooms', 'bedrooms', 'beds',\n",
    "       'guests_included', 'number_of_reviews', 'instant_bookable',\n",
    "        'reviews_per_month', 'polarity', 'subjectivity',\n",
    "       'review_length', 'num_sentences',\n",
    "       'word_count',\n",
    "       'average_word_length', 'lda_1', 'lda_2', 'lda_3',\n",
    "       'lda_4', 'lda_5', 'lda_6', 'lda_7', 'lda_8', 'lda_9', 'lda_10',\n",
    "       'cluster_pred_1', 'cluster_pred_2', 'cluster_pred_3', 'cluster_pred_4',\n",
    "       'cluster_pred_5', 'cluster_pred_6', 'cluster_pred_7']]\n",
    "\n",
    "y = df3['price']"
   ]
  },
  {
   "cell_type": "code",
   "execution_count": 35,
   "metadata": {},
   "outputs": [],
   "source": [
    "X = df3[['host_listings_count',\n",
    "       'host_total_listings_count', 'latitude', 'longitude',\n",
    "       'accommodates', 'bathrooms', 'bedrooms', 'beds',\n",
    "       'guests_included', 'number_of_reviews',\n",
    "       'review_scores_rating', 'review_scores_accuracy',\n",
    "       'review_scores_cleanliness', 'review_scores_checkin',\n",
    "       'review_scores_communication', 'review_scores_location',\n",
    "       'review_scores_value', 'instant_bookable', 'reviews_per_month',\n",
    "       'polarity', 'subjectivity',\n",
    "       'review_length', 'num_sentences', 'word_count',\n",
    "       'average_word_length', 'lda_1', 'lda_2',\n",
    "       'lda_3', 'lda_4', 'lda_5', 'lda_6', 'lda_7', 'lda_8', 'lda_9',\n",
    "       'lda_10', 'cluster_pred_0', 'cluster_pred_1', 'cluster_pred_2',\n",
    "       'cluster_pred_3', 'cluster_pred_4', 'cluster_pred_5',\n",
    "       'cluster_pred_6', 'cluster_pred_7', 'neighbourhood_Alameda',\n",
    "       'neighbourhood_Arbor Lodge', 'neighbourhood_Argay',\n",
    "       'neighbourhood_Arlington Heights', 'neighbourhood_Arnold Creek',\n",
    "       'neighbourhood_Ashcreek', 'neighbourhood_Beaumont-Wilshire',\n",
    "       'neighbourhood_Boise-Eliot', 'neighbourhood_Brentwood-Darlington',\n",
    "       'neighbourhood_Bridgeton', 'neighbourhood_Bridlemile',\n",
    "       'neighbourhood_Brooklyn', 'neighbourhood_Buckman',\n",
    "       'neighbourhood_Cathedral Park', 'neighbourhood_Collins View',\n",
    "       'neighbourhood_Concordia', 'neighbourhood_Creston-Kenilworth',\n",
    "       'neighbourhood_Crestwood', 'neighbourhood_Cully',\n",
    "       'neighbourhood_Downtown', 'neighbourhood_East Columbia',\n",
    "       'neighbourhood_Eastmoreland', 'neighbourhood_Eliot',\n",
    "       'neighbourhood_Far Southwest', 'neighbourhood_Forest Park',\n",
    "       'neighbourhood_Foster-Powell', 'neighbourhood_Glenfair',\n",
    "       'neighbourhood_Goose Hollow', 'neighbourhood_Grant Park',\n",
    "       'neighbourhood_Hayden Island', 'neighbourhood_Hayhurst',\n",
    "       'neighbourhood_Hazelwood', 'neighbourhood_Hillsdale',\n",
    "       'neighbourhood_Hillside', 'neighbourhood_Hollywood',\n",
    "       'neighbourhood_Homestead', 'neighbourhood_Hosford-Abernethy',\n",
    "       'neighbourhood_Humboldt', 'neighbourhood_Irvington',\n",
    "       'neighbourhood_Kenton', 'neighbourhood_Kerns',\n",
    "       'neighbourhood_King', 'neighbourhood_Laurelhurst',\n",
    "       'neighbourhood_Lents', 'neighbourhood_Lloyd District',\n",
    "       'neighbourhood_Madison South', 'neighbourhood_Maplewood',\n",
    "       'neighbourhood_Markham', 'neighbourhood_Marshall Park',\n",
    "       'neighbourhood_Mill Park', 'neighbourhood_Montavilla',\n",
    "       'neighbourhood_Mount Scott', 'neighbourhood_Mt. Tabor',\n",
    "       'neighbourhood_Multnomah', 'neighbourhood_N. Tabor',\n",
    "       'neighbourhood_Northwest District',\n",
    "       'neighbourhood_Old Town/Chinatown', 'neighbourhood_Overlook',\n",
    "       'neighbourhood_Parkrose', 'neighbourhood_Parkrose Heights',\n",
    "       'neighbourhood_Pearl', 'neighbourhood_Piedmont',\n",
    "       'neighbourhood_Pleasant Valley', 'neighbourhood_Portsmouth',\n",
    "       'neighbourhood_Powellhurst-Gilbert', 'neighbourhood_Reed',\n",
    "       'neighbourhood_Richmond', 'neighbourhood_Rose City Park',\n",
    "       'neighbourhood_Roseway', 'neighbourhood_Russell',\n",
    "       'neighbourhood_Sabin', 'neighbourhood_Sellwood-Moreland',\n",
    "       'neighbourhood_South Burlingame', 'neighbourhood_South Portland',\n",
    "       'neighbourhood_South Tabor', 'neighbourhood_Southwest Hills',\n",
    "       'neighbourhood_St. Johns', \"neighbourhood_Sullivan's Gulch\",\n",
    "       'neighbourhood_Sumner', 'neighbourhood_Sunderland',\n",
    "       'neighbourhood_Sunnyside', 'neighbourhood_Sylvan-Highlands',\n",
    "       'neighbourhood_University Park', 'neighbourhood_Vernon',\n",
    "       'neighbourhood_West Portland Park', 'neighbourhood_Wilkes',\n",
    "       'neighbourhood_Woodland Park', 'neighbourhood_Woodlawn',\n",
    "       'neighbourhood_Woodstock', 'property_type_Apartment',\n",
    "       'property_type_Bed and breakfast', 'property_type_Boat',\n",
    "       'property_type_Boutique hotel', 'property_type_Bungalow',\n",
    "       'property_type_Bus', 'property_type_Cabin',\n",
    "       'property_type_Camper/RV', 'property_type_Condominium',\n",
    "       'property_type_Cottage', 'property_type_Dome house',\n",
    "       'property_type_Earth house', 'property_type_Farm stay',\n",
    "       'property_type_Guest suite', 'property_type_Guesthouse',\n",
    "       'property_type_Hostel', 'property_type_House',\n",
    "       'property_type_Houseboat', 'property_type_Hut',\n",
    "       'property_type_In-law', 'property_type_Loft',\n",
    "       'property_type_Other', 'property_type_Serviced apartment',\n",
    "       'property_type_Tent', 'property_type_Tiny house',\n",
    "       'property_type_Townhouse', 'property_type_Treehouse',\n",
    "       'property_type_Villa', 'property_type_Yurt',\n",
    "       'room_type_Entire home/apt', 'room_type_Private room',\n",
    "       'room_type_Shared room', 'bed_type_Airbed', 'bed_type_Couch',\n",
    "       'bed_type_Futon', 'bed_type_Pull-out Sofa', 'bed_type_Real Bed',\n",
    "        'amenities_gym', 'amenities_kitchen', 'amenities_pets_allowed',\n",
    "       'amenities_hot_tub', 'amenities_washer', 'amenities_refrigerator',\n",
    "       'amenities_air_conditioning', 'amenities_family_kid_friendly',\n",
    "       'amenities_private_entrance', 'amenities_indoor_fireplace',\n",
    "       'amenities_patio_or_balcony', 'amenities_cable_tv',\n",
    "       'amenities_24_hour_check_in', 'amenities_bathtub']]\n",
    "\n",
    "y=df3['price']"
   ]
  },
  {
   "cell_type": "markdown",
   "metadata": {},
   "source": [
    "#### Train-test split"
   ]
  },
  {
   "cell_type": "code",
   "execution_count": 36,
   "metadata": {},
   "outputs": [],
   "source": [
    "X_train, X_test, y_train, y_test = train_test_split(X, y, test_size=0.33, random_state=19)"
   ]
  },
  {
   "cell_type": "code",
   "execution_count": 28,
   "metadata": {},
   "outputs": [
    {
     "ename": "ValueError",
     "evalue": "could not convert string to float: '{Wifi,\"Free street parking\",Heating,\"Smoke detector\",\"Carbon monoxide detector\",\"First aid kit\",\"Fire extinguisher\",Essentials,Shampoo,\"Lock on bedroom door\",\"Hair dryer\",Iron,\"Laptop friendly workspace\",\"translation missing: en.hosting_amenity_49\",\"translation missing: en.hosting_amenity_50\",\"Self check-in\",Lockbox,\"Room-darkening shades\",\"Hot water\",\"Bed linens\",\"Extra pillows and blankets\",Microwave,\"Coffee maker\",Refrigerator,Dishwasher,\"Dishes and silverware\",\"Single level home\",\"BBQ grill\",\"Garden or backyard\",\"Luggage dropoff allowed\"}'",
     "output_type": "error",
     "traceback": [
      "\u001b[0;31m---------------------------------------------------------------------------\u001b[0m",
      "\u001b[0;31mValueError\u001b[0m                                Traceback (most recent call last)",
      "\u001b[0;32m<ipython-input-28-fa7c703d18f3>\u001b[0m in \u001b[0;36m<module>\u001b[0;34m()\u001b[0m\n\u001b[1;32m      1\u001b[0m \u001b[0mlr\u001b[0m \u001b[0;34m=\u001b[0m \u001b[0mLinearRegression\u001b[0m\u001b[0;34m(\u001b[0m\u001b[0;34m)\u001b[0m\u001b[0;34m\u001b[0m\u001b[0m\n\u001b[0;32m----> 2\u001b[0;31m \u001b[0mlr\u001b[0m\u001b[0;34m.\u001b[0m\u001b[0mfit\u001b[0m\u001b[0;34m(\u001b[0m\u001b[0mX_train\u001b[0m\u001b[0;34m,\u001b[0m \u001b[0my_train\u001b[0m\u001b[0;34m)\u001b[0m\u001b[0;34m\u001b[0m\u001b[0m\n\u001b[0m\u001b[1;32m      3\u001b[0m \u001b[0mest\u001b[0m \u001b[0;34m=\u001b[0m \u001b[0mlr\u001b[0m\u001b[0;34m.\u001b[0m\u001b[0mpredict\u001b[0m\u001b[0;34m(\u001b[0m\u001b[0mX_test\u001b[0m\u001b[0;34m)\u001b[0m\u001b[0;34m\u001b[0m\u001b[0m\n",
      "\u001b[0;32m~/anaconda3/lib/python3.6/site-packages/sklearn/linear_model/base.py\u001b[0m in \u001b[0;36mfit\u001b[0;34m(self, X, y, sample_weight)\u001b[0m\n\u001b[1;32m    456\u001b[0m         \u001b[0mn_jobs_\u001b[0m \u001b[0;34m=\u001b[0m \u001b[0mself\u001b[0m\u001b[0;34m.\u001b[0m\u001b[0mn_jobs\u001b[0m\u001b[0;34m\u001b[0m\u001b[0m\n\u001b[1;32m    457\u001b[0m         X, y = check_X_y(X, y, accept_sparse=['csr', 'csc', 'coo'],\n\u001b[0;32m--> 458\u001b[0;31m                          y_numeric=True, multi_output=True)\n\u001b[0m\u001b[1;32m    459\u001b[0m \u001b[0;34m\u001b[0m\u001b[0m\n\u001b[1;32m    460\u001b[0m         \u001b[0;32mif\u001b[0m \u001b[0msample_weight\u001b[0m \u001b[0;32mis\u001b[0m \u001b[0;32mnot\u001b[0m \u001b[0;32mNone\u001b[0m \u001b[0;32mand\u001b[0m \u001b[0mnp\u001b[0m\u001b[0;34m.\u001b[0m\u001b[0matleast_1d\u001b[0m\u001b[0;34m(\u001b[0m\u001b[0msample_weight\u001b[0m\u001b[0;34m)\u001b[0m\u001b[0;34m.\u001b[0m\u001b[0mndim\u001b[0m \u001b[0;34m>\u001b[0m \u001b[0;36m1\u001b[0m\u001b[0;34m:\u001b[0m\u001b[0;34m\u001b[0m\u001b[0m\n",
      "\u001b[0;32m~/anaconda3/lib/python3.6/site-packages/sklearn/utils/validation.py\u001b[0m in \u001b[0;36mcheck_X_y\u001b[0;34m(X, y, accept_sparse, accept_large_sparse, dtype, order, copy, force_all_finite, ensure_2d, allow_nd, multi_output, ensure_min_samples, ensure_min_features, y_numeric, warn_on_dtype, estimator)\u001b[0m\n\u001b[1;32m    745\u001b[0m                     \u001b[0mensure_min_features\u001b[0m\u001b[0;34m=\u001b[0m\u001b[0mensure_min_features\u001b[0m\u001b[0;34m,\u001b[0m\u001b[0;34m\u001b[0m\u001b[0m\n\u001b[1;32m    746\u001b[0m                     \u001b[0mwarn_on_dtype\u001b[0m\u001b[0;34m=\u001b[0m\u001b[0mwarn_on_dtype\u001b[0m\u001b[0;34m,\u001b[0m\u001b[0;34m\u001b[0m\u001b[0m\n\u001b[0;32m--> 747\u001b[0;31m                     estimator=estimator)\n\u001b[0m\u001b[1;32m    748\u001b[0m     \u001b[0;32mif\u001b[0m \u001b[0mmulti_output\u001b[0m\u001b[0;34m:\u001b[0m\u001b[0;34m\u001b[0m\u001b[0m\n\u001b[1;32m    749\u001b[0m         y = check_array(y, 'csr', force_all_finite=True, ensure_2d=False,\n",
      "\u001b[0;32m~/anaconda3/lib/python3.6/site-packages/sklearn/utils/validation.py\u001b[0m in \u001b[0;36mcheck_array\u001b[0;34m(array, accept_sparse, accept_large_sparse, dtype, order, copy, force_all_finite, ensure_2d, allow_nd, ensure_min_samples, ensure_min_features, warn_on_dtype, estimator)\u001b[0m\n\u001b[1;32m    560\u001b[0m         \u001b[0;31m# make sure we actually converted to numeric:\u001b[0m\u001b[0;34m\u001b[0m\u001b[0;34m\u001b[0m\u001b[0m\n\u001b[1;32m    561\u001b[0m         \u001b[0;32mif\u001b[0m \u001b[0mdtype_numeric\u001b[0m \u001b[0;32mand\u001b[0m \u001b[0marray\u001b[0m\u001b[0;34m.\u001b[0m\u001b[0mdtype\u001b[0m\u001b[0;34m.\u001b[0m\u001b[0mkind\u001b[0m \u001b[0;34m==\u001b[0m \u001b[0;34m\"O\"\u001b[0m\u001b[0;34m:\u001b[0m\u001b[0;34m\u001b[0m\u001b[0m\n\u001b[0;32m--> 562\u001b[0;31m             \u001b[0marray\u001b[0m \u001b[0;34m=\u001b[0m \u001b[0marray\u001b[0m\u001b[0;34m.\u001b[0m\u001b[0mastype\u001b[0m\u001b[0;34m(\u001b[0m\u001b[0mnp\u001b[0m\u001b[0;34m.\u001b[0m\u001b[0mfloat64\u001b[0m\u001b[0;34m)\u001b[0m\u001b[0;34m\u001b[0m\u001b[0m\n\u001b[0m\u001b[1;32m    563\u001b[0m         \u001b[0;32mif\u001b[0m \u001b[0;32mnot\u001b[0m \u001b[0mallow_nd\u001b[0m \u001b[0;32mand\u001b[0m \u001b[0marray\u001b[0m\u001b[0;34m.\u001b[0m\u001b[0mndim\u001b[0m \u001b[0;34m>=\u001b[0m \u001b[0;36m3\u001b[0m\u001b[0;34m:\u001b[0m\u001b[0;34m\u001b[0m\u001b[0m\n\u001b[1;32m    564\u001b[0m             raise ValueError(\"Found array with dim %d. %s expected <= 2.\"\n",
      "\u001b[0;31mValueError\u001b[0m: could not convert string to float: '{Wifi,\"Free street parking\",Heating,\"Smoke detector\",\"Carbon monoxide detector\",\"First aid kit\",\"Fire extinguisher\",Essentials,Shampoo,\"Lock on bedroom door\",\"Hair dryer\",Iron,\"Laptop friendly workspace\",\"translation missing: en.hosting_amenity_49\",\"translation missing: en.hosting_amenity_50\",\"Self check-in\",Lockbox,\"Room-darkening shades\",\"Hot water\",\"Bed linens\",\"Extra pillows and blankets\",Microwave,\"Coffee maker\",Refrigerator,Dishwasher,\"Dishes and silverware\",\"Single level home\",\"BBQ grill\",\"Garden or backyard\",\"Luggage dropoff allowed\"}'"
     ]
    }
   ],
   "source": [
    "lr = LinearRegression()\n",
    "lr.fit(X_train, y_train)\n",
    "est = lr.predict(X_test)"
   ]
  },
  {
   "cell_type": "code",
   "execution_count": 41,
   "metadata": {},
   "outputs": [
    {
     "ename": "AttributeError",
     "evalue": "'numpy.ndarray' object has no attribute 'score'",
     "output_type": "error",
     "traceback": [
      "\u001b[0;31m---------------------------------------------------------------------------\u001b[0m",
      "\u001b[0;31mAttributeError\u001b[0m                            Traceback (most recent call last)",
      "\u001b[0;32m<ipython-input-41-3df451be46f5>\u001b[0m in \u001b[0;36m<module>\u001b[0;34m()\u001b[0m\n\u001b[0;32m----> 1\u001b[0;31m \u001b[0mprint\u001b[0m\u001b[0;34m(\u001b[0m\u001b[0;34m'Train R^2: '\u001b[0m\u001b[0;34m,\u001b[0m\u001b[0mest\u001b[0m\u001b[0;34m.\u001b[0m\u001b[0mscore\u001b[0m\u001b[0;34m(\u001b[0m\u001b[0mX_train\u001b[0m\u001b[0;34m,\u001b[0m \u001b[0my_train\u001b[0m\u001b[0;34m)\u001b[0m\u001b[0;34m)\u001b[0m\u001b[0;34m\u001b[0m\u001b[0m\n\u001b[0m\u001b[1;32m      2\u001b[0m print('Train SSE:', \n\u001b[1;32m      3\u001b[0m       mean_squared_error(y_train, est.predict(X_train)))\n\u001b[1;32m      4\u001b[0m \u001b[0mprint\u001b[0m\u001b[0;34m(\u001b[0m\u001b[0;34m'Test R^2: '\u001b[0m\u001b[0;34m,\u001b[0m \u001b[0mest\u001b[0m\u001b[0;34m.\u001b[0m\u001b[0mscore\u001b[0m\u001b[0;34m(\u001b[0m\u001b[0mX_test\u001b[0m\u001b[0;34m,\u001b[0m \u001b[0my_test\u001b[0m\u001b[0;34m)\u001b[0m\u001b[0;34m)\u001b[0m\u001b[0;34m\u001b[0m\u001b[0m\n\u001b[1;32m      5\u001b[0m print('Test SSE:', \n",
      "\u001b[0;31mAttributeError\u001b[0m: 'numpy.ndarray' object has no attribute 'score'"
     ]
    }
   ],
   "source": [
    "print('Train R^2: ',est.score(X_train, y_train))\n",
    "print('Train SSE:', \n",
    "      mean_squared_error(y_train, est.predict(X_train)))\n",
    "print('Test R^2: ', est.score(X_test, y_test))\n",
    "print('Test SSE:', \n",
    "      mean_squared_error(y_test, est.predict(X_test)))\n",
    "print('\\n')"
   ]
  },
  {
   "cell_type": "code",
   "execution_count": null,
   "metadata": {},
   "outputs": [],
   "source": [
    "est = LinearRegression()"
   ]
  },
  {
   "cell_type": "code",
   "execution_count": 42,
   "metadata": {},
   "outputs": [
    {
     "name": "stdout",
     "output_type": "stream",
     "text": [
      "Train R^2:  0.04528524538181633\n",
      "Train SSE: 6.069985057336242\n",
      "\n",
      "\n"
     ]
    }
   ],
   "source": [
    "est = LinearRegression()\n",
    "\n",
    "est.fit(X_train, y_train)\n",
    "print('Train R^2: ',est.score(X_test, y_test))\n",
    "print('Train SSE:', \n",
    "      mean_squared_error(y_train, est.predict(X_train)))\n",
    "print('\\n')"
   ]
  },
  {
   "cell_type": "code",
   "execution_count": 241,
   "metadata": {},
   "outputs": [],
   "source": [
    "X_train_2 = X_train['polarity']"
   ]
  },
  {
   "cell_type": "code",
   "execution_count": 276,
   "metadata": {},
   "outputs": [
    {
     "data": {
      "text/plain": [
       "97.20041780836185"
      ]
     },
     "execution_count": 276,
     "metadata": {},
     "output_type": "execute_result"
    }
   ],
   "source": [
    "est.predict(X_test).mean()"
   ]
  },
  {
   "cell_type": "code",
   "execution_count": 41,
   "metadata": {},
   "outputs": [],
   "source": [
    "from sklearn import metrics"
   ]
  },
  {
   "cell_type": "code",
   "execution_count": 280,
   "metadata": {},
   "outputs": [
    {
     "name": "stdout",
     "output_type": "stream",
     "text": [
      "MAE: 1.7037470389656493\n",
      "MSE: 5.796081148970666\n"
     ]
    }
   ],
   "source": [
    "print(f'MAE: {metrics.mean_absolute_error(y_test, est.predict(X_test))}')\n",
    "print(f'MSE: {metrics.mean_squared_error(y_test, est.predict(X_test))}')"
   ]
  },
  {
   "cell_type": "code",
   "execution_count": 283,
   "metadata": {},
   "outputs": [],
   "source": [
    "with open('backups/X_train.pickle', 'wb') as p:\n",
    "    pickle.dump(X_train, p)\n",
    "    \n",
    "with open('backups/y_train.pickle', 'wb') as p:\n",
    "    pickle.dump(y_train, p)\n",
    "    \n",
    "with open('backups/df3', 'wb') as p:\n",
    "    pickle.dump(df3, p)"
   ]
  },
  {
   "cell_type": "code",
   "execution_count": 43,
   "metadata": {},
   "outputs": [
    {
     "name": "stderr",
     "output_type": "stream",
     "text": [
      "/Users/brenner/anaconda3/lib/python3.6/site-packages/sklearn/preprocessing/data.py:617: DataConversionWarning: Data with input dtype uint8, int64, float64 were all converted to float64 by StandardScaler.\n",
      "  return self.partial_fit(X, y)\n",
      "/Users/brenner/anaconda3/lib/python3.6/site-packages/sklearn/base.py:465: DataConversionWarning: Data with input dtype uint8, int64, float64 were all converted to float64 by StandardScaler.\n",
      "  return self.fit(X, y, **fit_params).transform(X)\n"
     ]
    },
    {
     "data": {
      "text/plain": [
       "Pipeline(memory=None,\n",
       "     steps=[('standardscaler', StandardScaler(copy=True, with_mean=True, with_std=True)), ('linearregression', LinearRegression(copy_X=True, fit_intercept=True, n_jobs=None,\n",
       "         normalize=False))])"
      ]
     },
     "execution_count": 43,
     "metadata": {},
     "output_type": "execute_result"
    }
   ],
   "source": [
    "est = make_pipeline(StandardScaler(), LinearRegression())\n",
    "est.fit(X_train, y_train)"
   ]
  },
  {
   "cell_type": "code",
   "execution_count": 44,
   "metadata": {},
   "outputs": [
    {
     "name": "stderr",
     "output_type": "stream",
     "text": [
      "/Users/brenner/anaconda3/lib/python3.6/site-packages/sklearn/pipeline.py:331: DataConversionWarning: Data with input dtype uint8, int64, float64 were all converted to float64 by StandardScaler.\n",
      "  Xt = transform.transform(Xt)\n"
     ]
    }
   ],
   "source": [
    "pred = est.predict(X_test)"
   ]
  },
  {
   "cell_type": "code",
   "execution_count": 45,
   "metadata": {},
   "outputs": [
    {
     "name": "stderr",
     "output_type": "stream",
     "text": [
      "/Users/brenner/anaconda3/lib/python3.6/site-packages/sklearn/pipeline.py:511: DataConversionWarning: Data with input dtype uint8, int64, float64 were all converted to float64 by StandardScaler.\n",
      "  Xt = transform.transform(Xt)\n",
      "/Users/brenner/anaconda3/lib/python3.6/site-packages/sklearn/pipeline.py:331: DataConversionWarning: Data with input dtype uint8, int64, float64 were all converted to float64 by StandardScaler.\n",
      "  Xt = transform.transform(Xt)\n",
      "/Users/brenner/anaconda3/lib/python3.6/site-packages/sklearn/pipeline.py:511: DataConversionWarning: Data with input dtype uint8, int64, float64 were all converted to float64 by StandardScaler.\n",
      "  Xt = transform.transform(Xt)\n",
      "/Users/brenner/anaconda3/lib/python3.6/site-packages/sklearn/pipeline.py:331: DataConversionWarning: Data with input dtype uint8, int64, float64 were all converted to float64 by StandardScaler.\n",
      "  Xt = transform.transform(Xt)\n"
     ]
    },
    {
     "name": "stdout",
     "output_type": "stream",
     "text": [
      "Train R^2:  0.046436573184035046\n",
      "Train SSE: 6.07014046035946\n",
      "Test R^2:  0.04527630046334152\n",
      "Test SSE: 6.030372624926767\n",
      "\n",
      "\n"
     ]
    }
   ],
   "source": [
    "print('Train R^2: ',est.score(X_train, y_train))\n",
    "print('Train SSE:', \n",
    "      mean_squared_error(y_train, est.predict(X_train)))\n",
    "print('Test R^2: ', est.score(X_test, y_test))\n",
    "print('Test SSE:', \n",
    "      mean_squared_error(y_test, est.predict(X_test)))\n",
    "print('\\n')"
   ]
  },
  {
   "cell_type": "code",
   "execution_count": 46,
   "metadata": {},
   "outputs": [
    {
     "data": {
      "text/plain": [
       "array([97.56934545, 96.67090795, 97.11451147, ..., 97.52295873,\n",
       "       97.07276342, 96.75879858])"
      ]
     },
     "execution_count": 46,
     "metadata": {},
     "output_type": "execute_result"
    }
   ],
   "source": [
    "pred"
   ]
  },
  {
   "cell_type": "code",
   "execution_count": 47,
   "metadata": {},
   "outputs": [
    {
     "data": {
      "text/plain": [
       "174924     98.0\n",
       "110176     99.0\n",
       "282007     91.0\n",
       "205220     99.0\n",
       "73280      97.0\n",
       "22379      97.0\n",
       "163828     98.0\n",
       "208191    100.0\n",
       "188573     99.0\n",
       "85316      96.0\n",
       "138272     92.0\n",
       "30162      95.0\n",
       "190185     99.0\n",
       "63215      92.0\n",
       "47050      97.0\n",
       "          ...  \n",
       "68852      98.0\n",
       "43624      98.0\n",
       "288672     99.0\n",
       "198674     98.0\n",
       "182223     82.0\n",
       "92230      97.0\n",
       "143296     99.0\n",
       "58655      99.0\n",
       "216254     93.0\n",
       "115457     98.0\n",
       "125295     99.0\n",
       "268936     99.0\n",
       "137663     99.0\n",
       "153001     99.0\n",
       "127494     96.0\n",
       "Name: review_scores_rating, Length: 204734, dtype: float64"
      ]
     },
     "execution_count": 47,
     "metadata": {},
     "output_type": "execute_result"
    }
   ],
   "source": [
    "y_train"
   ]
  },
  {
   "cell_type": "code",
   "execution_count": 50,
   "metadata": {},
   "outputs": [],
   "source": [
    "def quick_test(model, X, y):\n",
    "    xtrain, xtest, ytrain, ytest = train_test_split(X, y, test_size=0.3)\n",
    "    model.fit(xtrain, ytrain)\n",
    "    return model.score(xtrain,ytrain),model.score(xtest, ytest)\n",
    "\n",
    "\n",
    "def quick_test_a_few_times(model, X, y, n=10):\n",
    "    return (pd.DataFrame([quick_test(model, X, y) for j in range(n)],\n",
    "                         columns=['Train Acc','Test Acc'])).mean()\n",
    "\n",
    "# new_model = make_pipeline(StandardScaler(), LinearSVC(max_iter=10000))\n",
    "# # pred = new_model.predict(X_test)\n",
    "# # Do the test 10 times with a LinearSVC and get the average score\n",
    "# print(quick_test_a_few_times(new_model, X_train, y_train))"
   ]
  },
  {
   "cell_type": "code",
   "execution_count": 55,
   "metadata": {},
   "outputs": [],
   "source": [
    "def get_scores(model):\n",
    "    mod = model\n",
    "    mod = mod.fit(X_train, y_train)\n",
    "    predictions = mod.predict(X_test)\n",
    "    # quick_test_a_few_times(decisiontree, X_train, y_train)\n",
    "\n",
    "    print(f'Train accuracy: {mod.score(X_train, y_train)}')\n",
    "    print(f'Test accuracy: {mod.score(X_test, y_test)}')\n",
    "    print(f'Precision: {precision_score(y_test, predictions)}')\n",
    "    print(f'Recall: {recall_score(y_test, predictions)}')\n",
    "    print('\\n')\n",
    "    print(classification_report(y_test, predictions))"
   ]
  },
  {
   "cell_type": "code",
   "execution_count": 42,
   "metadata": {},
   "outputs": [],
   "source": [
    "from sklearn.svm import SVR\n",
    "from sklearn.tree import DecisionTreeRegressor\n",
    "from sklearn.metrics import roc_auc_score, roc_curve, classification_report, confusion_matrix, precision_score, recall_score\n",
    "from sklearn.ensemble import GradientBoostingRegressor"
   ]
  },
  {
   "cell_type": "code",
   "execution_count": 58,
   "metadata": {},
   "outputs": [
    {
     "name": "stderr",
     "output_type": "stream",
     "text": [
      "/Users/brenner/anaconda3/lib/python3.6/site-packages/sklearn/preprocessing/data.py:617: DataConversionWarning: Data with input dtype uint8, int64, float64 were all converted to float64 by StandardScaler.\n",
      "  return self.partial_fit(X, y)\n",
      "/Users/brenner/anaconda3/lib/python3.6/site-packages/sklearn/base.py:465: DataConversionWarning: Data with input dtype uint8, int64, float64 were all converted to float64 by StandardScaler.\n",
      "  return self.fit(X, y, **fit_params).transform(X)\n",
      "/Users/brenner/anaconda3/lib/python3.6/site-packages/sklearn/pipeline.py:331: DataConversionWarning: Data with input dtype uint8, int64, float64 were all converted to float64 by StandardScaler.\n",
      "  Xt = transform.transform(Xt)\n",
      "/Users/brenner/anaconda3/lib/python3.6/site-packages/sklearn/pipeline.py:511: DataConversionWarning: Data with input dtype uint8, int64, float64 were all converted to float64 by StandardScaler.\n",
      "  Xt = transform.transform(Xt)\n"
     ]
    },
    {
     "name": "stdout",
     "output_type": "stream",
     "text": [
      "Train accuracy: 1.0\n",
      "Test accuracy: -0.1368617688030913\n"
     ]
    },
    {
     "name": "stderr",
     "output_type": "stream",
     "text": [
      "/Users/brenner/anaconda3/lib/python3.6/site-packages/sklearn/pipeline.py:511: DataConversionWarning: Data with input dtype uint8, int64, float64 were all converted to float64 by StandardScaler.\n",
      "  Xt = transform.transform(Xt)\n"
     ]
    },
    {
     "ename": "ValueError",
     "evalue": "Target is multiclass but average='binary'. Please choose another average setting.",
     "output_type": "error",
     "traceback": [
      "\u001b[0;31m---------------------------------------------------------------------------\u001b[0m",
      "\u001b[0;31mValueError\u001b[0m                                Traceback (most recent call last)",
      "\u001b[0;32m<ipython-input-58-e9c4b1866e82>\u001b[0m in \u001b[0;36m<module>\u001b[0;34m()\u001b[0m\n\u001b[0;32m----> 1\u001b[0;31m \u001b[0mget_scores\u001b[0m\u001b[0;34m(\u001b[0m\u001b[0mmodel\u001b[0m\u001b[0;34m)\u001b[0m\u001b[0;34m\u001b[0m\u001b[0m\n\u001b[0m",
      "\u001b[0;32m<ipython-input-55-5d307c9c36ea>\u001b[0m in \u001b[0;36mget_scores\u001b[0;34m(model)\u001b[0m\n\u001b[1;32m      7\u001b[0m     \u001b[0mprint\u001b[0m\u001b[0;34m(\u001b[0m\u001b[0;34mf'Train accuracy: {mod.score(X_train, y_train)}'\u001b[0m\u001b[0;34m)\u001b[0m\u001b[0;34m\u001b[0m\u001b[0m\n\u001b[1;32m      8\u001b[0m     \u001b[0mprint\u001b[0m\u001b[0;34m(\u001b[0m\u001b[0;34mf'Test accuracy: {mod.score(X_test, y_test)}'\u001b[0m\u001b[0;34m)\u001b[0m\u001b[0;34m\u001b[0m\u001b[0m\n\u001b[0;32m----> 9\u001b[0;31m     \u001b[0mprint\u001b[0m\u001b[0;34m(\u001b[0m\u001b[0;34mf'Precision: {precision_score(y_test, predictions)}'\u001b[0m\u001b[0;34m)\u001b[0m\u001b[0;34m\u001b[0m\u001b[0m\n\u001b[0m\u001b[1;32m     10\u001b[0m     \u001b[0mprint\u001b[0m\u001b[0;34m(\u001b[0m\u001b[0;34mf'Recall: {recall_score(y_test, predictions)}'\u001b[0m\u001b[0;34m)\u001b[0m\u001b[0;34m\u001b[0m\u001b[0m\n\u001b[1;32m     11\u001b[0m     \u001b[0mprint\u001b[0m\u001b[0;34m(\u001b[0m\u001b[0;34m'\\n'\u001b[0m\u001b[0;34m)\u001b[0m\u001b[0;34m\u001b[0m\u001b[0m\n",
      "\u001b[0;32m~/anaconda3/lib/python3.6/site-packages/sklearn/metrics/classification.py\u001b[0m in \u001b[0;36mprecision_score\u001b[0;34m(y_true, y_pred, labels, pos_label, average, sample_weight)\u001b[0m\n\u001b[1;32m   1267\u001b[0m                                                  \u001b[0maverage\u001b[0m\u001b[0;34m=\u001b[0m\u001b[0maverage\u001b[0m\u001b[0;34m,\u001b[0m\u001b[0;34m\u001b[0m\u001b[0m\n\u001b[1;32m   1268\u001b[0m                                                  \u001b[0mwarn_for\u001b[0m\u001b[0;34m=\u001b[0m\u001b[0;34m(\u001b[0m\u001b[0;34m'precision'\u001b[0m\u001b[0;34m,\u001b[0m\u001b[0;34m)\u001b[0m\u001b[0;34m,\u001b[0m\u001b[0;34m\u001b[0m\u001b[0m\n\u001b[0;32m-> 1269\u001b[0;31m                                                  sample_weight=sample_weight)\n\u001b[0m\u001b[1;32m   1270\u001b[0m     \u001b[0;32mreturn\u001b[0m \u001b[0mp\u001b[0m\u001b[0;34m\u001b[0m\u001b[0m\n\u001b[1;32m   1271\u001b[0m \u001b[0;34m\u001b[0m\u001b[0m\n",
      "\u001b[0;32m~/anaconda3/lib/python3.6/site-packages/sklearn/metrics/classification.py\u001b[0m in \u001b[0;36mprecision_recall_fscore_support\u001b[0;34m(y_true, y_pred, beta, labels, pos_label, average, warn_for, sample_weight)\u001b[0m\n\u001b[1;32m   1045\u001b[0m         \u001b[0;32melse\u001b[0m\u001b[0;34m:\u001b[0m\u001b[0;34m\u001b[0m\u001b[0m\n\u001b[1;32m   1046\u001b[0m             raise ValueError(\"Target is %s but average='binary'. Please \"\n\u001b[0;32m-> 1047\u001b[0;31m                              \"choose another average setting.\" % y_type)\n\u001b[0m\u001b[1;32m   1048\u001b[0m     \u001b[0;32melif\u001b[0m \u001b[0mpos_label\u001b[0m \u001b[0;32mnot\u001b[0m \u001b[0;32min\u001b[0m \u001b[0;34m(\u001b[0m\u001b[0;32mNone\u001b[0m\u001b[0;34m,\u001b[0m \u001b[0;36m1\u001b[0m\u001b[0;34m)\u001b[0m\u001b[0;34m:\u001b[0m\u001b[0;34m\u001b[0m\u001b[0m\n\u001b[1;32m   1049\u001b[0m         warnings.warn(\"Note that pos_label (set to %r) is ignored when \"\n",
      "\u001b[0;31mValueError\u001b[0m: Target is multiclass but average='binary'. Please choose another average setting."
     ]
    }
   ],
   "source": [
    "get_scores(model)"
   ]
  },
  {
   "cell_type": "code",
   "execution_count": 63,
   "metadata": {},
   "outputs": [
    {
     "name": "stderr",
     "output_type": "stream",
     "text": [
      "/Users/brenner/anaconda3/lib/python3.6/site-packages/sklearn/preprocessing/data.py:617: DataConversionWarning: Data with input dtype uint8, int64, float64 were all converted to float64 by StandardScaler.\n",
      "  return self.partial_fit(X, y)\n",
      "/Users/brenner/anaconda3/lib/python3.6/site-packages/sklearn/base.py:465: DataConversionWarning: Data with input dtype uint8, int64, float64 were all converted to float64 by StandardScaler.\n",
      "  return self.fit(X, y, **fit_params).transform(X)\n",
      "/Users/brenner/anaconda3/lib/python3.6/site-packages/sklearn/pipeline.py:331: DataConversionWarning: Data with input dtype uint8, int64, float64 were all converted to float64 by StandardScaler.\n",
      "  Xt = transform.transform(Xt)\n"
     ]
    }
   ],
   "source": [
    "model = make_pipeline(StandardScaler(), GradientBoostingRegressor())\n",
    "model.fit(X_train, y_train)\n",
    "pred = model.predict(X_test)"
   ]
  },
  {
   "cell_type": "code",
   "execution_count": null,
   "metadata": {},
   "outputs": [],
   "source": [
    "import pprint\n",
    "pprint.pprint(list_of_coeffs)"
   ]
  },
  {
   "cell_type": "code",
   "execution_count": null,
   "metadata": {},
   "outputs": [],
   "source": [
    "list_of_coeffs = list(sorted(zip(coeffs, X.columns)))\n",
    "pprint.pprint(list_of_coeffs)"
   ]
  },
  {
   "cell_type": "code",
   "execution_count": null,
   "metadata": {},
   "outputs": [],
   "source": [
    "s2 = LinearSVC()\n",
    "s2.fit(X_train, y_train)\n",
    "s2.coef_ # the absolute value dictates importance"
   ]
  },
  {
   "cell_type": "code",
   "execution_count": 71,
   "metadata": {},
   "outputs": [
    {
     "name": "stderr",
     "output_type": "stream",
     "text": [
      "/Users/brenner/anaconda3/lib/python3.6/site-packages/sklearn/pipeline.py:331: DataConversionWarning: Data with input dtype uint8, int64, float64 were all converted to float64 by StandardScaler.\n",
      "  Xt = transform.transform(Xt)\n",
      "/Users/brenner/anaconda3/lib/python3.6/site-packages/sklearn/pipeline.py:511: DataConversionWarning: Data with input dtype uint8, int64, float64 were all converted to float64 by StandardScaler.\n",
      "  Xt = transform.transform(Xt)\n"
     ]
    },
    {
     "name": "stdout",
     "output_type": "stream",
     "text": [
      "Train accuracy: 0.13410469226577104\n"
     ]
    },
    {
     "name": "stderr",
     "output_type": "stream",
     "text": [
      "/Users/brenner/anaconda3/lib/python3.6/site-packages/sklearn/pipeline.py:511: DataConversionWarning: Data with input dtype uint8, int64, float64 were all converted to float64 by StandardScaler.\n",
      "  Xt = transform.transform(Xt)\n"
     ]
    },
    {
     "name": "stdout",
     "output_type": "stream",
     "text": [
      "Test accuracy: 0.12584934455459584\n",
      "\n",
      "\n"
     ]
    }
   ],
   "source": [
    "    predictions = model.predict(X_test)\n",
    "    # quick_test_a_few_times(decisiontree, X_train, y_train)\n",
    "\n",
    "    print(f'Train accuracy: {model.score(X_train, y_train)}')\n",
    "    print(f'Test accuracy: {model.score(X_test, y_test)}')\n",
    "    print('\\n')"
   ]
  },
  {
   "cell_type": "code",
   "execution_count": null,
   "metadata": {},
   "outputs": [],
   "source": []
  },
  {
   "cell_type": "code",
   "execution_count": null,
   "metadata": {},
   "outputs": [
    {
     "name": "stderr",
     "output_type": "stream",
     "text": [
      "/Users/brenner/anaconda3/lib/python3.6/site-packages/sklearn/preprocessing/data.py:617: DataConversionWarning: Data with input dtype uint8, int64, float64 were all converted to float64 by StandardScaler.\n",
      "  return self.partial_fit(X, y)\n",
      "/Users/brenner/anaconda3/lib/python3.6/site-packages/sklearn/base.py:465: DataConversionWarning: Data with input dtype uint8, int64, float64 were all converted to float64 by StandardScaler.\n",
      "  return self.fit(X, y, **fit_params).transform(X)\n"
     ]
    }
   ],
   "source": [
    "model = make_pipeline(StandardScaler(), SVR(kernel='rbf'))\n",
    "model.fit(X_train, y_train)\n",
    "# pred = model.predict(X_test)"
   ]
  },
  {
   "cell_type": "code",
   "execution_count": null,
   "metadata": {},
   "outputs": [],
   "source": []
  },
  {
   "cell_type": "code",
   "execution_count": null,
   "metadata": {},
   "outputs": [],
   "source": []
  },
  {
   "cell_type": "code",
   "execution_count": 37,
   "metadata": {},
   "outputs": [
    {
     "name": "stderr",
     "output_type": "stream",
     "text": [
      "/Users/brenner/anaconda3/lib/python3.6/site-packages/sklearn/preprocessing/data.py:617: DataConversionWarning: Data with input dtype uint8, int64, float64 were all converted to float64 by StandardScaler.\n",
      "  return self.partial_fit(X, y)\n",
      "/Users/brenner/anaconda3/lib/python3.6/site-packages/sklearn/base.py:465: DataConversionWarning: Data with input dtype uint8, int64, float64 were all converted to float64 by StandardScaler.\n",
      "  return self.fit(X, y, **fit_params).transform(X)\n"
     ]
    },
    {
     "data": {
      "text/plain": [
       "Pipeline(memory=None,\n",
       "     steps=[('standardscaler', StandardScaler(copy=True, with_mean=True, with_std=True)), ('linearregression', LinearRegression(copy_X=True, fit_intercept=True, n_jobs=None,\n",
       "         normalize=False))])"
      ]
     },
     "execution_count": 37,
     "metadata": {},
     "output_type": "execute_result"
    }
   ],
   "source": [
    "model = make_pipeline(StandardScaler(), LinearRegression())\n",
    "model.fit(X_train, y_train)"
   ]
  },
  {
   "cell_type": "code",
   "execution_count": 38,
   "metadata": {},
   "outputs": [
    {
     "name": "stderr",
     "output_type": "stream",
     "text": [
      "/Users/brenner/anaconda3/lib/python3.6/site-packages/sklearn/pipeline.py:511: DataConversionWarning: Data with input dtype uint8, int64, float64 were all converted to float64 by StandardScaler.\n",
      "  Xt = transform.transform(Xt)\n"
     ]
    },
    {
     "name": "stdout",
     "output_type": "stream",
     "text": [
      "Train accuracy: 0.09727831023431334\n",
      "Test accuracy: 0.09714727252628486\n"
     ]
    },
    {
     "name": "stderr",
     "output_type": "stream",
     "text": [
      "/Users/brenner/anaconda3/lib/python3.6/site-packages/sklearn/pipeline.py:511: DataConversionWarning: Data with input dtype uint8, int64, float64 were all converted to float64 by StandardScaler.\n",
      "  Xt = transform.transform(Xt)\n"
     ]
    }
   ],
   "source": [
    "    print(f'Train accuracy: {model.score(X_train, y_train)}')\n",
    "    print(f'Test accuracy: {model.score(X_test, y_test)}')"
   ]
  },
  {
   "cell_type": "code",
   "execution_count": 43,
   "metadata": {},
   "outputs": [
    {
     "name": "stderr",
     "output_type": "stream",
     "text": [
      "/Users/brenner/anaconda3/lib/python3.6/site-packages/sklearn/preprocessing/data.py:617: DataConversionWarning: Data with input dtype uint8, int64, float64 were all converted to float64 by StandardScaler.\n",
      "  return self.partial_fit(X, y)\n",
      "/Users/brenner/anaconda3/lib/python3.6/site-packages/sklearn/base.py:465: DataConversionWarning: Data with input dtype uint8, int64, float64 were all converted to float64 by StandardScaler.\n",
      "  return self.fit(X, y, **fit_params).transform(X)\n",
      "/Users/brenner/anaconda3/lib/python3.6/site-packages/sklearn/pipeline.py:511: DataConversionWarning: Data with input dtype uint8, int64, float64 were all converted to float64 by StandardScaler.\n",
      "  Xt = transform.transform(Xt)\n"
     ]
    },
    {
     "name": "stdout",
     "output_type": "stream",
     "text": [
      "Train accuracy: 0.9714657875667823\n"
     ]
    },
    {
     "name": "stderr",
     "output_type": "stream",
     "text": [
      "/Users/brenner/anaconda3/lib/python3.6/site-packages/sklearn/pipeline.py:511: DataConversionWarning: Data with input dtype uint8, int64, float64 were all converted to float64 by StandardScaler.\n",
      "  Xt = transform.transform(Xt)\n"
     ]
    },
    {
     "name": "stdout",
     "output_type": "stream",
     "text": [
      "Test accuracy: 0.9775711429687329\n"
     ]
    }
   ],
   "source": [
    "model = make_pipeline(StandardScaler(), GradientBoostingRegressor())\n",
    "model.fit(X_train, y_train)\n",
    "print(f'Train accuracy: {model.score(X_train, y_train)}')\n",
    "print(f'Test accuracy: {model.score(X_test, y_test)}')"
   ]
  },
  {
   "cell_type": "code",
   "execution_count": 49,
   "metadata": {},
   "outputs": [
    {
     "data": {
      "text/plain": [
       "Index(['host_listings_count', 'host_total_listings_count', 'latitude',\n",
       "       'longitude', 'accommodates', 'bathrooms', 'bedrooms', 'beds',\n",
       "       'guests_included', 'number_of_reviews',\n",
       "       ...\n",
       "       'amenities_washer', 'amenities_refrigerator',\n",
       "       'amenities_air_conditioning', 'amenities_family_kid_friendly',\n",
       "       'amenities_private_entrance', 'amenities_indoor_fireplace',\n",
       "       'amenities_patio_or_balcony', 'amenities_cable_tv',\n",
       "       'amenities_24_hour_check_in', 'amenities_bathtub'],\n",
       "      dtype='object', length=183)"
      ]
     },
     "execution_count": 49,
     "metadata": {},
     "output_type": "execute_result"
    }
   ],
   "source": []
  },
  {
   "cell_type": "code",
   "execution_count": 55,
   "metadata": {},
   "outputs": [
    {
     "data": {
      "text/plain": [
       "(array([   80.,   522.,   270.,  3830.,  5818., 12721., 25271., 19674.,\n",
       "        35074., 30621., 28137., 28030., 26899., 16171.,  8644., 14478.,\n",
       "        11340.,  3217.,  7992.,  1975.,  2329.,  3437.,  1825.,  1617.,\n",
       "         4292.]),\n",
       " array([  0.,   8.,  16.,  24.,  32.,  40.,  48.,  56.,  64.,  72.,  80.,\n",
       "         88.,  96., 104., 112., 120., 128., 136., 144., 152., 160., 168.,\n",
       "        176., 184., 192., 200.]),\n",
       " <a list of 25 Patch objects>)"
      ]
     },
     "execution_count": 55,
     "metadata": {},
     "output_type": "execute_result"
    },
    {
     "data": {
      "image/png": "[encoded data removed]",
      "text/plain": [
       "<Figure size 432x288 with 1 Axes>"
      ]
     },
     "metadata": {},
     "output_type": "display_data"
    }
   ],
   "source": [
    "plt.hist(df3['price'], range=(0,200), bins=25)"
   ]
  },
  {
   "cell_type": "code",
   "execution_count": 57,
   "metadata": {},
   "outputs": [
    {
     "data": {
      "text/plain": [
       "(array([1.2500e+02, 3.7000e+02, 2.8300e+02, 1.5500e+02, 7.6000e+01,\n",
       "        3.9400e+02, 2.6500e+02, 3.2100e+02, 7.6300e+02, 1.1850e+03,\n",
       "        2.5800e+03, 3.0110e+03, 5.6780e+03, 6.5370e+03, 1.3945e+04,\n",
       "        1.7967e+04, 3.1370e+04, 4.8582e+04, 6.6245e+04, 1.0553e+05]),\n",
       " array([ 80.,  81.,  82.,  83.,  84.,  85.,  86.,  87.,  88.,  89.,  90.,\n",
       "         91.,  92.,  93.,  94.,  95.,  96.,  97.,  98.,  99., 100.]),\n",
       " <a list of 20 Patch objects>)"
      ]
     },
     "execution_count": 57,
     "metadata": {},
     "output_type": "execute_result"
    },
    {
     "data": {
      "image/png": "[encoded data removed]",
      "text/plain": [
       "<Figure size 432x288 with 1 Axes>"
      ]
     },
     "metadata": {},
     "output_type": "display_data"
    }
   ],
   "source": [
    "plt.hist(df3['review_scores_rating'], range=(80,100), bins=20)"
   ]
  },
  {
   "cell_type": "code",
   "execution_count": 62,
   "metadata": {},
   "outputs": [
    {
     "data": {
      "text/plain": [
       "GradientBoostingRegressor(alpha=0.9, criterion='friedman_mse', init=None,\n",
       "             learning_rate=0.1, loss='ls', max_depth=3, max_features=None,\n",
       "             max_leaf_nodes=None, min_impurity_decrease=0.0,\n",
       "             min_impurity_split=None, min_samples_leaf=1,\n",
       "             min_samples_split=2, min_weight_fraction_leaf=0.0,\n",
       "             n_estimators=100, n_iter_no_change=None, presort='auto',\n",
       "             random_state=None, subsample=1.0, tol=0.0001,\n",
       "             validation_fraction=0.1, verbose=0, warm_start=False)"
      ]
     },
     "execution_count": 62,
     "metadata": {},
     "output_type": "execute_result"
    }
   ],
   "source": [
    "model.steps[1][1]"
   ]
  },
  {
   "cell_type": "code",
   "execution_count": 52,
   "metadata": {},
   "outputs": [
    {
     "data": {
      "text/plain": [
       "[(0.44109506688092603, 'latitude'),\n",
       " (0.17532148162784578, 'room_type_Entire home/apt'),\n",
       " (0.12516394286589846, 'number_of_reviews'),\n",
       " (0.07663280753128292, 'property_type_Loft'),\n",
       " (0.06310344104832985, 'neighbourhood_Richmond'),\n",
       " (0.04937136131897647, 'longitude'),\n",
       " (0.030191212511981844, 'bedrooms'),\n",
       " (0.015337912249981989, 'room_type_Private room'),\n",
       " (0.006059423132137886, 'bathrooms'),\n",
       " (0.005673982870587622, 'accommodates'),\n",
       " (0.0024059130408432454, 'neighbourhood_Old Town/Chinatown'),\n",
       " (0.0015516446640827966, 'reviews_per_month'),\n",
       " (0.0013452466350622032, 'guests_included'),\n",
       " (0.0012243630063106345, 'host_total_listings_count'),\n",
       " (0.0009186008397789174, 'neighbourhood_Northwest District'),\n",
       " (0.0008285952876562317, 'review_scores_rating'),\n",
       " (0.000782728586903674, 'beds'),\n",
       " (0.000564072165413471, 'neighbourhood_Pearl'),\n",
       " (0.0005025748542529757, 'host_listings_count'),\n",
       " (0.000308109109484551, 'neighbourhood_Southwest Hills'),\n",
       " (0.000251735527099812, 'review_scores_cleanliness'),\n",
       " (0.00021170292170533762, 'property_type_Guesthouse'),\n",
       " (0.00017316063930924254, 'review_scores_value'),\n",
       " (0.00015646949384899095, 'neighbourhood_Downtown'),\n",
       " (0.00013594825605767045, 'property_type_Houseboat'),\n",
       " (0.00012524483968086805, 'neighbourhood_Goose Hollow'),\n",
       " (8.882460119366843e-05, 'neighbourhood_Powellhurst-Gilbert'),\n",
       " (7.465014522704987e-05, 'neighbourhood_Forest Park'),\n",
       " (6.46967811763709e-05, 'neighbourhood_Mt. Tabor'),\n",
       " (5.923131932123457e-05, 'room_type_Shared room'),\n",
       " (3.6579182225933084e-05, 'property_type_Guest suite'),\n",
       " (3.5707478647332e-05, 'property_type_Farm stay'),\n",
       " (3.0834299671986665e-05, 'neighbourhood_Kerns'),\n",
       " (2.9429355907961186e-05, 'instant_bookable'),\n",
       " (1.9306472419672725e-05, 'neighbourhood_Hosford-Abernethy'),\n",
       " (1.6592828043831263e-05, 'review_scores_communication'),\n",
       " (1.625309989316965e-05, 'property_type_Townhouse'),\n",
       " (1.4677660244896042e-05, 'neighbourhood_Grant Park'),\n",
       " (9.632272795088843e-06, 'neighbourhood_Kenton'),\n",
       " (9.614082798245451e-06, 'property_type_Tiny house'),\n",
       " (9.194939780371836e-06, 'bed_type_Real Bed'),\n",
       " (8.329780771355393e-06, 'neighbourhood_Humboldt'),\n",
       " (8.13711105336422e-06, 'property_type_Apartment'),\n",
       " (7.119223607615165e-06, 'review_scores_location'),\n",
       " (6.934696995929359e-06, 'neighbourhood_Irvington'),\n",
       " (6.338315240348295e-06, 'neighbourhood_Bridgeton'),\n",
       " (4.9658833526428395e-06, 'neighbourhood_Hillsdale'),\n",
       " (4.818557288713275e-06, 'neighbourhood_Buckman'),\n",
       " (8.281922800458987e-07, 'review_scores_checkin'),\n",
       " (5.618146238633918e-07, 'property_type_Hut'),\n",
       " (0.0, 'word_count'),\n",
       " (0.0, 'subjectivity'),\n",
       " (0.0, 'review_scores_accuracy'),\n",
       " (0.0, 'review_length'),\n",
       " (0.0, 'property_type_Yurt'),\n",
       " (0.0, 'property_type_Villa'),\n",
       " (0.0, 'property_type_Treehouse'),\n",
       " (0.0, 'property_type_Tent'),\n",
       " (0.0, 'property_type_Serviced apartment'),\n",
       " (0.0, 'property_type_Other'),\n",
       " (0.0, 'property_type_In-law'),\n",
       " (0.0, 'property_type_House'),\n",
       " (0.0, 'property_type_Hostel'),\n",
       " (0.0, 'property_type_Earth house'),\n",
       " (0.0, 'property_type_Dome house'),\n",
       " (0.0, 'property_type_Cottage'),\n",
       " (0.0, 'property_type_Condominium'),\n",
       " (0.0, 'property_type_Camper/RV'),\n",
       " (0.0, 'property_type_Cabin'),\n",
       " (0.0, 'property_type_Bus'),\n",
       " (0.0, 'property_type_Bungalow'),\n",
       " (0.0, 'property_type_Boutique hotel'),\n",
       " (0.0, 'property_type_Boat'),\n",
       " (0.0, 'property_type_Bed and breakfast'),\n",
       " (0.0, 'polarity'),\n",
       " (0.0, 'num_sentences'),\n",
       " (0.0, 'neighbourhood_Woodstock'),\n",
       " (0.0, 'neighbourhood_Woodlawn'),\n",
       " (0.0, 'neighbourhood_Woodland Park'),\n",
       " (0.0, 'neighbourhood_Wilkes'),\n",
       " (0.0, 'neighbourhood_West Portland Park'),\n",
       " (0.0, 'neighbourhood_Vernon'),\n",
       " (0.0, 'neighbourhood_University Park'),\n",
       " (0.0, 'neighbourhood_Sylvan-Highlands'),\n",
       " (0.0, 'neighbourhood_Sunnyside'),\n",
       " (0.0, 'neighbourhood_Sunderland'),\n",
       " (0.0, 'neighbourhood_Sumner'),\n",
       " (0.0, \"neighbourhood_Sullivan's Gulch\"),\n",
       " (0.0, 'neighbourhood_St. Johns'),\n",
       " (0.0, 'neighbourhood_South Tabor'),\n",
       " (0.0, 'neighbourhood_South Portland'),\n",
       " (0.0, 'neighbourhood_South Burlingame'),\n",
       " (0.0, 'neighbourhood_Sellwood-Moreland'),\n",
       " (0.0, 'neighbourhood_Sabin'),\n",
       " (0.0, 'neighbourhood_Russell'),\n",
       " (0.0, 'neighbourhood_Roseway'),\n",
       " (0.0, 'neighbourhood_Rose City Park'),\n",
       " (0.0, 'neighbourhood_Reed'),\n",
       " (0.0, 'neighbourhood_Portsmouth'),\n",
       " (0.0, 'neighbourhood_Pleasant Valley'),\n",
       " (0.0, 'neighbourhood_Piedmont'),\n",
       " (0.0, 'neighbourhood_Parkrose Heights'),\n",
       " (0.0, 'neighbourhood_Parkrose'),\n",
       " (0.0, 'neighbourhood_Overlook'),\n",
       " (0.0, 'neighbourhood_N. Tabor'),\n",
       " (0.0, 'neighbourhood_Multnomah'),\n",
       " (0.0, 'neighbourhood_Mount Scott'),\n",
       " (0.0, 'neighbourhood_Montavilla'),\n",
       " (0.0, 'neighbourhood_Mill Park'),\n",
       " (0.0, 'neighbourhood_Marshall Park'),\n",
       " (0.0, 'neighbourhood_Markham'),\n",
       " (0.0, 'neighbourhood_Maplewood'),\n",
       " (0.0, 'neighbourhood_Madison South'),\n",
       " (0.0, 'neighbourhood_Lloyd District'),\n",
       " (0.0, 'neighbourhood_Lents'),\n",
       " (0.0, 'neighbourhood_Laurelhurst'),\n",
       " (0.0, 'neighbourhood_King'),\n",
       " (0.0, 'neighbourhood_Homestead'),\n",
       " (0.0, 'neighbourhood_Hollywood'),\n",
       " (0.0, 'neighbourhood_Hillside'),\n",
       " (0.0, 'neighbourhood_Hazelwood'),\n",
       " (0.0, 'neighbourhood_Hayhurst'),\n",
       " (0.0, 'neighbourhood_Hayden Island'),\n",
       " (0.0, 'neighbourhood_Glenfair'),\n",
       " (0.0, 'neighbourhood_Foster-Powell'),\n",
       " (0.0, 'neighbourhood_Far Southwest'),\n",
       " (0.0, 'neighbourhood_Eliot'),\n",
       " (0.0, 'neighbourhood_Eastmoreland'),\n",
       " (0.0, 'neighbourhood_East Columbia'),\n",
       " (0.0, 'neighbourhood_Cully'),\n",
       " (0.0, 'neighbourhood_Crestwood'),\n",
       " (0.0, 'neighbourhood_Creston-Kenilworth'),\n",
       " (0.0, 'neighbourhood_Concordia'),\n",
       " (0.0, 'neighbourhood_Collins View'),\n",
       " (0.0, 'neighbourhood_Cathedral Park'),\n",
       " (0.0, 'neighbourhood_Brooklyn'),\n",
       " (0.0, 'neighbourhood_Bridlemile'),\n",
       " (0.0, 'neighbourhood_Brentwood-Darlington'),\n",
       " (0.0, 'neighbourhood_Boise-Eliot'),\n",
       " (0.0, 'neighbourhood_Beaumont-Wilshire'),\n",
       " (0.0, 'neighbourhood_Ashcreek'),\n",
       " (0.0, 'neighbourhood_Arnold Creek'),\n",
       " (0.0, 'neighbourhood_Arlington Heights'),\n",
       " (0.0, 'neighbourhood_Argay'),\n",
       " (0.0, 'neighbourhood_Arbor Lodge'),\n",
       " (0.0, 'neighbourhood_Alameda'),\n",
       " (0.0, 'lda_9'),\n",
       " (0.0, 'lda_8'),\n",
       " (0.0, 'lda_7'),\n",
       " (0.0, 'lda_6'),\n",
       " (0.0, 'lda_5'),\n",
       " (0.0, 'lda_4'),\n",
       " (0.0, 'lda_3'),\n",
       " (0.0, 'lda_2'),\n",
       " (0.0, 'lda_10'),\n",
       " (0.0, 'lda_1'),\n",
       " (0.0, 'cluster_pred_7'),\n",
       " (0.0, 'cluster_pred_6'),\n",
       " (0.0, 'cluster_pred_5'),\n",
       " (0.0, 'cluster_pred_4'),\n",
       " (0.0, 'cluster_pred_3'),\n",
       " (0.0, 'cluster_pred_2'),\n",
       " (0.0, 'cluster_pred_1'),\n",
       " (0.0, 'cluster_pred_0'),\n",
       " (0.0, 'bed_type_Pull-out Sofa'),\n",
       " (0.0, 'bed_type_Futon'),\n",
       " (0.0, 'bed_type_Couch'),\n",
       " (0.0, 'bed_type_Airbed'),\n",
       " (0.0, 'average_word_length'),\n",
       " (0.0, 'amenities_washer'),\n",
       " (0.0, 'amenities_refrigerator'),\n",
       " (0.0, 'amenities_private_entrance'),\n",
       " (0.0, 'amenities_pets_allowed'),\n",
       " (0.0, 'amenities_patio_or_balcony'),\n",
       " (0.0, 'amenities_kitchen'),\n",
       " (0.0, 'amenities_indoor_fireplace'),\n",
       " (0.0, 'amenities_hot_tub'),\n",
       " (0.0, 'amenities_gym'),\n",
       " (0.0, 'amenities_family_kid_friendly'),\n",
       " (0.0, 'amenities_cable_tv'),\n",
       " (0.0, 'amenities_bathtub'),\n",
       " (0.0, 'amenities_air_conditioning'),\n",
       " (0.0, 'amenities_24_hour_check_in')]"
      ]
     },
     "execution_count": 52,
     "metadata": {},
     "output_type": "execute_result"
    }
   ],
   "source": [
    "sorted(list(zip(model.steps[1][1].feature_importances_, X.columns)), reverse=True)"
   ]
  },
  {
   "cell_type": "code",
   "execution_count": null,
   "metadata": {},
   "outputs": [],
   "source": []
  }
 ],
 "metadata": {
  "kernelspec": {
   "display_name": "Python 3",
   "language": "python",
   "name": "python3"
  },
  "language_info": {
   "codemirror_mode": {
    "name": "ipython",
    "version": 3
   },
   "file_extension": ".py",
   "mimetype": "text/x-python",
   "name": "python",
   "nbconvert_exporter": "python",
   "pygments_lexer": "ipython3",
   "version": "3.6.6"
  },
  "toc-showcode": true
 },
 "nbformat": 4,
 "nbformat_minor": 2
}
